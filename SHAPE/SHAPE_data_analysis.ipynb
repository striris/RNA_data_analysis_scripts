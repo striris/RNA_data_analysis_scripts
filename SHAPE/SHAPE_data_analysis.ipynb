{
 "cells": [
  {
   "cell_type": "code",
   "execution_count": 1,
   "id": "b739a093",
   "metadata": {},
   "outputs": [],
   "source": [
    "import pandas as pd"
   ]
  },
  {
   "cell_type": "code",
   "execution_count": 2,
   "id": "426ead0b",
   "metadata": {},
   "outputs": [
    {
     "data": {
      "text/html": [
       "<div>\n",
       "<style scoped>\n",
       "    .dataframe tbody tr th:only-of-type {\n",
       "        vertical-align: middle;\n",
       "    }\n",
       "\n",
       "    .dataframe tbody tr th {\n",
       "        vertical-align: top;\n",
       "    }\n",
       "\n",
       "    .dataframe thead th {\n",
       "        text-align: right;\n",
       "    }\n",
       "</style>\n",
       "<table border=\"1\" class=\"dataframe\">\n",
       "  <thead>\n",
       "    <tr style=\"text-align: right;\">\n",
       "      <th></th>\n",
       "      <th>mean</th>\n",
       "      <th>max</th>\n",
       "    </tr>\n",
       "  </thead>\n",
       "  <tbody>\n",
       "  </tbody>\n",
       "</table>\n",
       "</div>"
      ],
      "text/plain": [
       "Empty DataFrame\n",
       "Columns: [mean, max]\n",
       "Index: []"
      ]
     },
     "execution_count": 2,
     "metadata": {},
     "output_type": "execute_result"
    }
   ],
   "source": [
    "df = pd.DataFrame()\n",
    "df_all = pd.DataFrame()\n",
    "reads_info = pd.DataFrame(columns=['mean','max'])\n",
    "reads_info"
   ]
  },
  {
   "cell_type": "code",
   "execution_count": 3,
   "id": "05854640",
   "metadata": {},
   "outputs": [],
   "source": [
    "def extract_read_info(df):\n",
    "    return {'mean': df['reactivity'].mean(), 'max': df['reactivity'].max(), 'min': df['reactivity'].min(), 'count': df['reactivity'].count()}"
   ]
  },
  {
   "cell_type": "code",
   "execution_count": 4,
   "id": "de691bc0",
   "metadata": {},
   "outputs": [
    {
     "name": "stdout",
     "output_type": "stream",
     "text": [
      "the number of files:  274\n"
     ]
    }
   ],
   "source": [
    "#concatenate all the SHAPE files\n",
    "import os\n",
    "entries = os.scandir(r'C:\\Users\\irisx\\OneDrive\\Desktop\\AStar\\PDB_shape\\shape')\n",
    "i = 0\n",
    "for entry in entries:\n",
    "    df = pd.read_csv(entry, delimiter = \"\\t\", header=None, names=[\"index\", \"reactivity\"])\n",
    "    df_v = df[df['reactivity']!=-999]\n",
    "    reads_info = reads_info.append(extract_read_info(df_v), ignore_index=True)\n",
    "    df_all = pd.concat([df_all, df], ignore_index=True, sort=False)\n",
    "    i = i+1\n",
    "\n",
    "print('the number of files: ', i)"
   ]
  },
  {
   "cell_type": "code",
   "execution_count": 5,
   "id": "c2006af1",
   "metadata": {},
   "outputs": [
    {
     "data": {
      "text/html": [
       "<div>\n",
       "<style scoped>\n",
       "    .dataframe tbody tr th:only-of-type {\n",
       "        vertical-align: middle;\n",
       "    }\n",
       "\n",
       "    .dataframe tbody tr th {\n",
       "        vertical-align: top;\n",
       "    }\n",
       "\n",
       "    .dataframe thead th {\n",
       "        text-align: right;\n",
       "    }\n",
       "</style>\n",
       "<table border=\"1\" class=\"dataframe\">\n",
       "  <thead>\n",
       "    <tr style=\"text-align: right;\">\n",
       "      <th></th>\n",
       "      <th>mean</th>\n",
       "      <th>max</th>\n",
       "      <th>count</th>\n",
       "      <th>min</th>\n",
       "    </tr>\n",
       "  </thead>\n",
       "  <tbody>\n",
       "    <tr>\n",
       "      <th>0</th>\n",
       "      <td>0.539001</td>\n",
       "      <td>2.946678</td>\n",
       "      <td>72.0</td>\n",
       "      <td>-0.240080</td>\n",
       "    </tr>\n",
       "    <tr>\n",
       "      <th>1</th>\n",
       "      <td>0.749274</td>\n",
       "      <td>4.020329</td>\n",
       "      <td>55.0</td>\n",
       "      <td>-0.128231</td>\n",
       "    </tr>\n",
       "    <tr>\n",
       "      <th>2</th>\n",
       "      <td>0.480546</td>\n",
       "      <td>3.193697</td>\n",
       "      <td>117.0</td>\n",
       "      <td>-0.384507</td>\n",
       "    </tr>\n",
       "    <tr>\n",
       "      <th>3</th>\n",
       "      <td>0.319694</td>\n",
       "      <td>1.140891</td>\n",
       "      <td>52.0</td>\n",
       "      <td>-0.713761</td>\n",
       "    </tr>\n",
       "    <tr>\n",
       "      <th>4</th>\n",
       "      <td>0.352171</td>\n",
       "      <td>2.038399</td>\n",
       "      <td>54.0</td>\n",
       "      <td>-0.369564</td>\n",
       "    </tr>\n",
       "    <tr>\n",
       "      <th>...</th>\n",
       "      <td>...</td>\n",
       "      <td>...</td>\n",
       "      <td>...</td>\n",
       "      <td>...</td>\n",
       "    </tr>\n",
       "    <tr>\n",
       "      <th>269</th>\n",
       "      <td>0.352357</td>\n",
       "      <td>2.231179</td>\n",
       "      <td>172.0</td>\n",
       "      <td>-0.476119</td>\n",
       "    </tr>\n",
       "    <tr>\n",
       "      <th>270</th>\n",
       "      <td>0.360416</td>\n",
       "      <td>1.767223</td>\n",
       "      <td>78.0</td>\n",
       "      <td>-0.259441</td>\n",
       "    </tr>\n",
       "    <tr>\n",
       "      <th>271</th>\n",
       "      <td>0.494195</td>\n",
       "      <td>3.536694</td>\n",
       "      <td>116.0</td>\n",
       "      <td>-0.276612</td>\n",
       "    </tr>\n",
       "    <tr>\n",
       "      <th>272</th>\n",
       "      <td>0.577612</td>\n",
       "      <td>3.907844</td>\n",
       "      <td>149.0</td>\n",
       "      <td>-0.538354</td>\n",
       "    </tr>\n",
       "    <tr>\n",
       "      <th>273</th>\n",
       "      <td>0.570037</td>\n",
       "      <td>10.206042</td>\n",
       "      <td>100.0</td>\n",
       "      <td>-0.338495</td>\n",
       "    </tr>\n",
       "  </tbody>\n",
       "</table>\n",
       "<p>274 rows × 4 columns</p>\n",
       "</div>"
      ],
      "text/plain": [
       "         mean        max  count       min\n",
       "0    0.539001   2.946678   72.0 -0.240080\n",
       "1    0.749274   4.020329   55.0 -0.128231\n",
       "2    0.480546   3.193697  117.0 -0.384507\n",
       "3    0.319694   1.140891   52.0 -0.713761\n",
       "4    0.352171   2.038399   54.0 -0.369564\n",
       "..        ...        ...    ...       ...\n",
       "269  0.352357   2.231179  172.0 -0.476119\n",
       "270  0.360416   1.767223   78.0 -0.259441\n",
       "271  0.494195   3.536694  116.0 -0.276612\n",
       "272  0.577612   3.907844  149.0 -0.538354\n",
       "273  0.570037  10.206042  100.0 -0.338495\n",
       "\n",
       "[274 rows x 4 columns]"
      ]
     },
     "execution_count": 5,
     "metadata": {},
     "output_type": "execute_result"
    }
   ],
   "source": [
    "reads_info"
   ]
  },
  {
   "cell_type": "code",
   "execution_count": 6,
   "id": "e34ef8a3",
   "metadata": {},
   "outputs": [
    {
     "data": {
      "text/html": [
       "<div>\n",
       "<style scoped>\n",
       "    .dataframe tbody tr th:only-of-type {\n",
       "        vertical-align: middle;\n",
       "    }\n",
       "\n",
       "    .dataframe tbody tr th {\n",
       "        vertical-align: top;\n",
       "    }\n",
       "\n",
       "    .dataframe thead th {\n",
       "        text-align: right;\n",
       "    }\n",
       "</style>\n",
       "<table border=\"1\" class=\"dataframe\">\n",
       "  <thead>\n",
       "    <tr style=\"text-align: right;\">\n",
       "      <th></th>\n",
       "      <th>mean</th>\n",
       "      <th>max</th>\n",
       "      <th>count</th>\n",
       "      <th>min</th>\n",
       "    </tr>\n",
       "  </thead>\n",
       "  <tbody>\n",
       "    <tr>\n",
       "      <th>count</th>\n",
       "      <td>263.000000</td>\n",
       "      <td>263.000000</td>\n",
       "      <td>274.000000</td>\n",
       "      <td>263.000000</td>\n",
       "    </tr>\n",
       "    <tr>\n",
       "      <th>mean</th>\n",
       "      <td>0.480642</td>\n",
       "      <td>4.001451</td>\n",
       "      <td>93.138686</td>\n",
       "      <td>-0.475174</td>\n",
       "    </tr>\n",
       "    <tr>\n",
       "      <th>std</th>\n",
       "      <td>0.114595</td>\n",
       "      <td>2.118495</td>\n",
       "      <td>46.264993</td>\n",
       "      <td>0.452250</td>\n",
       "    </tr>\n",
       "    <tr>\n",
       "      <th>min</th>\n",
       "      <td>0.146207</td>\n",
       "      <td>1.140891</td>\n",
       "      <td>0.000000</td>\n",
       "      <td>-3.644525</td>\n",
       "    </tr>\n",
       "    <tr>\n",
       "      <th>25%</th>\n",
       "      <td>0.396064</td>\n",
       "      <td>2.672278</td>\n",
       "      <td>68.000000</td>\n",
       "      <td>-0.510811</td>\n",
       "    </tr>\n",
       "    <tr>\n",
       "      <th>50%</th>\n",
       "      <td>0.476546</td>\n",
       "      <td>3.503440</td>\n",
       "      <td>77.000000</td>\n",
       "      <td>-0.349252</td>\n",
       "    </tr>\n",
       "    <tr>\n",
       "      <th>75%</th>\n",
       "      <td>0.566645</td>\n",
       "      <td>4.598387</td>\n",
       "      <td>116.000000</td>\n",
       "      <td>-0.256707</td>\n",
       "    </tr>\n",
       "    <tr>\n",
       "      <th>max</th>\n",
       "      <td>0.755068</td>\n",
       "      <td>17.253573</td>\n",
       "      <td>266.000000</td>\n",
       "      <td>-0.071552</td>\n",
       "    </tr>\n",
       "  </tbody>\n",
       "</table>\n",
       "</div>"
      ],
      "text/plain": [
       "             mean         max       count         min\n",
       "count  263.000000  263.000000  274.000000  263.000000\n",
       "mean     0.480642    4.001451   93.138686   -0.475174\n",
       "std      0.114595    2.118495   46.264993    0.452250\n",
       "min      0.146207    1.140891    0.000000   -3.644525\n",
       "25%      0.396064    2.672278   68.000000   -0.510811\n",
       "50%      0.476546    3.503440   77.000000   -0.349252\n",
       "75%      0.566645    4.598387  116.000000   -0.256707\n",
       "max      0.755068   17.253573  266.000000   -0.071552"
      ]
     },
     "execution_count": 6,
     "metadata": {},
     "output_type": "execute_result"
    }
   ],
   "source": [
    "#the summary of reads records\n",
    "reads_info.describe()"
   ]
  },
  {
   "cell_type": "code",
   "execution_count": 7,
   "id": "07c23c58",
   "metadata": {},
   "outputs": [
    {
     "data": {
      "text/html": [
       "<div>\n",
       "<style scoped>\n",
       "    .dataframe tbody tr th:only-of-type {\n",
       "        vertical-align: middle;\n",
       "    }\n",
       "\n",
       "    .dataframe tbody tr th {\n",
       "        vertical-align: top;\n",
       "    }\n",
       "\n",
       "    .dataframe thead th {\n",
       "        text-align: right;\n",
       "    }\n",
       "</style>\n",
       "<table border=\"1\" class=\"dataframe\">\n",
       "  <thead>\n",
       "    <tr style=\"text-align: right;\">\n",
       "      <th></th>\n",
       "      <th>index</th>\n",
       "      <th>reactivity</th>\n",
       "    </tr>\n",
       "  </thead>\n",
       "  <tbody>\n",
       "    <tr>\n",
       "      <th>0</th>\n",
       "      <td>1</td>\n",
       "      <td>-999.000000</td>\n",
       "    </tr>\n",
       "    <tr>\n",
       "      <th>1</th>\n",
       "      <td>2</td>\n",
       "      <td>-999.000000</td>\n",
       "    </tr>\n",
       "    <tr>\n",
       "      <th>2</th>\n",
       "      <td>3</td>\n",
       "      <td>-0.044254</td>\n",
       "    </tr>\n",
       "    <tr>\n",
       "      <th>3</th>\n",
       "      <td>4</td>\n",
       "      <td>0.174412</td>\n",
       "    </tr>\n",
       "    <tr>\n",
       "      <th>4</th>\n",
       "      <td>5</td>\n",
       "      <td>0.028481</td>\n",
       "    </tr>\n",
       "    <tr>\n",
       "      <th>...</th>\n",
       "      <td>...</td>\n",
       "      <td>...</td>\n",
       "    </tr>\n",
       "    <tr>\n",
       "      <th>30426</th>\n",
       "      <td>99</td>\n",
       "      <td>0.175862</td>\n",
       "    </tr>\n",
       "    <tr>\n",
       "      <th>30427</th>\n",
       "      <td>100</td>\n",
       "      <td>0.269238</td>\n",
       "    </tr>\n",
       "    <tr>\n",
       "      <th>30428</th>\n",
       "      <td>101</td>\n",
       "      <td>0.101473</td>\n",
       "    </tr>\n",
       "    <tr>\n",
       "      <th>30429</th>\n",
       "      <td>102</td>\n",
       "      <td>-0.080410</td>\n",
       "    </tr>\n",
       "    <tr>\n",
       "      <th>30430</th>\n",
       "      <td>103</td>\n",
       "      <td>-999.000000</td>\n",
       "    </tr>\n",
       "  </tbody>\n",
       "</table>\n",
       "<p>30431 rows × 2 columns</p>\n",
       "</div>"
      ],
      "text/plain": [
       "       index  reactivity\n",
       "0          1 -999.000000\n",
       "1          2 -999.000000\n",
       "2          3   -0.044254\n",
       "3          4    0.174412\n",
       "4          5    0.028481\n",
       "...      ...         ...\n",
       "30426     99    0.175862\n",
       "30427    100    0.269238\n",
       "30428    101    0.101473\n",
       "30429    102   -0.080410\n",
       "30430    103 -999.000000\n",
       "\n",
       "[30431 rows x 2 columns]"
      ]
     },
     "execution_count": 7,
     "metadata": {},
     "output_type": "execute_result"
    }
   ],
   "source": [
    "df_all"
   ]
  },
  {
   "cell_type": "code",
   "execution_count": 8,
   "id": "53696265",
   "metadata": {},
   "outputs": [
    {
     "data": {
      "text/plain": [
       "False    25520\n",
       "True      4911\n",
       "Name: reactivity, dtype: int64"
      ]
     },
     "execution_count": 8,
     "metadata": {},
     "output_type": "execute_result"
    }
   ],
   "source": [
    "#count the number of -999s #cannot be determined\n",
    "(df_all['reactivity']==-999).value_counts()"
   ]
  },
  {
   "cell_type": "code",
   "execution_count": 9,
   "id": "a6ca6572",
   "metadata": {},
   "outputs": [
    {
     "data": {
      "text/plain": [
       "index         0.838619\n",
       "reactivity    0.838619\n",
       "dtype: float64"
      ]
     },
     "execution_count": 9,
     "metadata": {},
     "output_type": "execute_result"
    }
   ],
   "source": [
    "#count the percentage of valid data\n",
    "(df_all['reactivity']==-999).value_counts()[0]/df_all.count()"
   ]
  },
  {
   "cell_type": "code",
   "execution_count": 10,
   "id": "5e59708f",
   "metadata": {},
   "outputs": [
    {
     "data": {
      "text/plain": [
       "False    26319\n",
       "True      4112\n",
       "Name: reactivity, dtype: int64"
      ]
     },
     "execution_count": 10,
     "metadata": {},
     "output_type": "execute_result"
    }
   ],
   "source": [
    "#count the negative values, excluding -999\n",
    "((df_all['reactivity']<0) & (df_all['reactivity']!=-999)).value_counts()"
   ]
  },
  {
   "cell_type": "code",
   "execution_count": 11,
   "id": "9a360daa",
   "metadata": {},
   "outputs": [],
   "source": [
    "df_valid = df_all[df_all['reactivity']!=-999]"
   ]
  },
  {
   "cell_type": "code",
   "execution_count": 12,
   "id": "098e9553",
   "metadata": {},
   "outputs": [
    {
     "data": {
      "text/html": [
       "<div>\n",
       "<style scoped>\n",
       "    .dataframe tbody tr th:only-of-type {\n",
       "        vertical-align: middle;\n",
       "    }\n",
       "\n",
       "    .dataframe tbody tr th {\n",
       "        vertical-align: top;\n",
       "    }\n",
       "\n",
       "    .dataframe thead th {\n",
       "        text-align: right;\n",
       "    }\n",
       "</style>\n",
       "<table border=\"1\" class=\"dataframe\">\n",
       "  <thead>\n",
       "    <tr style=\"text-align: right;\">\n",
       "      <th></th>\n",
       "      <th>index</th>\n",
       "      <th>reactivity</th>\n",
       "    </tr>\n",
       "  </thead>\n",
       "  <tbody>\n",
       "    <tr>\n",
       "      <th>0</th>\n",
       "      <td>3</td>\n",
       "      <td>-0.044254</td>\n",
       "    </tr>\n",
       "    <tr>\n",
       "      <th>1</th>\n",
       "      <td>4</td>\n",
       "      <td>0.174412</td>\n",
       "    </tr>\n",
       "    <tr>\n",
       "      <th>2</th>\n",
       "      <td>5</td>\n",
       "      <td>0.028481</td>\n",
       "    </tr>\n",
       "    <tr>\n",
       "      <th>3</th>\n",
       "      <td>6</td>\n",
       "      <td>0.263270</td>\n",
       "    </tr>\n",
       "    <tr>\n",
       "      <th>4</th>\n",
       "      <td>7</td>\n",
       "      <td>0.238318</td>\n",
       "    </tr>\n",
       "    <tr>\n",
       "      <th>...</th>\n",
       "      <td>...</td>\n",
       "      <td>...</td>\n",
       "    </tr>\n",
       "    <tr>\n",
       "      <th>25515</th>\n",
       "      <td>98</td>\n",
       "      <td>0.004832</td>\n",
       "    </tr>\n",
       "    <tr>\n",
       "      <th>25516</th>\n",
       "      <td>99</td>\n",
       "      <td>0.175862</td>\n",
       "    </tr>\n",
       "    <tr>\n",
       "      <th>25517</th>\n",
       "      <td>100</td>\n",
       "      <td>0.269238</td>\n",
       "    </tr>\n",
       "    <tr>\n",
       "      <th>25518</th>\n",
       "      <td>101</td>\n",
       "      <td>0.101473</td>\n",
       "    </tr>\n",
       "    <tr>\n",
       "      <th>25519</th>\n",
       "      <td>102</td>\n",
       "      <td>-0.080410</td>\n",
       "    </tr>\n",
       "  </tbody>\n",
       "</table>\n",
       "<p>25520 rows × 2 columns</p>\n",
       "</div>"
      ],
      "text/plain": [
       "       index  reactivity\n",
       "0          3   -0.044254\n",
       "1          4    0.174412\n",
       "2          5    0.028481\n",
       "3          6    0.263270\n",
       "4          7    0.238318\n",
       "...      ...         ...\n",
       "25515     98    0.004832\n",
       "25516     99    0.175862\n",
       "25517    100    0.269238\n",
       "25518    101    0.101473\n",
       "25519    102   -0.080410\n",
       "\n",
       "[25520 rows x 2 columns]"
      ]
     },
     "execution_count": 12,
     "metadata": {},
     "output_type": "execute_result"
    }
   ],
   "source": [
    "#reset the index\n",
    "df_valid.reset_index(drop=True)"
   ]
  },
  {
   "cell_type": "code",
   "execution_count": 13,
   "id": "c93682bb",
   "metadata": {},
   "outputs": [
    {
     "data": {
      "text/plain": [
       "count    25520.000000\n",
       "mean         0.485259\n",
       "std          0.755500\n",
       "min         -3.644525\n",
       "25%          0.073156\n",
       "50%          0.279065\n",
       "75%          0.644701\n",
       "max         17.253573\n",
       "Name: reactivity, dtype: float64"
      ]
     },
     "execution_count": 13,
     "metadata": {},
     "output_type": "execute_result"
    }
   ],
   "source": [
    "df_valid['reactivity'].describe()"
   ]
  },
  {
   "cell_type": "code",
   "execution_count": 14,
   "id": "f634f785",
   "metadata": {},
   "outputs": [],
   "source": [
    "# import the necessary libraries\n",
    "import seaborn as sns\n",
    "import matplotlib.pyplot as plt \n",
    " \n",
    "# to ignore the warnings\n",
    "from warnings import filterwarnings"
   ]
  },
  {
   "cell_type": "code",
   "execution_count": 15,
   "id": "4a0dd99d",
   "metadata": {},
   "outputs": [
    {
     "name": "stderr",
     "output_type": "stream",
     "text": [
      "C:\\Users\\irisx\\anaconda3\\lib\\site-packages\\seaborn\\distributions.py:2619: FutureWarning: `distplot` is a deprecated function and will be removed in a future version. Please adapt your code to use either `displot` (a figure-level function with similar flexibility) or `histplot` (an axes-level function for histograms).\n",
      "  warnings.warn(msg, FutureWarning)\n"
     ]
    },
    {
     "data": {
      "text/plain": [
       "<AxesSubplot:xlabel='reactivity'>"
      ]
     },
     "execution_count": 15,
     "metadata": {},
     "output_type": "execute_result"
    },
    {
     "data": {
      "image/png": "[encoded data removed]",
      "text/plain": [
       "<Figure size 432x288 with 1 Axes>"
      ]
     },
     "metadata": {},
     "output_type": "display_data"
    }
   ],
   "source": [
    "sns.set_style('whitegrid')\n",
    "sns.distplot(df_valid['reactivity'], kde = False, color ='red', bins = 70)"
   ]
  },
  {
   "cell_type": "code",
   "execution_count": 16,
   "id": "c4b712cc",
   "metadata": {},
   "outputs": [
    {
     "data": {
      "text/plain": [
       "(array([2.000e+00, 0.000e+00, 1.000e+00, 1.000e+00, 3.000e+00, 1.000e+00,\n",
       "        4.000e+00, 1.000e+01, 9.000e+00, 4.800e+01, 2.700e+02, 2.280e+03,\n",
       "        8.967e+03, 6.239e+03, 2.955e+03, 1.596e+03, 9.750e+02, 6.810e+02,\n",
       "        4.200e+02, 2.870e+02, 2.280e+02, 1.570e+02, 1.140e+02, 6.100e+01,\n",
       "        5.000e+01, 4.000e+01, 2.200e+01, 2.000e+01, 1.400e+01, 1.200e+01,\n",
       "        4.000e+00, 1.000e+01, 2.000e+00, 8.000e+00, 5.000e+00, 2.000e+00,\n",
       "        3.000e+00, 2.000e+00, 3.000e+00, 1.000e+00, 4.000e+00, 0.000e+00,\n",
       "        0.000e+00, 0.000e+00, 3.000e+00, 1.000e+00, 1.000e+00, 1.000e+00,\n",
       "        0.000e+00, 0.000e+00, 0.000e+00, 0.000e+00, 0.000e+00, 0.000e+00,\n",
       "        0.000e+00, 1.000e+00, 0.000e+00, 0.000e+00, 1.000e+00, 0.000e+00,\n",
       "        0.000e+00, 0.000e+00, 0.000e+00, 0.000e+00, 0.000e+00, 0.000e+00,\n",
       "        0.000e+00, 0.000e+00, 0.000e+00, 1.000e+00]),\n",
       " array([-3.644525  , -3.34598074, -3.04743649, -2.74889223, -2.45034797,\n",
       "        -2.15180371, -1.85325946, -1.5547152 , -1.25617094, -0.95762669,\n",
       "        -0.65908243, -0.36053817, -0.06199391,  0.23655034,  0.5350946 ,\n",
       "         0.83363886,  1.13218311,  1.43072737,  1.72927163,  2.02781589,\n",
       "         2.32636014,  2.6249044 ,  2.92344866,  3.22199291,  3.52053717,\n",
       "         3.81908143,  4.11762569,  4.41616994,  4.7147142 ,  5.01325846,\n",
       "         5.31180271,  5.61034697,  5.90889123,  6.20743549,  6.50597974,\n",
       "         6.804524  ,  7.10306826,  7.40161251,  7.70015677,  7.99870103,\n",
       "         8.29724529,  8.59578954,  8.8943338 ,  9.19287806,  9.49142231,\n",
       "         9.78996657, 10.08851083, 10.38705509, 10.68559934, 10.9841436 ,\n",
       "        11.28268786, 11.58123211, 11.87977637, 12.17832063, 12.47686489,\n",
       "        12.77540914, 13.0739534 , 13.37249766, 13.67104191, 13.96958617,\n",
       "        14.26813043, 14.56667469, 14.86521894, 15.1637632 , 15.46230746,\n",
       "        15.76085171, 16.05939597, 16.35794023, 16.65648449, 16.95502874,\n",
       "        17.253573  ]),\n",
       " <BarContainer object of 70 artists>)"
      ]
     },
     "execution_count": 16,
     "metadata": {},
     "output_type": "execute_result"
    },
    {
     "data": {
      "image/png": "[encoded data removed]",
      "text/plain": [
       "<Figure size 432x288 with 1 Axes>"
      ]
     },
     "metadata": {},
     "output_type": "display_data"
    }
   ],
   "source": [
    "plt.hist(df_valid['reactivity'], color = 'blue', edgecolor = 'black',bins = 70)"
   ]
  },
  {
   "cell_type": "code",
   "execution_count": 17,
   "id": "10611db4",
   "metadata": {},
   "outputs": [
    {
     "data": {
      "text/plain": [
       "<AxesSubplot:xlabel='reactivity', ylabel='Density'>"
      ]
     },
     "execution_count": 17,
     "metadata": {},
     "output_type": "execute_result"
    },
    {
     "data": {
      "image/png": "[encoded data removed]",
      "text/plain": [
       "<Figure size 432x288 with 1 Axes>"
      ]
     },
     "metadata": {},
     "output_type": "display_data"
    }
   ],
   "source": [
    "# Density Plot \n",
    "sns.distplot(df_valid['reactivity'], hist=True, kde=True, \n",
    "             bins=70, color = 'red', \n",
    "             hist_kws={'edgecolor':'black'},\n",
    "             kde_kws={'linewidth': 4})"
   ]
  }
 ],
 "metadata": {
  "kernelspec": {
   "display_name": "Python 3 (ipykernel)",
   "language": "python",
   "name": "python3"
  },
  "language_info": {
   "codemirror_mode": {
    "name": "ipython",
    "version": 3
   },
   "file_extension": ".py",
   "mimetype": "text/x-python",
   "name": "python",
   "nbconvert_exporter": "python",
   "pygments_lexer": "ipython3",
   "version": "3.10.8"
  }
 },
 "nbformat": 4,
 "nbformat_minor": 5
}
