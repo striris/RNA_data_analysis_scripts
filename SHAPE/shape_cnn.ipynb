{
 "cells": [
  {
   "cell_type": "code",
   "execution_count": 1,
   "id": "309a2668",
   "metadata": {},
   "outputs": [],
   "source": [
    "import numpy as np\n",
    "import pandas as pd\n",
    "import random\n",
    "import json\n",
    "import torch\n",
    "import torch.nn as nn\n",
    "from torch.utils.data import Dataset, DataLoader\n",
    "from torchinfo import summary\n",
    "from torch.utils.tensorboard import SummaryWriter\n",
    "import os\n",
    "from sklearn.model_selection import train_test_split\n",
    "import matplotlib.pyplot as plt\n",
    "import time\n",
    "import datetime\n",
    "import pickle\n",
    "from sklearn.model_selection import GridSearchCV\n",
    "from sklearn.metrics import accuracy_score\n",
    "from tqdm import tqdm"
   ]
  },
  {
   "cell_type": "markdown",
   "id": "e4c23f71",
   "metadata": {},
   "source": [
    "X_train = np.loadtxt(\"./data/X_train_-999to-5_removal.txt\")\n",
    "y_train = np.loadtxt(\"./data/y_train_-999to-5_removal.txt\")\n",
    "X_valid = np.loadtxt(\"./data/X_valid_-999to-5_removal.txt\")\n",
    "y_valid = np.loadtxt(\"./data/y_valid_-999to-5_removal.txt\")\n",
    "X_test = np.loadtxt(\"./data/X_test_-999to-5_removal.txt\")\n",
    "y_test = np.loadtxt(\"./data/y_test_-999to-5_removal.txt\")"
   ]
  },
  {
   "cell_type": "code",
   "execution_count": 2,
   "id": "4e1bb672",
   "metadata": {},
   "outputs": [],
   "source": [
    "X_train = np.loadtxt(\"./data/X_train_-999to-5_removal.txt\")\n",
    "y_train = np.loadtxt(\"./data/y_train_-999to-5_removal.txt\")\n",
    "X_valid = np.loadtxt(\"./data/X_valid_-999to-5_removal.txt\")\n",
    "y_valid = np.loadtxt(\"./data/y_valid_-999to-5_removal.txt\")\n",
    "X_test = np.loadtxt(\"./data/X_test_-999to-5_removal.txt\")\n",
    "y_test = np.loadtxt(\"./data/y_test_-999to-5_removal.txt\")"
   ]
  },
  {
   "cell_type": "code",
   "execution_count": null,
   "id": "896535d0",
   "metadata": {},
   "outputs": [],
   "source": []
  },
  {
   "cell_type": "code",
   "execution_count": 3,
   "id": "f930ae7b",
   "metadata": {},
   "outputs": [
    {
     "name": "stdout",
     "output_type": "stream",
     "text": [
      "(16437, 20)\n",
      "(16437,)\n",
      "(2055, 20)\n",
      "(2055,)\n",
      "(2055, 20)\n",
      "(2055,)\n"
     ]
    },
    {
     "data": {
      "text/plain": [
       "(None, None)"
      ]
     },
     "execution_count": 3,
     "metadata": {},
     "output_type": "execute_result"
    }
   ],
   "source": [
    "print(X_train.shape), print(y_train.shape)\n",
    "print(X_valid.shape), print(y_valid.shape)\n",
    "print(X_test.shape), print(y_test.shape)"
   ]
  },
  {
   "cell_type": "code",
   "execution_count": 4,
   "id": "79015d71",
   "metadata": {},
   "outputs": [],
   "source": [
    "class SHAPEDataset(Dataset):\n",
    "    def __init__(self, x, y):\n",
    "        self.x = x\n",
    "        self.y = y\n",
    "\n",
    "    def __getitem__(self, index):\n",
    "        x = torch.tensor(self.x[index], dtype=torch.float32)\n",
    "        y = torch.tensor(self.y[index], dtype=torch.float32)\n",
    "        return x, y\n",
    "\n",
    "    def __len__(self):\n",
    "        return len(self.x)"
   ]
  },
  {
   "cell_type": "code",
   "execution_count": 5,
   "id": "72f959b9",
   "metadata": {},
   "outputs": [
    {
     "name": "stdout",
     "output_type": "stream",
     "text": [
      "Using cpu device\n"
     ]
    }
   ],
   "source": [
    "# project root path\n",
    "project_path = \"./cnn/\"\n",
    "# define log directory\n",
    "# must be a subdirectory of the directory specified when starting the web application\n",
    "# it is recommended to use the date time as the subdirectory name\n",
    "log_dir = project_path + \"logs/\" + datetime.datetime.now().strftime(\"%Y%m%d-%H%M%S\")\n",
    "model_path = project_path + \"shape_cnn_model_e300_b512_lr001_2conv1d_-999to-5_head_tail_removal.pt\"\n",
    "\n",
    "# the device to use\n",
    "device = torch.device(\"cuda:0\" if torch.cuda.is_available() else \"cpu\")\n",
    "print(\"Using {} device\".format(device))"
   ]
  },
  {
   "cell_type": "markdown",
   "id": "26cf923d",
   "metadata": {},
   "source": [
    "\n",
    "## Creating our Model\n",
    "---"
   ]
  },
  {
   "cell_type": "code",
   "execution_count": 6,
   "id": "e7feeeb9",
   "metadata": {},
   "outputs": [],
   "source": [
    "# build the CNN model\n",
    "class Model(nn.Module):\n",
    "    def __init__(self):\n",
    "        super().__init__()\n",
    "        # the first convolution layer, output shape (batch_size, 4, 20)\n",
    "        self.conv1 = nn.Conv1d(in_channels=1, out_channels=4, kernel_size=3, stride=1, padding='same')\n",
    "        # the first pooling layer, max pooling, pooling size=3 , stride=2, output shape (batch_size, 4, 10)\n",
    "        self.pool1 = nn.MaxPool1d(kernel_size=3, stride=2, padding=1)\n",
    "        # the second convolution layer, output shape (batch_size, 8, 10)\n",
    "        self.conv2 = nn.Conv1d(in_channels=4, out_channels=8, kernel_size=3, stride=1, padding='same')\n",
    "        # the second pooling layer, max pooling, pooling size=3 , stride=2, output shape (batch_size, 8, 5)\n",
    "        self.pool2 = nn.MaxPool1d(kernel_size=3, stride=2, padding=1)\n",
    "        # flatten layer, for the next fully connected layer, output shape (batch_size, 8*5)\n",
    "        self.flatten = nn.Flatten()\n",
    "        # fully connected layer, 4 nodes, output shape (batch_size, 4)\n",
    "        self.fc1 = nn.Linear(8 * 5, 4)\n",
    "        # Dropout layer, dropout rate = 0.2\n",
    "        self.dropout = nn.Dropout(0.2)\n",
    "        # fully connected layer, 1 node (prediction), output shape (batch_size, 1)\n",
    "        self.fc2 = nn.Linear(4, 1)\n",
    "        self.relu = nn.ReLU()\n",
    "\n",
    "    def forward(self, x):\n",
    "        # x.shape = (batch_size, 20)\n",
    "        # reshape the tensor with shape (batch_size, 20) to (batch_size, 1, 20)\n",
    "        x = x.reshape(-1, 1, 20)\n",
    "        x = self.relu(self.conv1(x))\n",
    "        x = self.pool1(x)\n",
    "        x = self.relu(self.conv2(x))\n",
    "        x = self.pool2(x)\n",
    "        x = self.flatten(x)\n",
    "        x = self.relu(self.fc1(x))\n",
    "        x = self.dropout(x)\n",
    "        x = self.fc2(x)\n",
    "        return x"
   ]
  },
  {
   "cell_type": "code",
   "execution_count": null,
   "id": "e3f83163",
   "metadata": {},
   "outputs": [],
   "source": []
  },
  {
   "cell_type": "code",
   "execution_count": 7,
   "id": "3d8f1fbc",
   "metadata": {},
   "outputs": [],
   "source": [
    "# define the training function and validation function\n",
    "def train_steps(loop, model, criterion, optimizer):\n",
    "    train_loss = []\n",
    "    model.train()\n",
    "    for step_index, (X, y) in loop:\n",
    "        X, y = X.to(device), y.to(device)\n",
    "        pred = model(X)\n",
    "        pred = torch.flatten(pred)\n",
    "        loss = criterion(pred, y)\n",
    "\n",
    "        optimizer.zero_grad()\n",
    "        loss.backward()\n",
    "        optimizer.step()\n",
    "\n",
    "        loss = loss.item()\n",
    "        train_loss.append(loss)\n",
    "        pred = pred.detach().cpu().numpy()\n",
    "        y = y.detach().cpu().numpy()\n",
    "        #print(step_index)\n",
    "        loop.set_postfix(loss=loss)\n",
    "    return {\"loss\": np.mean(train_loss)}"
   ]
  },
  {
   "cell_type": "code",
   "execution_count": 8,
   "id": "45ee0d00",
   "metadata": {},
   "outputs": [],
   "source": [
    "def valid_steps(loop, model, criterion):\n",
    "    valid_loss = []\n",
    "    model.eval()\n",
    "    with torch.no_grad():\n",
    "        for step_index, (X, y) in loop:\n",
    "            X, y = X.to(device), y.to(device)\n",
    "            pred = model(X)\n",
    "            loss = criterion(pred, y).item()\n",
    "\n",
    "            valid_loss.append(loss)\n",
    "            pred = pred.detach().cpu().numpy()\n",
    "            y = y.detach().cpu().numpy()\n",
    "            #print(step_index)\n",
    "            loop.set_postfix(loss=loss)\n",
    "    return {\"loss\": np.mean(valid_loss)}"
   ]
  },
  {
   "cell_type": "code",
   "execution_count": 9,
   "id": "6c6ba96d",
   "metadata": {},
   "outputs": [],
   "source": [
    "def train_epochs(train_dataloader, valid_dataloader, model, criterion, optimizer, config, writer):\n",
    "    num_epochs = config['num_epochs']\n",
    "    train_loss_ls = []\n",
    "    valid_loss_ls = []\n",
    "    min_valid_loss = np.inf\n",
    "    for epoch in range(num_epochs):\n",
    "        #print('length of train dataloader: ',str(len(train_dataloader)))\n",
    "        train_loop = tqdm(enumerate(train_dataloader), total=len(train_dataloader))\n",
    "        #print('length of validation dataloader: ',str(len(valid_dataloader)))\n",
    "        valid_loop = tqdm(enumerate(valid_dataloader), total=len(valid_dataloader))\n",
    "        train_loop.set_description(f'Epoch [{epoch + 1}/{num_epochs}]')\n",
    "        valid_loop.set_description(f'Epoch [{epoch + 1}/{num_epochs}]')\n",
    "        #print('train step: ')\n",
    "        train_metrix = train_steps(train_loop, model, criterion, optimizer)\n",
    "        #print('validation step: ')\n",
    "        valid_metrix = valid_steps(valid_loop, model, criterion)\n",
    "\n",
    "        train_loss_ls.append(train_metrix['loss'])\n",
    "        valid_loss_ls.append(valid_metrix['loss'])\n",
    "        \n",
    "        # only save the model when the validation drops\n",
    "        if (valid_metrix['loss']< min_valid_loss):\n",
    "            torch.save(model.state_dict(), model_path)\n",
    "            print('model improved and saved\\n')\n",
    "\n",
    "        print(f'Epoch {epoch + 1}: '\n",
    "              f'train loss: {train_metrix[\"loss\"]} ')\n",
    "        print(f'Epoch {epoch + 1}: '\n",
    "              f'valid loss: {valid_metrix[\"loss\"]} ')\n",
    "\n",
    "        writer.add_scalar('train/loss', train_metrix['loss'], epoch) # every epoch\n",
    "        writer.add_scalar('validation/loss', valid_metrix['loss'], epoch)\n",
    "\n",
    "    return {'train_loss': train_loss_ls,\n",
    "            'valid_loss': valid_loss_ls,}"
   ]
  },
  {
   "cell_type": "code",
   "execution_count": 10,
   "id": "f9f09eb2",
   "metadata": {},
   "outputs": [],
   "source": [
    "def plot_history_torch(history,config):\n",
    "    \n",
    "    plt.figure(figsize=(8, 8))\n",
    "    plt.plot(history['train_loss'])\n",
    "    plt.plot(history['valid_loss'])\n",
    "    plt.title('Model Loss')\n",
    "    plt.ylabel('Loss')\n",
    "    plt.xlabel('Epoch')\n",
    "    plt.legend(['Train', 'Valid'], loc='upper left')\n",
    "    plt.savefig(\"b\"+str(config['batch_size'])+'_e'+str(config['num_epochs'])+'_remove-999_loss.png')\n",
    "    plt.show()"
   ]
  },
  {
   "cell_type": "code",
   "execution_count": 11,
   "id": "a9a6a793",
   "metadata": {},
   "outputs": [],
   "source": [
    "def main():\n",
    "    config = {\n",
    "        'seed': 40,  # the random seed\n",
    "        'num_epochs': 300,\n",
    "        'batch_size': 512,\n",
    "        'lr': 0.001,\n",
    "    }\n",
    "\n",
    "    train_dataset = SHAPEDataset(X_train, y_train)\n",
    "    valid_dataset = SHAPEDataset(X_valid, y_valid)\n",
    "    test_dataset = SHAPEDataset(X_test, y_test)\n",
    "    \n",
    "    train_dataloader = DataLoader(train_dataset, batch_size=config['batch_size'], shuffle=True)\n",
    "    valid_dataloader = DataLoader(valid_dataset, batch_size=config['batch_size'], shuffle=False)\n",
    "    test_dataloader = DataLoader(test_dataset, batch_size=config['batch_size'], shuffle=False)\n",
    "\n",
    "    # define the model\n",
    "    model = Model()\n",
    "    criterion = nn.MSELoss()\n",
    "    \n",
    "    # predict on test dataset with untrained model and note down the mse\n",
    "    y_pred = []\n",
    "    with torch.no_grad():\n",
    "        for step_index, (X, y) in enumerate(test_dataloader):\n",
    "            X, y = X.to(device), y.to(device)\n",
    "            pred = model(X)\n",
    "            pred = pred.detach().cpu().numpy()\n",
    "            y_pred.extend(pred)\n",
    "        \n",
    "        y_pred_before = np.concatenate(y_pred)\n",
    "        y_pred_before_tensor = torch.Tensor(y_pred_before)\n",
    "        y_test_tensor = torch.Tensor(y_test)\n",
    "        y_test_mse_before = criterion(y_test_tensor, y_pred_before_tensor)\n",
    "\n",
    "    #start real training\n",
    "    if os.path.exists(model_path):\n",
    "        # import the pre-trained model if it exists\n",
    "        print('Import the pre-trained model, skip the training process')\n",
    "        model.load_state_dict(torch.load(model_path))\n",
    "        model.eval()\n",
    "    else:\n",
    "        # build the CNN model\n",
    "        model = model.to(device)\n",
    "        optimizer = torch.optim.SGD(model.parameters(), lr=config['lr'])\n",
    "\n",
    "        # print the model structure\n",
    "        # summary(model, (config['batch_size'], X_train.shape[1]), col_names=[\"input_size\", \"kernel_size\", \"output_size\"],\n",
    "               # verbose=2)\n",
    "\n",
    "        # define the Tensorboard SummaryWriter\n",
    "        writer = SummaryWriter(log_dir=log_dir)\n",
    "        # train and evaluate model\n",
    "        history = train_epochs(train_dataloader, valid_dataloader, model, criterion, optimizer, config, writer)\n",
    "        writer.close()\n",
    "        # save the model\n",
    "        # torch.save(model.state_dict(), model_path)\n",
    "        # plot the training history\n",
    "        plot_history_torch(history,config)\n",
    "        \n",
    "    # write train loss and validation loss into pickle files\n",
    "    dict_a = {'num_epochs':config['num_epochs'], 'batch_size':config['batch_size'], 'lr':config['lr'], 'loss': history['train_loss'], 'valid_loss': history['valid_loss']}\n",
    "    pickle.dump(dict_a, open('./cnn/pickle_data/data_e'+str(config['num_epochs'])+ '_b'+str(config['batch_size'])+'_lr'+str(config['lr'])+'_2conv1d_remove_-999'+'.pkl', 'wb'))\n",
    "\n",
    "    # predict on test dataset with trained model and note down the mse, compare with the untrained model results\n",
    "    y_pred = []\n",
    "    model.eval()\n",
    "    with torch.no_grad():\n",
    "        for step_index, (X, y) in enumerate(test_dataloader):\n",
    "            X, y = X.to(device), y.to(device)\n",
    "            pred = model(X)\n",
    "            pred = pred.detach().cpu().numpy()\n",
    "            y_pred.extend(pred)\n",
    "        \n",
    "        y_pred = np.concatenate(y_pred)\n",
    "        y_pred_tensor = torch.Tensor(y_pred)\n",
    "        y_test_tensor = torch.Tensor(y_test)\n",
    "        y_test_mse_after = criterion(y_test_tensor, y_pred_tensor)\n",
    "\n",
    "        print('MSE loss for test dataset before optimizing: ', y_test_mse_before)\n",
    "        print('MSE loss for test dataset after optimizing: ', y_test_mse_after)\n"
   ]
  },
  {
   "cell_type": "code",
   "execution_count": null,
   "id": "cdc7b975",
   "metadata": {},
   "outputs": [
    {
     "name": "stderr",
     "output_type": "stream",
     "text": [
      "  0%|                                                                                            | 0/33 [00:00<?, ?it/s]\n",
      "Epoch [1/300]:   0%|                                                                             | 0/33 [00:00<?, ?it/s]\u001b[A\n",
      "Epoch [1/300]:   0%|                                                                  | 0/33 [00:00<?, ?it/s, loss=1.53]\u001b[A"
     ]
    },
    {
     "name": "stdout",
     "output_type": "stream",
     "text": [
      "0\n",
      "1\n",
      "2\n"
     ]
    },
    {
     "name": "stderr",
     "output_type": "stream",
     "text": [
      "Epoch [1/300]:   0%|                                                                  | 0/33 [00:00<?, ?it/s, loss=1.49]"
     ]
    },
    {
     "name": "stdout",
     "output_type": "stream",
     "text": [
      "3\n",
      "4\n"
     ]
    },
    {
     "name": "stderr",
     "output_type": "stream",
     "text": [
      "Epoch [1/300]:  48%|███████████████████████████▋                             | 16/33 [00:00<00:00, 75.65it/s, loss=1.29]"
     ]
    },
    {
     "name": "stdout",
     "output_type": "stream",
     "text": [
      "5\n",
      "6\n",
      "7\n",
      "8\n",
      "9\n",
      "10\n",
      "11\n",
      "12\n",
      "13\n",
      "14\n",
      "15\n",
      "16\n"
     ]
    },
    {
     "name": "stderr",
     "output_type": "stream",
     "text": [
      "Epoch [1/300]:  48%|████████████████████████████                              | 16/33 [00:00<00:00, 75.65it/s, loss=1.4]"
     ]
    },
    {
     "name": "stdout",
     "output_type": "stream",
     "text": [
      "17\n",
      "18\n",
      "19\n"
     ]
    },
    {
     "name": "stderr",
     "output_type": "stream",
     "text": [
      "Epoch [1/300]:  48%|███████████████████████████▋                             | 16/33 [00:00<00:00, 75.65it/s, loss=1.48]"
     ]
    },
    {
     "name": "stdout",
     "output_type": "stream",
     "text": [
      "20\n",
      "21\n"
     ]
    },
    {
     "name": "stderr",
     "output_type": "stream",
     "text": [
      "Epoch [1/300]: 100%|████████████████████████████████████████████████████████| 33/33 [00:00<00:00, 82.51it/s, loss=0.944]\n",
      "/home/liuxr/miniconda3/lib/python3.10/site-packages/torch/nn/modules/loss.py:536: UserWarning: Using a target size (torch.Size([512])) that is different to the input size (torch.Size([512, 1])). This will likely lead to incorrect results due to broadcasting. Please ensure they have the same size.\n",
      "  return F.mse_loss(input, target, reduction=self.reduction)\n",
      "\n",
      "Epoch [1/300]:   0%|                                                                   | 0/5 [00:00<?, ?it/s, loss=2.04]\u001b[A\n",
      "Epoch [1/300]:  20%|███████████▊                                               | 1/5 [00:00<00:01,  2.44it/s, loss=2.04]\u001b[A\n",
      "Epoch [1/300]:  20%|████████████                                                | 1/5 [00:00<00:01,  2.44it/s, loss=1.3]\u001b[A\n",
      "Epoch [1/300]:  20%|███████████▊                                               | 1/5 [00:00<00:01,  2.44it/s, loss=1.16]\u001b[A"
     ]
    },
    {
     "name": "stdout",
     "output_type": "stream",
     "text": [
      "22\n",
      "23\n",
      "24\n",
      "25\n",
      "26\n",
      "27\n",
      "28\n",
      "29\n",
      "30\n",
      "31\n",
      "32\n",
      "0\n",
      "1\n",
      "2\n"
     ]
    },
    {
     "name": "stderr",
     "output_type": "stream",
     "text": [
      "\n",
      "Epoch [1/300]:  20%|███████████▊                                               | 1/5 [00:00<00:01,  2.44it/s, loss=1.48]\u001b[A/home/liuxr/miniconda3/lib/python3.10/site-packages/torch/nn/modules/loss.py:536: UserWarning: Using a target size (torch.Size([7])) that is different to the input size (torch.Size([7, 1])). This will likely lead to incorrect results due to broadcasting. Please ensure they have the same size.\n",
      "  return F.mse_loss(input, target, reduction=self.reduction)\n",
      "\n",
      "Epoch [1/300]: 100%|██████████████████████████████████████████████████████████| 5/5 [00:00<00:00, 11.11it/s, loss=0.577]\u001b[A\n"
     ]
    },
    {
     "name": "stdout",
     "output_type": "stream",
     "text": [
      "3\n",
      "4\n",
      "model improved and saved\n",
      "\n",
      "Epoch 1: train loss: 1.3610404206044746 \n",
      "Epoch 1: valid loss: 1.311901581287384 \n"
     ]
    },
    {
     "name": "stderr",
     "output_type": "stream",
     "text": [
      "  0%|                                                                                            | 0/33 [00:00<?, ?it/s]\n",
      "Epoch [2/300]:   0%|                                                                             | 0/33 [00:00<?, ?it/s]\u001b[A\n",
      "Epoch [2/300]:   0%|                                                                  | 0/33 [00:00<?, ?it/s, loss=1.19]\u001b[A"
     ]
    },
    {
     "name": "stdout",
     "output_type": "stream",
     "text": [
      "0\n",
      "1\n"
     ]
    },
    {
     "name": "stderr",
     "output_type": "stream",
     "text": [
      "Epoch [2/300]:  27%|███████████████▊                                          | 9/33 [00:00<00:00, 83.33it/s, loss=1.27]"
     ]
    },
    {
     "name": "stdout",
     "output_type": "stream",
     "text": [
      "2\n",
      "3\n",
      "4\n",
      "5\n",
      "6\n",
      "7\n",
      "8\n",
      "9\n",
      "10\n",
      "11\n",
      "12\n",
      "13\n",
      "14\n",
      "15\n"
     ]
    },
    {
     "name": "stderr",
     "output_type": "stream",
     "text": [
      "Epoch [2/300]:  58%|████████████████████████████████▊                        | 19/33 [00:00<00:00, 87.15it/s, loss=1.52]"
     ]
    },
    {
     "name": "stdout",
     "output_type": "stream",
     "text": [
      "16\n",
      "17\n",
      "18\n"
     ]
    },
    {
     "name": "stderr",
     "output_type": "stream",
     "text": [
      "Epoch [2/300]:  58%|█████████████████████████████████▍                        | 19/33 [00:00<00:00, 87.15it/s, loss=1.3]"
     ]
    },
    {
     "name": "stdout",
     "output_type": "stream",
     "text": [
      "19\n",
      "20\n"
     ]
    },
    {
     "name": "stderr",
     "output_type": "stream",
     "text": [
      "Epoch [2/300]: 100%|█████████████████████████████████████████████████████████| 33/33 [00:00<00:00, 89.28it/s, loss=1.25]\n",
      "\n",
      "Epoch [2/300]:   0%|                                                                   | 0/5 [00:00<?, ?it/s, loss=1.92]\u001b[A\n",
      "Epoch [2/300]:  20%|███████████▊                                               | 1/5 [00:00<00:01,  2.67it/s, loss=1.92]\u001b[A\n",
      "Epoch [2/300]:  20%|███████████▊                                               | 1/5 [00:00<00:01,  2.67it/s, loss=1.19]\u001b[A"
     ]
    },
    {
     "name": "stdout",
     "output_type": "stream",
     "text": [
      "21\n",
      "22\n",
      "23\n",
      "24\n",
      "25\n",
      "26\n",
      "27\n",
      "28\n",
      "29\n",
      "30\n",
      "31\n",
      "32\n",
      "0\n",
      "1\n"
     ]
    },
    {
     "name": "stderr",
     "output_type": "stream",
     "text": [
      "\n",
      "Epoch [2/300]:  20%|███████████▊                                               | 1/5 [00:00<00:01,  2.67it/s, loss=1.06]\u001b[A\n",
      "Epoch [2/300]:  20%|███████████▊                                               | 1/5 [00:00<00:01,  2.67it/s, loss=1.38]\u001b[A\n",
      "Epoch [2/300]: 100%|██████████████████████████████████████████████████████████| 5/5 [00:00<00:00, 12.05it/s, loss=0.458]\u001b[A\n"
     ]
    },
    {
     "name": "stdout",
     "output_type": "stream",
     "text": [
      "2\n",
      "3\n",
      "4\n",
      "model improved and saved\n",
      "\n",
      "Epoch 2: train loss: 1.2484185262159868 \n",
      "Epoch 2: valid loss: 1.2017268657684326 \n"
     ]
    },
    {
     "name": "stderr",
     "output_type": "stream",
     "text": [
      "  0%|                                                                                            | 0/33 [00:00<?, ?it/s]\n",
      "Epoch [3/300]:   0%|                                                                             | 0/33 [00:00<?, ?it/s]\u001b[A\n",
      "Epoch [3/300]:   0%|                                                                  | 0/33 [00:00<?, ?it/s, loss=1.88]\u001b[A"
     ]
    },
    {
     "name": "stdout",
     "output_type": "stream",
     "text": [
      "0\n"
     ]
    },
    {
     "name": "stderr",
     "output_type": "stream",
     "text": [
      "Epoch [3/300]:  27%|███████████████▌                                         | 9/33 [00:00<00:00, 82.76it/s, loss=0.939]"
     ]
    },
    {
     "name": "stdout",
     "output_type": "stream",
     "text": [
      "1\n",
      "2\n",
      "3\n",
      "4\n",
      "5\n",
      "6\n",
      "7\n",
      "8\n",
      "9\n",
      "10\n",
      "11\n",
      "12\n",
      "13\n"
     ]
    },
    {
     "name": "stderr",
     "output_type": "stream",
     "text": [
      "Epoch [3/300]:  27%|███████████████▊                                          | 9/33 [00:00<00:00, 82.76it/s, loss=1.58]"
     ]
    },
    {
     "name": "stdout",
     "output_type": "stream",
     "text": [
      "14\n",
      "15\n",
      "16\n"
     ]
    },
    {
     "name": "stderr",
     "output_type": "stream",
     "text": [
      "Epoch [3/300]:  55%|███████████████████████████████                          | 18/33 [00:00<00:00, 78.06it/s, loss=1.26]"
     ]
    },
    {
     "name": "stdout",
     "output_type": "stream",
     "text": [
      "17\n"
     ]
    },
    {
     "name": "stderr",
     "output_type": "stream",
     "text": [
      "Epoch [3/300]:  79%|█████████████████████████████████████████████▋            | 26/33 [00:00<00:00, 77.39it/s, loss=1.2]"
     ]
    },
    {
     "name": "stdout",
     "output_type": "stream",
     "text": [
      "18\n",
      "19\n",
      "20\n",
      "21\n",
      "22\n",
      "23\n",
      "24\n",
      "25\n",
      "26\n",
      "27\n",
      "28\n",
      "29\n",
      "30\n",
      "31\n"
     ]
    },
    {
     "name": "stderr",
     "output_type": "stream",
     "text": [
      "Epoch [3/300]: 100%|█████████████████████████████████████████████████████████| 33/33 [00:00<00:00, 83.12it/s, loss=0.54]\n",
      "\n",
      "Epoch [3/300]:   0%|                                                                   | 0/5 [00:00<?, ?it/s, loss=1.83]\u001b[A\n",
      "Epoch [3/300]:  20%|███████████▊                                               | 1/5 [00:00<00:01,  2.47it/s, loss=1.83]\u001b[A\n",
      "Epoch [3/300]:  20%|███████████▊                                               | 1/5 [00:00<00:01,  2.47it/s, loss=1.11]\u001b[A"
     ]
    },
    {
     "name": "stdout",
     "output_type": "stream",
     "text": [
      "32\n",
      "0\n",
      "1\n"
     ]
    },
    {
     "name": "stderr",
     "output_type": "stream",
     "text": [
      "\n",
      "Epoch [3/300]:  20%|███████████▌                                              | 1/5 [00:00<00:01,  2.47it/s, loss=0.972]\u001b[A\n",
      "Epoch [3/300]:  20%|███████████▊                                               | 1/5 [00:00<00:01,  2.47it/s, loss=1.31]\u001b[A\n",
      "Epoch [3/300]: 100%|██████████████████████████████████████████████████████████| 5/5 [00:00<00:00, 11.20it/s, loss=0.367]\u001b[A"
     ]
    },
    {
     "name": "stdout",
     "output_type": "stream",
     "text": [
      "2\n",
      "3\n",
      "4\n"
     ]
    },
    {
     "name": "stderr",
     "output_type": "stream",
     "text": [
      "\n"
     ]
    },
    {
     "name": "stdout",
     "output_type": "stream",
     "text": [
      "model improved and saved\n",
      "\n",
      "Epoch 3: train loss: 1.1292427001577434 \n",
      "Epoch 3: valid loss: 1.1167569577693939 \n"
     ]
    },
    {
     "name": "stderr",
     "output_type": "stream",
     "text": [
      "  0%|                                                                                            | 0/33 [00:00<?, ?it/s]\n",
      "Epoch [4/300]:   0%|                                                                             | 0/33 [00:00<?, ?it/s]\u001b[A\n",
      "Epoch [4/300]:  27%|███████████████▌                                         | 9/33 [00:00<00:00, 81.05it/s, loss=0.692]\u001b[A"
     ]
    },
    {
     "name": "stdout",
     "output_type": "stream",
     "text": [
      "0\n",
      "1\n",
      "2\n",
      "3\n",
      "4\n",
      "5\n",
      "6\n",
      "7\n",
      "8\n",
      "9\n",
      "10\n"
     ]
    },
    {
     "name": "stderr",
     "output_type": "stream",
     "text": [
      "Epoch [4/300]:  27%|███████████████▊                                          | 9/33 [00:00<00:00, 81.05it/s, loss=1.06]"
     ]
    },
    {
     "name": "stdout",
     "output_type": "stream",
     "text": [
      "11\n",
      "12\n",
      "13\n"
     ]
    },
    {
     "name": "stderr",
     "output_type": "stream",
     "text": [
      "Epoch [4/300]:  27%|███████████████▊                                          | 9/33 [00:00<00:00, 81.05it/s, loss=1.04]"
     ]
    },
    {
     "name": "stdout",
     "output_type": "stream",
     "text": [
      "14\n",
      "15\n"
     ]
    },
    {
     "name": "stderr",
     "output_type": "stream",
     "text": [
      "Epoch [4/300]:  55%|███████████████████████████████                          | 18/33 [00:00<00:00, 85.48it/s, loss=1.21]"
     ]
    },
    {
     "name": "stdout",
     "output_type": "stream",
     "text": [
      "16\n",
      "17\n"
     ]
    },
    {
     "name": "stderr",
     "output_type": "stream",
     "text": [
      "Epoch [4/300]:  55%|███████████████████████████████                          | 18/33 [00:00<00:00, 85.48it/s, loss=1.19]"
     ]
    },
    {
     "name": "stdout",
     "output_type": "stream",
     "text": [
      "18\n",
      "19\n",
      "20\n",
      "21\n",
      "22\n",
      "23\n",
      "24\n",
      "25\n",
      "26\n"
     ]
    },
    {
     "name": "stderr",
     "output_type": "stream",
     "text": [
      "Epoch [4/300]:  85%|████████████████████████████████████████████████▎        | 28/33 [00:00<00:00, 68.56it/s, loss=1.15]"
     ]
    },
    {
     "name": "stdout",
     "output_type": "stream",
     "text": [
      "27\n",
      "28\n"
     ]
    },
    {
     "name": "stderr",
     "output_type": "stream",
     "text": [
      "Epoch [4/300]:  85%|███████████████████████████████████████████████▌        | 28/33 [00:00<00:00, 68.56it/s, loss=0.808]"
     ]
    },
    {
     "name": "stdout",
     "output_type": "stream",
     "text": [
      "29\n",
      "30\n"
     ]
    },
    {
     "name": "stderr",
     "output_type": "stream",
     "text": [
      "Epoch [4/300]: 100%|█████████████████████████████████████████████████████████| 33/33 [00:00<00:00, 75.05it/s, loss=0.72]\n",
      "\n",
      "Epoch [4/300]:   0%|                                                                   | 0/5 [00:00<?, ?it/s, loss=1.76]\u001b[A\n",
      "Epoch [4/300]:  20%|███████████▊                                               | 1/5 [00:00<00:01,  2.24it/s, loss=1.76]\u001b[A\n",
      "Epoch [4/300]:  20%|███████████▊                                               | 1/5 [00:00<00:01,  2.24it/s, loss=1.04]\u001b[A\n",
      "Epoch [4/300]:  20%|███████████▌                                              | 1/5 [00:00<00:01,  2.24it/s, loss=0.912]\u001b[A\n",
      "Epoch [4/300]:  20%|███████████▊                                               | 1/5 [00:00<00:01,  2.24it/s, loss=1.26]\u001b[A\n",
      "Epoch [4/300]: 100%|██████████████████████████████████████████████████████████| 5/5 [00:00<00:00, 10.20it/s, loss=0.301]\u001b[A\n"
     ]
    },
    {
     "name": "stdout",
     "output_type": "stream",
     "text": [
      "31\n",
      "32\n",
      "0\n",
      "1\n",
      "2\n",
      "3\n",
      "4\n",
      "model improved and saved\n",
      "\n",
      "Epoch 4: train loss: 1.0668316158381375 \n",
      "Epoch 4: valid loss: 1.0556921362876892 \n"
     ]
    },
    {
     "name": "stderr",
     "output_type": "stream",
     "text": [
      "  0%|                                                                                            | 0/33 [00:00<?, ?it/s]\n",
      "Epoch [5/300]:   0%|                                                                             | 0/33 [00:00<?, ?it/s]\u001b[A\n",
      "Epoch [5/300]:   0%|                                                                  | 0/33 [00:00<?, ?it/s, loss=1.08]\u001b[A"
     ]
    },
    {
     "name": "stdout",
     "output_type": "stream",
     "text": [
      "0\n",
      "1\n",
      "2\n",
      "3\n",
      "4\n",
      "5\n",
      "6\n"
     ]
    },
    {
     "name": "stderr",
     "output_type": "stream",
     "text": [
      "Epoch [5/300]:  27%|███████████████▊                                          | 9/33 [00:00<00:00, 88.18it/s, loss=1.01]"
     ]
    },
    {
     "name": "stdout",
     "output_type": "stream",
     "text": [
      "7\n",
      "8\n"
     ]
    },
    {
     "name": "stderr",
     "output_type": "stream",
     "text": [
      "Epoch [5/300]:  27%|███████████████▊                                          | 9/33 [00:00<00:00, 88.18it/s, loss=1.28]"
     ]
    },
    {
     "name": "stdout",
     "output_type": "stream",
     "text": [
      "9\n",
      "10\n",
      "11\n"
     ]
    },
    {
     "name": "stderr",
     "output_type": "stream",
     "text": [
      "Epoch [5/300]:  58%|████████████████████████████████▊                        | 19/33 [00:00<00:00, 90.86it/s, loss=1.66]"
     ]
    },
    {
     "name": "stdout",
     "output_type": "stream",
     "text": [
      "12\n",
      "13\n",
      "14\n",
      "15\n",
      "16\n",
      "17\n",
      "18\n"
     ]
    },
    {
     "name": "stderr",
     "output_type": "stream",
     "text": [
      "Epoch [5/300]:  58%|████████████████████████████████▊                        | 19/33 [00:00<00:00, 90.86it/s, loss=1.14]"
     ]
    },
    {
     "name": "stdout",
     "output_type": "stream",
     "text": [
      "19\n",
      "20\n",
      "21\n",
      "22\n",
      "23\n",
      "24\n",
      "25\n"
     ]
    },
    {
     "name": "stderr",
     "output_type": "stream",
     "text": [
      "Epoch [5/300]:  58%|████████████████████████████████▊                        | 19/33 [00:00<00:00, 90.86it/s, loss=1.38]"
     ]
    },
    {
     "name": "stdout",
     "output_type": "stream",
     "text": [
      "26\n",
      "27\n"
     ]
    },
    {
     "name": "stderr",
     "output_type": "stream",
     "text": [
      "Epoch [5/300]:  88%|█████████████████████████████████████████████████▏      | 29/33 [00:00<00:00, 90.02it/s, loss=0.809]"
     ]
    },
    {
     "name": "stdout",
     "output_type": "stream",
     "text": [
      "28\n",
      "29\n",
      "30\n"
     ]
    },
    {
     "name": "stderr",
     "output_type": "stream",
     "text": [
      "Epoch [5/300]: 100%|█████████████████████████████████████████████████████████| 33/33 [00:00<00:00, 91.40it/s, loss=0.63]\n",
      "\n",
      "Epoch [5/300]:   0%|                                                                   | 0/5 [00:00<?, ?it/s, loss=1.72]\u001b[A\n",
      "Epoch [5/300]:  20%|███████████▊                                               | 1/5 [00:00<00:01,  2.71it/s, loss=1.72]\u001b[A\n",
      "Epoch [5/300]:  20%|████████████▍                                                 | 1/5 [00:00<00:01,  2.71it/s, loss=1]\u001b[A\n",
      "Epoch [5/300]:  20%|███████████▌                                              | 1/5 [00:00<00:01,  2.71it/s, loss=0.872]\u001b[A\n",
      "Epoch [5/300]:  20%|███████████▊                                               | 1/5 [00:00<00:01,  2.71it/s, loss=1.23]\u001b[A\n",
      "Epoch [5/300]: 100%|██████████████████████████████████████████████████████████| 5/5 [00:00<00:00, 12.30it/s, loss=0.257]\u001b[A\n"
     ]
    },
    {
     "name": "stdout",
     "output_type": "stream",
     "text": [
      "31\n",
      "32\n",
      "0\n",
      "1\n",
      "2\n",
      "3\n",
      "4\n",
      "model improved and saved\n",
      "\n",
      "Epoch 5: train loss: 1.017387046958461 \n",
      "Epoch 5: valid loss: 1.0148783087730409 \n"
     ]
    },
    {
     "name": "stderr",
     "output_type": "stream",
     "text": [
      "  0%|                                                                                            | 0/33 [00:00<?, ?it/s]\n",
      "Epoch [6/300]:   0%|                                                                             | 0/33 [00:00<?, ?it/s]\u001b[A\n",
      "Epoch [6/300]:   0%|                                                                   | 0/33 [00:00<?, ?it/s, loss=1.4]\u001b[A"
     ]
    },
    {
     "name": "stdout",
     "output_type": "stream",
     "text": [
      "0\n",
      "1\n",
      "2\n",
      "3\n",
      "4\n",
      "5\n"
     ]
    },
    {
     "name": "stderr",
     "output_type": "stream",
     "text": [
      "Epoch [6/300]:  27%|███████████████▌                                         | 9/33 [00:00<00:00, 86.09it/s, loss=0.919]"
     ]
    },
    {
     "name": "stdout",
     "output_type": "stream",
     "text": [
      "6\n",
      "7\n",
      "8\n"
     ]
    },
    {
     "name": "stderr",
     "output_type": "stream",
     "text": [
      "Epoch [6/300]:  27%|███████████████▌                                         | 9/33 [00:00<00:00, 86.09it/s, loss=0.922]"
     ]
    },
    {
     "name": "stdout",
     "output_type": "stream",
     "text": [
      "9\n",
      "10\n",
      "11\n"
     ]
    },
    {
     "name": "stderr",
     "output_type": "stream",
     "text": [
      "Epoch [6/300]:  55%|███████████████████████████████                          | 18/33 [00:00<00:00, 87.32it/s, loss=1.32]"
     ]
    },
    {
     "name": "stdout",
     "output_type": "stream",
     "text": [
      "12\n",
      "13\n",
      "14\n",
      "15\n",
      "16\n",
      "17\n",
      "18\n",
      "19\n"
     ]
    },
    {
     "name": "stderr",
     "output_type": "stream",
     "text": [
      "Epoch [6/300]:  55%|███████████████████████████████                          | 18/33 [00:00<00:00, 87.32it/s, loss=0.89]"
     ]
    },
    {
     "name": "stdout",
     "output_type": "stream",
     "text": [
      "20\n",
      "21\n",
      "22\n",
      "23\n",
      "24\n"
     ]
    },
    {
     "name": "stderr",
     "output_type": "stream",
     "text": [
      "Epoch [6/300]:  82%|█████████████████████████████████████████████████           | 27/33 [00:00<00:00, 88.40it/s, loss=1]"
     ]
    },
    {
     "name": "stdout",
     "output_type": "stream",
     "text": [
      "25\n",
      "26\n",
      "27\n"
     ]
    },
    {
     "name": "stderr",
     "output_type": "stream",
     "text": [
      "Epoch [6/300]:  82%|██████████████████████████████████████████████▋          | 27/33 [00:00<00:00, 88.40it/s, loss=1.09]"
     ]
    },
    {
     "name": "stdout",
     "output_type": "stream",
     "text": [
      "28\n",
      "29\n",
      "30\n"
     ]
    },
    {
     "name": "stderr",
     "output_type": "stream",
     "text": [
      "Epoch [6/300]: 100%|█████████████████████████████████████████████████████████| 33/33 [00:00<00:00, 90.86it/s, loss=1.29]\n",
      "\n",
      "Epoch [6/300]:   0%|                                                                   | 0/5 [00:00<?, ?it/s, loss=1.69]\u001b[A\n",
      "Epoch [6/300]:  20%|███████████▊                                               | 1/5 [00:00<00:01,  2.72it/s, loss=1.69]\u001b[A\n",
      "Epoch [6/300]:  20%|███████████▌                                              | 1/5 [00:00<00:01,  2.72it/s, loss=0.972]\u001b[A\n",
      "Epoch [6/300]:  20%|███████████▌                                              | 1/5 [00:00<00:01,  2.72it/s, loss=0.845]\u001b[A\n",
      "Epoch [6/300]:  20%|███████████▊                                               | 1/5 [00:00<00:01,  2.72it/s, loss=1.21]\u001b[A\n",
      "Epoch [6/300]: 100%|██████████████████████████████████████████████████████████| 5/5 [00:00<00:00, 12.26it/s, loss=0.228]\u001b[A\n"
     ]
    },
    {
     "name": "stdout",
     "output_type": "stream",
     "text": [
      "31\n",
      "32\n",
      "0\n",
      "1\n",
      "2\n",
      "3\n",
      "4\n",
      "model improved and saved\n",
      "\n",
      "Epoch 6: train loss: 1.0024105870362483 \n",
      "Epoch 6: valid loss: 0.9882898896932601 \n"
     ]
    },
    {
     "name": "stderr",
     "output_type": "stream",
     "text": [
      "  0%|                                                                                            | 0/33 [00:00<?, ?it/s]\n",
      "Epoch [7/300]:   0%|                                                                             | 0/33 [00:00<?, ?it/s]\u001b[A\n",
      "Epoch [7/300]:   0%|                                                                  | 0/33 [00:00<?, ?it/s, loss=1.13]\u001b[A"
     ]
    },
    {
     "name": "stdout",
     "output_type": "stream",
     "text": [
      "0\n",
      "1\n",
      "2\n",
      "3\n",
      "4\n",
      "5\n"
     ]
    },
    {
     "name": "stderr",
     "output_type": "stream",
     "text": [
      "Epoch [7/300]:   0%|                                                                 | 0/33 [00:00<?, ?it/s, loss=0.977]"
     ]
    },
    {
     "name": "stdout",
     "output_type": "stream",
     "text": [
      "6\n",
      "7\n",
      "8\n"
     ]
    },
    {
     "name": "stderr",
     "output_type": "stream",
     "text": [
      "Epoch [7/300]:  30%|████████████████▉                                       | 10/33 [00:00<00:00, 92.74it/s, loss=0.852]"
     ]
    },
    {
     "name": "stdout",
     "output_type": "stream",
     "text": [
      "9\n",
      "10\n",
      "11\n"
     ]
    },
    {
     "name": "stderr",
     "output_type": "stream",
     "text": [
      "Epoch [7/300]:  30%|█████████████████▎                                       | 10/33 [00:00<00:00, 92.74it/s, loss=1.13]"
     ]
    },
    {
     "name": "stdout",
     "output_type": "stream",
     "text": [
      "12\n",
      "13\n",
      "14\n",
      "15\n",
      "16\n",
      "17\n",
      "18\n",
      "19\n"
     ]
    },
    {
     "name": "stderr",
     "output_type": "stream",
     "text": [
      "Epoch [7/300]:  61%|█████████████████████████████████▉                      | 20/33 [00:00<00:00, 90.73it/s, loss=0.787]"
     ]
    },
    {
     "name": "stdout",
     "output_type": "stream",
     "text": [
      "20\n",
      "21\n",
      "22\n",
      "23\n",
      "24\n"
     ]
    },
    {
     "name": "stderr",
     "output_type": "stream",
     "text": [
      "Epoch [7/300]:  61%|██████████████████████████████████▌                      | 20/33 [00:00<00:00, 90.73it/s, loss=0.84]"
     ]
    },
    {
     "name": "stdout",
     "output_type": "stream",
     "text": [
      "25\n",
      "26\n",
      "27\n"
     ]
    },
    {
     "name": "stderr",
     "output_type": "stream",
     "text": [
      "Epoch [7/300]:  91%|██████████████████████████████████████████████████▉     | 30/33 [00:00<00:00, 93.09it/s, loss=0.833]"
     ]
    },
    {
     "name": "stdout",
     "output_type": "stream",
     "text": [
      "28\n",
      "29\n",
      "30\n",
      "31\n"
     ]
    },
    {
     "name": "stderr",
     "output_type": "stream",
     "text": [
      "Epoch [7/300]: 100%|████████████████████████████████████████████████████████| 33/33 [00:00<00:00, 94.35it/s, loss=0.526]\n",
      "\n",
      "Epoch [7/300]:   0%|                                                                   | 0/5 [00:00<?, ?it/s, loss=1.67]\u001b[A\n",
      "Epoch [7/300]:  20%|███████████▊                                               | 1/5 [00:00<00:01,  2.77it/s, loss=1.67]\u001b[A\n",
      "Epoch [7/300]:  20%|███████████▌                                              | 1/5 [00:00<00:01,  2.77it/s, loss=0.954]\u001b[A\n",
      "Epoch [7/300]:  20%|███████████▌                                              | 1/5 [00:00<00:01,  2.77it/s, loss=0.829]\u001b[A\n",
      "Epoch [7/300]:  20%|████████████                                                | 1/5 [00:00<00:01,  2.77it/s, loss=1.2]\u001b[A\n",
      "Epoch [7/300]: 100%|██████████████████████████████████████████████████████████| 5/5 [00:00<00:00, 12.49it/s, loss=0.209]\u001b[A\n"
     ]
    },
    {
     "name": "stdout",
     "output_type": "stream",
     "text": [
      "32\n",
      "0\n",
      "1\n",
      "2\n",
      "3\n",
      "4\n",
      "model improved and saved\n",
      "\n",
      "Epoch 7: train loss: 0.9626897952773354 \n",
      "Epoch 7: valid loss: 0.9712350875139236 \n"
     ]
    },
    {
     "name": "stderr",
     "output_type": "stream",
     "text": [
      "  0%|                                                                                            | 0/33 [00:00<?, ?it/s]\n",
      "Epoch [8/300]:   0%|                                                                             | 0/33 [00:00<?, ?it/s]\u001b[A\n",
      "Epoch [8/300]:   0%|                                                                 | 0/33 [00:00<?, ?it/s, loss=0.904]\u001b[A"
     ]
    },
    {
     "name": "stdout",
     "output_type": "stream",
     "text": [
      "0\n"
     ]
    },
    {
     "name": "stderr",
     "output_type": "stream",
     "text": [
      "Epoch [8/300]:   0%|                                                                  | 0/33 [00:00<?, ?it/s, loss=1.36]"
     ]
    },
    {
     "name": "stdout",
     "output_type": "stream",
     "text": [
      "1\n",
      "2\n",
      "3\n",
      "4\n",
      "5\n"
     ]
    },
    {
     "name": "stderr",
     "output_type": "stream",
     "text": [
      "Epoch [8/300]:  27%|███████████████▌                                         | 9/33 [00:00<00:00, 88.05it/s, loss=0.733]"
     ]
    },
    {
     "name": "stdout",
     "output_type": "stream",
     "text": [
      "6\n",
      "7\n",
      "8\n"
     ]
    },
    {
     "name": "stderr",
     "output_type": "stream",
     "text": [
      "Epoch [8/300]:  27%|███████████████▌                                         | 9/33 [00:00<00:00, 88.05it/s, loss=0.858]"
     ]
    },
    {
     "name": "stdout",
     "output_type": "stream",
     "text": [
      "9\n",
      "10\n",
      "11\n"
     ]
    },
    {
     "name": "stderr",
     "output_type": "stream",
     "text": [
      "Epoch [8/300]:  58%|████████████████████████████████▏                       | 19/33 [00:00<00:00, 94.03it/s, loss=0.817]"
     ]
    },
    {
     "name": "stdout",
     "output_type": "stream",
     "text": [
      "12\n",
      "13\n",
      "14\n",
      "15\n",
      "16\n",
      "17\n",
      "18\n",
      "19\n"
     ]
    },
    {
     "name": "stderr",
     "output_type": "stream",
     "text": [
      "\r",
      "Epoch [8/300]:  58%|████████████████████████████████▏                       | 19/33 [00:00<00:00, 94.03it/s, loss=0.806]"
     ]
    },
    {
     "name": "stdout",
     "output_type": "stream",
     "text": [
      "20\n"
     ]
    },
    {
     "name": "stderr",
     "output_type": "stream",
     "text": [
      "Epoch [8/300]:  58%|████████████████████████████████▊                        | 19/33 [00:00<00:00, 94.03it/s, loss=1.08]"
     ]
    },
    {
     "name": "stdout",
     "output_type": "stream",
     "text": [
      "21\n",
      "22\n",
      "23\n",
      "24\n",
      "25\n"
     ]
    },
    {
     "name": "stderr",
     "output_type": "stream",
     "text": [
      "Epoch [8/300]:  88%|██████████████████████████████████████████████████       | 29/33 [00:00<00:00, 96.16it/s, loss=1.24]"
     ]
    },
    {
     "name": "stdout",
     "output_type": "stream",
     "text": [
      "26\n",
      "27\n",
      "28\n"
     ]
    },
    {
     "name": "stderr",
     "output_type": "stream",
     "text": [
      "Epoch [8/300]:  88%|█████████████████████████████████████████████████▏      | 29/33 [00:00<00:00, 96.16it/s, loss=0.247]"
     ]
    },
    {
     "name": "stdout",
     "output_type": "stream",
     "text": [
      "29\n",
      "30\n",
      "31\n",
      "32\n"
     ]
    },
    {
     "name": "stderr",
     "output_type": "stream",
     "text": [
      "Epoch [8/300]: 100%|████████████████████████████████████████████████████████| 33/33 [00:00<00:00, 95.36it/s, loss=0.247]\n",
      "\n",
      "Epoch [8/300]:   0%|                                                                   | 0/5 [00:00<?, ?it/s, loss=1.66]\u001b[A\n",
      "Epoch [8/300]:  20%|███████████▊                                               | 1/5 [00:00<00:01,  2.82it/s, loss=1.66]\u001b[A\n",
      "Epoch [8/300]:  20%|███████████▌                                              | 1/5 [00:00<00:01,  2.82it/s, loss=0.942]\u001b[A\n",
      "Epoch [8/300]:  20%|███████████▌                                              | 1/5 [00:00<00:01,  2.82it/s, loss=0.818]\u001b[A\n",
      "Epoch [8/300]:  20%|███████████▊                                               | 1/5 [00:00<00:01,  2.82it/s, loss=1.19]\u001b[A\n",
      "Epoch [8/300]: 100%|██████████████████████████████████████████████████████████| 5/5 [00:00<00:00, 12.70it/s, loss=0.197]\u001b[A\n"
     ]
    },
    {
     "name": "stdout",
     "output_type": "stream",
     "text": [
      "0\n",
      "1\n",
      "2\n",
      "3\n",
      "4\n",
      "model improved and saved\n",
      "\n",
      "Epoch 8: train loss: 0.9343194044900663 \n",
      "Epoch 8: valid loss: 0.9604346096515656 \n"
     ]
    },
    {
     "name": "stderr",
     "output_type": "stream",
     "text": [
      "  0%|                                                                                            | 0/33 [00:00<?, ?it/s]\n",
      "Epoch [9/300]:   0%|                                                                             | 0/33 [00:00<?, ?it/s]\u001b[A\n",
      "Epoch [9/300]:   0%|                                                                  | 0/33 [00:00<?, ?it/s, loss=1.05]\u001b[A"
     ]
    },
    {
     "name": "stdout",
     "output_type": "stream",
     "text": [
      "0\n"
     ]
    },
    {
     "name": "stderr",
     "output_type": "stream",
     "text": [
      "\r",
      "Epoch [9/300]:   0%|                                                                 | 0/33 [00:00<?, ?it/s, loss=0.822]"
     ]
    },
    {
     "name": "stdout",
     "output_type": "stream",
     "text": [
      "1\n"
     ]
    },
    {
     "name": "stderr",
     "output_type": "stream",
     "text": [
      "Epoch [9/300]:   0%|                                                                  | 0/33 [00:00<?, ?it/s, loss=1.05]"
     ]
    },
    {
     "name": "stdout",
     "output_type": "stream",
     "text": [
      "2\n",
      "3\n",
      "4\n",
      "5\n"
     ]
    },
    {
     "name": "stderr",
     "output_type": "stream",
     "text": [
      "Epoch [9/300]:  27%|███████████████▊                                          | 9/33 [00:00<00:00, 84.29it/s, loss=1.03]"
     ]
    },
    {
     "name": "stdout",
     "output_type": "stream",
     "text": [
      "6\n",
      "7\n",
      "8\n"
     ]
    },
    {
     "name": "stderr",
     "output_type": "stream",
     "text": [
      "Epoch [9/300]:  27%|███████████████▊                                          | 9/33 [00:00<00:00, 84.29it/s, loss=1.23]"
     ]
    },
    {
     "name": "stdout",
     "output_type": "stream",
     "text": [
      "9\n",
      "10\n",
      "11\n",
      "12\n"
     ]
    },
    {
     "name": "stderr",
     "output_type": "stream",
     "text": [
      "Epoch [9/300]:  55%|██████████████████████████████▌                         | 18/33 [00:00<00:00, 81.95it/s, loss=0.895]"
     ]
    },
    {
     "name": "stdout",
     "output_type": "stream",
     "text": [
      "13\n",
      "14\n",
      "15\n",
      "16\n",
      "17\n"
     ]
    },
    {
     "name": "stderr",
     "output_type": "stream",
     "text": [
      "\r",
      "Epoch [9/300]:  55%|██████████████████████████████▌                         | 18/33 [00:00<00:00, 81.95it/s, loss=0.837]"
     ]
    },
    {
     "name": "stdout",
     "output_type": "stream",
     "text": [
      "18\n"
     ]
    },
    {
     "name": "stderr",
     "output_type": "stream",
     "text": [
      "\r",
      "Epoch [9/300]:  55%|███████████████████████████████                          | 18/33 [00:00<00:00, 81.95it/s, loss=1.09]"
     ]
    },
    {
     "name": "stdout",
     "output_type": "stream",
     "text": [
      "19\n"
     ]
    },
    {
     "name": "stderr",
     "output_type": "stream",
     "text": [
      "Epoch [9/300]:  55%|██████████████████████████████▌                         | 18/33 [00:00<00:00, 81.95it/s, loss=0.882]"
     ]
    },
    {
     "name": "stdout",
     "output_type": "stream",
     "text": [
      "20\n",
      "21\n",
      "22\n",
      "23\n"
     ]
    },
    {
     "name": "stderr",
     "output_type": "stream",
     "text": [
      "Epoch [9/300]:  55%|██████████████████████████████▌                         | 18/33 [00:00<00:00, 81.95it/s, loss=0.822]"
     ]
    },
    {
     "name": "stdout",
     "output_type": "stream",
     "text": [
      "24\n",
      "25\n"
     ]
    },
    {
     "name": "stderr",
     "output_type": "stream",
     "text": [
      "Epoch [9/300]:  82%|█████████████████████████████████████████████▊          | 27/33 [00:00<00:00, 84.68it/s, loss=0.916]"
     ]
    },
    {
     "name": "stdout",
     "output_type": "stream",
     "text": [
      "26\n",
      "27\n",
      "28\n",
      "29\n",
      "30\n"
     ]
    },
    {
     "name": "stderr",
     "output_type": "stream",
     "text": [
      "Epoch [9/300]: 100%|████████████████████████████████████████████████████████| 33/33 [00:00<00:00, 87.49it/s, loss=0.566]\n",
      "\n",
      "Epoch [9/300]:   0%|                                                                   | 0/5 [00:00<?, ?it/s, loss=1.65]\u001b[A\n",
      "Epoch [9/300]:  20%|███████████▊                                               | 1/5 [00:00<00:01,  2.59it/s, loss=1.65]\u001b[A\n",
      "Epoch [9/300]:  20%|███████████▌                                              | 1/5 [00:00<00:01,  2.59it/s, loss=0.934]\u001b[A\n",
      "Epoch [9/300]:  20%|███████████▌                                              | 1/5 [00:00<00:01,  2.59it/s, loss=0.811]\u001b[A\n",
      "Epoch [9/300]:  20%|███████████▊                                               | 1/5 [00:00<00:01,  2.59it/s, loss=1.19]\u001b[A\n",
      "Epoch [9/300]:  20%|███████████▌                                              | 1/5 [00:00<00:01,  2.59it/s, loss=0.189]"
     ]
    },
    {
     "name": "stdout",
     "output_type": "stream",
     "text": [
      "31\n",
      "32\n",
      "0\n",
      "1\n",
      "2\n",
      "3\n",
      "4\n"
     ]
    },
    {
     "name": "stderr",
     "output_type": "stream",
     "text": [
      "Epoch [9/300]: 100%|██████████████████████████████████████████████████████████| 5/5 [00:00<00:00, 11.68it/s, loss=0.189]\n"
     ]
    },
    {
     "name": "stdout",
     "output_type": "stream",
     "text": [
      "model improved and saved\n",
      "\n",
      "Epoch 9: train loss: 0.9424931786277078 \n",
      "Epoch 9: valid loss: 0.9533906280994415 \n"
     ]
    },
    {
     "name": "stderr",
     "output_type": "stream",
     "text": [
      "  0%|                                                                                            | 0/33 [00:00<?, ?it/s]\n",
      "Epoch [10/300]:   0%|                                                                            | 0/33 [00:00<?, ?it/s]\u001b[A\n",
      "Epoch [10/300]:   0%|                                                                | 0/33 [00:00<?, ?it/s, loss=0.734]\u001b[A"
     ]
    },
    {
     "name": "stdout",
     "output_type": "stream",
     "text": [
      "0\n",
      "1\n",
      "2\n",
      "3\n"
     ]
    },
    {
     "name": "stderr",
     "output_type": "stream",
     "text": [
      "Epoch [10/300]:   0%|                                                                | 0/33 [00:00<?, ?it/s, loss=0.687]"
     ]
    },
    {
     "name": "stdout",
     "output_type": "stream",
     "text": [
      "4\n",
      "5\n"
     ]
    },
    {
     "name": "stderr",
     "output_type": "stream",
     "text": [
      "Epoch [10/300]:  24%|█████████████▊                                           | 8/33 [00:00<00:00, 67.73it/s, loss=1.18]"
     ]
    },
    {
     "name": "stdout",
     "output_type": "stream",
     "text": [
      "6\n",
      "7\n"
     ]
    },
    {
     "name": "stderr",
     "output_type": "stream",
     "text": [
      "Epoch [10/300]:  24%|█████████████▌                                          | 8/33 [00:00<00:00, 67.73it/s, loss=0.949]"
     ]
    },
    {
     "name": "stdout",
     "output_type": "stream",
     "text": [
      "8\n",
      "9\n",
      "10\n"
     ]
    },
    {
     "name": "stderr",
     "output_type": "stream",
     "text": [
      "\r",
      "Epoch [10/300]:  24%|█████████████▊                                           | 8/33 [00:00<00:00, 67.73it/s, loss=1.19]"
     ]
    },
    {
     "name": "stdout",
     "output_type": "stream",
     "text": [
      "11\n"
     ]
    },
    {
     "name": "stderr",
     "output_type": "stream",
     "text": [
      "\r",
      "Epoch [10/300]:  24%|█████████████▌                                          | 8/33 [00:00<00:00, 67.73it/s, loss=0.803]"
     ]
    },
    {
     "name": "stdout",
     "output_type": "stream",
     "text": [
      "12\n",
      "13\n"
     ]
    },
    {
     "name": "stderr",
     "output_type": "stream",
     "text": [
      "Epoch [10/300]:  45%|█████████████████████████▍                              | 15/33 [00:00<00:00, 50.91it/s, loss=1.02]"
     ]
    },
    {
     "name": "stdout",
     "output_type": "stream",
     "text": [
      "14\n"
     ]
    },
    {
     "name": "stderr",
     "output_type": "stream",
     "text": [
      "Epoch [10/300]:  45%|█████████████████████████                              | 15/33 [00:00<00:00, 50.91it/s, loss=0.824]"
     ]
    },
    {
     "name": "stdout",
     "output_type": "stream",
     "text": [
      "15\n",
      "16\n",
      "17\n"
     ]
    },
    {
     "name": "stderr",
     "output_type": "stream",
     "text": [
      "Epoch [10/300]:  64%|███████████████████████████████████▋                    | 21/33 [00:00<00:00, 54.14it/s, loss=1.12]"
     ]
    },
    {
     "name": "stdout",
     "output_type": "stream",
     "text": [
      "18\n",
      "19\n",
      "20\n",
      "21\n"
     ]
    },
    {
     "name": "stderr",
     "output_type": "stream",
     "text": [
      "Epoch [10/300]:  64%|███████████████████████████████████▋                    | 21/33 [00:00<00:00, 54.14it/s, loss=1.35]"
     ]
    },
    {
     "name": "stdout",
     "output_type": "stream",
     "text": [
      "22\n",
      "23\n"
     ]
    },
    {
     "name": "stderr",
     "output_type": "stream",
     "text": [
      "Epoch [10/300]:  64%|███████████████████████████████████                    | 21/33 [00:00<00:00, 54.14it/s, loss=0.662]"
     ]
    },
    {
     "name": "stdout",
     "output_type": "stream",
     "text": [
      "24\n",
      "25\n"
     ]
    },
    {
     "name": "stderr",
     "output_type": "stream",
     "text": [
      "Epoch [10/300]:  82%|█████████████████████████████████████████████          | 27/33 [00:00<00:00, 53.82it/s, loss=0.889]"
     ]
    },
    {
     "name": "stdout",
     "output_type": "stream",
     "text": [
      "26\n"
     ]
    },
    {
     "name": "stderr",
     "output_type": "stream",
     "text": [
      "Epoch [10/300]:  82%|█████████████████████████████████████████████          | 27/33 [00:00<00:00, 53.82it/s, loss=0.637]"
     ]
    },
    {
     "name": "stdout",
     "output_type": "stream",
     "text": [
      "27\n",
      "28\n",
      "29\n"
     ]
    },
    {
     "name": "stderr",
     "output_type": "stream",
     "text": [
      "Epoch [10/300]: 100%|███████████████████████████████████████████████████████████| 33/33 [00:00<00:00, 58.01it/s, loss=2]\n",
      "\n",
      "Epoch [10/300]:   0%|                                                                  | 0/5 [00:00<?, ?it/s, loss=1.64]\u001b[A\n",
      "Epoch [10/300]:  20%|███████████▌                                              | 1/5 [00:00<00:02,  1.73it/s, loss=1.64]\u001b[A\n",
      "Epoch [10/300]:  20%|███████████▍                                             | 1/5 [00:00<00:02,  1.73it/s, loss=0.928]\u001b[A\n",
      "Epoch [10/300]:  20%|███████████▍                                             | 1/5 [00:00<00:02,  1.73it/s, loss=0.806]\u001b[A\n",
      "Epoch [10/300]:  20%|███████████▌                                              | 1/5 [00:00<00:02,  1.73it/s, loss=1.18]\u001b[A\n",
      "Epoch [10/300]:  20%|███████████▍                                             | 1/5 [00:00<00:02,  1.73it/s, loss=0.183]\u001b[A"
     ]
    },
    {
     "name": "stdout",
     "output_type": "stream",
     "text": [
      "30\n",
      "31\n",
      "32\n",
      "0\n",
      "1\n",
      "2\n",
      "3\n",
      "4\n"
     ]
    },
    {
     "name": "stderr",
     "output_type": "stream",
     "text": [
      "Epoch [10/300]: 100%|█████████████████████████████████████████████████████████| 5/5 [00:00<00:00,  8.12it/s, loss=0.183]\n"
     ]
    },
    {
     "name": "stdout",
     "output_type": "stream",
     "text": [
      "model improved and saved\n",
      "\n",
      "Epoch 10: train loss: 0.967654880249139 \n",
      "Epoch 10: valid loss: 0.9479641586542129 \n"
     ]
    },
    {
     "name": "stderr",
     "output_type": "stream",
     "text": [
      "  0%|                                                                                            | 0/33 [00:00<?, ?it/s]\n",
      "Epoch [11/300]:   0%|                                                                            | 0/33 [00:00<?, ?it/s]\u001b[A\n",
      "Epoch [11/300]:   0%|                                                                | 0/33 [00:00<?, ?it/s, loss=0.668]\u001b[A"
     ]
    },
    {
     "name": "stdout",
     "output_type": "stream",
     "text": [
      "0\n",
      "1\n"
     ]
    },
    {
     "name": "stderr",
     "output_type": "stream",
     "text": [
      "Epoch [11/300]:   0%|                                                                | 0/33 [00:00<?, ?it/s, loss=0.697]"
     ]
    },
    {
     "name": "stdout",
     "output_type": "stream",
     "text": [
      "2\n",
      "3\n",
      "4\n",
      "5\n"
     ]
    },
    {
     "name": "stderr",
     "output_type": "stream",
     "text": [
      "\r",
      "Epoch [11/300]:   0%|                                                                  | 0/33 [00:00<?, ?it/s, loss=1.1]"
     ]
    },
    {
     "name": "stdout",
     "output_type": "stream",
     "text": [
      "6\n"
     ]
    },
    {
     "name": "stderr",
     "output_type": "stream",
     "text": [
      "Epoch [11/300]:  27%|███████████████▎                                        | 9/33 [00:00<00:00, 86.68it/s, loss=0.873]"
     ]
    },
    {
     "name": "stdout",
     "output_type": "stream",
     "text": [
      "7\n",
      "8\n",
      "9\n",
      "10\n"
     ]
    },
    {
     "name": "stderr",
     "output_type": "stream",
     "text": [
      "Epoch [11/300]:  27%|███████████████▌                                         | 9/33 [00:00<00:00, 86.68it/s, loss=1.01]"
     ]
    },
    {
     "name": "stdout",
     "output_type": "stream",
     "text": [
      "11\n",
      "12\n",
      "13\n",
      "14\n",
      "15\n",
      "16\n"
     ]
    },
    {
     "name": "stderr",
     "output_type": "stream",
     "text": [
      "Epoch [11/300]:  55%|█████████████████████████████▉                         | 18/33 [00:00<00:00, 87.54it/s, loss=0.857]"
     ]
    },
    {
     "name": "stdout",
     "output_type": "stream",
     "text": [
      "17\n",
      "18\n"
     ]
    },
    {
     "name": "stderr",
     "output_type": "stream",
     "text": [
      "\r",
      "Epoch [11/300]:  55%|█████████████████████████████▉                         | 18/33 [00:00<00:00, 87.54it/s, loss=0.817]"
     ]
    },
    {
     "name": "stdout",
     "output_type": "stream",
     "text": [
      "19\n"
     ]
    },
    {
     "name": "stderr",
     "output_type": "stream",
     "text": [
      "Epoch [11/300]:  55%|█████████████████████████████▉                         | 18/33 [00:00<00:00, 87.54it/s, loss=0.555]"
     ]
    },
    {
     "name": "stdout",
     "output_type": "stream",
     "text": [
      "20\n",
      "21\n",
      "22\n"
     ]
    },
    {
     "name": "stderr",
     "output_type": "stream",
     "text": [
      "\r",
      "Epoch [11/300]:  55%|█████████████████████████████▉                         | 18/33 [00:00<00:00, 87.54it/s, loss=0.805]"
     ]
    },
    {
     "name": "stdout",
     "output_type": "stream",
     "text": [
      "23\n"
     ]
    },
    {
     "name": "stderr",
     "output_type": "stream",
     "text": [
      "Epoch [11/300]:  55%|█████████████████████████████▉                         | 18/33 [00:00<00:00, 87.54it/s, loss=0.687]"
     ]
    },
    {
     "name": "stdout",
     "output_type": "stream",
     "text": [
      "24\n",
      "25\n",
      "26\n"
     ]
    },
    {
     "name": "stderr",
     "output_type": "stream",
     "text": [
      "Epoch [11/300]:  82%|█████████████████████████████████████████████▊          | 27/33 [00:00<00:00, 76.99it/s, loss=1.03]"
     ]
    },
    {
     "name": "stdout",
     "output_type": "stream",
     "text": [
      "27\n",
      "28\n",
      "29\n"
     ]
    },
    {
     "name": "stderr",
     "output_type": "stream",
     "text": [
      "\r",
      "Epoch [11/300]:  82%|█████████████████████████████████████████████▊          | 27/33 [00:00<00:00, 76.99it/s, loss=1.21]"
     ]
    },
    {
     "name": "stdout",
     "output_type": "stream",
     "text": [
      "30\n"
     ]
    },
    {
     "name": "stderr",
     "output_type": "stream",
     "text": [
      "\r",
      "Epoch [11/300]:  82%|█████████████████████████████████████████████          | 27/33 [00:00<00:00, 76.99it/s, loss=0.704]"
     ]
    },
    {
     "name": "stdout",
     "output_type": "stream",
     "text": [
      "31\n"
     ]
    },
    {
     "name": "stderr",
     "output_type": "stream",
     "text": [
      "Epoch [11/300]: 100%|███████████████████████████████████████████████████████| 33/33 [00:00<00:00, 69.82it/s, loss=0.594]\n"
     ]
    },
    {
     "name": "stdout",
     "output_type": "stream",
     "text": [
      "32\n"
     ]
    },
    {
     "name": "stderr",
     "output_type": "stream",
     "text": [
      "\n",
      "Epoch [11/300]:   0%|                                                                  | 0/5 [00:00<?, ?it/s, loss=1.64]\u001b[A\n",
      "Epoch [11/300]:  20%|███████████▌                                              | 1/5 [00:00<00:01,  2.04it/s, loss=1.64]\u001b[A"
     ]
    },
    {
     "name": "stdout",
     "output_type": "stream",
     "text": [
      "0\n"
     ]
    },
    {
     "name": "stderr",
     "output_type": "stream",
     "text": [
      "\n",
      "Epoch [11/300]:  20%|███████████▍                                             | 1/5 [00:00<00:01,  2.04it/s, loss=0.924]\u001b[A\n",
      "Epoch [11/300]:  20%|███████████▍                                             | 1/5 [00:00<00:01,  2.04it/s, loss=0.802]\u001b[A\n",
      "Epoch [11/300]:  20%|███████████▌                                              | 1/5 [00:00<00:01,  2.04it/s, loss=1.18]\u001b[A\n",
      "Epoch [11/300]: 100%|█████████████████████████████████████████████████████████| 5/5 [00:00<00:00,  9.09it/s, loss=0.179]\u001b[A\n"
     ]
    },
    {
     "name": "stdout",
     "output_type": "stream",
     "text": [
      "1\n",
      "2\n",
      "3\n",
      "4\n",
      "model improved and saved\n",
      "\n",
      "Epoch 11: train loss: 0.9266054558031487 \n",
      "Epoch 11: valid loss: 0.9440648347139359 \n"
     ]
    },
    {
     "name": "stderr",
     "output_type": "stream",
     "text": [
      "  0%|                                                                                            | 0/33 [00:00<?, ?it/s]\n",
      "Epoch [12/300]:   0%|                                                                            | 0/33 [00:00<?, ?it/s]\u001b[A\n",
      "Epoch [12/300]:   0%|                                                                | 0/33 [00:00<?, ?it/s, loss=0.823]\u001b[A"
     ]
    },
    {
     "name": "stdout",
     "output_type": "stream",
     "text": [
      "0\n",
      "1\n"
     ]
    },
    {
     "name": "stderr",
     "output_type": "stream",
     "text": [
      "\r",
      "Epoch [12/300]:   0%|                                                                | 0/33 [00:00<?, ?it/s, loss=0.722]"
     ]
    },
    {
     "name": "stdout",
     "output_type": "stream",
     "text": [
      "2\n"
     ]
    },
    {
     "name": "stderr",
     "output_type": "stream",
     "text": [
      "Epoch [12/300]:   0%|                                                                | 0/33 [00:00<?, ?it/s, loss=0.993]"
     ]
    },
    {
     "name": "stdout",
     "output_type": "stream",
     "text": [
      "3\n",
      "4\n"
     ]
    },
    {
     "name": "stderr",
     "output_type": "stream",
     "text": [
      "Epoch [12/300]:  15%|████████▋                                                | 5/33 [00:00<00:00, 46.78it/s, loss=1.11]"
     ]
    },
    {
     "name": "stdout",
     "output_type": "stream",
     "text": [
      "5\n"
     ]
    },
    {
     "name": "stderr",
     "output_type": "stream",
     "text": [
      "Epoch [12/300]:  36%|████████████████████▎                                   | 12/33 [00:00<00:00, 57.40it/s, loss=1.19]"
     ]
    },
    {
     "name": "stdout",
     "output_type": "stream",
     "text": [
      "6\n",
      "7\n",
      "8\n",
      "9\n",
      "10\n",
      "11\n"
     ]
    },
    {
     "name": "stderr",
     "output_type": "stream",
     "text": [
      "Epoch [12/300]:  36%|████████████████████                                   | 12/33 [00:00<00:00, 57.40it/s, loss=0.859]"
     ]
    },
    {
     "name": "stdout",
     "output_type": "stream",
     "text": [
      "12\n",
      "13\n",
      "14\n",
      "15\n"
     ]
    },
    {
     "name": "stderr",
     "output_type": "stream",
     "text": [
      "Epoch [12/300]:  36%|████████████████████                                   | 12/33 [00:00<00:00, 57.40it/s, loss=0.726]"
     ]
    },
    {
     "name": "stdout",
     "output_type": "stream",
     "text": [
      "16\n",
      "17\n"
     ]
    },
    {
     "name": "stderr",
     "output_type": "stream",
     "text": [
      "Epoch [12/300]:  61%|█████████████████████████████████▎                     | 20/33 [00:00<00:00, 66.62it/s, loss=0.954]"
     ]
    },
    {
     "name": "stdout",
     "output_type": "stream",
     "text": [
      "18\n",
      "19\n",
      "20\n"
     ]
    },
    {
     "name": "stderr",
     "output_type": "stream",
     "text": [
      "\r",
      "Epoch [12/300]:  61%|█████████████████████████████████▎                     | 20/33 [00:00<00:00, 66.62it/s, loss=0.556]"
     ]
    },
    {
     "name": "stdout",
     "output_type": "stream",
     "text": [
      "21\n"
     ]
    },
    {
     "name": "stderr",
     "output_type": "stream",
     "text": [
      "Epoch [12/300]:  85%|███████████████████████████████████████████████▌        | 28/33 [00:00<00:00, 70.30it/s, loss=1.02]"
     ]
    },
    {
     "name": "stdout",
     "output_type": "stream",
     "text": [
      "22\n",
      "23\n",
      "24\n",
      "25\n",
      "26\n",
      "27\n"
     ]
    },
    {
     "name": "stderr",
     "output_type": "stream",
     "text": [
      "Epoch [12/300]:  85%|███████████████████████████████████████████████▌        | 28/33 [00:00<00:00, 70.30it/s, loss=1.37]"
     ]
    },
    {
     "name": "stdout",
     "output_type": "stream",
     "text": [
      "28\n",
      "29\n",
      "30\n",
      "31\n"
     ]
    },
    {
     "name": "stderr",
     "output_type": "stream",
     "text": [
      "Epoch [12/300]: 100%|████████████████████████████████████████████████████████| 33/33 [00:00<00:00, 68.54it/s, loss=1.05]\n",
      "\n",
      "Epoch [12/300]:   0%|                                                                  | 0/5 [00:00<?, ?it/s, loss=1.63]\u001b[A\n",
      "Epoch [12/300]:  20%|███████████▌                                              | 1/5 [00:00<00:01,  2.05it/s, loss=1.63]\u001b[A"
     ]
    },
    {
     "name": "stdout",
     "output_type": "stream",
     "text": [
      "32\n",
      "0\n"
     ]
    },
    {
     "name": "stderr",
     "output_type": "stream",
     "text": [
      "\n",
      "Epoch [12/300]:  20%|███████████▌                                              | 1/5 [00:00<00:01,  2.05it/s, loss=0.92]\u001b[A\n",
      "Epoch [12/300]:  20%|███████████▍                                             | 1/5 [00:00<00:01,  2.05it/s, loss=0.799]\u001b[A\n",
      "Epoch [12/300]:  20%|███████████▌                                              | 1/5 [00:00<00:01,  2.05it/s, loss=1.18]\u001b[A\n",
      "Epoch [12/300]: 100%|█████████████████████████████████████████████████████████| 5/5 [00:00<00:00,  9.32it/s, loss=0.176]\u001b[A"
     ]
    },
    {
     "name": "stdout",
     "output_type": "stream",
     "text": [
      "1\n",
      "2\n",
      "3\n",
      "4\n",
      "model improved and saved\n",
      "\n",
      "Epoch 12: train loss: 0.9280441295016896 \n",
      "Epoch 12: valid loss: 0.940792191028595 \n"
     ]
    },
    {
     "name": "stderr",
     "output_type": "stream",
     "text": [
      "\n",
      "  0%|                                                                                            | 0/33 [00:00<?, ?it/s]\n",
      "Epoch [13/300]:   0%|                                                                            | 0/33 [00:00<?, ?it/s]\u001b[A\n",
      "Epoch [13/300]:   0%|                                                                 | 0/33 [00:00<?, ?it/s, loss=0.85]\u001b[A"
     ]
    },
    {
     "name": "stdout",
     "output_type": "stream",
     "text": [
      "0\n",
      "1\n",
      "2\n",
      "3\n",
      "4\n",
      "5\n"
     ]
    },
    {
     "name": "stderr",
     "output_type": "stream",
     "text": [
      "Epoch [13/300]:  24%|█████████████▌                                          | 8/33 [00:00<00:00, 76.17it/s, loss=0.935]"
     ]
    },
    {
     "name": "stdout",
     "output_type": "stream",
     "text": [
      "6\n",
      "7\n",
      "8\n"
     ]
    },
    {
     "name": "stderr",
     "output_type": "stream",
     "text": [
      "Epoch [13/300]:  24%|█████████████▊                                           | 8/33 [00:00<00:00, 76.17it/s, loss=1.06]"
     ]
    },
    {
     "name": "stdout",
     "output_type": "stream",
     "text": [
      "9\n",
      "10\n",
      "11\n"
     ]
    },
    {
     "name": "stderr",
     "output_type": "stream",
     "text": [
      "Epoch [13/300]:  48%|██████████████████████████▋                            | 16/33 [00:00<00:00, 74.44it/s, loss=0.695]"
     ]
    },
    {
     "name": "stdout",
     "output_type": "stream",
     "text": [
      "12\n",
      "13\n",
      "14\n",
      "15\n"
     ]
    },
    {
     "name": "stderr",
     "output_type": "stream",
     "text": [
      "Epoch [13/300]:  48%|██████████████████████████▋                            | 16/33 [00:00<00:00, 74.44it/s, loss=0.855]"
     ]
    },
    {
     "name": "stdout",
     "output_type": "stream",
     "text": [
      "16\n",
      "17\n",
      "18\n",
      "19\n",
      "20\n",
      "21\n"
     ]
    },
    {
     "name": "stderr",
     "output_type": "stream",
     "text": [
      "Epoch [13/300]:  73%|████████████████████████████████████████               | 24/33 [00:00<00:00, 76.77it/s, loss=0.782]"
     ]
    },
    {
     "name": "stdout",
     "output_type": "stream",
     "text": [
      "22\n",
      "23\n",
      "24\n"
     ]
    },
    {
     "name": "stderr",
     "output_type": "stream",
     "text": [
      "Epoch [13/300]:  73%|████████████████████████████████████████               | 24/33 [00:00<00:00, 76.77it/s, loss=0.929]"
     ]
    },
    {
     "name": "stdout",
     "output_type": "stream",
     "text": [
      "25\n",
      "26\n",
      "27\n"
     ]
    },
    {
     "name": "stderr",
     "output_type": "stream",
     "text": [
      "Epoch [13/300]:  73%|████████████████████████████████████████▋               | 24/33 [00:00<00:00, 76.77it/s, loss=1.07]"
     ]
    },
    {
     "name": "stdout",
     "output_type": "stream",
     "text": [
      "28\n",
      "29\n"
     ]
    },
    {
     "name": "stderr",
     "output_type": "stream",
     "text": [
      "Epoch [13/300]: 100%|███████████████████████████████████████████████████████| 33/33 [00:00<00:00, 71.09it/s, loss=0.629]\n",
      "\n",
      "Epoch [13/300]:   0%|                                                                  | 0/5 [00:00<?, ?it/s, loss=1.63]\u001b[A\n",
      "Epoch [13/300]:  20%|███████████▌                                              | 1/5 [00:00<00:01,  2.07it/s, loss=1.63]\u001b[A"
     ]
    },
    {
     "name": "stdout",
     "output_type": "stream",
     "text": [
      "30\n",
      "31\n",
      "32\n",
      "0\n"
     ]
    },
    {
     "name": "stderr",
     "output_type": "stream",
     "text": [
      "\n",
      "Epoch [13/300]:  20%|███████████▍                                             | 1/5 [00:00<00:01,  2.07it/s, loss=0.917]\u001b[A\n",
      "Epoch [13/300]:  20%|███████████▍                                             | 1/5 [00:00<00:01,  2.07it/s, loss=0.796]\u001b[A"
     ]
    },
    {
     "name": "stdout",
     "output_type": "stream",
     "text": [
      "1\n",
      "2\n",
      "3\n"
     ]
    },
    {
     "name": "stderr",
     "output_type": "stream",
     "text": [
      "\n",
      "Epoch [13/300]:  20%|███████████▌                                              | 1/5 [00:00<00:01,  2.07it/s, loss=1.18]\u001b[A\n",
      "Epoch [13/300]: 100%|█████████████████████████████████████████████████████████| 5/5 [00:00<00:00,  9.10it/s, loss=0.173]\u001b[A\n"
     ]
    },
    {
     "name": "stdout",
     "output_type": "stream",
     "text": [
      "4\n",
      "model improved and saved\n",
      "\n",
      "Epoch 13: train loss: 0.9109100645238702 \n",
      "Epoch 13: valid loss: 0.938045471906662 \n"
     ]
    },
    {
     "name": "stderr",
     "output_type": "stream",
     "text": [
      "  0%|                                                                                            | 0/33 [00:00<?, ?it/s]\n",
      "Epoch [14/300]:   0%|                                                                            | 0/33 [00:00<?, ?it/s]\u001b[A\n",
      "Epoch [14/300]:   0%|                                                                 | 0/33 [00:00<?, ?it/s, loss=1.04]\u001b[A"
     ]
    },
    {
     "name": "stdout",
     "output_type": "stream",
     "text": [
      "0\n",
      "1\n",
      "2\n",
      "3\n"
     ]
    },
    {
     "name": "stderr",
     "output_type": "stream",
     "text": [
      "Epoch [14/300]:  18%|██████████▏                                             | 6/33 [00:00<00:00, 59.41it/s, loss=0.866]"
     ]
    },
    {
     "name": "stdout",
     "output_type": "stream",
     "text": [
      "4\n",
      "5\n",
      "6\n",
      "7\n",
      "8\n"
     ]
    },
    {
     "name": "stderr",
     "output_type": "stream",
     "text": [
      "Epoch [14/300]:  18%|██████████▏                                             | 6/33 [00:00<00:00, 59.41it/s, loss=0.889]"
     ]
    },
    {
     "name": "stdout",
     "output_type": "stream",
     "text": [
      "9\n",
      "10\n",
      "11\n"
     ]
    },
    {
     "name": "stderr",
     "output_type": "stream",
     "text": [
      "Epoch [14/300]:  39%|█████████████████████▋                                 | 13/33 [00:00<00:00, 63.84it/s, loss=0.913]"
     ]
    },
    {
     "name": "stdout",
     "output_type": "stream",
     "text": [
      "12\n",
      "13\n"
     ]
    },
    {
     "name": "stderr",
     "output_type": "stream",
     "text": [
      "Epoch [14/300]:  39%|█████████████████████▋                                 | 13/33 [00:00<00:00, 63.84it/s, loss=0.971]"
     ]
    },
    {
     "name": "stdout",
     "output_type": "stream",
     "text": [
      "14\n",
      "15\n",
      "16\n"
     ]
    },
    {
     "name": "stderr",
     "output_type": "stream",
     "text": [
      "Epoch [14/300]:  61%|█████████████████████████████████▎                     | 20/33 [00:00<00:00, 62.55it/s, loss=0.768]"
     ]
    },
    {
     "name": "stdout",
     "output_type": "stream",
     "text": [
      "17\n",
      "18\n",
      "19\n",
      "20\n",
      "21\n"
     ]
    },
    {
     "name": "stderr",
     "output_type": "stream",
     "text": [
      "Epoch [14/300]:  61%|█████████████████████████████████▎                     | 20/33 [00:00<00:00, 62.55it/s, loss=0.958]"
     ]
    },
    {
     "name": "stdout",
     "output_type": "stream",
     "text": [
      "22\n",
      "23\n",
      "24\n"
     ]
    },
    {
     "name": "stderr",
     "output_type": "stream",
     "text": [
      "Epoch [14/300]:  82%|█████████████████████████████████████████████          | 27/33 [00:00<00:00, 62.03it/s, loss=0.686]"
     ]
    },
    {
     "name": "stdout",
     "output_type": "stream",
     "text": [
      "25\n",
      "26\n"
     ]
    },
    {
     "name": "stderr",
     "output_type": "stream",
     "text": [
      "Epoch [14/300]:  82%|█████████████████████████████████████████████          | 27/33 [00:00<00:00, 62.03it/s, loss=0.834]"
     ]
    },
    {
     "name": "stdout",
     "output_type": "stream",
     "text": [
      "27\n",
      "28\n",
      "29\n",
      "30\n"
     ]
    },
    {
     "name": "stderr",
     "output_type": "stream",
     "text": [
      "Epoch [14/300]: 100%|███████████████████████████████████████████████████████| 33/33 [00:00<00:00, 65.39it/s, loss=0.421]\n",
      "\n",
      "Epoch [14/300]:   0%|                                                                  | 0/5 [00:00<?, ?it/s, loss=1.63]\u001b[A\n",
      "Epoch [14/300]:  20%|███████████▌                                              | 1/5 [00:00<00:02,  1.93it/s, loss=1.63]\u001b[A\n",
      "Epoch [14/300]:  20%|███████████▍                                             | 1/5 [00:00<00:02,  1.93it/s, loss=0.914]\u001b[A\n",
      "Epoch [14/300]:  20%|███████████▍                                             | 1/5 [00:00<00:02,  1.93it/s, loss=0.793]\u001b[A"
     ]
    },
    {
     "name": "stdout",
     "output_type": "stream",
     "text": [
      "31\n",
      "32\n",
      "0\n",
      "1\n",
      "2\n"
     ]
    },
    {
     "name": "stderr",
     "output_type": "stream",
     "text": [
      "\n",
      "Epoch [14/300]:  20%|███████████▌                                              | 1/5 [00:00<00:02,  1.93it/s, loss=1.18]\u001b[A\n",
      "Epoch [14/300]: 100%|██████████████████████████████████████████████████████████| 5/5 [00:00<00:00,  8.76it/s, loss=0.17]\u001b[A\n"
     ]
    },
    {
     "name": "stdout",
     "output_type": "stream",
     "text": [
      "3\n",
      "4\n",
      "model improved and saved\n",
      "\n",
      "Epoch 14: train loss: 0.9037464541016202 \n",
      "Epoch 14: valid loss: 0.9356985569000245 \n"
     ]
    },
    {
     "name": "stderr",
     "output_type": "stream",
     "text": [
      "  0%|                                                                                            | 0/33 [00:00<?, ?it/s]\n",
      "Epoch [15/300]:   0%|                                                                            | 0/33 [00:00<?, ?it/s]\u001b[A\n",
      "Epoch [15/300]:   0%|                                                                 | 0/33 [00:00<?, ?it/s, loss=1.07]\u001b[A"
     ]
    },
    {
     "name": "stdout",
     "output_type": "stream",
     "text": [
      "0\n",
      "1\n",
      "2\n"
     ]
    },
    {
     "name": "stderr",
     "output_type": "stream",
     "text": [
      "Epoch [15/300]:   0%|                                                                | 0/33 [00:00<?, ?it/s, loss=0.747]"
     ]
    },
    {
     "name": "stdout",
     "output_type": "stream",
     "text": [
      "3\n",
      "4\n",
      "5\n"
     ]
    },
    {
     "name": "stderr",
     "output_type": "stream",
     "text": [
      "Epoch [15/300]:  18%|██████████▏                                             | 6/33 [00:00<00:00, 55.94it/s, loss=0.704]"
     ]
    },
    {
     "name": "stdout",
     "output_type": "stream",
     "text": [
      "6\n",
      "7\n"
     ]
    },
    {
     "name": "stderr",
     "output_type": "stream",
     "text": [
      "\r",
      "Epoch [15/300]:  18%|██████████▏                                             | 6/33 [00:00<00:00, 55.94it/s, loss=0.955]"
     ]
    },
    {
     "name": "stdout",
     "output_type": "stream",
     "text": [
      "8\n"
     ]
    },
    {
     "name": "stderr",
     "output_type": "stream",
     "text": [
      "Epoch [15/300]:  36%|████████████████████                                   | 12/33 [00:00<00:00, 35.29it/s, loss=0.728]"
     ]
    },
    {
     "name": "stdout",
     "output_type": "stream",
     "text": [
      "9\n",
      "10\n",
      "11\n"
     ]
    },
    {
     "name": "stderr",
     "output_type": "stream",
     "text": [
      "Epoch [15/300]:  36%|████████████████████▎                                   | 12/33 [00:00<00:00, 35.29it/s, loss=1.01]"
     ]
    },
    {
     "name": "stdout",
     "output_type": "stream",
     "text": [
      "12\n",
      "13\n"
     ]
    },
    {
     "name": "stderr",
     "output_type": "stream",
     "text": [
      "Epoch [15/300]:  52%|████████████████████████████▊                           | 17/33 [00:00<00:00, 39.50it/s, loss=1.01]"
     ]
    },
    {
     "name": "stdout",
     "output_type": "stream",
     "text": [
      "14\n",
      "15\n",
      "16\n",
      "17\n",
      "18\n",
      "19\n"
     ]
    },
    {
     "name": "stderr",
     "output_type": "stream",
     "text": [
      "Epoch [15/300]:  70%|██████████████████████████████████████▎                | 23/33 [00:00<00:00, 45.73it/s, loss=0.731]"
     ]
    },
    {
     "name": "stdout",
     "output_type": "stream",
     "text": [
      "20\n",
      "21\n",
      "22\n",
      "23\n"
     ]
    },
    {
     "name": "stderr",
     "output_type": "stream",
     "text": [
      "\r",
      "Epoch [15/300]:  70%|██████████████████████████████████████▎                | 23/33 [00:00<00:00, 45.73it/s, loss=0.891]"
     ]
    },
    {
     "name": "stdout",
     "output_type": "stream",
     "text": [
      "24\n"
     ]
    },
    {
     "name": "stderr",
     "output_type": "stream",
     "text": [
      "Epoch [15/300]: 100%|████████████████████████████████████████████████████████| 33/33 [00:00<00:00, 48.14it/s, loss=2.08]"
     ]
    },
    {
     "name": "stdout",
     "output_type": "stream",
     "text": [
      "25\n",
      "26\n",
      "27\n",
      "28\n",
      "29\n",
      "30\n",
      "31\n",
      "32\n"
     ]
    },
    {
     "name": "stderr",
     "output_type": "stream",
     "text": [
      "\n",
      "\n",
      "Epoch [15/300]:   0%|                                                                  | 0/5 [00:00<?, ?it/s, loss=1.62]\u001b[A\n",
      "Epoch [15/300]:  20%|███████████▌                                              | 1/5 [00:00<00:02,  1.44it/s, loss=1.62]\u001b[A\n",
      "Epoch [15/300]:  20%|███████████▍                                             | 1/5 [00:00<00:02,  1.44it/s, loss=0.912]\u001b[A\n",
      "Epoch [15/300]:  20%|███████████▍                                             | 1/5 [00:00<00:02,  1.44it/s, loss=0.791]\u001b[A\n",
      "Epoch [15/300]:  20%|███████████▌                                              | 1/5 [00:00<00:02,  1.44it/s, loss=1.17]\u001b[A\n",
      "Epoch [15/300]: 100%|█████████████████████████████████████████████████████████| 5/5 [00:00<00:00,  6.64it/s, loss=0.168]\u001b[A\n"
     ]
    },
    {
     "name": "stdout",
     "output_type": "stream",
     "text": [
      "0\n",
      "1\n",
      "2\n",
      "3\n",
      "4\n",
      "model improved and saved\n",
      "\n",
      "Epoch 15: train loss: 0.9513045928694985 \n",
      "Epoch 15: valid loss: 0.9335557788610458 \n"
     ]
    },
    {
     "name": "stderr",
     "output_type": "stream",
     "text": [
      "  0%|                                                                                            | 0/33 [00:00<?, ?it/s]\n",
      "Epoch [16/300]:   0%|                                                                            | 0/33 [00:00<?, ?it/s]\u001b[A\n",
      "Epoch [16/300]:  21%|████████████                                             | 7/33 [00:00<00:00, 66.82it/s, loss=1.29]\u001b[A"
     ]
    },
    {
     "name": "stdout",
     "output_type": "stream",
     "text": [
      "0\n",
      "1\n",
      "2\n",
      "3\n",
      "4\n",
      "5\n",
      "6\n",
      "7\n"
     ]
    },
    {
     "name": "stderr",
     "output_type": "stream",
     "text": [
      "Epoch [16/300]:  42%|███████████████████████▎                               | 14/33 [00:00<00:00, 67.38it/s, loss=0.583]"
     ]
    },
    {
     "name": "stdout",
     "output_type": "stream",
     "text": [
      "8\n",
      "9\n",
      "10\n",
      "11\n",
      "12\n",
      "13\n",
      "14\n"
     ]
    },
    {
     "name": "stderr",
     "output_type": "stream",
     "text": [
      "Epoch [16/300]:  67%|████████████████████████████████████▋                  | 22/33 [00:00<00:00, 69.26it/s, loss=0.926]"
     ]
    },
    {
     "name": "stdout",
     "output_type": "stream",
     "text": [
      "15\n",
      "16\n",
      "17\n",
      "18\n",
      "19\n",
      "20\n",
      "21\n",
      "22\n"
     ]
    },
    {
     "name": "stderr",
     "output_type": "stream",
     "text": [
      "Epoch [16/300]:  88%|█████████████████████████████████████████████████▏      | 29/33 [00:00<00:00, 66.20it/s, loss=1.08]"
     ]
    },
    {
     "name": "stdout",
     "output_type": "stream",
     "text": [
      "23\n",
      "24\n",
      "25\n",
      "26\n",
      "27\n",
      "28\n"
     ]
    },
    {
     "name": "stderr",
     "output_type": "stream",
     "text": [
      "Epoch [16/300]: 100%|███████████████████████████████████████████████████████| 33/33 [00:00<00:00, 69.08it/s, loss=0.452]\n",
      "\n",
      "Epoch [16/300]:   0%|                                                                  | 0/5 [00:00<?, ?it/s, loss=1.62]\u001b[A\n",
      "Epoch [16/300]:  20%|███████████▌                                              | 1/5 [00:00<00:01,  2.05it/s, loss=1.62]\u001b[A\n",
      "Epoch [16/300]:  20%|███████████▌                                              | 1/5 [00:00<00:01,  2.05it/s, loss=0.91]\u001b[A\n",
      "Epoch [16/300]:  20%|███████████▍                                             | 1/5 [00:00<00:01,  2.05it/s, loss=0.789]\u001b[A\n",
      "Epoch [16/300]:  20%|███████████▌                                              | 1/5 [00:00<00:01,  2.05it/s, loss=1.17]\u001b[A\n",
      "Epoch [16/300]: 100%|█████████████████████████████████████████████████████████| 5/5 [00:00<00:00,  9.27it/s, loss=0.167]\u001b[A\n"
     ]
    },
    {
     "name": "stdout",
     "output_type": "stream",
     "text": [
      "29\n",
      "30\n",
      "31\n",
      "32\n",
      "0\n",
      "1\n",
      "2\n",
      "3\n",
      "4\n",
      "model improved and saved\n",
      "\n",
      "Epoch 16: train loss: 0.9021942109772654 \n",
      "Epoch 16: valid loss: 0.9316600680351257 \n"
     ]
    },
    {
     "name": "stderr",
     "output_type": "stream",
     "text": [
      "  0%|                                                                                            | 0/33 [00:00<?, ?it/s]\n",
      "Epoch [17/300]:   0%|                                                                            | 0/33 [00:00<?, ?it/s]\u001b[A\n",
      "Epoch [17/300]:   0%|                                                                 | 0/33 [00:00<?, ?it/s, loss=1.09]\u001b[A"
     ]
    },
    {
     "name": "stdout",
     "output_type": "stream",
     "text": [
      "0\n",
      "1\n",
      "2\n",
      "3\n",
      "4\n",
      "5\n",
      "6\n"
     ]
    },
    {
     "name": "stderr",
     "output_type": "stream",
     "text": [
      "Epoch [17/300]:  24%|█████████████▌                                          | 8/33 [00:00<00:00, 72.60it/s, loss=0.693]"
     ]
    },
    {
     "name": "stdout",
     "output_type": "stream",
     "text": [
      "7\n",
      "8\n",
      "9\n",
      "10\n",
      "11\n",
      "12\n",
      "13\n"
     ]
    },
    {
     "name": "stderr",
     "output_type": "stream",
     "text": [
      "Epoch [17/300]:  48%|██████████████████████████▋                            | 16/33 [00:00<00:00, 65.79it/s, loss=0.777]"
     ]
    },
    {
     "name": "stdout",
     "output_type": "stream",
     "text": [
      "14\n",
      "15\n",
      "16\n",
      "17\n",
      "18\n",
      "19\n",
      "20\n"
     ]
    },
    {
     "name": "stderr",
     "output_type": "stream",
     "text": [
      "Epoch [17/300]:  73%|████████████████████████████████████████               | 24/33 [00:00<00:00, 68.91it/s, loss=0.791]"
     ]
    },
    {
     "name": "stdout",
     "output_type": "stream",
     "text": [
      "21\n",
      "22\n",
      "23\n",
      "24\n",
      "25\n",
      "26\n",
      "27\n",
      "28\n",
      "29\n"
     ]
    },
    {
     "name": "stderr",
     "output_type": "stream",
     "text": [
      "Epoch [17/300]: 100%|████████████████████████████████████████████████████████| 33/33 [00:00<00:00, 71.87it/s, loss=1.09]\n",
      "\n",
      "Epoch [17/300]:   0%|                                                                  | 0/5 [00:00<?, ?it/s, loss=1.62]\u001b[A\n",
      "Epoch [17/300]:  20%|███████████▌                                              | 1/5 [00:00<00:01,  2.15it/s, loss=1.62]\u001b[A\n",
      "Epoch [17/300]:  20%|███████████▍                                             | 1/5 [00:00<00:01,  2.15it/s, loss=0.908]\u001b[A\n",
      "Epoch [17/300]:  20%|███████████▍                                             | 1/5 [00:00<00:01,  2.15it/s, loss=0.788]\u001b[A\n",
      "Epoch [17/300]:  20%|███████████▌                                              | 1/5 [00:00<00:01,  2.15it/s, loss=1.17]\u001b[A\n",
      "Epoch [17/300]: 100%|█████████████████████████████████████████████████████████| 5/5 [00:00<00:00,  9.75it/s, loss=0.165]\u001b[A\n"
     ]
    },
    {
     "name": "stdout",
     "output_type": "stream",
     "text": [
      "30\n",
      "31\n",
      "32\n",
      "0\n",
      "1\n",
      "2\n",
      "3\n",
      "4\n",
      "model improved and saved\n",
      "\n",
      "Epoch 17: train loss: 0.9136318185112693 \n",
      "Epoch 17: valid loss: 0.9299155652523041 \n"
     ]
    },
    {
     "name": "stderr",
     "output_type": "stream",
     "text": [
      "  0%|                                                                                            | 0/33 [00:00<?, ?it/s]\n",
      "Epoch [18/300]:   0%|                                                                            | 0/33 [00:00<?, ?it/s]\u001b[A\n",
      "Epoch [18/300]:  21%|███████████▉                                            | 7/33 [00:00<00:00, 66.82it/s, loss=0.659]\u001b[A"
     ]
    },
    {
     "name": "stdout",
     "output_type": "stream",
     "text": [
      "0\n",
      "1\n",
      "2\n",
      "3\n",
      "4\n",
      "5\n",
      "6\n"
     ]
    },
    {
     "name": "stderr",
     "output_type": "stream",
     "text": [
      "Epoch [18/300]:  45%|█████████████████████████▍                              | 15/33 [00:00<00:00, 73.24it/s, loss=1.11]"
     ]
    },
    {
     "name": "stdout",
     "output_type": "stream",
     "text": [
      "7\n",
      "8\n",
      "9\n",
      "10\n",
      "11\n",
      "12\n",
      "13\n",
      "14\n",
      "15\n"
     ]
    },
    {
     "name": "stderr",
     "output_type": "stream",
     "text": [
      "Epoch [18/300]:  70%|██████████████████████████████████████▎                | 23/33 [00:00<00:00, 76.25it/s, loss=0.921]"
     ]
    },
    {
     "name": "stdout",
     "output_type": "stream",
     "text": [
      "16\n",
      "17\n",
      "18\n",
      "19\n",
      "20\n",
      "21\n",
      "22\n"
     ]
    },
    {
     "name": "stderr",
     "output_type": "stream",
     "text": [
      "Epoch [18/300]:  94%|███████████████████████████████████████████████████▋   | 31/33 [00:00<00:00, 72.19it/s, loss=0.901]"
     ]
    },
    {
     "name": "stdout",
     "output_type": "stream",
     "text": [
      "23\n",
      "24\n",
      "25\n",
      "26\n",
      "27\n",
      "28\n",
      "29\n",
      "30\n"
     ]
    },
    {
     "name": "stderr",
     "output_type": "stream",
     "text": [
      "Epoch [18/300]: 100%|███████████████████████████████████████████████████████| 33/33 [00:00<00:00, 73.52it/s, loss=0.604]\n",
      "\n",
      "Epoch [18/300]:   0%|                                                                  | 0/5 [00:00<?, ?it/s, loss=1.62]\u001b[A\n",
      "Epoch [18/300]:  20%|███████████▌                                              | 1/5 [00:00<00:01,  2.18it/s, loss=1.62]\u001b[A\n",
      "Epoch [18/300]:  20%|███████████▍                                             | 1/5 [00:00<00:01,  2.18it/s, loss=0.906]\u001b[A\n",
      "Epoch [18/300]:  20%|███████████▍                                             | 1/5 [00:00<00:01,  2.18it/s, loss=0.786]\u001b[A\n",
      "Epoch [18/300]:  20%|███████████▌                                              | 1/5 [00:00<00:01,  2.18it/s, loss=1.17]\u001b[A\n",
      "Epoch [18/300]: 100%|█████████████████████████████████████████████████████████| 5/5 [00:00<00:00,  9.70it/s, loss=0.163]\u001b[A\n"
     ]
    },
    {
     "name": "stdout",
     "output_type": "stream",
     "text": [
      "31\n",
      "32\n",
      "0\n",
      "1\n",
      "2\n",
      "3\n",
      "4\n",
      "model improved and saved\n",
      "\n",
      "Epoch 18: train loss: 0.8941355618563566 \n",
      "Epoch 18: valid loss: 0.9283408612012863 \n"
     ]
    },
    {
     "name": "stderr",
     "output_type": "stream",
     "text": [
      "  0%|                                                                                            | 0/33 [00:00<?, ?it/s]\n",
      "Epoch [19/300]:   0%|                                                                            | 0/33 [00:00<?, ?it/s]\u001b[A\n",
      "Epoch [19/300]:  21%|███████████▉                                            | 7/33 [00:00<00:00, 67.64it/s, loss=0.983]\u001b[A"
     ]
    },
    {
     "name": "stdout",
     "output_type": "stream",
     "text": [
      "0\n",
      "1\n",
      "2\n",
      "3\n",
      "4\n",
      "5\n",
      "6\n"
     ]
    },
    {
     "name": "stderr",
     "output_type": "stream",
     "text": [
      "Epoch [19/300]:  21%|████████████                                             | 7/33 [00:00<00:00, 67.64it/s, loss=0.82]"
     ]
    },
    {
     "name": "stdout",
     "output_type": "stream",
     "text": [
      "7\n",
      "8\n",
      "9\n",
      "10\n",
      "11\n",
      "12\n",
      "13\n"
     ]
    },
    {
     "name": "stderr",
     "output_type": "stream",
     "text": [
      "Epoch [19/300]:  42%|███████████████████████▎                               | 14/33 [00:00<00:00, 61.35it/s, loss=0.902]"
     ]
    },
    {
     "name": "stdout",
     "output_type": "stream",
     "text": [
      "14\n",
      "15\n",
      "16\n",
      "17\n",
      "18\n",
      "19\n"
     ]
    },
    {
     "name": "stderr",
     "output_type": "stream",
     "text": [
      "Epoch [19/300]:  64%|███████████████████████████████████                    | 21/33 [00:00<00:00, 62.63it/s, loss=0.795]"
     ]
    },
    {
     "name": "stdout",
     "output_type": "stream",
     "text": [
      "20\n",
      "21\n",
      "22\n",
      "23\n",
      "24\n",
      "25\n",
      "26\n"
     ]
    },
    {
     "name": "stderr",
     "output_type": "stream",
     "text": [
      "Epoch [19/300]:  85%|███████████████████████████████████████████████▌        | 28/33 [00:00<00:00, 62.09it/s, loss=1.13]"
     ]
    },
    {
     "name": "stdout",
     "output_type": "stream",
     "text": [
      "27\n",
      "28\n",
      "29\n",
      "30\n"
     ]
    },
    {
     "name": "stderr",
     "output_type": "stream",
     "text": [
      "Epoch [19/300]: 100%|███████████████████████████████████████████████████████| 33/33 [00:00<00:00, 60.26it/s, loss=0.423]\n",
      "\n",
      "Epoch [19/300]:   0%|                                                                  | 0/5 [00:00<?, ?it/s, loss=1.61]\u001b[A\n",
      "Epoch [19/300]:  20%|███████████▌                                              | 1/5 [00:00<00:02,  1.78it/s, loss=1.61]\u001b[A\n",
      "Epoch [19/300]:  20%|███████████▍                                             | 1/5 [00:00<00:02,  1.78it/s, loss=0.905]\u001b[A\n",
      "Epoch [19/300]:  20%|███████████▍                                             | 1/5 [00:00<00:02,  1.78it/s, loss=0.785]\u001b[A\n",
      "Epoch [19/300]:  20%|███████████▌                                              | 1/5 [00:00<00:02,  1.78it/s, loss=1.17]\u001b[A\n",
      "Epoch [19/300]: 100%|█████████████████████████████████████████████████████████| 5/5 [00:00<00:00,  8.04it/s, loss=0.162]\u001b[A\n"
     ]
    },
    {
     "name": "stdout",
     "output_type": "stream",
     "text": [
      "31\n",
      "32\n",
      "0\n",
      "1\n",
      "2\n",
      "3\n",
      "4\n",
      "model improved and saved\n",
      "\n",
      "Epoch 19: train loss: 0.8901860244346388 \n",
      "Epoch 19: valid loss: 0.9269807010889053 \n"
     ]
    },
    {
     "name": "stderr",
     "output_type": "stream",
     "text": [
      "  0%|                                                                                            | 0/33 [00:00<?, ?it/s]\n",
      "Epoch [20/300]:   0%|                                                                            | 0/33 [00:00<?, ?it/s]\u001b[A\n",
      "Epoch [20/300]:  12%|██████▊                                                 | 4/33 [00:00<00:00, 38.84it/s, loss=0.767]\u001b[A"
     ]
    },
    {
     "name": "stdout",
     "output_type": "stream",
     "text": [
      "0\n",
      "1\n",
      "2\n",
      "3\n"
     ]
    },
    {
     "name": "stderr",
     "output_type": "stream",
     "text": [
      "Epoch [20/300]:  30%|████████████████▉                                       | 10/33 [00:00<00:00, 47.51it/s, loss=1.05]"
     ]
    },
    {
     "name": "stdout",
     "output_type": "stream",
     "text": [
      "4\n",
      "5\n",
      "6\n",
      "7\n",
      "8\n",
      "9\n"
     ]
    },
    {
     "name": "stderr",
     "output_type": "stream",
     "text": [
      "Epoch [20/300]:  30%|████████████████▉                                       | 10/33 [00:00<00:00, 47.51it/s, loss=1.35]"
     ]
    },
    {
     "name": "stdout",
     "output_type": "stream",
     "text": [
      "10\n",
      "11\n",
      "12\n",
      "13\n",
      "14\n"
     ]
    },
    {
     "name": "stderr",
     "output_type": "stream",
     "text": [
      "Epoch [20/300]:  70%|███████████████████████████████████████                 | 23/33 [00:00<00:00, 57.12it/s, loss=1.17]"
     ]
    },
    {
     "name": "stdout",
     "output_type": "stream",
     "text": [
      "15\n",
      "16\n",
      "17\n",
      "18\n",
      "19\n",
      "20\n",
      "21\n",
      "22\n"
     ]
    },
    {
     "name": "stderr",
     "output_type": "stream",
     "text": [
      "Epoch [20/300]:  70%|██████████████████████████████████████▎                | 23/33 [00:00<00:00, 57.12it/s, loss=0.762]"
     ]
    },
    {
     "name": "stdout",
     "output_type": "stream",
     "text": [
      "23\n",
      "24\n",
      "25\n",
      "26\n",
      "27\n",
      "28\n",
      "29\n"
     ]
    },
    {
     "name": "stderr",
     "output_type": "stream",
     "text": [
      "Epoch [20/300]: 100%|█████████████████████████████████████████████████████████| 33/33 [00:00<00:00, 58.63it/s, loss=2.1]\n",
      "\n",
      "Epoch [20/300]:   0%|                                                                  | 0/5 [00:00<?, ?it/s, loss=1.61]\u001b[A\n",
      "Epoch [20/300]:  20%|███████████▌                                              | 1/5 [00:00<00:02,  1.75it/s, loss=1.61]\u001b[A\n",
      "Epoch [20/300]:  20%|███████████▍                                             | 1/5 [00:00<00:02,  1.75it/s, loss=0.903]\u001b[A\n",
      "Epoch [20/300]:  20%|███████████▍                                             | 1/5 [00:00<00:02,  1.75it/s, loss=0.783]\u001b[A\n",
      "Epoch [20/300]:  20%|███████████▌                                              | 1/5 [00:00<00:02,  1.75it/s, loss=1.17]\u001b[A\n",
      "Epoch [20/300]: 100%|██████████████████████████████████████████████████████████| 5/5 [00:00<00:00,  8.02it/s, loss=0.16]\u001b[A\n"
     ]
    },
    {
     "name": "stdout",
     "output_type": "stream",
     "text": [
      "30\n",
      "31\n",
      "32\n",
      "0\n",
      "1\n",
      "2\n",
      "3\n",
      "4\n",
      "model improved and saved\n",
      "\n",
      "Epoch 20: train loss: 0.937710185845693 \n",
      "Epoch 20: valid loss: 0.9254357427358627 \n"
     ]
    },
    {
     "name": "stderr",
     "output_type": "stream",
     "text": [
      "  0%|                                                                                            | 0/33 [00:00<?, ?it/s]\n",
      "Epoch [21/300]:   0%|                                                                            | 0/33 [00:00<?, ?it/s]\u001b[A\n",
      "Epoch [21/300]:   0%|                                                                | 0/33 [00:00<?, ?it/s, loss=0.919]\u001b[A"
     ]
    },
    {
     "name": "stdout",
     "output_type": "stream",
     "text": [
      "0\n",
      "1\n",
      "2\n",
      "3\n",
      "4\n"
     ]
    },
    {
     "name": "stderr",
     "output_type": "stream",
     "text": [
      "Epoch [21/300]:  18%|██████████▎                                              | 6/33 [00:00<00:00, 53.88it/s, loss=1.06]"
     ]
    },
    {
     "name": "stdout",
     "output_type": "stream",
     "text": [
      "5\n",
      "6\n",
      "7\n",
      "8\n",
      "9\n"
     ]
    },
    {
     "name": "stderr",
     "output_type": "stream",
     "text": [
      "Epoch [21/300]:  36%|████████████████████▎                                   | 12/33 [00:00<00:00, 39.37it/s, loss=1.08]"
     ]
    },
    {
     "name": "stdout",
     "output_type": "stream",
     "text": [
      "10\n",
      "11\n"
     ]
    },
    {
     "name": "stderr",
     "output_type": "stream",
     "text": [
      "Epoch [21/300]:  52%|████████████████████████████▎                          | 17/33 [00:00<00:00, 42.57it/s, loss=0.724]"
     ]
    },
    {
     "name": "stdout",
     "output_type": "stream",
     "text": [
      "12\n",
      "13\n",
      "14\n",
      "15\n",
      "16\n",
      "17\n",
      "18\n",
      "19\n",
      "20\n"
     ]
    },
    {
     "name": "stderr",
     "output_type": "stream",
     "text": [
      "Epoch [21/300]:  70%|██████████████████████████████████████▎                | 23/33 [00:00<00:00, 47.09it/s, loss=0.962]"
     ]
    },
    {
     "name": "stdout",
     "output_type": "stream",
     "text": [
      "21\n",
      "22\n"
     ]
    },
    {
     "name": "stderr",
     "output_type": "stream",
     "text": [
      "Epoch [21/300]: 100%|████████████████████████████████████████████████████████| 33/33 [00:00<00:00, 50.25it/s, loss=1.17]\n",
      "\n",
      "Epoch [21/300]:   0%|                                                                  | 0/5 [00:00<?, ?it/s, loss=1.61]\u001b[A\n",
      "Epoch [21/300]:  20%|███████████▌                                              | 1/5 [00:00<00:02,  1.51it/s, loss=1.61]\u001b[A"
     ]
    },
    {
     "name": "stdout",
     "output_type": "stream",
     "text": [
      "23\n",
      "24\n",
      "25\n",
      "26\n",
      "27\n",
      "28\n",
      "29\n",
      "30\n",
      "31\n",
      "32\n",
      "0\n"
     ]
    },
    {
     "name": "stderr",
     "output_type": "stream",
     "text": [
      "\n",
      "Epoch [21/300]:  20%|███████████▍                                             | 1/5 [00:00<00:02,  1.51it/s, loss=0.902]\u001b[A\n",
      "Epoch [21/300]:  20%|███████████▍                                             | 1/5 [00:00<00:02,  1.51it/s, loss=0.782]\u001b[A\n",
      "Epoch [21/300]:  20%|███████████▌                                              | 1/5 [00:00<00:02,  1.51it/s, loss=1.17]\u001b[A\n",
      "Epoch [21/300]:  20%|███████████▍                                             | 1/5 [00:00<00:02,  1.51it/s, loss=0.159]"
     ]
    },
    {
     "name": "stdout",
     "output_type": "stream",
     "text": [
      "1\n",
      "2\n",
      "3\n",
      "4\n"
     ]
    },
    {
     "name": "stderr",
     "output_type": "stream",
     "text": [
      "Epoch [21/300]: 100%|█████████████████████████████████████████████████████████| 5/5 [00:00<00:00,  6.99it/s, loss=0.159]\n"
     ]
    },
    {
     "name": "stdout",
     "output_type": "stream",
     "text": [
      "model improved and saved\n",
      "\n",
      "Epoch 21: train loss: 0.9029183965740781 \n",
      "Epoch 21: valid loss: 0.9241749912500381 \n"
     ]
    },
    {
     "name": "stderr",
     "output_type": "stream",
     "text": [
      "  0%|                                                                                            | 0/33 [00:00<?, ?it/s]\n",
      "Epoch [22/300]:   0%|                                                                            | 0/33 [00:00<?, ?it/s]\u001b[A\n",
      "Epoch [22/300]:  21%|███████████▉                                            | 7/33 [00:00<00:00, 69.40it/s, loss=0.673]\u001b[A"
     ]
    },
    {
     "name": "stdout",
     "output_type": "stream",
     "text": [
      "0\n",
      "1\n",
      "2\n",
      "3\n",
      "4\n",
      "5\n",
      "6\n",
      "7\n",
      "8\n",
      "9\n",
      "10\n"
     ]
    },
    {
     "name": "stderr",
     "output_type": "stream",
     "text": [
      "Epoch [22/300]:  21%|███████████▉                                            | 7/33 [00:00<00:00, 69.40it/s, loss=0.858]"
     ]
    },
    {
     "name": "stdout",
     "output_type": "stream",
     "text": [
      "11\n",
      "12\n",
      "13\n"
     ]
    },
    {
     "name": "stderr",
     "output_type": "stream",
     "text": [
      "Epoch [22/300]:  45%|█████████████████████████                              | 15/33 [00:00<00:00, 72.47it/s, loss=0.825]"
     ]
    },
    {
     "name": "stdout",
     "output_type": "stream",
     "text": [
      "14\n",
      "15\n"
     ]
    },
    {
     "name": "stderr",
     "output_type": "stream",
     "text": [
      "Epoch [22/300]:  70%|██████████████████████████████████████▎                | 23/33 [00:00<00:00, 69.15it/s, loss=0.774]"
     ]
    },
    {
     "name": "stdout",
     "output_type": "stream",
     "text": [
      "16\n",
      "17\n",
      "18\n",
      "19\n",
      "20\n",
      "21\n",
      "22\n",
      "23\n",
      "24\n"
     ]
    },
    {
     "name": "stderr",
     "output_type": "stream",
     "text": [
      "Epoch [22/300]:  70%|██████████████████████████████████████▎                | 23/33 [00:00<00:00, 69.15it/s, loss=0.837]"
     ]
    },
    {
     "name": "stdout",
     "output_type": "stream",
     "text": [
      "25\n",
      "26\n"
     ]
    },
    {
     "name": "stderr",
     "output_type": "stream",
     "text": [
      "Epoch [22/300]:  91%|██████████████████████████████████████████████████▉     | 30/33 [00:00<00:00, 67.23it/s, loss=1.11]"
     ]
    },
    {
     "name": "stdout",
     "output_type": "stream",
     "text": [
      "27\n",
      "28\n",
      "29\n"
     ]
    },
    {
     "name": "stderr",
     "output_type": "stream",
     "text": [
      "Epoch [22/300]: 100%|███████████████████████████████████████████████████████| 33/33 [00:00<00:00, 69.66it/s, loss=0.901]\n",
      "\n",
      "Epoch [22/300]:   0%|                                                                  | 0/5 [00:00<?, ?it/s, loss=1.61]\u001b[A\n",
      "Epoch [22/300]:  20%|███████████▌                                              | 1/5 [00:00<00:01,  2.06it/s, loss=1.61]\u001b[A\n",
      "Epoch [22/300]:  20%|███████████▊                                               | 1/5 [00:00<00:01,  2.06it/s, loss=0.9]\u001b[A\n",
      "Epoch [22/300]:  20%|███████████▍                                             | 1/5 [00:00<00:01,  2.06it/s, loss=0.781]\u001b[A\n",
      "Epoch [22/300]:  20%|███████████▌                                              | 1/5 [00:00<00:01,  2.06it/s, loss=1.17]\u001b[A\n",
      "Epoch [22/300]: 100%|█████████████████████████████████████████████████████████| 5/5 [00:00<00:00,  9.39it/s, loss=0.158]\u001b[A\n"
     ]
    },
    {
     "name": "stdout",
     "output_type": "stream",
     "text": [
      "30\n",
      "31\n",
      "32\n",
      "0\n",
      "1\n",
      "2\n",
      "3\n",
      "4\n",
      "model improved and saved\n",
      "\n",
      "Epoch 22: train loss: 0.8966885624509869 \n",
      "Epoch 22: valid loss: 0.9228798151016235 \n"
     ]
    },
    {
     "name": "stderr",
     "output_type": "stream",
     "text": [
      "  0%|                                                                                            | 0/33 [00:00<?, ?it/s]\n",
      "Epoch [23/300]:   0%|                                                                            | 0/33 [00:00<?, ?it/s]\u001b[A\n",
      "Epoch [23/300]:   0%|                                                                 | 0/33 [00:00<?, ?it/s, loss=1.11]\u001b[A"
     ]
    },
    {
     "name": "stdout",
     "output_type": "stream",
     "text": [
      "0\n"
     ]
    },
    {
     "name": "stderr",
     "output_type": "stream",
     "text": [
      "Epoch [23/300]:   0%|                                                                | 0/33 [00:00<?, ?it/s, loss=0.789]"
     ]
    },
    {
     "name": "stdout",
     "output_type": "stream",
     "text": [
      "1\n",
      "2\n"
     ]
    },
    {
     "name": "stderr",
     "output_type": "stream",
     "text": [
      "Epoch [23/300]:   0%|                                                                 | 0/33 [00:00<?, ?it/s, loss=0.62]"
     ]
    },
    {
     "name": "stdout",
     "output_type": "stream",
     "text": [
      "3\n",
      "4\n",
      "5\n"
     ]
    },
    {
     "name": "stderr",
     "output_type": "stream",
     "text": [
      "Epoch [23/300]:  42%|███████████████████████▎                               | 14/33 [00:00<00:00, 64.86it/s, loss=0.877]"
     ]
    },
    {
     "name": "stdout",
     "output_type": "stream",
     "text": [
      "6\n",
      "7\n",
      "8\n",
      "9\n",
      "10\n",
      "11\n",
      "12\n",
      "13\n"
     ]
    },
    {
     "name": "stderr",
     "output_type": "stream",
     "text": [
      "\r",
      "Epoch [23/300]:  42%|███████████████████████▊                                | 14/33 [00:00<00:00, 64.86it/s, loss=1.08]"
     ]
    },
    {
     "name": "stdout",
     "output_type": "stream",
     "text": [
      "14\n"
     ]
    },
    {
     "name": "stderr",
     "output_type": "stream",
     "text": [
      "Epoch [23/300]:  42%|███████████████████████▊                                | 14/33 [00:00<00:00, 64.86it/s, loss=1.09]"
     ]
    },
    {
     "name": "stdout",
     "output_type": "stream",
     "text": [
      "15\n",
      "16\n"
     ]
    },
    {
     "name": "stderr",
     "output_type": "stream",
     "text": [
      "Epoch [23/300]:  42%|███████████████████████▊                                | 14/33 [00:00<00:00, 64.86it/s, loss=1.11]"
     ]
    },
    {
     "name": "stdout",
     "output_type": "stream",
     "text": [
      "17\n",
      "18\n",
      "19\n",
      "20\n"
     ]
    },
    {
     "name": "stderr",
     "output_type": "stream",
     "text": [
      "Epoch [23/300]:  67%|████████████████████████████████████▋                  | 22/33 [00:00<00:00, 68.02it/s, loss=0.768]"
     ]
    },
    {
     "name": "stdout",
     "output_type": "stream",
     "text": [
      "21\n",
      "22\n",
      "23\n",
      "24\n",
      "25\n",
      "26\n",
      "27\n",
      "28\n"
     ]
    },
    {
     "name": "stderr",
     "output_type": "stream",
     "text": [
      "Epoch [23/300]:  91%|██████████████████████████████████████████████████     | 30/33 [00:00<00:00, 70.75it/s, loss=0.775]"
     ]
    },
    {
     "name": "stdout",
     "output_type": "stream",
     "text": [
      "29\n"
     ]
    },
    {
     "name": "stderr",
     "output_type": "stream",
     "text": [
      "Epoch [23/300]: 100%|████████████████████████████████████████████████████████| 33/33 [00:00<00:00, 70.36it/s, loss=1.12]"
     ]
    },
    {
     "name": "stdout",
     "output_type": "stream",
     "text": [
      "30\n",
      "31\n",
      "32\n"
     ]
    },
    {
     "name": "stderr",
     "output_type": "stream",
     "text": [
      "\n",
      "\n",
      "Epoch [23/300]:   0%|                                                                  | 0/5 [00:00<?, ?it/s, loss=1.61]\u001b[A\n",
      "Epoch [23/300]:  20%|███████████▌                                              | 1/5 [00:00<00:01,  2.08it/s, loss=1.61]\u001b[A\n",
      "Epoch [23/300]:  20%|███████████▍                                             | 1/5 [00:00<00:01,  2.08it/s, loss=0.899]\u001b[A\n",
      "Epoch [23/300]:  20%|███████████▌                                              | 1/5 [00:00<00:01,  2.08it/s, loss=0.78]\u001b[A\n",
      "Epoch [23/300]:  20%|███████████▌                                              | 1/5 [00:00<00:01,  2.08it/s, loss=1.17]\u001b[A\n"
     ]
    },
    {
     "name": "stdout",
     "output_type": "stream",
     "text": [
      "0\n",
      "1\n",
      "2\n",
      "3\n",
      "4\n"
     ]
    },
    {
     "name": "stderr",
     "output_type": "stream",
     "text": [
      "Epoch [23/300]: 100%|█████████████████████████████████████████████████████████| 5/5 [00:00<00:00,  9.46it/s, loss=0.157]\u001b[A\n"
     ]
    },
    {
     "name": "stdout",
     "output_type": "stream",
     "text": [
      "model improved and saved\n",
      "\n",
      "Epoch 23: train loss: 0.9008083199009751 \n",
      "Epoch 23: valid loss: 0.9217742890119552 \n"
     ]
    },
    {
     "name": "stderr",
     "output_type": "stream",
     "text": [
      "  0%|                                                                                            | 0/33 [00:00<?, ?it/s]\n",
      "Epoch [24/300]:   0%|                                                                            | 0/33 [00:00<?, ?it/s]\u001b[A\n",
      "Epoch [24/300]:   0%|                                                                 | 0/33 [00:00<?, ?it/s, loss=1.12]\u001b[A"
     ]
    },
    {
     "name": "stdout",
     "output_type": "stream",
     "text": [
      "0\n",
      "1\n",
      "2\n",
      "3\n",
      "4\n",
      "5\n"
     ]
    },
    {
     "name": "stderr",
     "output_type": "stream",
     "text": [
      "Epoch [24/300]:  21%|███████████▉                                            | 7/33 [00:00<00:00, 64.92it/s, loss=0.998]"
     ]
    },
    {
     "name": "stdout",
     "output_type": "stream",
     "text": [
      "6\n",
      "7\n",
      "8\n"
     ]
    },
    {
     "name": "stderr",
     "output_type": "stream",
     "text": [
      "Epoch [24/300]:  21%|███████████▉                                            | 7/33 [00:00<00:00, 64.92it/s, loss=0.726]"
     ]
    },
    {
     "name": "stdout",
     "output_type": "stream",
     "text": [
      "9\n",
      "10\n",
      "11\n"
     ]
    },
    {
     "name": "stderr",
     "output_type": "stream",
     "text": [
      "Epoch [24/300]:  42%|███████████████████████▎                               | 14/33 [00:00<00:00, 64.58it/s, loss=0.721]"
     ]
    },
    {
     "name": "stdout",
     "output_type": "stream",
     "text": [
      "12\n",
      "13\n"
     ]
    },
    {
     "name": "stderr",
     "output_type": "stream",
     "text": [
      "Epoch [24/300]:  42%|███████████████████████▎                               | 14/33 [00:00<00:00, 64.58it/s, loss=0.993]"
     ]
    },
    {
     "name": "stdout",
     "output_type": "stream",
     "text": [
      "14\n",
      "15\n",
      "16\n",
      "17\n",
      "18\n",
      "19\n"
     ]
    },
    {
     "name": "stderr",
     "output_type": "stream",
     "text": [
      "Epoch [24/300]:  64%|███████████████████████████████████▋                    | 21/33 [00:00<00:00, 65.46it/s, loss=1.02]"
     ]
    },
    {
     "name": "stdout",
     "output_type": "stream",
     "text": [
      "20\n",
      "21\n"
     ]
    },
    {
     "name": "stderr",
     "output_type": "stream",
     "text": [
      "Epoch [24/300]:  64%|███████████████████████████████████                    | 21/33 [00:00<00:00, 65.46it/s, loss=0.723]"
     ]
    },
    {
     "name": "stdout",
     "output_type": "stream",
     "text": [
      "22\n",
      "23\n",
      "24\n",
      "25\n"
     ]
    },
    {
     "name": "stderr",
     "output_type": "stream",
     "text": [
      "Epoch [24/300]:  85%|██████████████████████████████████████████████▋        | 28/33 [00:00<00:00, 66.78it/s, loss=0.743]"
     ]
    },
    {
     "name": "stdout",
     "output_type": "stream",
     "text": [
      "26\n",
      "27\n"
     ]
    },
    {
     "name": "stderr",
     "output_type": "stream",
     "text": [
      "Epoch [24/300]: 100%|████████████████████████████████████████████████████████| 33/33 [00:00<00:00, 68.16it/s, loss=1.13]\n",
      "\n",
      "Epoch [24/300]:   0%|                                                                  | 0/5 [00:00<?, ?it/s, loss=1.61]\u001b[A\n",
      "Epoch [24/300]:  20%|███████████▌                                              | 1/5 [00:00<00:01,  2.03it/s, loss=1.61]\u001b[A\n",
      "Epoch [24/300]:  20%|███████████▍                                             | 1/5 [00:00<00:01,  2.03it/s, loss=0.898]\u001b[A"
     ]
    },
    {
     "name": "stdout",
     "output_type": "stream",
     "text": [
      "28\n",
      "29\n",
      "30\n",
      "31\n",
      "32\n",
      "0\n",
      "1\n"
     ]
    },
    {
     "name": "stderr",
     "output_type": "stream",
     "text": [
      "\n",
      "Epoch [24/300]:  20%|███████████▍                                             | 1/5 [00:00<00:01,  2.03it/s, loss=0.779]\u001b[A\n",
      "Epoch [24/300]:  20%|███████████▌                                              | 1/5 [00:00<00:01,  2.03it/s, loss=1.16]\u001b[A\n",
      "Epoch [24/300]: 100%|█████████████████████████████████████████████████████████| 5/5 [00:00<00:00,  9.18it/s, loss=0.156]\u001b[A\n"
     ]
    },
    {
     "name": "stdout",
     "output_type": "stream",
     "text": [
      "2\n",
      "3\n",
      "4\n",
      "model improved and saved\n",
      "\n",
      "Epoch 24: train loss: 0.8885337963248744 \n",
      "Epoch 24: valid loss: 0.9208252310752869 \n"
     ]
    },
    {
     "name": "stderr",
     "output_type": "stream",
     "text": [
      "  0%|                                                                                            | 0/33 [00:00<?, ?it/s]\n",
      "Epoch [25/300]:   0%|                                                                            | 0/33 [00:00<?, ?it/s]\u001b[A\n",
      "Epoch [25/300]:   0%|                                                                | 0/33 [00:00<?, ?it/s, loss=0.884]\u001b[A"
     ]
    },
    {
     "name": "stdout",
     "output_type": "stream",
     "text": [
      "0\n",
      "1\n",
      "2\n"
     ]
    },
    {
     "name": "stderr",
     "output_type": "stream",
     "text": [
      "Epoch [25/300]:   0%|                                                                 | 0/33 [00:00<?, ?it/s, loss=1.09]"
     ]
    },
    {
     "name": "stdout",
     "output_type": "stream",
     "text": [
      "3\n",
      "4\n"
     ]
    },
    {
     "name": "stderr",
     "output_type": "stream",
     "text": [
      "Epoch [25/300]:  21%|███████████▉                                            | 7/33 [00:00<00:00, 64.67it/s, loss=0.615]"
     ]
    },
    {
     "name": "stdout",
     "output_type": "stream",
     "text": [
      "5\n",
      "6\n",
      "7\n",
      "8\n",
      "9\n",
      "10\n",
      "11\n"
     ]
    },
    {
     "name": "stderr",
     "output_type": "stream",
     "text": [
      "Epoch [25/300]:  21%|███████████▉                                            | 7/33 [00:00<00:00, 64.67it/s, loss=0.976]"
     ]
    },
    {
     "name": "stdout",
     "output_type": "stream",
     "text": [
      "12\n",
      "13\n",
      "14\n"
     ]
    },
    {
     "name": "stderr",
     "output_type": "stream",
     "text": [
      "Epoch [25/300]:  45%|█████████████████████████▍                              | 15/33 [00:00<00:00, 66.86it/s, loss=1.08]"
     ]
    },
    {
     "name": "stdout",
     "output_type": "stream",
     "text": [
      "15\n",
      "16\n"
     ]
    },
    {
     "name": "stderr",
     "output_type": "stream",
     "text": [
      "\r",
      "Epoch [25/300]:  45%|█████████████████████████                              | 15/33 [00:00<00:00, 66.86it/s, loss=0.769]"
     ]
    },
    {
     "name": "stdout",
     "output_type": "stream",
     "text": [
      "17\n"
     ]
    },
    {
     "name": "stderr",
     "output_type": "stream",
     "text": [
      "Epoch [25/300]:  67%|████████████████████████████████████▋                  | 22/33 [00:00<00:00, 60.45it/s, loss=0.702]"
     ]
    },
    {
     "name": "stdout",
     "output_type": "stream",
     "text": [
      "18\n",
      "19\n",
      "20\n",
      "21\n",
      "22\n",
      "23\n"
     ]
    },
    {
     "name": "stderr",
     "output_type": "stream",
     "text": [
      "Epoch [25/300]:  67%|████████████████████████████████████▋                  | 22/33 [00:00<00:00, 60.45it/s, loss=0.747]"
     ]
    },
    {
     "name": "stdout",
     "output_type": "stream",
     "text": [
      "24\n",
      "25\n",
      "26\n"
     ]
    },
    {
     "name": "stderr",
     "output_type": "stream",
     "text": [
      "Epoch [25/300]:  88%|████████████████████████████████████████████████▎      | 29/33 [00:00<00:00, 63.21it/s, loss=0.903]"
     ]
    },
    {
     "name": "stdout",
     "output_type": "stream",
     "text": [
      "27\n",
      "28\n",
      "29\n"
     ]
    },
    {
     "name": "stderr",
     "output_type": "stream",
     "text": [
      "Epoch [25/300]:  88%|████████████████████████████████████████████████▎      | 29/33 [00:00<00:00, 63.21it/s, loss=0.768]"
     ]
    },
    {
     "name": "stdout",
     "output_type": "stream",
     "text": [
      "30\n",
      "31\n"
     ]
    },
    {
     "name": "stderr",
     "output_type": "stream",
     "text": [
      "Epoch [25/300]: 100%|███████████████████████████████████████████████████████| 33/33 [00:00<00:00, 64.80it/s, loss=0.601]\n",
      "\n",
      "Epoch [25/300]:   0%|                                                                  | 0/5 [00:00<?, ?it/s, loss=1.61]\u001b[A\n",
      "Epoch [25/300]:  20%|███████████▌                                              | 1/5 [00:00<00:02,  1.90it/s, loss=1.61]\u001b[A\n",
      "Epoch [25/300]:  20%|███████████▍                                             | 1/5 [00:00<00:02,  1.90it/s, loss=0.897]\u001b[A\n",
      "Epoch [25/300]:  20%|███████████▍                                             | 1/5 [00:00<00:02,  1.90it/s, loss=0.778]\u001b[A\n",
      "Epoch [25/300]:  20%|███████████▌                                              | 1/5 [00:00<00:02,  1.90it/s, loss=1.16]\u001b[A\n",
      "Epoch [25/300]: 100%|█████████████████████████████████████████████████████████| 5/5 [00:00<00:00,  8.42it/s, loss=0.155]\u001b[A"
     ]
    },
    {
     "name": "stdout",
     "output_type": "stream",
     "text": [
      "32\n",
      "0\n",
      "1\n",
      "2\n",
      "3\n",
      "4\n",
      "model improved and saved\n",
      "\n",
      "Epoch 25: train loss: 0.8752907442324089 \n",
      "Epoch 25: valid loss: 0.919936141371727 \n"
     ]
    },
    {
     "name": "stderr",
     "output_type": "stream",
     "text": [
      "\n",
      "  0%|                                                                                            | 0/33 [00:00<?, ?it/s]\n",
      "Epoch [26/300]:   0%|                                                                            | 0/33 [00:00<?, ?it/s]\u001b[A\n",
      "Epoch [26/300]:   0%|                                                                 | 0/33 [00:00<?, ?it/s, loss=1.03]\u001b[A"
     ]
    },
    {
     "name": "stdout",
     "output_type": "stream",
     "text": [
      "0\n"
     ]
    },
    {
     "name": "stderr",
     "output_type": "stream",
     "text": [
      "Epoch [26/300]:   0%|                                                                | 0/33 [00:00<?, ?it/s, loss=0.944]"
     ]
    },
    {
     "name": "stdout",
     "output_type": "stream",
     "text": [
      "1\n",
      "2\n",
      "3\n"
     ]
    },
    {
     "name": "stderr",
     "output_type": "stream",
     "text": [
      "\r",
      "Epoch [26/300]:   0%|                                                                | 0/33 [00:00<?, ?it/s, loss=0.993]"
     ]
    },
    {
     "name": "stdout",
     "output_type": "stream",
     "text": [
      "4\n"
     ]
    },
    {
     "name": "stderr",
     "output_type": "stream",
     "text": [
      "Epoch [26/300]:  36%|████████████████████▎                                   | 12/33 [00:00<00:00, 56.82it/s, loss=1.31]"
     ]
    },
    {
     "name": "stdout",
     "output_type": "stream",
     "text": [
      "5\n",
      "6\n",
      "7\n",
      "8\n",
      "9\n",
      "10\n",
      "11\n",
      "12\n"
     ]
    },
    {
     "name": "stderr",
     "output_type": "stream",
     "text": [
      "\r",
      "Epoch [26/300]:  36%|████████████████████                                   | 12/33 [00:00<00:00, 56.82it/s, loss=0.596]"
     ]
    },
    {
     "name": "stdout",
     "output_type": "stream",
     "text": [
      "13\n"
     ]
    },
    {
     "name": "stderr",
     "output_type": "stream",
     "text": [
      "Epoch [26/300]:  36%|████████████████████                                   | 12/33 [00:00<00:00, 56.82it/s, loss=0.756]"
     ]
    },
    {
     "name": "stdout",
     "output_type": "stream",
     "text": [
      "14\n",
      "15\n"
     ]
    },
    {
     "name": "stderr",
     "output_type": "stream",
     "text": [
      "Epoch [26/300]:  36%|████████████████████                                   | 12/33 [00:00<00:00, 56.82it/s, loss=0.846]"
     ]
    },
    {
     "name": "stdout",
     "output_type": "stream",
     "text": [
      "16\n",
      "17\n"
     ]
    },
    {
     "name": "stderr",
     "output_type": "stream",
     "text": [
      "Epoch [26/300]:  82%|█████████████████████████████████████████████          | 27/33 [00:00<00:00, 65.96it/s, loss=0.815]"
     ]
    },
    {
     "name": "stdout",
     "output_type": "stream",
     "text": [
      "18\n",
      "19\n",
      "20\n",
      "21\n",
      "22\n",
      "23\n",
      "24\n",
      "25\n",
      "26\n",
      "27\n"
     ]
    },
    {
     "name": "stderr",
     "output_type": "stream",
     "text": [
      "Epoch [26/300]:  82%|█████████████████████████████████████████████▊          | 27/33 [00:00<00:00, 65.96it/s, loss=1.02]"
     ]
    },
    {
     "name": "stdout",
     "output_type": "stream",
     "text": [
      "28\n"
     ]
    },
    {
     "name": "stderr",
     "output_type": "stream",
     "text": [
      "\r",
      "Epoch [26/300]:  82%|█████████████████████████████████████████████▊          | 27/33 [00:00<00:00, 65.96it/s, loss=1.09]"
     ]
    },
    {
     "name": "stdout",
     "output_type": "stream",
     "text": [
      "29\n"
     ]
    },
    {
     "name": "stderr",
     "output_type": "stream",
     "text": [
      "Epoch [26/300]: 100%|████████████████████████████████████████████████████████| 33/33 [00:00<00:00, 63.27it/s, loss=1.03]"
     ]
    },
    {
     "name": "stdout",
     "output_type": "stream",
     "text": [
      "30\n",
      "31\n",
      "32\n"
     ]
    },
    {
     "name": "stderr",
     "output_type": "stream",
     "text": [
      "\n",
      "\n",
      "Epoch [26/300]:   0%|                                                                   | 0/5 [00:00<?, ?it/s, loss=1.6]\u001b[A\n",
      "Epoch [26/300]:  20%|███████████▊                                               | 1/5 [00:00<00:02,  1.88it/s, loss=1.6]\u001b[A\n",
      "Epoch [26/300]:  20%|███████████▍                                             | 1/5 [00:00<00:02,  1.88it/s, loss=0.896]\u001b[A\n",
      "Epoch [26/300]:  20%|███████████▍                                             | 1/5 [00:00<00:02,  1.88it/s, loss=0.777]\u001b[A\n",
      "Epoch [26/300]:  20%|███████████▌                                              | 1/5 [00:00<00:02,  1.88it/s, loss=1.16]\u001b[A\n",
      "Epoch [26/300]: 100%|█████████████████████████████████████████████████████████| 5/5 [00:00<00:00,  8.58it/s, loss=0.154]\u001b[A\n"
     ]
    },
    {
     "name": "stdout",
     "output_type": "stream",
     "text": [
      "0\n",
      "1\n",
      "2\n",
      "3\n",
      "4\n",
      "model improved and saved\n",
      "\n",
      "Epoch 26: train loss: 0.8872252106666565 \n",
      "Epoch 26: valid loss: 0.9191374450922012 \n"
     ]
    },
    {
     "name": "stderr",
     "output_type": "stream",
     "text": [
      "  0%|                                                                                            | 0/33 [00:00<?, ?it/s]\n",
      "Epoch [27/300]:   0%|                                                                            | 0/33 [00:00<?, ?it/s]\u001b[A\n",
      "Epoch [27/300]:   0%|                                                                 | 0/33 [00:00<?, ?it/s, loss=0.91]\u001b[A"
     ]
    },
    {
     "name": "stdout",
     "output_type": "stream",
     "text": [
      "0\n",
      "1\n",
      "2\n"
     ]
    },
    {
     "name": "stderr",
     "output_type": "stream",
     "text": [
      "Epoch [27/300]:   0%|                                                                | 0/33 [00:00<?, ?it/s, loss=0.858]"
     ]
    },
    {
     "name": "stdout",
     "output_type": "stream",
     "text": [
      "3\n",
      "4\n"
     ]
    },
    {
     "name": "stderr",
     "output_type": "stream",
     "text": [
      "\r",
      "Epoch [27/300]:   0%|                                                                 | 0/33 [00:00<?, ?it/s, loss=1.08]"
     ]
    },
    {
     "name": "stdout",
     "output_type": "stream",
     "text": [
      "5\n"
     ]
    },
    {
     "name": "stderr",
     "output_type": "stream",
     "text": [
      "Epoch [27/300]:  21%|███████████▉                                            | 7/33 [00:00<00:00, 63.29it/s, loss=0.825]"
     ]
    },
    {
     "name": "stdout",
     "output_type": "stream",
     "text": [
      "6\n",
      "7\n"
     ]
    },
    {
     "name": "stderr",
     "output_type": "stream",
     "text": [
      "Epoch [27/300]:  45%|█████████████████████████                              | 15/33 [00:00<00:00, 68.66it/s, loss=0.934]"
     ]
    },
    {
     "name": "stdout",
     "output_type": "stream",
     "text": [
      "8\n",
      "9\n",
      "10\n",
      "11\n",
      "12\n",
      "13\n",
      "14\n"
     ]
    },
    {
     "name": "stderr",
     "output_type": "stream",
     "text": [
      "Epoch [27/300]:  45%|█████████████████████████                              | 15/33 [00:00<00:00, 68.66it/s, loss=0.802]"
     ]
    },
    {
     "name": "stdout",
     "output_type": "stream",
     "text": [
      "15\n",
      "16\n",
      "17\n"
     ]
    },
    {
     "name": "stderr",
     "output_type": "stream",
     "text": [
      "Epoch [27/300]:  45%|█████████████████████████▍                              | 15/33 [00:00<00:00, 68.66it/s, loss=0.84]"
     ]
    },
    {
     "name": "stdout",
     "output_type": "stream",
     "text": [
      "18\n",
      "19\n"
     ]
    },
    {
     "name": "stderr",
     "output_type": "stream",
     "text": [
      "\r",
      "Epoch [27/300]:  45%|█████████████████████████                              | 15/33 [00:00<00:00, 68.66it/s, loss=0.743]"
     ]
    },
    {
     "name": "stdout",
     "output_type": "stream",
     "text": [
      "20\n"
     ]
    },
    {
     "name": "stderr",
     "output_type": "stream",
     "text": [
      "Epoch [27/300]:  67%|████████████████████████████████████▋                  | 22/33 [00:00<00:00, 68.80it/s, loss=0.811]"
     ]
    },
    {
     "name": "stdout",
     "output_type": "stream",
     "text": [
      "21\n",
      "22\n"
     ]
    },
    {
     "name": "stderr",
     "output_type": "stream",
     "text": [
      "Epoch [27/300]:  91%|██████████████████████████████████████████████████     | 30/33 [00:00<00:00, 69.76it/s, loss=0.875]"
     ]
    },
    {
     "name": "stdout",
     "output_type": "stream",
     "text": [
      "23\n",
      "24\n",
      "25\n",
      "26\n",
      "27\n",
      "28\n",
      "29\n"
     ]
    },
    {
     "name": "stderr",
     "output_type": "stream",
     "text": [
      "Epoch [27/300]: 100%|███████████████████████████████████████████████████████| 33/33 [00:00<00:00, 70.10it/s, loss=0.827]"
     ]
    },
    {
     "name": "stdout",
     "output_type": "stream",
     "text": [
      "30\n",
      "31\n",
      "32\n"
     ]
    },
    {
     "name": "stderr",
     "output_type": "stream",
     "text": [
      "\n",
      "\n",
      "Epoch [27/300]:   0%|                                                                   | 0/5 [00:00<?, ?it/s, loss=1.6]\u001b[A\n",
      "Epoch [27/300]:  20%|███████████▊                                               | 1/5 [00:00<00:01,  2.07it/s, loss=1.6]\u001b[A\n",
      "Epoch [27/300]:  20%|███████████▍                                             | 1/5 [00:00<00:01,  2.07it/s, loss=0.895]\u001b[A"
     ]
    },
    {
     "name": "stdout",
     "output_type": "stream",
     "text": [
      "0\n",
      "1\n"
     ]
    },
    {
     "name": "stderr",
     "output_type": "stream",
     "text": [
      "\n",
      "Epoch [27/300]:  20%|███████████▍                                             | 1/5 [00:00<00:01,  2.07it/s, loss=0.776]\u001b[A"
     ]
    },
    {
     "name": "stdout",
     "output_type": "stream",
     "text": [
      "2\n"
     ]
    },
    {
     "name": "stderr",
     "output_type": "stream",
     "text": [
      "\n",
      "Epoch [27/300]:  20%|███████████▌                                              | 1/5 [00:00<00:01,  2.07it/s, loss=1.16]\u001b[A\n",
      "Epoch [27/300]: 100%|█████████████████████████████████████████████████████████| 5/5 [00:00<00:00,  9.30it/s, loss=0.153]\u001b[A\n"
     ]
    },
    {
     "name": "stdout",
     "output_type": "stream",
     "text": [
      "3\n",
      "4\n",
      "model improved and saved\n",
      "\n",
      "Epoch 27: train loss: 0.880294579448122 \n",
      "Epoch 27: valid loss: 0.9183237522840499 \n"
     ]
    },
    {
     "name": "stderr",
     "output_type": "stream",
     "text": [
      "  0%|                                                                                            | 0/33 [00:00<?, ?it/s]\n",
      "Epoch [28/300]:   0%|                                                                            | 0/33 [00:00<?, ?it/s]\u001b[A\n",
      "Epoch [28/300]:   0%|                                                                | 0/33 [00:00<?, ?it/s, loss=0.863]\u001b[A"
     ]
    },
    {
     "name": "stdout",
     "output_type": "stream",
     "text": [
      "0\n",
      "1\n",
      "2\n",
      "3\n",
      "4\n",
      "5\n"
     ]
    },
    {
     "name": "stderr",
     "output_type": "stream",
     "text": [
      "Epoch [28/300]:  21%|███████████▉                                            | 7/33 [00:00<00:00, 61.69it/s, loss=0.865]"
     ]
    },
    {
     "name": "stdout",
     "output_type": "stream",
     "text": [
      "6\n",
      "7\n"
     ]
    },
    {
     "name": "stderr",
     "output_type": "stream",
     "text": [
      "Epoch [28/300]:  21%|████████████                                             | 7/33 [00:00<00:00, 61.69it/s, loss=1.23]"
     ]
    },
    {
     "name": "stdout",
     "output_type": "stream",
     "text": [
      "8\n",
      "9\n"
     ]
    },
    {
     "name": "stderr",
     "output_type": "stream",
     "text": [
      "\r",
      "Epoch [28/300]:  21%|███████████▉                                            | 7/33 [00:00<00:00, 61.69it/s, loss=0.767]"
     ]
    },
    {
     "name": "stdout",
     "output_type": "stream",
     "text": [
      "10\n"
     ]
    },
    {
     "name": "stderr",
     "output_type": "stream",
     "text": [
      "Epoch [28/300]:  42%|███████████████████████▎                               | 14/33 [00:00<00:00, 65.00it/s, loss=0.624]"
     ]
    },
    {
     "name": "stdout",
     "output_type": "stream",
     "text": [
      "11\n",
      "12\n",
      "13\n"
     ]
    },
    {
     "name": "stderr",
     "output_type": "stream",
     "text": [
      "Epoch [28/300]:  42%|███████████████████████▎                               | 14/33 [00:00<00:00, 65.00it/s, loss=0.881]"
     ]
    },
    {
     "name": "stdout",
     "output_type": "stream",
     "text": [
      "14\n",
      "15\n",
      "16\n",
      "17\n",
      "18\n",
      "19\n"
     ]
    },
    {
     "name": "stderr",
     "output_type": "stream",
     "text": [
      "Epoch [28/300]:  64%|███████████████████████████████████                    | 21/33 [00:00<00:00, 66.57it/s, loss=0.938]"
     ]
    },
    {
     "name": "stdout",
     "output_type": "stream",
     "text": [
      "20\n",
      "21\n",
      "22\n"
     ]
    },
    {
     "name": "stderr",
     "output_type": "stream",
     "text": [
      "Epoch [28/300]:  64%|███████████████████████████████████                    | 21/33 [00:00<00:00, 66.57it/s, loss=0.852]"
     ]
    },
    {
     "name": "stdout",
     "output_type": "stream",
     "text": [
      "23\n",
      "24\n"
     ]
    },
    {
     "name": "stderr",
     "output_type": "stream",
     "text": [
      "\r",
      "Epoch [28/300]:  64%|███████████████████████████████████                    | 21/33 [00:00<00:00, 66.57it/s, loss=0.858]"
     ]
    },
    {
     "name": "stdout",
     "output_type": "stream",
     "text": [
      "25\n"
     ]
    },
    {
     "name": "stderr",
     "output_type": "stream",
     "text": [
      "Epoch [28/300]:  85%|██████████████████████████████████████████████▋        | 28/33 [00:00<00:00, 66.50it/s, loss=0.929]"
     ]
    },
    {
     "name": "stdout",
     "output_type": "stream",
     "text": [
      "26\n",
      "27\n"
     ]
    },
    {
     "name": "stderr",
     "output_type": "stream",
     "text": [
      "Epoch [28/300]: 100%|███████████████████████████████████████████████████████| 33/33 [00:00<00:00, 67.65it/s, loss=0.295]\n",
      "\n",
      "Epoch [28/300]:   0%|                                                                   | 0/5 [00:00<?, ?it/s, loss=1.6]\u001b[A\n",
      "Epoch [28/300]:  20%|███████████▊                                               | 1/5 [00:00<00:01,  2.00it/s, loss=1.6]\u001b[A"
     ]
    },
    {
     "name": "stdout",
     "output_type": "stream",
     "text": [
      "28\n",
      "29\n",
      "30\n",
      "31\n",
      "32\n",
      "0\n",
      "1\n"
     ]
    },
    {
     "name": "stderr",
     "output_type": "stream",
     "text": [
      "\n",
      "Epoch [28/300]:  20%|███████████▍                                             | 1/5 [00:00<00:01,  2.00it/s, loss=0.895]\u001b[A\n",
      "Epoch [28/300]:  20%|███████████▍                                             | 1/5 [00:00<00:01,  2.00it/s, loss=0.775]\u001b[A\n",
      "Epoch [28/300]:  20%|███████████▌                                              | 1/5 [00:00<00:01,  2.00it/s, loss=1.16]\u001b[A\n",
      "Epoch [28/300]: 100%|█████████████████████████████████████████████████████████| 5/5 [00:00<00:00,  9.03it/s, loss=0.152]\u001b[A"
     ]
    },
    {
     "name": "stdout",
     "output_type": "stream",
     "text": [
      "2\n",
      "3\n",
      "4\n",
      "model improved and saved\n",
      "\n",
      "Epoch 28: train loss: 0.8663593738368063 \n",
      "Epoch 28: valid loss: 0.9175184816122055 \n"
     ]
    },
    {
     "name": "stderr",
     "output_type": "stream",
     "text": [
      "\n",
      "  0%|                                                                                            | 0/33 [00:00<?, ?it/s]\n",
      "Epoch [29/300]:   0%|                                                                            | 0/33 [00:00<?, ?it/s]\u001b[A\n",
      "Epoch [29/300]:   0%|                                                                  | 0/33 [00:00<?, ?it/s, loss=0.7]\u001b[A"
     ]
    },
    {
     "name": "stdout",
     "output_type": "stream",
     "text": [
      "0\n"
     ]
    },
    {
     "name": "stderr",
     "output_type": "stream",
     "text": [
      "\r",
      "Epoch [29/300]:   0%|                                                                 | 0/33 [00:00<?, ?it/s, loss=1.09]"
     ]
    },
    {
     "name": "stdout",
     "output_type": "stream",
     "text": [
      "1\n"
     ]
    },
    {
     "name": "stderr",
     "output_type": "stream",
     "text": [
      "Epoch [29/300]:   0%|                                                                | 0/33 [00:00<?, ?it/s, loss=0.655]"
     ]
    },
    {
     "name": "stdout",
     "output_type": "stream",
     "text": [
      "2\n",
      "3\n"
     ]
    },
    {
     "name": "stderr",
     "output_type": "stream",
     "text": [
      "Epoch [29/300]:  21%|███████████▉                                            | 7/33 [00:00<00:00, 64.65it/s, loss=0.939]"
     ]
    },
    {
     "name": "stdout",
     "output_type": "stream",
     "text": [
      "4\n",
      "5\n",
      "6\n",
      "7\n",
      "8\n",
      "9\n",
      "10\n"
     ]
    },
    {
     "name": "stderr",
     "output_type": "stream",
     "text": [
      "Epoch [29/300]:  45%|█████████████████████████                              | 15/33 [00:00<00:00, 69.70it/s, loss=0.833]"
     ]
    },
    {
     "name": "stdout",
     "output_type": "stream",
     "text": [
      "11\n",
      "12\n",
      "13\n",
      "14\n"
     ]
    },
    {
     "name": "stderr",
     "output_type": "stream",
     "text": [
      "\r",
      "Epoch [29/300]:  45%|█████████████████████████                              | 15/33 [00:00<00:00, 69.70it/s, loss=0.722]"
     ]
    },
    {
     "name": "stdout",
     "output_type": "stream",
     "text": [
      "15\n"
     ]
    },
    {
     "name": "stderr",
     "output_type": "stream",
     "text": [
      "\r",
      "Epoch [29/300]:  45%|█████████████████████████                              | 15/33 [00:00<00:00, 69.70it/s, loss=0.872]"
     ]
    },
    {
     "name": "stdout",
     "output_type": "stream",
     "text": [
      "16\n"
     ]
    },
    {
     "name": "stderr",
     "output_type": "stream",
     "text": [
      "Epoch [29/300]:  45%|█████████████████████████▍                              | 15/33 [00:00<00:00, 69.70it/s, loss=1.35]"
     ]
    },
    {
     "name": "stdout",
     "output_type": "stream",
     "text": [
      "17\n",
      "18\n"
     ]
    },
    {
     "name": "stderr",
     "output_type": "stream",
     "text": [
      "Epoch [29/300]:  67%|█████████████████████████████████████▎                  | 22/33 [00:00<00:00, 68.88it/s, loss=1.09]"
     ]
    },
    {
     "name": "stdout",
     "output_type": "stream",
     "text": [
      "19\n",
      "20\n",
      "21\n",
      "22\n",
      "23\n",
      "24\n",
      "25\n"
     ]
    },
    {
     "name": "stderr",
     "output_type": "stream",
     "text": [
      "Epoch [29/300]:  88%|████████████████████████████████████████████████▎      | 29/33 [00:00<00:00, 68.39it/s, loss=0.873]"
     ]
    },
    {
     "name": "stdout",
     "output_type": "stream",
     "text": [
      "26\n",
      "27\n",
      "28\n"
     ]
    },
    {
     "name": "stderr",
     "output_type": "stream",
     "text": [
      "\r",
      "Epoch [29/300]:  88%|████████████████████████████████████████████████▎      | 29/33 [00:00<00:00, 68.39it/s, loss=0.783]"
     ]
    },
    {
     "name": "stdout",
     "output_type": "stream",
     "text": [
      "29\n"
     ]
    },
    {
     "name": "stderr",
     "output_type": "stream",
     "text": [
      "\r",
      "Epoch [29/300]:  88%|████████████████████████████████████████████████▎      | 29/33 [00:00<00:00, 68.39it/s, loss=0.956]"
     ]
    },
    {
     "name": "stdout",
     "output_type": "stream",
     "text": [
      "30\n"
     ]
    },
    {
     "name": "stderr",
     "output_type": "stream",
     "text": [
      "Epoch [29/300]: 100%|███████████████████████████████████████████████████████| 33/33 [00:00<00:00, 69.69it/s, loss=0.581]\n",
      "\n",
      "Epoch [29/300]:   0%|                                                                   | 0/5 [00:00<?, ?it/s, loss=1.6]\u001b[A\n"
     ]
    },
    {
     "name": "stdout",
     "output_type": "stream",
     "text": [
      "31\n",
      "32\n",
      "0\n"
     ]
    },
    {
     "name": "stderr",
     "output_type": "stream",
     "text": [
      "Epoch [29/300]:  20%|███████████▊                                               | 1/5 [00:00<00:01,  2.04it/s, loss=1.6]\u001b[A\n",
      "Epoch [29/300]:  20%|███████████▍                                             | 1/5 [00:00<00:01,  2.04it/s, loss=0.894]\u001b[A\n",
      "Epoch [29/300]:  20%|███████████▍                                             | 1/5 [00:00<00:01,  2.04it/s, loss=0.775]\u001b[A\n",
      "Epoch [29/300]:  20%|███████████▌                                              | 1/5 [00:00<00:01,  2.04it/s, loss=1.16]\u001b[A\n",
      "Epoch [29/300]: 100%|█████████████████████████████████████████████████████████| 5/5 [00:00<00:00,  9.22it/s, loss=0.151]\u001b[A\n"
     ]
    },
    {
     "name": "stdout",
     "output_type": "stream",
     "text": [
      "1\n",
      "2\n",
      "3\n",
      "4\n",
      "model improved and saved\n",
      "\n",
      "Epoch 29: train loss: 0.8661020921938347 \n",
      "Epoch 29: valid loss: 0.9168184548616409 \n"
     ]
    },
    {
     "name": "stderr",
     "output_type": "stream",
     "text": [
      "  0%|                                                                                            | 0/33 [00:00<?, ?it/s]\n",
      "Epoch [30/300]:   0%|                                                                            | 0/33 [00:00<?, ?it/s]\u001b[A\n",
      "Epoch [30/300]:   0%|                                                                | 0/33 [00:00<?, ?it/s, loss=0.929]\u001b[A"
     ]
    },
    {
     "name": "stdout",
     "output_type": "stream",
     "text": [
      "0\n"
     ]
    },
    {
     "name": "stderr",
     "output_type": "stream",
     "text": [
      "Epoch [30/300]:   0%|                                                                 | 0/33 [00:00<?, ?it/s, loss=0.56]"
     ]
    },
    {
     "name": "stdout",
     "output_type": "stream",
     "text": [
      "1\n",
      "2\n",
      "3\n"
     ]
    },
    {
     "name": "stderr",
     "output_type": "stream",
     "text": [
      "\r",
      "Epoch [30/300]:   0%|                                                                 | 0/33 [00:00<?, ?it/s, loss=0.78]"
     ]
    },
    {
     "name": "stdout",
     "output_type": "stream",
     "text": [
      "4\n"
     ]
    },
    {
     "name": "stderr",
     "output_type": "stream",
     "text": [
      "Epoch [30/300]:  18%|██████████▏                                             | 6/33 [00:00<00:00, 52.47it/s, loss=0.854]"
     ]
    },
    {
     "name": "stdout",
     "output_type": "stream",
     "text": [
      "5\n",
      "6\n",
      "7\n"
     ]
    },
    {
     "name": "stderr",
     "output_type": "stream",
     "text": [
      "Epoch [30/300]:  36%|████████████████████                                   | 12/33 [00:00<00:00, 55.20it/s, loss=0.839]"
     ]
    },
    {
     "name": "stdout",
     "output_type": "stream",
     "text": [
      "8\n",
      "9\n",
      "10\n",
      "11\n"
     ]
    },
    {
     "name": "stderr",
     "output_type": "stream",
     "text": [
      "\r",
      "Epoch [30/300]:  36%|████████████████████                                   | 12/33 [00:00<00:00, 55.20it/s, loss=0.779]"
     ]
    },
    {
     "name": "stdout",
     "output_type": "stream",
     "text": [
      "12\n"
     ]
    },
    {
     "name": "stderr",
     "output_type": "stream",
     "text": [
      "Epoch [30/300]:  36%|████████████████████▎                                   | 12/33 [00:00<00:00, 55.20it/s, loss=0.89]"
     ]
    },
    {
     "name": "stdout",
     "output_type": "stream",
     "text": [
      "13\n",
      "14\n",
      "15\n"
     ]
    },
    {
     "name": "stderr",
     "output_type": "stream",
     "text": [
      "\r",
      "Epoch [30/300]:  36%|████████████████████                                   | 12/33 [00:00<00:00, 55.20it/s, loss=0.685]"
     ]
    },
    {
     "name": "stdout",
     "output_type": "stream",
     "text": [
      "16\n"
     ]
    },
    {
     "name": "stderr",
     "output_type": "stream",
     "text": [
      "Epoch [30/300]:  55%|█████████████████████████████▉                         | 18/33 [00:00<00:00, 57.11it/s, loss=0.974]"
     ]
    },
    {
     "name": "stdout",
     "output_type": "stream",
     "text": [
      "17\n",
      "18\n",
      "19\n"
     ]
    },
    {
     "name": "stderr",
     "output_type": "stream",
     "text": [
      "Epoch [30/300]:  76%|█████████████████████████████████████████▋             | 25/33 [00:00<00:00, 58.75it/s, loss=0.908]"
     ]
    },
    {
     "name": "stdout",
     "output_type": "stream",
     "text": [
      "20\n",
      "21\n",
      "22\n",
      "23\n",
      "24\n"
     ]
    },
    {
     "name": "stderr",
     "output_type": "stream",
     "text": [
      "\r",
      "Epoch [30/300]:  76%|██████████████████████████████████████████▍             | 25/33 [00:00<00:00, 58.75it/s, loss=0.74]"
     ]
    },
    {
     "name": "stdout",
     "output_type": "stream",
     "text": [
      "25\n"
     ]
    },
    {
     "name": "stderr",
     "output_type": "stream",
     "text": [
      "Epoch [30/300]:  76%|█████████████████████████████████████████▋             | 25/33 [00:00<00:00, 58.75it/s, loss=0.866]"
     ]
    },
    {
     "name": "stdout",
     "output_type": "stream",
     "text": [
      "26\n",
      "27\n",
      "28\n",
      "29\n"
     ]
    },
    {
     "name": "stderr",
     "output_type": "stream",
     "text": [
      "Epoch [30/300]: 100%|███████████████████████████████████████████████████████| 33/33 [00:00<00:00, 60.07it/s, loss=0.481]\n",
      "\n",
      "Epoch [30/300]:   0%|                                                                   | 0/5 [00:00<?, ?it/s, loss=1.6]"
     ]
    },
    {
     "name": "stdout",
     "output_type": "stream",
     "text": [
      "30\n",
      "31\n",
      "32\n",
      "0\n"
     ]
    },
    {
     "name": "stderr",
     "output_type": "stream",
     "text": [
      "\u001b[A\n",
      "Epoch [30/300]:  20%|███████████▊                                               | 1/5 [00:00<00:02,  1.78it/s, loss=1.6]\u001b[A\n",
      "Epoch [30/300]:  20%|███████████▍                                             | 1/5 [00:00<00:02,  1.78it/s, loss=0.893]\u001b[A\n",
      "Epoch [30/300]:  20%|███████████▍                                             | 1/5 [00:00<00:02,  1.78it/s, loss=0.774]\u001b[A\n",
      "Epoch [30/300]:  20%|███████████▌                                              | 1/5 [00:00<00:02,  1.78it/s, loss=1.16]\u001b[A\n",
      "Epoch [30/300]: 100%|██████████████████████████████████████████████████████████| 5/5 [00:00<00:00,  7.95it/s, loss=0.15]\u001b[A\n"
     ]
    },
    {
     "name": "stdout",
     "output_type": "stream",
     "text": [
      "1\n",
      "2\n",
      "3\n",
      "4\n",
      "model improved and saved\n",
      "\n",
      "Epoch 30: train loss: 0.8623275052417408 \n",
      "Epoch 30: valid loss: 0.9161383181810379 \n"
     ]
    },
    {
     "name": "stderr",
     "output_type": "stream",
     "text": [
      "  0%|                                                                                            | 0/33 [00:00<?, ?it/s]\n",
      "Epoch [31/300]:   0%|                                                                            | 0/33 [00:00<?, ?it/s]\u001b[A\n",
      "Epoch [31/300]:   0%|                                                                | 0/33 [00:00<?, ?it/s, loss=0.657]\u001b[A"
     ]
    },
    {
     "name": "stdout",
     "output_type": "stream",
     "text": [
      "0\n",
      "1\n",
      "2\n",
      "3\n"
     ]
    },
    {
     "name": "stderr",
     "output_type": "stream",
     "text": [
      "Epoch [31/300]:  21%|███████████▉                                            | 7/33 [00:00<00:00, 62.82it/s, loss=0.818]"
     ]
    },
    {
     "name": "stdout",
     "output_type": "stream",
     "text": [
      "4\n",
      "5\n",
      "6\n",
      "7\n",
      "8\n"
     ]
    },
    {
     "name": "stderr",
     "output_type": "stream",
     "text": [
      "Epoch [31/300]:  42%|███████████████████████▎                               | 14/33 [00:00<00:00, 64.09it/s, loss=0.677]"
     ]
    },
    {
     "name": "stdout",
     "output_type": "stream",
     "text": [
      "9\n",
      "10\n",
      "11\n",
      "12\n",
      "13\n"
     ]
    },
    {
     "name": "stderr",
     "output_type": "stream",
     "text": [
      "Epoch [31/300]:  42%|███████████████████████▎                               | 14/33 [00:00<00:00, 64.09it/s, loss=0.955]"
     ]
    },
    {
     "name": "stdout",
     "output_type": "stream",
     "text": [
      "14\n",
      "15\n",
      "16\n",
      "17\n"
     ]
    },
    {
     "name": "stderr",
     "output_type": "stream",
     "text": [
      "Epoch [31/300]:  64%|████████████████████████████████████▎                    | 21/33 [00:00<00:00, 61.81it/s, loss=1.1]"
     ]
    },
    {
     "name": "stdout",
     "output_type": "stream",
     "text": [
      "18\n",
      "19\n",
      "20\n",
      "21\n"
     ]
    },
    {
     "name": "stderr",
     "output_type": "stream",
     "text": [
      "Epoch [31/300]:  64%|███████████████████████████████████                    | 21/33 [00:00<00:00, 61.81it/s, loss=0.846]"
     ]
    },
    {
     "name": "stdout",
     "output_type": "stream",
     "text": [
      "22\n",
      "23\n",
      "24\n",
      "25\n",
      "26\n"
     ]
    },
    {
     "name": "stderr",
     "output_type": "stream",
     "text": [
      "Epoch [31/300]: 100%|███████████████████████████████████████████████████████| 33/33 [00:00<00:00, 57.65it/s, loss=0.514]\n",
      "\n",
      "Epoch [31/300]:   0%|                                                                   | 0/5 [00:00<?, ?it/s, loss=1.6]\u001b[A\n",
      "Epoch [31/300]:  20%|███████████▊                                               | 1/5 [00:00<00:02,  1.73it/s, loss=1.6]\u001b[A\n",
      "Epoch [31/300]:  20%|███████████▍                                             | 1/5 [00:00<00:02,  1.73it/s, loss=0.893]\u001b[A\n",
      "Epoch [31/300]:  20%|███████████▍                                             | 1/5 [00:00<00:02,  1.73it/s, loss=0.774]\u001b[A\n",
      "Epoch [31/300]:  20%|███████████▌                                              | 1/5 [00:00<00:02,  1.73it/s, loss=1.16]\u001b[A\n",
      "Epoch [31/300]: 100%|█████████████████████████████████████████████████████████| 5/5 [00:00<00:00,  7.92it/s, loss=0.149]\u001b[A\n"
     ]
    },
    {
     "name": "stdout",
     "output_type": "stream",
     "text": [
      "27\n",
      "28\n",
      "29\n",
      "30\n",
      "31\n",
      "32\n",
      "0\n",
      "1\n",
      "2\n",
      "3\n",
      "4\n",
      "model improved and saved\n",
      "\n",
      "Epoch 31: train loss: 0.862752476424882 \n",
      "Epoch 31: valid loss: 0.9155051410198212 \n"
     ]
    },
    {
     "name": "stderr",
     "output_type": "stream",
     "text": [
      "  0%|                                                                                            | 0/33 [00:00<?, ?it/s]\n",
      "Epoch [32/300]:   0%|                                                                            | 0/33 [00:00<?, ?it/s]\u001b[A\n",
      "Epoch [32/300]:   0%|                                                                | 0/33 [00:00<?, ?it/s, loss=0.739]\u001b[A"
     ]
    },
    {
     "name": "stdout",
     "output_type": "stream",
     "text": [
      "0\n",
      "1\n",
      "2\n",
      "3\n"
     ]
    },
    {
     "name": "stderr",
     "output_type": "stream",
     "text": [
      "Epoch [32/300]:  42%|███████████████████████▎                               | 14/33 [00:00<00:00, 65.63it/s, loss=0.889]"
     ]
    },
    {
     "name": "stdout",
     "output_type": "stream",
     "text": [
      "4\n",
      "5\n",
      "6\n",
      "7\n",
      "8\n",
      "9\n",
      "10\n",
      "11\n",
      "12\n",
      "13\n"
     ]
    },
    {
     "name": "stderr",
     "output_type": "stream",
     "text": [
      "Epoch [32/300]:  42%|███████████████████████▊                                | 14/33 [00:00<00:00, 65.63it/s, loss=1.31]"
     ]
    },
    {
     "name": "stdout",
     "output_type": "stream",
     "text": [
      "14\n",
      "15\n",
      "16\n",
      "17\n"
     ]
    },
    {
     "name": "stderr",
     "output_type": "stream",
     "text": [
      "Epoch [32/300]:  85%|███████████████████████████████████████████████▌        | 28/33 [00:00<00:00, 66.23it/s, loss=1.06]"
     ]
    },
    {
     "name": "stdout",
     "output_type": "stream",
     "text": [
      "18\n",
      "19\n",
      "20\n",
      "21\n",
      "22\n",
      "23\n",
      "24\n",
      "25\n",
      "26\n",
      "27\n"
     ]
    },
    {
     "name": "stderr",
     "output_type": "stream",
     "text": [
      "Epoch [32/300]: 100%|████████████████████████████████████████████████████████| 33/33 [00:00<00:00, 68.17it/s, loss=1.84]"
     ]
    },
    {
     "name": "stdout",
     "output_type": "stream",
     "text": [
      "28\n",
      "29\n",
      "30\n",
      "31\n",
      "32\n"
     ]
    },
    {
     "name": "stderr",
     "output_type": "stream",
     "text": [
      "\n",
      "\n",
      "Epoch [32/300]:   0%|                                                                   | 0/5 [00:00<?, ?it/s, loss=1.6]\u001b[A\n",
      "Epoch [32/300]:  20%|███████████▊                                               | 1/5 [00:00<00:01,  2.02it/s, loss=1.6]\u001b[A\n",
      "Epoch [32/300]:  20%|███████████▍                                             | 1/5 [00:00<00:01,  2.02it/s, loss=0.892]\u001b[A\n",
      "Epoch [32/300]:  20%|███████████▍                                             | 1/5 [00:00<00:01,  2.02it/s, loss=0.773]\u001b[A\n",
      "Epoch [32/300]:  20%|███████████▌                                              | 1/5 [00:00<00:01,  2.02it/s, loss=1.16]\u001b[A\n",
      "Epoch [32/300]: 100%|█████████████████████████████████████████████████████████| 5/5 [00:00<00:00,  9.16it/s, loss=0.149]\u001b[A\n"
     ]
    },
    {
     "name": "stdout",
     "output_type": "stream",
     "text": [
      "0\n",
      "1\n",
      "2\n",
      "3\n",
      "4\n",
      "model improved and saved\n",
      "\n",
      "Epoch 32: train loss: 0.9005950400323579 \n",
      "Epoch 32: valid loss: 0.9148510366678237 \n"
     ]
    },
    {
     "name": "stderr",
     "output_type": "stream",
     "text": [
      "  0%|                                                                                            | 0/33 [00:00<?, ?it/s]\n",
      "Epoch [33/300]:   0%|                                                                            | 0/33 [00:00<?, ?it/s]\u001b[A\n",
      "Epoch [33/300]:   0%|                                                                | 0/33 [00:00<?, ?it/s, loss=0.627]\u001b[A"
     ]
    },
    {
     "name": "stdout",
     "output_type": "stream",
     "text": [
      "0\n",
      "1\n",
      "2\n",
      "3\n",
      "4\n"
     ]
    },
    {
     "name": "stderr",
     "output_type": "stream",
     "text": [
      "Epoch [33/300]:  21%|███████████▉                                            | 7/33 [00:00<00:00, 63.77it/s, loss=0.844]"
     ]
    },
    {
     "name": "stdout",
     "output_type": "stream",
     "text": [
      "5\n",
      "6\n",
      "7\n",
      "8\n"
     ]
    },
    {
     "name": "stderr",
     "output_type": "stream",
     "text": [
      "Epoch [33/300]:  42%|███████████████████████▎                               | 14/33 [00:00<00:00, 64.72it/s, loss=0.955]"
     ]
    },
    {
     "name": "stdout",
     "output_type": "stream",
     "text": [
      "9\n",
      "10\n",
      "11\n",
      "12\n",
      "13\n"
     ]
    },
    {
     "name": "stderr",
     "output_type": "stream",
     "text": [
      "Epoch [33/300]:  42%|███████████████████████▎                               | 14/33 [00:00<00:00, 64.72it/s, loss=0.908]"
     ]
    },
    {
     "name": "stdout",
     "output_type": "stream",
     "text": [
      "14\n",
      "15\n",
      "16\n",
      "17\n",
      "18\n"
     ]
    },
    {
     "name": "stderr",
     "output_type": "stream",
     "text": [
      "Epoch [33/300]:  64%|███████████████████████████████████                    | 21/33 [00:00<00:00, 67.02it/s, loss=0.953]"
     ]
    },
    {
     "name": "stdout",
     "output_type": "stream",
     "text": [
      "19\n",
      "20\n",
      "21\n",
      "22\n"
     ]
    },
    {
     "name": "stderr",
     "output_type": "stream",
     "text": [
      "Epoch [33/300]:  88%|█████████████████████████████████████████████████▏      | 29/33 [00:00<00:00, 69.87it/s, loss=1.07]"
     ]
    },
    {
     "name": "stdout",
     "output_type": "stream",
     "text": [
      "23\n",
      "24\n",
      "25\n",
      "26\n",
      "27\n",
      "28\n"
     ]
    },
    {
     "name": "stderr",
     "output_type": "stream",
     "text": [
      "Epoch [33/300]: 100%|████████████████████████████████████████████████████████| 33/33 [00:00<00:00, 70.04it/s, loss=1.26]\n",
      "\n",
      "Epoch [33/300]:   0%|                                                                   | 0/5 [00:00<?, ?it/s, loss=1.6]\u001b[A\n",
      "Epoch [33/300]:  20%|███████████▊                                               | 1/5 [00:00<00:01,  2.08it/s, loss=1.6]\u001b[A\n",
      "Epoch [33/300]:  20%|███████████▍                                             | 1/5 [00:00<00:01,  2.08it/s, loss=0.891]\u001b[A"
     ]
    },
    {
     "name": "stdout",
     "output_type": "stream",
     "text": [
      "29\n",
      "30\n",
      "31\n",
      "32\n",
      "0\n",
      "1\n"
     ]
    },
    {
     "name": "stderr",
     "output_type": "stream",
     "text": [
      "\n",
      "Epoch [33/300]:  20%|███████████▍                                             | 1/5 [00:00<00:01,  2.08it/s, loss=0.772]\u001b[A\n",
      "Epoch [33/300]:  20%|███████████▌                                              | 1/5 [00:00<00:01,  2.08it/s, loss=1.16]\u001b[A\n",
      "Epoch [33/300]: 100%|█████████████████████████████████████████████████████████| 5/5 [00:00<00:00,  9.41it/s, loss=0.148]\u001b[A\n"
     ]
    },
    {
     "name": "stdout",
     "output_type": "stream",
     "text": [
      "2\n",
      "3\n",
      "4\n",
      "model improved and saved\n",
      "\n",
      "Epoch 33: train loss: 0.883997765454379 \n",
      "Epoch 33: valid loss: 0.914248126745224 \n"
     ]
    },
    {
     "name": "stderr",
     "output_type": "stream",
     "text": [
      "  0%|                                                                                            | 0/33 [00:00<?, ?it/s]\n",
      "Epoch [34/300]:   0%|                                                                            | 0/33 [00:00<?, ?it/s]\u001b[A\n",
      "Epoch [34/300]:   0%|                                                                 | 0/33 [00:00<?, ?it/s, loss=1.04]\u001b[A"
     ]
    },
    {
     "name": "stdout",
     "output_type": "stream",
     "text": [
      "0\n",
      "1\n",
      "2\n",
      "3\n",
      "4\n",
      "5\n"
     ]
    },
    {
     "name": "stderr",
     "output_type": "stream",
     "text": [
      "Epoch [34/300]:  21%|███████████▉                                            | 7/33 [00:00<00:00, 63.44it/s, loss=0.804]"
     ]
    },
    {
     "name": "stdout",
     "output_type": "stream",
     "text": [
      "6\n",
      "7\n",
      "8\n",
      "9\n",
      "10\n"
     ]
    },
    {
     "name": "stderr",
     "output_type": "stream",
     "text": [
      "Epoch [34/300]:  42%|███████████████████████▎                               | 14/33 [00:00<00:00, 66.84it/s, loss=0.877]"
     ]
    },
    {
     "name": "stdout",
     "output_type": "stream",
     "text": [
      "11\n",
      "12\n",
      "13\n"
     ]
    },
    {
     "name": "stderr",
     "output_type": "stream",
     "text": [
      "Epoch [34/300]:  42%|███████████████████████▎                               | 14/33 [00:00<00:00, 66.84it/s, loss=0.697]"
     ]
    },
    {
     "name": "stdout",
     "output_type": "stream",
     "text": [
      "14\n",
      "15\n",
      "16\n",
      "17\n",
      "18\n",
      "19\n",
      "20\n"
     ]
    },
    {
     "name": "stderr",
     "output_type": "stream",
     "text": [
      "Epoch [34/300]:  67%|█████████████████████████████████████▎                  | 22/33 [00:00<00:00, 69.31it/s, loss=1.11]"
     ]
    },
    {
     "name": "stdout",
     "output_type": "stream",
     "text": [
      "21\n",
      "22\n",
      "23\n",
      "24\n",
      "25\n"
     ]
    },
    {
     "name": "stderr",
     "output_type": "stream",
     "text": [
      "Epoch [34/300]:  67%|████████████████████████████████████▋                  | 22/33 [00:00<00:00, 69.31it/s, loss=0.733]"
     ]
    },
    {
     "name": "stdout",
     "output_type": "stream",
     "text": [
      "26\n",
      "27\n",
      "28\n"
     ]
    },
    {
     "name": "stderr",
     "output_type": "stream",
     "text": [
      "Epoch [34/300]: 100%|███████████████████████████████████████████████████████| 33/33 [00:00<00:00, 71.32it/s, loss=0.391]\n",
      "\n",
      "Epoch [34/300]:   0%|                                                                   | 0/5 [00:00<?, ?it/s, loss=1.6]\u001b[A\n",
      "Epoch [34/300]:  20%|███████████▊                                               | 1/5 [00:00<00:01,  2.09it/s, loss=1.6]\u001b[A\n",
      "Epoch [34/300]:  20%|███████████▍                                             | 1/5 [00:00<00:01,  2.09it/s, loss=0.891]\u001b[A\n",
      "Epoch [34/300]:  20%|███████████▍                                             | 1/5 [00:00<00:01,  2.09it/s, loss=0.772]\u001b[A"
     ]
    },
    {
     "name": "stdout",
     "output_type": "stream",
     "text": [
      "29\n",
      "30\n",
      "31\n",
      "32\n",
      "0\n",
      "1\n",
      "2\n"
     ]
    },
    {
     "name": "stderr",
     "output_type": "stream",
     "text": [
      "\n",
      "Epoch [34/300]:  20%|███████████▌                                              | 1/5 [00:00<00:01,  2.09it/s, loss=1.16]\u001b[A\n",
      "Epoch [34/300]: 100%|█████████████████████████████████████████████████████████| 5/5 [00:00<00:00,  9.49it/s, loss=0.148]\u001b[A\n"
     ]
    },
    {
     "name": "stdout",
     "output_type": "stream",
     "text": [
      "3\n",
      "4\n",
      "model improved and saved\n",
      "\n",
      "Epoch 34: train loss: 0.8630713964953567 \n",
      "Epoch 34: valid loss: 0.913675132393837 \n"
     ]
    },
    {
     "name": "stderr",
     "output_type": "stream",
     "text": [
      "  0%|                                                                                            | 0/33 [00:00<?, ?it/s]\n",
      "Epoch [35/300]:   0%|                                                                            | 0/33 [00:00<?, ?it/s]\u001b[A\n",
      "Epoch [35/300]:   0%|                                                                | 0/33 [00:00<?, ?it/s, loss=0.921]\u001b[A"
     ]
    },
    {
     "name": "stdout",
     "output_type": "stream",
     "text": [
      "0\n",
      "1\n"
     ]
    },
    {
     "name": "stderr",
     "output_type": "stream",
     "text": [
      "Epoch [35/300]:   0%|                                                                | 0/33 [00:00<?, ?it/s, loss=0.996]"
     ]
    },
    {
     "name": "stdout",
     "output_type": "stream",
     "text": [
      "2\n",
      "3\n",
      "4\n"
     ]
    },
    {
     "name": "stderr",
     "output_type": "stream",
     "text": [
      "Epoch [35/300]:  18%|██████████▏                                             | 6/33 [00:00<00:00, 59.61it/s, loss=0.779]"
     ]
    },
    {
     "name": "stdout",
     "output_type": "stream",
     "text": [
      "5\n",
      "6\n",
      "7\n",
      "8\n",
      "9\n",
      "10\n"
     ]
    },
    {
     "name": "stderr",
     "output_type": "stream",
     "text": [
      "Epoch [35/300]:  39%|█████████████████████▋                                 | 13/33 [00:00<00:00, 63.71it/s, loss=0.818]"
     ]
    },
    {
     "name": "stdout",
     "output_type": "stream",
     "text": [
      "11\n",
      "12\n",
      "13\n"
     ]
    },
    {
     "name": "stderr",
     "output_type": "stream",
     "text": [
      "Epoch [35/300]:  39%|█████████████████████▋                                 | 13/33 [00:00<00:00, 63.71it/s, loss=0.866]"
     ]
    },
    {
     "name": "stdout",
     "output_type": "stream",
     "text": [
      "14\n",
      "15\n"
     ]
    },
    {
     "name": "stderr",
     "output_type": "stream",
     "text": [
      "Epoch [35/300]:  39%|█████████████████████▋                                 | 13/33 [00:00<00:00, 63.71it/s, loss=0.844]"
     ]
    },
    {
     "name": "stdout",
     "output_type": "stream",
     "text": [
      "16\n",
      "17\n",
      "18\n"
     ]
    },
    {
     "name": "stderr",
     "output_type": "stream",
     "text": [
      "Epoch [35/300]:  61%|█████████████████████████████████▎                     | 20/33 [00:00<00:00, 64.41it/s, loss=0.717]"
     ]
    },
    {
     "name": "stdout",
     "output_type": "stream",
     "text": [
      "19\n",
      "20\n",
      "21\n",
      "22\n",
      "23\n",
      "24\n"
     ]
    },
    {
     "name": "stderr",
     "output_type": "stream",
     "text": [
      "Epoch [35/300]:  85%|███████████████████████████████████████████████▌        | 28/33 [00:00<00:00, 67.40it/s, loss=1.08]"
     ]
    },
    {
     "name": "stdout",
     "output_type": "stream",
     "text": [
      "25\n",
      "26\n",
      "27\n"
     ]
    },
    {
     "name": "stderr",
     "output_type": "stream",
     "text": [
      "Epoch [35/300]:  85%|██████████████████████████████████████████████▋        | 28/33 [00:00<00:00, 67.40it/s, loss=0.915]"
     ]
    },
    {
     "name": "stdout",
     "output_type": "stream",
     "text": [
      "28\n",
      "29\n",
      "30\n"
     ]
    },
    {
     "name": "stderr",
     "output_type": "stream",
     "text": [
      "Epoch [35/300]: 100%|███████████████████████████████████████████████████████| 33/33 [00:00<00:00, 67.47it/s, loss=0.896]\n",
      "\n",
      "Epoch [35/300]:   0%|                                                                   | 0/5 [00:00<?, ?it/s, loss=1.6]\u001b[A\n",
      "Epoch [35/300]:  20%|███████████▊                                               | 1/5 [00:00<00:01,  2.00it/s, loss=1.6]\u001b[A"
     ]
    },
    {
     "name": "stdout",
     "output_type": "stream",
     "text": [
      "31\n",
      "32\n",
      "0\n"
     ]
    },
    {
     "name": "stderr",
     "output_type": "stream",
     "text": [
      "\n",
      "Epoch [35/300]:  20%|███████████▌                                              | 1/5 [00:00<00:01,  2.00it/s, loss=0.89]\u001b[A\n",
      "Epoch [35/300]:  20%|███████████▍                                             | 1/5 [00:00<00:01,  2.00it/s, loss=0.771]\u001b[A\n",
      "Epoch [35/300]:  20%|███████████▌                                              | 1/5 [00:00<00:01,  2.00it/s, loss=1.16]\u001b[A\n",
      "Epoch [35/300]: 100%|█████████████████████████████████████████████████████████| 5/5 [00:00<00:00,  9.08it/s, loss=0.147]\u001b[A\n"
     ]
    },
    {
     "name": "stdout",
     "output_type": "stream",
     "text": [
      "1\n",
      "2\n",
      "3\n",
      "4\n",
      "model improved and saved\n",
      "\n",
      "Epoch 35: train loss: 0.8702562686168787 \n",
      "Epoch 35: valid loss: 0.9132077157497406 \n"
     ]
    },
    {
     "name": "stderr",
     "output_type": "stream",
     "text": [
      "  0%|                                                                                            | 0/33 [00:00<?, ?it/s]\n",
      "Epoch [36/300]:   0%|                                                                            | 0/33 [00:00<?, ?it/s]\u001b[A\n",
      "Epoch [36/300]:   0%|                                                                 | 0/33 [00:00<?, ?it/s, loss=1.02]\u001b[A"
     ]
    },
    {
     "name": "stdout",
     "output_type": "stream",
     "text": [
      "0\n"
     ]
    },
    {
     "name": "stderr",
     "output_type": "stream",
     "text": [
      "Epoch [36/300]:   0%|                                                                 | 0/33 [00:00<?, ?it/s, loss=1.05]"
     ]
    },
    {
     "name": "stdout",
     "output_type": "stream",
     "text": [
      "1\n",
      "2\n",
      "3\n"
     ]
    },
    {
     "name": "stderr",
     "output_type": "stream",
     "text": [
      "Epoch [36/300]:  21%|███████████▉                                            | 7/33 [00:00<00:00, 66.55it/s, loss=0.618]"
     ]
    },
    {
     "name": "stdout",
     "output_type": "stream",
     "text": [
      "4\n",
      "5\n",
      "6\n"
     ]
    },
    {
     "name": "stderr",
     "output_type": "stream",
     "text": [
      "Epoch [36/300]:  21%|████████████                                             | 7/33 [00:00<00:00, 66.55it/s, loss=1.03]"
     ]
    },
    {
     "name": "stdout",
     "output_type": "stream",
     "text": [
      "7\n",
      "8\n",
      "9\n"
     ]
    },
    {
     "name": "stderr",
     "output_type": "stream",
     "text": [
      "Epoch [36/300]:  21%|███████████▉                                            | 7/33 [00:00<00:00, 66.55it/s, loss=0.742]"
     ]
    },
    {
     "name": "stdout",
     "output_type": "stream",
     "text": [
      "10\n",
      "11\n",
      "12\n",
      "13\n"
     ]
    },
    {
     "name": "stderr",
     "output_type": "stream",
     "text": [
      "Epoch [36/300]:  42%|███████████████████████▊                                | 14/33 [00:00<00:00, 62.93it/s, loss=0.78]"
     ]
    },
    {
     "name": "stdout",
     "output_type": "stream",
     "text": [
      "14\n"
     ]
    },
    {
     "name": "stderr",
     "output_type": "stream",
     "text": [
      "Epoch [36/300]:  42%|███████████████████████▎                               | 14/33 [00:00<00:00, 62.93it/s, loss=0.763]"
     ]
    },
    {
     "name": "stdout",
     "output_type": "stream",
     "text": [
      "15\n",
      "16\n",
      "17\n"
     ]
    },
    {
     "name": "stderr",
     "output_type": "stream",
     "text": [
      "Epoch [36/300]:  42%|███████████████████████▊                                | 14/33 [00:00<00:00, 62.93it/s, loss=1.02]"
     ]
    },
    {
     "name": "stdout",
     "output_type": "stream",
     "text": [
      "18\n",
      "19\n",
      "20\n"
     ]
    },
    {
     "name": "stderr",
     "output_type": "stream",
     "text": [
      "Epoch [36/300]:  67%|████████████████████████████████████▋                  | 22/33 [00:00<00:00, 67.58it/s, loss=0.656]"
     ]
    },
    {
     "name": "stdout",
     "output_type": "stream",
     "text": [
      "21\n",
      "22\n",
      "23\n",
      "24\n"
     ]
    },
    {
     "name": "stderr",
     "output_type": "stream",
     "text": [
      "Epoch [36/300]:  67%|████████████████████████████████████▋                  | 22/33 [00:00<00:00, 67.58it/s, loss=0.572]"
     ]
    },
    {
     "name": "stdout",
     "output_type": "stream",
     "text": [
      "25\n",
      "26\n",
      "27\n",
      "28\n"
     ]
    },
    {
     "name": "stderr",
     "output_type": "stream",
     "text": [
      "Epoch [36/300]:  91%|██████████████████████████████████████████████████     | 30/33 [00:00<00:00, 68.83it/s, loss=0.919]"
     ]
    },
    {
     "name": "stdout",
     "output_type": "stream",
     "text": [
      "29\n"
     ]
    },
    {
     "name": "stderr",
     "output_type": "stream",
     "text": [
      "Epoch [36/300]: 100%|████████████████████████████████████████████████████████| 33/33 [00:00<00:00, 68.57it/s, loss=1.07]"
     ]
    },
    {
     "name": "stdout",
     "output_type": "stream",
     "text": [
      "30\n",
      "31\n",
      "32\n"
     ]
    },
    {
     "name": "stderr",
     "output_type": "stream",
     "text": [
      "\n",
      "\n",
      "Epoch [36/300]:   0%|                                                                   | 0/5 [00:00<?, ?it/s, loss=1.6]\u001b[A\n",
      "Epoch [36/300]:  20%|███████████▊                                               | 1/5 [00:00<00:01,  2.04it/s, loss=1.6]\u001b[A\n",
      "Epoch [36/300]:  20%|███████████▌                                              | 1/5 [00:00<00:01,  2.04it/s, loss=0.89]\u001b[A\n",
      "Epoch [36/300]:  20%|███████████▍                                             | 1/5 [00:00<00:01,  2.04it/s, loss=0.771]\u001b[A"
     ]
    },
    {
     "name": "stdout",
     "output_type": "stream",
     "text": [
      "0\n",
      "1\n",
      "2\n"
     ]
    },
    {
     "name": "stderr",
     "output_type": "stream",
     "text": [
      "\n",
      "Epoch [36/300]:  20%|███████████▌                                              | 1/5 [00:00<00:01,  2.04it/s, loss=1.16]\u001b[A\n",
      "Epoch [36/300]: 100%|█████████████████████████████████████████████████████████| 5/5 [00:00<00:00,  9.23it/s, loss=0.146]\u001b[A\n"
     ]
    },
    {
     "name": "stdout",
     "output_type": "stream",
     "text": [
      "3\n",
      "4\n",
      "model improved and saved\n",
      "\n",
      "Epoch 36: train loss: 0.876533101905476 \n",
      "Epoch 36: valid loss: 0.9126948624849319 \n"
     ]
    },
    {
     "name": "stderr",
     "output_type": "stream",
     "text": [
      "  0%|                                                                                            | 0/33 [00:00<?, ?it/s]\n",
      "Epoch [37/300]:   0%|                                                                            | 0/33 [00:00<?, ?it/s]\u001b[A\n",
      "Epoch [37/300]:   0%|                                                                | 0/33 [00:00<?, ?it/s, loss=0.391]\u001b[A"
     ]
    },
    {
     "name": "stdout",
     "output_type": "stream",
     "text": [
      "0\n"
     ]
    },
    {
     "name": "stderr",
     "output_type": "stream",
     "text": [
      "Epoch [37/300]:   0%|                                                                | 0/33 [00:00<?, ?it/s, loss=0.852]"
     ]
    },
    {
     "name": "stdout",
     "output_type": "stream",
     "text": [
      "1\n",
      "2\n",
      "3\n",
      "4\n"
     ]
    },
    {
     "name": "stderr",
     "output_type": "stream",
     "text": [
      "Epoch [37/300]:  18%|██████████▏                                             | 6/33 [00:00<00:00, 58.49it/s, loss=0.842]"
     ]
    },
    {
     "name": "stdout",
     "output_type": "stream",
     "text": [
      "5\n"
     ]
    },
    {
     "name": "stderr",
     "output_type": "stream",
     "text": [
      "Epoch [37/300]:  18%|██████████▏                                             | 6/33 [00:00<00:00, 58.49it/s, loss=0.815]"
     ]
    },
    {
     "name": "stdout",
     "output_type": "stream",
     "text": [
      "6\n",
      "7\n"
     ]
    },
    {
     "name": "stderr",
     "output_type": "stream",
     "text": [
      "Epoch [37/300]:  18%|██████████▏                                             | 6/33 [00:00<00:00, 58.49it/s, loss=0.903]"
     ]
    },
    {
     "name": "stdout",
     "output_type": "stream",
     "text": [
      "8\n",
      "9\n"
     ]
    },
    {
     "name": "stderr",
     "output_type": "stream",
     "text": [
      "Epoch [37/300]:  36%|████████████████████                                   | 12/33 [00:00<00:00, 54.79it/s, loss=0.861]"
     ]
    },
    {
     "name": "stdout",
     "output_type": "stream",
     "text": [
      "10\n",
      "11\n"
     ]
    },
    {
     "name": "stderr",
     "output_type": "stream",
     "text": [
      "\r",
      "Epoch [37/300]:  36%|████████████████████                                   | 12/33 [00:00<00:00, 54.79it/s, loss=0.879]"
     ]
    },
    {
     "name": "stdout",
     "output_type": "stream",
     "text": [
      "12\n"
     ]
    },
    {
     "name": "stderr",
     "output_type": "stream",
     "text": [
      "Epoch [37/300]:  36%|████████████████████▎                                   | 12/33 [00:00<00:00, 54.79it/s, loss=1.55]"
     ]
    },
    {
     "name": "stdout",
     "output_type": "stream",
     "text": [
      "13\n",
      "14\n",
      "15\n",
      "16\n"
     ]
    },
    {
     "name": "stderr",
     "output_type": "stream",
     "text": [
      "Epoch [37/300]:  36%|████████████████████                                   | 12/33 [00:00<00:00, 54.79it/s, loss=0.826]"
     ]
    },
    {
     "name": "stdout",
     "output_type": "stream",
     "text": [
      "17\n",
      "18\n"
     ]
    },
    {
     "name": "stderr",
     "output_type": "stream",
     "text": [
      "Epoch [37/300]:  58%|███████████████████████████████▋                       | 19/33 [00:00<00:00, 60.48it/s, loss=0.891]"
     ]
    },
    {
     "name": "stdout",
     "output_type": "stream",
     "text": [
      "19\n",
      "20\n",
      "21\n"
     ]
    },
    {
     "name": "stderr",
     "output_type": "stream",
     "text": [
      "\r",
      "Epoch [37/300]:  58%|████████████████████████████████▏                       | 19/33 [00:00<00:00, 60.48it/s, loss=0.75]"
     ]
    },
    {
     "name": "stdout",
     "output_type": "stream",
     "text": [
      "22\n"
     ]
    },
    {
     "name": "stderr",
     "output_type": "stream",
     "text": [
      "Epoch [37/300]:  58%|████████████████████████████████▏                       | 19/33 [00:00<00:00, 60.48it/s, loss=1.01]"
     ]
    },
    {
     "name": "stdout",
     "output_type": "stream",
     "text": [
      "23\n",
      "24\n"
     ]
    },
    {
     "name": "stderr",
     "output_type": "stream",
     "text": [
      "Epoch [37/300]:  79%|███████████████████████████████████████████▎           | 26/33 [00:00<00:00, 46.64it/s, loss=0.708]"
     ]
    },
    {
     "name": "stdout",
     "output_type": "stream",
     "text": [
      "25\n",
      "26\n"
     ]
    },
    {
     "name": "stderr",
     "output_type": "stream",
     "text": [
      "Epoch [37/300]:  79%|███████████████████████████████████████████▎           | 26/33 [00:00<00:00, 46.64it/s, loss=0.661]"
     ]
    },
    {
     "name": "stdout",
     "output_type": "stream",
     "text": [
      "27\n",
      "28\n",
      "29\n",
      "30\n"
     ]
    },
    {
     "name": "stderr",
     "output_type": "stream",
     "text": [
      "Epoch [37/300]: 100%|███████████████████████████████████████████████████████| 33/33 [00:00<00:00, 54.05it/s, loss=0.678]\n",
      "\n",
      "Epoch [37/300]:   0%|                                                                   | 0/5 [00:00<?, ?it/s, loss=1.6]\u001b[A\n",
      "Epoch [37/300]:  20%|███████████▊                                               | 1/5 [00:00<00:02,  1.61it/s, loss=1.6]\u001b[A\n",
      "Epoch [37/300]:  20%|███████████▍                                             | 1/5 [00:00<00:02,  1.61it/s, loss=0.889]\u001b[A\n",
      "Epoch [37/300]:  20%|███████████▍                                             | 1/5 [00:00<00:02,  1.61it/s, loss=0.771]\u001b[A\n",
      "Epoch [37/300]:  20%|███████████▌                                              | 1/5 [00:00<00:02,  1.61it/s, loss=1.16]\u001b[A\n",
      "Epoch [37/300]: 100%|█████████████████████████████████████████████████████████| 5/5 [00:00<00:00,  7.43it/s, loss=0.145]\u001b[A\n"
     ]
    },
    {
     "name": "stdout",
     "output_type": "stream",
     "text": [
      "31\n",
      "32\n",
      "0\n",
      "1\n",
      "2\n",
      "3\n",
      "4\n",
      "model improved and saved\n",
      "\n",
      "Epoch 37: train loss: 0.8534092587051969 \n",
      "Epoch 37: valid loss: 0.9123427212238312 \n"
     ]
    },
    {
     "name": "stderr",
     "output_type": "stream",
     "text": [
      "  0%|                                                                                            | 0/33 [00:00<?, ?it/s]\n",
      "Epoch [38/300]:   0%|                                                                            | 0/33 [00:00<?, ?it/s]\u001b[A\n",
      "Epoch [38/300]:   0%|                                                                | 0/33 [00:00<?, ?it/s, loss=0.771]\u001b[A"
     ]
    },
    {
     "name": "stdout",
     "output_type": "stream",
     "text": [
      "0\n"
     ]
    },
    {
     "name": "stderr",
     "output_type": "stream",
     "text": [
      "Epoch [38/300]:   0%|                                                                | 0/33 [00:00<?, ?it/s, loss=0.894]"
     ]
    },
    {
     "name": "stdout",
     "output_type": "stream",
     "text": [
      "1\n",
      "2\n",
      "3\n"
     ]
    },
    {
     "name": "stderr",
     "output_type": "stream",
     "text": [
      "Epoch [38/300]:  21%|███████████▉                                            | 7/33 [00:00<00:00, 65.75it/s, loss=0.687]"
     ]
    },
    {
     "name": "stdout",
     "output_type": "stream",
     "text": [
      "4\n",
      "5\n",
      "6\n",
      "7\n"
     ]
    },
    {
     "name": "stderr",
     "output_type": "stream",
     "text": [
      "Epoch [38/300]:  45%|█████████████████████████                              | 15/33 [00:00<00:00, 69.75it/s, loss=0.623]"
     ]
    },
    {
     "name": "stdout",
     "output_type": "stream",
     "text": [
      "8\n",
      "9\n",
      "10\n",
      "11\n",
      "12\n",
      "13\n",
      "14\n"
     ]
    },
    {
     "name": "stderr",
     "output_type": "stream",
     "text": [
      "\r",
      "Epoch [38/300]:  45%|█████████████████████████▍                              | 15/33 [00:00<00:00, 69.75it/s, loss=1.23]"
     ]
    },
    {
     "name": "stdout",
     "output_type": "stream",
     "text": [
      "15\n"
     ]
    },
    {
     "name": "stderr",
     "output_type": "stream",
     "text": [
      "Epoch [38/300]:  45%|█████████████████████████                              | 15/33 [00:00<00:00, 69.75it/s, loss=0.914]"
     ]
    },
    {
     "name": "stdout",
     "output_type": "stream",
     "text": [
      "16\n",
      "17\n",
      "18\n"
     ]
    },
    {
     "name": "stderr",
     "output_type": "stream",
     "text": [
      "Epoch [38/300]:  70%|██████████████████████████████████████▎                | 23/33 [00:00<00:00, 72.32it/s, loss=0.869]"
     ]
    },
    {
     "name": "stdout",
     "output_type": "stream",
     "text": [
      "19\n",
      "20\n",
      "21\n",
      "22\n"
     ]
    },
    {
     "name": "stderr",
     "output_type": "stream",
     "text": [
      "Epoch [38/300]:  70%|███████████████████████████████████████▋                 | 23/33 [00:00<00:00, 72.32it/s, loss=1.4]"
     ]
    },
    {
     "name": "stdout",
     "output_type": "stream",
     "text": [
      "23\n",
      "24\n",
      "25\n",
      "26\n",
      "27\n",
      "28\n",
      "29\n"
     ]
    },
    {
     "name": "stderr",
     "output_type": "stream",
     "text": [
      "Epoch [38/300]:  94%|████████████████████████████████████████████████████▌   | 31/33 [00:00<00:00, 71.48it/s, loss=1.03]"
     ]
    },
    {
     "name": "stdout",
     "output_type": "stream",
     "text": [
      "30\n"
     ]
    },
    {
     "name": "stderr",
     "output_type": "stream",
     "text": [
      "Epoch [38/300]: 100%|███████████████████████████████████████████████████████| 33/33 [00:00<00:00, 71.66it/s, loss=0.428]\n",
      "\n",
      "Epoch [38/300]:   0%|                                                                   | 0/5 [00:00<?, ?it/s, loss=1.6]\u001b[A\n",
      "Epoch [38/300]:  20%|███████████▊                                               | 1/5 [00:00<00:01,  2.13it/s, loss=1.6]\u001b[A"
     ]
    },
    {
     "name": "stdout",
     "output_type": "stream",
     "text": [
      "31\n",
      "32\n",
      "0\n"
     ]
    },
    {
     "name": "stderr",
     "output_type": "stream",
     "text": [
      "\n",
      "Epoch [38/300]:  20%|███████████▍                                             | 1/5 [00:00<00:01,  2.13it/s, loss=0.889]\u001b[A\n",
      "Epoch [38/300]:  20%|███████████▌                                              | 1/5 [00:00<00:01,  2.13it/s, loss=0.77]\u001b[A\n",
      "Epoch [38/300]:  20%|███████████▌                                              | 1/5 [00:00<00:01,  2.13it/s, loss=1.16]\u001b[A\n",
      "Epoch [38/300]: 100%|█████████████████████████████████████████████████████████| 5/5 [00:00<00:00,  9.62it/s, loss=0.145]\u001b[A\n"
     ]
    },
    {
     "name": "stdout",
     "output_type": "stream",
     "text": [
      "1\n",
      "2\n",
      "3\n",
      "4\n",
      "model improved and saved\n",
      "\n",
      "Epoch 38: train loss: 0.8551851267164404 \n",
      "Epoch 38: valid loss: 0.9119545727968216 \n"
     ]
    },
    {
     "name": "stderr",
     "output_type": "stream",
     "text": [
      "  0%|                                                                                            | 0/33 [00:00<?, ?it/s]\n",
      "Epoch [39/300]:   0%|                                                                            | 0/33 [00:00<?, ?it/s]\u001b[A\n",
      "Epoch [39/300]:   0%|                                                                | 0/33 [00:00<?, ?it/s, loss=0.724]\u001b[A"
     ]
    },
    {
     "name": "stdout",
     "output_type": "stream",
     "text": [
      "0\n",
      "1\n",
      "2\n",
      "3\n",
      "4\n",
      "5\n"
     ]
    },
    {
     "name": "stderr",
     "output_type": "stream",
     "text": [
      "Epoch [39/300]:  21%|███████████▉                                            | 7/33 [00:00<00:00, 64.58it/s, loss=0.923]"
     ]
    },
    {
     "name": "stdout",
     "output_type": "stream",
     "text": [
      "6\n"
     ]
    },
    {
     "name": "stderr",
     "output_type": "stream",
     "text": [
      "Epoch [39/300]:  21%|███████████▉                                            | 7/33 [00:00<00:00, 64.58it/s, loss=0.622]"
     ]
    },
    {
     "name": "stdout",
     "output_type": "stream",
     "text": [
      "7\n",
      "8\n",
      "9\n"
     ]
    },
    {
     "name": "stderr",
     "output_type": "stream",
     "text": [
      "Epoch [39/300]:  42%|███████████████████████▎                               | 14/33 [00:00<00:00, 65.78it/s, loss=0.864]"
     ]
    },
    {
     "name": "stdout",
     "output_type": "stream",
     "text": [
      "10\n",
      "11\n",
      "12\n",
      "13\n"
     ]
    },
    {
     "name": "stderr",
     "output_type": "stream",
     "text": [
      "Epoch [39/300]:  42%|███████████████████████▊                                | 14/33 [00:00<00:00, 65.78it/s, loss=1.26]"
     ]
    },
    {
     "name": "stdout",
     "output_type": "stream",
     "text": [
      "14\n",
      "15\n",
      "16\n",
      "17\n",
      "18\n",
      "19\n",
      "20\n"
     ]
    },
    {
     "name": "stderr",
     "output_type": "stream",
     "text": [
      "Epoch [39/300]:  67%|████████████████████████████████████▋                  | 22/33 [00:00<00:00, 69.81it/s, loss=0.673]"
     ]
    },
    {
     "name": "stdout",
     "output_type": "stream",
     "text": [
      "21\n"
     ]
    },
    {
     "name": "stderr",
     "output_type": "stream",
     "text": [
      "Epoch [39/300]:  67%|████████████████████████████████████▋                  | 22/33 [00:00<00:00, 69.81it/s, loss=0.918]"
     ]
    },
    {
     "name": "stdout",
     "output_type": "stream",
     "text": [
      "22\n",
      "23\n",
      "24\n"
     ]
    },
    {
     "name": "stderr",
     "output_type": "stream",
     "text": [
      "Epoch [39/300]:  67%|████████████████████████████████████▋                  | 22/33 [00:00<00:00, 69.81it/s, loss=0.615]"
     ]
    },
    {
     "name": "stdout",
     "output_type": "stream",
     "text": [
      "25\n",
      "26\n",
      "27\n",
      "28\n",
      "29\n"
     ]
    },
    {
     "name": "stderr",
     "output_type": "stream",
     "text": [
      "Epoch [39/300]: 100%|███████████████████████████████████████████████████████| 33/33 [00:00<00:00, 71.13it/s, loss=0.866]\n",
      "\n",
      "Epoch [39/300]:   0%|                                                                   | 0/5 [00:00<?, ?it/s, loss=1.6]\u001b[A\n",
      "Epoch [39/300]:  20%|███████████▊                                               | 1/5 [00:00<00:01,  2.11it/s, loss=1.6]\u001b[A\n",
      "Epoch [39/300]:  20%|███████████▍                                             | 1/5 [00:00<00:01,  2.11it/s, loss=0.889]\u001b[A\n",
      "Epoch [39/300]:  20%|███████████▌                                              | 1/5 [00:00<00:01,  2.11it/s, loss=0.77]\u001b[A"
     ]
    },
    {
     "name": "stdout",
     "output_type": "stream",
     "text": [
      "30\n",
      "31\n",
      "32\n",
      "0\n",
      "1\n",
      "2\n"
     ]
    },
    {
     "name": "stderr",
     "output_type": "stream",
     "text": [
      "\n",
      "Epoch [39/300]:  20%|███████████▌                                              | 1/5 [00:00<00:01,  2.11it/s, loss=1.16]\u001b[A\n",
      "Epoch [39/300]: 100%|█████████████████████████████████████████████████████████| 5/5 [00:00<00:00,  9.50it/s, loss=0.144]\u001b[A\n"
     ]
    },
    {
     "name": "stdout",
     "output_type": "stream",
     "text": [
      "3\n",
      "4\n",
      "model improved and saved\n",
      "\n",
      "Epoch 39: train loss: 0.8630860736875823 \n",
      "Epoch 39: valid loss: 0.9115996271371841 \n"
     ]
    },
    {
     "name": "stderr",
     "output_type": "stream",
     "text": [
      "  0%|                                                                                            | 0/33 [00:00<?, ?it/s]\n",
      "Epoch [40/300]:   0%|                                                                            | 0/33 [00:00<?, ?it/s]\u001b[A\n",
      "Epoch [40/300]:   0%|                                                                | 0/33 [00:00<?, ?it/s, loss=0.818]\u001b[A"
     ]
    },
    {
     "name": "stdout",
     "output_type": "stream",
     "text": [
      "0\n",
      "1\n"
     ]
    },
    {
     "name": "stderr",
     "output_type": "stream",
     "text": [
      "Epoch [40/300]:  18%|██████████▎                                              | 6/33 [00:00<00:00, 57.62it/s, loss=0.79]"
     ]
    },
    {
     "name": "stdout",
     "output_type": "stream",
     "text": [
      "2\n",
      "3\n",
      "4\n",
      "5\n"
     ]
    },
    {
     "name": "stderr",
     "output_type": "stream",
     "text": [
      "Epoch [40/300]:  18%|██████████▏                                             | 6/33 [00:00<00:00, 57.62it/s, loss=0.869]"
     ]
    },
    {
     "name": "stdout",
     "output_type": "stream",
     "text": [
      "6\n",
      "7\n",
      "8\n",
      "9\n",
      "10\n"
     ]
    },
    {
     "name": "stderr",
     "output_type": "stream",
     "text": [
      "Epoch [40/300]:  42%|███████████████████████▊                                | 14/33 [00:00<00:00, 66.62it/s, loss=1.06]"
     ]
    },
    {
     "name": "stdout",
     "output_type": "stream",
     "text": [
      "11\n",
      "12\n",
      "13\n"
     ]
    },
    {
     "name": "stderr",
     "output_type": "stream",
     "text": [
      "Epoch [40/300]:  42%|███████████████████████▎                               | 14/33 [00:00<00:00, 66.62it/s, loss=0.697]"
     ]
    },
    {
     "name": "stdout",
     "output_type": "stream",
     "text": [
      "14\n",
      "15\n",
      "16\n"
     ]
    },
    {
     "name": "stderr",
     "output_type": "stream",
     "text": [
      "Epoch [40/300]:  42%|███████████████████████▊                                | 14/33 [00:00<00:00, 66.62it/s, loss=1.17]"
     ]
    },
    {
     "name": "stdout",
     "output_type": "stream",
     "text": [
      "17\n",
      "18\n",
      "19\n",
      "20\n"
     ]
    },
    {
     "name": "stderr",
     "output_type": "stream",
     "text": [
      "Epoch [40/300]:  67%|████████████████████████████████████▋                  | 22/33 [00:00<00:00, 69.70it/s, loss=0.631]"
     ]
    },
    {
     "name": "stdout",
     "output_type": "stream",
     "text": [
      "21\n",
      "22\n",
      "23\n",
      "24\n",
      "25\n"
     ]
    },
    {
     "name": "stderr",
     "output_type": "stream",
     "text": [
      "Epoch [40/300]:  67%|█████████████████████████████████████▎                  | 22/33 [00:00<00:00, 69.70it/s, loss=1.14]"
     ]
    },
    {
     "name": "stdout",
     "output_type": "stream",
     "text": [
      "26\n",
      "27\n",
      "28\n"
     ]
    },
    {
     "name": "stderr",
     "output_type": "stream",
     "text": [
      "Epoch [40/300]: 100%|███████████████████████████████████████████████████████| 33/33 [00:00<00:00, 70.61it/s, loss=0.259]"
     ]
    },
    {
     "name": "stdout",
     "output_type": "stream",
     "text": [
      "29\n",
      "30\n",
      "31\n",
      "32\n"
     ]
    },
    {
     "name": "stderr",
     "output_type": "stream",
     "text": [
      "\n",
      "\n",
      "Epoch [40/300]:   0%|                                                                  | 0/5 [00:00<?, ?it/s, loss=1.59]\u001b[A\n",
      "Epoch [40/300]:  20%|███████████▌                                              | 1/5 [00:00<00:01,  2.09it/s, loss=1.59]\u001b[A\n",
      "Epoch [40/300]:  20%|███████████▍                                             | 1/5 [00:00<00:01,  2.09it/s, loss=0.888]\u001b[A\n",
      "Epoch [40/300]:  20%|███████████▌                                              | 1/5 [00:00<00:01,  2.09it/s, loss=0.77]\u001b[A\n"
     ]
    },
    {
     "name": "stdout",
     "output_type": "stream",
     "text": [
      "0\n",
      "1\n",
      "2\n",
      "3\n"
     ]
    },
    {
     "name": "stderr",
     "output_type": "stream",
     "text": [
      "Epoch [40/300]:  20%|███████████▌                                              | 1/5 [00:00<00:01,  2.09it/s, loss=1.16]\u001b[A\n",
      "Epoch [40/300]: 100%|█████████████████████████████████████████████████████████| 5/5 [00:00<00:00,  9.48it/s, loss=0.144]\u001b[A\n"
     ]
    },
    {
     "name": "stdout",
     "output_type": "stream",
     "text": [
      "4\n",
      "model improved and saved\n",
      "\n",
      "Epoch 40: train loss: 0.8448242102608536 \n",
      "Epoch 40: valid loss: 0.9112691372632981 \n"
     ]
    },
    {
     "name": "stderr",
     "output_type": "stream",
     "text": [
      "  0%|                                                                                            | 0/33 [00:00<?, ?it/s]\n",
      "Epoch [41/300]:   0%|                                                                            | 0/33 [00:00<?, ?it/s]\u001b[A\n",
      "Epoch [41/300]:   0%|                                                                | 0/33 [00:00<?, ?it/s, loss=0.998]\u001b[A"
     ]
    },
    {
     "name": "stdout",
     "output_type": "stream",
     "text": [
      "0\n",
      "1\n"
     ]
    },
    {
     "name": "stderr",
     "output_type": "stream",
     "text": [
      "Epoch [41/300]:   0%|                                                                | 0/33 [00:00<?, ?it/s, loss=0.716]"
     ]
    },
    {
     "name": "stdout",
     "output_type": "stream",
     "text": [
      "2\n",
      "3\n"
     ]
    },
    {
     "name": "stderr",
     "output_type": "stream",
     "text": [
      "Epoch [41/300]:  15%|████████▍                                               | 5/33 [00:00<00:00, 48.21it/s, loss=0.522]"
     ]
    },
    {
     "name": "stdout",
     "output_type": "stream",
     "text": [
      "4\n",
      "5\n",
      "6\n"
     ]
    },
    {
     "name": "stderr",
     "output_type": "stream",
     "text": [
      "Epoch [41/300]:  15%|████████▍                                               | 5/33 [00:00<00:00, 48.21it/s, loss=0.909]"
     ]
    },
    {
     "name": "stdout",
     "output_type": "stream",
     "text": [
      "7\n",
      "8\n",
      "9\n",
      "10\n"
     ]
    },
    {
     "name": "stderr",
     "output_type": "stream",
     "text": [
      "Epoch [41/300]:  39%|█████████████████████▋                                 | 13/33 [00:00<00:00, 61.98it/s, loss=0.999]"
     ]
    },
    {
     "name": "stdout",
     "output_type": "stream",
     "text": [
      "11\n",
      "12\n"
     ]
    },
    {
     "name": "stderr",
     "output_type": "stream",
     "text": [
      "Epoch [41/300]:  39%|██████████████████████                                  | 13/33 [00:00<00:00, 61.98it/s, loss=1.02]"
     ]
    },
    {
     "name": "stdout",
     "output_type": "stream",
     "text": [
      "13\n",
      "14\n",
      "15\n"
     ]
    },
    {
     "name": "stderr",
     "output_type": "stream",
     "text": [
      "Epoch [41/300]:  39%|█████████████████████▋                                 | 13/33 [00:00<00:00, 61.98it/s, loss=0.542]"
     ]
    },
    {
     "name": "stdout",
     "output_type": "stream",
     "text": [
      "16\n",
      "17\n",
      "18\n"
     ]
    },
    {
     "name": "stderr",
     "output_type": "stream",
     "text": [
      "Epoch [41/300]:  61%|█████████████████████████████████▎                     | 20/33 [00:00<00:00, 64.62it/s, loss=0.537]"
     ]
    },
    {
     "name": "stdout",
     "output_type": "stream",
     "text": [
      "19\n",
      "20\n"
     ]
    },
    {
     "name": "stderr",
     "output_type": "stream",
     "text": [
      "Epoch [41/300]:  61%|█████████████████████████████████▎                     | 20/33 [00:00<00:00, 64.62it/s, loss=0.853]"
     ]
    },
    {
     "name": "stdout",
     "output_type": "stream",
     "text": [
      "21\n",
      "22\n",
      "23\n",
      "24\n"
     ]
    },
    {
     "name": "stderr",
     "output_type": "stream",
     "text": [
      "Epoch [41/300]:  82%|█████████████████████████████████████████████▊          | 27/33 [00:00<00:00, 65.49it/s, loss=1.01]"
     ]
    },
    {
     "name": "stdout",
     "output_type": "stream",
     "text": [
      "25\n",
      "26\n"
     ]
    },
    {
     "name": "stderr",
     "output_type": "stream",
     "text": [
      "Epoch [41/300]:  82%|█████████████████████████████████████████████          | 27/33 [00:00<00:00, 65.49it/s, loss=0.787]"
     ]
    },
    {
     "name": "stdout",
     "output_type": "stream",
     "text": [
      "27\n",
      "28\n",
      "29\n"
     ]
    },
    {
     "name": "stderr",
     "output_type": "stream",
     "text": [
      "Epoch [41/300]: 100%|████████████████████████████████████████████████████████| 33/33 [00:00<00:00, 65.09it/s, loss=1.62]"
     ]
    },
    {
     "name": "stdout",
     "output_type": "stream",
     "text": [
      "30\n",
      "31\n",
      "32\n"
     ]
    },
    {
     "name": "stderr",
     "output_type": "stream",
     "text": [
      "\n",
      "\n",
      "Epoch [41/300]:   0%|                                                                  | 0/5 [00:00<?, ?it/s, loss=1.59]\u001b[A\n",
      "Epoch [41/300]:  20%|███████████▌                                              | 1/5 [00:00<00:02,  1.92it/s, loss=1.59]\u001b[A\n",
      "Epoch [41/300]:  20%|███████████▍                                             | 1/5 [00:00<00:02,  1.92it/s, loss=0.888]\u001b[A"
     ]
    },
    {
     "name": "stdout",
     "output_type": "stream",
     "text": [
      "0\n",
      "1\n"
     ]
    },
    {
     "name": "stderr",
     "output_type": "stream",
     "text": [
      "\n",
      "Epoch [41/300]:  20%|███████████▍                                             | 1/5 [00:00<00:02,  1.92it/s, loss=0.769]\u001b[A\n",
      "Epoch [41/300]:  20%|███████████▌                                              | 1/5 [00:00<00:02,  1.92it/s, loss=1.16]\u001b[A\n",
      "Epoch [41/300]: 100%|█████████████████████████████████████████████████████████| 5/5 [00:00<00:00,  8.73it/s, loss=0.143]\u001b[A\n"
     ]
    },
    {
     "name": "stdout",
     "output_type": "stream",
     "text": [
      "2\n",
      "3\n",
      "4\n",
      "model improved and saved\n",
      "\n",
      "Epoch 41: train loss: 0.8821867939197656 \n",
      "Epoch 41: valid loss: 0.9109896749258042 \n"
     ]
    },
    {
     "name": "stderr",
     "output_type": "stream",
     "text": [
      "  0%|                                                                                            | 0/33 [00:00<?, ?it/s]\n",
      "Epoch [42/300]:   0%|                                                                            | 0/33 [00:00<?, ?it/s]\u001b[A\n",
      "Epoch [42/300]:   0%|                                                                  | 0/33 [00:00<?, ?it/s, loss=0.9]\u001b[A"
     ]
    },
    {
     "name": "stdout",
     "output_type": "stream",
     "text": [
      "0\n",
      "1\n"
     ]
    },
    {
     "name": "stderr",
     "output_type": "stream",
     "text": [
      "Epoch [42/300]:   0%|                                                                 | 0/33 [00:00<?, ?it/s, loss=0.54]"
     ]
    },
    {
     "name": "stdout",
     "output_type": "stream",
     "text": [
      "2\n",
      "3\n",
      "4\n"
     ]
    },
    {
     "name": "stderr",
     "output_type": "stream",
     "text": [
      "Epoch [42/300]:  18%|██████████▏                                             | 6/33 [00:00<00:00, 55.66it/s, loss=0.952]"
     ]
    },
    {
     "name": "stdout",
     "output_type": "stream",
     "text": [
      "5\n",
      "6\n"
     ]
    },
    {
     "name": "stderr",
     "output_type": "stream",
     "text": [
      "Epoch [42/300]:  18%|██████████▏                                             | 6/33 [00:00<00:00, 55.66it/s, loss=0.669]"
     ]
    },
    {
     "name": "stdout",
     "output_type": "stream",
     "text": [
      "7\n",
      "8\n"
     ]
    },
    {
     "name": "stderr",
     "output_type": "stream",
     "text": [
      "Epoch [42/300]:  36%|████████████████████                                   | 12/33 [00:00<00:00, 57.66it/s, loss=0.891]"
     ]
    },
    {
     "name": "stdout",
     "output_type": "stream",
     "text": [
      "9\n",
      "10\n",
      "11\n",
      "12\n"
     ]
    },
    {
     "name": "stderr",
     "output_type": "stream",
     "text": [
      "Epoch [42/300]:  36%|████████████████████                                   | 12/33 [00:00<00:00, 57.66it/s, loss=0.826]"
     ]
    },
    {
     "name": "stdout",
     "output_type": "stream",
     "text": [
      "13\n",
      "14\n"
     ]
    },
    {
     "name": "stderr",
     "output_type": "stream",
     "text": [
      "Epoch [42/300]:  36%|████████████████████                                   | 12/33 [00:00<00:00, 57.66it/s, loss=0.833]"
     ]
    },
    {
     "name": "stdout",
     "output_type": "stream",
     "text": [
      "15\n",
      "16\n"
     ]
    },
    {
     "name": "stderr",
     "output_type": "stream",
     "text": [
      "Epoch [42/300]:  55%|█████████████████████████████▉                         | 18/33 [00:00<00:00, 57.00it/s, loss=0.775]"
     ]
    },
    {
     "name": "stdout",
     "output_type": "stream",
     "text": [
      "17\n",
      "18\n"
     ]
    },
    {
     "name": "stderr",
     "output_type": "stream",
     "text": [
      "Epoch [42/300]:  55%|██████████████████████████████▌                         | 18/33 [00:00<00:00, 57.00it/s, loss=1.15]"
     ]
    },
    {
     "name": "stdout",
     "output_type": "stream",
     "text": [
      "19\n",
      "20\n",
      "21\n"
     ]
    },
    {
     "name": "stderr",
     "output_type": "stream",
     "text": [
      "Epoch [42/300]:  76%|█████████████████████████████████████████▋             | 25/33 [00:00<00:00, 58.41it/s, loss=0.755]"
     ]
    },
    {
     "name": "stdout",
     "output_type": "stream",
     "text": [
      "22\n",
      "23\n",
      "24\n"
     ]
    },
    {
     "name": "stderr",
     "output_type": "stream",
     "text": [
      "Epoch [42/300]:  76%|█████████████████████████████████████████▋             | 25/33 [00:00<00:00, 58.41it/s, loss=0.951]"
     ]
    },
    {
     "name": "stdout",
     "output_type": "stream",
     "text": [
      "25\n",
      "26\n",
      "27\n"
     ]
    },
    {
     "name": "stderr",
     "output_type": "stream",
     "text": [
      "Epoch [42/300]:  76%|█████████████████████████████████████████▋             | 25/33 [00:00<00:00, 58.41it/s, loss=0.717]"
     ]
    },
    {
     "name": "stdout",
     "output_type": "stream",
     "text": [
      "28\n",
      "29\n"
     ]
    },
    {
     "name": "stderr",
     "output_type": "stream",
     "text": [
      "Epoch [42/300]: 100%|████████████████████████████████████████████████████████| 33/33 [00:00<00:00, 60.85it/s, loss=0.42]"
     ]
    },
    {
     "name": "stdout",
     "output_type": "stream",
     "text": [
      "30\n",
      "31\n",
      "32\n"
     ]
    },
    {
     "name": "stderr",
     "output_type": "stream",
     "text": [
      "\n",
      "\n",
      "Epoch [42/300]:   0%|                                                                  | 0/5 [00:00<?, ?it/s, loss=1.59]\u001b[A\n",
      "Epoch [42/300]:  20%|███████████▌                                              | 1/5 [00:00<00:02,  1.80it/s, loss=1.59]\u001b[A\n",
      "Epoch [42/300]:  20%|███████████▍                                             | 1/5 [00:00<00:02,  1.80it/s, loss=0.888]\u001b[A\n",
      "Epoch [42/300]:  20%|███████████▍                                             | 1/5 [00:00<00:02,  1.80it/s, loss=0.769]\u001b[A"
     ]
    },
    {
     "name": "stdout",
     "output_type": "stream",
     "text": [
      "0\n",
      "1\n",
      "2\n"
     ]
    },
    {
     "name": "stderr",
     "output_type": "stream",
     "text": [
      "\n",
      "Epoch [42/300]:  20%|███████████▌                                              | 1/5 [00:00<00:02,  1.80it/s, loss=1.16]\u001b[A\n",
      "Epoch [42/300]: 100%|█████████████████████████████████████████████████████████| 5/5 [00:00<00:00,  8.27it/s, loss=0.143]\u001b[A\n"
     ]
    },
    {
     "name": "stdout",
     "output_type": "stream",
     "text": [
      "3\n",
      "4\n",
      "model improved and saved\n",
      "\n",
      "Epoch 42: train loss: 0.848881387349331 \n",
      "Epoch 42: valid loss: 0.9106776565313339 \n"
     ]
    },
    {
     "name": "stderr",
     "output_type": "stream",
     "text": [
      "  0%|                                                                                            | 0/33 [00:00<?, ?it/s]\n",
      "Epoch [43/300]:   0%|                                                                            | 0/33 [00:00<?, ?it/s]\u001b[A\n",
      "Epoch [43/300]:   0%|                                                                | 0/33 [00:00<?, ?it/s, loss=0.716]\u001b[A"
     ]
    },
    {
     "name": "stdout",
     "output_type": "stream",
     "text": [
      "0\n"
     ]
    },
    {
     "name": "stderr",
     "output_type": "stream",
     "text": [
      "Epoch [43/300]:   0%|                                                                | 0/33 [00:00<?, ?it/s, loss=0.962]"
     ]
    },
    {
     "name": "stdout",
     "output_type": "stream",
     "text": [
      "1\n",
      "2\n"
     ]
    },
    {
     "name": "stderr",
     "output_type": "stream",
     "text": [
      "Epoch [43/300]:   0%|                                                                | 0/33 [00:00<?, ?it/s, loss=0.783]"
     ]
    },
    {
     "name": "stdout",
     "output_type": "stream",
     "text": [
      "3\n",
      "4\n"
     ]
    },
    {
     "name": "stderr",
     "output_type": "stream",
     "text": [
      "Epoch [43/300]:  18%|██████████▏                                             | 6/33 [00:00<00:00, 54.19it/s, loss=0.985]"
     ]
    },
    {
     "name": "stdout",
     "output_type": "stream",
     "text": [
      "5\n",
      "6\n"
     ]
    },
    {
     "name": "stderr",
     "output_type": "stream",
     "text": [
      "Epoch [43/300]:  18%|██████████▏                                             | 6/33 [00:00<00:00, 54.19it/s, loss=0.777]"
     ]
    },
    {
     "name": "stdout",
     "output_type": "stream",
     "text": [
      "7\n",
      "8\n",
      "9\n"
     ]
    },
    {
     "name": "stderr",
     "output_type": "stream",
     "text": [
      "Epoch [43/300]:  36%|████████████████████                                   | 12/33 [00:00<00:00, 55.82it/s, loss=0.765]"
     ]
    },
    {
     "name": "stdout",
     "output_type": "stream",
     "text": [
      "10\n",
      "11\n"
     ]
    },
    {
     "name": "stderr",
     "output_type": "stream",
     "text": [
      "\r",
      "Epoch [43/300]:  36%|████████████████████                                   | 12/33 [00:00<00:00, 55.82it/s, loss=0.991]"
     ]
    },
    {
     "name": "stdout",
     "output_type": "stream",
     "text": [
      "12\n"
     ]
    },
    {
     "name": "stderr",
     "output_type": "stream",
     "text": [
      "Epoch [43/300]:  36%|████████████████████                                   | 12/33 [00:00<00:00, 55.82it/s, loss=0.732]"
     ]
    },
    {
     "name": "stdout",
     "output_type": "stream",
     "text": [
      "13\n",
      "14\n"
     ]
    },
    {
     "name": "stderr",
     "output_type": "stream",
     "text": [
      "Epoch [43/300]:  36%|████████████████████                                   | 12/33 [00:00<00:00, 55.82it/s, loss=0.841]"
     ]
    },
    {
     "name": "stdout",
     "output_type": "stream",
     "text": [
      "15\n",
      "16\n"
     ]
    },
    {
     "name": "stderr",
     "output_type": "stream",
     "text": [
      "Epoch [43/300]:  58%|███████████████████████████████▋                       | 19/33 [00:00<00:00, 59.21it/s, loss=0.777]"
     ]
    },
    {
     "name": "stdout",
     "output_type": "stream",
     "text": [
      "17\n",
      "18\n",
      "19\n"
     ]
    },
    {
     "name": "stderr",
     "output_type": "stream",
     "text": [
      "Epoch [43/300]:  58%|███████████████████████████████▋                       | 19/33 [00:00<00:00, 59.21it/s, loss=0.673]"
     ]
    },
    {
     "name": "stdout",
     "output_type": "stream",
     "text": [
      "20\n",
      "21\n",
      "22\n"
     ]
    },
    {
     "name": "stderr",
     "output_type": "stream",
     "text": [
      "Epoch [43/300]:  58%|████████████████████████████████▏                       | 19/33 [00:00<00:00, 59.21it/s, loss=1.02]"
     ]
    },
    {
     "name": "stdout",
     "output_type": "stream",
     "text": [
      "23\n",
      "24\n",
      "25\n",
      "26\n"
     ]
    },
    {
     "name": "stderr",
     "output_type": "stream",
     "text": [
      "Epoch [43/300]:  82%|█████████████████████████████████████████████          | 27/33 [00:00<00:00, 64.49it/s, loss=0.848]"
     ]
    },
    {
     "name": "stdout",
     "output_type": "stream",
     "text": [
      "27\n"
     ]
    },
    {
     "name": "stderr",
     "output_type": "stream",
     "text": [
      "Epoch [43/300]:  82%|█████████████████████████████████████████████          | 27/33 [00:00<00:00, 64.49it/s, loss=0.606]"
     ]
    },
    {
     "name": "stdout",
     "output_type": "stream",
     "text": [
      "28\n",
      "29\n"
     ]
    },
    {
     "name": "stderr",
     "output_type": "stream",
     "text": [
      "Epoch [43/300]:  82%|█████████████████████████████████████████████          | 27/33 [00:00<00:00, 64.49it/s, loss=0.793]"
     ]
    },
    {
     "name": "stdout",
     "output_type": "stream",
     "text": [
      "30\n",
      "31\n",
      "32\n"
     ]
    },
    {
     "name": "stderr",
     "output_type": "stream",
     "text": [
      "Epoch [43/300]: 100%|███████████████████████████████████████████████████████| 33/33 [00:00<00:00, 63.93it/s, loss=0.903]\n",
      "\n",
      "Epoch [43/300]:   0%|                                                                  | 0/5 [00:00<?, ?it/s, loss=1.59]\u001b[A\n",
      "Epoch [43/300]:  20%|███████████▌                                              | 1/5 [00:00<00:02,  1.89it/s, loss=1.59]\u001b[A\n",
      "Epoch [43/300]:  20%|███████████▍                                             | 1/5 [00:00<00:02,  1.89it/s, loss=0.888]\u001b[A"
     ]
    },
    {
     "name": "stdout",
     "output_type": "stream",
     "text": [
      "0\n",
      "1\n"
     ]
    },
    {
     "name": "stderr",
     "output_type": "stream",
     "text": [
      "\n",
      "Epoch [43/300]:  20%|███████████▍                                             | 1/5 [00:00<00:02,  1.89it/s, loss=0.769]\u001b[A\n",
      "Epoch [43/300]:  20%|███████████▌                                              | 1/5 [00:00<00:02,  1.89it/s, loss=1.16]\u001b[A\n",
      "Epoch [43/300]: 100%|█████████████████████████████████████████████████████████| 5/5 [00:00<00:00,  8.64it/s, loss=0.142]\u001b[A\n"
     ]
    },
    {
     "name": "stdout",
     "output_type": "stream",
     "text": [
      "2\n",
      "3\n",
      "4\n",
      "model improved and saved\n",
      "\n",
      "Epoch 43: train loss: 0.858612678267739 \n",
      "Epoch 43: valid loss: 0.9105003774166107 \n"
     ]
    },
    {
     "name": "stderr",
     "output_type": "stream",
     "text": [
      "  0%|                                                                                            | 0/33 [00:00<?, ?it/s]\n",
      "Epoch [44/300]:   0%|                                                                            | 0/33 [00:00<?, ?it/s]\u001b[A\n",
      "Epoch [44/300]:   0%|                                                                | 0/33 [00:00<?, ?it/s, loss=0.798]\u001b[A"
     ]
    },
    {
     "name": "stdout",
     "output_type": "stream",
     "text": [
      "0\n",
      "1\n",
      "2\n",
      "3\n"
     ]
    },
    {
     "name": "stderr",
     "output_type": "stream",
     "text": [
      "\r",
      "Epoch [44/300]:   0%|                                                                | 0/33 [00:00<?, ?it/s, loss=0.806]"
     ]
    },
    {
     "name": "stdout",
     "output_type": "stream",
     "text": [
      "4\n"
     ]
    },
    {
     "name": "stderr",
     "output_type": "stream",
     "text": [
      "\r",
      "Epoch [44/300]:   0%|                                                                 | 0/33 [00:00<?, ?it/s, loss=1.06]"
     ]
    },
    {
     "name": "stdout",
     "output_type": "stream",
     "text": [
      "5\n"
     ]
    },
    {
     "name": "stderr",
     "output_type": "stream",
     "text": [
      "Epoch [44/300]:  21%|███████████▉                                            | 7/33 [00:00<00:00, 63.44it/s, loss=0.898]"
     ]
    },
    {
     "name": "stdout",
     "output_type": "stream",
     "text": [
      "6\n",
      "7\n",
      "8\n"
     ]
    },
    {
     "name": "stderr",
     "output_type": "stream",
     "text": [
      "Epoch [44/300]:  21%|████████████                                             | 7/33 [00:00<00:00, 63.44it/s, loss=1.16]"
     ]
    },
    {
     "name": "stdout",
     "output_type": "stream",
     "text": [
      "9\n",
      "10\n"
     ]
    },
    {
     "name": "stderr",
     "output_type": "stream",
     "text": [
      "Epoch [44/300]:  21%|███████████▉                                            | 7/33 [00:00<00:00, 63.44it/s, loss=0.674]"
     ]
    },
    {
     "name": "stdout",
     "output_type": "stream",
     "text": [
      "11\n",
      "12\n",
      "13\n"
     ]
    },
    {
     "name": "stderr",
     "output_type": "stream",
     "text": [
      "Epoch [44/300]:  45%|█████████████████████████                              | 15/33 [00:00<00:00, 66.49it/s, loss=0.661]"
     ]
    },
    {
     "name": "stdout",
     "output_type": "stream",
     "text": [
      "14\n",
      "15\n",
      "16\n",
      "17\n",
      "18\n"
     ]
    },
    {
     "name": "stderr",
     "output_type": "stream",
     "text": [
      "\r",
      "Epoch [44/300]:  45%|█████████████████████████                              | 15/33 [00:00<00:00, 66.49it/s, loss=0.788]"
     ]
    },
    {
     "name": "stdout",
     "output_type": "stream",
     "text": [
      "19\n"
     ]
    },
    {
     "name": "stderr",
     "output_type": "stream",
     "text": [
      "Epoch [44/300]:  70%|██████████████████████████████████████▎                | 23/33 [00:00<00:00, 68.02it/s, loss=0.717]"
     ]
    },
    {
     "name": "stdout",
     "output_type": "stream",
     "text": [
      "20\n",
      "21\n",
      "22\n",
      "23\n"
     ]
    },
    {
     "name": "stderr",
     "output_type": "stream",
     "text": [
      "\r",
      "Epoch [44/300]:  70%|███████████████████████████████████████                 | 23/33 [00:00<00:00, 68.02it/s, loss=1.08]"
     ]
    },
    {
     "name": "stdout",
     "output_type": "stream",
     "text": [
      "24\n"
     ]
    },
    {
     "name": "stderr",
     "output_type": "stream",
     "text": [
      "Epoch [44/300]:  70%|███████████████████████████████████████                 | 23/33 [00:00<00:00, 68.02it/s, loss=0.79]"
     ]
    },
    {
     "name": "stdout",
     "output_type": "stream",
     "text": [
      "25\n",
      "26\n",
      "27\n"
     ]
    },
    {
     "name": "stderr",
     "output_type": "stream",
     "text": [
      "Epoch [44/300]:  91%|██████████████████████████████████████████████████     | 30/33 [00:00<00:00, 63.22it/s, loss=0.781]"
     ]
    },
    {
     "name": "stdout",
     "output_type": "stream",
     "text": [
      "28\n",
      "29\n",
      "30\n"
     ]
    },
    {
     "name": "stderr",
     "output_type": "stream",
     "text": [
      "Epoch [44/300]: 100%|████████████████████████████████████████████████████████| 33/33 [00:00<00:00, 65.19it/s, loss=1.08]"
     ]
    },
    {
     "name": "stdout",
     "output_type": "stream",
     "text": [
      "31\n",
      "32\n"
     ]
    },
    {
     "name": "stderr",
     "output_type": "stream",
     "text": [
      "\n",
      "\n",
      "Epoch [44/300]:   0%|                                                                  | 0/5 [00:00<?, ?it/s, loss=1.59]\u001b[A\n",
      "Epoch [44/300]:  20%|███████████▌                                              | 1/5 [00:00<00:02,  1.93it/s, loss=1.59]\u001b[A\n",
      "Epoch [44/300]:  20%|███████████▍                                             | 1/5 [00:00<00:02,  1.93it/s, loss=0.887]\u001b[A\n",
      "Epoch [44/300]:  20%|███████████▍                                             | 1/5 [00:00<00:02,  1.93it/s, loss=0.769]\u001b[A"
     ]
    },
    {
     "name": "stdout",
     "output_type": "stream",
     "text": [
      "0\n",
      "1\n",
      "2\n"
     ]
    },
    {
     "name": "stderr",
     "output_type": "stream",
     "text": [
      "\n",
      "Epoch [44/300]:  20%|███████████▌                                              | 1/5 [00:00<00:02,  1.93it/s, loss=1.16]\u001b[A\n",
      "Epoch [44/300]: 100%|█████████████████████████████████████████████████████████| 5/5 [00:00<00:00,  8.65it/s, loss=0.142]\u001b[A"
     ]
    },
    {
     "name": "stdout",
     "output_type": "stream",
     "text": [
      "3\n",
      "4\n"
     ]
    },
    {
     "name": "stderr",
     "output_type": "stream",
     "text": [
      "\n"
     ]
    },
    {
     "name": "stdout",
     "output_type": "stream",
     "text": [
      "model improved and saved\n",
      "\n",
      "Epoch 44: train loss: 0.8652484597581805 \n",
      "Epoch 44: valid loss: 0.9102526545524597 \n"
     ]
    },
    {
     "name": "stderr",
     "output_type": "stream",
     "text": [
      "  0%|                                                                                            | 0/33 [00:00<?, ?it/s]\n",
      "Epoch [45/300]:   0%|                                                                            | 0/33 [00:00<?, ?it/s]\u001b[A\n",
      "Epoch [45/300]:   0%|                                                                | 0/33 [00:00<?, ?it/s, loss=0.597]\u001b[A"
     ]
    },
    {
     "name": "stdout",
     "output_type": "stream",
     "text": [
      "0\n",
      "1\n",
      "2\n"
     ]
    },
    {
     "name": "stderr",
     "output_type": "stream",
     "text": [
      "Epoch [45/300]:   0%|                                                                | 0/33 [00:00<?, ?it/s, loss=0.857]"
     ]
    },
    {
     "name": "stdout",
     "output_type": "stream",
     "text": [
      "3\n",
      "4\n",
      "5\n"
     ]
    },
    {
     "name": "stderr",
     "output_type": "stream",
     "text": [
      "Epoch [45/300]:  21%|████████████▎                                             | 7/33 [00:00<00:00, 64.37it/s, loss=1.2]"
     ]
    },
    {
     "name": "stdout",
     "output_type": "stream",
     "text": [
      "6\n",
      "7\n"
     ]
    },
    {
     "name": "stderr",
     "output_type": "stream",
     "text": [
      "Epoch [45/300]:  21%|███████████▉                                            | 7/33 [00:00<00:00, 64.37it/s, loss=0.598]"
     ]
    },
    {
     "name": "stdout",
     "output_type": "stream",
     "text": [
      "8\n",
      "9\n",
      "10\n",
      "11\n"
     ]
    },
    {
     "name": "stderr",
     "output_type": "stream",
     "text": [
      "\r",
      "Epoch [45/300]:  21%|████████████                                             | 7/33 [00:00<00:00, 64.37it/s, loss=1.12]"
     ]
    },
    {
     "name": "stdout",
     "output_type": "stream",
     "text": [
      "12\n"
     ]
    },
    {
     "name": "stderr",
     "output_type": "stream",
     "text": [
      "\r",
      "Epoch [45/300]:  21%|███████████▉                                            | 7/33 [00:00<00:00, 64.37it/s, loss=0.585]"
     ]
    },
    {
     "name": "stdout",
     "output_type": "stream",
     "text": [
      "13\n"
     ]
    },
    {
     "name": "stderr",
     "output_type": "stream",
     "text": [
      "Epoch [45/300]:  45%|█████████████████████████                              | 15/33 [00:00<00:00, 66.79it/s, loss=0.741]"
     ]
    },
    {
     "name": "stdout",
     "output_type": "stream",
     "text": [
      "14\n",
      "15\n",
      "16\n"
     ]
    },
    {
     "name": "stderr",
     "output_type": "stream",
     "text": [
      "Epoch [45/300]:  45%|█████████████████████████                              | 15/33 [00:00<00:00, 66.79it/s, loss=0.728]"
     ]
    },
    {
     "name": "stdout",
     "output_type": "stream",
     "text": [
      "17\n",
      "18\n",
      "19\n",
      "20\n"
     ]
    },
    {
     "name": "stderr",
     "output_type": "stream",
     "text": [
      "Epoch [45/300]:  70%|██████████████████████████████████████▎                | 23/33 [00:00<00:00, 69.65it/s, loss=0.712]"
     ]
    },
    {
     "name": "stdout",
     "output_type": "stream",
     "text": [
      "21\n",
      "22\n"
     ]
    },
    {
     "name": "stderr",
     "output_type": "stream",
     "text": [
      "Epoch [45/300]:  70%|██████████████████████████████████████▎                | 23/33 [00:00<00:00, 69.65it/s, loss=0.655]"
     ]
    },
    {
     "name": "stdout",
     "output_type": "stream",
     "text": [
      "23\n",
      "24\n",
      "25\n",
      "26\n"
     ]
    },
    {
     "name": "stderr",
     "output_type": "stream",
     "text": [
      "Epoch [45/300]:  70%|█████████████████████████████████████████                  | 23/33 [00:00<00:00, 69.65it/s, loss=1]"
     ]
    },
    {
     "name": "stdout",
     "output_type": "stream",
     "text": [
      "27\n"
     ]
    },
    {
     "name": "stderr",
     "output_type": "stream",
     "text": [
      "Epoch [45/300]:  91%|██████████████████████████████████████████████████     | 30/33 [00:00<00:00, 66.29it/s, loss=0.626]"
     ]
    },
    {
     "name": "stdout",
     "output_type": "stream",
     "text": [
      "28\n",
      "29\n",
      "30\n"
     ]
    },
    {
     "name": "stderr",
     "output_type": "stream",
     "text": [
      "Epoch [45/300]: 100%|████████████████████████████████████████████████████████| 33/33 [00:00<00:00, 65.80it/s, loss=1.75]\n",
      "\n",
      "Epoch [45/300]:   0%|                                                                  | 0/5 [00:00<?, ?it/s, loss=1.59]\u001b[A\n"
     ]
    },
    {
     "name": "stdout",
     "output_type": "stream",
     "text": [
      "31\n",
      "32\n",
      "0\n"
     ]
    },
    {
     "name": "stderr",
     "output_type": "stream",
     "text": [
      "Epoch [45/300]:  20%|███████████▌                                              | 1/5 [00:00<00:02,  1.94it/s, loss=1.59]\u001b[A\n",
      "Epoch [45/300]:  20%|███████████▍                                             | 1/5 [00:00<00:02,  1.94it/s, loss=0.887]\u001b[A"
     ]
    },
    {
     "name": "stdout",
     "output_type": "stream",
     "text": [
      "1\n"
     ]
    },
    {
     "name": "stderr",
     "output_type": "stream",
     "text": [
      "\n",
      "Epoch [45/300]:  20%|███████████▍                                             | 1/5 [00:00<00:02,  1.94it/s, loss=0.769]\u001b[A\n",
      "Epoch [45/300]:  20%|███████████▌                                              | 1/5 [00:00<00:02,  1.94it/s, loss=1.16]\u001b[A\n",
      "Epoch [45/300]: 100%|█████████████████████████████████████████████████████████| 5/5 [00:00<00:00,  8.69it/s, loss=0.141]\u001b[A\n"
     ]
    },
    {
     "name": "stdout",
     "output_type": "stream",
     "text": [
      "2\n",
      "3\n",
      "4\n",
      "model improved and saved\n",
      "\n",
      "Epoch 45: train loss: 0.878705741781177 \n",
      "Epoch 45: valid loss: 0.910087725520134 \n"
     ]
    },
    {
     "name": "stderr",
     "output_type": "stream",
     "text": [
      "  0%|                                                                                            | 0/33 [00:00<?, ?it/s]\n",
      "Epoch [46/300]:   0%|                                                                            | 0/33 [00:00<?, ?it/s]\u001b[A\n",
      "Epoch [46/300]:   0%|                                                                | 0/33 [00:00<?, ?it/s, loss=0.773]\u001b[A"
     ]
    },
    {
     "name": "stdout",
     "output_type": "stream",
     "text": [
      "0\n"
     ]
    },
    {
     "name": "stderr",
     "output_type": "stream",
     "text": [
      "\r",
      "Epoch [46/300]:   0%|                                                                | 0/33 [00:00<?, ?it/s, loss=0.753]"
     ]
    },
    {
     "name": "stdout",
     "output_type": "stream",
     "text": [
      "1\n"
     ]
    },
    {
     "name": "stderr",
     "output_type": "stream",
     "text": [
      "Epoch [46/300]:   0%|                                                                | 0/33 [00:00<?, ?it/s, loss=0.684]"
     ]
    },
    {
     "name": "stdout",
     "output_type": "stream",
     "text": [
      "2\n",
      "3\n",
      "4\n"
     ]
    },
    {
     "name": "stderr",
     "output_type": "stream",
     "text": [
      "Epoch [46/300]:  18%|██████████▏                                             | 6/33 [00:00<00:00, 59.42it/s, loss=0.777]"
     ]
    },
    {
     "name": "stdout",
     "output_type": "stream",
     "text": [
      "5\n",
      "6\n",
      "7\n",
      "8\n"
     ]
    },
    {
     "name": "stderr",
     "output_type": "stream",
     "text": [
      "\r",
      "Epoch [46/300]:  18%|██████████▏                                             | 6/33 [00:00<00:00, 59.42it/s, loss=0.658]"
     ]
    },
    {
     "name": "stdout",
     "output_type": "stream",
     "text": [
      "9\n"
     ]
    },
    {
     "name": "stderr",
     "output_type": "stream",
     "text": [
      "Epoch [46/300]:  39%|██████████████████████                                  | 13/33 [00:00<00:00, 64.61it/s, loss=1.01]"
     ]
    },
    {
     "name": "stdout",
     "output_type": "stream",
     "text": [
      "10\n",
      "11\n",
      "12\n",
      "13\n"
     ]
    },
    {
     "name": "stderr",
     "output_type": "stream",
     "text": [
      "\r",
      "Epoch [46/300]:  39%|█████████████████████▋                                 | 13/33 [00:00<00:00, 64.61it/s, loss=0.704]"
     ]
    },
    {
     "name": "stdout",
     "output_type": "stream",
     "text": [
      "14\n"
     ]
    },
    {
     "name": "stderr",
     "output_type": "stream",
     "text": [
      "\r",
      "Epoch [46/300]:  39%|██████████████████████                                  | 13/33 [00:00<00:00, 64.61it/s, loss=1.03]"
     ]
    },
    {
     "name": "stdout",
     "output_type": "stream",
     "text": [
      "15\n"
     ]
    },
    {
     "name": "stderr",
     "output_type": "stream",
     "text": [
      "Epoch [46/300]:  39%|█████████████████████▋                                 | 13/33 [00:00<00:00, 64.61it/s, loss=0.952]"
     ]
    },
    {
     "name": "stdout",
     "output_type": "stream",
     "text": [
      "16\n",
      "17\n",
      "18\n"
     ]
    },
    {
     "name": "stderr",
     "output_type": "stream",
     "text": [
      "Epoch [46/300]:  61%|█████████████████████████████████▉                      | 20/33 [00:00<00:00, 64.46it/s, loss=1.13]"
     ]
    },
    {
     "name": "stdout",
     "output_type": "stream",
     "text": [
      "19\n",
      "20\n",
      "21\n"
     ]
    },
    {
     "name": "stderr",
     "output_type": "stream",
     "text": [
      "\r",
      "Epoch [46/300]:  61%|█████████████████████████████████▉                      | 20/33 [00:00<00:00, 64.46it/s, loss=0.89]"
     ]
    },
    {
     "name": "stdout",
     "output_type": "stream",
     "text": [
      "22\n"
     ]
    },
    {
     "name": "stderr",
     "output_type": "stream",
     "text": [
      "Epoch [46/300]:  61%|█████████████████████████████████▎                     | 20/33 [00:00<00:00, 64.46it/s, loss=0.823]"
     ]
    },
    {
     "name": "stdout",
     "output_type": "stream",
     "text": [
      "23\n",
      "24\n",
      "25\n",
      "26\n"
     ]
    },
    {
     "name": "stderr",
     "output_type": "stream",
     "text": [
      "Epoch [46/300]:  82%|█████████████████████████████████████████████          | 27/33 [00:00<00:00, 61.41it/s, loss=0.638]"
     ]
    },
    {
     "name": "stdout",
     "output_type": "stream",
     "text": [
      "27\n"
     ]
    },
    {
     "name": "stderr",
     "output_type": "stream",
     "text": [
      "\r",
      "Epoch [46/300]:  82%|█████████████████████████████████████████████▊          | 27/33 [00:00<00:00, 61.41it/s, loss=1.09]"
     ]
    },
    {
     "name": "stdout",
     "output_type": "stream",
     "text": [
      "28\n"
     ]
    },
    {
     "name": "stderr",
     "output_type": "stream",
     "text": [
      "Epoch [46/300]:  82%|█████████████████████████████████████████████▊          | 27/33 [00:00<00:00, 61.41it/s, loss=0.85]"
     ]
    },
    {
     "name": "stdout",
     "output_type": "stream",
     "text": [
      "29\n",
      "30\n",
      "31\n"
     ]
    },
    {
     "name": "stderr",
     "output_type": "stream",
     "text": [
      "Epoch [46/300]: 100%|███████████████████████████████████████████████████████| 33/33 [00:00<00:00, 63.42it/s, loss=0.384]\n",
      "\n",
      "Epoch [46/300]:   0%|                                                                  | 0/5 [00:00<?, ?it/s, loss=1.59]\u001b[A\n",
      "Epoch [46/300]:  20%|███████████▌                                              | 1/5 [00:00<00:02,  1.89it/s, loss=1.59]\u001b[A\n",
      "Epoch [46/300]:  20%|███████████▍                                             | 1/5 [00:00<00:02,  1.89it/s, loss=0.887]\u001b[A\n",
      "Epoch [46/300]:  20%|███████████▍                                             | 1/5 [00:00<00:02,  1.89it/s, loss=0.768]\u001b[A"
     ]
    },
    {
     "name": "stdout",
     "output_type": "stream",
     "text": [
      "32\n",
      "0\n",
      "1\n",
      "2\n"
     ]
    },
    {
     "name": "stderr",
     "output_type": "stream",
     "text": [
      "\n",
      "Epoch [46/300]:  20%|███████████▌                                              | 1/5 [00:00<00:02,  1.89it/s, loss=1.16]\u001b[A\n",
      "Epoch [46/300]: 100%|█████████████████████████████████████████████████████████| 5/5 [00:00<00:00,  8.62it/s, loss=0.141]\u001b[A\n"
     ]
    },
    {
     "name": "stdout",
     "output_type": "stream",
     "text": [
      "3\n",
      "4\n",
      "model improved and saved\n",
      "\n",
      "Epoch 46: train loss: 0.8432528801036604 \n",
      "Epoch 46: valid loss: 0.9097907543182373 \n"
     ]
    },
    {
     "name": "stderr",
     "output_type": "stream",
     "text": [
      "  0%|                                                                                            | 0/33 [00:00<?, ?it/s]\n",
      "Epoch [47/300]:   0%|                                                                            | 0/33 [00:00<?, ?it/s]\u001b[A\n",
      "Epoch [47/300]:   0%|                                                                 | 0/33 [00:00<?, ?it/s, loss=1.26]\u001b[A"
     ]
    },
    {
     "name": "stdout",
     "output_type": "stream",
     "text": [
      "0\n",
      "1\n"
     ]
    },
    {
     "name": "stderr",
     "output_type": "stream",
     "text": [
      "\r",
      "Epoch [47/300]:   0%|                                                                | 0/33 [00:00<?, ?it/s, loss=0.863]"
     ]
    },
    {
     "name": "stdout",
     "output_type": "stream",
     "text": [
      "2\n"
     ]
    },
    {
     "name": "stderr",
     "output_type": "stream",
     "text": [
      "Epoch [47/300]:  15%|████████▍                                               | 5/33 [00:00<00:00, 46.85it/s, loss=0.828]"
     ]
    },
    {
     "name": "stdout",
     "output_type": "stream",
     "text": [
      "3\n",
      "4\n",
      "5\n"
     ]
    },
    {
     "name": "stderr",
     "output_type": "stream",
     "text": [
      "Epoch [47/300]:  15%|████████▍                                               | 5/33 [00:00<00:00, 46.85it/s, loss=0.921]"
     ]
    },
    {
     "name": "stdout",
     "output_type": "stream",
     "text": [
      "6\n",
      "7\n",
      "8\n"
     ]
    },
    {
     "name": "stderr",
     "output_type": "stream",
     "text": [
      "Epoch [47/300]:  33%|██████████████████▋                                     | 11/33 [00:00<00:00, 49.57it/s, loss=1.01]"
     ]
    },
    {
     "name": "stdout",
     "output_type": "stream",
     "text": [
      "9\n",
      "10\n"
     ]
    },
    {
     "name": "stderr",
     "output_type": "stream",
     "text": [
      "Epoch [47/300]:  33%|██████████████████▎                                    | 11/33 [00:00<00:00, 49.57it/s, loss=0.809]"
     ]
    },
    {
     "name": "stdout",
     "output_type": "stream",
     "text": [
      "11\n",
      "12\n"
     ]
    },
    {
     "name": "stderr",
     "output_type": "stream",
     "text": [
      "\r",
      "Epoch [47/300]:  33%|██████████████████▎                                    | 11/33 [00:00<00:00, 49.57it/s, loss=0.873]"
     ]
    },
    {
     "name": "stdout",
     "output_type": "stream",
     "text": [
      "13\n"
     ]
    },
    {
     "name": "stderr",
     "output_type": "stream",
     "text": [
      "Epoch [47/300]:  48%|██████████████████████████▋                            | 16/33 [00:00<00:00, 49.05it/s, loss=0.902]"
     ]
    },
    {
     "name": "stdout",
     "output_type": "stream",
     "text": [
      "14\n",
      "15\n",
      "16\n"
     ]
    },
    {
     "name": "stderr",
     "output_type": "stream",
     "text": [
      "Epoch [47/300]:  48%|███████████████████████████▏                            | 16/33 [00:00<00:00, 49.05it/s, loss=1.11]"
     ]
    },
    {
     "name": "stdout",
     "output_type": "stream",
     "text": [
      "17\n",
      "18\n",
      "19\n"
     ]
    },
    {
     "name": "stderr",
     "output_type": "stream",
     "text": [
      "Epoch [47/300]:  67%|████████████████████████████████████▋                  | 22/33 [00:00<00:00, 52.52it/s, loss=0.745]"
     ]
    },
    {
     "name": "stdout",
     "output_type": "stream",
     "text": [
      "20\n",
      "21\n",
      "22\n"
     ]
    },
    {
     "name": "stderr",
     "output_type": "stream",
     "text": [
      "Epoch [47/300]:  67%|████████████████████████████████████▋                  | 22/33 [00:00<00:00, 52.52it/s, loss=0.662]"
     ]
    },
    {
     "name": "stdout",
     "output_type": "stream",
     "text": [
      "23\n",
      "24\n"
     ]
    },
    {
     "name": "stderr",
     "output_type": "stream",
     "text": [
      "\r",
      "Epoch [47/300]:  67%|████████████████████████████████████▋                  | 22/33 [00:00<00:00, 52.52it/s, loss=0.726]"
     ]
    },
    {
     "name": "stdout",
     "output_type": "stream",
     "text": [
      "25\n"
     ]
    },
    {
     "name": "stderr",
     "output_type": "stream",
     "text": [
      "Epoch [47/300]:  85%|██████████████████████████████████████████████▋        | 28/33 [00:00<00:00, 54.59it/s, loss=0.723]"
     ]
    },
    {
     "name": "stdout",
     "output_type": "stream",
     "text": [
      "26\n",
      "27\n",
      "28\n"
     ]
    },
    {
     "name": "stderr",
     "output_type": "stream",
     "text": [
      "Epoch [47/300]: 100%|███████████████████████████████████████████████████████| 33/33 [00:00<00:00, 54.21it/s, loss=0.314]"
     ]
    },
    {
     "name": "stdout",
     "output_type": "stream",
     "text": [
      "29\n",
      "30\n",
      "31\n",
      "32\n"
     ]
    },
    {
     "name": "stderr",
     "output_type": "stream",
     "text": [
      "\n",
      "\n",
      "Epoch [47/300]:   0%|                                                                  | 0/5 [00:00<?, ?it/s, loss=1.59]\u001b[A\n",
      "Epoch [47/300]:  20%|███████████▌                                              | 1/5 [00:00<00:02,  1.61it/s, loss=1.59]\u001b[A\n",
      "Epoch [47/300]:  20%|███████████▍                                             | 1/5 [00:00<00:02,  1.61it/s, loss=0.887]\u001b[A\n",
      "Epoch [47/300]:  20%|███████████▍                                             | 1/5 [00:00<00:02,  1.61it/s, loss=0.768]\u001b[A"
     ]
    },
    {
     "name": "stdout",
     "output_type": "stream",
     "text": [
      "0\n",
      "1\n",
      "2\n"
     ]
    },
    {
     "name": "stderr",
     "output_type": "stream",
     "text": [
      "\n",
      "Epoch [47/300]:  20%|███████████▌                                              | 1/5 [00:00<00:02,  1.61it/s, loss=1.16]\u001b[A\n",
      "Epoch [47/300]:  80%|██████████████████████████████████████████████▍           | 4/5 [00:00<00:00,  6.58it/s, loss=1.16]\u001b[A\n",
      "Epoch [47/300]: 100%|█████████████████████████████████████████████████████████| 5/5 [00:00<00:00,  6.61it/s, loss=0.141]\u001b[A\n"
     ]
    },
    {
     "name": "stdout",
     "output_type": "stream",
     "text": [
      "3\n",
      "4\n",
      "model improved and saved\n",
      "\n",
      "Epoch 47: train loss: 0.8399459999619108 \n",
      "Epoch 47: valid loss: 0.9096356332302094 \n"
     ]
    },
    {
     "name": "stderr",
     "output_type": "stream",
     "text": [
      "  0%|                                                                                            | 0/33 [00:00<?, ?it/s]\n",
      "Epoch [48/300]:   0%|                                                                            | 0/33 [00:00<?, ?it/s]\u001b[A\n",
      "Epoch [48/300]:   0%|                                                                | 0/33 [00:00<?, ?it/s, loss=0.635]\u001b[A"
     ]
    },
    {
     "name": "stdout",
     "output_type": "stream",
     "text": [
      "0\n",
      "1\n"
     ]
    },
    {
     "name": "stderr",
     "output_type": "stream",
     "text": [
      "Epoch [48/300]:  18%|██████████▏                                             | 6/33 [00:00<00:00, 55.78it/s, loss=0.841]"
     ]
    },
    {
     "name": "stdout",
     "output_type": "stream",
     "text": [
      "2\n",
      "3\n",
      "4\n",
      "5\n",
      "6\n",
      "7\n",
      "8\n",
      "9\n",
      "10\n"
     ]
    },
    {
     "name": "stderr",
     "output_type": "stream",
     "text": [
      "Epoch [48/300]:  39%|█████████████████████▋                                 | 13/33 [00:00<00:00, 63.76it/s, loss=0.768]"
     ]
    },
    {
     "name": "stdout",
     "output_type": "stream",
     "text": [
      "11\n",
      "12\n",
      "13\n"
     ]
    },
    {
     "name": "stderr",
     "output_type": "stream",
     "text": [
      "Epoch [48/300]:  39%|█████████████████████▋                                 | 13/33 [00:00<00:00, 63.76it/s, loss=0.767]"
     ]
    },
    {
     "name": "stdout",
     "output_type": "stream",
     "text": [
      "14\n",
      "15\n"
     ]
    },
    {
     "name": "stderr",
     "output_type": "stream",
     "text": [
      "Epoch [48/300]:  61%|█████████████████████████████████▎                     | 20/33 [00:00<00:00, 63.34it/s, loss=0.952]"
     ]
    },
    {
     "name": "stdout",
     "output_type": "stream",
     "text": [
      "16\n",
      "17\n",
      "18\n",
      "19\n",
      "20\n",
      "21\n",
      "22\n",
      "23\n"
     ]
    },
    {
     "name": "stderr",
     "output_type": "stream",
     "text": [
      "Epoch [48/300]:  82%|██████████████████████████████████████████████▋          | 27/33 [00:00<00:00, 62.55it/s, loss=1.2]"
     ]
    },
    {
     "name": "stdout",
     "output_type": "stream",
     "text": [
      "24\n",
      "25\n",
      "26\n"
     ]
    },
    {
     "name": "stderr",
     "output_type": "stream",
     "text": [
      "Epoch [48/300]:  82%|█████████████████████████████████████████████          | 27/33 [00:00<00:00, 62.55it/s, loss=0.915]"
     ]
    },
    {
     "name": "stdout",
     "output_type": "stream",
     "text": [
      "27\n",
      "28\n"
     ]
    },
    {
     "name": "stderr",
     "output_type": "stream",
     "text": [
      "Epoch [48/300]: 100%|███████████████████████████████████████████████████████| 33/33 [00:00<00:00, 63.81it/s, loss=0.456]\n",
      "\n",
      "Epoch [48/300]:   0%|                                                                  | 0/5 [00:00<?, ?it/s, loss=1.59]\u001b[A\n",
      "Epoch [48/300]:  20%|███████████▌                                              | 1/5 [00:00<00:02,  1.89it/s, loss=1.59]\u001b[A\n",
      "Epoch [48/300]:  20%|███████████▍                                             | 1/5 [00:00<00:02,  1.89it/s, loss=0.887]\u001b[A\n",
      "Epoch [48/300]:  20%|███████████▍                                             | 1/5 [00:00<00:02,  1.89it/s, loss=0.768]\u001b[A\n",
      "Epoch [48/300]:  20%|███████████▌                                              | 1/5 [00:00<00:02,  1.89it/s, loss=1.16]\u001b[A\n",
      "Epoch [48/300]: 100%|██████████████████████████████████████████████████████████| 5/5 [00:00<00:00,  8.60it/s, loss=0.14]\u001b[A\n"
     ]
    },
    {
     "name": "stdout",
     "output_type": "stream",
     "text": [
      "29\n",
      "30\n",
      "31\n",
      "32\n",
      "0\n",
      "1\n",
      "2\n",
      "3\n",
      "4\n",
      "model improved and saved\n",
      "\n",
      "Epoch 48: train loss: 0.8409735244331937 \n",
      "Epoch 48: valid loss: 0.9095462173223495 \n"
     ]
    },
    {
     "name": "stderr",
     "output_type": "stream",
     "text": [
      "  0%|                                                                                            | 0/33 [00:00<?, ?it/s]\n",
      "Epoch [49/300]:   0%|                                                                            | 0/33 [00:00<?, ?it/s]\u001b[A\n",
      "Epoch [49/300]:   0%|                                                                 | 0/33 [00:00<?, ?it/s, loss=1.33]\u001b[A"
     ]
    },
    {
     "name": "stdout",
     "output_type": "stream",
     "text": [
      "0\n",
      "1\n",
      "2\n"
     ]
    },
    {
     "name": "stderr",
     "output_type": "stream",
     "text": [
      "Epoch [49/300]:   0%|                                                                 | 0/33 [00:00<?, ?it/s, loss=1.03]"
     ]
    },
    {
     "name": "stdout",
     "output_type": "stream",
     "text": [
      "3\n"
     ]
    },
    {
     "name": "stderr",
     "output_type": "stream",
     "text": [
      "Epoch [49/300]:  42%|███████████████████████▎                               | 14/33 [00:00<00:00, 66.54it/s, loss=0.855]"
     ]
    },
    {
     "name": "stdout",
     "output_type": "stream",
     "text": [
      "4\n",
      "5\n",
      "6\n",
      "7\n",
      "8\n",
      "9\n",
      "10\n",
      "11\n",
      "12\n",
      "13\n"
     ]
    },
    {
     "name": "stderr",
     "output_type": "stream",
     "text": [
      "Epoch [49/300]:  42%|███████████████████████▊                                | 14/33 [00:00<00:00, 66.54it/s, loss=1.04]"
     ]
    },
    {
     "name": "stdout",
     "output_type": "stream",
     "text": [
      "14\n",
      "15\n",
      "16\n",
      "17\n"
     ]
    },
    {
     "name": "stderr",
     "output_type": "stream",
     "text": [
      "\r",
      "Epoch [49/300]:  42%|███████████████████████▎                               | 14/33 [00:00<00:00, 66.54it/s, loss=0.667]"
     ]
    },
    {
     "name": "stdout",
     "output_type": "stream",
     "text": [
      "18\n"
     ]
    },
    {
     "name": "stderr",
     "output_type": "stream",
     "text": [
      "Epoch [49/300]:  88%|████████████████████████████████████████████████▎      | 29/33 [00:00<00:00, 69.25it/s, loss=0.894]"
     ]
    },
    {
     "name": "stdout",
     "output_type": "stream",
     "text": [
      "19\n",
      "20\n",
      "21\n",
      "22\n",
      "23\n",
      "24\n",
      "25\n",
      "26\n",
      "27\n",
      "28\n"
     ]
    },
    {
     "name": "stderr",
     "output_type": "stream",
     "text": [
      "Epoch [49/300]: 100%|███████████████████████████████████████████████████████| 33/33 [00:00<00:00, 69.77it/s, loss=0.356]\n",
      "\n",
      "Epoch [49/300]:   0%|                                                                  | 0/5 [00:00<?, ?it/s, loss=1.59]\u001b[A\n",
      "Epoch [49/300]:  20%|███████████▌                                              | 1/5 [00:00<00:01,  2.08it/s, loss=1.59]"
     ]
    },
    {
     "name": "stdout",
     "output_type": "stream",
     "text": [
      "29\n",
      "30\n",
      "31\n",
      "32\n",
      "0\n"
     ]
    },
    {
     "name": "stderr",
     "output_type": "stream",
     "text": [
      "\u001b[A\n",
      "Epoch [49/300]:  20%|███████████▍                                             | 1/5 [00:00<00:01,  2.08it/s, loss=0.887]"
     ]
    },
    {
     "name": "stdout",
     "output_type": "stream",
     "text": [
      "1\n"
     ]
    },
    {
     "name": "stderr",
     "output_type": "stream",
     "text": [
      "\u001b[A\n",
      "Epoch [49/300]:  20%|███████████▍                                             | 1/5 [00:00<00:01,  2.08it/s, loss=0.768]\u001b[A\n",
      "Epoch [49/300]:  20%|███████████▌                                              | 1/5 [00:00<00:01,  2.08it/s, loss=1.16]\u001b[A\n",
      "Epoch [49/300]: 100%|██████████████████████████████████████████████████████████| 5/5 [00:00<00:00,  9.42it/s, loss=0.14]\u001b[A\n"
     ]
    },
    {
     "name": "stdout",
     "output_type": "stream",
     "text": [
      "2\n",
      "3\n",
      "4\n",
      "model improved and saved\n",
      "\n",
      "Epoch 49: train loss: 0.8423399085348303 \n",
      "Epoch 49: valid loss: 0.909353643655777 \n"
     ]
    },
    {
     "name": "stderr",
     "output_type": "stream",
     "text": [
      "  0%|                                                                                            | 0/33 [00:00<?, ?it/s]\n",
      "Epoch [50/300]:   0%|                                                                            | 0/33 [00:00<?, ?it/s]\u001b[A\n",
      "Epoch [50/300]:   0%|                                                                | 0/33 [00:00<?, ?it/s, loss=0.852]\u001b[A"
     ]
    },
    {
     "name": "stdout",
     "output_type": "stream",
     "text": [
      "0\n",
      "1\n",
      "2\n",
      "3\n",
      "4\n",
      "5\n"
     ]
    },
    {
     "name": "stderr",
     "output_type": "stream",
     "text": [
      "Epoch [50/300]:  21%|████████████                                             | 7/33 [00:00<00:00, 63.16it/s, loss=1.01]"
     ]
    },
    {
     "name": "stdout",
     "output_type": "stream",
     "text": [
      "6\n",
      "7\n",
      "8\n",
      "9\n"
     ]
    },
    {
     "name": "stderr",
     "output_type": "stream",
     "text": [
      "\r",
      "Epoch [50/300]:  21%|███████████▉                                            | 7/33 [00:00<00:00, 63.16it/s, loss=0.929]"
     ]
    },
    {
     "name": "stdout",
     "output_type": "stream",
     "text": [
      "10\n"
     ]
    },
    {
     "name": "stderr",
     "output_type": "stream",
     "text": [
      "Epoch [50/300]:  42%|███████████████████████▎                               | 14/33 [00:00<00:00, 65.36it/s, loss=0.727]"
     ]
    },
    {
     "name": "stdout",
     "output_type": "stream",
     "text": [
      "11\n",
      "12\n",
      "13\n"
     ]
    },
    {
     "name": "stderr",
     "output_type": "stream",
     "text": [
      "Epoch [50/300]:  42%|███████████████████████▎                               | 14/33 [00:00<00:00, 65.36it/s, loss=0.785]"
     ]
    },
    {
     "name": "stdout",
     "output_type": "stream",
     "text": [
      "14\n",
      "15\n",
      "16\n",
      "17\n",
      "18\n",
      "19\n"
     ]
    },
    {
     "name": "stderr",
     "output_type": "stream",
     "text": [
      "Epoch [50/300]:  64%|███████████████████████████████████                    | 21/33 [00:00<00:00, 65.54it/s, loss=0.785]"
     ]
    },
    {
     "name": "stdout",
     "output_type": "stream",
     "text": [
      "20\n",
      "21\n",
      "22\n",
      "23\n"
     ]
    },
    {
     "name": "stderr",
     "output_type": "stream",
     "text": [
      "\r",
      "Epoch [50/300]:  64%|███████████████████████████████████                    | 21/33 [00:00<00:00, 65.54it/s, loss=0.912]"
     ]
    },
    {
     "name": "stdout",
     "output_type": "stream",
     "text": [
      "24\n"
     ]
    },
    {
     "name": "stderr",
     "output_type": "stream",
     "text": [
      "Epoch [50/300]:  64%|███████████████████████████████████▋                    | 21/33 [00:00<00:00, 65.54it/s, loss=1.19]"
     ]
    },
    {
     "name": "stdout",
     "output_type": "stream",
     "text": [
      "25\n",
      "26\n"
     ]
    },
    {
     "name": "stderr",
     "output_type": "stream",
     "text": [
      "Epoch [50/300]:  85%|██████████████████████████████████████████████▋        | 28/33 [00:00<00:00, 62.42it/s, loss=0.993]"
     ]
    },
    {
     "name": "stdout",
     "output_type": "stream",
     "text": [
      "27\n",
      "28\n",
      "29\n",
      "30\n",
      "31\n"
     ]
    },
    {
     "name": "stderr",
     "output_type": "stream",
     "text": [
      "Epoch [50/300]: 100%|███████████████████████████████████████████████████████| 33/33 [00:00<00:00, 62.50it/s, loss=0.793]\n",
      "\n",
      "Epoch [50/300]:   0%|                                                                  | 0/5 [00:00<?, ?it/s, loss=1.59]\u001b[A\n",
      "Epoch [50/300]:  20%|███████████▌                                              | 1/5 [00:00<00:02,  1.84it/s, loss=1.59]\u001b[A\n",
      "Epoch [50/300]:  20%|███████████▍                                             | 1/5 [00:00<00:02,  1.84it/s, loss=0.887]\u001b[A\n",
      "Epoch [50/300]:  20%|███████████▍                                             | 1/5 [00:00<00:02,  1.84it/s, loss=0.768]\u001b[A"
     ]
    },
    {
     "name": "stdout",
     "output_type": "stream",
     "text": [
      "32\n",
      "0\n",
      "1\n",
      "2\n"
     ]
    },
    {
     "name": "stderr",
     "output_type": "stream",
     "text": [
      "\n",
      "Epoch [50/300]:  20%|███████████▌                                              | 1/5 [00:00<00:02,  1.84it/s, loss=1.16]\u001b[A\n",
      "Epoch [50/300]: 100%|██████████████████████████████████████████████████████████| 5/5 [00:00<00:00,  8.38it/s, loss=0.14]\u001b[A\n"
     ]
    },
    {
     "name": "stdout",
     "output_type": "stream",
     "text": [
      "3\n",
      "4\n",
      "model improved and saved\n",
      "\n",
      "Epoch 50: train loss: 0.8493277954332756 \n",
      "Epoch 50: valid loss: 0.9092313170433044 \n"
     ]
    },
    {
     "name": "stderr",
     "output_type": "stream",
     "text": [
      "  0%|                                                                                            | 0/33 [00:00<?, ?it/s]\n",
      "Epoch [51/300]:   0%|                                                                            | 0/33 [00:00<?, ?it/s]\u001b[A\n",
      "Epoch [51/300]:   0%|                                                                | 0/33 [00:00<?, ?it/s, loss=0.713]\u001b[A"
     ]
    },
    {
     "name": "stdout",
     "output_type": "stream",
     "text": [
      "0\n"
     ]
    },
    {
     "name": "stderr",
     "output_type": "stream",
     "text": [
      "Epoch [51/300]:  21%|████████████                                             | 7/33 [00:00<00:00, 62.34it/s, loss=1.01]"
     ]
    },
    {
     "name": "stdout",
     "output_type": "stream",
     "text": [
      "1\n",
      "2\n",
      "3\n",
      "4\n",
      "5\n",
      "6\n"
     ]
    },
    {
     "name": "stderr",
     "output_type": "stream",
     "text": [
      "Epoch [51/300]:  21%|███████████▉                                            | 7/33 [00:00<00:00, 62.34it/s, loss=0.705]"
     ]
    },
    {
     "name": "stdout",
     "output_type": "stream",
     "text": [
      "7\n",
      "8\n",
      "9\n",
      "10\n"
     ]
    },
    {
     "name": "stderr",
     "output_type": "stream",
     "text": [
      "Epoch [51/300]:  42%|███████████████████████▎                               | 14/33 [00:00<00:00, 63.96it/s, loss=0.924]"
     ]
    },
    {
     "name": "stdout",
     "output_type": "stream",
     "text": [
      "11\n",
      "12\n",
      "13\n"
     ]
    },
    {
     "name": "stderr",
     "output_type": "stream",
     "text": [
      "\r",
      "Epoch [51/300]:  42%|███████████████████████▎                               | 14/33 [00:00<00:00, 63.96it/s, loss=0.569]"
     ]
    },
    {
     "name": "stdout",
     "output_type": "stream",
     "text": [
      "14\n"
     ]
    },
    {
     "name": "stderr",
     "output_type": "stream",
     "text": [
      "Epoch [51/300]:  64%|███████████████████████████████████▋                    | 21/33 [00:00<00:00, 64.63it/s, loss=1.03]"
     ]
    },
    {
     "name": "stdout",
     "output_type": "stream",
     "text": [
      "15\n",
      "16\n",
      "17\n",
      "18\n",
      "19\n",
      "20\n"
     ]
    },
    {
     "name": "stderr",
     "output_type": "stream",
     "text": [
      "Epoch [51/300]:  64%|███████████████████████████████████▋                    | 21/33 [00:00<00:00, 64.63it/s, loss=1.07]"
     ]
    },
    {
     "name": "stdout",
     "output_type": "stream",
     "text": [
      "21\n",
      "22\n",
      "23\n",
      "24\n"
     ]
    },
    {
     "name": "stderr",
     "output_type": "stream",
     "text": [
      "Epoch [51/300]:  85%|██████████████████████████████████████████████▋        | 28/33 [00:00<00:00, 66.59it/s, loss=0.645]"
     ]
    },
    {
     "name": "stdout",
     "output_type": "stream",
     "text": [
      "25\n",
      "26\n",
      "27\n"
     ]
    },
    {
     "name": "stderr",
     "output_type": "stream",
     "text": [
      "\r",
      "Epoch [51/300]:  85%|██████████████████████████████████████████████▋        | 28/33 [00:00<00:00, 66.59it/s, loss=0.814]"
     ]
    },
    {
     "name": "stdout",
     "output_type": "stream",
     "text": [
      "28\n"
     ]
    },
    {
     "name": "stderr",
     "output_type": "stream",
     "text": [
      "Epoch [51/300]: 100%|████████████████████████████████████████████████████████| 33/33 [00:00<00:00, 67.17it/s, loss=0.72]\n",
      "\n",
      "Epoch [51/300]:   0%|                                                                  | 0/5 [00:00<?, ?it/s, loss=1.59]\u001b[A\n",
      "Epoch [51/300]:  20%|███████████▌                                              | 1/5 [00:00<00:02,  1.99it/s, loss=1.59]\u001b[A\n",
      "Epoch [51/300]:  20%|███████████▍                                             | 1/5 [00:00<00:02,  1.99it/s, loss=0.887]\u001b[A\n",
      "Epoch [51/300]:  20%|███████████▍                                             | 1/5 [00:00<00:02,  1.99it/s, loss=0.768]\u001b[A"
     ]
    },
    {
     "name": "stdout",
     "output_type": "stream",
     "text": [
      "29\n",
      "30\n",
      "31\n",
      "32\n",
      "0\n",
      "1\n",
      "2\n"
     ]
    },
    {
     "name": "stderr",
     "output_type": "stream",
     "text": [
      "\n",
      "Epoch [51/300]:  20%|███████████▌                                              | 1/5 [00:00<00:02,  1.99it/s, loss=1.16]\u001b[A\n",
      "Epoch [51/300]: 100%|█████████████████████████████████████████████████████████| 5/5 [00:00<00:00,  8.90it/s, loss=0.139]\u001b[A\n"
     ]
    },
    {
     "name": "stdout",
     "output_type": "stream",
     "text": [
      "3\n",
      "4\n",
      "model improved and saved\n",
      "\n",
      "Epoch 51: train loss: 0.8470317522684733 \n",
      "Epoch 51: valid loss: 0.9091704100370407 \n"
     ]
    },
    {
     "name": "stderr",
     "output_type": "stream",
     "text": [
      "  0%|                                                                                            | 0/33 [00:00<?, ?it/s]\n",
      "Epoch [52/300]:   0%|                                                                            | 0/33 [00:00<?, ?it/s]\u001b[A\n",
      "Epoch [52/300]:   0%|                                                                | 0/33 [00:00<?, ?it/s, loss=0.766]\u001b[A"
     ]
    },
    {
     "name": "stdout",
     "output_type": "stream",
     "text": [
      "0\n"
     ]
    },
    {
     "name": "stderr",
     "output_type": "stream",
     "text": [
      "Epoch [52/300]:   0%|                                                                 | 0/33 [00:00<?, ?it/s, loss=1.15]"
     ]
    },
    {
     "name": "stdout",
     "output_type": "stream",
     "text": [
      "1\n",
      "2\n",
      "3\n"
     ]
    },
    {
     "name": "stderr",
     "output_type": "stream",
     "text": [
      "\r",
      "Epoch [52/300]:   0%|                                                                | 0/33 [00:00<?, ?it/s, loss=0.859]"
     ]
    },
    {
     "name": "stdout",
     "output_type": "stream",
     "text": [
      "4\n"
     ]
    },
    {
     "name": "stderr",
     "output_type": "stream",
     "text": [
      "Epoch [52/300]:  21%|███████████▉                                            | 7/33 [00:00<00:00, 64.80it/s, loss=0.813]"
     ]
    },
    {
     "name": "stdout",
     "output_type": "stream",
     "text": [
      "5\n",
      "6\n",
      "7\n",
      "8\n",
      "9\n",
      "10\n",
      "11\n"
     ]
    },
    {
     "name": "stderr",
     "output_type": "stream",
     "text": [
      "Epoch [52/300]:  42%|███████████████████████▎                               | 14/33 [00:00<00:00, 67.64it/s, loss=0.622]"
     ]
    },
    {
     "name": "stdout",
     "output_type": "stream",
     "text": [
      "12\n",
      "13\n",
      "14\n"
     ]
    },
    {
     "name": "stderr",
     "output_type": "stream",
     "text": [
      "\r",
      "Epoch [52/300]:  42%|███████████████████████▎                               | 14/33 [00:00<00:00, 67.64it/s, loss=0.706]"
     ]
    },
    {
     "name": "stdout",
     "output_type": "stream",
     "text": [
      "15\n"
     ]
    },
    {
     "name": "stderr",
     "output_type": "stream",
     "text": [
      "Epoch [52/300]:  42%|███████████████████████▎                               | 14/33 [00:00<00:00, 67.64it/s, loss=0.567]"
     ]
    },
    {
     "name": "stdout",
     "output_type": "stream",
     "text": [
      "16\n",
      "17\n",
      "18\n"
     ]
    },
    {
     "name": "stderr",
     "output_type": "stream",
     "text": [
      "Epoch [52/300]:  64%|███████████████████████████████████                    | 21/33 [00:00<00:00, 68.68it/s, loss=0.566]"
     ]
    },
    {
     "name": "stdout",
     "output_type": "stream",
     "text": [
      "19\n",
      "20\n",
      "21\n",
      "22\n",
      "23\n",
      "24\n",
      "25\n",
      "26\n"
     ]
    },
    {
     "name": "stderr",
     "output_type": "stream",
     "text": [
      "Epoch [52/300]:  88%|█████████████████████████████████████████████████▏      | 29/33 [00:00<00:00, 70.44it/s, loss=1.23]"
     ]
    },
    {
     "name": "stdout",
     "output_type": "stream",
     "text": [
      "27\n",
      "28\n",
      "29\n"
     ]
    },
    {
     "name": "stderr",
     "output_type": "stream",
     "text": [
      "Epoch [52/300]: 100%|████████████████████████████████████████████████████████| 33/33 [00:00<00:00, 69.71it/s, loss=1.29]\n",
      "\n",
      "Epoch [52/300]:   0%|                                                                  | 0/5 [00:00<?, ?it/s, loss=1.59]\u001b[A\n",
      "Epoch [52/300]:  20%|███████████▌                                              | 1/5 [00:00<00:01,  2.06it/s, loss=1.59]\u001b[A"
     ]
    },
    {
     "name": "stdout",
     "output_type": "stream",
     "text": [
      "30\n",
      "31\n",
      "32\n",
      "0\n"
     ]
    },
    {
     "name": "stderr",
     "output_type": "stream",
     "text": [
      "\n",
      "Epoch [52/300]:  20%|███████████▍                                             | 1/5 [00:00<00:01,  2.06it/s, loss=0.887]\u001b[A\n",
      "Epoch [52/300]:  20%|███████████▍                                             | 1/5 [00:00<00:01,  2.06it/s, loss=0.768]\u001b[A\n",
      "Epoch [52/300]:  20%|███████████▌                                              | 1/5 [00:00<00:01,  2.06it/s, loss=1.16]\u001b[A\n",
      "Epoch [52/300]: 100%|█████████████████████████████████████████████████████████| 5/5 [00:00<00:00,  9.31it/s, loss=0.139]\u001b[A\n"
     ]
    },
    {
     "name": "stdout",
     "output_type": "stream",
     "text": [
      "1\n",
      "2\n",
      "3\n",
      "4\n",
      "model improved and saved\n",
      "\n",
      "Epoch 52: train loss: 0.863360786076748 \n",
      "Epoch 52: valid loss: 0.909065979719162 \n"
     ]
    },
    {
     "name": "stderr",
     "output_type": "stream",
     "text": [
      "  0%|                                                                                            | 0/33 [00:00<?, ?it/s]\n",
      "Epoch [53/300]:   0%|                                                                            | 0/33 [00:00<?, ?it/s]\u001b[A\n",
      "Epoch [53/300]:   0%|                                                                | 0/33 [00:00<?, ?it/s, loss=0.839]\u001b[A"
     ]
    },
    {
     "name": "stdout",
     "output_type": "stream",
     "text": [
      "0\n",
      "1\n",
      "2\n"
     ]
    },
    {
     "name": "stderr",
     "output_type": "stream",
     "text": [
      "Epoch [53/300]:   0%|                                                                 | 0/33 [00:00<?, ?it/s, loss=1.03]"
     ]
    },
    {
     "name": "stdout",
     "output_type": "stream",
     "text": [
      "3\n",
      "4\n",
      "5\n"
     ]
    },
    {
     "name": "stderr",
     "output_type": "stream",
     "text": [
      "Epoch [53/300]:  21%|███████████▉                                            | 7/33 [00:00<00:00, 66.89it/s, loss=0.791]"
     ]
    },
    {
     "name": "stdout",
     "output_type": "stream",
     "text": [
      "6\n",
      "7\n",
      "8\n",
      "9\n",
      "10\n"
     ]
    },
    {
     "name": "stderr",
     "output_type": "stream",
     "text": [
      "Epoch [53/300]:  45%|█████████████████████████▍                              | 15/33 [00:00<00:00, 70.75it/s, loss=0.88]"
     ]
    },
    {
     "name": "stdout",
     "output_type": "stream",
     "text": [
      "11\n",
      "12\n",
      "13\n",
      "14\n"
     ]
    },
    {
     "name": "stderr",
     "output_type": "stream",
     "text": [
      "Epoch [53/300]:  45%|█████████████████████████▍                              | 15/33 [00:00<00:00, 70.75it/s, loss=1.07]"
     ]
    },
    {
     "name": "stdout",
     "output_type": "stream",
     "text": [
      "15\n",
      "16\n",
      "17\n"
     ]
    },
    {
     "name": "stderr",
     "output_type": "stream",
     "text": [
      "Epoch [53/300]:  45%|█████████████████████████                              | 15/33 [00:00<00:00, 70.75it/s, loss=0.679]"
     ]
    },
    {
     "name": "stdout",
     "output_type": "stream",
     "text": [
      "18\n",
      "19\n",
      "20\n"
     ]
    },
    {
     "name": "stderr",
     "output_type": "stream",
     "text": [
      "Epoch [53/300]:  70%|██████████████████████████████████████▎                | 23/33 [00:00<00:00, 71.29it/s, loss=0.741]"
     ]
    },
    {
     "name": "stdout",
     "output_type": "stream",
     "text": [
      "21\n",
      "22\n",
      "23\n",
      "24\n",
      "25\n"
     ]
    },
    {
     "name": "stderr",
     "output_type": "stream",
     "text": [
      "Epoch [53/300]:  70%|██████████████████████████████████████▎                | 23/33 [00:00<00:00, 71.29it/s, loss=0.949]"
     ]
    },
    {
     "name": "stdout",
     "output_type": "stream",
     "text": [
      "26\n",
      "27\n",
      "28\n",
      "29\n"
     ]
    },
    {
     "name": "stderr",
     "output_type": "stream",
     "text": [
      "Epoch [53/300]:  94%|███████████████████████████████████████████████████▋   | 31/33 [00:00<00:00, 68.66it/s, loss=0.604]"
     ]
    },
    {
     "name": "stdout",
     "output_type": "stream",
     "text": [
      "30\n",
      "31\n"
     ]
    },
    {
     "name": "stderr",
     "output_type": "stream",
     "text": [
      "Epoch [53/300]: 100%|████████████████████████████████████████████████████████| 33/33 [00:00<00:00, 69.08it/s, loss=1.12]\n",
      "\n",
      "Epoch [53/300]:   0%|                                                                  | 0/5 [00:00<?, ?it/s, loss=1.59]\u001b[A\n",
      "Epoch [53/300]:  20%|███████████▌                                              | 1/5 [00:00<00:01,  2.05it/s, loss=1.59]\u001b[A\n",
      "Epoch [53/300]:  20%|███████████▍                                             | 1/5 [00:00<00:01,  2.05it/s, loss=0.887]\u001b[A"
     ]
    },
    {
     "name": "stdout",
     "output_type": "stream",
     "text": [
      "32\n",
      "0\n",
      "1\n"
     ]
    },
    {
     "name": "stderr",
     "output_type": "stream",
     "text": [
      "\n",
      "Epoch [53/300]:  20%|███████████▍                                             | 1/5 [00:00<00:01,  2.05it/s, loss=0.768]\u001b[A\n",
      "Epoch [53/300]:  20%|███████████▌                                              | 1/5 [00:00<00:01,  2.05it/s, loss=1.16]\u001b[A\n",
      "Epoch [53/300]: 100%|█████████████████████████████████████████████████████████| 5/5 [00:00<00:00,  9.29it/s, loss=0.139]\u001b[A\n"
     ]
    },
    {
     "name": "stdout",
     "output_type": "stream",
     "text": [
      "2\n",
      "3\n",
      "4\n",
      "model improved and saved\n",
      "\n",
      "Epoch 53: train loss: 0.8567438143672366 \n",
      "Epoch 53: valid loss: 0.908997654914856 \n"
     ]
    },
    {
     "name": "stderr",
     "output_type": "stream",
     "text": [
      "  0%|                                                                                            | 0/33 [00:00<?, ?it/s]\n",
      "Epoch [54/300]:   0%|                                                                            | 0/33 [00:00<?, ?it/s]\u001b[A\n",
      "Epoch [54/300]:   3%|█▋                                                      | 1/33 [00:00<00:03,  9.13it/s, loss=0.892]\u001b[A"
     ]
    },
    {
     "name": "stdout",
     "output_type": "stream",
     "text": [
      "0\n"
     ]
    },
    {
     "name": "stderr",
     "output_type": "stream",
     "text": [
      "Epoch [54/300]:   3%|█▋                                                      | 1/33 [00:00<00:03,  9.13it/s, loss=0.912]"
     ]
    },
    {
     "name": "stdout",
     "output_type": "stream",
     "text": [
      "1\n",
      "2\n",
      "3\n"
     ]
    },
    {
     "name": "stderr",
     "output_type": "stream",
     "text": [
      "Epoch [54/300]:  18%|██████████▏                                             | 6/33 [00:00<00:00, 30.28it/s, loss=0.642]"
     ]
    },
    {
     "name": "stdout",
     "output_type": "stream",
     "text": [
      "4\n",
      "5\n",
      "6\n",
      "7\n",
      "8\n",
      "9\n"
     ]
    },
    {
     "name": "stderr",
     "output_type": "stream",
     "text": [
      "Epoch [54/300]:  33%|██████████████████▎                                    | 11/33 [00:00<00:00, 37.06it/s, loss=0.783]"
     ]
    },
    {
     "name": "stdout",
     "output_type": "stream",
     "text": [
      "10\n"
     ]
    },
    {
     "name": "stderr",
     "output_type": "stream",
     "text": [
      "Epoch [54/300]:  33%|██████████████████▋                                     | 11/33 [00:00<00:00, 37.06it/s, loss=1.07]"
     ]
    },
    {
     "name": "stdout",
     "output_type": "stream",
     "text": [
      "11\n",
      "12\n",
      "13\n"
     ]
    },
    {
     "name": "stderr",
     "output_type": "stream",
     "text": [
      "Epoch [54/300]:  52%|████████████████████████████▎                          | 17/33 [00:00<00:00, 42.68it/s, loss=0.817]"
     ]
    },
    {
     "name": "stdout",
     "output_type": "stream",
     "text": [
      "14\n",
      "15\n",
      "16\n",
      "17\n",
      "18\n",
      "19\n",
      "20\n"
     ]
    },
    {
     "name": "stderr",
     "output_type": "stream",
     "text": [
      "Epoch [54/300]:  67%|█████████████████████████████████████▎                  | 22/33 [00:00<00:00, 44.84it/s, loss=0.75]"
     ]
    },
    {
     "name": "stdout",
     "output_type": "stream",
     "text": [
      "21\n"
     ]
    },
    {
     "name": "stderr",
     "output_type": "stream",
     "text": [
      "Epoch [54/300]:  67%|████████████████████████████████████▋                  | 22/33 [00:00<00:00, 44.84it/s, loss=0.686]"
     ]
    },
    {
     "name": "stdout",
     "output_type": "stream",
     "text": [
      "22\n",
      "23\n"
     ]
    },
    {
     "name": "stderr",
     "output_type": "stream",
     "text": [
      "Epoch [54/300]:  85%|███████████████████████████████████████████████▌        | 28/33 [00:00<00:00, 47.36it/s, loss=1.01]"
     ]
    },
    {
     "name": "stdout",
     "output_type": "stream",
     "text": [
      "24\n",
      "25\n",
      "26\n",
      "27\n",
      "28\n",
      "29\n",
      "30\n",
      "31\n"
     ]
    },
    {
     "name": "stderr",
     "output_type": "stream",
     "text": [
      "Epoch [54/300]: 100%|████████████████████████████████████████████████████████| 33/33 [00:00<00:00, 43.36it/s, loss=2.08]"
     ]
    },
    {
     "name": "stdout",
     "output_type": "stream",
     "text": [
      "32\n"
     ]
    },
    {
     "name": "stderr",
     "output_type": "stream",
     "text": [
      "\n",
      "\n",
      "Epoch [54/300]:   0%|                                                                  | 0/5 [00:00<?, ?it/s, loss=1.59]\u001b[A\n",
      "Epoch [54/300]:  20%|███████████▌                                              | 1/5 [00:00<00:03,  1.27it/s, loss=1.59]\u001b[A"
     ]
    },
    {
     "name": "stdout",
     "output_type": "stream",
     "text": [
      "0\n"
     ]
    },
    {
     "name": "stderr",
     "output_type": "stream",
     "text": [
      "\n",
      "Epoch [54/300]:  20%|███████████▍                                             | 1/5 [00:00<00:03,  1.27it/s, loss=0.887]\u001b[A\n",
      "Epoch [54/300]:  20%|███████████▍                                             | 1/5 [00:00<00:03,  1.27it/s, loss=0.768]\u001b[A\n",
      "Epoch [54/300]:  20%|███████████▌                                              | 1/5 [00:00<00:03,  1.27it/s, loss=1.16]\u001b[A\n",
      "Epoch [54/300]: 100%|█████████████████████████████████████████████████████████| 5/5 [00:00<00:00,  5.78it/s, loss=0.138]\u001b[A\n"
     ]
    },
    {
     "name": "stdout",
     "output_type": "stream",
     "text": [
      "1\n",
      "2\n",
      "3\n",
      "4\n",
      "model improved and saved\n",
      "\n",
      "Epoch 54: train loss: 0.8798557700532855 \n",
      "Epoch 54: valid loss: 0.9089621394872666 \n"
     ]
    },
    {
     "name": "stderr",
     "output_type": "stream",
     "text": [
      "  0%|                                                                                            | 0/33 [00:00<?, ?it/s]\n",
      "Epoch [55/300]:   0%|                                                                            | 0/33 [00:00<?, ?it/s]\u001b[A\n",
      "Epoch [55/300]:   0%|                                                                | 0/33 [00:00<?, ?it/s, loss=0.951]\u001b[A"
     ]
    },
    {
     "name": "stdout",
     "output_type": "stream",
     "text": [
      "0\n",
      "1\n",
      "2\n",
      "3\n"
     ]
    },
    {
     "name": "stderr",
     "output_type": "stream",
     "text": [
      "\r",
      "Epoch [55/300]:   0%|                                                                | 0/33 [00:00<?, ?it/s, loss=0.942]"
     ]
    },
    {
     "name": "stdout",
     "output_type": "stream",
     "text": [
      "4\n"
     ]
    },
    {
     "name": "stderr",
     "output_type": "stream",
     "text": [
      "Epoch [55/300]:  18%|██████████▎                                              | 6/33 [00:00<00:00, 53.37it/s, loss=0.66]"
     ]
    },
    {
     "name": "stdout",
     "output_type": "stream",
     "text": [
      "5\n",
      "6\n"
     ]
    },
    {
     "name": "stderr",
     "output_type": "stream",
     "text": [
      "Epoch [55/300]:  39%|██████████████████████                                  | 13/33 [00:00<00:00, 59.57it/s, loss=0.77]"
     ]
    },
    {
     "name": "stdout",
     "output_type": "stream",
     "text": [
      "7\n",
      "8\n",
      "9\n",
      "10\n",
      "11\n",
      "12\n"
     ]
    },
    {
     "name": "stderr",
     "output_type": "stream",
     "text": [
      "Epoch [55/300]:  39%|█████████████████████▋                                 | 13/33 [00:00<00:00, 59.57it/s, loss=0.814]"
     ]
    },
    {
     "name": "stdout",
     "output_type": "stream",
     "text": [
      "13\n",
      "14\n",
      "15\n",
      "16\n"
     ]
    },
    {
     "name": "stderr",
     "output_type": "stream",
     "text": [
      "Epoch [55/300]:  39%|█████████████████████▋                                 | 13/33 [00:00<00:00, 59.57it/s, loss=0.537]"
     ]
    },
    {
     "name": "stdout",
     "output_type": "stream",
     "text": [
      "17\n",
      "18\n"
     ]
    },
    {
     "name": "stderr",
     "output_type": "stream",
     "text": [
      "Epoch [55/300]:  61%|█████████████████████████████████▎                     | 20/33 [00:00<00:00, 62.88it/s, loss=0.879]"
     ]
    },
    {
     "name": "stdout",
     "output_type": "stream",
     "text": [
      "19\n",
      "20\n"
     ]
    },
    {
     "name": "stderr",
     "output_type": "stream",
     "text": [
      "Epoch [55/300]:  61%|█████████████████████████████████▎                     | 20/33 [00:00<00:00, 62.88it/s, loss=0.891]"
     ]
    },
    {
     "name": "stdout",
     "output_type": "stream",
     "text": [
      "21\n",
      "22\n",
      "23\n",
      "24\n",
      "25\n"
     ]
    },
    {
     "name": "stderr",
     "output_type": "stream",
     "text": [
      "Epoch [55/300]:  82%|█████████████████████████████████████████████▊          | 27/33 [00:00<00:00, 61.92it/s, loss=1.04]"
     ]
    },
    {
     "name": "stdout",
     "output_type": "stream",
     "text": [
      "26\n",
      "27\n",
      "28\n",
      "29\n"
     ]
    },
    {
     "name": "stderr",
     "output_type": "stream",
     "text": [
      "Epoch [55/300]: 100%|███████████████████████████████████████████████████████| 33/33 [00:00<00:00, 63.35it/s, loss=0.818]"
     ]
    },
    {
     "name": "stdout",
     "output_type": "stream",
     "text": [
      "30\n",
      "31\n",
      "32\n"
     ]
    },
    {
     "name": "stderr",
     "output_type": "stream",
     "text": [
      "\n",
      "\n",
      "Epoch [55/300]:   0%|                                                                  | 0/5 [00:00<?, ?it/s, loss=1.59]\u001b[A\n",
      "Epoch [55/300]:  20%|███████████▌                                              | 1/5 [00:00<00:02,  1.87it/s, loss=1.59]\u001b[A\n",
      "Epoch [55/300]:  20%|███████████▍                                             | 1/5 [00:00<00:02,  1.87it/s, loss=0.887]\u001b[A"
     ]
    },
    {
     "name": "stdout",
     "output_type": "stream",
     "text": [
      "0\n",
      "1\n"
     ]
    },
    {
     "name": "stderr",
     "output_type": "stream",
     "text": [
      "\n",
      "Epoch [55/300]:  20%|███████████▍                                             | 1/5 [00:00<00:02,  1.87it/s, loss=0.768]\u001b[A\n",
      "Epoch [55/300]:  20%|███████████▌                                              | 1/5 [00:00<00:02,  1.87it/s, loss=1.16]\u001b[A\n",
      "Epoch [55/300]: 100%|█████████████████████████████████████████████████████████| 5/5 [00:00<00:00,  8.51it/s, loss=0.138]\u001b[A\n"
     ]
    },
    {
     "name": "stdout",
     "output_type": "stream",
     "text": [
      "2\n",
      "3\n",
      "4\n",
      "model improved and saved\n",
      "\n",
      "Epoch 55: train loss: 0.8457899454868201 \n",
      "Epoch 55: valid loss: 0.9089634090662002 \n"
     ]
    },
    {
     "name": "stderr",
     "output_type": "stream",
     "text": [
      "  0%|                                                                                            | 0/33 [00:00<?, ?it/s]\n",
      "Epoch [56/300]:   0%|                                                                            | 0/33 [00:00<?, ?it/s]\u001b[A\n",
      "Epoch [56/300]:   0%|                                                                | 0/33 [00:00<?, ?it/s, loss=0.804]\u001b[A"
     ]
    },
    {
     "name": "stdout",
     "output_type": "stream",
     "text": [
      "0\n",
      "1\n"
     ]
    },
    {
     "name": "stderr",
     "output_type": "stream",
     "text": [
      "Epoch [56/300]:   0%|                                                                 | 0/33 [00:00<?, ?it/s, loss=0.58]"
     ]
    },
    {
     "name": "stdout",
     "output_type": "stream",
     "text": [
      "2\n",
      "3\n",
      "4\n",
      "5\n"
     ]
    },
    {
     "name": "stderr",
     "output_type": "stream",
     "text": [
      "Epoch [56/300]:  21%|███████████▉                                            | 7/33 [00:00<00:00, 63.08it/s, loss=0.906]"
     ]
    },
    {
     "name": "stdout",
     "output_type": "stream",
     "text": [
      "6\n",
      "7\n"
     ]
    },
    {
     "name": "stderr",
     "output_type": "stream",
     "text": [
      "Epoch [56/300]:  21%|████████████                                             | 7/33 [00:00<00:00, 63.08it/s, loss=1.02]"
     ]
    },
    {
     "name": "stdout",
     "output_type": "stream",
     "text": [
      "8\n",
      "9\n"
     ]
    },
    {
     "name": "stderr",
     "output_type": "stream",
     "text": [
      "Epoch [56/300]:  42%|███████████████████████▎                               | 14/33 [00:00<00:00, 66.28it/s, loss=0.748]"
     ]
    },
    {
     "name": "stdout",
     "output_type": "stream",
     "text": [
      "10\n",
      "11\n",
      "12\n",
      "13\n"
     ]
    },
    {
     "name": "stderr",
     "output_type": "stream",
     "text": [
      "Epoch [56/300]:  42%|███████████████████████▎                               | 14/33 [00:00<00:00, 66.28it/s, loss=0.911]"
     ]
    },
    {
     "name": "stdout",
     "output_type": "stream",
     "text": [
      "14\n",
      "15\n"
     ]
    },
    {
     "name": "stderr",
     "output_type": "stream",
     "text": [
      "Epoch [56/300]:  42%|███████████████████████▊                                | 14/33 [00:00<00:00, 66.28it/s, loss=0.89]"
     ]
    },
    {
     "name": "stdout",
     "output_type": "stream",
     "text": [
      "16\n",
      "17\n",
      "18\n",
      "19\n"
     ]
    },
    {
     "name": "stderr",
     "output_type": "stream",
     "text": [
      "Epoch [56/300]:  64%|███████████████████████████████████▋                    | 21/33 [00:00<00:00, 65.00it/s, loss=1.04]"
     ]
    },
    {
     "name": "stdout",
     "output_type": "stream",
     "text": [
      "20\n",
      "21\n"
     ]
    },
    {
     "name": "stderr",
     "output_type": "stream",
     "text": [
      "\r",
      "Epoch [56/300]:  64%|███████████████████████████████████                    | 21/33 [00:00<00:00, 65.00it/s, loss=0.822]"
     ]
    },
    {
     "name": "stdout",
     "output_type": "stream",
     "text": [
      "22\n"
     ]
    },
    {
     "name": "stderr",
     "output_type": "stream",
     "text": [
      "Epoch [56/300]:  64%|███████████████████████████████████                    | 21/33 [00:00<00:00, 65.00it/s, loss=0.842]"
     ]
    },
    {
     "name": "stdout",
     "output_type": "stream",
     "text": [
      "23\n",
      "24\n",
      "25\n",
      "26\n"
     ]
    },
    {
     "name": "stderr",
     "output_type": "stream",
     "text": [
      "Epoch [56/300]:  85%|██████████████████████████████████████████████▋        | 28/33 [00:00<00:00, 61.48it/s, loss=0.784]"
     ]
    },
    {
     "name": "stdout",
     "output_type": "stream",
     "text": [
      "27\n"
     ]
    },
    {
     "name": "stderr",
     "output_type": "stream",
     "text": [
      "Epoch [56/300]: 100%|███████████████████████████████████████████████████████| 33/33 [00:00<00:00, 63.28it/s, loss=0.801]"
     ]
    },
    {
     "name": "stdout",
     "output_type": "stream",
     "text": [
      "28\n",
      "29\n",
      "30\n",
      "31\n",
      "32\n"
     ]
    },
    {
     "name": "stderr",
     "output_type": "stream",
     "text": [
      "\n",
      "\n",
      "Epoch [56/300]:   0%|                                                                  | 0/5 [00:00<?, ?it/s, loss=1.59]\u001b[A\n",
      "Epoch [56/300]:  20%|███████████▌                                              | 1/5 [00:00<00:02,  1.85it/s, loss=1.59]\u001b[A"
     ]
    },
    {
     "name": "stdout",
     "output_type": "stream",
     "text": [
      "0\n"
     ]
    },
    {
     "name": "stderr",
     "output_type": "stream",
     "text": [
      "\n",
      "Epoch [56/300]:  20%|███████████▍                                             | 1/5 [00:00<00:02,  1.85it/s, loss=0.887]\u001b[A"
     ]
    },
    {
     "name": "stdout",
     "output_type": "stream",
     "text": [
      "1\n"
     ]
    },
    {
     "name": "stderr",
     "output_type": "stream",
     "text": [
      "\n",
      "Epoch [56/300]:  20%|███████████▍                                             | 1/5 [00:00<00:02,  1.85it/s, loss=0.768]\u001b[A\n",
      "Epoch [56/300]:  20%|███████████▌                                              | 1/5 [00:00<00:02,  1.85it/s, loss=1.16]\u001b[A\n",
      "Epoch [56/300]: 100%|█████████████████████████████████████████████████████████| 5/5 [00:00<00:00,  8.25it/s, loss=0.138]\u001b[A\n"
     ]
    },
    {
     "name": "stdout",
     "output_type": "stream",
     "text": [
      "2\n",
      "3\n",
      "4\n",
      "model improved and saved\n",
      "\n",
      "Epoch 56: train loss: 0.847366087364428 \n",
      "Epoch 56: valid loss: 0.9089000344276428 \n"
     ]
    },
    {
     "name": "stderr",
     "output_type": "stream",
     "text": [
      "  0%|                                                                                            | 0/33 [00:00<?, ?it/s]\n",
      "Epoch [57/300]:   0%|                                                                            | 0/33 [00:00<?, ?it/s]\u001b[A\n",
      "Epoch [57/300]:   0%|                                                                | 0/33 [00:00<?, ?it/s, loss=0.931]\u001b[A"
     ]
    },
    {
     "name": "stdout",
     "output_type": "stream",
     "text": [
      "0\n"
     ]
    },
    {
     "name": "stderr",
     "output_type": "stream",
     "text": [
      "Epoch [57/300]:  15%|████████▋                                                | 5/33 [00:00<00:00, 47.70it/s, loss=0.65]"
     ]
    },
    {
     "name": "stdout",
     "output_type": "stream",
     "text": [
      "1\n",
      "2\n",
      "3\n",
      "4\n"
     ]
    },
    {
     "name": "stderr",
     "output_type": "stream",
     "text": [
      "\r",
      "Epoch [57/300]:  15%|████████▍                                               | 5/33 [00:00<00:00, 47.70it/s, loss=0.981]"
     ]
    },
    {
     "name": "stdout",
     "output_type": "stream",
     "text": [
      "5\n"
     ]
    },
    {
     "name": "stderr",
     "output_type": "stream",
     "text": [
      "\r",
      "Epoch [57/300]:  15%|████████▍                                               | 5/33 [00:00<00:00, 47.70it/s, loss=0.728]"
     ]
    },
    {
     "name": "stdout",
     "output_type": "stream",
     "text": [
      "6\n"
     ]
    },
    {
     "name": "stderr",
     "output_type": "stream",
     "text": [
      "Epoch [57/300]:  30%|████████████████▋                                      | 10/33 [00:00<00:00, 48.59it/s, loss=0.819]"
     ]
    },
    {
     "name": "stdout",
     "output_type": "stream",
     "text": [
      "7\n",
      "8\n",
      "9\n",
      "10\n"
     ]
    },
    {
     "name": "stderr",
     "output_type": "stream",
     "text": [
      "\r",
      "Epoch [57/300]:  30%|████████████████▋                                      | 10/33 [00:00<00:00, 48.59it/s, loss=0.624]"
     ]
    },
    {
     "name": "stdout",
     "output_type": "stream",
     "text": [
      "11\n"
     ]
    },
    {
     "name": "stderr",
     "output_type": "stream",
     "text": [
      "Epoch [57/300]:  48%|██████████████████████████▋                            | 16/33 [00:00<00:00, 51.28it/s, loss=0.981]"
     ]
    },
    {
     "name": "stdout",
     "output_type": "stream",
     "text": [
      "12\n",
      "13\n",
      "14\n",
      "15\n"
     ]
    },
    {
     "name": "stderr",
     "output_type": "stream",
     "text": [
      "Epoch [57/300]:  48%|██████████████████████████▋                            | 16/33 [00:00<00:00, 51.28it/s, loss=0.629]"
     ]
    },
    {
     "name": "stdout",
     "output_type": "stream",
     "text": [
      "16\n",
      "17\n"
     ]
    },
    {
     "name": "stderr",
     "output_type": "stream",
     "text": [
      "\r",
      "Epoch [57/300]:  48%|██████████████████████████▋                            | 16/33 [00:00<00:00, 51.28it/s, loss=0.682]"
     ]
    },
    {
     "name": "stdout",
     "output_type": "stream",
     "text": [
      "18\n"
     ]
    },
    {
     "name": "stderr",
     "output_type": "stream",
     "text": [
      "Epoch [57/300]:  70%|███████████████████████████████████████                 | 23/33 [00:00<00:00, 57.53it/s, loss=1.34]"
     ]
    },
    {
     "name": "stdout",
     "output_type": "stream",
     "text": [
      "19\n",
      "20\n",
      "21\n",
      "22\n",
      "23\n",
      "24\n"
     ]
    },
    {
     "name": "stderr",
     "output_type": "stream",
     "text": [
      "Epoch [57/300]:  70%|██████████████████████████████████████▎                | 23/33 [00:00<00:00, 57.53it/s, loss=0.747]"
     ]
    },
    {
     "name": "stdout",
     "output_type": "stream",
     "text": [
      "25\n"
     ]
    },
    {
     "name": "stderr",
     "output_type": "stream",
     "text": [
      "Epoch [57/300]:  91%|██████████████████████████████████████████████████     | 30/33 [00:00<00:00, 60.34it/s, loss=0.761]"
     ]
    },
    {
     "name": "stdout",
     "output_type": "stream",
     "text": [
      "26\n",
      "27\n",
      "28\n",
      "29\n"
     ]
    },
    {
     "name": "stderr",
     "output_type": "stream",
     "text": [
      "Epoch [57/300]:  91%|██████████████████████████████████████████████████▉     | 30/33 [00:00<00:00, 60.34it/s, loss=1.01]"
     ]
    },
    {
     "name": "stdout",
     "output_type": "stream",
     "text": [
      "30\n",
      "31\n"
     ]
    },
    {
     "name": "stderr",
     "output_type": "stream",
     "text": [
      "Epoch [57/300]: 100%|████████████████████████████████████████████████████████| 33/33 [00:00<00:00, 57.95it/s, loss=1.24]"
     ]
    },
    {
     "name": "stdout",
     "output_type": "stream",
     "text": [
      "32\n"
     ]
    },
    {
     "name": "stderr",
     "output_type": "stream",
     "text": [
      "\n",
      "\n",
      "Epoch [57/300]:   0%|                                                                  | 0/5 [00:00<?, ?it/s, loss=1.59]\u001b[A\n",
      "Epoch [57/300]:  20%|███████████▌                                              | 1/5 [00:00<00:02,  1.72it/s, loss=1.59]\u001b[A\n",
      "Epoch [57/300]:  20%|███████████▍                                             | 1/5 [00:00<00:02,  1.72it/s, loss=0.887]\u001b[A\n",
      "Epoch [57/300]:  20%|███████████▍                                             | 1/5 [00:00<00:02,  1.72it/s, loss=0.768]\u001b[A\n",
      "Epoch [57/300]:  20%|███████████▌                                              | 1/5 [00:00<00:02,  1.72it/s, loss=1.16]\u001b[A\n",
      "Epoch [57/300]: 100%|█████████████████████████████████████████████████████████| 5/5 [00:00<00:00,  7.84it/s, loss=0.137]\u001b[A\n"
     ]
    },
    {
     "name": "stdout",
     "output_type": "stream",
     "text": [
      "0\n",
      "1\n",
      "2\n",
      "3\n",
      "4\n",
      "model improved and saved\n",
      "\n",
      "Epoch 57: train loss: 0.8559649550553524 \n",
      "Epoch 57: valid loss: 0.9089138090610505 \n"
     ]
    },
    {
     "name": "stderr",
     "output_type": "stream",
     "text": [
      "  0%|                                                                                            | 0/33 [00:00<?, ?it/s]\n",
      "Epoch [58/300]:   0%|                                                                            | 0/33 [00:00<?, ?it/s]\u001b[A\n",
      "Epoch [58/300]:   0%|                                                                | 0/33 [00:00<?, ?it/s, loss=0.902]\u001b[A"
     ]
    },
    {
     "name": "stdout",
     "output_type": "stream",
     "text": [
      "0\n"
     ]
    },
    {
     "name": "stderr",
     "output_type": "stream",
     "text": [
      "Epoch [58/300]:   0%|                                                                | 0/33 [00:00<?, ?it/s, loss=0.772]"
     ]
    },
    {
     "name": "stdout",
     "output_type": "stream",
     "text": [
      "1\n",
      "2\n",
      "3\n",
      "4\n"
     ]
    },
    {
     "name": "stderr",
     "output_type": "stream",
     "text": [
      "Epoch [58/300]:  18%|██████████▎                                              | 6/33 [00:00<00:00, 53.20it/s, loss=1.04]"
     ]
    },
    {
     "name": "stdout",
     "output_type": "stream",
     "text": [
      "5\n"
     ]
    },
    {
     "name": "stderr",
     "output_type": "stream",
     "text": [
      "\r",
      "Epoch [58/300]:  18%|██████████▏                                             | 6/33 [00:00<00:00, 53.20it/s, loss=0.798]"
     ]
    },
    {
     "name": "stdout",
     "output_type": "stream",
     "text": [
      "6\n"
     ]
    },
    {
     "name": "stderr",
     "output_type": "stream",
     "text": [
      "Epoch [58/300]:  36%|████████████████████                                   | 12/33 [00:00<00:00, 54.34it/s, loss=0.564]"
     ]
    },
    {
     "name": "stdout",
     "output_type": "stream",
     "text": [
      "7\n",
      "8\n",
      "9\n",
      "10\n",
      "11\n"
     ]
    },
    {
     "name": "stderr",
     "output_type": "stream",
     "text": [
      "\r",
      "Epoch [58/300]:  36%|████████████████████                                   | 12/33 [00:00<00:00, 54.34it/s, loss=0.819]"
     ]
    },
    {
     "name": "stdout",
     "output_type": "stream",
     "text": [
      "12\n"
     ]
    },
    {
     "name": "stderr",
     "output_type": "stream",
     "text": [
      "Epoch [58/300]:  36%|████████████████████                                   | 12/33 [00:00<00:00, 54.34it/s, loss=0.677]"
     ]
    },
    {
     "name": "stdout",
     "output_type": "stream",
     "text": [
      "13\n",
      "14\n",
      "15\n",
      "16\n",
      "17\n"
     ]
    },
    {
     "name": "stderr",
     "output_type": "stream",
     "text": [
      "Epoch [58/300]:  58%|███████████████████████████████▋                       | 19/33 [00:00<00:00, 59.62it/s, loss=0.709]"
     ]
    },
    {
     "name": "stdout",
     "output_type": "stream",
     "text": [
      "18\n"
     ]
    },
    {
     "name": "stderr",
     "output_type": "stream",
     "text": [
      "\r",
      "Epoch [58/300]:  58%|███████████████████████████████▋                       | 19/33 [00:00<00:00, 59.62it/s, loss=0.642]"
     ]
    },
    {
     "name": "stdout",
     "output_type": "stream",
     "text": [
      "19\n"
     ]
    },
    {
     "name": "stderr",
     "output_type": "stream",
     "text": [
      "Epoch [58/300]:  76%|█████████████████████████████████████████▋             | 25/33 [00:00<00:00, 58.60it/s, loss=0.754]"
     ]
    },
    {
     "name": "stdout",
     "output_type": "stream",
     "text": [
      "20\n",
      "21\n",
      "22\n",
      "23\n",
      "24\n"
     ]
    },
    {
     "name": "stderr",
     "output_type": "stream",
     "text": [
      "\r",
      "Epoch [58/300]:  76%|█████████████████████████████████████████▋             | 25/33 [00:00<00:00, 58.60it/s, loss=0.939]"
     ]
    },
    {
     "name": "stdout",
     "output_type": "stream",
     "text": [
      "25\n"
     ]
    },
    {
     "name": "stderr",
     "output_type": "stream",
     "text": [
      "Epoch [58/300]:  76%|██████████████████████████████████████████▍             | 25/33 [00:00<00:00, 58.60it/s, loss=1.04]"
     ]
    },
    {
     "name": "stdout",
     "output_type": "stream",
     "text": [
      "26\n",
      "27\n",
      "28\n",
      "29\n"
     ]
    },
    {
     "name": "stderr",
     "output_type": "stream",
     "text": [
      "Epoch [58/300]:  94%|███████████████████████████████████████████████████▋   | 31/33 [00:00<00:00, 58.38it/s, loss=0.781]"
     ]
    },
    {
     "name": "stdout",
     "output_type": "stream",
     "text": [
      "30\n"
     ]
    },
    {
     "name": "stderr",
     "output_type": "stream",
     "text": [
      "Epoch [58/300]: 100%|███████████████████████████████████████████████████████| 33/33 [00:00<00:00, 59.10it/s, loss=0.692]"
     ]
    },
    {
     "name": "stdout",
     "output_type": "stream",
     "text": [
      "31\n",
      "32\n"
     ]
    },
    {
     "name": "stderr",
     "output_type": "stream",
     "text": [
      "\n",
      "\n",
      "Epoch [58/300]:   0%|                                                                  | 0/5 [00:00<?, ?it/s, loss=1.59]\u001b[A\n",
      "Epoch [58/300]:  20%|███████████▌                                              | 1/5 [00:00<00:02,  1.75it/s, loss=1.59]\u001b[A\n",
      "Epoch [58/300]:  20%|███████████▍                                             | 1/5 [00:00<00:02,  1.75it/s, loss=0.887]\u001b[A\n",
      "Epoch [58/300]:  20%|███████████▍                                             | 1/5 [00:00<00:02,  1.75it/s, loss=0.768]\u001b[A\n",
      "Epoch [58/300]:  20%|███████████▌                                              | 1/5 [00:00<00:02,  1.75it/s, loss=1.16]\u001b[A\n",
      "Epoch [58/300]: 100%|█████████████████████████████████████████████████████████| 5/5 [00:00<00:00,  7.97it/s, loss=0.137]\u001b[A\n"
     ]
    },
    {
     "name": "stdout",
     "output_type": "stream",
     "text": [
      "0\n",
      "1\n",
      "2\n",
      "3\n",
      "4\n",
      "model improved and saved\n",
      "\n",
      "Epoch 58: train loss: 0.8407708894122731 \n",
      "Epoch 58: valid loss: 0.9088266551494598 \n"
     ]
    },
    {
     "name": "stderr",
     "output_type": "stream",
     "text": [
      "  0%|                                                                                            | 0/33 [00:00<?, ?it/s]\n",
      "Epoch [59/300]:   0%|                                                                            | 0/33 [00:00<?, ?it/s]\u001b[A\n",
      "Epoch [59/300]:   0%|                                                                | 0/33 [00:00<?, ?it/s, loss=0.623]\u001b[A"
     ]
    },
    {
     "name": "stdout",
     "output_type": "stream",
     "text": [
      "0\n"
     ]
    },
    {
     "name": "stderr",
     "output_type": "stream",
     "text": [
      "Epoch [59/300]:   0%|                                                                | 0/33 [00:00<?, ?it/s, loss=0.714]"
     ]
    },
    {
     "name": "stdout",
     "output_type": "stream",
     "text": [
      "1\n",
      "2\n",
      "3\n"
     ]
    },
    {
     "name": "stderr",
     "output_type": "stream",
     "text": [
      "Epoch [59/300]:  15%|████████▍                                               | 5/33 [00:00<00:00, 49.60it/s, loss=0.736]"
     ]
    },
    {
     "name": "stdout",
     "output_type": "stream",
     "text": [
      "4\n"
     ]
    },
    {
     "name": "stderr",
     "output_type": "stream",
     "text": [
      "\r",
      "Epoch [59/300]:  15%|████████▊                                                 | 5/33 [00:00<00:00, 49.60it/s, loss=0.7]"
     ]
    },
    {
     "name": "stdout",
     "output_type": "stream",
     "text": [
      "5\n"
     ]
    },
    {
     "name": "stderr",
     "output_type": "stream",
     "text": [
      "Epoch [59/300]:  30%|████████████████▉                                       | 10/33 [00:00<00:00, 49.62it/s, loss=1.04]"
     ]
    },
    {
     "name": "stdout",
     "output_type": "stream",
     "text": [
      "6\n",
      "7\n",
      "8\n",
      "9\n",
      "10\n"
     ]
    },
    {
     "name": "stderr",
     "output_type": "stream",
     "text": [
      "\r",
      "Epoch [59/300]:  30%|████████████████▉                                       | 10/33 [00:00<00:00, 49.62it/s, loss=1.21]"
     ]
    },
    {
     "name": "stdout",
     "output_type": "stream",
     "text": [
      "11\n"
     ]
    },
    {
     "name": "stderr",
     "output_type": "stream",
     "text": [
      "Epoch [59/300]:  30%|████████████████▋                                      | 10/33 [00:00<00:00, 49.62it/s, loss=0.759]"
     ]
    },
    {
     "name": "stdout",
     "output_type": "stream",
     "text": [
      "12\n",
      "13\n",
      "14\n"
     ]
    },
    {
     "name": "stderr",
     "output_type": "stream",
     "text": [
      "Epoch [59/300]:  48%|██████████████████████████▋                            | 16/33 [00:00<00:00, 52.00it/s, loss=0.682]"
     ]
    },
    {
     "name": "stdout",
     "output_type": "stream",
     "text": [
      "15\n"
     ]
    },
    {
     "name": "stderr",
     "output_type": "stream",
     "text": [
      "Epoch [59/300]:  48%|███████████████████████████▏                            | 16/33 [00:00<00:00, 52.00it/s, loss=1.02]"
     ]
    },
    {
     "name": "stdout",
     "output_type": "stream",
     "text": [
      "16\n",
      "17\n"
     ]
    },
    {
     "name": "stderr",
     "output_type": "stream",
     "text": [
      "Epoch [59/300]:  70%|███████████████████████████████████████▋                 | 23/33 [00:00<00:00, 56.16it/s, loss=1.1]"
     ]
    },
    {
     "name": "stdout",
     "output_type": "stream",
     "text": [
      "18\n",
      "19\n",
      "20\n",
      "21\n",
      "22\n",
      "23\n"
     ]
    },
    {
     "name": "stderr",
     "output_type": "stream",
     "text": [
      "\r",
      "Epoch [59/300]:  70%|███████████████████████████████████████                 | 23/33 [00:00<00:00, 56.16it/s, loss=0.63]"
     ]
    },
    {
     "name": "stdout",
     "output_type": "stream",
     "text": [
      "24\n"
     ]
    },
    {
     "name": "stderr",
     "output_type": "stream",
     "text": [
      "Epoch [59/300]:  70%|██████████████████████████████████████▎                | 23/33 [00:00<00:00, 56.16it/s, loss=0.601]"
     ]
    },
    {
     "name": "stdout",
     "output_type": "stream",
     "text": [
      "25\n",
      "26\n",
      "27\n",
      "28\n"
     ]
    },
    {
     "name": "stderr",
     "output_type": "stream",
     "text": [
      "Epoch [59/300]:  91%|██████████████████████████████████████████████████▉     | 30/33 [00:00<00:00, 60.17it/s, loss=0.63]"
     ]
    },
    {
     "name": "stdout",
     "output_type": "stream",
     "text": [
      "29\n"
     ]
    },
    {
     "name": "stderr",
     "output_type": "stream",
     "text": [
      "Epoch [59/300]: 100%|███████████████████████████████████████████████████████| 33/33 [00:00<00:00, 58.41it/s, loss=0.589]"
     ]
    },
    {
     "name": "stdout",
     "output_type": "stream",
     "text": [
      "30\n",
      "31\n",
      "32\n"
     ]
    },
    {
     "name": "stderr",
     "output_type": "stream",
     "text": [
      "\n",
      "\n",
      "Epoch [59/300]:   0%|                                                                  | 0/5 [00:00<?, ?it/s, loss=1.59]\u001b[A\n",
      "Epoch [59/300]:  20%|███████████▌                                              | 1/5 [00:00<00:02,  1.73it/s, loss=1.59]\u001b[A\n",
      "Epoch [59/300]:  20%|███████████▍                                             | 1/5 [00:00<00:02,  1.73it/s, loss=0.886]\u001b[A\n",
      "Epoch [59/300]:  20%|███████████▍                                             | 1/5 [00:00<00:02,  1.73it/s, loss=0.768]\u001b[A\n",
      "Epoch [59/300]:  20%|███████████▌                                              | 1/5 [00:00<00:02,  1.73it/s, loss=1.16]\u001b[A\n",
      "Epoch [59/300]: 100%|█████████████████████████████████████████████████████████| 5/5 [00:00<00:00,  7.86it/s, loss=0.137]\u001b[A\n"
     ]
    },
    {
     "name": "stdout",
     "output_type": "stream",
     "text": [
      "0\n",
      "1\n",
      "2\n",
      "3\n",
      "4\n",
      "model improved and saved\n",
      "\n",
      "Epoch 59: train loss: 0.8440834645069006 \n",
      "Epoch 59: valid loss: 0.9086711287498475 \n"
     ]
    },
    {
     "name": "stderr",
     "output_type": "stream",
     "text": [
      "  0%|                                                                                            | 0/33 [00:00<?, ?it/s]\n",
      "Epoch [60/300]:   0%|                                                                            | 0/33 [00:00<?, ?it/s]\u001b[A\n",
      "Epoch [60/300]:   0%|                                                                    | 0/33 [00:00<?, ?it/s, loss=1]\u001b[A"
     ]
    },
    {
     "name": "stdout",
     "output_type": "stream",
     "text": [
      "0\n",
      "1\n",
      "2\n"
     ]
    },
    {
     "name": "stderr",
     "output_type": "stream",
     "text": [
      "Epoch [60/300]:   0%|                                                                | 0/33 [00:00<?, ?it/s, loss=0.879]"
     ]
    },
    {
     "name": "stdout",
     "output_type": "stream",
     "text": [
      "3\n",
      "4\n"
     ]
    },
    {
     "name": "stderr",
     "output_type": "stream",
     "text": [
      "Epoch [60/300]:  18%|██████████▎                                              | 6/33 [00:00<00:00, 52.66it/s, loss=0.94]"
     ]
    },
    {
     "name": "stdout",
     "output_type": "stream",
     "text": [
      "5\n",
      "6\n"
     ]
    },
    {
     "name": "stderr",
     "output_type": "stream",
     "text": [
      "Epoch [60/300]:  36%|████████████████████                                   | 12/33 [00:00<00:00, 55.26it/s, loss=0.814]"
     ]
    },
    {
     "name": "stdout",
     "output_type": "stream",
     "text": [
      "7\n",
      "8\n",
      "9\n",
      "10\n",
      "11\n"
     ]
    },
    {
     "name": "stderr",
     "output_type": "stream",
     "text": [
      "Epoch [60/300]:  36%|████████████████████                                   | 12/33 [00:00<00:00, 55.26it/s, loss=0.862]"
     ]
    },
    {
     "name": "stdout",
     "output_type": "stream",
     "text": [
      "12\n",
      "13\n",
      "14\n"
     ]
    },
    {
     "name": "stderr",
     "output_type": "stream",
     "text": [
      "Epoch [60/300]:  36%|████████████████████                                   | 12/33 [00:00<00:00, 55.26it/s, loss=0.906]"
     ]
    },
    {
     "name": "stdout",
     "output_type": "stream",
     "text": [
      "15\n",
      "16\n"
     ]
    },
    {
     "name": "stderr",
     "output_type": "stream",
     "text": [
      "Epoch [60/300]:  55%|██████████████████████████████▌                         | 18/33 [00:00<00:00, 56.58it/s, loss=1.04]"
     ]
    },
    {
     "name": "stdout",
     "output_type": "stream",
     "text": [
      "17\n",
      "18\n"
     ]
    },
    {
     "name": "stderr",
     "output_type": "stream",
     "text": [
      "Epoch [60/300]:  76%|█████████████████████████████████████████▋             | 25/33 [00:00<00:00, 60.82it/s, loss=0.583]"
     ]
    },
    {
     "name": "stdout",
     "output_type": "stream",
     "text": [
      "19\n",
      "20\n",
      "21\n",
      "22\n",
      "23\n",
      "24\n"
     ]
    },
    {
     "name": "stderr",
     "output_type": "stream",
     "text": [
      "Epoch [60/300]:  76%|██████████████████████████████████████████▍             | 25/33 [00:00<00:00, 60.82it/s, loss=1.05]"
     ]
    },
    {
     "name": "stdout",
     "output_type": "stream",
     "text": [
      "25\n",
      "26\n",
      "27\n",
      "28\n"
     ]
    },
    {
     "name": "stderr",
     "output_type": "stream",
     "text": [
      "Epoch [60/300]:  76%|█████████████████████████████████████████▋             | 25/33 [00:00<00:00, 60.82it/s, loss=0.884]"
     ]
    },
    {
     "name": "stdout",
     "output_type": "stream",
     "text": [
      "29\n",
      "30\n"
     ]
    },
    {
     "name": "stderr",
     "output_type": "stream",
     "text": [
      "Epoch [60/300]: 100%|████████████████████████████████████████████████████████| 33/33 [00:00<00:00, 61.25it/s, loss=1.34]\n",
      "\n",
      "Epoch [60/300]:   0%|                                                                  | 0/5 [00:00<?, ?it/s, loss=1.59]\u001b[A\n",
      "Epoch [60/300]:  20%|███████████▌                                              | 1/5 [00:00<00:02,  1.83it/s, loss=1.59]"
     ]
    },
    {
     "name": "stdout",
     "output_type": "stream",
     "text": [
      "31\n",
      "32\n",
      "0\n"
     ]
    },
    {
     "name": "stderr",
     "output_type": "stream",
     "text": [
      "\u001b[A\n",
      "Epoch [60/300]:  20%|███████████▍                                             | 1/5 [00:00<00:02,  1.83it/s, loss=0.887]\u001b[A\n",
      "Epoch [60/300]:  20%|███████████▍                                             | 1/5 [00:00<00:02,  1.83it/s, loss=0.768]\u001b[A\n",
      "Epoch [60/300]:  20%|███████████▌                                              | 1/5 [00:00<00:02,  1.83it/s, loss=1.16]\u001b[A\n",
      "Epoch [60/300]: 100%|█████████████████████████████████████████████████████████| 5/5 [00:00<00:00,  8.20it/s, loss=0.137]\u001b[A\n"
     ]
    },
    {
     "name": "stdout",
     "output_type": "stream",
     "text": [
      "1\n",
      "2\n",
      "3\n",
      "4\n",
      "model improved and saved\n",
      "\n",
      "Epoch 60: train loss: 0.8548610418131857 \n",
      "Epoch 60: valid loss: 0.9087044537067414 \n"
     ]
    },
    {
     "name": "stderr",
     "output_type": "stream",
     "text": [
      "  0%|                                                                                            | 0/33 [00:00<?, ?it/s]\n",
      "Epoch [61/300]:   0%|                                                                            | 0/33 [00:00<?, ?it/s]\u001b[A\n",
      "Epoch [61/300]:   0%|                                                                | 0/33 [00:00<?, ?it/s, loss=0.894]\u001b[A"
     ]
    },
    {
     "name": "stdout",
     "output_type": "stream",
     "text": [
      "0\n",
      "1\n",
      "2\n",
      "3\n"
     ]
    },
    {
     "name": "stderr",
     "output_type": "stream",
     "text": [
      "Epoch [61/300]:  18%|██████████▎                                              | 6/33 [00:00<00:00, 56.03it/s, loss=1.41]"
     ]
    },
    {
     "name": "stdout",
     "output_type": "stream",
     "text": [
      "4\n",
      "5\n"
     ]
    },
    {
     "name": "stderr",
     "output_type": "stream",
     "text": [
      "Epoch [61/300]:  18%|██████████▏                                             | 6/33 [00:00<00:00, 56.03it/s, loss=0.772]"
     ]
    },
    {
     "name": "stdout",
     "output_type": "stream",
     "text": [
      "6\n",
      "7\n"
     ]
    },
    {
     "name": "stderr",
     "output_type": "stream",
     "text": [
      "Epoch [61/300]:  36%|████████████████████                                   | 12/33 [00:00<00:00, 57.14it/s, loss=0.869]"
     ]
    },
    {
     "name": "stdout",
     "output_type": "stream",
     "text": [
      "8\n",
      "9\n",
      "10\n",
      "11\n",
      "12\n"
     ]
    },
    {
     "name": "stderr",
     "output_type": "stream",
     "text": [
      "Epoch [61/300]:  36%|████████████████████                                   | 12/33 [00:00<00:00, 57.14it/s, loss=0.687]"
     ]
    },
    {
     "name": "stdout",
     "output_type": "stream",
     "text": [
      "13\n",
      "14\n",
      "15\n",
      "16\n"
     ]
    },
    {
     "name": "stderr",
     "output_type": "stream",
     "text": [
      "Epoch [61/300]:  61%|█████████████████████████████████▎                     | 20/33 [00:00<00:00, 63.85it/s, loss=0.782]"
     ]
    },
    {
     "name": "stdout",
     "output_type": "stream",
     "text": [
      "17\n",
      "18\n",
      "19\n"
     ]
    },
    {
     "name": "stderr",
     "output_type": "stream",
     "text": [
      "Epoch [61/300]:  61%|█████████████████████████████████▎                     | 20/33 [00:00<00:00, 63.85it/s, loss=0.836]"
     ]
    },
    {
     "name": "stdout",
     "output_type": "stream",
     "text": [
      "20\n",
      "21\n"
     ]
    },
    {
     "name": "stderr",
     "output_type": "stream",
     "text": [
      "Epoch [61/300]:  82%|█████████████████████████████████████████████▊          | 27/33 [00:00<00:00, 65.67it/s, loss=1.23]"
     ]
    },
    {
     "name": "stdout",
     "output_type": "stream",
     "text": [
      "22\n",
      "23\n",
      "24\n",
      "25\n",
      "26\n"
     ]
    },
    {
     "name": "stderr",
     "output_type": "stream",
     "text": [
      "Epoch [61/300]:  82%|█████████████████████████████████████████████          | 27/33 [00:00<00:00, 65.67it/s, loss=0.425]"
     ]
    },
    {
     "name": "stdout",
     "output_type": "stream",
     "text": [
      "27\n",
      "28\n",
      "29\n",
      "30\n"
     ]
    },
    {
     "name": "stderr",
     "output_type": "stream",
     "text": [
      "Epoch [61/300]: 100%|████████████████████████████████████████████████████████| 33/33 [00:00<00:00, 64.13it/s, loss=1.15]\n",
      "\n",
      "Epoch [61/300]:   0%|                                                                  | 0/5 [00:00<?, ?it/s, loss=1.59]\u001b[A\n",
      "Epoch [61/300]:  20%|███████████▌                                              | 1/5 [00:00<00:02,  1.90it/s, loss=1.59]\u001b[A"
     ]
    },
    {
     "name": "stdout",
     "output_type": "stream",
     "text": [
      "31\n",
      "32\n",
      "0\n"
     ]
    },
    {
     "name": "stderr",
     "output_type": "stream",
     "text": [
      "\n",
      "Epoch [61/300]:  20%|███████████▍                                             | 1/5 [00:00<00:02,  1.90it/s, loss=0.887]\u001b[A\n"
     ]
    },
    {
     "name": "stdout",
     "output_type": "stream",
     "text": [
      "1\n",
      "2\n"
     ]
    },
    {
     "name": "stderr",
     "output_type": "stream",
     "text": [
      "Epoch [61/300]:  20%|███████████▍                                             | 1/5 [00:00<00:02,  1.90it/s, loss=0.768]\u001b[A\n",
      "Epoch [61/300]:  20%|███████████▌                                              | 1/5 [00:00<00:02,  1.90it/s, loss=1.16]\u001b[A\n",
      "Epoch [61/300]: 100%|█████████████████████████████████████████████████████████| 5/5 [00:00<00:00,  8.48it/s, loss=0.136]\u001b[A\n"
     ]
    },
    {
     "name": "stdout",
     "output_type": "stream",
     "text": [
      "3\n",
      "4\n",
      "model improved and saved\n",
      "\n",
      "Epoch 61: train loss: 0.8491845031579336 \n",
      "Epoch 61: valid loss: 0.9087502717971802 \n"
     ]
    },
    {
     "name": "stderr",
     "output_type": "stream",
     "text": [
      "  0%|                                                                                            | 0/33 [00:00<?, ?it/s]\n",
      "Epoch [62/300]:   0%|                                                                            | 0/33 [00:00<?, ?it/s]\u001b[A\n",
      "Epoch [62/300]:   0%|                                                                 | 0/33 [00:00<?, ?it/s, loss=0.83]\u001b[A"
     ]
    },
    {
     "name": "stdout",
     "output_type": "stream",
     "text": [
      "0\n"
     ]
    },
    {
     "name": "stderr",
     "output_type": "stream",
     "text": [
      "Epoch [62/300]:   0%|                                                                | 0/33 [00:00<?, ?it/s, loss=0.687]"
     ]
    },
    {
     "name": "stdout",
     "output_type": "stream",
     "text": [
      "1\n",
      "2\n",
      "3\n",
      "4\n"
     ]
    },
    {
     "name": "stderr",
     "output_type": "stream",
     "text": [
      "Epoch [62/300]:  15%|████████▍                                               | 5/33 [00:00<00:00, 47.46it/s, loss=0.885]"
     ]
    },
    {
     "name": "stdout",
     "output_type": "stream",
     "text": [
      "5\n",
      "6\n"
     ]
    },
    {
     "name": "stderr",
     "output_type": "stream",
     "text": [
      "Epoch [62/300]:  15%|████████▍                                               | 5/33 [00:00<00:00, 47.46it/s, loss=0.881]"
     ]
    },
    {
     "name": "stdout",
     "output_type": "stream",
     "text": [
      "7\n",
      "8\n"
     ]
    },
    {
     "name": "stderr",
     "output_type": "stream",
     "text": [
      "Epoch [62/300]:  33%|██████████████████▎                                    | 11/33 [00:00<00:00, 53.77it/s, loss=0.863]"
     ]
    },
    {
     "name": "stdout",
     "output_type": "stream",
     "text": [
      "9\n",
      "10\n",
      "11\n"
     ]
    },
    {
     "name": "stderr",
     "output_type": "stream",
     "text": [
      "Epoch [62/300]:  33%|██████████████████▋                                     | 11/33 [00:00<00:00, 53.77it/s, loss=0.68]"
     ]
    },
    {
     "name": "stdout",
     "output_type": "stream",
     "text": [
      "12\n",
      "13\n"
     ]
    },
    {
     "name": "stderr",
     "output_type": "stream",
     "text": [
      "Epoch [62/300]:  55%|██████████████████████████████▌                         | 18/33 [00:00<00:00, 60.16it/s, loss=1.24]"
     ]
    },
    {
     "name": "stdout",
     "output_type": "stream",
     "text": [
      "14\n",
      "15\n",
      "16\n",
      "17\n"
     ]
    },
    {
     "name": "stderr",
     "output_type": "stream",
     "text": [
      "Epoch [62/300]:  55%|█████████████████████████████▉                         | 18/33 [00:00<00:00, 60.16it/s, loss=0.857]"
     ]
    },
    {
     "name": "stdout",
     "output_type": "stream",
     "text": [
      "18\n",
      "19\n",
      "20\n"
     ]
    },
    {
     "name": "stderr",
     "output_type": "stream",
     "text": [
      "Epoch [62/300]:  55%|█████████████████████████████▉                         | 18/33 [00:00<00:00, 60.16it/s, loss=0.764]"
     ]
    },
    {
     "name": "stdout",
     "output_type": "stream",
     "text": [
      "21\n",
      "22\n"
     ]
    },
    {
     "name": "stderr",
     "output_type": "stream",
     "text": [
      "Epoch [62/300]:  76%|█████████████████████████████████████████▋             | 25/33 [00:00<00:00, 61.48it/s, loss=0.871]"
     ]
    },
    {
     "name": "stdout",
     "output_type": "stream",
     "text": [
      "23\n",
      "24\n",
      "25\n"
     ]
    },
    {
     "name": "stderr",
     "output_type": "stream",
     "text": [
      "Epoch [62/300]:  76%|██████████████████████████████████████████▍             | 25/33 [00:00<00:00, 61.48it/s, loss=1.02]"
     ]
    },
    {
     "name": "stdout",
     "output_type": "stream",
     "text": [
      "26\n",
      "27\n"
     ]
    },
    {
     "name": "stderr",
     "output_type": "stream",
     "text": [
      "Epoch [62/300]:  97%|█████████████████████████████████████████████████████▎ | 32/33 [00:00<00:00, 63.61it/s, loss=0.784]"
     ]
    },
    {
     "name": "stdout",
     "output_type": "stream",
     "text": [
      "28\n",
      "29\n",
      "30\n",
      "31\n"
     ]
    },
    {
     "name": "stderr",
     "output_type": "stream",
     "text": [
      "Epoch [62/300]: 100%|███████████████████████████████████████████████████████| 33/33 [00:00<00:00, 61.74it/s, loss=0.901]\n",
      "\n",
      "Epoch [62/300]:   0%|                                                                  | 0/5 [00:00<?, ?it/s, loss=1.59]\u001b[A\n",
      "Epoch [62/300]:  20%|███████████▌                                              | 1/5 [00:00<00:02,  1.83it/s, loss=1.59]\u001b[A\n",
      "Epoch [62/300]:  20%|███████████▍                                             | 1/5 [00:00<00:02,  1.83it/s, loss=0.887]"
     ]
    },
    {
     "name": "stdout",
     "output_type": "stream",
     "text": [
      "32\n",
      "0\n",
      "1\n"
     ]
    },
    {
     "name": "stderr",
     "output_type": "stream",
     "text": [
      "\u001b[A\n",
      "Epoch [62/300]:  20%|███████████▍                                             | 1/5 [00:00<00:02,  1.83it/s, loss=0.768]\u001b[A\n",
      "Epoch [62/300]:  20%|███████████▌                                              | 1/5 [00:00<00:02,  1.83it/s, loss=1.16]"
     ]
    },
    {
     "name": "stdout",
     "output_type": "stream",
     "text": [
      "2\n",
      "3\n"
     ]
    },
    {
     "name": "stderr",
     "output_type": "stream",
     "text": [
      "\u001b[A\n",
      "Epoch [62/300]: 100%|█████████████████████████████████████████████████████████| 5/5 [00:00<00:00,  8.21it/s, loss=0.136]\u001b[A\n"
     ]
    },
    {
     "name": "stdout",
     "output_type": "stream",
     "text": [
      "4\n",
      "model improved and saved\n",
      "\n",
      "Epoch 62: train loss: 0.8423201495950873 \n",
      "Epoch 62: valid loss: 0.9088927119970321 \n"
     ]
    },
    {
     "name": "stderr",
     "output_type": "stream",
     "text": [
      "  0%|                                                                                            | 0/33 [00:00<?, ?it/s]\n",
      "Epoch [63/300]:   0%|                                                                            | 0/33 [00:00<?, ?it/s]\u001b[A\n",
      "Epoch [63/300]:   0%|                                                                | 0/33 [00:00<?, ?it/s, loss=0.615]\u001b[A"
     ]
    },
    {
     "name": "stdout",
     "output_type": "stream",
     "text": [
      "0\n"
     ]
    },
    {
     "name": "stderr",
     "output_type": "stream",
     "text": [
      "\r",
      "Epoch [63/300]:   0%|                                                                | 0/33 [00:00<?, ?it/s, loss=0.746]"
     ]
    },
    {
     "name": "stdout",
     "output_type": "stream",
     "text": [
      "1\n"
     ]
    },
    {
     "name": "stderr",
     "output_type": "stream",
     "text": [
      "Epoch [63/300]:   0%|                                                                | 0/33 [00:00<?, ?it/s, loss=0.805]"
     ]
    },
    {
     "name": "stdout",
     "output_type": "stream",
     "text": [
      "2\n",
      "3\n",
      "4\n"
     ]
    },
    {
     "name": "stderr",
     "output_type": "stream",
     "text": [
      "Epoch [63/300]:  18%|██████████▏                                             | 6/33 [00:00<00:00, 51.40it/s, loss=0.926]"
     ]
    },
    {
     "name": "stdout",
     "output_type": "stream",
     "text": [
      "5\n",
      "6\n",
      "7\n",
      "8\n"
     ]
    },
    {
     "name": "stderr",
     "output_type": "stream",
     "text": [
      "\r",
      "Epoch [63/300]:  18%|██████████▌                                               | 6/33 [00:00<00:00, 51.40it/s, loss=1.1]"
     ]
    },
    {
     "name": "stdout",
     "output_type": "stream",
     "text": [
      "9\n"
     ]
    },
    {
     "name": "stderr",
     "output_type": "stream",
     "text": [
      "Epoch [63/300]:  36%|████████████████████▎                                   | 12/33 [00:00<00:00, 54.17it/s, loss=1.01]"
     ]
    },
    {
     "name": "stdout",
     "output_type": "stream",
     "text": [
      "10\n",
      "11\n"
     ]
    },
    {
     "name": "stderr",
     "output_type": "stream",
     "text": [
      "\r",
      "Epoch [63/300]:  36%|████████████████████▎                                   | 12/33 [00:00<00:00, 54.17it/s, loss=0.66]"
     ]
    },
    {
     "name": "stdout",
     "output_type": "stream",
     "text": [
      "12\n"
     ]
    },
    {
     "name": "stderr",
     "output_type": "stream",
     "text": [
      "\r",
      "Epoch [63/300]:  36%|████████████████████▎                                   | 12/33 [00:00<00:00, 54.17it/s, loss=0.65]"
     ]
    },
    {
     "name": "stdout",
     "output_type": "stream",
     "text": [
      "13\n"
     ]
    },
    {
     "name": "stderr",
     "output_type": "stream",
     "text": [
      "Epoch [63/300]:  36%|████████████████████                                   | 12/33 [00:00<00:00, 54.17it/s, loss=0.759]"
     ]
    },
    {
     "name": "stdout",
     "output_type": "stream",
     "text": [
      "14\n",
      "15\n",
      "16\n"
     ]
    },
    {
     "name": "stderr",
     "output_type": "stream",
     "text": [
      "Epoch [63/300]:  55%|█████████████████████████████▉                         | 18/33 [00:00<00:00, 56.65it/s, loss=0.945]"
     ]
    },
    {
     "name": "stdout",
     "output_type": "stream",
     "text": [
      "17\n",
      "18\n",
      "19\n",
      "20\n"
     ]
    },
    {
     "name": "stderr",
     "output_type": "stream",
     "text": [
      "Epoch [63/300]:  73%|████████████████████████████████████████▋               | 24/33 [00:00<00:00, 54.50it/s, loss=1.03]"
     ]
    },
    {
     "name": "stdout",
     "output_type": "stream",
     "text": [
      "21\n",
      "22\n",
      "23\n"
     ]
    },
    {
     "name": "stderr",
     "output_type": "stream",
     "text": [
      "\r",
      "Epoch [63/300]:  73%|████████████████████████████████████████               | 24/33 [00:00<00:00, 54.50it/s, loss=0.776]"
     ]
    },
    {
     "name": "stdout",
     "output_type": "stream",
     "text": [
      "24\n"
     ]
    },
    {
     "name": "stderr",
     "output_type": "stream",
     "text": [
      "\r",
      "Epoch [63/300]:  73%|████████████████████████████████████████               | 24/33 [00:00<00:00, 54.50it/s, loss=0.808]"
     ]
    },
    {
     "name": "stdout",
     "output_type": "stream",
     "text": [
      "25\n"
     ]
    },
    {
     "name": "stderr",
     "output_type": "stream",
     "text": [
      "Epoch [63/300]:  73%|████████████████████████████████████████               | 24/33 [00:00<00:00, 54.50it/s, loss=0.959]"
     ]
    },
    {
     "name": "stdout",
     "output_type": "stream",
     "text": [
      "26\n",
      "27\n"
     ]
    },
    {
     "name": "stderr",
     "output_type": "stream",
     "text": [
      "Epoch [63/300]: 100%|████████████████████████████████████████████████████████| 33/33 [00:00<00:00, 55.88it/s, loss=1.02]\n",
      "\n",
      "Epoch [63/300]:   0%|                                                                  | 0/5 [00:00<?, ?it/s, loss=1.59]\u001b[A\n",
      "Epoch [63/300]:  20%|███████████▌                                              | 1/5 [00:00<00:02,  1.67it/s, loss=1.59]\u001b[A"
     ]
    },
    {
     "name": "stdout",
     "output_type": "stream",
     "text": [
      "28\n",
      "29\n",
      "30\n",
      "31\n",
      "32\n",
      "0\n"
     ]
    },
    {
     "name": "stderr",
     "output_type": "stream",
     "text": [
      "\n",
      "Epoch [63/300]:  20%|███████████▍                                             | 1/5 [00:00<00:02,  1.67it/s, loss=0.887]\u001b[A\n",
      "Epoch [63/300]:  20%|███████████▍                                             | 1/5 [00:00<00:02,  1.67it/s, loss=0.768]\u001b[A\n",
      "Epoch [63/300]:  20%|███████████▌                                              | 1/5 [00:00<00:02,  1.67it/s, loss=1.16]\u001b[A\n"
     ]
    },
    {
     "name": "stdout",
     "output_type": "stream",
     "text": [
      "1\n",
      "2\n",
      "3\n",
      "4\n"
     ]
    },
    {
     "name": "stderr",
     "output_type": "stream",
     "text": [
      "Epoch [63/300]: 100%|█████████████████████████████████████████████████████████| 5/5 [00:00<00:00,  7.62it/s, loss=0.136]\u001b[A\n"
     ]
    },
    {
     "name": "stdout",
     "output_type": "stream",
     "text": [
      "model improved and saved\n",
      "\n",
      "Epoch 63: train loss: 0.847594293681058 \n",
      "Epoch 63: valid loss: 0.9086124867200851 \n"
     ]
    },
    {
     "name": "stderr",
     "output_type": "stream",
     "text": [
      "  0%|                                                                                            | 0/33 [00:00<?, ?it/s]\n",
      "Epoch [64/300]:   0%|                                                                            | 0/33 [00:00<?, ?it/s]\u001b[A\n",
      "Epoch [64/300]:   0%|                                                                 | 0/33 [00:00<?, ?it/s, loss=1.08]\u001b[A"
     ]
    },
    {
     "name": "stdout",
     "output_type": "stream",
     "text": [
      "0\n",
      "1\n",
      "2\n"
     ]
    },
    {
     "name": "stderr",
     "output_type": "stream",
     "text": [
      "Epoch [64/300]:  21%|███████████▉                                            | 7/33 [00:00<00:00, 62.15it/s, loss=0.755]"
     ]
    },
    {
     "name": "stdout",
     "output_type": "stream",
     "text": [
      "3\n",
      "4\n",
      "5\n",
      "6\n",
      "7\n",
      "8\n"
     ]
    },
    {
     "name": "stderr",
     "output_type": "stream",
     "text": [
      "Epoch [64/300]:  21%|███████████▉                                            | 7/33 [00:00<00:00, 62.15it/s, loss=0.514]"
     ]
    },
    {
     "name": "stdout",
     "output_type": "stream",
     "text": [
      "9\n",
      "10\n",
      "11\n"
     ]
    },
    {
     "name": "stderr",
     "output_type": "stream",
     "text": [
      "Epoch [64/300]:  42%|███████████████████████▎                               | 14/33 [00:00<00:00, 64.58it/s, loss=0.883]"
     ]
    },
    {
     "name": "stdout",
     "output_type": "stream",
     "text": [
      "12\n",
      "13\n"
     ]
    },
    {
     "name": "stderr",
     "output_type": "stream",
     "text": [
      "Epoch [64/300]:  42%|███████████████████████▎                               | 14/33 [00:00<00:00, 64.58it/s, loss=0.963]"
     ]
    },
    {
     "name": "stdout",
     "output_type": "stream",
     "text": [
      "14\n",
      "15\n",
      "16\n"
     ]
    },
    {
     "name": "stderr",
     "output_type": "stream",
     "text": [
      "\r",
      "Epoch [64/300]:  42%|███████████████████████▊                                | 14/33 [00:00<00:00, 64.58it/s, loss=1.22]"
     ]
    },
    {
     "name": "stdout",
     "output_type": "stream",
     "text": [
      "17\n"
     ]
    },
    {
     "name": "stderr",
     "output_type": "stream",
     "text": [
      "Epoch [64/300]:  42%|███████████████████████▊                                | 14/33 [00:00<00:00, 64.58it/s, loss=1.12]"
     ]
    },
    {
     "name": "stdout",
     "output_type": "stream",
     "text": [
      "18\n",
      "19\n"
     ]
    },
    {
     "name": "stderr",
     "output_type": "stream",
     "text": [
      "Epoch [64/300]:  64%|███████████████████████████████████                    | 21/33 [00:00<00:00, 47.68it/s, loss=0.701]"
     ]
    },
    {
     "name": "stdout",
     "output_type": "stream",
     "text": [
      "20\n"
     ]
    },
    {
     "name": "stderr",
     "output_type": "stream",
     "text": [
      "Epoch [64/300]:  64%|███████████████████████████████████▋                    | 21/33 [00:00<00:00, 47.68it/s, loss=1.17]"
     ]
    },
    {
     "name": "stdout",
     "output_type": "stream",
     "text": [
      "21\n",
      "22\n",
      "23\n"
     ]
    },
    {
     "name": "stderr",
     "output_type": "stream",
     "text": [
      "Epoch [64/300]:  82%|█████████████████████████████████████████████          | 27/33 [00:00<00:00, 49.07it/s, loss=0.721]"
     ]
    },
    {
     "name": "stdout",
     "output_type": "stream",
     "text": [
      "24\n",
      "25\n",
      "26\n",
      "27\n",
      "28\n",
      "29\n"
     ]
    },
    {
     "name": "stderr",
     "output_type": "stream",
     "text": [
      "Epoch [64/300]: 100%|████████████████████████████████████████████████████████| 33/33 [00:00<00:00, 54.21it/s, loss=1.13]"
     ]
    },
    {
     "name": "stdout",
     "output_type": "stream",
     "text": [
      "30\n",
      "31\n",
      "32\n"
     ]
    },
    {
     "name": "stderr",
     "output_type": "stream",
     "text": [
      "\n",
      "\n",
      "Epoch [64/300]:   0%|                                                                  | 0/5 [00:00<?, ?it/s, loss=1.59]\u001b[A\n",
      "Epoch [64/300]:  20%|███████████▌                                              | 1/5 [00:00<00:02,  1.61it/s, loss=1.59]\u001b[A\n"
     ]
    },
    {
     "name": "stdout",
     "output_type": "stream",
     "text": [
      "0\n",
      "1\n"
     ]
    },
    {
     "name": "stderr",
     "output_type": "stream",
     "text": [
      "Epoch [64/300]:  20%|███████████▍                                             | 1/5 [00:00<00:02,  1.61it/s, loss=0.887]\u001b[A\n",
      "Epoch [64/300]:  20%|███████████▍                                             | 1/5 [00:00<00:02,  1.61it/s, loss=0.768]\u001b[A\n",
      "Epoch [64/300]:  20%|███████████▌                                              | 1/5 [00:00<00:02,  1.61it/s, loss=1.16]\u001b[A\n",
      "Epoch [64/300]: 100%|█████████████████████████████████████████████████████████| 5/5 [00:00<00:00,  7.33it/s, loss=0.136]\u001b[A\n"
     ]
    },
    {
     "name": "stdout",
     "output_type": "stream",
     "text": [
      "2\n",
      "3\n",
      "4\n",
      "model improved and saved\n",
      "\n",
      "Epoch 64: train loss: 0.851900041103363 \n",
      "Epoch 64: valid loss: 0.9086622595787048 \n"
     ]
    },
    {
     "name": "stderr",
     "output_type": "stream",
     "text": [
      "  0%|                                                                                            | 0/33 [00:00<?, ?it/s]\n",
      "Epoch [65/300]:   0%|                                                                            | 0/33 [00:00<?, ?it/s]\u001b[A\n",
      "Epoch [65/300]:   0%|                                                                | 0/33 [00:00<?, ?it/s, loss=0.971]\u001b[A"
     ]
    },
    {
     "name": "stdout",
     "output_type": "stream",
     "text": [
      "0\n",
      "1\n",
      "2\n",
      "3\n"
     ]
    },
    {
     "name": "stderr",
     "output_type": "stream",
     "text": [
      "Epoch [65/300]:  18%|██████████▏                                             | 6/33 [00:00<00:00, 54.02it/s, loss=0.782]"
     ]
    },
    {
     "name": "stdout",
     "output_type": "stream",
     "text": [
      "4\n",
      "5\n",
      "6\n"
     ]
    },
    {
     "name": "stderr",
     "output_type": "stream",
     "text": [
      "Epoch [65/300]:  18%|██████████▏                                             | 6/33 [00:00<00:00, 54.02it/s, loss=0.846]"
     ]
    },
    {
     "name": "stdout",
     "output_type": "stream",
     "text": [
      "7\n",
      "8\n"
     ]
    },
    {
     "name": "stderr",
     "output_type": "stream",
     "text": [
      "Epoch [65/300]:  39%|██████████████████████                                  | 13/33 [00:00<00:00, 59.33it/s, loss=1.27]"
     ]
    },
    {
     "name": "stdout",
     "output_type": "stream",
     "text": [
      "9\n",
      "10\n",
      "11\n",
      "12\n"
     ]
    },
    {
     "name": "stderr",
     "output_type": "stream",
     "text": [
      "Epoch [65/300]:  39%|█████████████████████▋                                 | 13/33 [00:00<00:00, 59.33it/s, loss=0.641]"
     ]
    },
    {
     "name": "stdout",
     "output_type": "stream",
     "text": [
      "13\n",
      "14\n",
      "15\n",
      "16\n",
      "17\n"
     ]
    },
    {
     "name": "stderr",
     "output_type": "stream",
     "text": [
      "Epoch [65/300]:  61%|█████████████████████████████████▉                      | 20/33 [00:00<00:00, 62.70it/s, loss=1.03]"
     ]
    },
    {
     "name": "stdout",
     "output_type": "stream",
     "text": [
      "18\n",
      "19\n"
     ]
    },
    {
     "name": "stderr",
     "output_type": "stream",
     "text": [
      "Epoch [65/300]:  61%|█████████████████████████████████▎                     | 20/33 [00:00<00:00, 62.70it/s, loss=0.754]"
     ]
    },
    {
     "name": "stdout",
     "output_type": "stream",
     "text": [
      "20\n",
      "21\n"
     ]
    },
    {
     "name": "stderr",
     "output_type": "stream",
     "text": [
      "Epoch [65/300]:  61%|█████████████████████████████████▎                     | 20/33 [00:00<00:00, 62.70it/s, loss=0.709]"
     ]
    },
    {
     "name": "stdout",
     "output_type": "stream",
     "text": [
      "22\n",
      "23\n",
      "24\n",
      "25\n"
     ]
    },
    {
     "name": "stderr",
     "output_type": "stream",
     "text": [
      "Epoch [65/300]:  82%|█████████████████████████████████████████████▊          | 27/33 [00:00<00:00, 61.14it/s, loss=0.79]"
     ]
    },
    {
     "name": "stdout",
     "output_type": "stream",
     "text": [
      "26\n",
      "27\n",
      "28\n",
      "29\n",
      "30\n"
     ]
    },
    {
     "name": "stderr",
     "output_type": "stream",
     "text": [
      "Epoch [65/300]: 100%|████████████████████████████████████████████████████████| 33/33 [00:00<00:00, 63.11it/s, loss=3.65]\n",
      "\n",
      "Epoch [65/300]:   0%|                                                                  | 0/5 [00:00<?, ?it/s, loss=1.59]\u001b[A\n",
      "Epoch [65/300]:  20%|███████████▌                                              | 1/5 [00:00<00:02,  1.88it/s, loss=1.59]\u001b[A"
     ]
    },
    {
     "name": "stdout",
     "output_type": "stream",
     "text": [
      "31\n",
      "32\n",
      "0\n"
     ]
    },
    {
     "name": "stderr",
     "output_type": "stream",
     "text": [
      "\n",
      "Epoch [65/300]:  20%|███████████▍                                             | 1/5 [00:00<00:02,  1.88it/s, loss=0.887]\u001b[A\n",
      "Epoch [65/300]:  20%|███████████▍                                             | 1/5 [00:00<00:02,  1.88it/s, loss=0.768]\u001b[A"
     ]
    },
    {
     "name": "stdout",
     "output_type": "stream",
     "text": [
      "1\n",
      "2\n"
     ]
    },
    {
     "name": "stderr",
     "output_type": "stream",
     "text": [
      "\n",
      "Epoch [65/300]:  20%|███████████▌                                              | 1/5 [00:00<00:02,  1.88it/s, loss=1.16]\u001b[A\n",
      "Epoch [65/300]: 100%|█████████████████████████████████████████████████████████| 5/5 [00:00<00:00,  8.52it/s, loss=0.136]\u001b[A\n"
     ]
    },
    {
     "name": "stdout",
     "output_type": "stream",
     "text": [
      "3\n",
      "4\n",
      "model improved and saved\n",
      "\n",
      "Epoch 65: train loss: 0.9159833138639276 \n",
      "Epoch 65: valid loss: 0.9087252289056778 \n"
     ]
    },
    {
     "name": "stderr",
     "output_type": "stream",
     "text": [
      "  0%|                                                                                            | 0/33 [00:00<?, ?it/s]\n",
      "Epoch [66/300]:   0%|                                                                            | 0/33 [00:00<?, ?it/s]\u001b[A\n",
      "Epoch [66/300]:   0%|                                                                | 0/33 [00:00<?, ?it/s, loss=0.836]\u001b[A"
     ]
    },
    {
     "name": "stdout",
     "output_type": "stream",
     "text": [
      "0\n"
     ]
    },
    {
     "name": "stderr",
     "output_type": "stream",
     "text": [
      "Epoch [66/300]:  18%|██████████▎                                              | 6/33 [00:00<00:00, 58.65it/s, loss=1.15]"
     ]
    },
    {
     "name": "stdout",
     "output_type": "stream",
     "text": [
      "1\n",
      "2\n",
      "3\n",
      "4\n",
      "5\n"
     ]
    },
    {
     "name": "stderr",
     "output_type": "stream",
     "text": [
      "Epoch [66/300]:  18%|██████████▎                                              | 6/33 [00:00<00:00, 58.65it/s, loss=1.02]"
     ]
    },
    {
     "name": "stdout",
     "output_type": "stream",
     "text": [
      "6\n",
      "7\n",
      "8\n"
     ]
    },
    {
     "name": "stderr",
     "output_type": "stream",
     "text": [
      "Epoch [66/300]:  18%|██████████▏                                             | 6/33 [00:00<00:00, 58.65it/s, loss=0.711]"
     ]
    },
    {
     "name": "stdout",
     "output_type": "stream",
     "text": [
      "9\n",
      "10\n"
     ]
    },
    {
     "name": "stderr",
     "output_type": "stream",
     "text": [
      "Epoch [66/300]:  39%|█████████████████████▋                                 | 13/33 [00:00<00:00, 63.23it/s, loss=0.908]"
     ]
    },
    {
     "name": "stdout",
     "output_type": "stream",
     "text": [
      "11\n",
      "12\n"
     ]
    },
    {
     "name": "stderr",
     "output_type": "stream",
     "text": [
      "\r",
      "Epoch [66/300]:  39%|█████████████████████▋                                 | 13/33 [00:00<00:00, 63.23it/s, loss=0.739]"
     ]
    },
    {
     "name": "stdout",
     "output_type": "stream",
     "text": [
      "13\n"
     ]
    },
    {
     "name": "stderr",
     "output_type": "stream",
     "text": [
      "Epoch [66/300]:  39%|█████████████████████▋                                 | 13/33 [00:00<00:00, 63.23it/s, loss=0.879]"
     ]
    },
    {
     "name": "stdout",
     "output_type": "stream",
     "text": [
      "14\n",
      "15\n",
      "16\n",
      "17\n",
      "18\n"
     ]
    },
    {
     "name": "stderr",
     "output_type": "stream",
     "text": [
      "Epoch [66/300]:  61%|█████████████████████████████████▎                     | 20/33 [00:00<00:00, 58.89it/s, loss=0.984]"
     ]
    },
    {
     "name": "stdout",
     "output_type": "stream",
     "text": [
      "19\n",
      "20\n",
      "21\n"
     ]
    },
    {
     "name": "stderr",
     "output_type": "stream",
     "text": [
      "Epoch [66/300]:  61%|█████████████████████████████████▎                     | 20/33 [00:00<00:00, 58.89it/s, loss=0.915]"
     ]
    },
    {
     "name": "stdout",
     "output_type": "stream",
     "text": [
      "22\n"
     ]
    },
    {
     "name": "stderr",
     "output_type": "stream",
     "text": [
      "Epoch [66/300]:  61%|█████████████████████████████████▎                     | 20/33 [00:00<00:00, 58.89it/s, loss=0.995]"
     ]
    },
    {
     "name": "stdout",
     "output_type": "stream",
     "text": [
      "23\n",
      "24\n"
     ]
    },
    {
     "name": "stderr",
     "output_type": "stream",
     "text": [
      "Epoch [66/300]:  82%|█████████████████████████████████████████████          | 27/33 [00:00<00:00, 59.95it/s, loss=0.834]"
     ]
    },
    {
     "name": "stdout",
     "output_type": "stream",
     "text": [
      "25\n",
      "26\n"
     ]
    },
    {
     "name": "stderr",
     "output_type": "stream",
     "text": [
      "Epoch [66/300]:  82%|█████████████████████████████████████████████          | 27/33 [00:00<00:00, 59.95it/s, loss=0.823]"
     ]
    },
    {
     "name": "stdout",
     "output_type": "stream",
     "text": [
      "27\n",
      "28\n",
      "29\n",
      "30\n",
      "31\n"
     ]
    },
    {
     "name": "stderr",
     "output_type": "stream",
     "text": [
      "Epoch [66/300]: 100%|████████████████████████████████████████████████████████| 33/33 [00:00<00:00, 60.74it/s, loss=0.84]\n",
      "\n",
      "Epoch [66/300]:   0%|                                                                  | 0/5 [00:00<?, ?it/s, loss=1.59]\u001b[A\n",
      "Epoch [66/300]:  20%|███████████▌                                              | 1/5 [00:00<00:02,  1.78it/s, loss=1.59]\u001b[A\n"
     ]
    },
    {
     "name": "stdout",
     "output_type": "stream",
     "text": [
      "32\n",
      "0\n",
      "1\n"
     ]
    },
    {
     "name": "stderr",
     "output_type": "stream",
     "text": [
      "Epoch [66/300]:  20%|███████████▍                                             | 1/5 [00:00<00:02,  1.78it/s, loss=0.887]\u001b[A\n"
     ]
    },
    {
     "name": "stdout",
     "output_type": "stream",
     "text": [
      "2\n"
     ]
    },
    {
     "name": "stderr",
     "output_type": "stream",
     "text": [
      "Epoch [66/300]:  20%|███████████▍                                             | 1/5 [00:00<00:02,  1.78it/s, loss=0.768]\u001b[A\n",
      "Epoch [66/300]:  20%|███████████▌                                              | 1/5 [00:00<00:02,  1.78it/s, loss=1.16]\u001b[A\n",
      "Epoch [66/300]: 100%|█████████████████████████████████████████████████████████| 5/5 [00:00<00:00,  8.04it/s, loss=0.135]\u001b[A\n"
     ]
    },
    {
     "name": "stdout",
     "output_type": "stream",
     "text": [
      "3\n",
      "4\n",
      "model improved and saved\n",
      "\n",
      "Epoch 66: train loss: 0.8412396998116465 \n",
      "Epoch 66: valid loss: 0.9087341487407684 \n"
     ]
    },
    {
     "name": "stderr",
     "output_type": "stream",
     "text": [
      "  0%|                                                                                            | 0/33 [00:00<?, ?it/s]\n",
      "Epoch [67/300]:   0%|                                                                            | 0/33 [00:00<?, ?it/s]\u001b[A\n",
      "Epoch [67/300]:   0%|                                                                | 0/33 [00:00<?, ?it/s, loss=0.677]\u001b[A"
     ]
    },
    {
     "name": "stdout",
     "output_type": "stream",
     "text": [
      "0\n"
     ]
    },
    {
     "name": "stderr",
     "output_type": "stream",
     "text": [
      "Epoch [67/300]:  18%|██████████▏                                             | 6/33 [00:00<00:00, 59.08it/s, loss=0.788]"
     ]
    },
    {
     "name": "stdout",
     "output_type": "stream",
     "text": [
      "1\n",
      "2\n",
      "3\n",
      "4\n",
      "5\n"
     ]
    },
    {
     "name": "stderr",
     "output_type": "stream",
     "text": [
      "Epoch [67/300]:  18%|██████████▏                                             | 6/33 [00:00<00:00, 59.08it/s, loss=0.881]"
     ]
    },
    {
     "name": "stdout",
     "output_type": "stream",
     "text": [
      "6\n",
      "7\n",
      "8\n",
      "9\n"
     ]
    },
    {
     "name": "stderr",
     "output_type": "stream",
     "text": [
      "\r",
      "Epoch [67/300]:  18%|██████████▎                                              | 6/33 [00:00<00:00, 59.08it/s, loss=0.73]"
     ]
    },
    {
     "name": "stdout",
     "output_type": "stream",
     "text": [
      "10\n"
     ]
    },
    {
     "name": "stderr",
     "output_type": "stream",
     "text": [
      "Epoch [67/300]:  39%|██████████████████████                                  | 13/33 [00:00<00:00, 60.28it/s, loss=0.84]"
     ]
    },
    {
     "name": "stdout",
     "output_type": "stream",
     "text": [
      "11\n",
      "12\n"
     ]
    },
    {
     "name": "stderr",
     "output_type": "stream",
     "text": [
      "\r",
      "Epoch [67/300]:  39%|█████████████████████▋                                 | 13/33 [00:00<00:00, 60.28it/s, loss=0.632]"
     ]
    },
    {
     "name": "stdout",
     "output_type": "stream",
     "text": [
      "13\n"
     ]
    },
    {
     "name": "stderr",
     "output_type": "stream",
     "text": [
      "Epoch [67/300]:  39%|██████████████████████                                  | 13/33 [00:00<00:00, 60.28it/s, loss=1.07]"
     ]
    },
    {
     "name": "stdout",
     "output_type": "stream",
     "text": [
      "14\n",
      "15\n",
      "16\n",
      "17\n",
      "18\n"
     ]
    },
    {
     "name": "stderr",
     "output_type": "stream",
     "text": [
      "Epoch [67/300]:  61%|█████████████████████████████████▎                     | 20/33 [00:00<00:00, 60.88it/s, loss=0.628]"
     ]
    },
    {
     "name": "stdout",
     "output_type": "stream",
     "text": [
      "19\n",
      "20\n",
      "21\n",
      "22\n"
     ]
    },
    {
     "name": "stderr",
     "output_type": "stream",
     "text": [
      "\r",
      "Epoch [67/300]:  61%|█████████████████████████████████▎                     | 20/33 [00:00<00:00, 60.88it/s, loss=0.669]"
     ]
    },
    {
     "name": "stdout",
     "output_type": "stream",
     "text": [
      "23\n"
     ]
    },
    {
     "name": "stderr",
     "output_type": "stream",
     "text": [
      "\r",
      "Epoch [67/300]:  61%|█████████████████████████████████▉                      | 20/33 [00:00<00:00, 60.88it/s, loss=1.21]"
     ]
    },
    {
     "name": "stdout",
     "output_type": "stream",
     "text": [
      "24\n",
      "25\n"
     ]
    },
    {
     "name": "stderr",
     "output_type": "stream",
     "text": [
      "Epoch [67/300]:  61%|█████████████████████████████████▎                     | 20/33 [00:00<00:00, 60.88it/s, loss=0.786]"
     ]
    },
    {
     "name": "stdout",
     "output_type": "stream",
     "text": [
      "26\n"
     ]
    },
    {
     "name": "stderr",
     "output_type": "stream",
     "text": [
      "Epoch [67/300]:  82%|█████████████████████████████████████████████▊          | 27/33 [00:00<00:00, 59.55it/s, loss=1.01]"
     ]
    },
    {
     "name": "stdout",
     "output_type": "stream",
     "text": [
      "27\n",
      "28\n",
      "29\n",
      "30\n"
     ]
    },
    {
     "name": "stderr",
     "output_type": "stream",
     "text": [
      "Epoch [67/300]: 100%|████████████████████████████████████████████████████████| 33/33 [00:00<00:00, 61.01it/s, loss=1.01]\n",
      "\n",
      "Epoch [67/300]:   0%|                                                                  | 0/5 [00:00<?, ?it/s, loss=1.59]\u001b[A\n",
      "Epoch [67/300]:  20%|███████████▌                                              | 1/5 [00:00<00:02,  1.82it/s, loss=1.59]\u001b[A\n",
      "Epoch [67/300]:  20%|███████████▍                                             | 1/5 [00:00<00:02,  1.82it/s, loss=0.887]\u001b[A\n",
      "Epoch [67/300]:  20%|███████████▍                                             | 1/5 [00:00<00:02,  1.82it/s, loss=0.768]\u001b[A"
     ]
    },
    {
     "name": "stdout",
     "output_type": "stream",
     "text": [
      "31\n",
      "32\n",
      "0\n",
      "1\n",
      "2\n"
     ]
    },
    {
     "name": "stderr",
     "output_type": "stream",
     "text": [
      "\n",
      "Epoch [67/300]:  20%|███████████▌                                              | 1/5 [00:00<00:02,  1.82it/s, loss=1.16]\u001b[A\n",
      "Epoch [67/300]: 100%|█████████████████████████████████████████████████████████| 5/5 [00:00<00:00,  8.21it/s, loss=0.135]\u001b[A"
     ]
    },
    {
     "name": "stdout",
     "output_type": "stream",
     "text": [
      "3\n",
      "4\n",
      "model improved and saved\n",
      "\n",
      "Epoch 67: train loss: 0.8512314305160985 \n",
      "Epoch 67: valid loss: 0.9087192982435226 \n"
     ]
    },
    {
     "name": "stderr",
     "output_type": "stream",
     "text": [
      "\n",
      "  0%|                                                                                            | 0/33 [00:00<?, ?it/s]\n",
      "Epoch [68/300]:   0%|                                                                            | 0/33 [00:00<?, ?it/s]\u001b[A\n",
      "Epoch [68/300]:   0%|                                                                 | 0/33 [00:00<?, ?it/s, loss=0.75]\u001b[A"
     ]
    },
    {
     "name": "stdout",
     "output_type": "stream",
     "text": [
      "0\n"
     ]
    },
    {
     "name": "stderr",
     "output_type": "stream",
     "text": [
      "\r",
      "Epoch [68/300]:   0%|                                                                 | 0/33 [00:00<?, ?it/s, loss=0.81]"
     ]
    },
    {
     "name": "stdout",
     "output_type": "stream",
     "text": [
      "1\n"
     ]
    },
    {
     "name": "stderr",
     "output_type": "stream",
     "text": [
      "Epoch [68/300]:   0%|                                                                | 0/33 [00:00<?, ?it/s, loss=0.596]"
     ]
    },
    {
     "name": "stdout",
     "output_type": "stream",
     "text": [
      "2\n",
      "3\n",
      "4\n"
     ]
    },
    {
     "name": "stderr",
     "output_type": "stream",
     "text": [
      "Epoch [68/300]:  18%|██████████▏                                             | 6/33 [00:00<00:00, 50.68it/s, loss=0.682]"
     ]
    },
    {
     "name": "stdout",
     "output_type": "stream",
     "text": [
      "5\n",
      "6\n",
      "7\n",
      "8\n"
     ]
    },
    {
     "name": "stderr",
     "output_type": "stream",
     "text": [
      "Epoch [68/300]:  18%|██████████▏                                             | 6/33 [00:00<00:00, 50.68it/s, loss=0.887]"
     ]
    },
    {
     "name": "stdout",
     "output_type": "stream",
     "text": [
      "9\n",
      "10\n",
      "11\n"
     ]
    },
    {
     "name": "stderr",
     "output_type": "stream",
     "text": [
      "Epoch [68/300]:  36%|████████████████████▎                                   | 12/33 [00:00<00:00, 52.40it/s, loss=0.84]"
     ]
    },
    {
     "name": "stdout",
     "output_type": "stream",
     "text": [
      "12\n"
     ]
    },
    {
     "name": "stderr",
     "output_type": "stream",
     "text": [
      "Epoch [68/300]:  36%|████████████████████▋                                    | 12/33 [00:00<00:00, 52.40it/s, loss=0.7]"
     ]
    },
    {
     "name": "stdout",
     "output_type": "stream",
     "text": [
      "13\n",
      "14\n",
      "15\n",
      "16\n"
     ]
    },
    {
     "name": "stderr",
     "output_type": "stream",
     "text": [
      "Epoch [68/300]:  58%|████████████████████████████████▏                       | 19/33 [00:00<00:00, 57.02it/s, loss=1.24]"
     ]
    },
    {
     "name": "stdout",
     "output_type": "stream",
     "text": [
      "17\n",
      "18\n",
      "19\n",
      "20\n",
      "21\n"
     ]
    },
    {
     "name": "stderr",
     "output_type": "stream",
     "text": [
      "Epoch [68/300]:  79%|███████████████████████████████████████████▎           | 26/33 [00:00<00:00, 60.75it/s, loss=0.641]"
     ]
    },
    {
     "name": "stdout",
     "output_type": "stream",
     "text": [
      "22\n",
      "23\n",
      "24\n",
      "25\n"
     ]
    },
    {
     "name": "stderr",
     "output_type": "stream",
     "text": [
      "\r",
      "Epoch [68/300]:  79%|███████████████████████████████████████████▎           | 26/33 [00:00<00:00, 60.75it/s, loss=0.732]"
     ]
    },
    {
     "name": "stdout",
     "output_type": "stream",
     "text": [
      "26\n"
     ]
    },
    {
     "name": "stderr",
     "output_type": "stream",
     "text": [
      "Epoch [68/300]:  79%|███████████████████████████████████████████▎           | 26/33 [00:00<00:00, 60.75it/s, loss=0.849]"
     ]
    },
    {
     "name": "stdout",
     "output_type": "stream",
     "text": [
      "27\n",
      "28\n",
      "29\n"
     ]
    },
    {
     "name": "stderr",
     "output_type": "stream",
     "text": [
      "Epoch [68/300]: 100%|███████████████████████████████████████████████████████| 33/33 [00:00<00:00, 59.61it/s, loss=0.505]\n",
      "\n",
      "Epoch [68/300]:   0%|                                                                  | 0/5 [00:00<?, ?it/s, loss=1.59]\u001b[A\n",
      "Epoch [68/300]:  20%|███████████▌                                              | 1/5 [00:00<00:02,  1.77it/s, loss=1.59]\u001b[A\n",
      "Epoch [68/300]:  20%|███████████▍                                             | 1/5 [00:00<00:02,  1.77it/s, loss=0.887]\u001b[A"
     ]
    },
    {
     "name": "stdout",
     "output_type": "stream",
     "text": [
      "30\n",
      "31\n",
      "32\n",
      "0\n",
      "1\n"
     ]
    },
    {
     "name": "stderr",
     "output_type": "stream",
     "text": [
      "\n",
      "Epoch [68/300]:  20%|███████████▍                                             | 1/5 [00:00<00:02,  1.77it/s, loss=0.769]\u001b[A\n",
      "Epoch [68/300]:  20%|███████████▌                                              | 1/5 [00:00<00:02,  1.77it/s, loss=1.16]\u001b[A\n",
      "Epoch [68/300]: 100%|█████████████████████████████████████████████████████████| 5/5 [00:00<00:00,  7.91it/s, loss=0.135]\u001b[A\n"
     ]
    },
    {
     "name": "stdout",
     "output_type": "stream",
     "text": [
      "2\n",
      "3\n",
      "4\n",
      "model improved and saved\n",
      "\n",
      "Epoch 68: train loss: 0.8301591945417 \n",
      "Epoch 68: valid loss: 0.9088619023561477 \n"
     ]
    },
    {
     "name": "stderr",
     "output_type": "stream",
     "text": [
      "  0%|                                                                                            | 0/33 [00:00<?, ?it/s]\n",
      "Epoch [69/300]:   0%|                                                                            | 0/33 [00:00<?, ?it/s]\u001b[A\n",
      "Epoch [69/300]:   0%|                                                                | 0/33 [00:00<?, ?it/s, loss=0.492]\u001b[A"
     ]
    },
    {
     "name": "stdout",
     "output_type": "stream",
     "text": [
      "0\n"
     ]
    },
    {
     "name": "stderr",
     "output_type": "stream",
     "text": [
      "Epoch [69/300]:   0%|                                                                | 0/33 [00:00<?, ?it/s, loss=0.775]"
     ]
    },
    {
     "name": "stdout",
     "output_type": "stream",
     "text": [
      "1\n",
      "2\n",
      "3\n"
     ]
    },
    {
     "name": "stderr",
     "output_type": "stream",
     "text": [
      "Epoch [69/300]:  15%|████████▋                                                | 5/33 [00:00<00:00, 49.35it/s, loss=0.85]"
     ]
    },
    {
     "name": "stdout",
     "output_type": "stream",
     "text": [
      "4\n",
      "5\n",
      "6\n",
      "7\n",
      "8\n"
     ]
    },
    {
     "name": "stderr",
     "output_type": "stream",
     "text": [
      "Epoch [69/300]:  36%|████████████████████                                   | 12/33 [00:00<00:00, 58.14it/s, loss=0.754]"
     ]
    },
    {
     "name": "stdout",
     "output_type": "stream",
     "text": [
      "9\n",
      "10\n",
      "11\n",
      "12\n"
     ]
    },
    {
     "name": "stderr",
     "output_type": "stream",
     "text": [
      "\r",
      "Epoch [69/300]:  36%|████████████████████                                   | 12/33 [00:00<00:00, 58.14it/s, loss=0.788]"
     ]
    },
    {
     "name": "stdout",
     "output_type": "stream",
     "text": [
      "13\n"
     ]
    },
    {
     "name": "stderr",
     "output_type": "stream",
     "text": [
      "Epoch [69/300]:  36%|████████████████████                                   | 12/33 [00:00<00:00, 58.14it/s, loss=0.682]"
     ]
    },
    {
     "name": "stdout",
     "output_type": "stream",
     "text": [
      "14\n",
      "15\n",
      "16\n"
     ]
    },
    {
     "name": "stderr",
     "output_type": "stream",
     "text": [
      "Epoch [69/300]:  58%|███████████████████████████████▋                       | 19/33 [00:00<00:00, 61.05it/s, loss=0.984]"
     ]
    },
    {
     "name": "stdout",
     "output_type": "stream",
     "text": [
      "17\n",
      "18\n",
      "19\n",
      "20\n",
      "21\n"
     ]
    },
    {
     "name": "stderr",
     "output_type": "stream",
     "text": [
      "Epoch [69/300]:  58%|███████████████████████████████▋                       | 19/33 [00:00<00:00, 61.05it/s, loss=0.857]"
     ]
    },
    {
     "name": "stdout",
     "output_type": "stream",
     "text": [
      "22\n",
      "23\n",
      "24\n",
      "25\n"
     ]
    },
    {
     "name": "stderr",
     "output_type": "stream",
     "text": [
      "Epoch [69/300]:  79%|███████████████████████████████████████████▎           | 26/33 [00:00<00:00, 59.17it/s, loss=0.822]"
     ]
    },
    {
     "name": "stdout",
     "output_type": "stream",
     "text": [
      "26\n"
     ]
    },
    {
     "name": "stderr",
     "output_type": "stream",
     "text": [
      "Epoch [69/300]:  79%|████████████████████████████████████████████            | 26/33 [00:00<00:00, 59.17it/s, loss=1.08]"
     ]
    },
    {
     "name": "stdout",
     "output_type": "stream",
     "text": [
      "27\n",
      "28\n",
      "29\n"
     ]
    },
    {
     "name": "stderr",
     "output_type": "stream",
     "text": [
      "Epoch [69/300]: 100%|████████████████████████████████████████████████████████| 33/33 [00:00<00:00, 60.03it/s, loss=1.35]\n",
      "\n",
      "Epoch [69/300]:   0%|                                                                  | 0/5 [00:00<?, ?it/s, loss=1.59]\u001b[A\n",
      "Epoch [69/300]:  20%|███████████▌                                              | 1/5 [00:00<00:02,  1.78it/s, loss=1.59]\u001b[A\n",
      "Epoch [69/300]:  20%|███████████▍                                             | 1/5 [00:00<00:02,  1.78it/s, loss=0.887]\u001b[A"
     ]
    },
    {
     "name": "stdout",
     "output_type": "stream",
     "text": [
      "30\n",
      "31\n",
      "32\n",
      "0\n",
      "1\n"
     ]
    },
    {
     "name": "stderr",
     "output_type": "stream",
     "text": [
      "\n",
      "Epoch [69/300]:  20%|███████████▍                                             | 1/5 [00:00<00:02,  1.78it/s, loss=0.769]\u001b[A\n",
      "Epoch [69/300]:  20%|███████████▌                                              | 1/5 [00:00<00:02,  1.78it/s, loss=1.16]\u001b[A\n",
      "Epoch [69/300]: 100%|█████████████████████████████████████████████████████████| 5/5 [00:00<00:00,  8.02it/s, loss=0.135]\u001b[A\n"
     ]
    },
    {
     "name": "stdout",
     "output_type": "stream",
     "text": [
      "2\n",
      "3\n",
      "4\n",
      "model improved and saved\n",
      "\n",
      "Epoch 69: train loss: 0.8530756641517986 \n",
      "Epoch 69: valid loss: 0.9089223682880402 \n"
     ]
    },
    {
     "name": "stderr",
     "output_type": "stream",
     "text": [
      "  0%|                                                                                            | 0/33 [00:00<?, ?it/s]\n",
      "Epoch [70/300]:   0%|                                                                            | 0/33 [00:00<?, ?it/s]\u001b[A\n",
      "Epoch [70/300]:   0%|                                                                | 0/33 [00:00<?, ?it/s, loss=0.833]\u001b[A"
     ]
    },
    {
     "name": "stdout",
     "output_type": "stream",
     "text": [
      "0\n"
     ]
    },
    {
     "name": "stderr",
     "output_type": "stream",
     "text": [
      "Epoch [70/300]:   0%|                                                                | 0/33 [00:00<?, ?it/s, loss=0.688]"
     ]
    },
    {
     "name": "stdout",
     "output_type": "stream",
     "text": [
      "1\n",
      "2\n",
      "3\n",
      "4\n"
     ]
    },
    {
     "name": "stderr",
     "output_type": "stream",
     "text": [
      "Epoch [70/300]:  18%|██████████▏                                             | 6/33 [00:00<00:00, 56.77it/s, loss=0.791]"
     ]
    },
    {
     "name": "stdout",
     "output_type": "stream",
     "text": [
      "5\n",
      "6\n",
      "7\n",
      "8\n",
      "9\n"
     ]
    },
    {
     "name": "stderr",
     "output_type": "stream",
     "text": [
      "Epoch [70/300]:  39%|██████████████████████                                  | 13/33 [00:00<00:00, 58.27it/s, loss=1.07]"
     ]
    },
    {
     "name": "stdout",
     "output_type": "stream",
     "text": [
      "10\n",
      "11\n",
      "12\n"
     ]
    },
    {
     "name": "stderr",
     "output_type": "stream",
     "text": [
      "Epoch [70/300]:  39%|█████████████████████▋                                 | 13/33 [00:00<00:00, 58.27it/s, loss=0.809]"
     ]
    },
    {
     "name": "stdout",
     "output_type": "stream",
     "text": [
      "13\n",
      "14\n",
      "15\n",
      "16\n"
     ]
    },
    {
     "name": "stderr",
     "output_type": "stream",
     "text": [
      "Epoch [70/300]:  58%|████████████████████████████████▏                       | 19/33 [00:00<00:00, 58.17it/s, loss=1.08]"
     ]
    },
    {
     "name": "stdout",
     "output_type": "stream",
     "text": [
      "17\n",
      "18\n"
     ]
    },
    {
     "name": "stderr",
     "output_type": "stream",
     "text": [
      "Epoch [70/300]:  58%|███████████████████████████████▋                       | 19/33 [00:00<00:00, 58.17it/s, loss=0.522]"
     ]
    },
    {
     "name": "stdout",
     "output_type": "stream",
     "text": [
      "19\n",
      "20\n"
     ]
    },
    {
     "name": "stderr",
     "output_type": "stream",
     "text": [
      "Epoch [70/300]:  76%|█████████████████████████████████████████▋             | 25/33 [00:00<00:00, 45.63it/s, loss=0.727]"
     ]
    },
    {
     "name": "stdout",
     "output_type": "stream",
     "text": [
      "21\n",
      "22\n",
      "23\n",
      "24\n"
     ]
    },
    {
     "name": "stderr",
     "output_type": "stream",
     "text": [
      "Epoch [70/300]:  97%|██████████████████████████████████████████████████████▎ | 32/33 [00:00<00:00, 50.84it/s, loss=1.12]"
     ]
    },
    {
     "name": "stdout",
     "output_type": "stream",
     "text": [
      "25\n",
      "26\n",
      "27\n",
      "28\n",
      "29\n",
      "30\n",
      "31\n"
     ]
    },
    {
     "name": "stderr",
     "output_type": "stream",
     "text": [
      "Epoch [70/300]: 100%|████████████████████████████████████████████████████████| 33/33 [00:00<00:00, 52.67it/s, loss=1.33]\n",
      "\n",
      "Epoch [70/300]:   0%|                                                                  | 0/5 [00:00<?, ?it/s, loss=1.59]\u001b[A\n",
      "Epoch [70/300]:  20%|███████████▌                                              | 1/5 [00:00<00:02,  1.57it/s, loss=1.59]\u001b[A"
     ]
    },
    {
     "name": "stdout",
     "output_type": "stream",
     "text": [
      "32\n",
      "0\n"
     ]
    },
    {
     "name": "stderr",
     "output_type": "stream",
     "text": [
      "\n",
      "Epoch [70/300]:  20%|███████████▍                                             | 1/5 [00:00<00:02,  1.57it/s, loss=0.887]\u001b[A\n",
      "Epoch [70/300]:  20%|███████████▍                                             | 1/5 [00:00<00:02,  1.57it/s, loss=0.769]\u001b[A\n",
      "Epoch [70/300]:  20%|███████████▌                                              | 1/5 [00:00<00:02,  1.57it/s, loss=1.16]\u001b[A\n",
      "Epoch [70/300]: 100%|█████████████████████████████████████████████████████████| 5/5 [00:00<00:00,  7.08it/s, loss=0.135]\u001b[A\n"
     ]
    },
    {
     "name": "stdout",
     "output_type": "stream",
     "text": [
      "1\n",
      "2\n",
      "3\n",
      "4\n",
      "model improved and saved\n",
      "\n",
      "Epoch 70: train loss: 0.8506826144276243 \n",
      "Epoch 70: valid loss: 0.908987843990326 \n"
     ]
    },
    {
     "name": "stderr",
     "output_type": "stream",
     "text": [
      "  0%|                                                                                            | 0/33 [00:00<?, ?it/s]\n",
      "Epoch [71/300]:   0%|                                                                            | 0/33 [00:00<?, ?it/s]\u001b[A\n",
      "Epoch [71/300]:   0%|                                                                | 0/33 [00:00<?, ?it/s, loss=0.845]\u001b[A"
     ]
    },
    {
     "name": "stdout",
     "output_type": "stream",
     "text": [
      "0\n",
      "1\n",
      "2\n",
      "3\n",
      "4\n"
     ]
    },
    {
     "name": "stderr",
     "output_type": "stream",
     "text": [
      "Epoch [71/300]:  18%|██████████▏                                             | 6/33 [00:00<00:00, 55.22it/s, loss=0.801]"
     ]
    },
    {
     "name": "stdout",
     "output_type": "stream",
     "text": [
      "5\n",
      "6\n",
      "7\n"
     ]
    },
    {
     "name": "stderr",
     "output_type": "stream",
     "text": [
      "Epoch [71/300]:  36%|████████████████████                                   | 12/33 [00:00<00:00, 56.90it/s, loss=0.828]"
     ]
    },
    {
     "name": "stdout",
     "output_type": "stream",
     "text": [
      "8\n",
      "9\n",
      "10\n",
      "11\n"
     ]
    },
    {
     "name": "stderr",
     "output_type": "stream",
     "text": [
      "Epoch [71/300]:  36%|████████████████████                                   | 12/33 [00:00<00:00, 56.90it/s, loss=0.739]"
     ]
    },
    {
     "name": "stdout",
     "output_type": "stream",
     "text": [
      "12\n",
      "13\n",
      "14\n",
      "15\n",
      "16\n"
     ]
    },
    {
     "name": "stderr",
     "output_type": "stream",
     "text": [
      "Epoch [71/300]:  55%|██████████████████████████████▌                         | 18/33 [00:00<00:00, 55.95it/s, loss=1.16]"
     ]
    },
    {
     "name": "stdout",
     "output_type": "stream",
     "text": [
      "17\n",
      "18\n",
      "19\n"
     ]
    },
    {
     "name": "stderr",
     "output_type": "stream",
     "text": [
      "Epoch [71/300]:  76%|█████████████████████████████████████████▋             | 25/33 [00:00<00:00, 59.07it/s, loss=0.735]"
     ]
    },
    {
     "name": "stdout",
     "output_type": "stream",
     "text": [
      "20\n",
      "21\n",
      "22\n",
      "23\n",
      "24\n"
     ]
    },
    {
     "name": "stderr",
     "output_type": "stream",
     "text": [
      "Epoch [71/300]:  76%|█████████████████████████████████████████▋             | 25/33 [00:00<00:00, 59.07it/s, loss=0.768]"
     ]
    },
    {
     "name": "stdout",
     "output_type": "stream",
     "text": [
      "25\n",
      "26\n",
      "27\n",
      "28\n",
      "29\n",
      "30\n"
     ]
    },
    {
     "name": "stderr",
     "output_type": "stream",
     "text": [
      "Epoch [71/300]: 100%|███████████████████████████████████████████████████████| 33/33 [00:00<00:00, 60.56it/s, loss=0.963]\n",
      "\n",
      "Epoch [71/300]:   0%|                                                                  | 0/5 [00:00<?, ?it/s, loss=1.59]\u001b[A\n",
      "Epoch [71/300]:  20%|███████████▌                                              | 1/5 [00:00<00:02,  1.79it/s, loss=1.59]\u001b[A"
     ]
    },
    {
     "name": "stdout",
     "output_type": "stream",
     "text": [
      "31\n",
      "32\n",
      "0\n"
     ]
    },
    {
     "name": "stderr",
     "output_type": "stream",
     "text": [
      "\n",
      "Epoch [71/300]:  20%|███████████▍                                             | 1/5 [00:00<00:02,  1.79it/s, loss=0.887]\u001b[A\n",
      "Epoch [71/300]:  20%|███████████▍                                             | 1/5 [00:00<00:02,  1.79it/s, loss=0.769]\u001b[A\n",
      "Epoch [71/300]:  20%|███████████▌                                              | 1/5 [00:00<00:02,  1.79it/s, loss=1.16]\u001b[A\n",
      "Epoch [71/300]: 100%|█████████████████████████████████████████████████████████| 5/5 [00:00<00:00,  8.04it/s, loss=0.135]\u001b[A\n"
     ]
    },
    {
     "name": "stdout",
     "output_type": "stream",
     "text": [
      "1\n",
      "2\n",
      "3\n",
      "4\n",
      "model improved and saved\n",
      "\n",
      "Epoch 71: train loss: 0.8447238766785824 \n",
      "Epoch 71: valid loss: 0.9090122133493423 \n"
     ]
    },
    {
     "name": "stderr",
     "output_type": "stream",
     "text": [
      "  0%|                                                                                            | 0/33 [00:00<?, ?it/s]\n",
      "Epoch [72/300]:   0%|                                                                            | 0/33 [00:00<?, ?it/s]\u001b[A\n",
      "Epoch [72/300]:   0%|                                                                | 0/33 [00:00<?, ?it/s, loss=0.909]\u001b[A"
     ]
    },
    {
     "name": "stdout",
     "output_type": "stream",
     "text": [
      "0\n",
      "1\n",
      "2\n",
      "3\n",
      "4\n"
     ]
    },
    {
     "name": "stderr",
     "output_type": "stream",
     "text": [
      "Epoch [72/300]:  18%|██████████▉                                                 | 6/33 [00:00<00:00, 53.50it/s, loss=1]"
     ]
    },
    {
     "name": "stdout",
     "output_type": "stream",
     "text": [
      "5\n",
      "6\n",
      "7\n"
     ]
    },
    {
     "name": "stderr",
     "output_type": "stream",
     "text": [
      "Epoch [72/300]:  18%|██████████▏                                             | 6/33 [00:00<00:00, 53.50it/s, loss=0.611]"
     ]
    },
    {
     "name": "stdout",
     "output_type": "stream",
     "text": [
      "8\n",
      "9\n",
      "10\n",
      "11\n",
      "12\n"
     ]
    },
    {
     "name": "stderr",
     "output_type": "stream",
     "text": [
      "Epoch [72/300]:  39%|█████████████████████▋                                 | 13/33 [00:00<00:00, 57.14it/s, loss=0.769]"
     ]
    },
    {
     "name": "stdout",
     "output_type": "stream",
     "text": [
      "13\n",
      "14\n",
      "15\n",
      "16\n",
      "17\n"
     ]
    },
    {
     "name": "stderr",
     "output_type": "stream",
     "text": [
      "Epoch [72/300]:  61%|█████████████████████████████████▎                     | 20/33 [00:00<00:00, 60.50it/s, loss=0.637]"
     ]
    },
    {
     "name": "stdout",
     "output_type": "stream",
     "text": [
      "18\n",
      "19\n",
      "20\n"
     ]
    },
    {
     "name": "stderr",
     "output_type": "stream",
     "text": [
      "Epoch [72/300]:  61%|█████████████████████████████████▎                     | 20/33 [00:00<00:00, 60.50it/s, loss=0.665]"
     ]
    },
    {
     "name": "stdout",
     "output_type": "stream",
     "text": [
      "21\n",
      "22\n",
      "23\n",
      "24\n",
      "25\n"
     ]
    },
    {
     "name": "stderr",
     "output_type": "stream",
     "text": [
      "Epoch [72/300]:  82%|█████████████████████████████████████████████          | 27/33 [00:00<00:00, 58.11it/s, loss=0.863]"
     ]
    },
    {
     "name": "stdout",
     "output_type": "stream",
     "text": [
      "26\n",
      "27\n",
      "28\n",
      "29\n"
     ]
    },
    {
     "name": "stderr",
     "output_type": "stream",
     "text": [
      "Epoch [72/300]: 100%|███████████████████████████████████████████████████████| 33/33 [00:00<00:00, 59.29it/s, loss=0.565]\n",
      "\n",
      "Epoch [72/300]:   0%|                                                                  | 0/5 [00:00<?, ?it/s, loss=1.59]\u001b[A\n",
      "Epoch [72/300]:  20%|███████████▌                                              | 1/5 [00:00<00:02,  1.76it/s, loss=1.59]\u001b[A"
     ]
    },
    {
     "name": "stdout",
     "output_type": "stream",
     "text": [
      "30\n",
      "31\n",
      "32\n",
      "0\n"
     ]
    },
    {
     "name": "stderr",
     "output_type": "stream",
     "text": [
      "\n",
      "Epoch [72/300]:  20%|███████████▍                                             | 1/5 [00:00<00:02,  1.76it/s, loss=0.887]\u001b[A\n",
      "Epoch [72/300]:  20%|███████████▍                                             | 1/5 [00:00<00:02,  1.76it/s, loss=0.769]\u001b[A\n",
      "Epoch [72/300]:  20%|███████████▌                                              | 1/5 [00:00<00:02,  1.76it/s, loss=1.16]\u001b[A\n",
      "Epoch [72/300]: 100%|█████████████████████████████████████████████████████████| 5/5 [00:00<00:00,  7.78it/s, loss=0.135]\u001b[A\n"
     ]
    },
    {
     "name": "stdout",
     "output_type": "stream",
     "text": [
      "1\n",
      "2\n",
      "3\n",
      "4\n",
      "model improved and saved\n",
      "\n",
      "Epoch 72: train loss: 0.8351626938039606 \n",
      "Epoch 72: valid loss: 0.9089309990406036 \n"
     ]
    },
    {
     "name": "stderr",
     "output_type": "stream",
     "text": [
      "  0%|                                                                                            | 0/33 [00:00<?, ?it/s]\n",
      "Epoch [73/300]:   0%|                                                                            | 0/33 [00:00<?, ?it/s]\u001b[A\n",
      "Epoch [73/300]:   0%|                                                                | 0/33 [00:00<?, ?it/s, loss=0.544]\u001b[A"
     ]
    },
    {
     "name": "stdout",
     "output_type": "stream",
     "text": [
      "0\n",
      "1\n",
      "2\n"
     ]
    },
    {
     "name": "stderr",
     "output_type": "stream",
     "text": [
      "Epoch [73/300]:  18%|██████████▏                                             | 6/33 [00:00<00:00, 52.10it/s, loss=0.772]"
     ]
    },
    {
     "name": "stdout",
     "output_type": "stream",
     "text": [
      "3\n",
      "4\n",
      "5\n",
      "6\n"
     ]
    },
    {
     "name": "stderr",
     "output_type": "stream",
     "text": [
      "Epoch [73/300]:  36%|████████████████████                                   | 12/33 [00:00<00:00, 53.41it/s, loss=0.683]"
     ]
    },
    {
     "name": "stdout",
     "output_type": "stream",
     "text": [
      "7\n",
      "8\n",
      "9\n",
      "10\n",
      "11\n"
     ]
    },
    {
     "name": "stderr",
     "output_type": "stream",
     "text": [
      "Epoch [73/300]:  36%|████████████████████                                   | 12/33 [00:00<00:00, 53.41it/s, loss=0.617]"
     ]
    },
    {
     "name": "stdout",
     "output_type": "stream",
     "text": [
      "12\n",
      "13\n",
      "14\n"
     ]
    },
    {
     "name": "stderr",
     "output_type": "stream",
     "text": [
      "Epoch [73/300]:  58%|███████████████████████████████▋                       | 19/33 [00:00<00:00, 58.09it/s, loss=0.846]"
     ]
    },
    {
     "name": "stdout",
     "output_type": "stream",
     "text": [
      "15\n",
      "16\n",
      "17\n",
      "18\n",
      "19\n"
     ]
    },
    {
     "name": "stderr",
     "output_type": "stream",
     "text": [
      "Epoch [73/300]:  79%|███████████████████████████████████████████▎           | 26/33 [00:00<00:00, 60.88it/s, loss=0.749]"
     ]
    },
    {
     "name": "stdout",
     "output_type": "stream",
     "text": [
      "20\n",
      "21\n",
      "22\n",
      "23\n",
      "24\n",
      "25\n"
     ]
    },
    {
     "name": "stderr",
     "output_type": "stream",
     "text": [
      "Epoch [73/300]:  79%|████████████████████████████████████████████            | 26/33 [00:00<00:00, 60.88it/s, loss=1.05]"
     ]
    },
    {
     "name": "stdout",
     "output_type": "stream",
     "text": [
      "26\n",
      "27\n",
      "28\n"
     ]
    },
    {
     "name": "stderr",
     "output_type": "stream",
     "text": [
      "Epoch [73/300]: 100%|████████████████████████████████████████████████████████| 33/33 [00:00<00:00, 60.94it/s, loss=0.39]\n",
      "\n",
      "Epoch [73/300]:   0%|                                                                  | 0/5 [00:00<?, ?it/s, loss=1.59]\u001b[A\n",
      "Epoch [73/300]:  20%|███████████▌                                              | 1/5 [00:00<00:02,  1.81it/s, loss=1.59]\u001b[A"
     ]
    },
    {
     "name": "stdout",
     "output_type": "stream",
     "text": [
      "29\n",
      "30\n",
      "31\n",
      "32\n",
      "0\n"
     ]
    },
    {
     "name": "stderr",
     "output_type": "stream",
     "text": [
      "\n",
      "Epoch [73/300]:  20%|███████████▍                                             | 1/5 [00:00<00:02,  1.81it/s, loss=0.887]\u001b[A\n",
      "Epoch [73/300]:  20%|███████████▍                                             | 1/5 [00:00<00:02,  1.81it/s, loss=0.769]\u001b[A\n",
      "Epoch [73/300]:  20%|███████████▌                                              | 1/5 [00:00<00:02,  1.81it/s, loss=1.16]\u001b[A\n",
      "Epoch [73/300]: 100%|█████████████████████████████████████████████████████████| 5/5 [00:00<00:00,  8.24it/s, loss=0.134]\u001b[A\n"
     ]
    },
    {
     "name": "stdout",
     "output_type": "stream",
     "text": [
      "1\n",
      "2\n",
      "3\n",
      "4\n",
      "model improved and saved\n",
      "\n",
      "Epoch 73: train loss: 0.8268638551235199 \n",
      "Epoch 73: valid loss: 0.909095898270607 \n"
     ]
    },
    {
     "name": "stderr",
     "output_type": "stream",
     "text": [
      "  0%|                                                                                            | 0/33 [00:00<?, ?it/s]\n",
      "Epoch [74/300]:   0%|                                                                            | 0/33 [00:00<?, ?it/s]\u001b[A\n",
      "Epoch [74/300]:   0%|                                                                 | 0/33 [00:00<?, ?it/s, loss=1.24]\u001b[A"
     ]
    },
    {
     "name": "stdout",
     "output_type": "stream",
     "text": [
      "0\n",
      "1\n"
     ]
    },
    {
     "name": "stderr",
     "output_type": "stream",
     "text": [
      "Epoch [74/300]:   0%|                                                                | 0/33 [00:00<?, ?it/s, loss=0.831]"
     ]
    },
    {
     "name": "stdout",
     "output_type": "stream",
     "text": [
      "2\n",
      "3\n",
      "4\n"
     ]
    },
    {
     "name": "stderr",
     "output_type": "stream",
     "text": [
      "Epoch [74/300]:  18%|██████████▎                                              | 6/33 [00:00<00:00, 59.43it/s, loss=1.18]"
     ]
    },
    {
     "name": "stdout",
     "output_type": "stream",
     "text": [
      "5\n",
      "6\n",
      "7\n",
      "8\n"
     ]
    },
    {
     "name": "stderr",
     "output_type": "stream",
     "text": [
      "Epoch [74/300]:  39%|█████████████████████▋                                 | 13/33 [00:00<00:00, 63.31it/s, loss=0.782]"
     ]
    },
    {
     "name": "stdout",
     "output_type": "stream",
     "text": [
      "9\n",
      "10\n",
      "11\n",
      "12\n",
      "13\n"
     ]
    },
    {
     "name": "stderr",
     "output_type": "stream",
     "text": [
      "Epoch [74/300]:  39%|█████████████████████▋                                 | 13/33 [00:00<00:00, 63.31it/s, loss=0.634]"
     ]
    },
    {
     "name": "stdout",
     "output_type": "stream",
     "text": [
      "14\n",
      "15\n"
     ]
    },
    {
     "name": "stderr",
     "output_type": "stream",
     "text": [
      "Epoch [74/300]:  39%|█████████████████████▋                                 | 13/33 [00:00<00:00, 63.31it/s, loss=0.758]"
     ]
    },
    {
     "name": "stdout",
     "output_type": "stream",
     "text": [
      "16\n",
      "17\n",
      "18\n"
     ]
    },
    {
     "name": "stderr",
     "output_type": "stream",
     "text": [
      "Epoch [74/300]:  61%|█████████████████████████████████▎                     | 20/33 [00:00<00:00, 65.12it/s, loss=0.736]"
     ]
    },
    {
     "name": "stdout",
     "output_type": "stream",
     "text": [
      "19\n",
      "20\n",
      "21\n",
      "22\n"
     ]
    },
    {
     "name": "stderr",
     "output_type": "stream",
     "text": [
      "Epoch [74/300]:  82%|█████████████████████████████████████████████          | 27/33 [00:00<00:00, 64.99it/s, loss=0.951]"
     ]
    },
    {
     "name": "stdout",
     "output_type": "stream",
     "text": [
      "23\n",
      "24\n",
      "25\n",
      "26\n",
      "27\n"
     ]
    },
    {
     "name": "stderr",
     "output_type": "stream",
     "text": [
      "Epoch [74/300]:  82%|█████████████████████████████████████████████          | 27/33 [00:00<00:00, 64.99it/s, loss=0.851]"
     ]
    },
    {
     "name": "stdout",
     "output_type": "stream",
     "text": [
      "28\n",
      "29\n"
     ]
    },
    {
     "name": "stderr",
     "output_type": "stream",
     "text": [
      "Epoch [74/300]: 100%|████████████████████████████████████████████████████████| 33/33 [00:00<00:00, 66.50it/s, loss=1.06]\n",
      "\n",
      "Epoch [74/300]:   0%|                                                                  | 0/5 [00:00<?, ?it/s, loss=1.59]"
     ]
    },
    {
     "name": "stdout",
     "output_type": "stream",
     "text": [
      "30\n",
      "31\n",
      "32\n",
      "0\n"
     ]
    },
    {
     "name": "stderr",
     "output_type": "stream",
     "text": [
      "\u001b[A\n",
      "Epoch [74/300]:  20%|███████████▌                                              | 1/5 [00:00<00:02,  1.97it/s, loss=1.59]\u001b[A\n",
      "Epoch [74/300]:  20%|███████████▍                                             | 1/5 [00:00<00:02,  1.97it/s, loss=0.888]\u001b[A\n",
      "Epoch [74/300]:  20%|███████████▍                                             | 1/5 [00:00<00:02,  1.97it/s, loss=0.769]\u001b[A\n",
      "Epoch [74/300]:  20%|███████████▌                                              | 1/5 [00:00<00:02,  1.97it/s, loss=1.16]\u001b[A\n",
      "Epoch [74/300]: 100%|█████████████████████████████████████████████████████████| 5/5 [00:00<00:00,  8.95it/s, loss=0.134]\u001b[A\n"
     ]
    },
    {
     "name": "stdout",
     "output_type": "stream",
     "text": [
      "1\n",
      "2\n",
      "3\n",
      "4\n",
      "model improved and saved\n",
      "\n",
      "Epoch 74: train loss: 0.841175169655771 \n",
      "Epoch 74: valid loss: 0.9093285977840424 \n"
     ]
    },
    {
     "name": "stderr",
     "output_type": "stream",
     "text": [
      "  0%|                                                                                            | 0/33 [00:00<?, ?it/s]\n",
      "Epoch [75/300]:   0%|                                                                            | 0/33 [00:00<?, ?it/s]\u001b[A\n",
      "Epoch [75/300]:   0%|                                                                | 0/33 [00:00<?, ?it/s, loss=0.696]\u001b[A"
     ]
    },
    {
     "name": "stdout",
     "output_type": "stream",
     "text": [
      "0\n",
      "1\n",
      "2\n",
      "3\n"
     ]
    },
    {
     "name": "stderr",
     "output_type": "stream",
     "text": [
      "\r",
      "Epoch [75/300]:   0%|                                                                | 0/33 [00:00<?, ?it/s, loss=0.932]"
     ]
    },
    {
     "name": "stdout",
     "output_type": "stream",
     "text": [
      "4\n"
     ]
    },
    {
     "name": "stderr",
     "output_type": "stream",
     "text": [
      "Epoch [75/300]:  18%|██████████▎                                              | 6/33 [00:00<00:00, 57.41it/s, loss=0.97]"
     ]
    },
    {
     "name": "stdout",
     "output_type": "stream",
     "text": [
      "5\n",
      "6\n",
      "7\n",
      "8\n"
     ]
    },
    {
     "name": "stderr",
     "output_type": "stream",
     "text": [
      "Epoch [75/300]:  39%|█████████████████████▋                                 | 13/33 [00:00<00:00, 62.32it/s, loss=0.872]"
     ]
    },
    {
     "name": "stdout",
     "output_type": "stream",
     "text": [
      "9\n",
      "10\n",
      "11\n",
      "12\n",
      "13\n"
     ]
    },
    {
     "name": "stderr",
     "output_type": "stream",
     "text": [
      "Epoch [75/300]:  39%|█████████████████████▋                                 | 13/33 [00:00<00:00, 62.32it/s, loss=0.748]"
     ]
    },
    {
     "name": "stdout",
     "output_type": "stream",
     "text": [
      "14\n",
      "15\n",
      "16\n"
     ]
    },
    {
     "name": "stderr",
     "output_type": "stream",
     "text": [
      "\r",
      "Epoch [75/300]:  39%|█████████████████████▋                                 | 13/33 [00:00<00:00, 62.32it/s, loss=0.743]"
     ]
    },
    {
     "name": "stdout",
     "output_type": "stream",
     "text": [
      "17\n"
     ]
    },
    {
     "name": "stderr",
     "output_type": "stream",
     "text": [
      "Epoch [75/300]:  61%|█████████████████████████████████▎                     | 20/33 [00:00<00:00, 60.96it/s, loss=0.771]"
     ]
    },
    {
     "name": "stdout",
     "output_type": "stream",
     "text": [
      "18\n",
      "19\n",
      "20\n",
      "21\n"
     ]
    },
    {
     "name": "stderr",
     "output_type": "stream",
     "text": [
      "Epoch [75/300]:  82%|█████████████████████████████████████████████          | 27/33 [00:00<00:00, 62.83it/s, loss=0.994]"
     ]
    },
    {
     "name": "stdout",
     "output_type": "stream",
     "text": [
      "22\n",
      "23\n",
      "24\n",
      "25\n",
      "26\n"
     ]
    },
    {
     "name": "stderr",
     "output_type": "stream",
     "text": [
      "Epoch [75/300]:  82%|█████████████████████████████████████████████          | 27/33 [00:00<00:00, 62.83it/s, loss=0.728]"
     ]
    },
    {
     "name": "stdout",
     "output_type": "stream",
     "text": [
      "27\n",
      "28\n",
      "29\n"
     ]
    },
    {
     "name": "stderr",
     "output_type": "stream",
     "text": [
      "\r",
      "Epoch [75/300]:  82%|█████████████████████████████████████████████          | 27/33 [00:00<00:00, 62.83it/s, loss=0.726]"
     ]
    },
    {
     "name": "stdout",
     "output_type": "stream",
     "text": [
      "30\n"
     ]
    },
    {
     "name": "stderr",
     "output_type": "stream",
     "text": [
      "Epoch [75/300]: 100%|███████████████████████████████████████████████████████| 33/33 [00:00<00:00, 62.57it/s, loss=0.557]\n",
      "\n",
      "Epoch [75/300]:   0%|                                                                  | 0/5 [00:00<?, ?it/s, loss=1.59]\u001b[A\n",
      "Epoch [75/300]:  20%|███████████▌                                              | 1/5 [00:00<00:02,  1.85it/s, loss=1.59]\u001b[A\n",
      "Epoch [75/300]:  20%|███████████▍                                             | 1/5 [00:00<00:02,  1.85it/s, loss=0.888]\u001b[A\n"
     ]
    },
    {
     "name": "stdout",
     "output_type": "stream",
     "text": [
      "31\n",
      "32\n",
      "0\n",
      "1\n",
      "2\n"
     ]
    },
    {
     "name": "stderr",
     "output_type": "stream",
     "text": [
      "Epoch [75/300]:  20%|███████████▌                                              | 1/5 [00:00<00:02,  1.85it/s, loss=0.77]\u001b[A\n",
      "Epoch [75/300]:  20%|███████████▌                                              | 1/5 [00:00<00:02,  1.85it/s, loss=1.16]\u001b[A\n",
      "Epoch [75/300]: 100%|█████████████████████████████████████████████████████████| 5/5 [00:00<00:00,  8.39it/s, loss=0.134]\u001b[A\n"
     ]
    },
    {
     "name": "stdout",
     "output_type": "stream",
     "text": [
      "3\n",
      "4\n",
      "model improved and saved\n",
      "\n",
      "Epoch 75: train loss: 0.8280045245632981 \n",
      "Epoch 75: valid loss: 0.9095459580421448 \n"
     ]
    },
    {
     "name": "stderr",
     "output_type": "stream",
     "text": [
      "  0%|                                                                                            | 0/33 [00:00<?, ?it/s]\n",
      "Epoch [76/300]:   0%|                                                                            | 0/33 [00:00<?, ?it/s]\u001b[A\n",
      "Epoch [76/300]:   0%|                                                                | 0/33 [00:00<?, ?it/s, loss=0.775]\u001b[A"
     ]
    },
    {
     "name": "stdout",
     "output_type": "stream",
     "text": [
      "0\n",
      "1\n"
     ]
    },
    {
     "name": "stderr",
     "output_type": "stream",
     "text": [
      "Epoch [76/300]:   0%|                                                                | 0/33 [00:00<?, ?it/s, loss=0.781]"
     ]
    },
    {
     "name": "stdout",
     "output_type": "stream",
     "text": [
      "2\n",
      "3\n",
      "4\n"
     ]
    },
    {
     "name": "stderr",
     "output_type": "stream",
     "text": [
      "Epoch [76/300]:  18%|██████████▏                                             | 6/33 [00:00<00:00, 55.31it/s, loss=0.748]"
     ]
    },
    {
     "name": "stdout",
     "output_type": "stream",
     "text": [
      "5\n"
     ]
    },
    {
     "name": "stderr",
     "output_type": "stream",
     "text": [
      "Epoch [76/300]:  18%|██████████▏                                             | 6/33 [00:00<00:00, 55.31it/s, loss=0.815]"
     ]
    },
    {
     "name": "stdout",
     "output_type": "stream",
     "text": [
      "6\n",
      "7\n",
      "8\n"
     ]
    },
    {
     "name": "stderr",
     "output_type": "stream",
     "text": [
      "Epoch [76/300]:  36%|████████████████████                                   | 12/33 [00:00<00:00, 55.28it/s, loss=0.826]"
     ]
    },
    {
     "name": "stdout",
     "output_type": "stream",
     "text": [
      "9\n",
      "10\n",
      "11\n",
      "12\n"
     ]
    },
    {
     "name": "stderr",
     "output_type": "stream",
     "text": [
      "Epoch [76/300]:  36%|████████████████████                                   | 12/33 [00:00<00:00, 55.28it/s, loss=0.927]"
     ]
    },
    {
     "name": "stdout",
     "output_type": "stream",
     "text": [
      "13\n"
     ]
    },
    {
     "name": "stderr",
     "output_type": "stream",
     "text": [
      "Epoch [76/300]:  36%|████████████████████                                   | 12/33 [00:00<00:00, 55.28it/s, loss=0.849]"
     ]
    },
    {
     "name": "stdout",
     "output_type": "stream",
     "text": [
      "14\n",
      "15\n",
      "16\n"
     ]
    },
    {
     "name": "stderr",
     "output_type": "stream",
     "text": [
      "Epoch [76/300]:  58%|████████████████████████████████▏                       | 19/33 [00:00<00:00, 57.88it/s, loss=0.73]"
     ]
    },
    {
     "name": "stdout",
     "output_type": "stream",
     "text": [
      "17\n",
      "18\n"
     ]
    },
    {
     "name": "stderr",
     "output_type": "stream",
     "text": [
      "Epoch [76/300]:  58%|████████████████████████████████▏                       | 19/33 [00:00<00:00, 57.88it/s, loss=0.75]"
     ]
    },
    {
     "name": "stdout",
     "output_type": "stream",
     "text": [
      "19\n",
      "20\n",
      "21\n"
     ]
    },
    {
     "name": "stderr",
     "output_type": "stream",
     "text": [
      "Epoch [76/300]:  76%|███████████████████████████████████████████▏             | 25/33 [00:00<00:00, 55.84it/s, loss=0.6]"
     ]
    },
    {
     "name": "stdout",
     "output_type": "stream",
     "text": [
      "22\n",
      "23\n",
      "24\n"
     ]
    },
    {
     "name": "stderr",
     "output_type": "stream",
     "text": [
      "Epoch [76/300]:  76%|██████████████████████████████████████████▍             | 25/33 [00:00<00:00, 55.84it/s, loss=1.01]"
     ]
    },
    {
     "name": "stdout",
     "output_type": "stream",
     "text": [
      "25\n",
      "26\n",
      "27\n"
     ]
    },
    {
     "name": "stderr",
     "output_type": "stream",
     "text": [
      "Epoch [76/300]:  76%|█████████████████████████████████████████▋             | 25/33 [00:00<00:00, 55.84it/s, loss=0.765]"
     ]
    },
    {
     "name": "stdout",
     "output_type": "stream",
     "text": [
      "28\n",
      "29\n"
     ]
    },
    {
     "name": "stderr",
     "output_type": "stream",
     "text": [
      "Epoch [76/300]: 100%|████████████████████████████████████████████████████████| 33/33 [00:00<00:00, 56.38it/s, loss=0.88]\n",
      "\n",
      "Epoch [76/300]:   0%|                                                                  | 0/5 [00:00<?, ?it/s, loss=1.59]\u001b[A\n",
      "Epoch [76/300]:  20%|███████████▌                                              | 1/5 [00:00<00:02,  1.67it/s, loss=1.59]\u001b[A"
     ]
    },
    {
     "name": "stdout",
     "output_type": "stream",
     "text": [
      "30\n",
      "31\n",
      "32\n",
      "0\n"
     ]
    },
    {
     "name": "stderr",
     "output_type": "stream",
     "text": [
      "\n",
      "Epoch [76/300]:  20%|███████████▍                                             | 1/5 [00:00<00:02,  1.67it/s, loss=0.888]\u001b[A\n",
      "Epoch [76/300]:  20%|███████████▌                                              | 1/5 [00:00<00:02,  1.67it/s, loss=0.77]\u001b[A\n",
      "Epoch [76/300]:  20%|███████████▌                                              | 1/5 [00:00<00:02,  1.67it/s, loss=1.17]\u001b[A\n",
      "Epoch [76/300]: 100%|█████████████████████████████████████████████████████████| 5/5 [00:00<00:00,  7.52it/s, loss=0.134]\u001b[A\n"
     ]
    },
    {
     "name": "stdout",
     "output_type": "stream",
     "text": [
      "1\n",
      "2\n",
      "3\n",
      "4\n",
      "model improved and saved\n",
      "\n",
      "Epoch 76: train loss: 0.8376739043177981 \n",
      "Epoch 76: valid loss: 0.9098244458436966 \n"
     ]
    },
    {
     "name": "stderr",
     "output_type": "stream",
     "text": [
      "  0%|                                                                                            | 0/33 [00:00<?, ?it/s]\n",
      "Epoch [77/300]:   0%|                                                                            | 0/33 [00:00<?, ?it/s]\u001b[A\n",
      "Epoch [77/300]:   0%|                                                                | 0/33 [00:00<?, ?it/s, loss=0.789]\u001b[A"
     ]
    },
    {
     "name": "stdout",
     "output_type": "stream",
     "text": [
      "0\n"
     ]
    },
    {
     "name": "stderr",
     "output_type": "stream",
     "text": [
      "Epoch [77/300]:   0%|                                                                | 0/33 [00:00<?, ?it/s, loss=0.786]"
     ]
    },
    {
     "name": "stdout",
     "output_type": "stream",
     "text": [
      "1\n",
      "2\n"
     ]
    },
    {
     "name": "stderr",
     "output_type": "stream",
     "text": [
      "Epoch [77/300]:  15%|████████▍                                               | 5/33 [00:00<00:00, 47.83it/s, loss=0.694]"
     ]
    },
    {
     "name": "stdout",
     "output_type": "stream",
     "text": [
      "3\n",
      "4\n",
      "5\n",
      "6\n"
     ]
    },
    {
     "name": "stderr",
     "output_type": "stream",
     "text": [
      "Epoch [77/300]:  36%|████████████████████                                   | 12/33 [00:00<00:00, 57.76it/s, loss=0.479]"
     ]
    },
    {
     "name": "stdout",
     "output_type": "stream",
     "text": [
      "7\n",
      "8\n",
      "9\n",
      "10\n",
      "11\n",
      "12\n"
     ]
    },
    {
     "name": "stderr",
     "output_type": "stream",
     "text": [
      "\r",
      "Epoch [77/300]:  36%|████████████████████                                   | 12/33 [00:00<00:00, 57.76it/s, loss=0.905]"
     ]
    },
    {
     "name": "stdout",
     "output_type": "stream",
     "text": [
      "13\n"
     ]
    },
    {
     "name": "stderr",
     "output_type": "stream",
     "text": [
      "Epoch [77/300]:  36%|████████████████████                                   | 12/33 [00:00<00:00, 57.76it/s, loss=0.685]"
     ]
    },
    {
     "name": "stdout",
     "output_type": "stream",
     "text": [
      "14\n",
      "15\n"
     ]
    },
    {
     "name": "stderr",
     "output_type": "stream",
     "text": [
      "Epoch [77/300]:  55%|█████████████████████████████▉                         | 18/33 [00:00<00:00, 57.98it/s, loss=0.606]"
     ]
    },
    {
     "name": "stdout",
     "output_type": "stream",
     "text": [
      "16\n",
      "17\n",
      "18\n",
      "19\n"
     ]
    },
    {
     "name": "stderr",
     "output_type": "stream",
     "text": [
      "Epoch [77/300]:  76%|█████████████████████████████████████████▋             | 25/33 [00:00<00:00, 59.97it/s, loss=0.953]"
     ]
    },
    {
     "name": "stdout",
     "output_type": "stream",
     "text": [
      "20\n",
      "21\n",
      "22\n",
      "23\n",
      "24\n",
      "25\n"
     ]
    },
    {
     "name": "stderr",
     "output_type": "stream",
     "text": [
      "\r",
      "Epoch [77/300]:  76%|██████████████████████████████████████████▍             | 25/33 [00:00<00:00, 59.97it/s, loss=0.59]"
     ]
    },
    {
     "name": "stdout",
     "output_type": "stream",
     "text": [
      "26\n"
     ]
    },
    {
     "name": "stderr",
     "output_type": "stream",
     "text": [
      "Epoch [77/300]:  76%|█████████████████████████████████████████▋             | 25/33 [00:00<00:00, 59.97it/s, loss=0.989]"
     ]
    },
    {
     "name": "stdout",
     "output_type": "stream",
     "text": [
      "27\n",
      "28\n"
     ]
    },
    {
     "name": "stderr",
     "output_type": "stream",
     "text": [
      "Epoch [77/300]: 100%|███████████████████████████████████████████████████████| 33/33 [00:00<00:00, 60.15it/s, loss=0.369]\n",
      "\n",
      "Epoch [77/300]:   0%|                                                                  | 0/5 [00:00<?, ?it/s, loss=1.59]\u001b[A\n",
      "Epoch [77/300]:  20%|███████████▌                                              | 1/5 [00:00<00:02,  1.79it/s, loss=1.59]"
     ]
    },
    {
     "name": "stdout",
     "output_type": "stream",
     "text": [
      "29\n",
      "30\n",
      "31\n",
      "32\n",
      "0\n"
     ]
    },
    {
     "name": "stderr",
     "output_type": "stream",
     "text": [
      "\u001b[A\n",
      "Epoch [77/300]:  20%|███████████▍                                             | 1/5 [00:00<00:02,  1.79it/s, loss=0.888]\u001b[A\n",
      "Epoch [77/300]:  20%|███████████▌                                              | 1/5 [00:00<00:02,  1.79it/s, loss=0.77]\u001b[A\n",
      "Epoch [77/300]:  20%|███████████▌                                              | 1/5 [00:00<00:02,  1.79it/s, loss=1.17]\u001b[A\n",
      "Epoch [77/300]: 100%|█████████████████████████████████████████████████████████| 5/5 [00:00<00:00,  8.03it/s, loss=0.134]\u001b[A\n"
     ]
    },
    {
     "name": "stdout",
     "output_type": "stream",
     "text": [
      "1\n",
      "2\n",
      "3\n",
      "4\n",
      "model improved and saved\n",
      "\n",
      "Epoch 77: train loss: 0.8258942130840186 \n",
      "Epoch 77: valid loss: 0.9098171085119248 \n"
     ]
    },
    {
     "name": "stderr",
     "output_type": "stream",
     "text": [
      "  0%|                                                                                            | 0/33 [00:00<?, ?it/s]\n",
      "Epoch [78/300]:   0%|                                                                            | 0/33 [00:00<?, ?it/s]\u001b[A\n",
      "Epoch [78/300]:   0%|                                                                | 0/33 [00:00<?, ?it/s, loss=0.773]\u001b[A"
     ]
    },
    {
     "name": "stdout",
     "output_type": "stream",
     "text": [
      "0\n",
      "1\n"
     ]
    },
    {
     "name": "stderr",
     "output_type": "stream",
     "text": [
      "Epoch [78/300]:   0%|                                                                | 0/33 [00:00<?, ?it/s, loss=0.895]"
     ]
    },
    {
     "name": "stdout",
     "output_type": "stream",
     "text": [
      "2\n",
      "3\n"
     ]
    },
    {
     "name": "stderr",
     "output_type": "stream",
     "text": [
      "Epoch [78/300]:  18%|██████████▏                                             | 6/33 [00:00<00:00, 56.46it/s, loss=0.967]"
     ]
    },
    {
     "name": "stdout",
     "output_type": "stream",
     "text": [
      "4\n",
      "5\n",
      "6\n",
      "7\n"
     ]
    },
    {
     "name": "stderr",
     "output_type": "stream",
     "text": [
      "Epoch [78/300]:  39%|██████████████████████                                  | 13/33 [00:00<00:00, 58.49it/s, loss=1.06]"
     ]
    },
    {
     "name": "stdout",
     "output_type": "stream",
     "text": [
      "8\n",
      "9\n",
      "10\n",
      "11\n",
      "12\n"
     ]
    },
    {
     "name": "stderr",
     "output_type": "stream",
     "text": [
      "Epoch [78/300]:  39%|█████████████████████▋                                 | 13/33 [00:00<00:00, 58.49it/s, loss=0.598]"
     ]
    },
    {
     "name": "stdout",
     "output_type": "stream",
     "text": [
      "13\n",
      "14\n"
     ]
    },
    {
     "name": "stderr",
     "output_type": "stream",
     "text": [
      "Epoch [78/300]:  39%|██████████████████████                                  | 13/33 [00:00<00:00, 58.49it/s, loss=1.03]"
     ]
    },
    {
     "name": "stdout",
     "output_type": "stream",
     "text": [
      "15\n",
      "16\n"
     ]
    },
    {
     "name": "stderr",
     "output_type": "stream",
     "text": [
      "Epoch [78/300]:  61%|█████████████████████████████████▎                     | 20/33 [00:00<00:00, 62.58it/s, loss=0.612]"
     ]
    },
    {
     "name": "stdout",
     "output_type": "stream",
     "text": [
      "17\n",
      "18\n",
      "19\n",
      "20\n"
     ]
    },
    {
     "name": "stderr",
     "output_type": "stream",
     "text": [
      "Epoch [78/300]:  61%|█████████████████████████████████▉                      | 20/33 [00:00<00:00, 62.58it/s, loss=0.99]"
     ]
    },
    {
     "name": "stdout",
     "output_type": "stream",
     "text": [
      "21\n",
      "22\n",
      "23\n",
      "24\n",
      "25\n"
     ]
    },
    {
     "name": "stderr",
     "output_type": "stream",
     "text": [
      "Epoch [78/300]:  82%|█████████████████████████████████████████████          | 27/33 [00:00<00:00, 60.83it/s, loss=0.871]"
     ]
    },
    {
     "name": "stdout",
     "output_type": "stream",
     "text": [
      "26\n",
      "27\n"
     ]
    },
    {
     "name": "stderr",
     "output_type": "stream",
     "text": [
      "\r",
      "Epoch [78/300]:  82%|█████████████████████████████████████████████          | 27/33 [00:00<00:00, 60.83it/s, loss=0.824]"
     ]
    },
    {
     "name": "stdout",
     "output_type": "stream",
     "text": [
      "28\n"
     ]
    },
    {
     "name": "stderr",
     "output_type": "stream",
     "text": [
      "Epoch [78/300]: 100%|███████████████████████████████████████████████████████| 33/33 [00:00<00:00, 60.95it/s, loss=0.936]\n",
      "\n",
      "Epoch [78/300]:   0%|                                                                  | 0/5 [00:00<?, ?it/s, loss=1.59]\u001b[A\n",
      "Epoch [78/300]:  20%|███████████▌                                              | 1/5 [00:00<00:02,  1.81it/s, loss=1.59]\u001b[A"
     ]
    },
    {
     "name": "stdout",
     "output_type": "stream",
     "text": [
      "29\n",
      "30\n",
      "31\n",
      "32\n",
      "0\n"
     ]
    },
    {
     "name": "stderr",
     "output_type": "stream",
     "text": [
      "\n",
      "Epoch [78/300]:  20%|███████████▍                                             | 1/5 [00:00<00:02,  1.81it/s, loss=0.888]\u001b[A\n",
      "Epoch [78/300]:  20%|███████████▌                                              | 1/5 [00:00<00:02,  1.81it/s, loss=0.77]\u001b[A\n",
      "Epoch [78/300]:  20%|███████████▌                                              | 1/5 [00:00<00:02,  1.81it/s, loss=1.17]\u001b[A\n",
      "Epoch [78/300]: 100%|█████████████████████████████████████████████████████████| 5/5 [00:00<00:00,  8.13it/s, loss=0.134]\u001b[A\n"
     ]
    },
    {
     "name": "stdout",
     "output_type": "stream",
     "text": [
      "1\n",
      "2\n",
      "3\n",
      "4\n",
      "model improved and saved\n",
      "\n",
      "Epoch 78: train loss: 0.8399605877471693 \n",
      "Epoch 78: valid loss: 0.9098343849182129 \n"
     ]
    },
    {
     "name": "stderr",
     "output_type": "stream",
     "text": [
      "  0%|                                                                                            | 0/33 [00:00<?, ?it/s]\n",
      "Epoch [79/300]:   0%|                                                                            | 0/33 [00:00<?, ?it/s]\u001b[A\n",
      "Epoch [79/300]:   0%|                                                                 | 0/33 [00:00<?, ?it/s, loss=0.78]\u001b[A"
     ]
    },
    {
     "name": "stdout",
     "output_type": "stream",
     "text": [
      "0\n",
      "1\n"
     ]
    },
    {
     "name": "stderr",
     "output_type": "stream",
     "text": [
      "\r",
      "Epoch [79/300]:   0%|                                                                | 0/33 [00:00<?, ?it/s, loss=0.729]"
     ]
    },
    {
     "name": "stdout",
     "output_type": "stream",
     "text": [
      "2\n"
     ]
    },
    {
     "name": "stderr",
     "output_type": "stream",
     "text": [
      "Epoch [79/300]:  15%|████████▍                                               | 5/33 [00:00<00:00, 45.84it/s, loss=0.802]"
     ]
    },
    {
     "name": "stdout",
     "output_type": "stream",
     "text": [
      "3\n",
      "4\n",
      "5\n",
      "6\n"
     ]
    },
    {
     "name": "stderr",
     "output_type": "stream",
     "text": [
      "Epoch [79/300]:  33%|██████████████████▋                                     | 11/33 [00:00<00:00, 52.06it/s, loss=1.13]"
     ]
    },
    {
     "name": "stdout",
     "output_type": "stream",
     "text": [
      "7\n",
      "8\n",
      "9\n",
      "10\n"
     ]
    },
    {
     "name": "stderr",
     "output_type": "stream",
     "text": [
      "Epoch [79/300]:  33%|██████████████████▎                                    | 11/33 [00:00<00:00, 52.06it/s, loss=0.621]"
     ]
    },
    {
     "name": "stdout",
     "output_type": "stream",
     "text": [
      "11\n",
      "12\n"
     ]
    },
    {
     "name": "stderr",
     "output_type": "stream",
     "text": [
      "\r",
      "Epoch [79/300]:  33%|██████████████████▎                                    | 11/33 [00:00<00:00, 52.06it/s, loss=0.673]"
     ]
    },
    {
     "name": "stdout",
     "output_type": "stream",
     "text": [
      "13\n"
     ]
    },
    {
     "name": "stderr",
     "output_type": "stream",
     "text": [
      "Epoch [79/300]:  55%|██████████████████████████████▌                         | 18/33 [00:00<00:00, 56.94it/s, loss=0.83]"
     ]
    },
    {
     "name": "stdout",
     "output_type": "stream",
     "text": [
      "14\n",
      "15\n",
      "16\n",
      "17\n",
      "18\n",
      "19\n"
     ]
    },
    {
     "name": "stderr",
     "output_type": "stream",
     "text": [
      "Epoch [79/300]:  55%|██████████████████████████████▌                         | 18/33 [00:00<00:00, 56.94it/s, loss=1.09]"
     ]
    },
    {
     "name": "stdout",
     "output_type": "stream",
     "text": [
      "20\n",
      "21\n",
      "22\n",
      "23\n"
     ]
    },
    {
     "name": "stderr",
     "output_type": "stream",
     "text": [
      "Epoch [79/300]:  76%|█████████████████████████████████████████▋             | 25/33 [00:00<00:00, 59.74it/s, loss=0.599]"
     ]
    },
    {
     "name": "stdout",
     "output_type": "stream",
     "text": [
      "24\n",
      "25\n",
      "26\n"
     ]
    },
    {
     "name": "stderr",
     "output_type": "stream",
     "text": [
      "\r",
      "Epoch [79/300]:  76%|█████████████████████████████████████████▋             | 25/33 [00:00<00:00, 59.74it/s, loss=0.753]"
     ]
    },
    {
     "name": "stdout",
     "output_type": "stream",
     "text": [
      "27\n"
     ]
    },
    {
     "name": "stderr",
     "output_type": "stream",
     "text": [
      "Epoch [79/300]: 100%|████████████████████████████████████████████████████████| 33/33 [00:00<00:00, 59.37it/s, loss=1.47]\n",
      "\n",
      "Epoch [79/300]:   0%|                                                                  | 0/5 [00:00<?, ?it/s, loss=1.59]\u001b[A\n",
      "Epoch [79/300]:  20%|███████████▌                                              | 1/5 [00:00<00:02,  1.76it/s, loss=1.59]\u001b[A"
     ]
    },
    {
     "name": "stdout",
     "output_type": "stream",
     "text": [
      "28\n",
      "29\n",
      "30\n",
      "31\n",
      "32\n",
      "0\n"
     ]
    },
    {
     "name": "stderr",
     "output_type": "stream",
     "text": [
      "\n",
      "Epoch [79/300]:  20%|███████████▍                                             | 1/5 [00:00<00:02,  1.76it/s, loss=0.888]\u001b[A\n",
      "Epoch [79/300]:  20%|███████████▌                                              | 1/5 [00:00<00:02,  1.76it/s, loss=0.77]\u001b[A\n",
      "Epoch [79/300]:  20%|███████████▌                                              | 1/5 [00:00<00:02,  1.76it/s, loss=1.17]\u001b[A\n",
      "Epoch [79/300]: 100%|█████████████████████████████████████████████████████████| 5/5 [00:00<00:00,  8.08it/s, loss=0.134]\u001b[A\n"
     ]
    },
    {
     "name": "stdout",
     "output_type": "stream",
     "text": [
      "1\n",
      "2\n",
      "3\n",
      "4\n",
      "model improved and saved\n",
      "\n",
      "Epoch 79: train loss: 0.8529932733738061 \n",
      "Epoch 79: valid loss: 0.9098696023225784 \n"
     ]
    },
    {
     "name": "stderr",
     "output_type": "stream",
     "text": [
      "  0%|                                                                                            | 0/33 [00:00<?, ?it/s]\n",
      "Epoch [80/300]:   0%|                                                                            | 0/33 [00:00<?, ?it/s]\u001b[A\n",
      "Epoch [80/300]:   0%|                                                                | 0/33 [00:00<?, ?it/s, loss=0.735]\u001b[A"
     ]
    },
    {
     "name": "stdout",
     "output_type": "stream",
     "text": [
      "0\n",
      "1\n",
      "2\n"
     ]
    },
    {
     "name": "stderr",
     "output_type": "stream",
     "text": [
      "\r",
      "Epoch [80/300]:   0%|                                                                | 0/33 [00:00<?, ?it/s, loss=0.771]"
     ]
    },
    {
     "name": "stdout",
     "output_type": "stream",
     "text": [
      "3\n"
     ]
    },
    {
     "name": "stderr",
     "output_type": "stream",
     "text": [
      "Epoch [80/300]:  21%|███████████▉                                            | 7/33 [00:00<00:00, 64.87it/s, loss=0.769]"
     ]
    },
    {
     "name": "stdout",
     "output_type": "stream",
     "text": [
      "4\n",
      "5\n",
      "6\n",
      "7\n",
      "8\n",
      "9\n"
     ]
    },
    {
     "name": "stderr",
     "output_type": "stream",
     "text": [
      "Epoch [80/300]:  42%|███████████████████████▎                               | 14/33 [00:00<00:00, 63.64it/s, loss=0.915]"
     ]
    },
    {
     "name": "stdout",
     "output_type": "stream",
     "text": [
      "10\n",
      "11\n",
      "12\n",
      "13\n"
     ]
    },
    {
     "name": "stderr",
     "output_type": "stream",
     "text": [
      "Epoch [80/300]:  42%|███████████████████████▎                               | 14/33 [00:00<00:00, 63.64it/s, loss=0.794]"
     ]
    },
    {
     "name": "stdout",
     "output_type": "stream",
     "text": [
      "14\n",
      "15\n",
      "16\n"
     ]
    },
    {
     "name": "stderr",
     "output_type": "stream",
     "text": [
      "Epoch [80/300]:  64%|███████████████████████████████████▋                    | 21/33 [00:00<00:00, 63.26it/s, loss=1.04]"
     ]
    },
    {
     "name": "stdout",
     "output_type": "stream",
     "text": [
      "17\n",
      "18\n",
      "19\n",
      "20\n",
      "21\n",
      "22\n"
     ]
    },
    {
     "name": "stderr",
     "output_type": "stream",
     "text": [
      "Epoch [80/300]:  64%|███████████████████████████████████▋                    | 21/33 [00:00<00:00, 63.26it/s, loss=1.22]"
     ]
    },
    {
     "name": "stdout",
     "output_type": "stream",
     "text": [
      "23\n",
      "24\n",
      "25\n",
      "26\n",
      "27\n"
     ]
    },
    {
     "name": "stderr",
     "output_type": "stream",
     "text": [
      "Epoch [80/300]:  85%|███████████████████████████████████████████████▌        | 28/33 [00:00<00:00, 64.31it/s, loss=1.06]"
     ]
    },
    {
     "name": "stdout",
     "output_type": "stream",
     "text": [
      "28\n",
      "29\n",
      "30\n"
     ]
    },
    {
     "name": "stderr",
     "output_type": "stream",
     "text": [
      "Epoch [80/300]: 100%|███████████████████████████████████████████████████████| 33/33 [00:00<00:00, 65.61it/s, loss=0.481]\n",
      "\n",
      "Epoch [80/300]:   0%|                                                                  | 0/5 [00:00<?, ?it/s, loss=1.59]\u001b[A\n",
      "Epoch [80/300]:  20%|███████████▌                                              | 1/5 [00:00<00:02,  1.95it/s, loss=1.59]\u001b[A\n",
      "Epoch [80/300]:  20%|███████████▍                                             | 1/5 [00:00<00:02,  1.95it/s, loss=0.889]\u001b[A\n",
      "Epoch [80/300]:  20%|███████████▌                                              | 1/5 [00:00<00:02,  1.95it/s, loss=0.77]\u001b[A\n",
      "Epoch [80/300]:  20%|███████████▌                                              | 1/5 [00:00<00:02,  1.95it/s, loss=1.17]"
     ]
    },
    {
     "name": "stdout",
     "output_type": "stream",
     "text": [
      "31\n",
      "32\n",
      "0\n",
      "1\n",
      "2\n",
      "3\n"
     ]
    },
    {
     "name": "stderr",
     "output_type": "stream",
     "text": [
      "\u001b[A\n",
      "Epoch [80/300]: 100%|█████████████████████████████████████████████████████████| 5/5 [00:00<00:00,  8.56it/s, loss=0.134]\u001b[A\n"
     ]
    },
    {
     "name": "stdout",
     "output_type": "stream",
     "text": [
      "4\n",
      "model improved and saved\n",
      "\n",
      "Epoch 80: train loss: 0.826966359759822 \n",
      "Epoch 80: valid loss: 0.9099678665399551 \n"
     ]
    },
    {
     "name": "stderr",
     "output_type": "stream",
     "text": [
      "  0%|                                                                                            | 0/33 [00:00<?, ?it/s]\n",
      "Epoch [81/300]:   0%|                                                                            | 0/33 [00:00<?, ?it/s]\u001b[A\n",
      "Epoch [81/300]:   0%|                                                                | 0/33 [00:00<?, ?it/s, loss=0.956]\u001b[A"
     ]
    },
    {
     "name": "stdout",
     "output_type": "stream",
     "text": [
      "0\n"
     ]
    },
    {
     "name": "stderr",
     "output_type": "stream",
     "text": [
      "Epoch [81/300]:   6%|███▍                                                    | 2/33 [00:00<00:01, 15.71it/s, loss=0.867]"
     ]
    },
    {
     "name": "stdout",
     "output_type": "stream",
     "text": [
      "1\n",
      "2\n",
      "3\n",
      "4\n",
      "5\n"
     ]
    },
    {
     "name": "stderr",
     "output_type": "stream",
     "text": [
      "Epoch [81/300]:   6%|███▍                                                    | 2/33 [00:00<00:01, 15.71it/s, loss=0.598]"
     ]
    },
    {
     "name": "stdout",
     "output_type": "stream",
     "text": [
      "6\n",
      "7\n"
     ]
    },
    {
     "name": "stderr",
     "output_type": "stream",
     "text": [
      "Epoch [81/300]:  27%|███████████████▎                                        | 9/33 [00:00<00:00, 42.92it/s, loss=0.441]"
     ]
    },
    {
     "name": "stdout",
     "output_type": "stream",
     "text": [
      "8\n",
      "9\n",
      "10\n",
      "11\n",
      "12\n",
      "13\n",
      "14\n"
     ]
    },
    {
     "name": "stderr",
     "output_type": "stream",
     "text": [
      "Epoch [81/300]:  48%|██████████████████████████▋                            | 16/33 [00:00<00:00, 52.90it/s, loss=0.932]"
     ]
    },
    {
     "name": "stdout",
     "output_type": "stream",
     "text": [
      "15\n",
      "16\n",
      "17\n",
      "18\n",
      "19\n"
     ]
    },
    {
     "name": "stderr",
     "output_type": "stream",
     "text": [
      "\r",
      "Epoch [81/300]:  48%|██████████████████████████▋                            | 16/33 [00:00<00:00, 52.90it/s, loss=0.627]"
     ]
    },
    {
     "name": "stdout",
     "output_type": "stream",
     "text": [
      "20\n"
     ]
    },
    {
     "name": "stderr",
     "output_type": "stream",
     "text": [
      "Epoch [81/300]:  70%|███████████████████████████████████████                 | 23/33 [00:00<00:00, 55.96it/s, loss=1.02]"
     ]
    },
    {
     "name": "stdout",
     "output_type": "stream",
     "text": [
      "21\n",
      "22\n",
      "23\n",
      "24\n",
      "25\n",
      "26\n",
      "27\n"
     ]
    },
    {
     "name": "stderr",
     "output_type": "stream",
     "text": [
      "Epoch [81/300]: 100%|███████████████████████████████████████████████████████| 33/33 [00:00<00:00, 55.51it/s, loss=0.816]\n",
      "\n",
      "Epoch [81/300]:   0%|                                                                  | 0/5 [00:00<?, ?it/s, loss=1.59]\u001b[A\n",
      "Epoch [81/300]:  20%|███████████▌                                              | 1/5 [00:00<00:02,  1.66it/s, loss=1.59]\u001b[A"
     ]
    },
    {
     "name": "stdout",
     "output_type": "stream",
     "text": [
      "28\n",
      "29\n",
      "30\n",
      "31\n",
      "32\n",
      "0\n"
     ]
    },
    {
     "name": "stderr",
     "output_type": "stream",
     "text": [
      "\n",
      "Epoch [81/300]:  20%|███████████▍                                             | 1/5 [00:00<00:02,  1.66it/s, loss=0.889]\u001b[A"
     ]
    },
    {
     "name": "stdout",
     "output_type": "stream",
     "text": [
      "1\n"
     ]
    },
    {
     "name": "stderr",
     "output_type": "stream",
     "text": [
      "\n",
      "Epoch [81/300]:  20%|███████████▌                                              | 1/5 [00:00<00:02,  1.66it/s, loss=0.77]\u001b[A\n",
      "Epoch [81/300]:  20%|███████████▌                                              | 1/5 [00:00<00:02,  1.66it/s, loss=1.17]\u001b[A\n",
      "Epoch [81/300]: 100%|█████████████████████████████████████████████████████████| 5/5 [00:00<00:00,  7.58it/s, loss=0.134]\u001b[A\n"
     ]
    },
    {
     "name": "stdout",
     "output_type": "stream",
     "text": [
      "2\n",
      "3\n",
      "4\n",
      "model improved and saved\n",
      "\n",
      "Epoch 81: train loss: 0.8330150625922463 \n",
      "Epoch 81: valid loss: 0.910067680478096 \n"
     ]
    },
    {
     "name": "stderr",
     "output_type": "stream",
     "text": [
      "  0%|                                                                                            | 0/33 [00:00<?, ?it/s]\n",
      "Epoch [82/300]:   0%|                                                                            | 0/33 [00:00<?, ?it/s]\u001b[A\n",
      "Epoch [82/300]:   0%|                                                                 | 0/33 [00:00<?, ?it/s, loss=0.71]\u001b[A"
     ]
    },
    {
     "name": "stdout",
     "output_type": "stream",
     "text": [
      "0\n",
      "1\n",
      "2\n",
      "3\n"
     ]
    },
    {
     "name": "stderr",
     "output_type": "stream",
     "text": [
      "Epoch [82/300]:  18%|██████████▏                                             | 6/33 [00:00<00:00, 59.18it/s, loss=0.763]"
     ]
    },
    {
     "name": "stdout",
     "output_type": "stream",
     "text": [
      "4\n",
      "5\n",
      "6\n",
      "7\n",
      "8\n"
     ]
    },
    {
     "name": "stderr",
     "output_type": "stream",
     "text": [
      "\r",
      "Epoch [82/300]:  18%|██████████▏                                             | 6/33 [00:00<00:00, 59.18it/s, loss=0.764]"
     ]
    },
    {
     "name": "stdout",
     "output_type": "stream",
     "text": [
      "9\n"
     ]
    },
    {
     "name": "stderr",
     "output_type": "stream",
     "text": [
      "Epoch [82/300]:  39%|███████████████████████▏                                   | 13/33 [00:00<00:00, 61.19it/s, loss=1]"
     ]
    },
    {
     "name": "stdout",
     "output_type": "stream",
     "text": [
      "10\n",
      "11\n",
      "12\n"
     ]
    },
    {
     "name": "stderr",
     "output_type": "stream",
     "text": [
      "Epoch [82/300]:  39%|█████████████████████▋                                 | 13/33 [00:00<00:00, 61.19it/s, loss=0.692]"
     ]
    },
    {
     "name": "stdout",
     "output_type": "stream",
     "text": [
      "13\n",
      "14\n",
      "15\n",
      "16\n"
     ]
    },
    {
     "name": "stderr",
     "output_type": "stream",
     "text": [
      "Epoch [82/300]:  61%|█████████████████████████████████▎                     | 20/33 [00:00<00:00, 59.35it/s, loss=0.749]"
     ]
    },
    {
     "name": "stdout",
     "output_type": "stream",
     "text": [
      "17\n",
      "18\n",
      "19\n",
      "20\n",
      "21\n"
     ]
    },
    {
     "name": "stderr",
     "output_type": "stream",
     "text": [
      "\r",
      "Epoch [82/300]:  61%|█████████████████████████████████▎                     | 20/33 [00:00<00:00, 59.35it/s, loss=0.972]"
     ]
    },
    {
     "name": "stdout",
     "output_type": "stream",
     "text": [
      "22\n"
     ]
    },
    {
     "name": "stderr",
     "output_type": "stream",
     "text": [
      "Epoch [82/300]:  61%|█████████████████████████████████▎                     | 20/33 [00:00<00:00, 59.35it/s, loss=0.924]"
     ]
    },
    {
     "name": "stdout",
     "output_type": "stream",
     "text": [
      "23\n",
      "24\n",
      "25\n"
     ]
    },
    {
     "name": "stderr",
     "output_type": "stream",
     "text": [
      "Epoch [82/300]:  82%|█████████████████████████████████████████████          | 27/33 [00:00<00:00, 60.37it/s, loss=0.824]"
     ]
    },
    {
     "name": "stdout",
     "output_type": "stream",
     "text": [
      "26\n",
      "27\n",
      "28\n",
      "29\n"
     ]
    },
    {
     "name": "stderr",
     "output_type": "stream",
     "text": [
      "Epoch [82/300]: 100%|████████████████████████████████████████████████████████| 33/33 [00:00<00:00, 62.19it/s, loss=1.43]\n",
      "\n",
      "Epoch [82/300]:   0%|                                                                  | 0/5 [00:00<?, ?it/s, loss=1.59]\u001b[A\n",
      "Epoch [82/300]:  20%|███████████▌                                              | 1/5 [00:00<00:02,  1.84it/s, loss=1.59]\u001b[A\n",
      "Epoch [82/300]:  20%|███████████▍                                             | 1/5 [00:00<00:02,  1.84it/s, loss=0.889]\u001b[A"
     ]
    },
    {
     "name": "stdout",
     "output_type": "stream",
     "text": [
      "30\n",
      "31\n",
      "32\n",
      "0\n",
      "1\n"
     ]
    },
    {
     "name": "stderr",
     "output_type": "stream",
     "text": [
      "\n",
      "Epoch [82/300]:  20%|███████████▌                                              | 1/5 [00:00<00:02,  1.84it/s, loss=0.77]\u001b[A"
     ]
    },
    {
     "name": "stdout",
     "output_type": "stream",
     "text": [
      "2\n"
     ]
    },
    {
     "name": "stderr",
     "output_type": "stream",
     "text": [
      "\n",
      "Epoch [82/300]:  20%|███████████▌                                              | 1/5 [00:00<00:02,  1.84it/s, loss=1.17]\u001b[A\n",
      "Epoch [82/300]: 100%|█████████████████████████████████████████████████████████| 5/5 [00:00<00:00,  8.16it/s, loss=0.134]\u001b[A\n"
     ]
    },
    {
     "name": "stdout",
     "output_type": "stream",
     "text": [
      "3\n",
      "4\n",
      "model improved and saved\n",
      "\n",
      "Epoch 82: train loss: 0.8494095531376925 \n",
      "Epoch 82: valid loss: 0.9100779831409455 \n"
     ]
    },
    {
     "name": "stderr",
     "output_type": "stream",
     "text": [
      "  0%|                                                                                            | 0/33 [00:00<?, ?it/s]\n",
      "Epoch [83/300]:   0%|                                                                            | 0/33 [00:00<?, ?it/s]\u001b[A\n",
      "Epoch [83/300]:   0%|                                                                | 0/33 [00:00<?, ?it/s, loss=0.813]\u001b[A"
     ]
    },
    {
     "name": "stdout",
     "output_type": "stream",
     "text": [
      "0\n",
      "1\n",
      "2\n",
      "3\n",
      "4\n"
     ]
    },
    {
     "name": "stderr",
     "output_type": "stream",
     "text": [
      "Epoch [83/300]:  21%|███████████▉                                            | 7/33 [00:00<00:00, 60.76it/s, loss=0.919]"
     ]
    },
    {
     "name": "stdout",
     "output_type": "stream",
     "text": [
      "5\n",
      "6\n",
      "7\n",
      "8\n",
      "9\n"
     ]
    },
    {
     "name": "stderr",
     "output_type": "stream",
     "text": [
      "\r",
      "Epoch [83/300]:  21%|████████████                                             | 7/33 [00:00<00:00, 60.76it/s, loss=1.25]"
     ]
    },
    {
     "name": "stdout",
     "output_type": "stream",
     "text": [
      "10\n"
     ]
    },
    {
     "name": "stderr",
     "output_type": "stream",
     "text": [
      "Epoch [83/300]:  21%|███████████▉                                            | 7/33 [00:00<00:00, 60.76it/s, loss=0.787]"
     ]
    },
    {
     "name": "stdout",
     "output_type": "stream",
     "text": [
      "11\n",
      "12\n"
     ]
    },
    {
     "name": "stderr",
     "output_type": "stream",
     "text": [
      "Epoch [83/300]:  42%|███████████████████████▎                               | 14/33 [00:00<00:00, 59.63it/s, loss=0.829]"
     ]
    },
    {
     "name": "stdout",
     "output_type": "stream",
     "text": [
      "13\n",
      "14\n",
      "15\n",
      "16\n"
     ]
    },
    {
     "name": "stderr",
     "output_type": "stream",
     "text": [
      "Epoch [83/300]:  64%|███████████████████████████████████                    | 21/33 [00:00<00:00, 59.89it/s, loss=0.853]"
     ]
    },
    {
     "name": "stdout",
     "output_type": "stream",
     "text": [
      "17\n",
      "18\n",
      "19\n",
      "20\n",
      "21\n"
     ]
    },
    {
     "name": "stderr",
     "output_type": "stream",
     "text": [
      "\r",
      "Epoch [83/300]:  64%|███████████████████████████████████                    | 21/33 [00:00<00:00, 59.89it/s, loss=0.611]"
     ]
    },
    {
     "name": "stdout",
     "output_type": "stream",
     "text": [
      "22\n"
     ]
    },
    {
     "name": "stderr",
     "output_type": "stream",
     "text": [
      "Epoch [83/300]:  64%|███████████████████████████████████                    | 21/33 [00:00<00:00, 59.89it/s, loss=0.723]"
     ]
    },
    {
     "name": "stdout",
     "output_type": "stream",
     "text": [
      "23\n",
      "24\n",
      "25\n"
     ]
    },
    {
     "name": "stderr",
     "output_type": "stream",
     "text": [
      "Epoch [83/300]:  85%|██████████████████████████████████████████████▋        | 28/33 [00:00<00:00, 60.12it/s, loss=0.618]"
     ]
    },
    {
     "name": "stdout",
     "output_type": "stream",
     "text": [
      "26\n",
      "27\n",
      "28\n",
      "29\n"
     ]
    },
    {
     "name": "stderr",
     "output_type": "stream",
     "text": [
      "Epoch [83/300]: 100%|███████████████████████████████████████████████████████| 33/33 [00:00<00:00, 61.71it/s, loss=0.337]\n",
      "\n",
      "Epoch [83/300]:   0%|                                                                  | 0/5 [00:00<?, ?it/s, loss=1.59]\u001b[A\n",
      "Epoch [83/300]:  20%|███████████▌                                              | 1/5 [00:00<00:02,  1.83it/s, loss=1.59]\u001b[A\n",
      "Epoch [83/300]:  20%|███████████▍                                             | 1/5 [00:00<00:02,  1.83it/s, loss=0.889]\u001b[A\n",
      "Epoch [83/300]:  20%|███████████▍                                             | 1/5 [00:00<00:02,  1.83it/s, loss=0.771]\u001b[A"
     ]
    },
    {
     "name": "stdout",
     "output_type": "stream",
     "text": [
      "30\n",
      "31\n",
      "32\n",
      "0\n",
      "1\n",
      "2\n"
     ]
    },
    {
     "name": "stderr",
     "output_type": "stream",
     "text": [
      "\n",
      "Epoch [83/300]:  20%|███████████▌                                              | 1/5 [00:00<00:02,  1.83it/s, loss=1.17]"
     ]
    },
    {
     "name": "stdout",
     "output_type": "stream",
     "text": [
      "3\n"
     ]
    },
    {
     "name": "stderr",
     "output_type": "stream",
     "text": [
      "\u001b[A\n",
      "Epoch [83/300]: 100%|█████████████████████████████████████████████████████████| 5/5 [00:00<00:00,  8.28it/s, loss=0.133]\u001b[A\n"
     ]
    },
    {
     "name": "stdout",
     "output_type": "stream",
     "text": [
      "4\n",
      "model improved and saved\n",
      "\n",
      "Epoch 83: train loss: 0.8203457521669792 \n",
      "Epoch 83: valid loss: 0.9102581173181534 \n"
     ]
    },
    {
     "name": "stderr",
     "output_type": "stream",
     "text": [
      "  0%|                                                                                            | 0/33 [00:00<?, ?it/s]\n",
      "Epoch [84/300]:   0%|                                                                            | 0/33 [00:00<?, ?it/s]\u001b[A\n",
      "Epoch [84/300]:   0%|                                                                 | 0/33 [00:00<?, ?it/s, loss=1.25]\u001b[A"
     ]
    },
    {
     "name": "stdout",
     "output_type": "stream",
     "text": [
      "0\n"
     ]
    },
    {
     "name": "stderr",
     "output_type": "stream",
     "text": [
      "Epoch [84/300]:   0%|                                                                 | 0/33 [00:00<?, ?it/s, loss=0.61]"
     ]
    },
    {
     "name": "stdout",
     "output_type": "stream",
     "text": [
      "1\n",
      "2\n",
      "3\n"
     ]
    },
    {
     "name": "stderr",
     "output_type": "stream",
     "text": [
      "Epoch [84/300]:  15%|████████▍                                               | 5/33 [00:00<00:00, 49.84it/s, loss=0.748]"
     ]
    },
    {
     "name": "stdout",
     "output_type": "stream",
     "text": [
      "4\n",
      "5\n",
      "6\n",
      "7\n",
      "8\n",
      "9\n"
     ]
    },
    {
     "name": "stderr",
     "output_type": "stream",
     "text": [
      "Epoch [84/300]:  36%|████████████████████                                   | 12/33 [00:00<00:00, 56.59it/s, loss=0.888]"
     ]
    },
    {
     "name": "stdout",
     "output_type": "stream",
     "text": [
      "10\n",
      "11\n"
     ]
    },
    {
     "name": "stderr",
     "output_type": "stream",
     "text": [
      "\r",
      "Epoch [84/300]:  36%|████████████████████▎                                   | 12/33 [00:00<00:00, 56.59it/s, loss=1.03]"
     ]
    },
    {
     "name": "stdout",
     "output_type": "stream",
     "text": [
      "12\n"
     ]
    },
    {
     "name": "stderr",
     "output_type": "stream",
     "text": [
      "Epoch [84/300]:  36%|████████████████████                                   | 12/33 [00:00<00:00, 56.59it/s, loss=0.557]"
     ]
    },
    {
     "name": "stdout",
     "output_type": "stream",
     "text": [
      "13\n",
      "14\n",
      "15\n",
      "16\n"
     ]
    },
    {
     "name": "stderr",
     "output_type": "stream",
     "text": [
      "Epoch [84/300]:  58%|███████████████████████████████▋                       | 19/33 [00:00<00:00, 58.92it/s, loss=0.825]"
     ]
    },
    {
     "name": "stdout",
     "output_type": "stream",
     "text": [
      "17\n",
      "18\n",
      "19\n",
      "20\n",
      "21\n",
      "22\n"
     ]
    },
    {
     "name": "stderr",
     "output_type": "stream",
     "text": [
      "Epoch [84/300]:  58%|████████████████████████████████▏                       | 19/33 [00:00<00:00, 58.92it/s, loss=1.18]"
     ]
    },
    {
     "name": "stdout",
     "output_type": "stream",
     "text": [
      "23\n",
      "24\n"
     ]
    },
    {
     "name": "stderr",
     "output_type": "stream",
     "text": [
      "Epoch [84/300]:  79%|███████████████████████████████████████████▎           | 26/33 [00:00<00:00, 61.19it/s, loss=0.856]"
     ]
    },
    {
     "name": "stdout",
     "output_type": "stream",
     "text": [
      "25\n"
     ]
    },
    {
     "name": "stderr",
     "output_type": "stream",
     "text": [
      "Epoch [84/300]:  79%|███████████████████████████████████████████▎           | 26/33 [00:00<00:00, 61.19it/s, loss=0.733]"
     ]
    },
    {
     "name": "stdout",
     "output_type": "stream",
     "text": [
      "26\n",
      "27\n",
      "28\n",
      "29\n"
     ]
    },
    {
     "name": "stderr",
     "output_type": "stream",
     "text": [
      "Epoch [84/300]: 100%|████████████████████████████████████████████████████████| 33/33 [00:00<00:00, 60.23it/s, loss=1.36]\n",
      "\n",
      "Epoch [84/300]:   0%|                                                                  | 0/5 [00:00<?, ?it/s, loss=1.59]\u001b[A\n",
      "Epoch [84/300]:  20%|███████████▌                                              | 1/5 [00:00<00:02,  1.78it/s, loss=1.59]\u001b[A\n",
      "Epoch [84/300]:  20%|███████████▍                                             | 1/5 [00:00<00:02,  1.78it/s, loss=0.889]\u001b[A\n",
      "Epoch [84/300]:  20%|███████████▍                                             | 1/5 [00:00<00:02,  1.78it/s, loss=0.771]"
     ]
    },
    {
     "name": "stdout",
     "output_type": "stream",
     "text": [
      "30\n",
      "31\n",
      "32\n",
      "0\n",
      "1\n",
      "2\n"
     ]
    },
    {
     "name": "stderr",
     "output_type": "stream",
     "text": [
      "\u001b[A\n",
      "Epoch [84/300]:  20%|███████████▌                                              | 1/5 [00:00<00:02,  1.78it/s, loss=1.17]\u001b[A\n",
      "Epoch [84/300]: 100%|█████████████████████████████████████████████████████████| 5/5 [00:00<00:00,  8.05it/s, loss=0.133]\u001b[A\n"
     ]
    },
    {
     "name": "stdout",
     "output_type": "stream",
     "text": [
      "3\n",
      "4\n",
      "model improved and saved\n",
      "\n",
      "Epoch 84: train loss: 0.8469279119462678 \n",
      "Epoch 84: valid loss: 0.9105898022651673 \n"
     ]
    },
    {
     "name": "stderr",
     "output_type": "stream",
     "text": [
      "  0%|                                                                                            | 0/33 [00:00<?, ?it/s]\n",
      "Epoch [85/300]:   0%|                                                                            | 0/33 [00:00<?, ?it/s]\u001b[A\n",
      "Epoch [85/300]:   0%|                                                                | 0/33 [00:00<?, ?it/s, loss=0.656]\u001b[A"
     ]
    },
    {
     "name": "stdout",
     "output_type": "stream",
     "text": [
      "0\n",
      "1\n",
      "2\n",
      "3\n",
      "4\n"
     ]
    },
    {
     "name": "stderr",
     "output_type": "stream",
     "text": [
      "Epoch [85/300]:  18%|██████████▏                                             | 6/33 [00:00<00:00, 54.30it/s, loss=0.991]"
     ]
    },
    {
     "name": "stdout",
     "output_type": "stream",
     "text": [
      "5\n",
      "6\n",
      "7\n",
      "8\n",
      "9\n",
      "10\n"
     ]
    },
    {
     "name": "stderr",
     "output_type": "stream",
     "text": [
      "Epoch [85/300]:  39%|█████████████████████▋                                 | 13/33 [00:00<00:00, 61.05it/s, loss=0.967]"
     ]
    },
    {
     "name": "stdout",
     "output_type": "stream",
     "text": [
      "11\n",
      "12\n"
     ]
    },
    {
     "name": "stderr",
     "output_type": "stream",
     "text": [
      "Epoch [85/300]:  39%|█████████████████████▋                                 | 13/33 [00:00<00:00, 61.05it/s, loss=0.933]"
     ]
    },
    {
     "name": "stdout",
     "output_type": "stream",
     "text": [
      "13\n",
      "14\n",
      "15\n",
      "16\n",
      "17\n"
     ]
    },
    {
     "name": "stderr",
     "output_type": "stream",
     "text": [
      "Epoch [85/300]:  61%|█████████████████████████████████▎                     | 20/33 [00:00<00:00, 60.59it/s, loss=0.908]"
     ]
    },
    {
     "name": "stdout",
     "output_type": "stream",
     "text": [
      "18\n",
      "19\n",
      "20\n",
      "21\n",
      "22\n"
     ]
    },
    {
     "name": "stderr",
     "output_type": "stream",
     "text": [
      "Epoch [85/300]:  61%|█████████████████████████████████▎                     | 20/33 [00:00<00:00, 60.59it/s, loss=0.715]"
     ]
    },
    {
     "name": "stdout",
     "output_type": "stream",
     "text": [
      "23\n",
      "24\n"
     ]
    },
    {
     "name": "stderr",
     "output_type": "stream",
     "text": [
      "Epoch [85/300]:  82%|█████████████████████████████████████████████▊          | 27/33 [00:00<00:00, 58.62it/s, loss=0.77]"
     ]
    },
    {
     "name": "stdout",
     "output_type": "stream",
     "text": [
      "25\n",
      "26\n",
      "27\n",
      "28\n",
      "29\n",
      "30\n"
     ]
    },
    {
     "name": "stderr",
     "output_type": "stream",
     "text": [
      "Epoch [85/300]: 100%|███████████████████████████████████████████████████████| 33/33 [00:00<00:00, 61.12it/s, loss=0.837]\n",
      "\n",
      "Epoch [85/300]:   0%|                                                                  | 0/5 [00:00<?, ?it/s, loss=1.59]\u001b[A\n",
      "Epoch [85/300]:  20%|███████████▌                                              | 1/5 [00:00<00:02,  1.81it/s, loss=1.59]\u001b[A\n",
      "Epoch [85/300]:  20%|███████████▌                                              | 1/5 [00:00<00:02,  1.81it/s, loss=0.89]\u001b[A\n",
      "Epoch [85/300]:  20%|███████████▍                                             | 1/5 [00:00<00:02,  1.81it/s, loss=0.771]\u001b[A\n",
      "Epoch [85/300]:  20%|███████████▌                                              | 1/5 [00:00<00:02,  1.81it/s, loss=1.17]\u001b[A\n"
     ]
    },
    {
     "name": "stdout",
     "output_type": "stream",
     "text": [
      "31\n",
      "32\n",
      "0\n",
      "1\n",
      "2\n",
      "3\n",
      "4\n"
     ]
    },
    {
     "name": "stderr",
     "output_type": "stream",
     "text": [
      "Epoch [85/300]: 100%|█████████████████████████████████████████████████████████| 5/5 [00:00<00:00,  8.26it/s, loss=0.133]\u001b[A\n"
     ]
    },
    {
     "name": "stdout",
     "output_type": "stream",
     "text": [
      "model improved and saved\n",
      "\n",
      "Epoch 85: train loss: 0.8346063873984597 \n",
      "Epoch 85: valid loss: 0.9106558501720429 \n"
     ]
    },
    {
     "name": "stderr",
     "output_type": "stream",
     "text": [
      "  0%|                                                                                            | 0/33 [00:00<?, ?it/s]\n",
      "Epoch [86/300]:   0%|                                                                            | 0/33 [00:00<?, ?it/s]\u001b[A\n",
      "Epoch [86/300]:   0%|                                                                | 0/33 [00:00<?, ?it/s, loss=0.765]\u001b[A"
     ]
    },
    {
     "name": "stdout",
     "output_type": "stream",
     "text": [
      "0\n"
     ]
    },
    {
     "name": "stderr",
     "output_type": "stream",
     "text": [
      "Epoch [86/300]:  15%|████████▋                                                | 5/33 [00:00<00:00, 49.24it/s, loss=1.26]"
     ]
    },
    {
     "name": "stdout",
     "output_type": "stream",
     "text": [
      "1\n",
      "2\n",
      "3\n",
      "4\n"
     ]
    },
    {
     "name": "stderr",
     "output_type": "stream",
     "text": [
      "Epoch [86/300]:  15%|████████▋                                                | 5/33 [00:00<00:00, 49.24it/s, loss=0.72]"
     ]
    },
    {
     "name": "stdout",
     "output_type": "stream",
     "text": [
      "5\n",
      "6\n",
      "7\n",
      "8\n",
      "9\n"
     ]
    },
    {
     "name": "stderr",
     "output_type": "stream",
     "text": [
      "Epoch [86/300]:  36%|████████████████████                                   | 12/33 [00:00<00:00, 57.43it/s, loss=0.659]"
     ]
    },
    {
     "name": "stdout",
     "output_type": "stream",
     "text": [
      "10\n",
      "11\n"
     ]
    },
    {
     "name": "stderr",
     "output_type": "stream",
     "text": [
      "Epoch [86/300]:  36%|████████████████████                                   | 12/33 [00:00<00:00, 57.43it/s, loss=0.647]"
     ]
    },
    {
     "name": "stdout",
     "output_type": "stream",
     "text": [
      "12\n",
      "13\n"
     ]
    },
    {
     "name": "stderr",
     "output_type": "stream",
     "text": [
      "Epoch [86/300]:  36%|████████████████████                                   | 12/33 [00:00<00:00, 57.43it/s, loss=0.817]"
     ]
    },
    {
     "name": "stdout",
     "output_type": "stream",
     "text": [
      "14\n",
      "15\n",
      "16\n",
      "17\n"
     ]
    },
    {
     "name": "stderr",
     "output_type": "stream",
     "text": [
      "Epoch [86/300]:  58%|███████████████████████████████▋                       | 19/33 [00:00<00:00, 60.04it/s, loss=0.767]"
     ]
    },
    {
     "name": "stdout",
     "output_type": "stream",
     "text": [
      "18\n",
      "19\n",
      "20\n",
      "21\n",
      "22\n"
     ]
    },
    {
     "name": "stderr",
     "output_type": "stream",
     "text": [
      "Epoch [86/300]:  58%|███████████████████████████████▋                       | 19/33 [00:00<00:00, 60.04it/s, loss=0.876]"
     ]
    },
    {
     "name": "stdout",
     "output_type": "stream",
     "text": [
      "23\n",
      "24\n",
      "25\n"
     ]
    },
    {
     "name": "stderr",
     "output_type": "stream",
     "text": [
      "Epoch [86/300]:  79%|████████████████████████████████████████████▉            | 26/33 [00:00<00:00, 62.15it/s, loss=0.7]"
     ]
    },
    {
     "name": "stdout",
     "output_type": "stream",
     "text": [
      "26\n"
     ]
    },
    {
     "name": "stderr",
     "output_type": "stream",
     "text": [
      "Epoch [86/300]:  79%|███████████████████████████████████████████▎           | 26/33 [00:00<00:00, 62.15it/s, loss=0.769]"
     ]
    },
    {
     "name": "stdout",
     "output_type": "stream",
     "text": [
      "27\n",
      "28\n",
      "29\n",
      "30\n"
     ]
    },
    {
     "name": "stderr",
     "output_type": "stream",
     "text": [
      "Epoch [86/300]: 100%|████████████████████████████████████████████████████████| 33/33 [00:00<00:00, 61.07it/s, loss=1.04]\n",
      "\n",
      "Epoch [86/300]:   0%|                                                                  | 0/5 [00:00<?, ?it/s, loss=1.59]\u001b[A\n",
      "Epoch [86/300]:  20%|███████████▌                                              | 1/5 [00:00<00:02,  1.82it/s, loss=1.59]\u001b[A\n",
      "Epoch [86/300]:  20%|███████████▌                                              | 1/5 [00:00<00:02,  1.82it/s, loss=0.89]\u001b[A\n",
      "Epoch [86/300]:  20%|███████████▍                                             | 1/5 [00:00<00:02,  1.82it/s, loss=0.771]\u001b[A"
     ]
    },
    {
     "name": "stdout",
     "output_type": "stream",
     "text": [
      "31\n",
      "32\n",
      "0\n",
      "1\n",
      "2\n"
     ]
    },
    {
     "name": "stderr",
     "output_type": "stream",
     "text": [
      "\n",
      "Epoch [86/300]:  20%|███████████▌                                              | 1/5 [00:00<00:02,  1.82it/s, loss=1.17]\u001b[A\n",
      "Epoch [86/300]: 100%|█████████████████████████████████████████████████████████| 5/5 [00:00<00:00,  8.16it/s, loss=0.133]\u001b[A\n"
     ]
    },
    {
     "name": "stdout",
     "output_type": "stream",
     "text": [
      "3\n",
      "4\n",
      "model improved and saved\n",
      "\n",
      "Epoch 86: train loss: 0.8401141419555201 \n",
      "Epoch 86: valid loss: 0.9106221616268158 \n"
     ]
    },
    {
     "name": "stderr",
     "output_type": "stream",
     "text": [
      "  0%|                                                                                            | 0/33 [00:00<?, ?it/s]\n",
      "Epoch [87/300]:   0%|                                                                            | 0/33 [00:00<?, ?it/s]\u001b[A\n",
      "Epoch [87/300]:   0%|                                                                | 0/33 [00:00<?, ?it/s, loss=0.678]\u001b[A"
     ]
    },
    {
     "name": "stdout",
     "output_type": "stream",
     "text": [
      "0\n"
     ]
    },
    {
     "name": "stderr",
     "output_type": "stream",
     "text": [
      "\r",
      "Epoch [87/300]:   0%|                                                                | 0/33 [00:00<?, ?it/s, loss=0.715]"
     ]
    },
    {
     "name": "stdout",
     "output_type": "stream",
     "text": [
      "1\n"
     ]
    },
    {
     "name": "stderr",
     "output_type": "stream",
     "text": [
      "Epoch [87/300]:   9%|█████▏                                                   | 3/33 [00:00<00:01, 19.77it/s, loss=1.13]"
     ]
    },
    {
     "name": "stdout",
     "output_type": "stream",
     "text": [
      "2\n",
      "3\n",
      "4\n"
     ]
    },
    {
     "name": "stderr",
     "output_type": "stream",
     "text": [
      "Epoch [87/300]:   9%|█████                                                   | 3/33 [00:00<00:01, 19.77it/s, loss=0.974]"
     ]
    },
    {
     "name": "stdout",
     "output_type": "stream",
     "text": [
      "5\n",
      "6\n",
      "7\n"
     ]
    },
    {
     "name": "stderr",
     "output_type": "stream",
     "text": [
      "Epoch [87/300]:   9%|█████                                                   | 3/33 [00:00<00:01, 19.77it/s, loss=0.784]"
     ]
    },
    {
     "name": "stdout",
     "output_type": "stream",
     "text": [
      "8\n"
     ]
    },
    {
     "name": "stderr",
     "output_type": "stream",
     "text": [
      "Epoch [87/300]:  30%|████████████████▋                                      | 10/33 [00:00<00:00, 42.51it/s, loss=0.683]"
     ]
    },
    {
     "name": "stdout",
     "output_type": "stream",
     "text": [
      "9\n",
      "10\n",
      "11\n",
      "12\n",
      "13\n",
      "14\n"
     ]
    },
    {
     "name": "stderr",
     "output_type": "stream",
     "text": [
      "Epoch [87/300]:  52%|████████████████████████████▎                          | 17/33 [00:00<00:00, 51.48it/s, loss=0.882]"
     ]
    },
    {
     "name": "stdout",
     "output_type": "stream",
     "text": [
      "15\n",
      "16\n",
      "17\n"
     ]
    },
    {
     "name": "stderr",
     "output_type": "stream",
     "text": [
      "Epoch [87/300]:  52%|████████████████████████████▎                          | 17/33 [00:00<00:00, 51.48it/s, loss=0.824]"
     ]
    },
    {
     "name": "stdout",
     "output_type": "stream",
     "text": [
      "18\n",
      "19\n",
      "20\n"
     ]
    },
    {
     "name": "stderr",
     "output_type": "stream",
     "text": [
      "\r",
      "Epoch [87/300]:  52%|████████████████████████████▎                          | 17/33 [00:00<00:00, 51.48it/s, loss=0.852]"
     ]
    },
    {
     "name": "stdout",
     "output_type": "stream",
     "text": [
      "21\n"
     ]
    },
    {
     "name": "stderr",
     "output_type": "stream",
     "text": [
      "Epoch [87/300]:  70%|██████████████████████████████████████▎                | 23/33 [00:00<00:00, 53.06it/s, loss=0.642]"
     ]
    },
    {
     "name": "stdout",
     "output_type": "stream",
     "text": [
      "22\n",
      "23\n",
      "24\n",
      "25\n",
      "26\n",
      "27\n"
     ]
    },
    {
     "name": "stderr",
     "output_type": "stream",
     "text": [
      "Epoch [87/300]:  91%|██████████████████████████████████████████████████     | 30/33 [00:00<00:00, 56.25it/s, loss=0.814]"
     ]
    },
    {
     "name": "stdout",
     "output_type": "stream",
     "text": [
      "28\n",
      "29\n",
      "30\n"
     ]
    },
    {
     "name": "stderr",
     "output_type": "stream",
     "text": [
      "Epoch [87/300]: 100%|███████████████████████████████████████████████████████| 33/33 [00:00<00:00, 52.56it/s, loss=0.962]\n",
      "\n",
      "Epoch [87/300]:   0%|                                                                  | 0/5 [00:00<?, ?it/s, loss=1.59]\u001b[A\n",
      "Epoch [87/300]:  20%|███████████▌                                              | 1/5 [00:00<00:02,  1.55it/s, loss=1.59]\u001b[A"
     ]
    },
    {
     "name": "stdout",
     "output_type": "stream",
     "text": [
      "31\n",
      "32\n",
      "0\n"
     ]
    },
    {
     "name": "stderr",
     "output_type": "stream",
     "text": [
      "\n",
      "Epoch [87/300]:  20%|███████████▍                                             | 1/5 [00:00<00:02,  1.55it/s, loss=0.889]\u001b[A"
     ]
    },
    {
     "name": "stdout",
     "output_type": "stream",
     "text": [
      "1\n"
     ]
    },
    {
     "name": "stderr",
     "output_type": "stream",
     "text": [
      "\n",
      "Epoch [87/300]:  20%|███████████▍                                             | 1/5 [00:00<00:02,  1.55it/s, loss=0.771]\u001b[A\n",
      "Epoch [87/300]:  20%|███████████▌                                              | 1/5 [00:00<00:02,  1.55it/s, loss=1.17]\u001b[A\n",
      "Epoch [87/300]: 100%|█████████████████████████████████████████████████████████| 5/5 [00:00<00:00,  7.13it/s, loss=0.134]\u001b[A\n"
     ]
    },
    {
     "name": "stdout",
     "output_type": "stream",
     "text": [
      "2\n",
      "3\n",
      "4\n",
      "model improved and saved\n",
      "\n",
      "Epoch 87: train loss: 0.8389617349162246 \n",
      "Epoch 87: valid loss: 0.9105231136083602 \n"
     ]
    },
    {
     "name": "stderr",
     "output_type": "stream",
     "text": [
      "  0%|                                                                                            | 0/33 [00:00<?, ?it/s]\n",
      "Epoch [88/300]:   0%|                                                                            | 0/33 [00:00<?, ?it/s]\u001b[A\n",
      "Epoch [88/300]:   0%|                                                                 | 0/33 [00:00<?, ?it/s, loss=1.18]\u001b[A"
     ]
    },
    {
     "name": "stdout",
     "output_type": "stream",
     "text": [
      "0\n",
      "1\n",
      "2\n"
     ]
    },
    {
     "name": "stderr",
     "output_type": "stream",
     "text": [
      "Epoch [88/300]:  18%|██████████▏                                             | 6/33 [00:00<00:00, 57.93it/s, loss=0.763]"
     ]
    },
    {
     "name": "stdout",
     "output_type": "stream",
     "text": [
      "3\n",
      "4\n",
      "5\n"
     ]
    },
    {
     "name": "stderr",
     "output_type": "stream",
     "text": [
      "Epoch [88/300]:  18%|██████████▏                                             | 6/33 [00:00<00:00, 57.93it/s, loss=0.795]"
     ]
    },
    {
     "name": "stdout",
     "output_type": "stream",
     "text": [
      "6\n",
      "7\n",
      "8\n"
     ]
    },
    {
     "name": "stderr",
     "output_type": "stream",
     "text": [
      "Epoch [88/300]:  36%|████████████████████                                   | 12/33 [00:00<00:00, 58.33it/s, loss=0.714]"
     ]
    },
    {
     "name": "stdout",
     "output_type": "stream",
     "text": [
      "9\n",
      "10\n",
      "11\n",
      "12\n"
     ]
    },
    {
     "name": "stderr",
     "output_type": "stream",
     "text": [
      "Epoch [88/300]:  36%|████████████████████                                   | 12/33 [00:00<00:00, 58.33it/s, loss=0.926]"
     ]
    },
    {
     "name": "stdout",
     "output_type": "stream",
     "text": [
      "13\n",
      "14\n",
      "15\n"
     ]
    },
    {
     "name": "stderr",
     "output_type": "stream",
     "text": [
      "Epoch [88/300]:  58%|███████████████████████████████▋                       | 19/33 [00:00<00:00, 61.10it/s, loss=0.764]"
     ]
    },
    {
     "name": "stdout",
     "output_type": "stream",
     "text": [
      "16\n",
      "17\n",
      "18\n"
     ]
    },
    {
     "name": "stderr",
     "output_type": "stream",
     "text": [
      "Epoch [88/300]:  58%|████████████████████████████████▏                       | 19/33 [00:00<00:00, 61.10it/s, loss=1.26]"
     ]
    },
    {
     "name": "stdout",
     "output_type": "stream",
     "text": [
      "19\n",
      "20\n",
      "21\n"
     ]
    },
    {
     "name": "stderr",
     "output_type": "stream",
     "text": [
      "Epoch [88/300]:  79%|███████████████████████████████████████████▎           | 26/33 [00:00<00:00, 60.79it/s, loss=0.845]"
     ]
    },
    {
     "name": "stdout",
     "output_type": "stream",
     "text": [
      "22\n",
      "23\n",
      "24\n",
      "25\n"
     ]
    },
    {
     "name": "stderr",
     "output_type": "stream",
     "text": [
      "Epoch [88/300]:  79%|███████████████████████████████████████████▎           | 26/33 [00:00<00:00, 60.79it/s, loss=0.948]"
     ]
    },
    {
     "name": "stdout",
     "output_type": "stream",
     "text": [
      "26\n",
      "27\n",
      "28\n"
     ]
    },
    {
     "name": "stderr",
     "output_type": "stream",
     "text": [
      "Epoch [88/300]:  79%|████████████████████████████████████████████            | 26/33 [00:00<00:00, 60.79it/s, loss=1.42]"
     ]
    },
    {
     "name": "stdout",
     "output_type": "stream",
     "text": [
      "29\n",
      "30\n",
      "31\n",
      "32\n"
     ]
    },
    {
     "name": "stderr",
     "output_type": "stream",
     "text": [
      "Epoch [88/300]: 100%|████████████████████████████████████████████████████████| 33/33 [00:00<00:00, 61.32it/s, loss=1.42]\n",
      "\n",
      "Epoch [88/300]:   0%|                                                                  | 0/5 [00:00<?, ?it/s, loss=1.59]\u001b[A\n",
      "Epoch [88/300]:  20%|███████████▌                                              | 1/5 [00:00<00:02,  1.80it/s, loss=1.59]\u001b[A\n",
      "Epoch [88/300]:  20%|███████████▌                                              | 1/5 [00:00<00:02,  1.80it/s, loss=0.89]"
     ]
    },
    {
     "name": "stdout",
     "output_type": "stream",
     "text": [
      "0\n",
      "1\n"
     ]
    },
    {
     "name": "stderr",
     "output_type": "stream",
     "text": [
      "\u001b[A\n",
      "Epoch [88/300]:  20%|███████████▍                                             | 1/5 [00:00<00:02,  1.80it/s, loss=0.771]\u001b[A\n",
      "Epoch [88/300]:  20%|███████████▌                                              | 1/5 [00:00<00:02,  1.80it/s, loss=1.17]\u001b[A\n",
      "Epoch [88/300]: 100%|█████████████████████████████████████████████████████████| 5/5 [00:00<00:00,  8.05it/s, loss=0.133]\u001b[A\n"
     ]
    },
    {
     "name": "stdout",
     "output_type": "stream",
     "text": [
      "2\n",
      "3\n",
      "4\n",
      "model improved and saved\n",
      "\n",
      "Epoch 88: train loss: 0.8465945630362539 \n",
      "Epoch 88: valid loss: 0.9107379972934723 \n"
     ]
    },
    {
     "name": "stderr",
     "output_type": "stream",
     "text": [
      "  0%|                                                                                            | 0/33 [00:00<?, ?it/s]\n",
      "Epoch [89/300]:   0%|                                                                            | 0/33 [00:00<?, ?it/s]\u001b[A\n",
      "Epoch [89/300]:   0%|                                                                | 0/33 [00:00<?, ?it/s, loss=0.713]\u001b[A"
     ]
    },
    {
     "name": "stdout",
     "output_type": "stream",
     "text": [
      "0\n",
      "1\n",
      "2\n"
     ]
    },
    {
     "name": "stderr",
     "output_type": "stream",
     "text": [
      "Epoch [89/300]:  18%|██████████▎                                              | 6/33 [00:00<00:00, 56.12it/s, loss=0.79]"
     ]
    },
    {
     "name": "stdout",
     "output_type": "stream",
     "text": [
      "3\n",
      "4\n",
      "5\n"
     ]
    },
    {
     "name": "stderr",
     "output_type": "stream",
     "text": [
      "Epoch [89/300]:  18%|██████████▉                                                 | 6/33 [00:00<00:00, 56.12it/s, loss=1]"
     ]
    },
    {
     "name": "stdout",
     "output_type": "stream",
     "text": [
      "6\n",
      "7\n",
      "8\n"
     ]
    },
    {
     "name": "stderr",
     "output_type": "stream",
     "text": [
      "Epoch [89/300]:  36%|████████████████████                                   | 12/33 [00:00<00:00, 55.23it/s, loss=0.984]"
     ]
    },
    {
     "name": "stdout",
     "output_type": "stream",
     "text": [
      "9\n",
      "10\n",
      "11\n"
     ]
    },
    {
     "name": "stderr",
     "output_type": "stream",
     "text": [
      "Epoch [89/300]:  36%|████████████████████                                   | 12/33 [00:00<00:00, 55.23it/s, loss=0.921]"
     ]
    },
    {
     "name": "stdout",
     "output_type": "stream",
     "text": [
      "12\n",
      "13\n",
      "14\n"
     ]
    },
    {
     "name": "stderr",
     "output_type": "stream",
     "text": [
      "Epoch [89/300]:  36%|████████████████████                                   | 12/33 [00:00<00:00, 55.23it/s, loss=0.963]"
     ]
    },
    {
     "name": "stdout",
     "output_type": "stream",
     "text": [
      "15\n",
      "16\n",
      "17\n",
      "18\n"
     ]
    },
    {
     "name": "stderr",
     "output_type": "stream",
     "text": [
      "Epoch [89/300]:  58%|███████████████████████████████▋                       | 19/33 [00:00<00:00, 58.86it/s, loss=0.718]"
     ]
    },
    {
     "name": "stdout",
     "output_type": "stream",
     "text": [
      "19\n",
      "20\n",
      "21\n"
     ]
    },
    {
     "name": "stderr",
     "output_type": "stream",
     "text": [
      "Epoch [89/300]:  58%|███████████████████████████████▋                       | 19/33 [00:00<00:00, 58.86it/s, loss=0.731]"
     ]
    },
    {
     "name": "stdout",
     "output_type": "stream",
     "text": [
      "22\n",
      "23\n",
      "24\n"
     ]
    },
    {
     "name": "stderr",
     "output_type": "stream",
     "text": [
      "Epoch [89/300]:  79%|███████████████████████████████████████████▎           | 26/33 [00:00<00:00, 59.91it/s, loss=0.887]"
     ]
    },
    {
     "name": "stdout",
     "output_type": "stream",
     "text": [
      "25\n",
      "26\n",
      "27\n"
     ]
    },
    {
     "name": "stderr",
     "output_type": "stream",
     "text": [
      "Epoch [89/300]: 100%|███████████████████████████████████████████████████████| 33/33 [00:00<00:00, 61.09it/s, loss=0.323]"
     ]
    },
    {
     "name": "stdout",
     "output_type": "stream",
     "text": [
      "28\n",
      "29\n",
      "30\n",
      "31\n",
      "32\n"
     ]
    },
    {
     "name": "stderr",
     "output_type": "stream",
     "text": [
      "\n",
      "\n",
      "Epoch [89/300]:   0%|                                                                  | 0/5 [00:00<?, ?it/s, loss=1.59]\u001b[A\n",
      "Epoch [89/300]:  20%|███████████▌                                              | 1/5 [00:00<00:02,  1.79it/s, loss=1.59]\u001b[A\n",
      "Epoch [89/300]:  20%|███████████▌                                              | 1/5 [00:00<00:02,  1.79it/s, loss=0.89]\u001b[A"
     ]
    },
    {
     "name": "stdout",
     "output_type": "stream",
     "text": [
      "0\n",
      "1\n"
     ]
    },
    {
     "name": "stderr",
     "output_type": "stream",
     "text": [
      "\n",
      "Epoch [89/300]:  20%|███████████▍                                             | 1/5 [00:00<00:02,  1.79it/s, loss=0.772]\u001b[A\n",
      "Epoch [89/300]:  20%|███████████▌                                              | 1/5 [00:00<00:02,  1.79it/s, loss=1.17]\u001b[A\n",
      "Epoch [89/300]: 100%|█████████████████████████████████████████████████████████| 5/5 [00:00<00:00,  8.04it/s, loss=0.133]\u001b[A\n"
     ]
    },
    {
     "name": "stdout",
     "output_type": "stream",
     "text": [
      "2\n",
      "3\n",
      "4\n",
      "model improved and saved\n",
      "\n",
      "Epoch 89: train loss: 0.8193865752581394 \n",
      "Epoch 89: valid loss: 0.9110077977180481 \n"
     ]
    },
    {
     "name": "stderr",
     "output_type": "stream",
     "text": [
      "  0%|                                                                                            | 0/33 [00:00<?, ?it/s]\n",
      "Epoch [90/300]:   0%|                                                                            | 0/33 [00:00<?, ?it/s]\u001b[A\n",
      "Epoch [90/300]:   0%|                                                                | 0/33 [00:00<?, ?it/s, loss=0.663]\u001b[A"
     ]
    },
    {
     "name": "stdout",
     "output_type": "stream",
     "text": [
      "0\n",
      "1\n"
     ]
    },
    {
     "name": "stderr",
     "output_type": "stream",
     "text": [
      "Epoch [90/300]:  18%|██████████▏                                             | 6/33 [00:00<00:00, 55.64it/s, loss=0.987]"
     ]
    },
    {
     "name": "stdout",
     "output_type": "stream",
     "text": [
      "2\n",
      "3\n",
      "4\n",
      "5\n",
      "6\n"
     ]
    },
    {
     "name": "stderr",
     "output_type": "stream",
     "text": [
      "Epoch [90/300]:  18%|██████████▏                                             | 6/33 [00:00<00:00, 55.64it/s, loss=0.806]"
     ]
    },
    {
     "name": "stdout",
     "output_type": "stream",
     "text": [
      "7\n",
      "8\n"
     ]
    },
    {
     "name": "stderr",
     "output_type": "stream",
     "text": [
      "Epoch [90/300]:  39%|█████████████████████▋                                 | 13/33 [00:00<00:00, 59.98it/s, loss=0.855]"
     ]
    },
    {
     "name": "stdout",
     "output_type": "stream",
     "text": [
      "9\n",
      "10\n",
      "11\n",
      "12\n"
     ]
    },
    {
     "name": "stderr",
     "output_type": "stream",
     "text": [
      "Epoch [90/300]:  39%|█████████████████████▋                                 | 13/33 [00:00<00:00, 59.98it/s, loss=0.753]"
     ]
    },
    {
     "name": "stdout",
     "output_type": "stream",
     "text": [
      "13\n",
      "14\n"
     ]
    },
    {
     "name": "stderr",
     "output_type": "stream",
     "text": [
      "Epoch [90/300]:  61%|█████████████████████████████████▎                     | 20/33 [00:00<00:00, 60.56it/s, loss=0.763]"
     ]
    },
    {
     "name": "stdout",
     "output_type": "stream",
     "text": [
      "15\n",
      "16\n",
      "17\n",
      "18\n",
      "19\n"
     ]
    },
    {
     "name": "stderr",
     "output_type": "stream",
     "text": [
      "Epoch [90/300]:  61%|█████████████████████████████████▎                     | 20/33 [00:00<00:00, 60.56it/s, loss=0.795]"
     ]
    },
    {
     "name": "stdout",
     "output_type": "stream",
     "text": [
      "20\n",
      "21\n"
     ]
    },
    {
     "name": "stderr",
     "output_type": "stream",
     "text": [
      "Epoch [90/300]:  61%|█████████████████████████████████▎                     | 20/33 [00:00<00:00, 60.56it/s, loss=0.702]"
     ]
    },
    {
     "name": "stdout",
     "output_type": "stream",
     "text": [
      "22\n",
      "23\n",
      "24\n",
      "25\n"
     ]
    },
    {
     "name": "stderr",
     "output_type": "stream",
     "text": [
      "Epoch [90/300]:  82%|█████████████████████████████████████████████          | 27/33 [00:00<00:00, 61.70it/s, loss=0.958]"
     ]
    },
    {
     "name": "stdout",
     "output_type": "stream",
     "text": [
      "26\n",
      "27\n"
     ]
    },
    {
     "name": "stderr",
     "output_type": "stream",
     "text": [
      "Epoch [90/300]: 100%|████████████████████████████████████████████████████████| 33/33 [00:00<00:00, 61.93it/s, loss=1.04]\n",
      "\n",
      "Epoch [90/300]:   0%|                                                                  | 0/5 [00:00<?, ?it/s, loss=1.59]\u001b[A\n"
     ]
    },
    {
     "name": "stdout",
     "output_type": "stream",
     "text": [
      "28\n",
      "29\n",
      "30\n",
      "31\n",
      "32\n",
      "0\n"
     ]
    },
    {
     "name": "stderr",
     "output_type": "stream",
     "text": [
      "Epoch [90/300]:  20%|███████████▌                                              | 1/5 [00:00<00:02,  1.84it/s, loss=1.59]\u001b[A\n",
      "Epoch [90/300]:  20%|███████████▌                                              | 1/5 [00:00<00:02,  1.84it/s, loss=0.89]\u001b[A"
     ]
    },
    {
     "name": "stdout",
     "output_type": "stream",
     "text": [
      "1\n"
     ]
    },
    {
     "name": "stderr",
     "output_type": "stream",
     "text": [
      "\n",
      "Epoch [90/300]:  20%|███████████▍                                             | 1/5 [00:00<00:02,  1.84it/s, loss=0.772]\u001b[A\n",
      "Epoch [90/300]:  20%|███████████▌                                              | 1/5 [00:00<00:02,  1.84it/s, loss=1.17]\u001b[A\n",
      "Epoch [90/300]: 100%|█████████████████████████████████████████████████████████| 5/5 [00:00<00:00,  8.21it/s, loss=0.133]\u001b[A\n"
     ]
    },
    {
     "name": "stdout",
     "output_type": "stream",
     "text": [
      "2\n",
      "3\n",
      "4\n",
      "model improved and saved\n",
      "\n",
      "Epoch 90: train loss: 0.841475860639052 \n",
      "Epoch 90: valid loss: 0.9112723857164383 \n"
     ]
    },
    {
     "name": "stderr",
     "output_type": "stream",
     "text": [
      "  0%|                                                                                            | 0/33 [00:00<?, ?it/s]\n",
      "Epoch [91/300]:   0%|                                                                            | 0/33 [00:00<?, ?it/s]\u001b[A\n",
      "Epoch [91/300]:   0%|                                                                | 0/33 [00:00<?, ?it/s, loss=0.663]\u001b[A"
     ]
    },
    {
     "name": "stdout",
     "output_type": "stream",
     "text": [
      "0\n",
      "1\n"
     ]
    },
    {
     "name": "stderr",
     "output_type": "stream",
     "text": [
      "Epoch [91/300]:  18%|██████████▏                                             | 6/33 [00:00<00:00, 57.15it/s, loss=0.865]"
     ]
    },
    {
     "name": "stdout",
     "output_type": "stream",
     "text": [
      "2\n",
      "3\n",
      "4\n",
      "5\n",
      "6\n"
     ]
    },
    {
     "name": "stderr",
     "output_type": "stream",
     "text": [
      "Epoch [91/300]:  18%|██████████▏                                             | 6/33 [00:00<00:00, 57.15it/s, loss=0.688]"
     ]
    },
    {
     "name": "stdout",
     "output_type": "stream",
     "text": [
      "7\n",
      "8\n"
     ]
    },
    {
     "name": "stderr",
     "output_type": "stream",
     "text": [
      "Epoch [91/300]:  36%|████████████████████                                   | 12/33 [00:00<00:00, 58.61it/s, loss=0.743]"
     ]
    },
    {
     "name": "stdout",
     "output_type": "stream",
     "text": [
      "9\n",
      "10\n",
      "11\n",
      "12\n"
     ]
    },
    {
     "name": "stderr",
     "output_type": "stream",
     "text": [
      "Epoch [91/300]:  36%|████████████████████                                   | 12/33 [00:00<00:00, 58.61it/s, loss=0.892]"
     ]
    },
    {
     "name": "stdout",
     "output_type": "stream",
     "text": [
      "13\n",
      "14\n"
     ]
    },
    {
     "name": "stderr",
     "output_type": "stream",
     "text": [
      "Epoch [91/300]:  58%|███████████████████████████████▋                       | 19/33 [00:00<00:00, 60.62it/s, loss=0.641]"
     ]
    },
    {
     "name": "stdout",
     "output_type": "stream",
     "text": [
      "15\n",
      "16\n",
      "17\n",
      "18\n",
      "19\n"
     ]
    },
    {
     "name": "stderr",
     "output_type": "stream",
     "text": [
      "Epoch [91/300]:  58%|███████████████████████████████▋                       | 19/33 [00:00<00:00, 60.62it/s, loss=0.768]"
     ]
    },
    {
     "name": "stdout",
     "output_type": "stream",
     "text": [
      "20\n",
      "21\n"
     ]
    },
    {
     "name": "stderr",
     "output_type": "stream",
     "text": [
      "Epoch [91/300]:  79%|███████████████████████████████████████████▎           | 26/33 [00:00<00:00, 61.87it/s, loss=0.892]"
     ]
    },
    {
     "name": "stdout",
     "output_type": "stream",
     "text": [
      "22\n",
      "23\n",
      "24\n",
      "25\n"
     ]
    },
    {
     "name": "stderr",
     "output_type": "stream",
     "text": [
      "Epoch [91/300]:  79%|███████████████████████████████████████████▎           | 26/33 [00:00<00:00, 61.87it/s, loss=0.933]"
     ]
    },
    {
     "name": "stdout",
     "output_type": "stream",
     "text": [
      "26\n",
      "27\n",
      "28\n"
     ]
    },
    {
     "name": "stderr",
     "output_type": "stream",
     "text": [
      "Epoch [91/300]: 100%|███████████████████████████████████████████████████████| 33/33 [00:00<00:00, 62.61it/s, loss=0.348]\n",
      "\n",
      "Epoch [91/300]:   0%|                                                                  | 0/5 [00:00<?, ?it/s, loss=1.59]\u001b[A\n",
      "Epoch [91/300]:  20%|███████████▌                                              | 1/5 [00:00<00:02,  1.85it/s, loss=1.59]\u001b[A"
     ]
    },
    {
     "name": "stdout",
     "output_type": "stream",
     "text": [
      "29\n",
      "30\n",
      "31\n",
      "32\n",
      "0\n"
     ]
    },
    {
     "name": "stderr",
     "output_type": "stream",
     "text": [
      "\n",
      "Epoch [91/300]:  20%|███████████▌                                              | 1/5 [00:00<00:02,  1.85it/s, loss=0.89]\u001b[A"
     ]
    },
    {
     "name": "stdout",
     "output_type": "stream",
     "text": [
      "1\n"
     ]
    },
    {
     "name": "stderr",
     "output_type": "stream",
     "text": [
      "\n",
      "Epoch [91/300]:  20%|███████████▍                                             | 1/5 [00:00<00:02,  1.85it/s, loss=0.772]\u001b[A\n",
      "Epoch [91/300]:  20%|███████████▌                                              | 1/5 [00:00<00:02,  1.85it/s, loss=1.17]\u001b[A\n",
      "Epoch [91/300]: 100%|█████████████████████████████████████████████████████████| 5/5 [00:00<00:00,  8.22it/s, loss=0.133]\u001b[A\n"
     ]
    },
    {
     "name": "stdout",
     "output_type": "stream",
     "text": [
      "2\n",
      "3\n",
      "4\n",
      "model improved and saved\n",
      "\n",
      "Epoch 91: train loss: 0.8199783446210803 \n",
      "Epoch 91: valid loss: 0.9111269980669021 \n"
     ]
    },
    {
     "name": "stderr",
     "output_type": "stream",
     "text": [
      "  0%|                                                                                            | 0/33 [00:00<?, ?it/s]\n",
      "Epoch [92/300]:   0%|                                                                            | 0/33 [00:00<?, ?it/s]\u001b[A\n",
      "Epoch [92/300]:   0%|                                                                | 0/33 [00:00<?, ?it/s, loss=0.833]\u001b[A"
     ]
    },
    {
     "name": "stdout",
     "output_type": "stream",
     "text": [
      "0\n",
      "1\n",
      "2\n"
     ]
    },
    {
     "name": "stderr",
     "output_type": "stream",
     "text": [
      "Epoch [92/300]:  18%|██████████▏                                             | 6/33 [00:00<00:00, 56.52it/s, loss=0.712]"
     ]
    },
    {
     "name": "stdout",
     "output_type": "stream",
     "text": [
      "3\n",
      "4\n",
      "5\n",
      "6\n",
      "7\n"
     ]
    },
    {
     "name": "stderr",
     "output_type": "stream",
     "text": [
      "\r",
      "Epoch [92/300]:  18%|██████████▎                                              | 6/33 [00:00<00:00, 56.52it/s, loss=1.08]"
     ]
    },
    {
     "name": "stdout",
     "output_type": "stream",
     "text": [
      "8\n"
     ]
    },
    {
     "name": "stderr",
     "output_type": "stream",
     "text": [
      "Epoch [92/300]:  39%|██████████████████████▍                                  | 13/33 [00:00<00:00, 61.00it/s, loss=1.1]"
     ]
    },
    {
     "name": "stdout",
     "output_type": "stream",
     "text": [
      "9\n",
      "10\n",
      "11\n",
      "12\n"
     ]
    },
    {
     "name": "stderr",
     "output_type": "stream",
     "text": [
      "Epoch [92/300]:  39%|█████████████████████▋                                 | 13/33 [00:00<00:00, 61.00it/s, loss=0.714]"
     ]
    },
    {
     "name": "stdout",
     "output_type": "stream",
     "text": [
      "13\n",
      "14\n",
      "15\n",
      "16\n"
     ]
    },
    {
     "name": "stderr",
     "output_type": "stream",
     "text": [
      "Epoch [92/300]:  61%|█████████████████████████████████▎                     | 20/33 [00:00<00:00, 64.75it/s, loss=0.697]"
     ]
    },
    {
     "name": "stdout",
     "output_type": "stream",
     "text": [
      "17\n",
      "18\n",
      "19\n",
      "20\n",
      "21\n"
     ]
    },
    {
     "name": "stderr",
     "output_type": "stream",
     "text": [
      "\r",
      "Epoch [92/300]:  61%|█████████████████████████████████▎                     | 20/33 [00:00<00:00, 64.75it/s, loss=0.688]"
     ]
    },
    {
     "name": "stdout",
     "output_type": "stream",
     "text": [
      "22\n"
     ]
    },
    {
     "name": "stderr",
     "output_type": "stream",
     "text": [
      "Epoch [92/300]:  61%|█████████████████████████████████▉                      | 20/33 [00:00<00:00, 64.75it/s, loss=1.03]"
     ]
    },
    {
     "name": "stdout",
     "output_type": "stream",
     "text": [
      "23\n",
      "24\n",
      "25\n"
     ]
    },
    {
     "name": "stderr",
     "output_type": "stream",
     "text": [
      "Epoch [92/300]:  82%|█████████████████████████████████████████████          | 27/33 [00:00<00:00, 60.21it/s, loss=0.792]"
     ]
    },
    {
     "name": "stdout",
     "output_type": "stream",
     "text": [
      "26\n",
      "27\n",
      "28\n"
     ]
    },
    {
     "name": "stderr",
     "output_type": "stream",
     "text": [
      "Epoch [92/300]: 100%|███████████████████████████████████████████████████████| 33/33 [00:00<00:00, 61.59it/s, loss=0.581]\n",
      "\n",
      "Epoch [92/300]:   0%|                                                                  | 0/5 [00:00<?, ?it/s, loss=1.59]\u001b[A\n",
      "Epoch [92/300]:  20%|███████████▌                                              | 1/5 [00:00<00:02,  1.83it/s, loss=1.59]\u001b[A"
     ]
    },
    {
     "name": "stdout",
     "output_type": "stream",
     "text": [
      "29\n",
      "30\n",
      "31\n",
      "32\n",
      "0\n"
     ]
    },
    {
     "name": "stderr",
     "output_type": "stream",
     "text": [
      "\n",
      "Epoch [92/300]:  20%|███████████▌                                              | 1/5 [00:00<00:02,  1.83it/s, loss=0.89]\u001b[A"
     ]
    },
    {
     "name": "stdout",
     "output_type": "stream",
     "text": [
      "1\n"
     ]
    },
    {
     "name": "stderr",
     "output_type": "stream",
     "text": [
      "\n",
      "Epoch [92/300]:  20%|███████████▍                                             | 1/5 [00:00<00:02,  1.83it/s, loss=0.772]\u001b[A\n",
      "Epoch [92/300]:  20%|███████████▌                                              | 1/5 [00:00<00:02,  1.83it/s, loss=1.17]\u001b[A\n",
      "Epoch [92/300]: 100%|█████████████████████████████████████████████████████████| 5/5 [00:00<00:00,  8.24it/s, loss=0.133]\u001b[A\n"
     ]
    },
    {
     "name": "stdout",
     "output_type": "stream",
     "text": [
      "2\n",
      "3\n",
      "4\n",
      "model improved and saved\n",
      "\n",
      "Epoch 92: train loss: 0.825670701084715 \n",
      "Epoch 92: valid loss: 0.9111613303422927 \n"
     ]
    },
    {
     "name": "stderr",
     "output_type": "stream",
     "text": [
      "  0%|                                                                                            | 0/33 [00:00<?, ?it/s]\n",
      "Epoch [93/300]:   0%|                                                                            | 0/33 [00:00<?, ?it/s]\u001b[A\n",
      "Epoch [93/300]:   0%|                                                                | 0/33 [00:00<?, ?it/s, loss=0.896]\u001b[A"
     ]
    },
    {
     "name": "stdout",
     "output_type": "stream",
     "text": [
      "0\n"
     ]
    },
    {
     "name": "stderr",
     "output_type": "stream",
     "text": [
      "Epoch [93/300]:   0%|                                                                | 0/33 [00:00<?, ?it/s, loss=0.887]"
     ]
    },
    {
     "name": "stdout",
     "output_type": "stream",
     "text": [
      "1\n",
      "2\n",
      "3\n"
     ]
    },
    {
     "name": "stderr",
     "output_type": "stream",
     "text": [
      "Epoch [93/300]:  21%|███████████▉                                            | 7/33 [00:00<00:00, 60.22it/s, loss=0.861]"
     ]
    },
    {
     "name": "stdout",
     "output_type": "stream",
     "text": [
      "4\n",
      "5\n",
      "6\n",
      "7\n",
      "8\n"
     ]
    },
    {
     "name": "stderr",
     "output_type": "stream",
     "text": [
      "\r",
      "Epoch [93/300]:  21%|████████████                                             | 7/33 [00:00<00:00, 60.22it/s, loss=1.07]"
     ]
    },
    {
     "name": "stdout",
     "output_type": "stream",
     "text": [
      "9\n"
     ]
    },
    {
     "name": "stderr",
     "output_type": "stream",
     "text": [
      "Epoch [93/300]:  21%|███████████▉                                            | 7/33 [00:00<00:00, 60.22it/s, loss=0.957]"
     ]
    },
    {
     "name": "stdout",
     "output_type": "stream",
     "text": [
      "10\n",
      "11\n",
      "12\n"
     ]
    },
    {
     "name": "stderr",
     "output_type": "stream",
     "text": [
      "Epoch [93/300]:  42%|███████████████████████▎                               | 14/33 [00:00<00:00, 60.33it/s, loss=0.827]"
     ]
    },
    {
     "name": "stdout",
     "output_type": "stream",
     "text": [
      "13\n"
     ]
    },
    {
     "name": "stderr",
     "output_type": "stream",
     "text": [
      "Epoch [93/300]:  42%|███████████████████████▎                               | 14/33 [00:00<00:00, 60.33it/s, loss=0.828]"
     ]
    },
    {
     "name": "stdout",
     "output_type": "stream",
     "text": [
      "14\n",
      "15\n"
     ]
    },
    {
     "name": "stderr",
     "output_type": "stream",
     "text": [
      "Epoch [93/300]:  42%|███████████████████████▊                                | 14/33 [00:00<00:00, 60.33it/s, loss=1.14]"
     ]
    },
    {
     "name": "stdout",
     "output_type": "stream",
     "text": [
      "16\n",
      "17\n",
      "18\n",
      "19\n"
     ]
    },
    {
     "name": "stderr",
     "output_type": "stream",
     "text": [
      "\r",
      "Epoch [93/300]:  42%|███████████████████████▊                                | 14/33 [00:00<00:00, 60.33it/s, loss=1.05]"
     ]
    },
    {
     "name": "stdout",
     "output_type": "stream",
     "text": [
      "20\n"
     ]
    },
    {
     "name": "stderr",
     "output_type": "stream",
     "text": [
      "Epoch [93/300]:  64%|███████████████████████████████████                    | 21/33 [00:00<00:00, 53.16it/s, loss=0.585]"
     ]
    },
    {
     "name": "stdout",
     "output_type": "stream",
     "text": [
      "21\n",
      "22\n"
     ]
    },
    {
     "name": "stderr",
     "output_type": "stream",
     "text": [
      "\r",
      "Epoch [93/300]:  64%|███████████████████████████████████                    | 21/33 [00:00<00:00, 53.16it/s, loss=0.778]"
     ]
    },
    {
     "name": "stdout",
     "output_type": "stream",
     "text": [
      "23\n"
     ]
    },
    {
     "name": "stderr",
     "output_type": "stream",
     "text": [
      "Epoch [93/300]:  64%|███████████████████████████████████▋                    | 21/33 [00:00<00:00, 53.16it/s, loss=0.66]"
     ]
    },
    {
     "name": "stdout",
     "output_type": "stream",
     "text": [
      "24\n",
      "25\n"
     ]
    },
    {
     "name": "stderr",
     "output_type": "stream",
     "text": [
      "Epoch [93/300]:  82%|█████████████████████████████████████████████          | 27/33 [00:00<00:00, 53.60it/s, loss=0.949]"
     ]
    },
    {
     "name": "stdout",
     "output_type": "stream",
     "text": [
      "26\n",
      "27\n",
      "28\n",
      "29\n",
      "30\n"
     ]
    },
    {
     "name": "stderr",
     "output_type": "stream",
     "text": [
      "Epoch [93/300]: 100%|████████████████████████████████████████████████████████| 33/33 [00:00<00:00, 55.49it/s, loss=1.03]"
     ]
    },
    {
     "name": "stdout",
     "output_type": "stream",
     "text": [
      "31\n",
      "32\n"
     ]
    },
    {
     "name": "stderr",
     "output_type": "stream",
     "text": [
      "\n",
      "\n",
      "Epoch [93/300]:   0%|                                                                  | 0/5 [00:00<?, ?it/s, loss=1.59]\u001b[A\n",
      "Epoch [93/300]:  20%|███████████▌                                              | 1/5 [00:00<00:02,  1.63it/s, loss=1.59]\u001b[A"
     ]
    },
    {
     "name": "stdout",
     "output_type": "stream",
     "text": [
      "0\n"
     ]
    },
    {
     "name": "stderr",
     "output_type": "stream",
     "text": [
      "\n",
      "Epoch [93/300]:  20%|███████████▍                                             | 1/5 [00:00<00:02,  1.63it/s, loss=0.891]\u001b[A"
     ]
    },
    {
     "name": "stdout",
     "output_type": "stream",
     "text": [
      "1\n"
     ]
    },
    {
     "name": "stderr",
     "output_type": "stream",
     "text": [
      "\n",
      "Epoch [93/300]:  20%|███████████▍                                             | 1/5 [00:00<00:02,  1.63it/s, loss=0.772]\u001b[A\n",
      "Epoch [93/300]:  20%|███████████▌                                              | 1/5 [00:00<00:02,  1.63it/s, loss=1.17]\u001b[A\n",
      "Epoch [93/300]: 100%|█████████████████████████████████████████████████████████| 5/5 [00:00<00:00,  7.34it/s, loss=0.133]\u001b[A\n"
     ]
    },
    {
     "name": "stdout",
     "output_type": "stream",
     "text": [
      "2\n",
      "3\n",
      "4\n",
      "model improved and saved\n",
      "\n",
      "Epoch 93: train loss: 0.8365727789474257 \n",
      "Epoch 93: valid loss: 0.9114064455032349 \n"
     ]
    },
    {
     "name": "stderr",
     "output_type": "stream",
     "text": [
      "  0%|                                                                                            | 0/33 [00:00<?, ?it/s]\n",
      "Epoch [94/300]:   0%|                                                                            | 0/33 [00:00<?, ?it/s]\u001b[A\n",
      "Epoch [94/300]:   0%|                                                                | 0/33 [00:00<?, ?it/s, loss=0.626]\u001b[A"
     ]
    },
    {
     "name": "stdout",
     "output_type": "stream",
     "text": [
      "0\n",
      "1\n",
      "2\n",
      "3\n"
     ]
    },
    {
     "name": "stderr",
     "output_type": "stream",
     "text": [
      "Epoch [94/300]:  15%|████████▍                                               | 5/33 [00:00<00:00, 46.72it/s, loss=0.787]"
     ]
    },
    {
     "name": "stdout",
     "output_type": "stream",
     "text": [
      "4\n"
     ]
    },
    {
     "name": "stderr",
     "output_type": "stream",
     "text": [
      "\r",
      "Epoch [94/300]:  15%|████████▍                                               | 5/33 [00:00<00:00, 46.72it/s, loss=0.786]"
     ]
    },
    {
     "name": "stdout",
     "output_type": "stream",
     "text": [
      "5\n"
     ]
    },
    {
     "name": "stderr",
     "output_type": "stream",
     "text": [
      "Epoch [94/300]:  15%|████████▍                                               | 5/33 [00:00<00:00, 46.72it/s, loss=0.672]"
     ]
    },
    {
     "name": "stdout",
     "output_type": "stream",
     "text": [
      "6\n",
      "7\n"
     ]
    },
    {
     "name": "stderr",
     "output_type": "stream",
     "text": [
      "Epoch [94/300]:  33%|██████████████████▋                                     | 11/33 [00:00<00:00, 50.25it/s, loss=0.99]"
     ]
    },
    {
     "name": "stdout",
     "output_type": "stream",
     "text": [
      "8\n",
      "9\n",
      "10\n"
     ]
    },
    {
     "name": "stderr",
     "output_type": "stream",
     "text": [
      "Epoch [94/300]:  33%|██████████████████▎                                    | 11/33 [00:00<00:00, 50.25it/s, loss=0.674]"
     ]
    },
    {
     "name": "stdout",
     "output_type": "stream",
     "text": [
      "11\n",
      "12\n",
      "13\n",
      "14\n"
     ]
    },
    {
     "name": "stderr",
     "output_type": "stream",
     "text": [
      "\r",
      "Epoch [94/300]:  33%|██████████████████▎                                    | 11/33 [00:00<00:00, 50.25it/s, loss=0.368]"
     ]
    },
    {
     "name": "stdout",
     "output_type": "stream",
     "text": [
      "15\n"
     ]
    },
    {
     "name": "stderr",
     "output_type": "stream",
     "text": [
      "Epoch [94/300]:  52%|████████████████████████████▎                          | 17/33 [00:00<00:00, 50.68it/s, loss=0.788]"
     ]
    },
    {
     "name": "stdout",
     "output_type": "stream",
     "text": [
      "16\n"
     ]
    },
    {
     "name": "stderr",
     "output_type": "stream",
     "text": [
      "Epoch [94/300]:  52%|████████████████████████████▎                          | 17/33 [00:00<00:00, 50.68it/s, loss=0.816]"
     ]
    },
    {
     "name": "stdout",
     "output_type": "stream",
     "text": [
      "17\n",
      "18\n"
     ]
    },
    {
     "name": "stderr",
     "output_type": "stream",
     "text": [
      "Epoch [94/300]:  52%|████████████████████████████▊                           | 17/33 [00:00<00:00, 50.68it/s, loss=0.73]"
     ]
    },
    {
     "name": "stdout",
     "output_type": "stream",
     "text": [
      "19\n",
      "20\n",
      "21\n"
     ]
    },
    {
     "name": "stderr",
     "output_type": "stream",
     "text": [
      "Epoch [94/300]:  70%|███████████████████████████████████████                 | 23/33 [00:00<00:00, 50.08it/s, loss=1.25]"
     ]
    },
    {
     "name": "stdout",
     "output_type": "stream",
     "text": [
      "22\n",
      "23\n",
      "24\n",
      "25\n"
     ]
    },
    {
     "name": "stderr",
     "output_type": "stream",
     "text": [
      "\r",
      "Epoch [94/300]:  70%|██████████████████████████████████████▎                | 23/33 [00:00<00:00, 50.08it/s, loss=0.887]"
     ]
    },
    {
     "name": "stdout",
     "output_type": "stream",
     "text": [
      "26\n"
     ]
    },
    {
     "name": "stderr",
     "output_type": "stream",
     "text": [
      "\r",
      "Epoch [94/300]:  70%|██████████████████████████████████████▎                | 23/33 [00:00<00:00, 50.08it/s, loss=0.947]"
     ]
    },
    {
     "name": "stdout",
     "output_type": "stream",
     "text": [
      "27\n"
     ]
    },
    {
     "name": "stderr",
     "output_type": "stream",
     "text": [
      "Epoch [94/300]:  88%|█████████████████████████████████████████████████▏      | 29/33 [00:00<00:00, 52.19it/s, loss=1.23]"
     ]
    },
    {
     "name": "stdout",
     "output_type": "stream",
     "text": [
      "28\n",
      "29\n"
     ]
    },
    {
     "name": "stderr",
     "output_type": "stream",
     "text": [
      "Epoch [94/300]: 100%|████████████████████████████████████████████████████████| 33/33 [00:00<00:00, 52.26it/s, loss=1.02]\n",
      "\n",
      "Epoch [94/300]:   0%|                                                                  | 0/5 [00:00<?, ?it/s, loss=1.59]\u001b[A\n",
      "Epoch [94/300]:  20%|███████████▌                                              | 1/5 [00:00<00:02,  1.55it/s, loss=1.59]\u001b[A"
     ]
    },
    {
     "name": "stdout",
     "output_type": "stream",
     "text": [
      "30\n",
      "31\n",
      "32\n",
      "0\n"
     ]
    },
    {
     "name": "stderr",
     "output_type": "stream",
     "text": [
      "\n",
      "Epoch [94/300]:  20%|███████████▍                                             | 1/5 [00:00<00:02,  1.55it/s, loss=0.891]\u001b[A\n",
      "Epoch [94/300]:  20%|███████████▍                                             | 1/5 [00:00<00:02,  1.55it/s, loss=0.772]\u001b[A\n",
      "Epoch [94/300]:  20%|███████████▌                                              | 1/5 [00:00<00:02,  1.55it/s, loss=1.17]\u001b[A\n",
      "Epoch [94/300]: 100%|█████████████████████████████████████████████████████████| 5/5 [00:00<00:00,  7.02it/s, loss=0.133]\u001b[A\n"
     ]
    },
    {
     "name": "stdout",
     "output_type": "stream",
     "text": [
      "1\n",
      "2\n",
      "3\n",
      "4\n",
      "model improved and saved\n",
      "\n",
      "Epoch 94: train loss: 0.837987732706648 \n",
      "Epoch 94: valid loss: 0.9115092843770981 \n"
     ]
    },
    {
     "name": "stderr",
     "output_type": "stream",
     "text": [
      "  0%|                                                                                            | 0/33 [00:00<?, ?it/s]\n",
      "Epoch [95/300]:   0%|                                                                            | 0/33 [00:00<?, ?it/s]\u001b[A\n",
      "Epoch [95/300]:   0%|                                                                | 0/33 [00:00<?, ?it/s, loss=0.705]\u001b[A"
     ]
    },
    {
     "name": "stdout",
     "output_type": "stream",
     "text": [
      "0\n"
     ]
    },
    {
     "name": "stderr",
     "output_type": "stream",
     "text": [
      "Epoch [95/300]:   0%|                                                                | 0/33 [00:00<?, ?it/s, loss=0.908]"
     ]
    },
    {
     "name": "stdout",
     "output_type": "stream",
     "text": [
      "1\n",
      "2\n"
     ]
    },
    {
     "name": "stderr",
     "output_type": "stream",
     "text": [
      "Epoch [95/300]:  15%|████████▍                                               | 5/33 [00:00<00:00, 42.30it/s, loss=0.797]"
     ]
    },
    {
     "name": "stdout",
     "output_type": "stream",
     "text": [
      "3\n",
      "4\n",
      "5\n"
     ]
    },
    {
     "name": "stderr",
     "output_type": "stream",
     "text": [
      "Epoch [95/300]:  15%|████████▍                                               | 5/33 [00:00<00:00, 42.30it/s, loss=0.762]"
     ]
    },
    {
     "name": "stdout",
     "output_type": "stream",
     "text": [
      "6\n",
      "7\n",
      "8\n",
      "9\n"
     ]
    },
    {
     "name": "stderr",
     "output_type": "stream",
     "text": [
      "Epoch [95/300]:  33%|██████████████████▎                                    | 11/33 [00:00<00:00, 47.66it/s, loss=0.748]"
     ]
    },
    {
     "name": "stdout",
     "output_type": "stream",
     "text": [
      "10\n",
      "11\n"
     ]
    },
    {
     "name": "stderr",
     "output_type": "stream",
     "text": [
      "Epoch [95/300]:  33%|██████████████████▎                                    | 11/33 [00:00<00:00, 47.66it/s, loss=0.577]"
     ]
    },
    {
     "name": "stdout",
     "output_type": "stream",
     "text": [
      "12\n",
      "13\n"
     ]
    },
    {
     "name": "stderr",
     "output_type": "stream",
     "text": [
      "Epoch [95/300]:  52%|████████████████████████████▎                          | 17/33 [00:00<00:00, 52.15it/s, loss=0.706]"
     ]
    },
    {
     "name": "stdout",
     "output_type": "stream",
     "text": [
      "14\n",
      "15\n",
      "16\n",
      "17\n"
     ]
    },
    {
     "name": "stderr",
     "output_type": "stream",
     "text": [
      "Epoch [95/300]:  52%|████████████████████████████▊                           | 17/33 [00:00<00:00, 52.15it/s, loss=1.16]"
     ]
    },
    {
     "name": "stdout",
     "output_type": "stream",
     "text": [
      "18\n",
      "19\n",
      "20\n",
      "21\n"
     ]
    },
    {
     "name": "stderr",
     "output_type": "stream",
     "text": [
      "Epoch [95/300]:  70%|██████████████████████████████████████▎                | 23/33 [00:00<00:00, 51.25it/s, loss=0.737]"
     ]
    },
    {
     "name": "stdout",
     "output_type": "stream",
     "text": [
      "22\n"
     ]
    },
    {
     "name": "stderr",
     "output_type": "stream",
     "text": [
      "Epoch [95/300]:  70%|██████████████████████████████████████▎                | 23/33 [00:00<00:00, 51.25it/s, loss=0.586]"
     ]
    },
    {
     "name": "stdout",
     "output_type": "stream",
     "text": [
      "23\n",
      "24\n"
     ]
    },
    {
     "name": "stderr",
     "output_type": "stream",
     "text": [
      "Epoch [95/300]:  88%|████████████████████████████████████████████████▎      | 29/33 [00:00<00:00, 51.82it/s, loss=0.659]"
     ]
    },
    {
     "name": "stdout",
     "output_type": "stream",
     "text": [
      "25\n",
      "26\n",
      "27\n",
      "28\n"
     ]
    },
    {
     "name": "stderr",
     "output_type": "stream",
     "text": [
      "Epoch [95/300]: 100%|███████████████████████████████████████████████████████| 33/33 [00:00<00:00, 52.44it/s, loss=0.954]\n",
      "\n",
      "Epoch [95/300]:   0%|                                                                  | 0/5 [00:00<?, ?it/s, loss=1.59]\u001b[A\n",
      "Epoch [95/300]:  20%|███████████▌                                              | 1/5 [00:00<00:02,  1.55it/s, loss=1.59]\u001b[A"
     ]
    },
    {
     "name": "stdout",
     "output_type": "stream",
     "text": [
      "29\n",
      "30\n",
      "31\n",
      "32\n",
      "0\n"
     ]
    },
    {
     "name": "stderr",
     "output_type": "stream",
     "text": [
      "\n",
      "Epoch [95/300]:  20%|███████████▍                                             | 1/5 [00:00<00:02,  1.55it/s, loss=0.891]\u001b[A"
     ]
    },
    {
     "name": "stdout",
     "output_type": "stream",
     "text": [
      "1\n"
     ]
    },
    {
     "name": "stderr",
     "output_type": "stream",
     "text": [
      "\n",
      "Epoch [95/300]:  20%|███████████▍                                             | 1/5 [00:00<00:02,  1.55it/s, loss=0.773]\u001b[A"
     ]
    },
    {
     "name": "stdout",
     "output_type": "stream",
     "text": [
      "2\n"
     ]
    },
    {
     "name": "stderr",
     "output_type": "stream",
     "text": [
      "\n",
      "Epoch [95/300]:  20%|███████████▌                                              | 1/5 [00:00<00:02,  1.55it/s, loss=1.17]\u001b[A\n",
      "Epoch [95/300]: 100%|█████████████████████████████████████████████████████████| 5/5 [00:00<00:00,  6.89it/s, loss=0.133]\u001b[A\n"
     ]
    },
    {
     "name": "stdout",
     "output_type": "stream",
     "text": [
      "3\n",
      "4\n",
      "model improved and saved\n",
      "\n",
      "Epoch 95: train loss: 0.8350280089811846 \n",
      "Epoch 95: valid loss: 0.9116420865058898 \n"
     ]
    },
    {
     "name": "stderr",
     "output_type": "stream",
     "text": [
      "  0%|                                                                                            | 0/33 [00:00<?, ?it/s]\n",
      "Epoch [96/300]:   0%|                                                                            | 0/33 [00:00<?, ?it/s]\u001b[A\n",
      "Epoch [96/300]:   0%|                                                                | 0/33 [00:00<?, ?it/s, loss=0.705]\u001b[A"
     ]
    },
    {
     "name": "stdout",
     "output_type": "stream",
     "text": [
      "0\n"
     ]
    },
    {
     "name": "stderr",
     "output_type": "stream",
     "text": [
      "Epoch [96/300]:  12%|██████▊                                                 | 4/33 [00:00<00:00, 37.60it/s, loss=0.752]"
     ]
    },
    {
     "name": "stdout",
     "output_type": "stream",
     "text": [
      "1\n",
      "2\n",
      "3\n",
      "4\n"
     ]
    },
    {
     "name": "stderr",
     "output_type": "stream",
     "text": [
      "\r",
      "Epoch [96/300]:  12%|██████▊                                                 | 4/33 [00:00<00:00, 37.60it/s, loss=0.916]"
     ]
    },
    {
     "name": "stdout",
     "output_type": "stream",
     "text": [
      "5\n"
     ]
    },
    {
     "name": "stderr",
     "output_type": "stream",
     "text": [
      "\r",
      "Epoch [96/300]:  12%|██████▉                                                  | 4/33 [00:00<00:00, 37.60it/s, loss=1.02]"
     ]
    },
    {
     "name": "stdout",
     "output_type": "stream",
     "text": [
      "6\n"
     ]
    },
    {
     "name": "stderr",
     "output_type": "stream",
     "text": [
      "Epoch [96/300]:  27%|███████████████▎                                        | 9/33 [00:00<00:00, 43.96it/s, loss=0.734]"
     ]
    },
    {
     "name": "stdout",
     "output_type": "stream",
     "text": [
      "7\n",
      "8\n",
      "9\n"
     ]
    },
    {
     "name": "stderr",
     "output_type": "stream",
     "text": [
      "\r",
      "Epoch [96/300]:  27%|███████████████▎                                        | 9/33 [00:00<00:00, 43.96it/s, loss=0.871]"
     ]
    },
    {
     "name": "stdout",
     "output_type": "stream",
     "text": [
      "10\n"
     ]
    },
    {
     "name": "stderr",
     "output_type": "stream",
     "text": [
      "Epoch [96/300]:  42%|███████████████████████▎                               | 14/33 [00:00<00:00, 46.38it/s, loss=0.851]"
     ]
    },
    {
     "name": "stdout",
     "output_type": "stream",
     "text": [
      "11\n",
      "12\n",
      "13\n",
      "14\n"
     ]
    },
    {
     "name": "stderr",
     "output_type": "stream",
     "text": [
      "\r",
      "Epoch [96/300]:  42%|███████████████████████▎                               | 14/33 [00:00<00:00, 46.38it/s, loss=0.738]"
     ]
    },
    {
     "name": "stdout",
     "output_type": "stream",
     "text": [
      "15\n"
     ]
    },
    {
     "name": "stderr",
     "output_type": "stream",
     "text": [
      "Epoch [96/300]:  42%|███████████████████████▎                               | 14/33 [00:00<00:00, 46.38it/s, loss=0.964]"
     ]
    },
    {
     "name": "stdout",
     "output_type": "stream",
     "text": [
      "16\n",
      "17\n"
     ]
    },
    {
     "name": "stderr",
     "output_type": "stream",
     "text": [
      "Epoch [96/300]:  61%|█████████████████████████████████▎                     | 20/33 [00:00<00:00, 48.68it/s, loss=0.571]"
     ]
    },
    {
     "name": "stdout",
     "output_type": "stream",
     "text": [
      "18\n",
      "19\n"
     ]
    },
    {
     "name": "stderr",
     "output_type": "stream",
     "text": [
      "Epoch [96/300]:  61%|█████████████████████████████████▎                     | 20/33 [00:00<00:00, 48.68it/s, loss=0.984]"
     ]
    },
    {
     "name": "stdout",
     "output_type": "stream",
     "text": [
      "20\n",
      "21\n"
     ]
    },
    {
     "name": "stderr",
     "output_type": "stream",
     "text": [
      "Epoch [96/300]:  79%|███████████████████████████████████████████▎           | 26/33 [00:00<00:00, 49.54it/s, loss=0.916]"
     ]
    },
    {
     "name": "stdout",
     "output_type": "stream",
     "text": [
      "22\n",
      "23\n",
      "24\n",
      "25\n"
     ]
    },
    {
     "name": "stderr",
     "output_type": "stream",
     "text": [
      "\r",
      "Epoch [96/300]:  79%|███████████████████████████████████████████▎           | 26/33 [00:00<00:00, 49.54it/s, loss=0.741]"
     ]
    },
    {
     "name": "stdout",
     "output_type": "stream",
     "text": [
      "26\n"
     ]
    },
    {
     "name": "stderr",
     "output_type": "stream",
     "text": [
      "Epoch [96/300]:  79%|███████████████████████████████████████████▎           | 26/33 [00:00<00:00, 49.54it/s, loss=0.673]"
     ]
    },
    {
     "name": "stdout",
     "output_type": "stream",
     "text": [
      "27\n",
      "28\n"
     ]
    },
    {
     "name": "stderr",
     "output_type": "stream",
     "text": [
      "Epoch [96/300]:  97%|██████████████████████████████████████████████████████▎ | 32/33 [00:00<00:00, 50.83it/s, loss=0.87]"
     ]
    },
    {
     "name": "stdout",
     "output_type": "stream",
     "text": [
      "29\n",
      "30\n",
      "31\n"
     ]
    },
    {
     "name": "stderr",
     "output_type": "stream",
     "text": [
      "Epoch [96/300]: 100%|████████████████████████████████████████████████████████| 33/33 [00:00<00:00, 49.32it/s, loss=1.69]\n",
      "\n",
      "Epoch [96/300]:   0%|                                                                  | 0/5 [00:00<?, ?it/s, loss=1.59]\u001b[A\n",
      "Epoch [96/300]:  20%|███████████▌                                              | 1/5 [00:00<00:02,  1.47it/s, loss=1.59]\u001b[A"
     ]
    },
    {
     "name": "stdout",
     "output_type": "stream",
     "text": [
      "32\n",
      "0\n"
     ]
    },
    {
     "name": "stderr",
     "output_type": "stream",
     "text": [
      "\n",
      "Epoch [96/300]:  20%|███████████▍                                             | 1/5 [00:00<00:02,  1.47it/s, loss=0.891]\u001b[A\n",
      "Epoch [96/300]:  20%|███████████▍                                             | 1/5 [00:00<00:02,  1.47it/s, loss=0.772]\u001b[A\n",
      "Epoch [96/300]:  20%|███████████▌                                              | 1/5 [00:00<00:02,  1.47it/s, loss=1.17]\u001b[A\n",
      "Epoch [96/300]: 100%|█████████████████████████████████████████████████████████| 5/5 [00:00<00:00,  6.64it/s, loss=0.133]\u001b[A\n"
     ]
    },
    {
     "name": "stdout",
     "output_type": "stream",
     "text": [
      "1\n",
      "2\n",
      "3\n",
      "4\n",
      "model improved and saved\n",
      "\n",
      "Epoch 96: train loss: 0.8542415951237534 \n",
      "Epoch 96: valid loss: 0.9116123408079148 \n"
     ]
    },
    {
     "name": "stderr",
     "output_type": "stream",
     "text": [
      "  0%|                                                                                            | 0/33 [00:00<?, ?it/s]\n",
      "Epoch [97/300]:   0%|                                                                            | 0/33 [00:00<?, ?it/s]\u001b[A\n",
      "Epoch [97/300]:   0%|                                                                | 0/33 [00:00<?, ?it/s, loss=0.801]\u001b[A"
     ]
    },
    {
     "name": "stdout",
     "output_type": "stream",
     "text": [
      "0\n",
      "1\n"
     ]
    },
    {
     "name": "stderr",
     "output_type": "stream",
     "text": [
      "Epoch [97/300]:   0%|                                                                | 0/33 [00:00<?, ?it/s, loss=0.875]"
     ]
    },
    {
     "name": "stdout",
     "output_type": "stream",
     "text": [
      "2\n",
      "3\n"
     ]
    },
    {
     "name": "stderr",
     "output_type": "stream",
     "text": [
      "Epoch [97/300]:  15%|████████▍                                               | 5/33 [00:00<00:00, 47.68it/s, loss=0.902]"
     ]
    },
    {
     "name": "stdout",
     "output_type": "stream",
     "text": [
      "4\n",
      "5\n",
      "6\n"
     ]
    },
    {
     "name": "stderr",
     "output_type": "stream",
     "text": [
      "Epoch [97/300]:  33%|██████████████████▋                                     | 11/33 [00:00<00:00, 50.53it/s, loss=1.05]"
     ]
    },
    {
     "name": "stdout",
     "output_type": "stream",
     "text": [
      "7\n",
      "8\n",
      "9\n",
      "10\n"
     ]
    },
    {
     "name": "stderr",
     "output_type": "stream",
     "text": [
      "Epoch [97/300]:  33%|██████████████████▎                                    | 11/33 [00:00<00:00, 50.53it/s, loss=0.674]"
     ]
    },
    {
     "name": "stdout",
     "output_type": "stream",
     "text": [
      "11\n",
      "12\n"
     ]
    },
    {
     "name": "stderr",
     "output_type": "stream",
     "text": [
      "\r",
      "Epoch [97/300]:  33%|██████████████████▎                                    | 11/33 [00:00<00:00, 50.53it/s, loss=0.728]"
     ]
    },
    {
     "name": "stdout",
     "output_type": "stream",
     "text": [
      "13\n"
     ]
    },
    {
     "name": "stderr",
     "output_type": "stream",
     "text": [
      "Epoch [97/300]:  52%|████████████████████████████▊                           | 17/33 [00:00<00:00, 36.49it/s, loss=1.06]"
     ]
    },
    {
     "name": "stdout",
     "output_type": "stream",
     "text": [
      "14\n",
      "15\n",
      "16\n"
     ]
    },
    {
     "name": "stderr",
     "output_type": "stream",
     "text": [
      "Epoch [97/300]:  52%|████████████████████████████▎                          | 17/33 [00:00<00:00, 36.49it/s, loss=0.832]"
     ]
    },
    {
     "name": "stdout",
     "output_type": "stream",
     "text": [
      "17\n",
      "18\n"
     ]
    },
    {
     "name": "stderr",
     "output_type": "stream",
     "text": [
      "Epoch [97/300]:  70%|██████████████████████████████████████▎                | 23/33 [00:00<00:00, 41.55it/s, loss=0.998]"
     ]
    },
    {
     "name": "stdout",
     "output_type": "stream",
     "text": [
      "19\n",
      "20\n",
      "21\n",
      "22\n",
      "23\n",
      "24\n"
     ]
    },
    {
     "name": "stderr",
     "output_type": "stream",
     "text": [
      "Epoch [97/300]:  70%|██████████████████████████████████████▎                | 23/33 [00:00<00:00, 41.55it/s, loss=0.958]"
     ]
    },
    {
     "name": "stdout",
     "output_type": "stream",
     "text": [
      "25\n",
      "26\n",
      "27\n"
     ]
    },
    {
     "name": "stderr",
     "output_type": "stream",
     "text": [
      "Epoch [97/300]:  88%|████████████████████████████████████████████████▎      | 29/33 [00:00<00:00, 45.42it/s, loss=0.716]"
     ]
    },
    {
     "name": "stdout",
     "output_type": "stream",
     "text": [
      "28\n",
      "29\n"
     ]
    },
    {
     "name": "stderr",
     "output_type": "stream",
     "text": [
      "Epoch [97/300]: 100%|███████████████████████████████████████████████████████| 33/33 [00:00<00:00, 45.53it/s, loss=0.398]\n",
      "\n",
      "Epoch [97/300]:   0%|                                                                  | 0/5 [00:00<?, ?it/s, loss=1.59]\u001b[A\n",
      "Epoch [97/300]:  20%|███████████▌                                              | 1/5 [00:00<00:02,  1.36it/s, loss=1.59]\u001b[A\n",
      "Epoch [97/300]:  20%|███████████▍                                             | 1/5 [00:00<00:02,  1.36it/s, loss=0.891]\u001b[A\n",
      "Epoch [97/300]:  20%|███████████▍                                             | 1/5 [00:00<00:02,  1.36it/s, loss=0.773]\u001b[A\n",
      "Epoch [97/300]:  20%|███████████▌                                              | 1/5 [00:00<00:02,  1.36it/s, loss=1.17]\u001b[A\n",
      "Epoch [97/300]: 100%|█████████████████████████████████████████████████████████| 5/5 [00:00<00:00,  6.31it/s, loss=0.133]\u001b[A\n"
     ]
    },
    {
     "name": "stdout",
     "output_type": "stream",
     "text": [
      "30\n",
      "31\n",
      "32\n",
      "0\n",
      "1\n",
      "2\n",
      "3\n",
      "4\n",
      "model improved and saved\n",
      "\n",
      "Epoch 97: train loss: 0.819497904994271 \n",
      "Epoch 97: valid loss: 0.9117818027734756 \n"
     ]
    },
    {
     "name": "stderr",
     "output_type": "stream",
     "text": [
      "  0%|                                                                                            | 0/33 [00:00<?, ?it/s]\n",
      "Epoch [98/300]:   0%|                                                                            | 0/33 [00:00<?, ?it/s]\u001b[A\n",
      "Epoch [98/300]:   0%|                                                                | 0/33 [00:00<?, ?it/s, loss=0.927]\u001b[A"
     ]
    },
    {
     "name": "stdout",
     "output_type": "stream",
     "text": [
      "0\n",
      "1\n"
     ]
    },
    {
     "name": "stderr",
     "output_type": "stream",
     "text": [
      "Epoch [98/300]:   0%|                                                                | 0/33 [00:00<?, ?it/s, loss=0.893]"
     ]
    },
    {
     "name": "stdout",
     "output_type": "stream",
     "text": [
      "2\n",
      "3\n"
     ]
    },
    {
     "name": "stderr",
     "output_type": "stream",
     "text": [
      "Epoch [98/300]:  39%|█████████████████████▋                                 | 13/33 [00:00<00:00, 60.23it/s, loss=0.798]"
     ]
    },
    {
     "name": "stdout",
     "output_type": "stream",
     "text": [
      "4\n",
      "5\n",
      "6\n",
      "7\n",
      "8\n",
      "9\n",
      "10\n",
      "11\n",
      "12\n"
     ]
    },
    {
     "name": "stderr",
     "output_type": "stream",
     "text": [
      "Epoch [98/300]:  39%|██████████████████████                                  | 13/33 [00:00<00:00, 60.23it/s, loss=0.66]"
     ]
    },
    {
     "name": "stdout",
     "output_type": "stream",
     "text": [
      "13\n",
      "14\n",
      "15\n"
     ]
    },
    {
     "name": "stderr",
     "output_type": "stream",
     "text": [
      "Epoch [98/300]:  39%|█████████████████████▋                                 | 13/33 [00:00<00:00, 60.23it/s, loss=0.685]"
     ]
    },
    {
     "name": "stdout",
     "output_type": "stream",
     "text": [
      "16\n",
      "17\n"
     ]
    },
    {
     "name": "stderr",
     "output_type": "stream",
     "text": [
      "Epoch [98/300]:  61%|█████████████████████████████████▎                     | 20/33 [00:00<00:00, 60.88it/s, loss=0.587]"
     ]
    },
    {
     "name": "stdout",
     "output_type": "stream",
     "text": [
      "18\n",
      "19\n",
      "20\n",
      "21\n",
      "22\n",
      "23\n",
      "24\n",
      "25\n"
     ]
    },
    {
     "name": "stderr",
     "output_type": "stream",
     "text": [
      "Epoch [98/300]:  82%|█████████████████████████████████████████████          | 27/33 [00:00<00:00, 60.37it/s, loss=0.519]"
     ]
    },
    {
     "name": "stdout",
     "output_type": "stream",
     "text": [
      "26\n",
      "27\n"
     ]
    },
    {
     "name": "stderr",
     "output_type": "stream",
     "text": [
      "\r",
      "Epoch [98/300]:  82%|█████████████████████████████████████████████          | 27/33 [00:00<00:00, 60.37it/s, loss=0.645]"
     ]
    },
    {
     "name": "stdout",
     "output_type": "stream",
     "text": [
      "28\n"
     ]
    },
    {
     "name": "stderr",
     "output_type": "stream",
     "text": [
      "Epoch [98/300]: 100%|███████████████████████████████████████████████████████| 33/33 [00:00<00:00, 58.39it/s, loss=0.967]\n",
      "\n",
      "Epoch [98/300]:   0%|                                                                  | 0/5 [00:00<?, ?it/s, loss=1.59]\u001b[A\n",
      "Epoch [98/300]:  20%|███████████▌                                              | 1/5 [00:00<00:02,  1.73it/s, loss=1.59]\u001b[A\n",
      "Epoch [98/300]:  20%|███████████▍                                             | 1/5 [00:00<00:02,  1.73it/s, loss=0.891]\u001b[A\n",
      "Epoch [98/300]:  20%|███████████▍                                             | 1/5 [00:00<00:02,  1.73it/s, loss=0.773]\u001b[A\n",
      "Epoch [98/300]:  20%|███████████▌                                              | 1/5 [00:00<00:02,  1.73it/s, loss=1.17]\u001b[A\n",
      "Epoch [98/300]: 100%|█████████████████████████████████████████████████████████| 5/5 [00:00<00:00,  7.83it/s, loss=0.133]\u001b[A"
     ]
    },
    {
     "name": "stdout",
     "output_type": "stream",
     "text": [
      "29\n",
      "30\n",
      "31\n",
      "32\n",
      "0\n",
      "1\n",
      "2\n",
      "3\n",
      "4\n",
      "model improved and saved\n",
      "\n",
      "Epoch 98: train loss: 0.8379588759306705 \n",
      "Epoch 98: valid loss: 0.9117393672466279 \n"
     ]
    },
    {
     "name": "stderr",
     "output_type": "stream",
     "text": [
      "\n",
      "  0%|                                                                                            | 0/33 [00:00<?, ?it/s]\n",
      "Epoch [99/300]:   0%|                                                                            | 0/33 [00:00<?, ?it/s]\u001b[A\n",
      "Epoch [99/300]:   0%|                                                                | 0/33 [00:00<?, ?it/s, loss=0.885]\u001b[A"
     ]
    },
    {
     "name": "stdout",
     "output_type": "stream",
     "text": [
      "0\n",
      "1\n"
     ]
    },
    {
     "name": "stderr",
     "output_type": "stream",
     "text": [
      "\r",
      "Epoch [99/300]:   0%|                                                                 | 0/33 [00:00<?, ?it/s, loss=0.58]"
     ]
    },
    {
     "name": "stdout",
     "output_type": "stream",
     "text": [
      "2\n"
     ]
    },
    {
     "name": "stderr",
     "output_type": "stream",
     "text": [
      "Epoch [99/300]:  18%|██████████▎                                              | 6/33 [00:00<00:00, 53.60it/s, loss=1.01]"
     ]
    },
    {
     "name": "stdout",
     "output_type": "stream",
     "text": [
      "3\n",
      "4\n",
      "5\n",
      "6\n",
      "7\n",
      "8\n",
      "9\n",
      "10\n",
      "11\n"
     ]
    },
    {
     "name": "stderr",
     "output_type": "stream",
     "text": [
      "Epoch [99/300]:  39%|█████████████████████▋                                 | 13/33 [00:00<00:00, 56.49it/s, loss=0.839]"
     ]
    },
    {
     "name": "stdout",
     "output_type": "stream",
     "text": [
      "12\n",
      "13\n"
     ]
    },
    {
     "name": "stderr",
     "output_type": "stream",
     "text": [
      "\r",
      "Epoch [99/300]:  39%|█████████████████████▋                                 | 13/33 [00:00<00:00, 56.49it/s, loss=0.735]"
     ]
    },
    {
     "name": "stdout",
     "output_type": "stream",
     "text": [
      "14\n"
     ]
    },
    {
     "name": "stderr",
     "output_type": "stream",
     "text": [
      "Epoch [99/300]:  61%|█████████████████████████████████▎                     | 20/33 [00:00<00:00, 58.87it/s, loss=0.622]"
     ]
    },
    {
     "name": "stdout",
     "output_type": "stream",
     "text": [
      "15\n",
      "16\n",
      "17\n",
      "18\n",
      "19\n",
      "20\n",
      "21\n",
      "22\n",
      "23\n",
      "24\n"
     ]
    },
    {
     "name": "stderr",
     "output_type": "stream",
     "text": [
      "Epoch [99/300]:  82%|█████████████████████████████████████████████▊          | 27/33 [00:00<00:00, 61.31it/s, loss=0.88]"
     ]
    },
    {
     "name": "stdout",
     "output_type": "stream",
     "text": [
      "25\n",
      "26\n"
     ]
    },
    {
     "name": "stderr",
     "output_type": "stream",
     "text": [
      "\r",
      "Epoch [99/300]:  82%|█████████████████████████████████████████████          | 27/33 [00:00<00:00, 61.31it/s, loss=0.742]"
     ]
    },
    {
     "name": "stdout",
     "output_type": "stream",
     "text": [
      "27\n"
     ]
    },
    {
     "name": "stderr",
     "output_type": "stream",
     "text": [
      "Epoch [99/300]: 100%|████████████████████████████████████████████████████████| 33/33 [00:00<00:00, 59.60it/s, loss=1.21]\n",
      "\n",
      "Epoch [99/300]:   0%|                                                                  | 0/5 [00:00<?, ?it/s, loss=1.59]\u001b[A\n",
      "Epoch [99/300]:  20%|███████████▌                                              | 1/5 [00:00<00:02,  1.77it/s, loss=1.59]\u001b[A\n",
      "Epoch [99/300]:  20%|███████████▍                                             | 1/5 [00:00<00:02,  1.77it/s, loss=0.891]\u001b[A\n",
      "Epoch [99/300]:  20%|███████████▍                                             | 1/5 [00:00<00:02,  1.77it/s, loss=0.772]\u001b[A\n",
      "Epoch [99/300]:  20%|███████████▌                                              | 1/5 [00:00<00:02,  1.77it/s, loss=1.17]\u001b[A\n",
      "Epoch [99/300]: 100%|█████████████████████████████████████████████████████████| 5/5 [00:00<00:00,  7.96it/s, loss=0.133]\u001b[A"
     ]
    },
    {
     "name": "stdout",
     "output_type": "stream",
     "text": [
      "28\n",
      "29\n",
      "30\n",
      "31\n",
      "32\n",
      "0\n",
      "1\n",
      "2\n",
      "3\n",
      "4\n",
      "model improved and saved\n",
      "\n",
      "Epoch 99: train loss: 0.8463721997810133 \n",
      "Epoch 99: valid loss: 0.9116117984056473 \n"
     ]
    },
    {
     "name": "stderr",
     "output_type": "stream",
     "text": [
      "\n",
      "  0%|                                                                                            | 0/33 [00:00<?, ?it/s]\n",
      "Epoch [100/300]:   0%|                                                                           | 0/33 [00:00<?, ?it/s]\u001b[A\n",
      "Epoch [100/300]:   0%|                                                               | 0/33 [00:00<?, ?it/s, loss=0.954]\u001b[A"
     ]
    },
    {
     "name": "stdout",
     "output_type": "stream",
     "text": [
      "0\n"
     ]
    },
    {
     "name": "stderr",
     "output_type": "stream",
     "text": [
      "\r",
      "Epoch [100/300]:   0%|                                                                | 0/33 [00:00<?, ?it/s, loss=0.48]"
     ]
    },
    {
     "name": "stdout",
     "output_type": "stream",
     "text": [
      "1\n"
     ]
    },
    {
     "name": "stderr",
     "output_type": "stream",
     "text": [
      "Epoch [100/300]:  39%|█████████████████████▎                                | 13/33 [00:00<00:00, 58.85it/s, loss=0.739]"
     ]
    },
    {
     "name": "stdout",
     "output_type": "stream",
     "text": [
      "2\n",
      "3\n",
      "4\n",
      "5\n",
      "6\n",
      "7\n",
      "8\n",
      "9\n",
      "10\n",
      "11\n",
      "12\n"
     ]
    },
    {
     "name": "stderr",
     "output_type": "stream",
     "text": [
      "\r",
      "Epoch [100/300]:  39%|█████████████████████▎                                | 13/33 [00:00<00:00, 58.85it/s, loss=0.674]"
     ]
    },
    {
     "name": "stdout",
     "output_type": "stream",
     "text": [
      "13\n"
     ]
    },
    {
     "name": "stderr",
     "output_type": "stream",
     "text": [
      "\r",
      "Epoch [100/300]:  39%|█████████████████████▎                                | 13/33 [00:00<00:00, 58.85it/s, loss=0.863]"
     ]
    },
    {
     "name": "stdout",
     "output_type": "stream",
     "text": [
      "14\n"
     ]
    },
    {
     "name": "stderr",
     "output_type": "stream",
     "text": [
      "Epoch [100/300]:  76%|████████████████████████████████████████▉             | 25/33 [00:00<00:00, 58.83it/s, loss=0.652]"
     ]
    },
    {
     "name": "stdout",
     "output_type": "stream",
     "text": [
      "15\n",
      "16\n",
      "17\n",
      "18\n",
      "19\n",
      "20\n",
      "21\n",
      "22\n",
      "23\n",
      "24\n"
     ]
    },
    {
     "name": "stderr",
     "output_type": "stream",
     "text": [
      "\r",
      "Epoch [100/300]:  76%|█████████████████████████████████████████▋             | 25/33 [00:00<00:00, 58.83it/s, loss=0.58]"
     ]
    },
    {
     "name": "stdout",
     "output_type": "stream",
     "text": [
      "25\n"
     ]
    },
    {
     "name": "stderr",
     "output_type": "stream",
     "text": [
      "\r",
      "Epoch [100/300]:  76%|████████████████████████████████████████▉             | 25/33 [00:00<00:00, 58.83it/s, loss=0.914]"
     ]
    },
    {
     "name": "stdout",
     "output_type": "stream",
     "text": [
      "26\n"
     ]
    },
    {
     "name": "stderr",
     "output_type": "stream",
     "text": [
      "Epoch [100/300]: 100%|███████████████████████████████████████████████████████| 33/33 [00:00<00:00, 59.63it/s, loss=0.31]\n",
      "\n",
      "Epoch [100/300]:   0%|                                                                 | 0/5 [00:00<?, ?it/s, loss=1.59]\u001b[A\n",
      "Epoch [100/300]:  20%|███████████▍                                             | 1/5 [00:00<00:02,  1.77it/s, loss=1.59]\u001b[A\n",
      "Epoch [100/300]:  20%|███████████▏                                            | 1/5 [00:00<00:02,  1.77it/s, loss=0.891]\u001b[A\n",
      "Epoch [100/300]:  20%|███████████▏                                            | 1/5 [00:00<00:02,  1.77it/s, loss=0.773]\u001b[A\n",
      "Epoch [100/300]:  20%|███████████▍                                             | 1/5 [00:00<00:02,  1.77it/s, loss=1.17]\u001b[A\n",
      "Epoch [100/300]: 100%|████████████████████████████████████████████████████████| 5/5 [00:00<00:00,  7.99it/s, loss=0.133]\u001b[A\n"
     ]
    },
    {
     "name": "stdout",
     "output_type": "stream",
     "text": [
      "27\n",
      "28\n",
      "29\n",
      "30\n",
      "31\n",
      "32\n",
      "0\n",
      "1\n",
      "2\n",
      "3\n",
      "4\n",
      "model improved and saved\n",
      "\n",
      "Epoch 100: train loss: 0.8178665935993195 \n",
      "Epoch 100: valid loss: 0.9117402762174607 \n"
     ]
    },
    {
     "name": "stderr",
     "output_type": "stream",
     "text": [
      "  0%|                                                                                            | 0/33 [00:00<?, ?it/s]\n",
      "Epoch [101/300]:   0%|                                                                           | 0/33 [00:00<?, ?it/s]\u001b[A\n",
      "Epoch [101/300]:   0%|                                                                | 0/33 [00:00<?, ?it/s, loss=0.82]\u001b[A"
     ]
    },
    {
     "name": "stdout",
     "output_type": "stream",
     "text": [
      "0\n"
     ]
    },
    {
     "name": "stderr",
     "output_type": "stream",
     "text": [
      "\r",
      "Epoch [101/300]:   0%|                                                                | 0/33 [00:00<?, ?it/s, loss=1.03]"
     ]
    },
    {
     "name": "stdout",
     "output_type": "stream",
     "text": [
      "1\n"
     ]
    },
    {
     "name": "stderr",
     "output_type": "stream",
     "text": [
      "Epoch [101/300]:  39%|█████████████████████▎                                | 13/33 [00:00<00:00, 60.52it/s, loss=0.747]"
     ]
    },
    {
     "name": "stdout",
     "output_type": "stream",
     "text": [
      "2\n",
      "3\n",
      "4\n",
      "5\n",
      "6\n",
      "7\n",
      "8\n",
      "9\n",
      "10\n",
      "11\n",
      "12\n"
     ]
    },
    {
     "name": "stderr",
     "output_type": "stream",
     "text": [
      "\r",
      "Epoch [101/300]:  39%|█████████████████████▎                                | 13/33 [00:00<00:00, 60.52it/s, loss=0.771]"
     ]
    },
    {
     "name": "stdout",
     "output_type": "stream",
     "text": [
      "13\n"
     ]
    },
    {
     "name": "stderr",
     "output_type": "stream",
     "text": [
      "\r",
      "Epoch [101/300]:  39%|█████████████████████▎                                | 13/33 [00:00<00:00, 60.52it/s, loss=0.806]"
     ]
    },
    {
     "name": "stdout",
     "output_type": "stream",
     "text": [
      "14\n"
     ]
    },
    {
     "name": "stderr",
     "output_type": "stream",
     "text": [
      "Epoch [101/300]:  61%|████████████████████████████████▋                     | 20/33 [00:00<00:00, 57.10it/s, loss=0.635]"
     ]
    },
    {
     "name": "stdout",
     "output_type": "stream",
     "text": [
      "15\n",
      "16\n",
      "17\n",
      "18\n",
      "19\n",
      "20\n",
      "21\n",
      "22\n",
      "23\n",
      "24\n"
     ]
    },
    {
     "name": "stderr",
     "output_type": "stream",
     "text": [
      "\r",
      "Epoch [101/300]:  61%|████████████████████████████████▋                     | 20/33 [00:00<00:00, 57.10it/s, loss=0.821]"
     ]
    },
    {
     "name": "stdout",
     "output_type": "stream",
     "text": [
      "25\n"
     ]
    },
    {
     "name": "stderr",
     "output_type": "stream",
     "text": [
      "Epoch [101/300]:  82%|████████████████████████████████████████████▏         | 27/33 [00:00<00:00, 57.23it/s, loss=0.726]"
     ]
    },
    {
     "name": "stdout",
     "output_type": "stream",
     "text": [
      "26\n"
     ]
    },
    {
     "name": "stderr",
     "output_type": "stream",
     "text": [
      "Epoch [101/300]: 100%|████████████████████████████████████████████████████████| 33/33 [00:00<00:00, 58.82it/s, loss=1.2]\n",
      "\n",
      "Epoch [101/300]:   0%|                                                                 | 0/5 [00:00<?, ?it/s, loss=1.59]\u001b[A\n",
      "Epoch [101/300]:  20%|███████████▍                                             | 1/5 [00:00<00:02,  1.74it/s, loss=1.59]\u001b[A\n",
      "Epoch [101/300]:  20%|███████████▏                                            | 1/5 [00:00<00:02,  1.74it/s, loss=0.891]\u001b[A\n",
      "Epoch [101/300]:  20%|███████████▏                                            | 1/5 [00:00<00:02,  1.74it/s, loss=0.772]\u001b[A\n",
      "Epoch [101/300]:  20%|███████████▍                                             | 1/5 [00:00<00:02,  1.74it/s, loss=1.17]\u001b[A\n",
      "Epoch [101/300]: 100%|████████████████████████████████████████████████████████| 5/5 [00:00<00:00,  7.84it/s, loss=0.133]\u001b[A"
     ]
    },
    {
     "name": "stdout",
     "output_type": "stream",
     "text": [
      "27\n",
      "28\n",
      "29\n",
      "30\n",
      "31\n",
      "32\n",
      "0\n",
      "1\n",
      "2\n",
      "3\n",
      "4\n"
     ]
    },
    {
     "name": "stderr",
     "output_type": "stream",
     "text": [
      "\n"
     ]
    },
    {
     "name": "stdout",
     "output_type": "stream",
     "text": [
      "model improved and saved\n",
      "\n",
      "Epoch 101: train loss: 0.8424459713878054 \n",
      "Epoch 101: valid loss: 0.9115441143512726 \n"
     ]
    },
    {
     "name": "stderr",
     "output_type": "stream",
     "text": [
      "  0%|                                                                                            | 0/33 [00:00<?, ?it/s]\n",
      "Epoch [102/300]:   0%|                                                                           | 0/33 [00:00<?, ?it/s]\u001b[A\n",
      "Epoch [102/300]:   0%|                                                               | 0/33 [00:00<?, ?it/s, loss=0.966]\u001b[A"
     ]
    },
    {
     "name": "stdout",
     "output_type": "stream",
     "text": [
      "0\n"
     ]
    },
    {
     "name": "stderr",
     "output_type": "stream",
     "text": [
      "Epoch [102/300]:  18%|██████████                                             | 6/33 [00:00<00:00, 50.78it/s, loss=0.801]"
     ]
    },
    {
     "name": "stdout",
     "output_type": "stream",
     "text": [
      "1\n",
      "2\n",
      "3\n",
      "4\n",
      "5\n",
      "6\n",
      "7\n",
      "8\n",
      "9\n"
     ]
    },
    {
     "name": "stderr",
     "output_type": "stream",
     "text": [
      "Epoch [102/300]:  18%|██████████▏                                             | 6/33 [00:00<00:00, 50.78it/s, loss=1.22]"
     ]
    },
    {
     "name": "stdout",
     "output_type": "stream",
     "text": [
      "10\n",
      "11\n"
     ]
    },
    {
     "name": "stderr",
     "output_type": "stream",
     "text": [
      "Epoch [102/300]:  39%|█████████████████████▎                                | 13/33 [00:00<00:00, 55.61it/s, loss=0.713]"
     ]
    },
    {
     "name": "stdout",
     "output_type": "stream",
     "text": [
      "12\n"
     ]
    },
    {
     "name": "stderr",
     "output_type": "stream",
     "text": [
      "Epoch [102/300]:  58%|███████████████████████████████                       | 19/33 [00:00<00:00, 56.63it/s, loss=0.598]"
     ]
    },
    {
     "name": "stdout",
     "output_type": "stream",
     "text": [
      "13\n",
      "14\n",
      "15\n",
      "16\n",
      "17\n",
      "18\n",
      "19\n",
      "20\n",
      "21\n",
      "22\n"
     ]
    },
    {
     "name": "stderr",
     "output_type": "stream",
     "text": [
      "Epoch [102/300]:  58%|███████████████████████████████                       | 19/33 [00:00<00:00, 56.63it/s, loss=0.908]"
     ]
    },
    {
     "name": "stdout",
     "output_type": "stream",
     "text": [
      "23\n",
      "24\n"
     ]
    },
    {
     "name": "stderr",
     "output_type": "stream",
     "text": [
      "Epoch [102/300]:  79%|███████████████████████████████████████████▎           | 26/33 [00:00<00:00, 60.91it/s, loss=0.72]"
     ]
    },
    {
     "name": "stdout",
     "output_type": "stream",
     "text": [
      "25\n"
     ]
    },
    {
     "name": "stderr",
     "output_type": "stream",
     "text": [
      "Epoch [102/300]: 100%|██████████████████████████████████████████████████████| 33/33 [00:00<00:00, 61.30it/s, loss=0.261]\n",
      "\n",
      "Epoch [102/300]:   0%|                                                                 | 0/5 [00:00<?, ?it/s, loss=1.59]\u001b[A\n",
      "Epoch [102/300]:  20%|███████████▍                                             | 1/5 [00:00<00:02,  1.81it/s, loss=1.59]\u001b[A\n",
      "Epoch [102/300]:  20%|███████████▏                                            | 1/5 [00:00<00:02,  1.81it/s, loss=0.891]\u001b[A\n",
      "Epoch [102/300]:  20%|███████████▏                                            | 1/5 [00:00<00:02,  1.81it/s, loss=0.773]\u001b[A\n",
      "Epoch [102/300]:  20%|███████████▍                                             | 1/5 [00:00<00:02,  1.81it/s, loss=1.17]\u001b[A\n",
      "Epoch [102/300]: 100%|████████████████████████████████████████████████████████| 5/5 [00:00<00:00,  8.25it/s, loss=0.133]\u001b[A"
     ]
    },
    {
     "name": "stdout",
     "output_type": "stream",
     "text": [
      "26\n",
      "27\n",
      "28\n",
      "29\n",
      "30\n",
      "31\n",
      "32\n",
      "0\n",
      "1\n",
      "2\n",
      "3\n",
      "4\n",
      "model improved and saved\n",
      "\n",
      "Epoch 102: train loss: 0.815671952384891 \n",
      "Epoch 102: valid loss: 0.9117033451795578 \n"
     ]
    },
    {
     "name": "stderr",
     "output_type": "stream",
     "text": [
      "\n",
      "  0%|                                                                                            | 0/33 [00:00<?, ?it/s]\n",
      "Epoch [103/300]:   0%|                                                                           | 0/33 [00:00<?, ?it/s]\u001b[A\n",
      "Epoch [103/300]:   0%|                                                                | 0/33 [00:00<?, ?it/s, loss=1.38]\u001b[A"
     ]
    },
    {
     "name": "stdout",
     "output_type": "stream",
     "text": [
      "0\n",
      "1\n"
     ]
    },
    {
     "name": "stderr",
     "output_type": "stream",
     "text": [
      "Epoch [103/300]:  18%|██████████                                             | 6/33 [00:00<00:00, 51.63it/s, loss=0.707]"
     ]
    },
    {
     "name": "stdout",
     "output_type": "stream",
     "text": [
      "2\n",
      "3\n",
      "4\n",
      "5\n",
      "6\n",
      "7\n",
      "8\n",
      "9\n",
      "10\n",
      "11\n"
     ]
    },
    {
     "name": "stderr",
     "output_type": "stream",
     "text": [
      "Epoch [103/300]:  39%|█████████████████████▎                                | 13/33 [00:00<00:00, 56.76it/s, loss=0.759]"
     ]
    },
    {
     "name": "stdout",
     "output_type": "stream",
     "text": [
      "12\n",
      "13\n"
     ]
    },
    {
     "name": "stderr",
     "output_type": "stream",
     "text": [
      "Epoch [103/300]:  58%|███████████████████████████████                       | 19/33 [00:00<00:00, 43.86it/s, loss=0.919]"
     ]
    },
    {
     "name": "stdout",
     "output_type": "stream",
     "text": [
      "14\n",
      "15\n",
      "16\n",
      "17\n",
      "18\n",
      "19\n"
     ]
    },
    {
     "name": "stderr",
     "output_type": "stream",
     "text": [
      "Epoch [103/300]:  58%|███████████████████████████████                       | 19/33 [00:00<00:00, 43.86it/s, loss=0.771]"
     ]
    },
    {
     "name": "stdout",
     "output_type": "stream",
     "text": [
      "20\n",
      "21\n"
     ]
    },
    {
     "name": "stderr",
     "output_type": "stream",
     "text": [
      "Epoch [103/300]: 100%|███████████████████████████████████████████████████████| 33/33 [00:00<00:00, 52.59it/s, loss=0.17]\n",
      "\n",
      "Epoch [103/300]:   0%|                                                                 | 0/5 [00:00<?, ?it/s, loss=1.59]\u001b[A\n",
      "Epoch [103/300]:  20%|███████████▍                                             | 1/5 [00:00<00:02,  1.57it/s, loss=1.59]"
     ]
    },
    {
     "name": "stdout",
     "output_type": "stream",
     "text": [
      "22\n",
      "23\n",
      "24\n",
      "25\n",
      "26\n",
      "27\n",
      "28\n",
      "29\n",
      "30\n",
      "31\n",
      "32\n",
      "0\n"
     ]
    },
    {
     "name": "stderr",
     "output_type": "stream",
     "text": [
      "\u001b[A\n",
      "Epoch [103/300]:  20%|███████████▏                                            | 1/5 [00:00<00:02,  1.57it/s, loss=0.891]\u001b[A\n",
      "Epoch [103/300]:  20%|███████████▏                                            | 1/5 [00:00<00:02,  1.57it/s, loss=0.773]\u001b[A"
     ]
    },
    {
     "name": "stdout",
     "output_type": "stream",
     "text": [
      "1\n",
      "2\n"
     ]
    },
    {
     "name": "stderr",
     "output_type": "stream",
     "text": [
      "\n",
      "Epoch [103/300]:  20%|███████████▍                                             | 1/5 [00:00<00:02,  1.57it/s, loss=1.17]\u001b[A\n",
      "Epoch [103/300]: 100%|████████████████████████████████████████████████████████| 5/5 [00:00<00:00,  7.18it/s, loss=0.133]\u001b[A\n"
     ]
    },
    {
     "name": "stdout",
     "output_type": "stream",
     "text": [
      "3\n",
      "4\n",
      "model improved and saved\n",
      "\n",
      "Epoch 103: train loss: 0.8143505092823144 \n",
      "Epoch 103: valid loss: 0.911793690919876 \n"
     ]
    },
    {
     "name": "stderr",
     "output_type": "stream",
     "text": [
      "  0%|                                                                                            | 0/33 [00:00<?, ?it/s]\n",
      "Epoch [104/300]:   0%|                                                                           | 0/33 [00:00<?, ?it/s]\u001b[A\n",
      "Epoch [104/300]:  18%|██████████▏                                             | 6/33 [00:00<00:00, 54.83it/s, loss=1.07]\u001b[A"
     ]
    },
    {
     "name": "stdout",
     "output_type": "stream",
     "text": [
      "0\n",
      "1\n",
      "2\n",
      "3\n",
      "4\n",
      "5\n",
      "6\n",
      "7\n",
      "8\n"
     ]
    },
    {
     "name": "stderr",
     "output_type": "stream",
     "text": [
      "Epoch [104/300]:  18%|██████████                                             | 6/33 [00:00<00:00, 54.83it/s, loss=0.698]"
     ]
    },
    {
     "name": "stdout",
     "output_type": "stream",
     "text": [
      "9\n",
      "10\n"
     ]
    },
    {
     "name": "stderr",
     "output_type": "stream",
     "text": [
      "Epoch [104/300]:  39%|█████████████████████▎                                | 13/33 [00:00<00:00, 62.03it/s, loss=0.805]"
     ]
    },
    {
     "name": "stdout",
     "output_type": "stream",
     "text": [
      "11\n",
      "12\n"
     ]
    },
    {
     "name": "stderr",
     "output_type": "stream",
     "text": [
      "Epoch [104/300]:  61%|████████████████████████████████▋                     | 20/33 [00:00<00:00, 62.08it/s, loss=0.625]"
     ]
    },
    {
     "name": "stdout",
     "output_type": "stream",
     "text": [
      "13\n",
      "14\n",
      "15\n",
      "16\n",
      "17\n",
      "18\n",
      "19\n",
      "20\n",
      "21\n"
     ]
    },
    {
     "name": "stderr",
     "output_type": "stream",
     "text": [
      "Epoch [104/300]:  61%|████████████████████████████████▋                     | 20/33 [00:00<00:00, 62.08it/s, loss=0.966]"
     ]
    },
    {
     "name": "stdout",
     "output_type": "stream",
     "text": [
      "22\n",
      "23\n"
     ]
    },
    {
     "name": "stderr",
     "output_type": "stream",
     "text": [
      "Epoch [104/300]:  82%|████████████████████████████████████████████▏         | 27/33 [00:00<00:00, 62.76it/s, loss=0.705]"
     ]
    },
    {
     "name": "stdout",
     "output_type": "stream",
     "text": [
      "24\n",
      "25\n",
      "26\n"
     ]
    },
    {
     "name": "stderr",
     "output_type": "stream",
     "text": [
      "Epoch [104/300]: 100%|███████████████████████████████████████████████████████| 33/33 [00:00<00:00, 63.13it/s, loss=0.98]\n",
      "\n",
      "Epoch [104/300]:   0%|                                                                 | 0/5 [00:00<?, ?it/s, loss=1.59]\u001b[A\n",
      "Epoch [104/300]:  20%|███████████▍                                             | 1/5 [00:00<00:02,  1.87it/s, loss=1.59]\u001b[A\n",
      "Epoch [104/300]:  20%|███████████▏                                            | 1/5 [00:00<00:02,  1.87it/s, loss=0.892]\u001b[A\n",
      "Epoch [104/300]:  20%|███████████▏                                            | 1/5 [00:00<00:02,  1.87it/s, loss=0.773]\u001b[A"
     ]
    },
    {
     "name": "stdout",
     "output_type": "stream",
     "text": [
      "27\n",
      "28\n",
      "29\n",
      "30\n",
      "31\n",
      "32\n",
      "0\n",
      "1\n",
      "2\n"
     ]
    },
    {
     "name": "stderr",
     "output_type": "stream",
     "text": [
      "\n",
      "Epoch [104/300]:  20%|███████████▍                                             | 1/5 [00:00<00:02,  1.87it/s, loss=1.17]\u001b[A\n",
      "Epoch [104/300]: 100%|████████████████████████████████████████████████████████| 5/5 [00:00<00:00,  8.46it/s, loss=0.133]\u001b[A\n"
     ]
    },
    {
     "name": "stdout",
     "output_type": "stream",
     "text": [
      "3\n",
      "4\n",
      "model improved and saved\n",
      "\n",
      "Epoch 104: train loss: 0.8333601102684484 \n",
      "Epoch 104: valid loss: 0.9122402846813202 \n"
     ]
    },
    {
     "name": "stderr",
     "output_type": "stream",
     "text": [
      "  0%|                                                                                            | 0/33 [00:00<?, ?it/s]\n",
      "Epoch [105/300]:   0%|                                                                           | 0/33 [00:00<?, ?it/s]\u001b[A\n",
      "Epoch [105/300]:   0%|                                                               | 0/33 [00:00<?, ?it/s, loss=0.944]\u001b[A"
     ]
    },
    {
     "name": "stdout",
     "output_type": "stream",
     "text": [
      "0\n"
     ]
    },
    {
     "name": "stderr",
     "output_type": "stream",
     "text": [
      "Epoch [105/300]:  15%|████████▎                                              | 5/33 [00:00<00:00, 45.09it/s, loss=0.761]"
     ]
    },
    {
     "name": "stdout",
     "output_type": "stream",
     "text": [
      "1\n",
      "2\n",
      "3\n",
      "4\n",
      "5\n",
      "6\n",
      "7\n",
      "8\n"
     ]
    },
    {
     "name": "stderr",
     "output_type": "stream",
     "text": [
      "Epoch [105/300]:  36%|████████████████████                                   | 12/33 [00:00<00:00, 56.08it/s, loss=1.03]"
     ]
    },
    {
     "name": "stdout",
     "output_type": "stream",
     "text": [
      "9\n",
      "10\n",
      "11\n",
      "12\n"
     ]
    },
    {
     "name": "stderr",
     "output_type": "stream",
     "text": [
      "\r",
      "Epoch [105/300]:  36%|███████████████████▋                                  | 12/33 [00:00<00:00, 56.08it/s, loss=0.839]"
     ]
    },
    {
     "name": "stdout",
     "output_type": "stream",
     "text": [
      "13\n"
     ]
    },
    {
     "name": "stderr",
     "output_type": "stream",
     "text": [
      "Epoch [105/300]:  58%|███████████████████████████████▋                       | 19/33 [00:00<00:00, 59.86it/s, loss=1.14]"
     ]
    },
    {
     "name": "stdout",
     "output_type": "stream",
     "text": [
      "14\n",
      "15\n",
      "16\n",
      "17\n",
      "18\n",
      "19\n",
      "20\n",
      "21\n",
      "22\n"
     ]
    },
    {
     "name": "stderr",
     "output_type": "stream",
     "text": [
      "Epoch [105/300]:  79%|██████████████████████████████████████████▌           | 26/33 [00:00<00:00, 60.84it/s, loss=0.754]"
     ]
    },
    {
     "name": "stdout",
     "output_type": "stream",
     "text": [
      "23\n",
      "24\n",
      "25\n"
     ]
    },
    {
     "name": "stderr",
     "output_type": "stream",
     "text": [
      "\r",
      "Epoch [105/300]:  79%|███████████████████████████████████████████▎           | 26/33 [00:00<00:00, 60.84it/s, loss=1.08]"
     ]
    },
    {
     "name": "stdout",
     "output_type": "stream",
     "text": [
      "26\n"
     ]
    },
    {
     "name": "stderr",
     "output_type": "stream",
     "text": [
      "Epoch [105/300]: 100%|███████████████████████████████████████████████████████| 33/33 [00:00<00:00, 61.03it/s, loss=0.89]\n",
      "\n",
      "Epoch [105/300]:   0%|                                                                 | 0/5 [00:00<?, ?it/s, loss=1.59]\u001b[A\n",
      "Epoch [105/300]:  20%|███████████▍                                             | 1/5 [00:00<00:02,  1.81it/s, loss=1.59]\u001b[A\n",
      "Epoch [105/300]:  20%|███████████▏                                            | 1/5 [00:00<00:02,  1.81it/s, loss=0.891]\u001b[A\n",
      "Epoch [105/300]:  20%|███████████▏                                            | 1/5 [00:00<00:02,  1.81it/s, loss=0.773]\u001b[A"
     ]
    },
    {
     "name": "stdout",
     "output_type": "stream",
     "text": [
      "27\n",
      "28\n",
      "29\n",
      "30\n",
      "31\n",
      "32\n",
      "0\n",
      "1\n",
      "2\n",
      "3\n"
     ]
    },
    {
     "name": "stderr",
     "output_type": "stream",
     "text": [
      "\n",
      "Epoch [105/300]:  20%|███████████▍                                             | 1/5 [00:00<00:02,  1.81it/s, loss=1.17]\u001b[A\n",
      "Epoch [105/300]: 100%|████████████████████████████████████████████████████████| 5/5 [00:00<00:00,  8.16it/s, loss=0.133]\u001b[A\n"
     ]
    },
    {
     "name": "stdout",
     "output_type": "stream",
     "text": [
      "4\n",
      "model improved and saved\n",
      "\n",
      "Epoch 105: train loss: 0.8390385580785347 \n",
      "Epoch 105: valid loss: 0.9117803126573563 \n"
     ]
    },
    {
     "name": "stderr",
     "output_type": "stream",
     "text": [
      "  0%|                                                                                            | 0/33 [00:00<?, ?it/s]\n",
      "Epoch [106/300]:   0%|                                                                           | 0/33 [00:00<?, ?it/s]\u001b[A\n",
      "Epoch [106/300]:   0%|                                                               | 0/33 [00:00<?, ?it/s, loss=0.991]\u001b[A"
     ]
    },
    {
     "name": "stdout",
     "output_type": "stream",
     "text": [
      "0\n"
     ]
    },
    {
     "name": "stderr",
     "output_type": "stream",
     "text": [
      "\r",
      "Epoch [106/300]:   0%|                                                                | 0/33 [00:00<?, ?it/s, loss=1.01]"
     ]
    },
    {
     "name": "stdout",
     "output_type": "stream",
     "text": [
      "1\n"
     ]
    },
    {
     "name": "stderr",
     "output_type": "stream",
     "text": [
      "Epoch [106/300]:  18%|██████████                                             | 6/33 [00:00<00:00, 56.86it/s, loss=0.841]"
     ]
    },
    {
     "name": "stdout",
     "output_type": "stream",
     "text": [
      "2\n",
      "3\n",
      "4\n",
      "5\n",
      "6\n",
      "7\n",
      "8\n",
      "9\n",
      "10\n"
     ]
    },
    {
     "name": "stderr",
     "output_type": "stream",
     "text": [
      "Epoch [106/300]:  39%|█████████████████████▎                                | 13/33 [00:00<00:00, 61.70it/s, loss=0.754]"
     ]
    },
    {
     "name": "stdout",
     "output_type": "stream",
     "text": [
      "11\n",
      "12\n",
      "13\n"
     ]
    },
    {
     "name": "stderr",
     "output_type": "stream",
     "text": [
      "Epoch [106/300]:  39%|█████████████████████▎                                | 13/33 [00:00<00:00, 61.70it/s, loss=0.828]"
     ]
    },
    {
     "name": "stdout",
     "output_type": "stream",
     "text": [
      "14\n",
      "15\n"
     ]
    },
    {
     "name": "stderr",
     "output_type": "stream",
     "text": [
      "Epoch [106/300]:  61%|████████████████████████████████▋                     | 20/33 [00:00<00:00, 63.87it/s, loss=0.788]"
     ]
    },
    {
     "name": "stdout",
     "output_type": "stream",
     "text": [
      "16\n",
      "17\n",
      "18\n",
      "19\n",
      "20\n",
      "21\n",
      "22\n",
      "23\n",
      "24\n"
     ]
    },
    {
     "name": "stderr",
     "output_type": "stream",
     "text": [
      "Epoch [106/300]:  82%|████████████████████████████████████████████▏         | 27/33 [00:00<00:00, 63.35it/s, loss=0.829]"
     ]
    },
    {
     "name": "stdout",
     "output_type": "stream",
     "text": [
      "25\n",
      "26\n",
      "27\n"
     ]
    },
    {
     "name": "stderr",
     "output_type": "stream",
     "text": [
      "Epoch [106/300]:  82%|████████████████████████████████████████████▏         | 27/33 [00:00<00:00, 63.35it/s, loss=0.645]"
     ]
    },
    {
     "name": "stdout",
     "output_type": "stream",
     "text": [
      "28\n",
      "29\n"
     ]
    },
    {
     "name": "stderr",
     "output_type": "stream",
     "text": [
      "Epoch [106/300]: 100%|██████████████████████████████████████████████████████| 33/33 [00:00<00:00, 63.71it/s, loss=0.769]\n",
      "\n",
      "Epoch [106/300]:   0%|                                                                 | 0/5 [00:00<?, ?it/s, loss=1.59]\u001b[A\n",
      "Epoch [106/300]:  20%|███████████▍                                             | 1/5 [00:00<00:02,  1.87it/s, loss=1.59]\u001b[A\n",
      "Epoch [106/300]:  20%|███████████▏                                            | 1/5 [00:00<00:02,  1.87it/s, loss=0.892]\u001b[A\n",
      "Epoch [106/300]:  20%|███████████▏                                            | 1/5 [00:00<00:02,  1.87it/s, loss=0.773]\u001b[A\n",
      "Epoch [106/300]:  20%|███████████▍                                             | 1/5 [00:00<00:02,  1.87it/s, loss=1.17]\u001b[A\n",
      "Epoch [106/300]: 100%|████████████████████████████████████████████████████████| 5/5 [00:00<00:00,  8.44it/s, loss=0.133]\u001b[A\n"
     ]
    },
    {
     "name": "stdout",
     "output_type": "stream",
     "text": [
      "30\n",
      "31\n",
      "32\n",
      "0\n",
      "1\n",
      "2\n",
      "3\n",
      "4\n",
      "model improved and saved\n",
      "\n",
      "Epoch 106: train loss: 0.8285074712652148 \n",
      "Epoch 106: valid loss: 0.9119869947433472 \n"
     ]
    },
    {
     "name": "stderr",
     "output_type": "stream",
     "text": [
      "  0%|                                                                                            | 0/33 [00:00<?, ?it/s]\n",
      "Epoch [107/300]:   0%|                                                                           | 0/33 [00:00<?, ?it/s]\u001b[A\n",
      "Epoch [107/300]:   0%|                                                               | 0/33 [00:00<?, ?it/s, loss=0.668]\u001b[A"
     ]
    },
    {
     "name": "stdout",
     "output_type": "stream",
     "text": [
      "0\n",
      "1\n",
      "2\n"
     ]
    },
    {
     "name": "stderr",
     "output_type": "stream",
     "text": [
      "Epoch [107/300]:   0%|                                                               | 0/33 [00:00<?, ?it/s, loss=0.854]"
     ]
    },
    {
     "name": "stdout",
     "output_type": "stream",
     "text": [
      "3\n",
      "4\n"
     ]
    },
    {
     "name": "stderr",
     "output_type": "stream",
     "text": [
      "Epoch [107/300]:  36%|████████████████████                                   | 12/33 [00:00<00:00, 55.74it/s, loss=1.07]"
     ]
    },
    {
     "name": "stdout",
     "output_type": "stream",
     "text": [
      "5\n",
      "6\n",
      "7\n",
      "8\n",
      "9\n",
      "10\n",
      "11\n"
     ]
    },
    {
     "name": "stderr",
     "output_type": "stream",
     "text": [
      "Epoch [107/300]:  36%|███████████████████▋                                  | 12/33 [00:00<00:00, 55.74it/s, loss=0.689]"
     ]
    },
    {
     "name": "stdout",
     "output_type": "stream",
     "text": [
      "12\n",
      "13\n",
      "14\n",
      "15\n"
     ]
    },
    {
     "name": "stderr",
     "output_type": "stream",
     "text": [
      "\r",
      "Epoch [107/300]:  36%|███████████████████▋                                  | 12/33 [00:00<00:00, 55.74it/s, loss=0.714]"
     ]
    },
    {
     "name": "stdout",
     "output_type": "stream",
     "text": [
      "16\n"
     ]
    },
    {
     "name": "stderr",
     "output_type": "stream",
     "text": [
      "Epoch [107/300]:  58%|███████████████████████████████                       | 19/33 [00:00<00:00, 58.94it/s, loss=0.827]"
     ]
    },
    {
     "name": "stdout",
     "output_type": "stream",
     "text": [
      "17\n",
      "18\n",
      "19\n",
      "20\n",
      "21\n",
      "22\n",
      "23\n"
     ]
    },
    {
     "name": "stderr",
     "output_type": "stream",
     "text": [
      "Epoch [107/300]:  76%|████████████████████████████████████████▉             | 25/33 [00:00<00:00, 57.04it/s, loss=0.619]"
     ]
    },
    {
     "name": "stdout",
     "output_type": "stream",
     "text": [
      "24\n",
      "25\n",
      "26\n"
     ]
    },
    {
     "name": "stderr",
     "output_type": "stream",
     "text": [
      "\r",
      "Epoch [107/300]:  76%|████████████████████████████████████████▉             | 25/33 [00:00<00:00, 57.04it/s, loss=0.693]"
     ]
    },
    {
     "name": "stdout",
     "output_type": "stream",
     "text": [
      "27\n"
     ]
    },
    {
     "name": "stderr",
     "output_type": "stream",
     "text": [
      "Epoch [107/300]: 100%|███████████████████████████████████████████████████████| 33/33 [00:00<00:00, 57.34it/s, loss=0.92]\n",
      "\n",
      "Epoch [107/300]:   0%|                                                                 | 0/5 [00:00<?, ?it/s, loss=1.59]\u001b[A\n",
      "Epoch [107/300]:  20%|███████████▍                                             | 1/5 [00:00<00:02,  1.69it/s, loss=1.59]\u001b[A\n",
      "Epoch [107/300]:  20%|███████████▏                                            | 1/5 [00:00<00:02,  1.69it/s, loss=0.892]\u001b[A\n",
      "Epoch [107/300]:  20%|███████████▏                                            | 1/5 [00:00<00:02,  1.69it/s, loss=0.773]\u001b[A"
     ]
    },
    {
     "name": "stdout",
     "output_type": "stream",
     "text": [
      "28\n",
      "29\n",
      "30\n",
      "31\n",
      "32\n",
      "0\n",
      "1\n",
      "2\n"
     ]
    },
    {
     "name": "stderr",
     "output_type": "stream",
     "text": [
      "\n",
      "Epoch [107/300]:  20%|███████████▍                                             | 1/5 [00:00<00:02,  1.69it/s, loss=1.17]\u001b[A\n",
      "Epoch [107/300]: 100%|████████████████████████████████████████████████████████| 5/5 [00:00<00:00,  7.62it/s, loss=0.133]\u001b[A\n"
     ]
    },
    {
     "name": "stdout",
     "output_type": "stream",
     "text": [
      "3\n",
      "4\n",
      "model improved and saved\n",
      "\n",
      "Epoch 107: train loss: 0.8311036915490122 \n",
      "Epoch 107: valid loss: 0.9121674656867981 \n"
     ]
    },
    {
     "name": "stderr",
     "output_type": "stream",
     "text": [
      "  0%|                                                                                            | 0/33 [00:00<?, ?it/s]\n",
      "Epoch [108/300]:   0%|                                                                           | 0/33 [00:00<?, ?it/s]\u001b[A\n",
      "Epoch [108/300]:   0%|                                                               | 0/33 [00:00<?, ?it/s, loss=0.717]\u001b[A"
     ]
    },
    {
     "name": "stdout",
     "output_type": "stream",
     "text": [
      "0\n"
     ]
    },
    {
     "name": "stderr",
     "output_type": "stream",
     "text": [
      "\r",
      "Epoch [108/300]:   0%|                                                               | 0/33 [00:00<?, ?it/s, loss=0.842]"
     ]
    },
    {
     "name": "stdout",
     "output_type": "stream",
     "text": [
      "1\n"
     ]
    },
    {
     "name": "stderr",
     "output_type": "stream",
     "text": [
      "Epoch [108/300]:  18%|██████████                                             | 6/33 [00:00<00:00, 51.57it/s, loss=0.889]"
     ]
    },
    {
     "name": "stdout",
     "output_type": "stream",
     "text": [
      "2\n",
      "3\n",
      "4\n",
      "5\n",
      "6\n",
      "7\n"
     ]
    },
    {
     "name": "stderr",
     "output_type": "stream",
     "text": [
      "Epoch [108/300]:  18%|██████████                                             | 6/33 [00:00<00:00, 51.57it/s, loss=0.776]"
     ]
    },
    {
     "name": "stdout",
     "output_type": "stream",
     "text": [
      "8\n",
      "9\n"
     ]
    },
    {
     "name": "stderr",
     "output_type": "stream",
     "text": [
      "\r",
      "Epoch [108/300]:  18%|██████████                                             | 6/33 [00:00<00:00, 51.57it/s, loss=0.979]"
     ]
    },
    {
     "name": "stdout",
     "output_type": "stream",
     "text": [
      "10\n"
     ]
    },
    {
     "name": "stderr",
     "output_type": "stream",
     "text": [
      "\r",
      "Epoch [108/300]:  18%|██████████▋                                                | 6/33 [00:00<00:00, 51.57it/s, loss=1]"
     ]
    },
    {
     "name": "stdout",
     "output_type": "stream",
     "text": [
      "11\n"
     ]
    },
    {
     "name": "stderr",
     "output_type": "stream",
     "text": [
      "Epoch [108/300]:  55%|█████████████████████████████▍                        | 18/33 [00:00<00:00, 50.03it/s, loss=0.787]"
     ]
    },
    {
     "name": "stdout",
     "output_type": "stream",
     "text": [
      "12\n",
      "13\n",
      "14\n",
      "15\n",
      "16\n",
      "17\n",
      "18\n"
     ]
    },
    {
     "name": "stderr",
     "output_type": "stream",
     "text": [
      "Epoch [108/300]:  55%|█████████████████████████████▍                        | 18/33 [00:00<00:00, 50.03it/s, loss=0.836]"
     ]
    },
    {
     "name": "stdout",
     "output_type": "stream",
     "text": [
      "19\n",
      "20\n",
      "21\n"
     ]
    },
    {
     "name": "stderr",
     "output_type": "stream",
     "text": [
      "\r",
      "Epoch [108/300]:  55%|██████████████████████████████▌                         | 18/33 [00:00<00:00, 50.03it/s, loss=1.2]"
     ]
    },
    {
     "name": "stdout",
     "output_type": "stream",
     "text": [
      "22\n"
     ]
    },
    {
     "name": "stderr",
     "output_type": "stream",
     "text": [
      "\r",
      "Epoch [108/300]:  55%|█████████████████████████████▍                        | 18/33 [00:00<00:00, 50.03it/s, loss=0.643]"
     ]
    },
    {
     "name": "stdout",
     "output_type": "stream",
     "text": [
      "23\n"
     ]
    },
    {
     "name": "stderr",
     "output_type": "stream",
     "text": [
      "Epoch [108/300]:  97%|████████████████████████████████████████████████████▎ | 32/33 [00:00<00:00, 56.49it/s, loss=0.644]"
     ]
    },
    {
     "name": "stdout",
     "output_type": "stream",
     "text": [
      "24\n",
      "25\n",
      "26\n",
      "27\n",
      "28\n",
      "29\n",
      "30\n",
      "31\n"
     ]
    },
    {
     "name": "stderr",
     "output_type": "stream",
     "text": [
      "Epoch [108/300]: 100%|███████████████████████████████████████████████████████| 33/33 [00:00<00:00, 54.54it/s, loss=0.96]\n",
      "\n",
      "Epoch [108/300]:   0%|                                                                 | 0/5 [00:00<?, ?it/s, loss=1.59]\u001b[A\n",
      "Epoch [108/300]:  20%|███████████▍                                             | 1/5 [00:00<00:02,  1.63it/s, loss=1.59]\u001b[A\n",
      "Epoch [108/300]:  20%|███████████▏                                            | 1/5 [00:00<00:02,  1.63it/s, loss=0.892]\u001b[A"
     ]
    },
    {
     "name": "stdout",
     "output_type": "stream",
     "text": [
      "32\n",
      "0\n",
      "1\n"
     ]
    },
    {
     "name": "stderr",
     "output_type": "stream",
     "text": [
      "\n",
      "Epoch [108/300]:  20%|███████████▏                                            | 1/5 [00:00<00:02,  1.63it/s, loss=0.773]\u001b[A"
     ]
    },
    {
     "name": "stdout",
     "output_type": "stream",
     "text": [
      "2\n"
     ]
    },
    {
     "name": "stderr",
     "output_type": "stream",
     "text": [
      "\n",
      "Epoch [108/300]:  20%|███████████▍                                             | 1/5 [00:00<00:02,  1.63it/s, loss=1.17]\u001b[A\n",
      "Epoch [108/300]: 100%|████████████████████████████████████████████████████████| 5/5 [00:00<00:00,  7.38it/s, loss=0.133]\u001b[A"
     ]
    },
    {
     "name": "stdout",
     "output_type": "stream",
     "text": [
      "3\n",
      "4\n"
     ]
    },
    {
     "name": "stderr",
     "output_type": "stream",
     "text": [
      "\n"
     ]
    },
    {
     "name": "stdout",
     "output_type": "stream",
     "text": [
      "model improved and saved\n",
      "\n",
      "Epoch 108: train loss: 0.8313800873178424 \n",
      "Epoch 108: valid loss: 0.9122730374336243 \n"
     ]
    },
    {
     "name": "stderr",
     "output_type": "stream",
     "text": [
      "  0%|                                                                                            | 0/33 [00:00<?, ?it/s]\n",
      "Epoch [109/300]:   0%|                                                                           | 0/33 [00:00<?, ?it/s]\u001b[A\n",
      "Epoch [109/300]:  18%|██████████                                             | 6/33 [00:00<00:00, 54.72it/s, loss=0.682]\u001b[A"
     ]
    },
    {
     "name": "stdout",
     "output_type": "stream",
     "text": [
      "0\n",
      "1\n",
      "2\n",
      "3\n",
      "4\n",
      "5\n"
     ]
    },
    {
     "name": "stderr",
     "output_type": "stream",
     "text": [
      "Epoch [109/300]:  18%|██████████▏                                             | 6/33 [00:00<00:00, 54.72it/s, loss=0.99]"
     ]
    },
    {
     "name": "stdout",
     "output_type": "stream",
     "text": [
      "6\n",
      "7\n",
      "8\n"
     ]
    },
    {
     "name": "stderr",
     "output_type": "stream",
     "text": [
      "\r",
      "Epoch [109/300]:  18%|██████████                                             | 6/33 [00:00<00:00, 54.72it/s, loss=0.537]"
     ]
    },
    {
     "name": "stdout",
     "output_type": "stream",
     "text": [
      "9\n"
     ]
    },
    {
     "name": "stderr",
     "output_type": "stream",
     "text": [
      "\r",
      "Epoch [109/300]:  18%|██████████▏                                             | 6/33 [00:00<00:00, 54.72it/s, loss=0.64]"
     ]
    },
    {
     "name": "stdout",
     "output_type": "stream",
     "text": [
      "10\n"
     ]
    },
    {
     "name": "stderr",
     "output_type": "stream",
     "text": [
      "Epoch [109/300]:  36%|████████████████████                                   | 12/33 [00:00<00:00, 56.87it/s, loss=1.07]"
     ]
    },
    {
     "name": "stdout",
     "output_type": "stream",
     "text": [
      "11\n"
     ]
    },
    {
     "name": "stderr",
     "output_type": "stream",
     "text": [
      "Epoch [109/300]:  55%|█████████████████████████████▍                        | 18/33 [00:00<00:00, 57.25it/s, loss=0.878]"
     ]
    },
    {
     "name": "stdout",
     "output_type": "stream",
     "text": [
      "12\n",
      "13\n",
      "14\n",
      "15\n",
      "16\n",
      "17\n"
     ]
    },
    {
     "name": "stderr",
     "output_type": "stream",
     "text": [
      "Epoch [109/300]:  55%|█████████████████████████████▍                        | 18/33 [00:00<00:00, 57.25it/s, loss=0.573]"
     ]
    },
    {
     "name": "stdout",
     "output_type": "stream",
     "text": [
      "18\n",
      "19\n",
      "20\n"
     ]
    },
    {
     "name": "stderr",
     "output_type": "stream",
     "text": [
      "Epoch [109/300]:  55%|█████████████████████████████▍                        | 18/33 [00:00<00:00, 57.25it/s, loss=0.867]"
     ]
    },
    {
     "name": "stdout",
     "output_type": "stream",
     "text": [
      "21\n",
      "22\n"
     ]
    },
    {
     "name": "stderr",
     "output_type": "stream",
     "text": [
      "\r",
      "Epoch [109/300]:  55%|█████████████████████████████▍                        | 18/33 [00:00<00:00, 57.25it/s, loss=0.756]"
     ]
    },
    {
     "name": "stdout",
     "output_type": "stream",
     "text": [
      "23\n"
     ]
    },
    {
     "name": "stderr",
     "output_type": "stream",
     "text": [
      "Epoch [109/300]:  76%|████████████████████████████████████████▉             | 25/33 [00:00<00:00, 59.18it/s, loss=0.851]"
     ]
    },
    {
     "name": "stdout",
     "output_type": "stream",
     "text": [
      "24\n"
     ]
    },
    {
     "name": "stderr",
     "output_type": "stream",
     "text": [
      "Epoch [109/300]:  76%|████████████████████████████████████████▉             | 25/33 [00:00<00:00, 59.18it/s, loss=0.791]"
     ]
    },
    {
     "name": "stdout",
     "output_type": "stream",
     "text": [
      "25\n",
      "26\n",
      "27\n",
      "28\n",
      "29\n",
      "30\n"
     ]
    },
    {
     "name": "stderr",
     "output_type": "stream",
     "text": [
      "Epoch [109/300]: 100%|██████████████████████████████████████████████████████| 33/33 [00:00<00:00, 60.17it/s, loss=0.603]\n",
      "\n",
      "Epoch [109/300]:   0%|                                                                 | 0/5 [00:00<?, ?it/s, loss=1.59]\u001b[A\n",
      "Epoch [109/300]:  20%|███████████▍                                             | 1/5 [00:00<00:02,  1.78it/s, loss=1.59]\u001b[A"
     ]
    },
    {
     "name": "stdout",
     "output_type": "stream",
     "text": [
      "31\n",
      "32\n",
      "0\n"
     ]
    },
    {
     "name": "stderr",
     "output_type": "stream",
     "text": [
      "\n",
      "Epoch [109/300]:  20%|███████████▏                                            | 1/5 [00:00<00:02,  1.78it/s, loss=0.892]\u001b[A\n",
      "Epoch [109/300]:  20%|███████████▏                                            | 1/5 [00:00<00:02,  1.78it/s, loss=0.774]\u001b[A"
     ]
    },
    {
     "name": "stdout",
     "output_type": "stream",
     "text": [
      "1\n",
      "2\n"
     ]
    },
    {
     "name": "stderr",
     "output_type": "stream",
     "text": [
      "\n",
      "Epoch [109/300]:  20%|███████████▍                                             | 1/5 [00:00<00:02,  1.78it/s, loss=1.17]\u001b[A\n",
      "Epoch [109/300]: 100%|████████████████████████████████████████████████████████| 5/5 [00:00<00:00,  8.03it/s, loss=0.133]\u001b[A"
     ]
    },
    {
     "name": "stdout",
     "output_type": "stream",
     "text": [
      "3\n",
      "4\n"
     ]
    },
    {
     "name": "stderr",
     "output_type": "stream",
     "text": [
      "\n"
     ]
    },
    {
     "name": "stdout",
     "output_type": "stream",
     "text": [
      "model improved and saved\n",
      "\n",
      "Epoch 109: train loss: 0.8245577089714281 \n",
      "Epoch 109: valid loss: 0.9125416219234467 \n"
     ]
    },
    {
     "name": "stderr",
     "output_type": "stream",
     "text": [
      "  0%|                                                                                            | 0/33 [00:00<?, ?it/s]\n",
      "Epoch [110/300]:   0%|                                                                           | 0/33 [00:00<?, ?it/s]\u001b[A\n",
      "Epoch [110/300]:   0%|                                                               | 0/33 [00:00<?, ?it/s, loss=0.652]\u001b[A"
     ]
    },
    {
     "name": "stdout",
     "output_type": "stream",
     "text": [
      "0\n",
      "1\n",
      "2\n",
      "3\n",
      "4\n"
     ]
    },
    {
     "name": "stderr",
     "output_type": "stream",
     "text": [
      "Epoch [110/300]:  18%|██████████                                             | 6/33 [00:00<00:00, 54.52it/s, loss=0.811]"
     ]
    },
    {
     "name": "stdout",
     "output_type": "stream",
     "text": [
      "5\n",
      "6\n",
      "7\n"
     ]
    },
    {
     "name": "stderr",
     "output_type": "stream",
     "text": [
      "Epoch [110/300]:  18%|██████████                                             | 6/33 [00:00<00:00, 54.52it/s, loss=0.888]"
     ]
    },
    {
     "name": "stdout",
     "output_type": "stream",
     "text": [
      "8\n",
      "9\n"
     ]
    },
    {
     "name": "stderr",
     "output_type": "stream",
     "text": [
      "\r",
      "Epoch [110/300]:  18%|██████████                                             | 6/33 [00:00<00:00, 54.52it/s, loss=0.743]"
     ]
    },
    {
     "name": "stdout",
     "output_type": "stream",
     "text": [
      "10\n"
     ]
    },
    {
     "name": "stderr",
     "output_type": "stream",
     "text": [
      "Epoch [110/300]:  36%|███████████████████▋                                  | 12/33 [00:00<00:00, 55.75it/s, loss=0.802]"
     ]
    },
    {
     "name": "stdout",
     "output_type": "stream",
     "text": [
      "11\n"
     ]
    },
    {
     "name": "stderr",
     "output_type": "stream",
     "text": [
      "Epoch [110/300]:  36%|████████████████████                                   | 12/33 [00:00<00:00, 55.75it/s, loss=1.08]"
     ]
    },
    {
     "name": "stdout",
     "output_type": "stream",
     "text": [
      "12\n",
      "13\n",
      "14\n",
      "15\n",
      "16\n",
      "17\n"
     ]
    },
    {
     "name": "stderr",
     "output_type": "stream",
     "text": [
      "Epoch [110/300]:  58%|███████████████████████████████                       | 19/33 [00:00<00:00, 58.98it/s, loss=0.933]"
     ]
    },
    {
     "name": "stdout",
     "output_type": "stream",
     "text": [
      "18\n",
      "19\n",
      "20\n"
     ]
    },
    {
     "name": "stderr",
     "output_type": "stream",
     "text": [
      "Epoch [110/300]:  58%|███████████████████████████████▋                       | 19/33 [00:00<00:00, 58.98it/s, loss=1.05]"
     ]
    },
    {
     "name": "stdout",
     "output_type": "stream",
     "text": [
      "21\n",
      "22\n"
     ]
    },
    {
     "name": "stderr",
     "output_type": "stream",
     "text": [
      "\r",
      "Epoch [110/300]:  58%|███████████████████████████████                       | 19/33 [00:00<00:00, 58.98it/s, loss=0.627]"
     ]
    },
    {
     "name": "stdout",
     "output_type": "stream",
     "text": [
      "23\n"
     ]
    },
    {
     "name": "stderr",
     "output_type": "stream",
     "text": [
      "\r",
      "Epoch [110/300]:  58%|███████████████████████████████                       | 19/33 [00:00<00:00, 58.98it/s, loss=0.728]"
     ]
    },
    {
     "name": "stdout",
     "output_type": "stream",
     "text": [
      "24\n"
     ]
    },
    {
     "name": "stderr",
     "output_type": "stream",
     "text": [
      "Epoch [110/300]:  79%|██████████████████████████████████████████▌           | 26/33 [00:00<00:00, 61.62it/s, loss=0.751]"
     ]
    },
    {
     "name": "stdout",
     "output_type": "stream",
     "text": [
      "25\n",
      "26\n",
      "27\n",
      "28\n",
      "29\n",
      "30\n",
      "31\n"
     ]
    },
    {
     "name": "stderr",
     "output_type": "stream",
     "text": [
      "Epoch [110/300]: 100%|██████████████████████████████████████████████████████| 33/33 [00:00<00:00, 61.97it/s, loss=0.222]\n",
      "\n",
      "Epoch [110/300]:   0%|                                                                 | 0/5 [00:00<?, ?it/s, loss=1.59]\u001b[A\n",
      "Epoch [110/300]:  20%|███████████▍                                             | 1/5 [00:00<00:02,  1.83it/s, loss=1.59]\u001b[A\n",
      "Epoch [110/300]:  20%|███████████▏                                            | 1/5 [00:00<00:02,  1.83it/s, loss=0.892]\u001b[A"
     ]
    },
    {
     "name": "stdout",
     "output_type": "stream",
     "text": [
      "32\n",
      "0\n",
      "1\n"
     ]
    },
    {
     "name": "stderr",
     "output_type": "stream",
     "text": [
      "\n",
      "Epoch [110/300]:  20%|███████████▏                                            | 1/5 [00:00<00:02,  1.83it/s, loss=0.774]\u001b[A\n"
     ]
    },
    {
     "name": "stdout",
     "output_type": "stream",
     "text": [
      "2\n",
      "3\n"
     ]
    },
    {
     "name": "stderr",
     "output_type": "stream",
     "text": [
      "Epoch [110/300]:  20%|███████████▍                                             | 1/5 [00:00<00:02,  1.83it/s, loss=1.17]\u001b[A\n",
      "Epoch [110/300]: 100%|████████████████████████████████████████████████████████| 5/5 [00:00<00:00,  8.21it/s, loss=0.133]\u001b[A\n"
     ]
    },
    {
     "name": "stdout",
     "output_type": "stream",
     "text": [
      "4\n",
      "model improved and saved\n",
      "\n",
      "Epoch 110: train loss: 0.8116750911329732 \n",
      "Epoch 110: valid loss: 0.9126571178436279 \n"
     ]
    },
    {
     "name": "stderr",
     "output_type": "stream",
     "text": [
      "  0%|                                                                                            | 0/33 [00:00<?, ?it/s]\n",
      "Epoch [111/300]:   0%|                                                                           | 0/33 [00:00<?, ?it/s]\u001b[A\n",
      "Epoch [111/300]:   0%|                                                               | 0/33 [00:00<?, ?it/s, loss=0.801]\u001b[A"
     ]
    },
    {
     "name": "stdout",
     "output_type": "stream",
     "text": [
      "0\n",
      "1\n",
      "2\n",
      "3\n",
      "4\n",
      "5\n"
     ]
    },
    {
     "name": "stderr",
     "output_type": "stream",
     "text": [
      "Epoch [111/300]:  18%|██████████                                             | 6/33 [00:00<00:00, 53.49it/s, loss=0.801]"
     ]
    },
    {
     "name": "stdout",
     "output_type": "stream",
     "text": [
      "6\n",
      "7\n",
      "8\n",
      "9\n"
     ]
    },
    {
     "name": "stderr",
     "output_type": "stream",
     "text": [
      "Epoch [111/300]:  18%|██████████                                             | 6/33 [00:00<00:00, 53.49it/s, loss=0.929]"
     ]
    },
    {
     "name": "stdout",
     "output_type": "stream",
     "text": [
      "10\n"
     ]
    },
    {
     "name": "stderr",
     "output_type": "stream",
     "text": [
      "Epoch [111/300]:  39%|█████████████████████▎                                | 13/33 [00:00<00:00, 61.06it/s, loss=0.694]"
     ]
    },
    {
     "name": "stdout",
     "output_type": "stream",
     "text": [
      "11\n",
      "12\n",
      "13\n"
     ]
    },
    {
     "name": "stderr",
     "output_type": "stream",
     "text": [
      "Epoch [111/300]:  39%|█████████████████████▋                                 | 13/33 [00:00<00:00, 61.06it/s, loss=1.03]"
     ]
    },
    {
     "name": "stdout",
     "output_type": "stream",
     "text": [
      "14\n",
      "15\n",
      "16\n",
      "17\n",
      "18\n",
      "19\n"
     ]
    },
    {
     "name": "stderr",
     "output_type": "stream",
     "text": [
      "Epoch [111/300]:  64%|██████████████████████████████████▎                   | 21/33 [00:00<00:00, 65.20it/s, loss=0.638]"
     ]
    },
    {
     "name": "stdout",
     "output_type": "stream",
     "text": [
      "20\n",
      "21\n",
      "22\n",
      "23\n"
     ]
    },
    {
     "name": "stderr",
     "output_type": "stream",
     "text": [
      "\r",
      "Epoch [111/300]:  64%|██████████████████████████████████▎                   | 21/33 [00:00<00:00, 65.20it/s, loss=0.844]"
     ]
    },
    {
     "name": "stdout",
     "output_type": "stream",
     "text": [
      "24\n"
     ]
    },
    {
     "name": "stderr",
     "output_type": "stream",
     "text": [
      "Epoch [111/300]:  64%|██████████████████████████████████▎                   | 21/33 [00:00<00:00, 65.20it/s, loss=0.529]"
     ]
    },
    {
     "name": "stdout",
     "output_type": "stream",
     "text": [
      "25\n",
      "26\n"
     ]
    },
    {
     "name": "stderr",
     "output_type": "stream",
     "text": [
      "Epoch [111/300]: 100%|██████████████████████████████████████████████████████| 33/33 [00:00<00:00, 63.02it/s, loss=0.922]"
     ]
    },
    {
     "name": "stdout",
     "output_type": "stream",
     "text": [
      "27\n",
      "28\n",
      "29\n",
      "30\n",
      "31\n",
      "32\n"
     ]
    },
    {
     "name": "stderr",
     "output_type": "stream",
     "text": [
      "\n",
      "\n",
      "Epoch [111/300]:   0%|                                                                 | 0/5 [00:00<?, ?it/s, loss=1.59]\u001b[A\n",
      "Epoch [111/300]:  20%|███████████▍                                             | 1/5 [00:00<00:02,  1.85it/s, loss=1.59]\u001b[A\n",
      "Epoch [111/300]:  20%|███████████▏                                            | 1/5 [00:00<00:02,  1.85it/s, loss=0.892]\u001b[A\n",
      "Epoch [111/300]:  20%|███████████▏                                            | 1/5 [00:00<00:02,  1.85it/s, loss=0.774]\u001b[A\n",
      "Epoch [111/300]:  20%|███████████▍                                             | 1/5 [00:00<00:02,  1.85it/s, loss=1.17]\u001b[A"
     ]
    },
    {
     "name": "stdout",
     "output_type": "stream",
     "text": [
      "0\n",
      "1\n",
      "2\n",
      "3\n"
     ]
    },
    {
     "name": "stderr",
     "output_type": "stream",
     "text": [
      "\n",
      "Epoch [111/300]: 100%|████████████████████████████████████████████████████████| 5/5 [00:00<00:00,  8.36it/s, loss=0.133]\u001b[A\n"
     ]
    },
    {
     "name": "stdout",
     "output_type": "stream",
     "text": [
      "4\n",
      "model improved and saved\n",
      "\n",
      "Epoch 111: train loss: 0.8332334720727169 \n",
      "Epoch 111: valid loss: 0.9126591384410858 \n"
     ]
    },
    {
     "name": "stderr",
     "output_type": "stream",
     "text": [
      "  0%|                                                                                            | 0/33 [00:00<?, ?it/s]\n",
      "Epoch [112/300]:   0%|                                                                           | 0/33 [00:00<?, ?it/s]\u001b[A\n",
      "Epoch [112/300]:   0%|                                                                 | 0/33 [00:00<?, ?it/s, loss=1.2]\u001b[A"
     ]
    },
    {
     "name": "stdout",
     "output_type": "stream",
     "text": [
      "0\n"
     ]
    },
    {
     "name": "stderr",
     "output_type": "stream",
     "text": [
      "Epoch [112/300]:  18%|██████████                                             | 6/33 [00:00<00:00, 56.81it/s, loss=0.805]"
     ]
    },
    {
     "name": "stdout",
     "output_type": "stream",
     "text": [
      "1\n",
      "2\n",
      "3\n",
      "4\n",
      "5\n",
      "6\n"
     ]
    },
    {
     "name": "stderr",
     "output_type": "stream",
     "text": [
      "Epoch [112/300]:  18%|██████████                                             | 6/33 [00:00<00:00, 56.81it/s, loss=0.824]"
     ]
    },
    {
     "name": "stdout",
     "output_type": "stream",
     "text": [
      "7\n",
      "8\n",
      "9\n",
      "10\n"
     ]
    },
    {
     "name": "stderr",
     "output_type": "stream",
     "text": [
      "Epoch [112/300]:  39%|█████████████████████▎                                | 13/33 [00:00<00:00, 61.07it/s, loss=0.815]"
     ]
    },
    {
     "name": "stdout",
     "output_type": "stream",
     "text": [
      "11\n",
      "12\n"
     ]
    },
    {
     "name": "stderr",
     "output_type": "stream",
     "text": [
      "\r",
      "Epoch [112/300]:  39%|█████████████████████▎                                | 13/33 [00:00<00:00, 61.07it/s, loss=0.596]"
     ]
    },
    {
     "name": "stdout",
     "output_type": "stream",
     "text": [
      "13\n"
     ]
    },
    {
     "name": "stderr",
     "output_type": "stream",
     "text": [
      "Epoch [112/300]:  39%|█████████████████████▎                                | 13/33 [00:00<00:00, 61.07it/s, loss=0.954]"
     ]
    },
    {
     "name": "stdout",
     "output_type": "stream",
     "text": [
      "14\n",
      "15\n",
      "16\n",
      "17\n",
      "18\n"
     ]
    },
    {
     "name": "stderr",
     "output_type": "stream",
     "text": [
      "Epoch [112/300]:  61%|████████████████████████████████▋                     | 20/33 [00:00<00:00, 58.02it/s, loss=0.879]"
     ]
    },
    {
     "name": "stdout",
     "output_type": "stream",
     "text": [
      "19\n",
      "20\n",
      "21\n",
      "22\n"
     ]
    },
    {
     "name": "stderr",
     "output_type": "stream",
     "text": [
      "Epoch [112/300]:  61%|████████████████████████████████▋                     | 20/33 [00:00<00:00, 58.02it/s, loss=0.782]"
     ]
    },
    {
     "name": "stdout",
     "output_type": "stream",
     "text": [
      "23\n",
      "24\n"
     ]
    },
    {
     "name": "stderr",
     "output_type": "stream",
     "text": [
      "\r",
      "Epoch [112/300]:  61%|████████████████████████████████▋                     | 20/33 [00:00<00:00, 58.02it/s, loss=0.871]"
     ]
    },
    {
     "name": "stdout",
     "output_type": "stream",
     "text": [
      "25\n"
     ]
    },
    {
     "name": "stderr",
     "output_type": "stream",
     "text": [
      "Epoch [112/300]:  82%|████████████████████████████████████████████▏         | 27/33 [00:00<00:00, 58.88it/s, loss=0.718]"
     ]
    },
    {
     "name": "stdout",
     "output_type": "stream",
     "text": [
      "26\n",
      "27\n",
      "28\n",
      "29\n",
      "30\n",
      "31\n"
     ]
    },
    {
     "name": "stderr",
     "output_type": "stream",
     "text": [
      "Epoch [112/300]: 100%|██████████████████████████████████████████████████████| 33/33 [00:00<00:00, 60.07it/s, loss=0.591]\n",
      "\n",
      "Epoch [112/300]:   0%|                                                                 | 0/5 [00:00<?, ?it/s, loss=1.59]\u001b[A\n",
      "Epoch [112/300]:  20%|███████████▍                                             | 1/5 [00:00<00:02,  1.77it/s, loss=1.59]\u001b[A\n",
      "Epoch [112/300]:  20%|███████████▏                                            | 1/5 [00:00<00:02,  1.77it/s, loss=0.893]\u001b[A\n"
     ]
    },
    {
     "name": "stdout",
     "output_type": "stream",
     "text": [
      "32\n",
      "0\n",
      "1\n",
      "2\n"
     ]
    },
    {
     "name": "stderr",
     "output_type": "stream",
     "text": [
      "Epoch [112/300]:  20%|███████████▏                                            | 1/5 [00:00<00:02,  1.77it/s, loss=0.774]\u001b[A\n",
      "Epoch [112/300]:  20%|███████████▍                                             | 1/5 [00:00<00:02,  1.77it/s, loss=1.17]\u001b[A\n",
      "Epoch [112/300]: 100%|████████████████████████████████████████████████████████| 5/5 [00:00<00:00,  8.04it/s, loss=0.133]\u001b[A\n"
     ]
    },
    {
     "name": "stdout",
     "output_type": "stream",
     "text": [
      "3\n",
      "4\n",
      "model improved and saved\n",
      "\n",
      "Epoch 112: train loss: 0.8243507282300429 \n",
      "Epoch 112: valid loss: 0.9128379136323929 \n"
     ]
    },
    {
     "name": "stderr",
     "output_type": "stream",
     "text": [
      "  0%|                                                                                            | 0/33 [00:00<?, ?it/s]\n",
      "Epoch [113/300]:   0%|                                                                           | 0/33 [00:00<?, ?it/s]\u001b[A\n",
      "Epoch [113/300]:  18%|██████████                                             | 6/33 [00:00<00:00, 54.83it/s, loss=0.709]\u001b[A"
     ]
    },
    {
     "name": "stdout",
     "output_type": "stream",
     "text": [
      "0\n",
      "1\n",
      "2\n",
      "3\n",
      "4\n",
      "5\n"
     ]
    },
    {
     "name": "stderr",
     "output_type": "stream",
     "text": [
      "Epoch [113/300]:  18%|██████████                                             | 6/33 [00:00<00:00, 54.83it/s, loss=0.675]"
     ]
    },
    {
     "name": "stdout",
     "output_type": "stream",
     "text": [
      "6\n",
      "7\n",
      "8\n"
     ]
    },
    {
     "name": "stderr",
     "output_type": "stream",
     "text": [
      "Epoch [113/300]:  18%|██████████                                             | 6/33 [00:00<00:00, 54.83it/s, loss=0.859]"
     ]
    },
    {
     "name": "stdout",
     "output_type": "stream",
     "text": [
      "9\n",
      "10\n"
     ]
    },
    {
     "name": "stderr",
     "output_type": "stream",
     "text": [
      "Epoch [113/300]:  36%|███████████████████▋                                  | 12/33 [00:00<00:00, 51.81it/s, loss=0.963]"
     ]
    },
    {
     "name": "stdout",
     "output_type": "stream",
     "text": [
      "11\n",
      "12\n",
      "13\n",
      "14\n",
      "15\n",
      "16\n",
      "17\n"
     ]
    },
    {
     "name": "stderr",
     "output_type": "stream",
     "text": [
      "Epoch [113/300]:  55%|█████████████████████████████▍                        | 18/33 [00:00<00:00, 55.08it/s, loss=0.905]"
     ]
    },
    {
     "name": "stdout",
     "output_type": "stream",
     "text": [
      "18\n",
      "19\n",
      "20\n"
     ]
    },
    {
     "name": "stderr",
     "output_type": "stream",
     "text": [
      "Epoch [113/300]:  55%|█████████████████████████████▍                        | 18/33 [00:00<00:00, 55.08it/s, loss=0.714]"
     ]
    },
    {
     "name": "stdout",
     "output_type": "stream",
     "text": [
      "21\n",
      "22\n",
      "23\n"
     ]
    },
    {
     "name": "stderr",
     "output_type": "stream",
     "text": [
      "Epoch [113/300]: 100%|██████████████████████████████████████████████████████| 33/33 [00:00<00:00, 64.80it/s, loss=0.391]"
     ]
    },
    {
     "name": "stdout",
     "output_type": "stream",
     "text": [
      "24\n",
      "25\n",
      "26\n",
      "27\n",
      "28\n",
      "29\n",
      "30\n",
      "31\n",
      "32\n"
     ]
    },
    {
     "name": "stderr",
     "output_type": "stream",
     "text": [
      "Epoch [113/300]: 100%|██████████████████████████████████████████████████████| 33/33 [00:00<00:00, 60.21it/s, loss=0.391]\n",
      "\n",
      "Epoch [113/300]:   0%|                                                                 | 0/5 [00:00<?, ?it/s, loss=1.59]\u001b[A\n",
      "Epoch [113/300]:  20%|███████████▍                                             | 1/5 [00:00<00:02,  1.79it/s, loss=1.59]\u001b[A"
     ]
    },
    {
     "name": "stdout",
     "output_type": "stream",
     "text": [
      "0\n"
     ]
    },
    {
     "name": "stderr",
     "output_type": "stream",
     "text": [
      "\n",
      "Epoch [113/300]:  20%|███████████▏                                            | 1/5 [00:00<00:02,  1.79it/s, loss=0.893]\u001b[A\n",
      "Epoch [113/300]:  40%|██████████████████████▍                                 | 2/5 [00:00<00:00,  3.36it/s, loss=0.893]\u001b[A\n",
      "Epoch [113/300]:  40%|██████████████████████▍                                 | 2/5 [00:00<00:00,  3.36it/s, loss=0.774]\u001b[A\n",
      "Epoch [113/300]:  40%|██████████████████████▊                                  | 2/5 [00:00<00:00,  3.36it/s, loss=1.17]\u001b[A\n",
      "Epoch [113/300]: 100%|████████████████████████████████████████████████████████| 5/5 [00:00<00:00,  7.00it/s, loss=0.133]\u001b[A\n"
     ]
    },
    {
     "name": "stdout",
     "output_type": "stream",
     "text": [
      "1\n",
      "2\n",
      "3\n",
      "4\n",
      "model improved and saved\n",
      "\n",
      "Epoch 113: train loss: 0.8199197333870512 \n",
      "Epoch 113: valid loss: 0.9128747195005417 \n"
     ]
    },
    {
     "name": "stderr",
     "output_type": "stream",
     "text": [
      "  0%|                                                                                            | 0/33 [00:00<?, ?it/s]\n",
      "Epoch [114/300]:   0%|                                                                           | 0/33 [00:00<?, ?it/s]\u001b[A\n",
      "Epoch [114/300]:   0%|                                                                | 0/33 [00:00<?, ?it/s, loss=1.01]\u001b[A"
     ]
    },
    {
     "name": "stdout",
     "output_type": "stream",
     "text": [
      "0\n"
     ]
    },
    {
     "name": "stderr",
     "output_type": "stream",
     "text": [
      "Epoch [114/300]:  18%|██████████                                             | 6/33 [00:00<00:00, 54.07it/s, loss=0.757]"
     ]
    },
    {
     "name": "stdout",
     "output_type": "stream",
     "text": [
      "1\n",
      "2\n",
      "3\n",
      "4\n",
      "5\n",
      "6\n",
      "7\n"
     ]
    },
    {
     "name": "stderr",
     "output_type": "stream",
     "text": [
      "Epoch [114/300]:  36%|███████████████████▋                                  | 12/33 [00:00<00:00, 56.11it/s, loss=0.767]"
     ]
    },
    {
     "name": "stdout",
     "output_type": "stream",
     "text": [
      "8\n",
      "9\n",
      "10\n",
      "11\n"
     ]
    },
    {
     "name": "stderr",
     "output_type": "stream",
     "text": [
      "\r",
      "Epoch [114/300]:  36%|███████████████████▋                                  | 12/33 [00:00<00:00, 56.11it/s, loss=0.632]"
     ]
    },
    {
     "name": "stdout",
     "output_type": "stream",
     "text": [
      "12\n"
     ]
    },
    {
     "name": "stderr",
     "output_type": "stream",
     "text": [
      "Epoch [114/300]:  55%|█████████████████████████████▉                         | 18/33 [00:00<00:00, 55.67it/s, loss=1.04]"
     ]
    },
    {
     "name": "stdout",
     "output_type": "stream",
     "text": [
      "13\n",
      "14\n",
      "15\n",
      "16\n",
      "17\n",
      "18\n",
      "19\n"
     ]
    },
    {
     "name": "stderr",
     "output_type": "stream",
     "text": [
      "Epoch [114/300]:  76%|████████████████████████████████████████▉             | 25/33 [00:00<00:00, 59.73it/s, loss=0.948]"
     ]
    },
    {
     "name": "stdout",
     "output_type": "stream",
     "text": [
      "20\n",
      "21\n",
      "22\n",
      "23\n",
      "24\n"
     ]
    },
    {
     "name": "stderr",
     "output_type": "stream",
     "text": [
      "Epoch [114/300]: 100%|████████████████████████████████████████████████████████| 33/33 [00:00<00:00, 60.09it/s, loss=1.1]\n",
      "\n",
      "Epoch [114/300]:   0%|                                                                 | 0/5 [00:00<?, ?it/s, loss=1.59]\u001b[A\n"
     ]
    },
    {
     "name": "stdout",
     "output_type": "stream",
     "text": [
      "25\n",
      "26\n",
      "27\n",
      "28\n",
      "29\n",
      "30\n",
      "31\n",
      "32\n",
      "0\n"
     ]
    },
    {
     "name": "stderr",
     "output_type": "stream",
     "text": [
      "Epoch [114/300]:  20%|███████████▍                                             | 1/5 [00:00<00:02,  1.77it/s, loss=1.59]\u001b[A\n",
      "Epoch [114/300]:  20%|███████████▏                                            | 1/5 [00:00<00:02,  1.77it/s, loss=0.893]\u001b[A\n",
      "Epoch [114/300]:  20%|███████████▏                                            | 1/5 [00:00<00:02,  1.77it/s, loss=0.774]\u001b[A\n",
      "Epoch [114/300]:  20%|███████████▍                                             | 1/5 [00:00<00:02,  1.77it/s, loss=1.17]\u001b[A\n",
      "Epoch [114/300]: 100%|████████████████████████████████████████████████████████| 5/5 [00:00<00:00,  8.02it/s, loss=0.133]\u001b[A\n"
     ]
    },
    {
     "name": "stdout",
     "output_type": "stream",
     "text": [
      "1\n",
      "2\n",
      "3\n",
      "4\n",
      "model improved and saved\n",
      "\n",
      "Epoch 114: train loss: 0.8368832035498186 \n",
      "Epoch 114: valid loss: 0.9131742477416992 \n"
     ]
    },
    {
     "name": "stderr",
     "output_type": "stream",
     "text": [
      "  0%|                                                                                            | 0/33 [00:00<?, ?it/s]\n",
      "Epoch [115/300]:   0%|                                                                           | 0/33 [00:00<?, ?it/s]\u001b[A\n",
      "Epoch [115/300]:  18%|██████████                                             | 6/33 [00:00<00:00, 56.35it/s, loss=0.749]\u001b[A"
     ]
    },
    {
     "name": "stdout",
     "output_type": "stream",
     "text": [
      "0\n",
      "1\n",
      "2\n",
      "3\n",
      "4\n",
      "5\n",
      "6\n",
      "7\n"
     ]
    },
    {
     "name": "stderr",
     "output_type": "stream",
     "text": [
      "Epoch [115/300]:  39%|█████████████████████▎                                | 13/33 [00:00<00:00, 59.16it/s, loss=0.735]"
     ]
    },
    {
     "name": "stdout",
     "output_type": "stream",
     "text": [
      "8\n",
      "9\n",
      "10\n",
      "11\n",
      "12\n"
     ]
    },
    {
     "name": "stderr",
     "output_type": "stream",
     "text": [
      "Epoch [115/300]:  61%|████████████████████████████████▋                     | 20/33 [00:00<00:00, 62.68it/s, loss=0.766]"
     ]
    },
    {
     "name": "stdout",
     "output_type": "stream",
     "text": [
      "13\n",
      "14\n",
      "15\n",
      "16\n",
      "17\n",
      "18\n",
      "19\n",
      "20\n",
      "21\n"
     ]
    },
    {
     "name": "stderr",
     "output_type": "stream",
     "text": [
      "Epoch [115/300]:  82%|█████████████████████████████████████████████          | 27/33 [00:00<00:00, 64.70it/s, loss=1.02]"
     ]
    },
    {
     "name": "stdout",
     "output_type": "stream",
     "text": [
      "22\n",
      "23\n",
      "24\n",
      "25\n",
      "26\n"
     ]
    },
    {
     "name": "stderr",
     "output_type": "stream",
     "text": [
      "Epoch [115/300]: 100%|███████████████████████████████████████████████████████| 33/33 [00:00<00:00, 63.64it/s, loss=0.73]\n",
      "\n",
      "Epoch [115/300]:   0%|                                                                 | 0/5 [00:00<?, ?it/s, loss=1.59]\u001b[A\n",
      "Epoch [115/300]:  20%|███████████▍                                             | 1/5 [00:00<00:02,  1.88it/s, loss=1.59]\u001b[A\n",
      "Epoch [115/300]:  20%|███████████▏                                            | 1/5 [00:00<00:02,  1.88it/s, loss=0.894]\u001b[A\n",
      "Epoch [115/300]:  20%|███████████▏                                            | 1/5 [00:00<00:02,  1.88it/s, loss=0.775]\u001b[A"
     ]
    },
    {
     "name": "stdout",
     "output_type": "stream",
     "text": [
      "27\n",
      "28\n",
      "29\n",
      "30\n",
      "31\n",
      "32\n",
      "0\n",
      "1\n",
      "2\n"
     ]
    },
    {
     "name": "stderr",
     "output_type": "stream",
     "text": [
      "\n",
      "Epoch [115/300]:  20%|███████████▍                                             | 1/5 [00:00<00:02,  1.88it/s, loss=1.17]\u001b[A\n",
      "Epoch [115/300]: 100%|████████████████████████████████████████████████████████| 5/5 [00:00<00:00,  8.55it/s, loss=0.132]\u001b[A\n"
     ]
    },
    {
     "name": "stdout",
     "output_type": "stream",
     "text": [
      "3\n",
      "4\n",
      "model improved and saved\n",
      "\n",
      "Epoch 115: train loss: 0.8208829652179371 \n",
      "Epoch 115: valid loss: 0.9136002331972122 \n"
     ]
    },
    {
     "name": "stderr",
     "output_type": "stream",
     "text": [
      "  0%|                                                                                            | 0/33 [00:00<?, ?it/s]\n",
      "Epoch [116/300]:   0%|                                                                           | 0/33 [00:00<?, ?it/s]\u001b[A\n",
      "Epoch [116/300]:   0%|                                                               | 0/33 [00:00<?, ?it/s, loss=0.639]\u001b[A"
     ]
    },
    {
     "name": "stdout",
     "output_type": "stream",
     "text": [
      "0\n",
      "1\n"
     ]
    },
    {
     "name": "stderr",
     "output_type": "stream",
     "text": [
      "Epoch [116/300]:  18%|██████████                                             | 6/33 [00:00<00:00, 53.19it/s, loss=0.738]"
     ]
    },
    {
     "name": "stdout",
     "output_type": "stream",
     "text": [
      "2\n",
      "3\n",
      "4\n",
      "5\n",
      "6\n",
      "7\n",
      "8\n",
      "9\n"
     ]
    },
    {
     "name": "stderr",
     "output_type": "stream",
     "text": [
      "Epoch [116/300]:  36%|████████████████████                                   | 12/33 [00:00<00:00, 56.94it/s, loss=1.31]"
     ]
    },
    {
     "name": "stdout",
     "output_type": "stream",
     "text": [
      "10\n",
      "11\n"
     ]
    },
    {
     "name": "stderr",
     "output_type": "stream",
     "text": [
      "Epoch [116/300]:  36%|███████████████████▋                                  | 12/33 [00:00<00:00, 56.94it/s, loss=0.949]"
     ]
    },
    {
     "name": "stdout",
     "output_type": "stream",
     "text": [
      "12\n",
      "13\n",
      "14\n"
     ]
    },
    {
     "name": "stderr",
     "output_type": "stream",
     "text": [
      "Epoch [116/300]:  58%|███████████████████████████████                       | 19/33 [00:00<00:00, 59.09it/s, loss=0.924]"
     ]
    },
    {
     "name": "stdout",
     "output_type": "stream",
     "text": [
      "15\n",
      "16\n",
      "17\n",
      "18\n",
      "19\n",
      "20\n",
      "21\n",
      "22\n"
     ]
    },
    {
     "name": "stderr",
     "output_type": "stream",
     "text": [
      "Epoch [116/300]:  58%|███████████████████████████████                       | 19/33 [00:00<00:00, 59.09it/s, loss=0.882]"
     ]
    },
    {
     "name": "stdout",
     "output_type": "stream",
     "text": [
      "23\n",
      "24\n"
     ]
    },
    {
     "name": "stderr",
     "output_type": "stream",
     "text": [
      "Epoch [116/300]:  79%|██████████████████████████████████████████▌           | 26/33 [00:00<00:00, 59.90it/s, loss=0.855]"
     ]
    },
    {
     "name": "stdout",
     "output_type": "stream",
     "text": [
      "25\n",
      "26\n",
      "27\n"
     ]
    },
    {
     "name": "stderr",
     "output_type": "stream",
     "text": [
      "Epoch [116/300]: 100%|███████████████████████████████████████████████████████| 33/33 [00:00<00:00, 59.73it/s, loss=0.84]\n",
      "\n",
      "Epoch [116/300]:   0%|                                                                 | 0/5 [00:00<?, ?it/s, loss=1.59]\u001b[A\n",
      "Epoch [116/300]:  20%|███████████▍                                             | 1/5 [00:00<00:02,  1.77it/s, loss=1.59]\u001b[A\n",
      "Epoch [116/300]:  20%|███████████▏                                            | 1/5 [00:00<00:02,  1.77it/s, loss=0.893]\u001b[A"
     ]
    },
    {
     "name": "stdout",
     "output_type": "stream",
     "text": [
      "28\n",
      "29\n",
      "30\n",
      "31\n",
      "32\n",
      "0\n",
      "1\n"
     ]
    },
    {
     "name": "stderr",
     "output_type": "stream",
     "text": [
      "\n",
      "Epoch [116/300]:  20%|███████████▏                                            | 1/5 [00:00<00:02,  1.77it/s, loss=0.775]\u001b[A\n",
      "Epoch [116/300]:  20%|███████████▍                                             | 1/5 [00:00<00:02,  1.77it/s, loss=1.17]\u001b[A\n",
      "Epoch [116/300]: 100%|████████████████████████████████████████████████████████| 5/5 [00:00<00:00,  8.01it/s, loss=0.133]\u001b[A\n"
     ]
    },
    {
     "name": "stdout",
     "output_type": "stream",
     "text": [
      "2\n",
      "3\n",
      "4\n",
      "model improved and saved\n",
      "\n",
      "Epoch 116: train loss: 0.8300608739708409 \n",
      "Epoch 116: valid loss: 0.9133165746927261 \n"
     ]
    },
    {
     "name": "stderr",
     "output_type": "stream",
     "text": [
      "  0%|                                                                                            | 0/33 [00:00<?, ?it/s]\n",
      "Epoch [117/300]:   0%|                                                                           | 0/33 [00:00<?, ?it/s]\u001b[A\n",
      "Epoch [117/300]:   0%|                                                               | 0/33 [00:00<?, ?it/s, loss=0.604]\u001b[A"
     ]
    },
    {
     "name": "stdout",
     "output_type": "stream",
     "text": [
      "0\n",
      "1\n",
      "2\n"
     ]
    },
    {
     "name": "stderr",
     "output_type": "stream",
     "text": [
      "Epoch [117/300]:  18%|██████████                                             | 6/33 [00:00<00:00, 59.35it/s, loss=0.779]"
     ]
    },
    {
     "name": "stdout",
     "output_type": "stream",
     "text": [
      "3\n",
      "4\n",
      "5\n",
      "6\n",
      "7\n",
      "8\n",
      "9\n"
     ]
    },
    {
     "name": "stderr",
     "output_type": "stream",
     "text": [
      "Epoch [117/300]:  39%|█████████████████████▎                                | 13/33 [00:00<00:00, 61.39it/s, loss=0.852]"
     ]
    },
    {
     "name": "stdout",
     "output_type": "stream",
     "text": [
      "10\n",
      "11\n",
      "12\n",
      "13\n"
     ]
    },
    {
     "name": "stderr",
     "output_type": "stream",
     "text": [
      "Epoch [117/300]:  39%|█████████████████████▎                                | 13/33 [00:00<00:00, 61.39it/s, loss=0.739]"
     ]
    },
    {
     "name": "stdout",
     "output_type": "stream",
     "text": [
      "14\n",
      "15\n"
     ]
    },
    {
     "name": "stderr",
     "output_type": "stream",
     "text": [
      "Epoch [117/300]:  61%|████████████████████████████████▋                     | 20/33 [00:00<00:00, 64.52it/s, loss=0.747]"
     ]
    },
    {
     "name": "stdout",
     "output_type": "stream",
     "text": [
      "16\n",
      "17\n",
      "18\n",
      "19\n",
      "20\n",
      "21\n",
      "22\n"
     ]
    },
    {
     "name": "stderr",
     "output_type": "stream",
     "text": [
      "Epoch [117/300]:  82%|█████████████████████████████████████████████          | 27/33 [00:00<00:00, 62.34it/s, loss=0.64]"
     ]
    },
    {
     "name": "stdout",
     "output_type": "stream",
     "text": [
      "23\n",
      "24\n",
      "25\n",
      "26\n"
     ]
    },
    {
     "name": "stderr",
     "output_type": "stream",
     "text": [
      "\r",
      "Epoch [117/300]:  82%|████████████████████████████████████████████▏         | 27/33 [00:00<00:00, 62.34it/s, loss=0.789]"
     ]
    },
    {
     "name": "stdout",
     "output_type": "stream",
     "text": [
      "27\n"
     ]
    },
    {
     "name": "stderr",
     "output_type": "stream",
     "text": [
      "Epoch [117/300]: 100%|███████████████████████████████████████████████████████| 33/33 [00:00<00:00, 62.41it/s, loss=1.11]\n",
      "\n",
      "Epoch [117/300]:   0%|                                                                 | 0/5 [00:00<?, ?it/s, loss=1.59]\u001b[A\n",
      "Epoch [117/300]:  20%|███████████▍                                             | 1/5 [00:00<00:02,  1.84it/s, loss=1.59]\u001b[A\n",
      "Epoch [117/300]:  20%|███████████▏                                            | 1/5 [00:00<00:02,  1.84it/s, loss=0.894]\u001b[A\n",
      "Epoch [117/300]:  20%|███████████▏                                            | 1/5 [00:00<00:02,  1.84it/s, loss=0.775]\u001b[A"
     ]
    },
    {
     "name": "stdout",
     "output_type": "stream",
     "text": [
      "28\n",
      "29\n",
      "30\n",
      "31\n",
      "32\n",
      "0\n",
      "1\n",
      "2\n"
     ]
    },
    {
     "name": "stderr",
     "output_type": "stream",
     "text": [
      "\n",
      "Epoch [117/300]:  20%|███████████▍                                             | 1/5 [00:00<00:02,  1.84it/s, loss=1.17]\u001b[A\n",
      "Epoch [117/300]: 100%|████████████████████████████████████████████████████████| 5/5 [00:00<00:00,  8.37it/s, loss=0.133]\u001b[A\n"
     ]
    },
    {
     "name": "stdout",
     "output_type": "stream",
     "text": [
      "3\n",
      "4\n",
      "model improved and saved\n",
      "\n",
      "Epoch 117: train loss: 0.8354249650781805 \n",
      "Epoch 117: valid loss: 0.9135281354188919 \n"
     ]
    },
    {
     "name": "stderr",
     "output_type": "stream",
     "text": [
      "  0%|                                                                                            | 0/33 [00:00<?, ?it/s]\n",
      "Epoch [118/300]:   0%|                                                                           | 0/33 [00:00<?, ?it/s]\u001b[A\n",
      "Epoch [118/300]:   0%|                                                               | 0/33 [00:00<?, ?it/s, loss=0.769]\u001b[A"
     ]
    },
    {
     "name": "stdout",
     "output_type": "stream",
     "text": [
      "0\n",
      "1\n"
     ]
    },
    {
     "name": "stderr",
     "output_type": "stream",
     "text": [
      "\r",
      "Epoch [118/300]:   0%|                                                               | 0/33 [00:00<?, ?it/s, loss=0.789]"
     ]
    },
    {
     "name": "stdout",
     "output_type": "stream",
     "text": [
      "2\n"
     ]
    },
    {
     "name": "stderr",
     "output_type": "stream",
     "text": [
      "Epoch [118/300]:  18%|██████████                                             | 6/33 [00:00<00:00, 53.49it/s, loss=0.964]"
     ]
    },
    {
     "name": "stdout",
     "output_type": "stream",
     "text": [
      "3\n",
      "4\n",
      "5\n",
      "6\n",
      "7\n",
      "8\n",
      "9\n"
     ]
    },
    {
     "name": "stderr",
     "output_type": "stream",
     "text": [
      "Epoch [118/300]:  39%|█████████████████████▎                                | 13/33 [00:00<00:00, 59.22it/s, loss=0.883]"
     ]
    },
    {
     "name": "stdout",
     "output_type": "stream",
     "text": [
      "10\n",
      "11\n",
      "12\n"
     ]
    },
    {
     "name": "stderr",
     "output_type": "stream",
     "text": [
      "Epoch [118/300]:  39%|█████████████████████▎                                | 13/33 [00:00<00:00, 59.22it/s, loss=0.715]"
     ]
    },
    {
     "name": "stdout",
     "output_type": "stream",
     "text": [
      "13\n",
      "14\n"
     ]
    },
    {
     "name": "stderr",
     "output_type": "stream",
     "text": [
      "\r",
      "Epoch [118/300]:  39%|█████████████████████▎                                | 13/33 [00:00<00:00, 59.22it/s, loss=0.909]"
     ]
    },
    {
     "name": "stdout",
     "output_type": "stream",
     "text": [
      "15\n"
     ]
    },
    {
     "name": "stderr",
     "output_type": "stream",
     "text": [
      "Epoch [118/300]:  58%|███████████████████████████████▋                       | 19/33 [00:00<00:00, 58.06it/s, loss=0.68]"
     ]
    },
    {
     "name": "stdout",
     "output_type": "stream",
     "text": [
      "16\n",
      "17\n",
      "18\n",
      "19\n",
      "20\n",
      "21\n"
     ]
    },
    {
     "name": "stderr",
     "output_type": "stream",
     "text": [
      "Epoch [118/300]:  58%|███████████████████████████████                       | 19/33 [00:00<00:00, 58.06it/s, loss=0.728]"
     ]
    },
    {
     "name": "stdout",
     "output_type": "stream",
     "text": [
      "22\n",
      "23\n",
      "24\n"
     ]
    },
    {
     "name": "stderr",
     "output_type": "stream",
     "text": [
      "Epoch [118/300]:  79%|██████████████████████████████████████████▌           | 26/33 [00:00<00:00, 59.23it/s, loss=0.707]"
     ]
    },
    {
     "name": "stdout",
     "output_type": "stream",
     "text": [
      "25\n",
      "26\n"
     ]
    },
    {
     "name": "stderr",
     "output_type": "stream",
     "text": [
      "\r",
      "Epoch [118/300]:  79%|██████████████████████████████████████████▌           | 26/33 [00:00<00:00, 59.23it/s, loss=0.708]"
     ]
    },
    {
     "name": "stdout",
     "output_type": "stream",
     "text": [
      "27\n"
     ]
    },
    {
     "name": "stderr",
     "output_type": "stream",
     "text": [
      "Epoch [118/300]: 100%|██████████████████████████████████████████████████████| 33/33 [00:00<00:00, 58.64it/s, loss=0.928]\n",
      "\n",
      "Epoch [118/300]:   0%|                                                                 | 0/5 [00:00<?, ?it/s, loss=1.59]\u001b[A\n",
      "Epoch [118/300]:  20%|███████████▍                                             | 1/5 [00:00<00:02,  1.73it/s, loss=1.59]\u001b[A\n"
     ]
    },
    {
     "name": "stdout",
     "output_type": "stream",
     "text": [
      "28\n",
      "29\n",
      "30\n",
      "31\n",
      "32\n",
      "0\n",
      "1\n"
     ]
    },
    {
     "name": "stderr",
     "output_type": "stream",
     "text": [
      "Epoch [118/300]:  20%|███████████▏                                            | 1/5 [00:00<00:02,  1.73it/s, loss=0.894]\u001b[A\n",
      "Epoch [118/300]:  20%|███████████▏                                            | 1/5 [00:00<00:02,  1.73it/s, loss=0.775]\u001b[A\n",
      "Epoch [118/300]:  20%|███████████▍                                             | 1/5 [00:00<00:02,  1.73it/s, loss=1.17]\u001b[A\n",
      "Epoch [118/300]:  20%|███████████▏                                            | 1/5 [00:00<00:02,  1.73it/s, loss=0.133]"
     ]
    },
    {
     "name": "stdout",
     "output_type": "stream",
     "text": [
      "2\n",
      "3\n",
      "4\n"
     ]
    },
    {
     "name": "stderr",
     "output_type": "stream",
     "text": [
      "Epoch [118/300]: 100%|████████████████████████████████████████████████████████| 5/5 [00:00<00:00,  7.82it/s, loss=0.133]\n"
     ]
    },
    {
     "name": "stdout",
     "output_type": "stream",
     "text": [
      "model improved and saved\n",
      "\n",
      "Epoch 118: train loss: 0.8266758792328112 \n",
      "Epoch 118: valid loss: 0.9137936949729919 \n"
     ]
    },
    {
     "name": "stderr",
     "output_type": "stream",
     "text": [
      "  0%|                                                                                            | 0/33 [00:00<?, ?it/s]\n",
      "Epoch [119/300]:   0%|                                                                           | 0/33 [00:00<?, ?it/s]\u001b[A\n",
      "Epoch [119/300]:   0%|                                                               | 0/33 [00:00<?, ?it/s, loss=0.865]\u001b[A"
     ]
    },
    {
     "name": "stdout",
     "output_type": "stream",
     "text": [
      "0\n"
     ]
    },
    {
     "name": "stderr",
     "output_type": "stream",
     "text": [
      "\r",
      "Epoch [119/300]:   0%|                                                               | 0/33 [00:00<?, ?it/s, loss=0.805]"
     ]
    },
    {
     "name": "stdout",
     "output_type": "stream",
     "text": [
      "1\n"
     ]
    },
    {
     "name": "stderr",
     "output_type": "stream",
     "text": [
      "Epoch [119/300]:  21%|███████████▋                                           | 7/33 [00:00<00:00, 60.89it/s, loss=0.733]"
     ]
    },
    {
     "name": "stdout",
     "output_type": "stream",
     "text": [
      "2\n",
      "3\n",
      "4\n",
      "5\n",
      "6\n",
      "7\n",
      "8\n",
      "9\n"
     ]
    },
    {
     "name": "stderr",
     "output_type": "stream",
     "text": [
      "\r",
      "Epoch [119/300]:  21%|███████████▉                                            | 7/33 [00:00<00:00, 60.89it/s, loss=0.89]"
     ]
    },
    {
     "name": "stdout",
     "output_type": "stream",
     "text": [
      "10\n"
     ]
    },
    {
     "name": "stderr",
     "output_type": "stream",
     "text": [
      "Epoch [119/300]:  21%|███████████▋                                           | 7/33 [00:00<00:00, 60.89it/s, loss=0.948]"
     ]
    },
    {
     "name": "stdout",
     "output_type": "stream",
     "text": [
      "11\n",
      "12\n"
     ]
    },
    {
     "name": "stderr",
     "output_type": "stream",
     "text": [
      "Epoch [119/300]:  42%|██████████████████████▉                               | 14/33 [00:00<00:00, 58.39it/s, loss=0.922]"
     ]
    },
    {
     "name": "stdout",
     "output_type": "stream",
     "text": [
      "13\n"
     ]
    },
    {
     "name": "stderr",
     "output_type": "stream",
     "text": [
      "Epoch [119/300]:  61%|█████████████████████████████████▎                     | 20/33 [00:00<00:00, 58.17it/s, loss=1.17]"
     ]
    },
    {
     "name": "stdout",
     "output_type": "stream",
     "text": [
      "14\n",
      "15\n",
      "16\n",
      "17\n",
      "18\n",
      "19\n",
      "20\n",
      "21\n"
     ]
    },
    {
     "name": "stderr",
     "output_type": "stream",
     "text": [
      "\r",
      "Epoch [119/300]:  61%|█████████████████████████████████▎                     | 20/33 [00:00<00:00, 58.17it/s, loss=0.99]"
     ]
    },
    {
     "name": "stdout",
     "output_type": "stream",
     "text": [
      "22\n"
     ]
    },
    {
     "name": "stderr",
     "output_type": "stream",
     "text": [
      "Epoch [119/300]:  61%|████████████████████████████████▋                     | 20/33 [00:00<00:00, 58.17it/s, loss=0.731]"
     ]
    },
    {
     "name": "stdout",
     "output_type": "stream",
     "text": [
      "23\n",
      "24\n"
     ]
    },
    {
     "name": "stderr",
     "output_type": "stream",
     "text": [
      "Epoch [119/300]:  79%|████████████████████████████████████████████            | 26/33 [00:00<00:00, 57.43it/s, loss=0.6]"
     ]
    },
    {
     "name": "stdout",
     "output_type": "stream",
     "text": [
      "25\n"
     ]
    },
    {
     "name": "stderr",
     "output_type": "stream",
     "text": [
      "Epoch [119/300]: 100%|███████████████████████████████████████████████████████| 33/33 [00:00<00:00, 59.29it/s, loss=0.91]\n",
      "\n",
      "Epoch [119/300]:   0%|                                                                 | 0/5 [00:00<?, ?it/s, loss=1.59]\u001b[A\n",
      "Epoch [119/300]:  20%|███████████▍                                             | 1/5 [00:00<00:02,  1.76it/s, loss=1.59]\u001b[A\n",
      "Epoch [119/300]:  20%|███████████▏                                            | 1/5 [00:00<00:02,  1.76it/s, loss=0.894]"
     ]
    },
    {
     "name": "stdout",
     "output_type": "stream",
     "text": [
      "26\n",
      "27\n",
      "28\n",
      "29\n",
      "30\n",
      "31\n",
      "32\n",
      "0\n",
      "1\n"
     ]
    },
    {
     "name": "stderr",
     "output_type": "stream",
     "text": [
      "\u001b[A\n",
      "Epoch [119/300]:  20%|███████████▏                                            | 1/5 [00:00<00:02,  1.76it/s, loss=0.775]\u001b[A\n",
      "Epoch [119/300]:  60%|█████████████████████████████████▌                      | 3/5 [00:00<00:00,  5.03it/s, loss=0.775]\u001b[A\n",
      "Epoch [119/300]:  60%|██████████████████████████████████▏                      | 3/5 [00:00<00:00,  5.03it/s, loss=1.17]\u001b[A\n",
      "Epoch [119/300]: 100%|████████████████████████████████████████████████████████| 5/5 [00:00<00:00,  6.85it/s, loss=0.133]\u001b[A\n"
     ]
    },
    {
     "name": "stdout",
     "output_type": "stream",
     "text": [
      "2\n",
      "3\n",
      "4\n",
      "model improved and saved\n",
      "\n",
      "Epoch 119: train loss: 0.8290021509835215 \n",
      "Epoch 119: valid loss: 0.9137771934270859 \n"
     ]
    },
    {
     "name": "stderr",
     "output_type": "stream",
     "text": [
      "  0%|                                                                                            | 0/33 [00:00<?, ?it/s]\n",
      "Epoch [120/300]:   0%|                                                                           | 0/33 [00:00<?, ?it/s]\u001b[A\n",
      "Epoch [120/300]:  18%|██████████▏                                             | 6/33 [00:00<00:00, 54.43it/s, loss=1.08]\u001b[A"
     ]
    },
    {
     "name": "stdout",
     "output_type": "stream",
     "text": [
      "0\n",
      "1\n",
      "2\n",
      "3\n",
      "4\n",
      "5\n",
      "6\n"
     ]
    },
    {
     "name": "stderr",
     "output_type": "stream",
     "text": [
      "Epoch [120/300]:  18%|██████████                                             | 6/33 [00:00<00:00, 54.43it/s, loss=0.874]"
     ]
    },
    {
     "name": "stdout",
     "output_type": "stream",
     "text": [
      "7\n",
      "8\n"
     ]
    },
    {
     "name": "stderr",
     "output_type": "stream",
     "text": [
      "Epoch [120/300]:  58%|███████████████████████████████                       | 19/33 [00:00<00:00, 51.07it/s, loss=0.786]"
     ]
    },
    {
     "name": "stdout",
     "output_type": "stream",
     "text": [
      "9\n",
      "10\n",
      "11\n",
      "12\n",
      "13\n",
      "14\n",
      "15\n",
      "16\n",
      "17\n",
      "18\n"
     ]
    },
    {
     "name": "stderr",
     "output_type": "stream",
     "text": [
      "Epoch [120/300]:  58%|███████████████████████████████                       | 19/33 [00:00<00:00, 51.07it/s, loss=0.826]"
     ]
    },
    {
     "name": "stdout",
     "output_type": "stream",
     "text": [
      "19\n",
      "20\n",
      "21\n"
     ]
    },
    {
     "name": "stderr",
     "output_type": "stream",
     "text": [
      "Epoch [120/300]:  94%|██████████████████████████████████████████████████▋   | 31/33 [00:00<00:00, 54.74it/s, loss=0.709]"
     ]
    },
    {
     "name": "stdout",
     "output_type": "stream",
     "text": [
      "22\n",
      "23\n",
      "24\n",
      "25\n",
      "26\n",
      "27\n",
      "28\n",
      "29\n",
      "30\n"
     ]
    },
    {
     "name": "stderr",
     "output_type": "stream",
     "text": [
      "Epoch [120/300]: 100%|███████████████████████████████████████████████████████| 33/33 [00:00<00:00, 53.54it/s, loss=1.05]\n",
      "\n",
      "Epoch [120/300]:   0%|                                                                  | 0/5 [00:00<?, ?it/s, loss=1.6]\u001b[A\n",
      "Epoch [120/300]:  20%|███████████▌                                              | 1/5 [00:00<00:02,  1.59it/s, loss=1.6]\u001b[A"
     ]
    },
    {
     "name": "stdout",
     "output_type": "stream",
     "text": [
      "31\n",
      "32\n",
      "0\n"
     ]
    },
    {
     "name": "stderr",
     "output_type": "stream",
     "text": [
      "\n",
      "Epoch [120/300]:  20%|███████████▏                                            | 1/5 [00:00<00:02,  1.59it/s, loss=0.894]\u001b[A\n",
      "Epoch [120/300]:  20%|███████████▏                                            | 1/5 [00:00<00:02,  1.59it/s, loss=0.776]\u001b[A\n",
      "Epoch [120/300]:  20%|███████████▍                                             | 1/5 [00:00<00:02,  1.59it/s, loss=1.17]\u001b[A\n",
      "Epoch [120/300]: 100%|████████████████████████████████████████████████████████| 5/5 [00:00<00:00,  7.24it/s, loss=0.133]\u001b[A\n"
     ]
    },
    {
     "name": "stdout",
     "output_type": "stream",
     "text": [
      "1\n",
      "2\n",
      "3\n",
      "4\n",
      "model improved and saved\n",
      "\n",
      "Epoch 120: train loss: 0.8309347033500671 \n",
      "Epoch 120: valid loss: 0.9142226815223694 \n"
     ]
    },
    {
     "name": "stderr",
     "output_type": "stream",
     "text": [
      "  0%|                                                                                            | 0/33 [00:00<?, ?it/s]\n",
      "Epoch [121/300]:   0%|                                                                           | 0/33 [00:00<?, ?it/s]\u001b[A\n",
      "Epoch [121/300]:   0%|                                                               | 0/33 [00:00<?, ?it/s, loss=0.828]\u001b[A"
     ]
    },
    {
     "name": "stdout",
     "output_type": "stream",
     "text": [
      "0\n",
      "1\n",
      "2\n",
      "3\n",
      "4\n"
     ]
    },
    {
     "name": "stderr",
     "output_type": "stream",
     "text": [
      "Epoch [121/300]:  18%|██████████                                             | 6/33 [00:00<00:00, 54.83it/s, loss=0.672]"
     ]
    },
    {
     "name": "stdout",
     "output_type": "stream",
     "text": [
      "5\n",
      "6\n",
      "7\n"
     ]
    },
    {
     "name": "stderr",
     "output_type": "stream",
     "text": [
      "Epoch [121/300]:  39%|█████████████████████▋                                 | 13/33 [00:00<00:00, 60.61it/s, loss=1.11]"
     ]
    },
    {
     "name": "stdout",
     "output_type": "stream",
     "text": [
      "8\n",
      "9\n",
      "10\n",
      "11\n",
      "12\n"
     ]
    },
    {
     "name": "stderr",
     "output_type": "stream",
     "text": [
      "Epoch [121/300]:  39%|█████████████████████▎                                | 13/33 [00:00<00:00, 60.61it/s, loss=0.897]"
     ]
    },
    {
     "name": "stdout",
     "output_type": "stream",
     "text": [
      "13\n",
      "14\n",
      "15\n",
      "16\n",
      "17\n"
     ]
    },
    {
     "name": "stderr",
     "output_type": "stream",
     "text": [
      "Epoch [121/300]:  61%|████████████████████████████████▋                     | 20/33 [00:00<00:00, 60.19it/s, loss=0.884]"
     ]
    },
    {
     "name": "stdout",
     "output_type": "stream",
     "text": [
      "18\n",
      "19\n",
      "20\n"
     ]
    },
    {
     "name": "stderr",
     "output_type": "stream",
     "text": [
      "Epoch [121/300]:  82%|████████████████████████████████████████████▏         | 27/33 [00:00<00:00, 63.14it/s, loss=0.784]"
     ]
    },
    {
     "name": "stdout",
     "output_type": "stream",
     "text": [
      "21\n",
      "22\n",
      "23\n",
      "24\n",
      "25\n",
      "26\n"
     ]
    },
    {
     "name": "stderr",
     "output_type": "stream",
     "text": [
      "Epoch [121/300]:  82%|████████████████████████████████████████████▏         | 27/33 [00:00<00:00, 63.14it/s, loss=0.772]"
     ]
    },
    {
     "name": "stdout",
     "output_type": "stream",
     "text": [
      "27\n",
      "28\n",
      "29\n",
      "30\n",
      "31\n"
     ]
    },
    {
     "name": "stderr",
     "output_type": "stream",
     "text": [
      "Epoch [121/300]: 100%|██████████████████████████████████████████████████████| 33/33 [00:00<00:00, 62.73it/s, loss=0.415]\n",
      "\n",
      "Epoch [121/300]:   0%|                                                                  | 0/5 [00:00<?, ?it/s, loss=1.6]\u001b[A\n",
      "Epoch [121/300]:  20%|███████████▌                                              | 1/5 [00:00<00:02,  1.85it/s, loss=1.6]\u001b[A\n",
      "Epoch [121/300]:  20%|███████████▏                                            | 1/5 [00:00<00:02,  1.85it/s, loss=0.895]\u001b[A"
     ]
    },
    {
     "name": "stdout",
     "output_type": "stream",
     "text": [
      "32\n",
      "0\n",
      "1\n"
     ]
    },
    {
     "name": "stderr",
     "output_type": "stream",
     "text": [
      "\n",
      "Epoch [121/300]:  20%|███████████▏                                            | 1/5 [00:00<00:02,  1.85it/s, loss=0.776]\u001b[A\n",
      "Epoch [121/300]:  20%|███████████▍                                             | 1/5 [00:00<00:02,  1.85it/s, loss=1.17]\u001b[A\n",
      "Epoch [121/300]: 100%|████████████████████████████████████████████████████████| 5/5 [00:00<00:00,  8.35it/s, loss=0.133]\u001b[A\n"
     ]
    },
    {
     "name": "stdout",
     "output_type": "stream",
     "text": [
      "2\n",
      "3\n",
      "4\n",
      "model improved and saved\n",
      "\n",
      "Epoch 121: train loss: 0.8155454568790667 \n",
      "Epoch 121: valid loss: 0.9143765330314636 \n"
     ]
    },
    {
     "name": "stderr",
     "output_type": "stream",
     "text": [
      "  0%|                                                                                            | 0/33 [00:00<?, ?it/s]\n",
      "Epoch [122/300]:   0%|                                                                           | 0/33 [00:00<?, ?it/s]\u001b[A\n",
      "Epoch [122/300]:   0%|                                                               | 0/33 [00:00<?, ?it/s, loss=0.862]\u001b[A"
     ]
    },
    {
     "name": "stdout",
     "output_type": "stream",
     "text": [
      "0\n",
      "1\n"
     ]
    },
    {
     "name": "stderr",
     "output_type": "stream",
     "text": [
      "Epoch [122/300]:  18%|██████████                                             | 6/33 [00:00<00:00, 57.07it/s, loss=0.674]"
     ]
    },
    {
     "name": "stdout",
     "output_type": "stream",
     "text": [
      "2\n",
      "3\n",
      "4\n",
      "5\n"
     ]
    },
    {
     "name": "stderr",
     "output_type": "stream",
     "text": [
      "Epoch [122/300]:  18%|██████████▏                                             | 6/33 [00:00<00:00, 57.07it/s, loss=0.73]"
     ]
    },
    {
     "name": "stdout",
     "output_type": "stream",
     "text": [
      "6\n",
      "7\n",
      "8\n"
     ]
    },
    {
     "name": "stderr",
     "output_type": "stream",
     "text": [
      "Epoch [122/300]:  39%|██████████████████████                                  | 13/33 [00:00<00:00, 59.37it/s, loss=0.9]"
     ]
    },
    {
     "name": "stdout",
     "output_type": "stream",
     "text": [
      "9\n",
      "10\n",
      "11\n",
      "12\n"
     ]
    },
    {
     "name": "stderr",
     "output_type": "stream",
     "text": [
      "Epoch [122/300]:  39%|█████████████████████▎                                | 13/33 [00:00<00:00, 59.37it/s, loss=0.823]"
     ]
    },
    {
     "name": "stdout",
     "output_type": "stream",
     "text": [
      "13\n",
      "14\n"
     ]
    },
    {
     "name": "stderr",
     "output_type": "stream",
     "text": [
      "Epoch [122/300]:  58%|███████████████████████████████                       | 19/33 [00:00<00:00, 59.07it/s, loss=0.578]"
     ]
    },
    {
     "name": "stdout",
     "output_type": "stream",
     "text": [
      "15\n",
      "16\n",
      "17\n",
      "18\n"
     ]
    },
    {
     "name": "stderr",
     "output_type": "stream",
     "text": [
      "Epoch [122/300]:  58%|███████████████████████████████                       | 19/33 [00:00<00:00, 59.07it/s, loss=0.821]"
     ]
    },
    {
     "name": "stdout",
     "output_type": "stream",
     "text": [
      "19\n",
      "20\n",
      "21\n"
     ]
    },
    {
     "name": "stderr",
     "output_type": "stream",
     "text": [
      "Epoch [122/300]:  79%|██████████████████████████████████████████▌           | 26/33 [00:00<00:00, 60.05it/s, loss=0.633]"
     ]
    },
    {
     "name": "stdout",
     "output_type": "stream",
     "text": [
      "22\n",
      "23\n",
      "24\n",
      "25\n"
     ]
    },
    {
     "name": "stderr",
     "output_type": "stream",
     "text": [
      "Epoch [122/300]:  79%|██████████████████████████████████████████▌           | 26/33 [00:00<00:00, 60.05it/s, loss=0.656]"
     ]
    },
    {
     "name": "stdout",
     "output_type": "stream",
     "text": [
      "26\n",
      "27\n"
     ]
    },
    {
     "name": "stderr",
     "output_type": "stream",
     "text": [
      "Epoch [122/300]: 100%|██████████████████████████████████████████████████████| 33/33 [00:00<00:00, 61.57it/s, loss=0.904]"
     ]
    },
    {
     "name": "stdout",
     "output_type": "stream",
     "text": [
      "28\n",
      "29\n",
      "30\n",
      "31\n",
      "32\n"
     ]
    },
    {
     "name": "stderr",
     "output_type": "stream",
     "text": [
      "\n",
      "\n",
      "Epoch [122/300]:   0%|                                                                  | 0/5 [00:00<?, ?it/s, loss=1.6]\u001b[A\n",
      "Epoch [122/300]:  20%|███████████▌                                              | 1/5 [00:00<00:02,  1.79it/s, loss=1.6]\u001b[A\n",
      "Epoch [122/300]:  20%|███████████▏                                            | 1/5 [00:00<00:02,  1.79it/s, loss=0.895]\u001b[A"
     ]
    },
    {
     "name": "stdout",
     "output_type": "stream",
     "text": [
      "0\n",
      "1\n"
     ]
    },
    {
     "name": "stderr",
     "output_type": "stream",
     "text": [
      "\n",
      "Epoch [122/300]:  20%|███████████▏                                            | 1/5 [00:00<00:02,  1.79it/s, loss=0.776]\u001b[A\n",
      "Epoch [122/300]:  20%|███████████▍                                             | 1/5 [00:00<00:02,  1.79it/s, loss=1.17]\u001b[A\n",
      "Epoch [122/300]: 100%|████████████████████████████████████████████████████████| 5/5 [00:00<00:00,  8.10it/s, loss=0.133]\u001b[A\n"
     ]
    },
    {
     "name": "stdout",
     "output_type": "stream",
     "text": [
      "2\n",
      "3\n",
      "4\n",
      "model improved and saved\n",
      "\n",
      "Epoch 122: train loss: 0.8270208203431332 \n",
      "Epoch 122: valid loss: 0.9144907772541047 \n"
     ]
    },
    {
     "name": "stderr",
     "output_type": "stream",
     "text": [
      "  0%|                                                                                            | 0/33 [00:00<?, ?it/s]\n",
      "Epoch [123/300]:   0%|                                                                           | 0/33 [00:00<?, ?it/s]\u001b[A\n",
      "Epoch [123/300]:   0%|                                                               | 0/33 [00:00<?, ?it/s, loss=0.916]\u001b[A"
     ]
    },
    {
     "name": "stdout",
     "output_type": "stream",
     "text": [
      "0\n",
      "1\n",
      "2\n"
     ]
    },
    {
     "name": "stderr",
     "output_type": "stream",
     "text": [
      "Epoch [123/300]:  18%|██████████                                             | 6/33 [00:00<00:00, 59.49it/s, loss=0.811]"
     ]
    },
    {
     "name": "stdout",
     "output_type": "stream",
     "text": [
      "3\n",
      "4\n",
      "5\n",
      "6\n"
     ]
    },
    {
     "name": "stderr",
     "output_type": "stream",
     "text": [
      "Epoch [123/300]:  18%|██████████                                             | 6/33 [00:00<00:00, 59.49it/s, loss=0.891]"
     ]
    },
    {
     "name": "stdout",
     "output_type": "stream",
     "text": [
      "7\n",
      "8\n",
      "9\n"
     ]
    },
    {
     "name": "stderr",
     "output_type": "stream",
     "text": [
      "Epoch [123/300]:  39%|█████████████████████▎                                | 13/33 [00:00<00:00, 60.31it/s, loss=0.898]"
     ]
    },
    {
     "name": "stdout",
     "output_type": "stream",
     "text": [
      "10\n",
      "11\n",
      "12\n"
     ]
    },
    {
     "name": "stderr",
     "output_type": "stream",
     "text": [
      "Epoch [123/300]:  39%|█████████████████████▋                                 | 13/33 [00:00<00:00, 60.31it/s, loss=1.18]"
     ]
    },
    {
     "name": "stdout",
     "output_type": "stream",
     "text": [
      "13\n",
      "14\n",
      "15\n"
     ]
    },
    {
     "name": "stderr",
     "output_type": "stream",
     "text": [
      "Epoch [123/300]:  61%|███████████████████████████████████▏                      | 20/33 [00:00<00:00, 60.52it/s, loss=1]"
     ]
    },
    {
     "name": "stdout",
     "output_type": "stream",
     "text": [
      "16\n",
      "17\n",
      "18\n",
      "19\n"
     ]
    },
    {
     "name": "stderr",
     "output_type": "stream",
     "text": [
      "Epoch [123/300]:  61%|█████████████████████████████████▎                     | 20/33 [00:00<00:00, 60.52it/s, loss=1.03]"
     ]
    },
    {
     "name": "stdout",
     "output_type": "stream",
     "text": [
      "20\n",
      "21\n",
      "22\n"
     ]
    },
    {
     "name": "stderr",
     "output_type": "stream",
     "text": [
      "Epoch [123/300]:  61%|████████████████████████████████▋                     | 20/33 [00:00<00:00, 60.52it/s, loss=0.524]"
     ]
    },
    {
     "name": "stdout",
     "output_type": "stream",
     "text": [
      "23\n",
      "24\n",
      "25\n"
     ]
    },
    {
     "name": "stderr",
     "output_type": "stream",
     "text": [
      "Epoch [123/300]:  82%|████████████████████████████████████████████▏         | 27/33 [00:00<00:00, 60.60it/s, loss=0.733]"
     ]
    },
    {
     "name": "stdout",
     "output_type": "stream",
     "text": [
      "26\n",
      "27\n",
      "28\n"
     ]
    },
    {
     "name": "stderr",
     "output_type": "stream",
     "text": [
      "Epoch [123/300]: 100%|██████████████████████████████████████████████████████| 33/33 [00:00<00:00, 61.93it/s, loss=0.332]\n",
      "\n",
      "Epoch [123/300]:   0%|                                                                  | 0/5 [00:00<?, ?it/s, loss=1.6]\u001b[A\n",
      "Epoch [123/300]:  20%|███████████▌                                              | 1/5 [00:00<00:02,  1.84it/s, loss=1.6]"
     ]
    },
    {
     "name": "stdout",
     "output_type": "stream",
     "text": [
      "29\n",
      "30\n",
      "31\n",
      "32\n",
      "0\n"
     ]
    },
    {
     "name": "stderr",
     "output_type": "stream",
     "text": [
      "\u001b[A\n",
      "Epoch [123/300]:  20%|███████████▏                                            | 1/5 [00:00<00:02,  1.84it/s, loss=0.894]\u001b[A\n",
      "Epoch [123/300]:  20%|███████████▏                                            | 1/5 [00:00<00:02,  1.84it/s, loss=0.776]\u001b[A"
     ]
    },
    {
     "name": "stdout",
     "output_type": "stream",
     "text": [
      "1\n",
      "2\n",
      "3\n"
     ]
    },
    {
     "name": "stderr",
     "output_type": "stream",
     "text": [
      "\n",
      "Epoch [123/300]:  20%|███████████▍                                             | 1/5 [00:00<00:02,  1.84it/s, loss=1.17]\u001b[A\n",
      "Epoch [123/300]: 100%|████████████████████████████████████████████████████████| 5/5 [00:00<00:00,  8.28it/s, loss=0.133]\u001b[A\n"
     ]
    },
    {
     "name": "stdout",
     "output_type": "stream",
     "text": [
      "4\n",
      "model improved and saved\n",
      "\n",
      "Epoch 123: train loss: 0.8148160513603326 \n",
      "Epoch 123: valid loss: 0.914291974902153 \n"
     ]
    },
    {
     "name": "stderr",
     "output_type": "stream",
     "text": [
      "  0%|                                                                                            | 0/33 [00:00<?, ?it/s]\n",
      "Epoch [124/300]:   0%|                                                                           | 0/33 [00:00<?, ?it/s]\u001b[A\n",
      "Epoch [124/300]:   0%|                                                               | 0/33 [00:00<?, ?it/s, loss=0.545]\u001b[A"
     ]
    },
    {
     "name": "stdout",
     "output_type": "stream",
     "text": [
      "0\n"
     ]
    },
    {
     "name": "stderr",
     "output_type": "stream",
     "text": [
      "Epoch [124/300]:   0%|                                                               | 0/33 [00:00<?, ?it/s, loss=0.578]"
     ]
    },
    {
     "name": "stdout",
     "output_type": "stream",
     "text": [
      "1\n",
      "2\n",
      "3\n"
     ]
    },
    {
     "name": "stderr",
     "output_type": "stream",
     "text": [
      "Epoch [124/300]:  18%|██████████                                             | 6/33 [00:00<00:00, 56.66it/s, loss=0.703]"
     ]
    },
    {
     "name": "stdout",
     "output_type": "stream",
     "text": [
      "4\n",
      "5\n",
      "6\n",
      "7\n"
     ]
    },
    {
     "name": "stderr",
     "output_type": "stream",
     "text": [
      "Epoch [124/300]:  18%|██████████▏                                             | 6/33 [00:00<00:00, 56.66it/s, loss=0.53]"
     ]
    },
    {
     "name": "stdout",
     "output_type": "stream",
     "text": [
      "8\n",
      "9\n"
     ]
    },
    {
     "name": "stderr",
     "output_type": "stream",
     "text": [
      "Epoch [124/300]:  36%|█████████████████████                                     | 12/33 [00:00<00:00, 55.20it/s, loss=1]"
     ]
    },
    {
     "name": "stdout",
     "output_type": "stream",
     "text": [
      "10\n",
      "11\n"
     ]
    },
    {
     "name": "stderr",
     "output_type": "stream",
     "text": [
      "\r",
      "Epoch [124/300]:  36%|████████████████████                                   | 12/33 [00:00<00:00, 55.20it/s, loss=1.29]"
     ]
    },
    {
     "name": "stdout",
     "output_type": "stream",
     "text": [
      "12\n"
     ]
    },
    {
     "name": "stderr",
     "output_type": "stream",
     "text": [
      "Epoch [124/300]:  36%|███████████████████▋                                  | 12/33 [00:00<00:00, 55.20it/s, loss=0.713]"
     ]
    },
    {
     "name": "stdout",
     "output_type": "stream",
     "text": [
      "13\n",
      "14\n"
     ]
    },
    {
     "name": "stderr",
     "output_type": "stream",
     "text": [
      "Epoch [124/300]:  55%|█████████████████████████████▍                        | 18/33 [00:00<00:00, 56.11it/s, loss=0.859]"
     ]
    },
    {
     "name": "stdout",
     "output_type": "stream",
     "text": [
      "15\n",
      "16\n",
      "17\n",
      "18\n",
      "19\n",
      "20\n"
     ]
    },
    {
     "name": "stderr",
     "output_type": "stream",
     "text": [
      "Epoch [124/300]:  55%|█████████████████████████████▍                        | 18/33 [00:00<00:00, 56.11it/s, loss=0.741]"
     ]
    },
    {
     "name": "stdout",
     "output_type": "stream",
     "text": [
      "21\n",
      "22\n"
     ]
    },
    {
     "name": "stderr",
     "output_type": "stream",
     "text": [
      "Epoch [124/300]:  76%|█████████████████████████████████████████▋             | 25/33 [00:00<00:00, 58.65it/s, loss=1.09]"
     ]
    },
    {
     "name": "stdout",
     "output_type": "stream",
     "text": [
      "23\n",
      "24\n"
     ]
    },
    {
     "name": "stderr",
     "output_type": "stream",
     "text": [
      "\r",
      "Epoch [124/300]:  76%|████████████████████████████████████████▉             | 25/33 [00:00<00:00, 58.65it/s, loss=0.908]"
     ]
    },
    {
     "name": "stdout",
     "output_type": "stream",
     "text": [
      "25\n"
     ]
    },
    {
     "name": "stderr",
     "output_type": "stream",
     "text": [
      "Epoch [124/300]:  76%|█████████████████████████████████████████▋             | 25/33 [00:00<00:00, 58.65it/s, loss=0.99]"
     ]
    },
    {
     "name": "stdout",
     "output_type": "stream",
     "text": [
      "26\n",
      "27\n"
     ]
    },
    {
     "name": "stderr",
     "output_type": "stream",
     "text": [
      "Epoch [124/300]: 100%|██████████████████████████████████████████████████████| 33/33 [00:00<00:00, 60.33it/s, loss=0.421]\n",
      "\n",
      "Epoch [124/300]:   0%|                                                                  | 0/5 [00:00<?, ?it/s, loss=1.6]\u001b[A\n",
      "Epoch [124/300]:  20%|███████████▌                                              | 1/5 [00:00<00:02,  1.79it/s, loss=1.6]\u001b[A\n"
     ]
    },
    {
     "name": "stdout",
     "output_type": "stream",
     "text": [
      "28\n",
      "29\n",
      "30\n",
      "31\n",
      "32\n",
      "0\n",
      "1\n"
     ]
    },
    {
     "name": "stderr",
     "output_type": "stream",
     "text": [
      "Epoch [124/300]:  20%|███████████▏                                            | 1/5 [00:00<00:02,  1.79it/s, loss=0.895]\u001b[A\n",
      "Epoch [124/300]:  20%|███████████▏                                            | 1/5 [00:00<00:02,  1.79it/s, loss=0.776]\u001b[A\n",
      "Epoch [124/300]:  20%|███████████▍                                             | 1/5 [00:00<00:02,  1.79it/s, loss=1.17]"
     ]
    },
    {
     "name": "stdout",
     "output_type": "stream",
     "text": [
      "2\n",
      "3\n"
     ]
    },
    {
     "name": "stderr",
     "output_type": "stream",
     "text": [
      "\u001b[A\n",
      "Epoch [124/300]: 100%|████████████████████████████████████████████████████████| 5/5 [00:00<00:00,  8.02it/s, loss=0.133]\u001b[A\n"
     ]
    },
    {
     "name": "stdout",
     "output_type": "stream",
     "text": [
      "4\n",
      "model improved and saved\n",
      "\n",
      "Epoch 124: train loss: 0.8174561921394232 \n",
      "Epoch 124: valid loss: 0.9143613070249558 \n"
     ]
    },
    {
     "name": "stderr",
     "output_type": "stream",
     "text": [
      "  0%|                                                                                            | 0/33 [00:00<?, ?it/s]\n",
      "Epoch [125/300]:   0%|                                                                           | 0/33 [00:00<?, ?it/s]\u001b[A\n",
      "Epoch [125/300]:   0%|                                                                | 0/33 [00:00<?, ?it/s, loss=1.01]\u001b[A"
     ]
    },
    {
     "name": "stdout",
     "output_type": "stream",
     "text": [
      "0\n"
     ]
    },
    {
     "name": "stderr",
     "output_type": "stream",
     "text": [
      "\r",
      "Epoch [125/300]:   0%|                                                               | 0/33 [00:00<?, ?it/s, loss=0.712]"
     ]
    },
    {
     "name": "stdout",
     "output_type": "stream",
     "text": [
      "1\n"
     ]
    },
    {
     "name": "stderr",
     "output_type": "stream",
     "text": [
      "Epoch [125/300]:  15%|████████▎                                              | 5/33 [00:00<00:00, 47.18it/s, loss=0.895]"
     ]
    },
    {
     "name": "stdout",
     "output_type": "stream",
     "text": [
      "2\n",
      "3\n",
      "4\n",
      "5\n",
      "6\n",
      "7\n"
     ]
    },
    {
     "name": "stderr",
     "output_type": "stream",
     "text": [
      "\r",
      "Epoch [125/300]:  15%|████████▎                                              | 5/33 [00:00<00:00, 47.18it/s, loss=0.483]"
     ]
    },
    {
     "name": "stdout",
     "output_type": "stream",
     "text": [
      "8\n"
     ]
    },
    {
     "name": "stderr",
     "output_type": "stream",
     "text": [
      "Epoch [125/300]:  36%|███████████████████▋                                  | 12/33 [00:00<00:00, 57.14it/s, loss=0.697]"
     ]
    },
    {
     "name": "stdout",
     "output_type": "stream",
     "text": [
      "9\n",
      "10\n",
      "11\n"
     ]
    },
    {
     "name": "stderr",
     "output_type": "stream",
     "text": [
      "Epoch [125/300]:  36%|███████████████████▋                                  | 12/33 [00:00<00:00, 57.14it/s, loss=0.492]"
     ]
    },
    {
     "name": "stdout",
     "output_type": "stream",
     "text": [
      "12\n",
      "13\n"
     ]
    },
    {
     "name": "stderr",
     "output_type": "stream",
     "text": [
      "\r",
      "Epoch [125/300]:  36%|███████████████████▋                                  | 12/33 [00:00<00:00, 57.14it/s, loss=0.991]"
     ]
    },
    {
     "name": "stdout",
     "output_type": "stream",
     "text": [
      "14\n"
     ]
    },
    {
     "name": "stderr",
     "output_type": "stream",
     "text": [
      "Epoch [125/300]:  55%|█████████████████████████████▉                         | 18/33 [00:00<00:00, 58.22it/s, loss=1.22]"
     ]
    },
    {
     "name": "stdout",
     "output_type": "stream",
     "text": [
      "15\n",
      "16\n",
      "17\n",
      "18\n",
      "19\n",
      "20\n"
     ]
    },
    {
     "name": "stderr",
     "output_type": "stream",
     "text": [
      "\r",
      "Epoch [125/300]:  55%|█████████████████████████████▍                        | 18/33 [00:00<00:00, 58.22it/s, loss=0.581]"
     ]
    },
    {
     "name": "stdout",
     "output_type": "stream",
     "text": [
      "21\n"
     ]
    },
    {
     "name": "stderr",
     "output_type": "stream",
     "text": [
      "Epoch [125/300]:  76%|█████████████████████████████████████████▋             | 25/33 [00:00<00:00, 61.01it/s, loss=1.09]"
     ]
    },
    {
     "name": "stdout",
     "output_type": "stream",
     "text": [
      "22\n",
      "23\n",
      "24\n"
     ]
    },
    {
     "name": "stderr",
     "output_type": "stream",
     "text": [
      "Epoch [125/300]:  76%|████████████████████████████████████████▉             | 25/33 [00:00<00:00, 61.01it/s, loss=0.674]"
     ]
    },
    {
     "name": "stdout",
     "output_type": "stream",
     "text": [
      "25\n",
      "26\n"
     ]
    },
    {
     "name": "stderr",
     "output_type": "stream",
     "text": [
      "\r",
      "Epoch [125/300]:  76%|████████████████████████████████████████▉             | 25/33 [00:00<00:00, 61.01it/s, loss=0.872]"
     ]
    },
    {
     "name": "stdout",
     "output_type": "stream",
     "text": [
      "27\n"
     ]
    },
    {
     "name": "stderr",
     "output_type": "stream",
     "text": [
      "Epoch [125/300]: 100%|███████████████████████████████████████████████████████| 33/33 [00:00<00:00, 60.49it/s, loss=1.44]\n",
      "\n",
      "Epoch [125/300]:   0%|                                                                  | 0/5 [00:00<?, ?it/s, loss=1.6]\u001b[A\n",
      "Epoch [125/300]:  20%|███████████▌                                              | 1/5 [00:00<00:02,  1.80it/s, loss=1.6]\u001b[A"
     ]
    },
    {
     "name": "stdout",
     "output_type": "stream",
     "text": [
      "28\n",
      "29\n",
      "30\n",
      "31\n",
      "32\n",
      "0\n"
     ]
    },
    {
     "name": "stderr",
     "output_type": "stream",
     "text": [
      "\n",
      "Epoch [125/300]:  20%|███████████▏                                            | 1/5 [00:00<00:02,  1.80it/s, loss=0.895]\u001b[A"
     ]
    },
    {
     "name": "stdout",
     "output_type": "stream",
     "text": [
      "1\n"
     ]
    },
    {
     "name": "stderr",
     "output_type": "stream",
     "text": [
      "\n",
      "Epoch [125/300]:  20%|███████████▏                                            | 1/5 [00:00<00:02,  1.80it/s, loss=0.776]\u001b[A\n",
      "Epoch [125/300]:  20%|███████████▍                                             | 1/5 [00:00<00:02,  1.80it/s, loss=1.17]\u001b[A\n",
      "Epoch [125/300]: 100%|████████████████████████████████████████████████████████| 5/5 [00:00<00:00,  8.11it/s, loss=0.133]\u001b[A\n"
     ]
    },
    {
     "name": "stdout",
     "output_type": "stream",
     "text": [
      "2\n",
      "3\n",
      "4\n",
      "model improved and saved\n",
      "\n",
      "Epoch 125: train loss: 0.8434061254515792 \n",
      "Epoch 125: valid loss: 0.9145950108766556 \n"
     ]
    },
    {
     "name": "stderr",
     "output_type": "stream",
     "text": [
      "  0%|                                                                                            | 0/33 [00:00<?, ?it/s]\n",
      "Epoch [126/300]:   0%|                                                                           | 0/33 [00:00<?, ?it/s]\u001b[A\n",
      "Epoch [126/300]:   0%|                                                               | 0/33 [00:00<?, ?it/s, loss=0.694]\u001b[A"
     ]
    },
    {
     "name": "stdout",
     "output_type": "stream",
     "text": [
      "0\n",
      "1\n"
     ]
    },
    {
     "name": "stderr",
     "output_type": "stream",
     "text": [
      "\r",
      "Epoch [126/300]:   0%|                                                               | 0/33 [00:00<?, ?it/s, loss=0.713]"
     ]
    },
    {
     "name": "stdout",
     "output_type": "stream",
     "text": [
      "2\n"
     ]
    },
    {
     "name": "stderr",
     "output_type": "stream",
     "text": [
      "Epoch [126/300]:  15%|████████▎                                              | 5/33 [00:00<00:00, 47.80it/s, loss=0.951]"
     ]
    },
    {
     "name": "stdout",
     "output_type": "stream",
     "text": [
      "3\n",
      "4\n",
      "5\n",
      "6\n",
      "7\n"
     ]
    },
    {
     "name": "stderr",
     "output_type": "stream",
     "text": [
      "Epoch [126/300]:  15%|████████▎                                              | 5/33 [00:00<00:00, 47.80it/s, loss=0.902]"
     ]
    },
    {
     "name": "stdout",
     "output_type": "stream",
     "text": [
      "8\n"
     ]
    },
    {
     "name": "stderr",
     "output_type": "stream",
     "text": [
      "Epoch [126/300]:  36%|███████████████████▋                                  | 12/33 [00:00<00:00, 58.01it/s, loss=0.656]"
     ]
    },
    {
     "name": "stdout",
     "output_type": "stream",
     "text": [
      "9\n",
      "10\n",
      "11\n"
     ]
    },
    {
     "name": "stderr",
     "output_type": "stream",
     "text": [
      "Epoch [126/300]:  36%|████████████████████                                   | 12/33 [00:00<00:00, 58.01it/s, loss=0.95]"
     ]
    },
    {
     "name": "stdout",
     "output_type": "stream",
     "text": [
      "12\n",
      "13\n",
      "14\n"
     ]
    },
    {
     "name": "stderr",
     "output_type": "stream",
     "text": [
      "\r",
      "Epoch [126/300]:  36%|███████████████████▋                                  | 12/33 [00:00<00:00, 58.01it/s, loss=0.603]"
     ]
    },
    {
     "name": "stdout",
     "output_type": "stream",
     "text": [
      "15\n"
     ]
    },
    {
     "name": "stderr",
     "output_type": "stream",
     "text": [
      "Epoch [126/300]:  58%|███████████████████████████████                       | 19/33 [00:00<00:00, 60.82it/s, loss=0.646]"
     ]
    },
    {
     "name": "stdout",
     "output_type": "stream",
     "text": [
      "16\n",
      "17\n",
      "18\n",
      "19\n",
      "20\n"
     ]
    },
    {
     "name": "stderr",
     "output_type": "stream",
     "text": [
      "\r",
      "Epoch [126/300]:  58%|███████████████████████████████                       | 19/33 [00:00<00:00, 60.82it/s, loss=0.974]"
     ]
    },
    {
     "name": "stdout",
     "output_type": "stream",
     "text": [
      "21\n"
     ]
    },
    {
     "name": "stderr",
     "output_type": "stream",
     "text": [
      "Epoch [126/300]:  58%|███████████████████████████████                       | 19/33 [00:00<00:00, 60.82it/s, loss=0.972]"
     ]
    },
    {
     "name": "stdout",
     "output_type": "stream",
     "text": [
      "22\n",
      "23\n",
      "24\n"
     ]
    },
    {
     "name": "stderr",
     "output_type": "stream",
     "text": [
      "Epoch [126/300]:  79%|██████████████████████████████████████████▌           | 26/33 [00:00<00:00, 60.97it/s, loss=0.565]"
     ]
    },
    {
     "name": "stdout",
     "output_type": "stream",
     "text": [
      "25\n",
      "26\n",
      "27\n"
     ]
    },
    {
     "name": "stderr",
     "output_type": "stream",
     "text": [
      "\r",
      "Epoch [126/300]:  79%|██████████████████████████████████████████▌           | 26/33 [00:00<00:00, 60.97it/s, loss=0.965]"
     ]
    },
    {
     "name": "stdout",
     "output_type": "stream",
     "text": [
      "28\n"
     ]
    },
    {
     "name": "stderr",
     "output_type": "stream",
     "text": [
      "Epoch [126/300]: 100%|██████████████████████████████████████████████████████| 33/33 [00:00<00:00, 61.22it/s, loss=0.598]\n",
      "\n",
      "Epoch [126/300]:   0%|                                                                  | 0/5 [00:00<?, ?it/s, loss=1.6]\u001b[A\n",
      "Epoch [126/300]:  20%|███████████▌                                              | 1/5 [00:00<00:02,  1.82it/s, loss=1.6]\u001b[A"
     ]
    },
    {
     "name": "stdout",
     "output_type": "stream",
     "text": [
      "29\n",
      "30\n",
      "31\n",
      "32\n",
      "0\n"
     ]
    },
    {
     "name": "stderr",
     "output_type": "stream",
     "text": [
      "\n",
      "Epoch [126/300]:  20%|███████████▏                                            | 1/5 [00:00<00:02,  1.82it/s, loss=0.895]\u001b[A"
     ]
    },
    {
     "name": "stdout",
     "output_type": "stream",
     "text": [
      "1\n"
     ]
    },
    {
     "name": "stderr",
     "output_type": "stream",
     "text": [
      "\n",
      "Epoch [126/300]:  20%|███████████▏                                            | 1/5 [00:00<00:02,  1.82it/s, loss=0.776]\u001b[A\n",
      "Epoch [126/300]:  20%|███████████▍                                             | 1/5 [00:00<00:02,  1.82it/s, loss=1.17]\u001b[A\n",
      "Epoch [126/300]: 100%|████████████████████████████████████████████████████████| 5/5 [00:00<00:00,  8.18it/s, loss=0.133]\u001b[A\n"
     ]
    },
    {
     "name": "stdout",
     "output_type": "stream",
     "text": [
      "2\n",
      "3\n",
      "4\n",
      "model improved and saved\n",
      "\n",
      "Epoch 126: train loss: 0.8201298840118177 \n",
      "Epoch 126: valid loss: 0.914844098687172 \n"
     ]
    },
    {
     "name": "stderr",
     "output_type": "stream",
     "text": [
      "  0%|                                                                                            | 0/33 [00:00<?, ?it/s]\n",
      "Epoch [127/300]:   0%|                                                                           | 0/33 [00:00<?, ?it/s]\u001b[A\n",
      "Epoch [127/300]:   0%|                                                                | 0/33 [00:00<?, ?it/s, loss=0.75]\u001b[A"
     ]
    },
    {
     "name": "stdout",
     "output_type": "stream",
     "text": [
      "0\n",
      "1\n",
      "2\n"
     ]
    },
    {
     "name": "stderr",
     "output_type": "stream",
     "text": [
      "\r",
      "Epoch [127/300]:   0%|                                                               | 0/33 [00:00<?, ?it/s, loss=0.695]"
     ]
    },
    {
     "name": "stdout",
     "output_type": "stream",
     "text": [
      "3\n"
     ]
    },
    {
     "name": "stderr",
     "output_type": "stream",
     "text": [
      "Epoch [127/300]:  21%|███████████▋                                           | 7/33 [00:00<00:00, 61.87it/s, loss=0.897]"
     ]
    },
    {
     "name": "stdout",
     "output_type": "stream",
     "text": [
      "4\n",
      "5\n",
      "6\n",
      "7\n",
      "8\n"
     ]
    },
    {
     "name": "stderr",
     "output_type": "stream",
     "text": [
      "\r",
      "Epoch [127/300]:  21%|███████████▋                                           | 7/33 [00:00<00:00, 61.87it/s, loss=0.883]"
     ]
    },
    {
     "name": "stdout",
     "output_type": "stream",
     "text": [
      "9\n"
     ]
    },
    {
     "name": "stderr",
     "output_type": "stream",
     "text": [
      "Epoch [127/300]:  21%|███████████▋                                           | 7/33 [00:00<00:00, 61.87it/s, loss=0.863]"
     ]
    },
    {
     "name": "stdout",
     "output_type": "stream",
     "text": [
      "10\n",
      "11\n",
      "12\n",
      "13\n"
     ]
    },
    {
     "name": "stderr",
     "output_type": "stream",
     "text": [
      "Epoch [127/300]:  42%|██████████████████████▉                               | 14/33 [00:00<00:00, 62.64it/s, loss=0.694]"
     ]
    },
    {
     "name": "stdout",
     "output_type": "stream",
     "text": [
      "14\n",
      "15\n"
     ]
    },
    {
     "name": "stderr",
     "output_type": "stream",
     "text": [
      "\r",
      "Epoch [127/300]:  42%|██████████████████████▉                               | 14/33 [00:00<00:00, 62.64it/s, loss=0.769]"
     ]
    },
    {
     "name": "stdout",
     "output_type": "stream",
     "text": [
      "16\n"
     ]
    },
    {
     "name": "stderr",
     "output_type": "stream",
     "text": [
      "Epoch [127/300]:  64%|██████████████████████████████████▎                   | 21/33 [00:00<00:00, 62.12it/s, loss=0.877]"
     ]
    },
    {
     "name": "stdout",
     "output_type": "stream",
     "text": [
      "17\n",
      "18\n",
      "19\n",
      "20\n",
      "21\n"
     ]
    },
    {
     "name": "stderr",
     "output_type": "stream",
     "text": [
      "\r",
      "Epoch [127/300]:  64%|██████████████████████████████████▎                   | 21/33 [00:00<00:00, 62.12it/s, loss=0.682]"
     ]
    },
    {
     "name": "stdout",
     "output_type": "stream",
     "text": [
      "22\n"
     ]
    },
    {
     "name": "stderr",
     "output_type": "stream",
     "text": [
      "Epoch [127/300]:  64%|██████████████████████████████████▎                   | 21/33 [00:00<00:00, 62.12it/s, loss=0.977]"
     ]
    },
    {
     "name": "stdout",
     "output_type": "stream",
     "text": [
      "23\n",
      "24\n",
      "25\n",
      "26\n"
     ]
    },
    {
     "name": "stderr",
     "output_type": "stream",
     "text": [
      "Epoch [127/300]:  85%|██████████████████████████████████████████████▋        | 28/33 [00:00<00:00, 61.14it/s, loss=1.16]"
     ]
    },
    {
     "name": "stdout",
     "output_type": "stream",
     "text": [
      "27\n",
      "28\n"
     ]
    },
    {
     "name": "stderr",
     "output_type": "stream",
     "text": [
      "Epoch [127/300]: 100%|██████████████████████████████████████████████████████| 33/33 [00:00<00:00, 61.59it/s, loss=0.292]\n",
      "\n",
      "Epoch [127/300]:   0%|                                                                  | 0/5 [00:00<?, ?it/s, loss=1.6]\u001b[A\n",
      "Epoch [127/300]:  20%|███████████▌                                              | 1/5 [00:00<00:02,  1.81it/s, loss=1.6]\u001b[A"
     ]
    },
    {
     "name": "stdout",
     "output_type": "stream",
     "text": [
      "29\n",
      "30\n",
      "31\n",
      "32\n",
      "0\n"
     ]
    },
    {
     "name": "stderr",
     "output_type": "stream",
     "text": [
      "\n",
      "Epoch [127/300]:  20%|███████████▏                                            | 1/5 [00:00<00:02,  1.81it/s, loss=0.896]\u001b[A"
     ]
    },
    {
     "name": "stdout",
     "output_type": "stream",
     "text": [
      "1\n"
     ]
    },
    {
     "name": "stderr",
     "output_type": "stream",
     "text": [
      "\n",
      "Epoch [127/300]:  20%|███████████▏                                            | 1/5 [00:00<00:02,  1.81it/s, loss=0.777]\u001b[A\n",
      "Epoch [127/300]:  20%|███████████▍                                             | 1/5 [00:00<00:02,  1.81it/s, loss=1.17]\u001b[A\n",
      "Epoch [127/300]: 100%|████████████████████████████████████████████████████████| 5/5 [00:00<00:00,  8.16it/s, loss=0.133]\u001b[A\n"
     ]
    },
    {
     "name": "stdout",
     "output_type": "stream",
     "text": [
      "2\n",
      "3\n",
      "4\n",
      "model improved and saved\n",
      "\n",
      "Epoch 127: train loss: 0.8069793536807551 \n",
      "Epoch 127: valid loss: 0.9151820719242096 \n"
     ]
    },
    {
     "name": "stderr",
     "output_type": "stream",
     "text": [
      "  0%|                                                                                            | 0/33 [00:00<?, ?it/s]\n",
      "Epoch [128/300]:   0%|                                                                           | 0/33 [00:00<?, ?it/s]\u001b[A\n",
      "Epoch [128/300]:   0%|                                                               | 0/33 [00:00<?, ?it/s, loss=0.649]\u001b[A"
     ]
    },
    {
     "name": "stdout",
     "output_type": "stream",
     "text": [
      "0\n"
     ]
    },
    {
     "name": "stderr",
     "output_type": "stream",
     "text": [
      "Epoch [128/300]:   0%|                                                                | 0/33 [00:00<?, ?it/s, loss=0.75]"
     ]
    },
    {
     "name": "stdout",
     "output_type": "stream",
     "text": [
      "1\n",
      "2\n"
     ]
    },
    {
     "name": "stderr",
     "output_type": "stream",
     "text": [
      "Epoch [128/300]:  18%|██████████▏                                             | 6/33 [00:00<00:00, 53.18it/s, loss=0.75]"
     ]
    },
    {
     "name": "stdout",
     "output_type": "stream",
     "text": [
      "3\n",
      "4\n",
      "5\n",
      "6\n",
      "7\n"
     ]
    },
    {
     "name": "stderr",
     "output_type": "stream",
     "text": [
      "\r",
      "Epoch [128/300]:  18%|██████████                                             | 6/33 [00:00<00:00, 53.18it/s, loss=0.847]"
     ]
    },
    {
     "name": "stdout",
     "output_type": "stream",
     "text": [
      "8\n"
     ]
    },
    {
     "name": "stderr",
     "output_type": "stream",
     "text": [
      "Epoch [128/300]:  39%|█████████████████████▎                                | 13/33 [00:00<00:00, 58.39it/s, loss=0.591]"
     ]
    },
    {
     "name": "stdout",
     "output_type": "stream",
     "text": [
      "9\n",
      "10\n",
      "11\n",
      "12\n"
     ]
    },
    {
     "name": "stderr",
     "output_type": "stream",
     "text": [
      "\r",
      "Epoch [128/300]:  39%|█████████████████████▋                                 | 13/33 [00:00<00:00, 58.39it/s, loss=0.92]"
     ]
    },
    {
     "name": "stdout",
     "output_type": "stream",
     "text": [
      "13\n"
     ]
    },
    {
     "name": "stderr",
     "output_type": "stream",
     "text": [
      "Epoch [128/300]:  39%|█████████████████████▎                                | 13/33 [00:00<00:00, 58.39it/s, loss=0.724]"
     ]
    },
    {
     "name": "stdout",
     "output_type": "stream",
     "text": [
      "14\n",
      "15\n"
     ]
    },
    {
     "name": "stderr",
     "output_type": "stream",
     "text": [
      "Epoch [128/300]:  58%|███████████████████████████████                       | 19/33 [00:00<00:00, 58.97it/s, loss=0.798]"
     ]
    },
    {
     "name": "stdout",
     "output_type": "stream",
     "text": [
      "16\n",
      "17\n",
      "18\n",
      "19\n"
     ]
    },
    {
     "name": "stderr",
     "output_type": "stream",
     "text": [
      "\r",
      "Epoch [128/300]:  58%|███████████████████████████████▋                       | 19/33 [00:00<00:00, 58.97it/s, loss=0.63]"
     ]
    },
    {
     "name": "stdout",
     "output_type": "stream",
     "text": [
      "20\n"
     ]
    },
    {
     "name": "stderr",
     "output_type": "stream",
     "text": [
      "Epoch [128/300]:  76%|████████████████████████████████████████▉             | 25/33 [00:00<00:00, 57.47it/s, loss=0.927]"
     ]
    },
    {
     "name": "stdout",
     "output_type": "stream",
     "text": [
      "21\n",
      "22\n",
      "23\n",
      "24\n"
     ]
    },
    {
     "name": "stderr",
     "output_type": "stream",
     "text": [
      "\r",
      "Epoch [128/300]:  76%|████████████████████████████████████████▉             | 25/33 [00:00<00:00, 57.47it/s, loss=0.855]"
     ]
    },
    {
     "name": "stdout",
     "output_type": "stream",
     "text": [
      "25\n"
     ]
    },
    {
     "name": "stderr",
     "output_type": "stream",
     "text": [
      "Epoch [128/300]:  76%|████████████████████████████████████████▉             | 25/33 [00:00<00:00, 57.47it/s, loss=0.862]"
     ]
    },
    {
     "name": "stdout",
     "output_type": "stream",
     "text": [
      "26\n",
      "27\n"
     ]
    },
    {
     "name": "stderr",
     "output_type": "stream",
     "text": [
      "Epoch [128/300]: 100%|██████████████████████████████████████████████████████| 33/33 [00:00<00:00, 59.14it/s, loss=0.906]"
     ]
    },
    {
     "name": "stdout",
     "output_type": "stream",
     "text": [
      "28\n",
      "29\n",
      "30\n",
      "31\n",
      "32\n"
     ]
    },
    {
     "name": "stderr",
     "output_type": "stream",
     "text": [
      "\n",
      "\n",
      "Epoch [128/300]:   0%|                                                                  | 0/5 [00:00<?, ?it/s, loss=1.6]\u001b[A\n",
      "Epoch [128/300]:  20%|███████████▌                                              | 1/5 [00:00<00:02,  1.74it/s, loss=1.6]\u001b[A"
     ]
    },
    {
     "name": "stdout",
     "output_type": "stream",
     "text": [
      "0\n"
     ]
    },
    {
     "name": "stderr",
     "output_type": "stream",
     "text": [
      "\n",
      "Epoch [128/300]:  20%|███████████▏                                            | 1/5 [00:00<00:02,  1.74it/s, loss=0.895]\u001b[A\n",
      "Epoch [128/300]:  20%|███████████▏                                            | 1/5 [00:00<00:02,  1.74it/s, loss=0.776]\u001b[A\n",
      "Epoch [128/300]:  20%|███████████▍                                             | 1/5 [00:00<00:02,  1.74it/s, loss=1.17]\u001b[A\n",
      "Epoch [128/300]: 100%|████████████████████████████████████████████████████████| 5/5 [00:00<00:00,  7.88it/s, loss=0.133]\u001b[A\n"
     ]
    },
    {
     "name": "stdout",
     "output_type": "stream",
     "text": [
      "1\n",
      "2\n",
      "3\n",
      "4\n",
      "model improved and saved\n",
      "\n",
      "Epoch 128: train loss: 0.8293533912210753 \n",
      "Epoch 128: valid loss: 0.9148538440465928 \n"
     ]
    },
    {
     "name": "stderr",
     "output_type": "stream",
     "text": [
      "  0%|                                                                                            | 0/33 [00:00<?, ?it/s]\n",
      "Epoch [129/300]:   0%|                                                                           | 0/33 [00:00<?, ?it/s]\u001b[A\n",
      "Epoch [129/300]:   0%|                                                               | 0/33 [00:00<?, ?it/s, loss=0.894]\u001b[A"
     ]
    },
    {
     "name": "stdout",
     "output_type": "stream",
     "text": [
      "0\n",
      "1\n"
     ]
    },
    {
     "name": "stderr",
     "output_type": "stream",
     "text": [
      "Epoch [129/300]:  18%|██████████▏                                             | 6/33 [00:00<00:00, 55.63it/s, loss=0.77]"
     ]
    },
    {
     "name": "stdout",
     "output_type": "stream",
     "text": [
      "2\n",
      "3\n",
      "4\n",
      "5\n",
      "6\n"
     ]
    },
    {
     "name": "stderr",
     "output_type": "stream",
     "text": [
      "\r",
      "Epoch [129/300]:  18%|██████████                                             | 6/33 [00:00<00:00, 55.63it/s, loss=0.736]"
     ]
    },
    {
     "name": "stdout",
     "output_type": "stream",
     "text": [
      "7\n"
     ]
    },
    {
     "name": "stderr",
     "output_type": "stream",
     "text": [
      "Epoch [129/300]:  36%|█████████████████████                                     | 12/33 [00:00<00:00, 56.80it/s, loss=1]"
     ]
    },
    {
     "name": "stdout",
     "output_type": "stream",
     "text": [
      "8\n",
      "9\n",
      "10\n",
      "11\n"
     ]
    },
    {
     "name": "stderr",
     "output_type": "stream",
     "text": [
      "Epoch [129/300]:  36%|████████████████████                                   | 12/33 [00:00<00:00, 56.80it/s, loss=1.23]"
     ]
    },
    {
     "name": "stdout",
     "output_type": "stream",
     "text": [
      "12\n",
      "13\n"
     ]
    },
    {
     "name": "stderr",
     "output_type": "stream",
     "text": [
      "Epoch [129/300]:  55%|█████████████████████████████▍                        | 18/33 [00:00<00:00, 56.05it/s, loss=0.702]"
     ]
    },
    {
     "name": "stdout",
     "output_type": "stream",
     "text": [
      "14\n",
      "15\n",
      "16\n",
      "17\n",
      "18\n"
     ]
    },
    {
     "name": "stderr",
     "output_type": "stream",
     "text": [
      "\r",
      "Epoch [129/300]:  55%|█████████████████████████████▍                        | 18/33 [00:00<00:00, 56.05it/s, loss=0.685]"
     ]
    },
    {
     "name": "stdout",
     "output_type": "stream",
     "text": [
      "19\n"
     ]
    },
    {
     "name": "stderr",
     "output_type": "stream",
     "text": [
      "Epoch [129/300]:  76%|████████████████████████████████████████▉             | 25/33 [00:00<00:00, 60.26it/s, loss=0.982]"
     ]
    },
    {
     "name": "stdout",
     "output_type": "stream",
     "text": [
      "20\n",
      "21\n",
      "22\n",
      "23\n",
      "24\n"
     ]
    },
    {
     "name": "stderr",
     "output_type": "stream",
     "text": [
      "Epoch [129/300]:  76%|████████████████████████████████████████▉             | 25/33 [00:00<00:00, 60.26it/s, loss=0.683]"
     ]
    },
    {
     "name": "stdout",
     "output_type": "stream",
     "text": [
      "25\n",
      "26\n"
     ]
    },
    {
     "name": "stderr",
     "output_type": "stream",
     "text": [
      "Epoch [129/300]: 100%|██████████████████████████████████████████████████████| 33/33 [00:00<00:00, 60.50it/s, loss=0.725]"
     ]
    },
    {
     "name": "stdout",
     "output_type": "stream",
     "text": [
      "27\n",
      "28\n",
      "29\n",
      "30\n",
      "31\n",
      "32\n"
     ]
    },
    {
     "name": "stderr",
     "output_type": "stream",
     "text": [
      "\n",
      "\n",
      "Epoch [129/300]:   0%|                                                                  | 0/5 [00:00<?, ?it/s, loss=1.6]\u001b[A\n",
      "Epoch [129/300]:  20%|███████████▌                                              | 1/5 [00:00<00:02,  1.78it/s, loss=1.6]\u001b[A\n",
      "Epoch [129/300]:  20%|███████████▏                                            | 1/5 [00:00<00:02,  1.78it/s, loss=0.895]\u001b[A\n",
      "Epoch [129/300]:  20%|███████████▏                                            | 1/5 [00:00<00:02,  1.78it/s, loss=0.777]\u001b[A\n",
      "Epoch [129/300]:  20%|███████████▍                                             | 1/5 [00:00<00:02,  1.78it/s, loss=1.17]\u001b[A\n",
      "Epoch [129/300]: 100%|████████████████████████████████████████████████████████| 5/5 [00:00<00:00,  8.03it/s, loss=0.133]\u001b[A\n"
     ]
    },
    {
     "name": "stdout",
     "output_type": "stream",
     "text": [
      "0\n",
      "1\n",
      "2\n",
      "3\n",
      "4\n",
      "model improved and saved\n",
      "\n",
      "Epoch 129: train loss: 0.8233858383063114 \n",
      "Epoch 129: valid loss: 0.9149570643901825 \n"
     ]
    },
    {
     "name": "stderr",
     "output_type": "stream",
     "text": [
      "  0%|                                                                                            | 0/33 [00:00<?, ?it/s]\n",
      "Epoch [130/300]:   0%|                                                                           | 0/33 [00:00<?, ?it/s]\u001b[A\n",
      "Epoch [130/300]:   0%|                                                               | 0/33 [00:00<?, ?it/s, loss=0.696]\u001b[A"
     ]
    },
    {
     "name": "stdout",
     "output_type": "stream",
     "text": [
      "0\n"
     ]
    },
    {
     "name": "stderr",
     "output_type": "stream",
     "text": [
      "Epoch [130/300]:  18%|██████████                                             | 6/33 [00:00<00:00, 53.77it/s, loss=0.991]"
     ]
    },
    {
     "name": "stdout",
     "output_type": "stream",
     "text": [
      "1\n",
      "2\n",
      "3\n",
      "4\n",
      "5\n",
      "6\n"
     ]
    },
    {
     "name": "stderr",
     "output_type": "stream",
     "text": [
      "Epoch [130/300]:  18%|██████████                                             | 6/33 [00:00<00:00, 53.77it/s, loss=0.929]"
     ]
    },
    {
     "name": "stdout",
     "output_type": "stream",
     "text": [
      "7\n",
      "8\n",
      "9\n"
     ]
    },
    {
     "name": "stderr",
     "output_type": "stream",
     "text": [
      "Epoch [130/300]:  36%|████████████████████                                   | 12/33 [00:00<00:00, 38.60it/s, loss=0.95]"
     ]
    },
    {
     "name": "stdout",
     "output_type": "stream",
     "text": [
      "10\n",
      "11\n",
      "12\n",
      "13\n",
      "14\n"
     ]
    },
    {
     "name": "stderr",
     "output_type": "stream",
     "text": [
      "Epoch [130/300]:  58%|███████████████████████████████                       | 19/33 [00:00<00:00, 48.88it/s, loss=0.905]"
     ]
    },
    {
     "name": "stdout",
     "output_type": "stream",
     "text": [
      "15\n",
      "16\n",
      "17\n",
      "18\n",
      "19\n",
      "20\n",
      "21\n",
      "22\n",
      "23\n"
     ]
    },
    {
     "name": "stderr",
     "output_type": "stream",
     "text": [
      "Epoch [130/300]:  79%|██████████████████████████████████████████▌           | 26/33 [00:00<00:00, 55.29it/s, loss=0.689]"
     ]
    },
    {
     "name": "stdout",
     "output_type": "stream",
     "text": [
      "24\n",
      "25\n",
      "26\n",
      "27\n",
      "28\n"
     ]
    },
    {
     "name": "stderr",
     "output_type": "stream",
     "text": [
      "Epoch [130/300]: 100%|██████████████████████████████████████████████████████| 33/33 [00:00<00:00, 54.69it/s, loss=0.428]\n",
      "\n",
      "Epoch [130/300]:   0%|                                                                  | 0/5 [00:00<?, ?it/s, loss=1.6]\u001b[A\n",
      "Epoch [130/300]:  20%|███████████▌                                              | 1/5 [00:00<00:02,  1.63it/s, loss=1.6]\u001b[A\n",
      "Epoch [130/300]:  20%|███████████▏                                            | 1/5 [00:00<00:02,  1.63it/s, loss=0.895]\u001b[A\n",
      "Epoch [130/300]:  20%|███████████▏                                            | 1/5 [00:00<00:02,  1.63it/s, loss=0.777]\u001b[A\n",
      "Epoch [130/300]:  20%|███████████▍                                             | 1/5 [00:00<00:02,  1.63it/s, loss=1.17]\u001b[A\n",
      "Epoch [130/300]: 100%|████████████████████████████████████████████████████████| 5/5 [00:00<00:00,  7.44it/s, loss=0.133]\u001b[A\n"
     ]
    },
    {
     "name": "stdout",
     "output_type": "stream",
     "text": [
      "29\n",
      "30\n",
      "31\n",
      "32\n",
      "0\n",
      "1\n",
      "2\n",
      "3\n",
      "4\n",
      "model improved and saved\n",
      "\n",
      "Epoch 130: train loss: 0.8152962525685629 \n",
      "Epoch 130: valid loss: 0.915010517835617 \n"
     ]
    },
    {
     "name": "stderr",
     "output_type": "stream",
     "text": [
      "  0%|                                                                                            | 0/33 [00:00<?, ?it/s]\n",
      "Epoch [131/300]:   0%|                                                                           | 0/33 [00:00<?, ?it/s]\u001b[A\n",
      "Epoch [131/300]:   0%|                                                               | 0/33 [00:00<?, ?it/s, loss=0.761]\u001b[A"
     ]
    },
    {
     "name": "stdout",
     "output_type": "stream",
     "text": [
      "0\n",
      "1\n",
      "2\n",
      "3\n"
     ]
    },
    {
     "name": "stderr",
     "output_type": "stream",
     "text": [
      "Epoch [131/300]:  36%|███████████████████▋                                  | 12/33 [00:00<00:00, 55.81it/s, loss=0.632]"
     ]
    },
    {
     "name": "stdout",
     "output_type": "stream",
     "text": [
      "4\n",
      "5\n",
      "6\n",
      "7\n",
      "8\n",
      "9\n",
      "10\n",
      "11\n",
      "12\n"
     ]
    },
    {
     "name": "stderr",
     "output_type": "stream",
     "text": [
      "Epoch [131/300]:  36%|████████████████████                                   | 12/33 [00:00<00:00, 55.81it/s, loss=1.03]"
     ]
    },
    {
     "name": "stdout",
     "output_type": "stream",
     "text": [
      "13\n",
      "14\n",
      "15\n"
     ]
    },
    {
     "name": "stderr",
     "output_type": "stream",
     "text": [
      "Epoch [131/300]:  76%|████████████████████████████████████████▉             | 25/33 [00:00<00:00, 57.43it/s, loss=0.889]"
     ]
    },
    {
     "name": "stdout",
     "output_type": "stream",
     "text": [
      "16\n",
      "17\n",
      "18\n",
      "19\n",
      "20\n",
      "21\n",
      "22\n",
      "23\n",
      "24\n"
     ]
    },
    {
     "name": "stderr",
     "output_type": "stream",
     "text": [
      "Epoch [131/300]:  76%|████████████████████████████████████████▉             | 25/33 [00:00<00:00, 57.43it/s, loss=0.747]"
     ]
    },
    {
     "name": "stdout",
     "output_type": "stream",
     "text": [
      "25\n",
      "26\n",
      "27\n",
      "28\n"
     ]
    },
    {
     "name": "stderr",
     "output_type": "stream",
     "text": [
      "Epoch [131/300]: 100%|███████████████████████████████████████████████████████| 33/33 [00:00<00:00, 58.57it/s, loss=1.01]\n",
      "\n",
      "Epoch [131/300]:   0%|                                                                  | 0/5 [00:00<?, ?it/s, loss=1.6]\u001b[A\n",
      "Epoch [131/300]:  20%|███████████▌                                              | 1/5 [00:00<00:02,  1.71it/s, loss=1.6]\u001b[A\n",
      "Epoch [131/300]:  20%|███████████▏                                            | 1/5 [00:00<00:02,  1.71it/s, loss=0.895]\u001b[A\n",
      "Epoch [131/300]:  20%|███████████▏                                            | 1/5 [00:00<00:02,  1.71it/s, loss=0.777]\u001b[A"
     ]
    },
    {
     "name": "stdout",
     "output_type": "stream",
     "text": [
      "29\n",
      "30\n",
      "31\n",
      "32\n",
      "0\n",
      "1\n",
      "2\n"
     ]
    },
    {
     "name": "stderr",
     "output_type": "stream",
     "text": [
      "\n",
      "Epoch [131/300]:  20%|███████████▍                                             | 1/5 [00:00<00:02,  1.71it/s, loss=1.17]\u001b[A\n",
      "Epoch [131/300]: 100%|████████████████████████████████████████████████████████| 5/5 [00:00<00:00,  7.32it/s, loss=0.133]\u001b[A\n"
     ]
    },
    {
     "name": "stdout",
     "output_type": "stream",
     "text": [
      "3\n",
      "4\n",
      "model improved and saved\n",
      "\n",
      "Epoch 131: train loss: 0.8292397576751132 \n",
      "Epoch 131: valid loss: 0.9150800049304962 \n"
     ]
    },
    {
     "name": "stderr",
     "output_type": "stream",
     "text": [
      "  0%|                                                                                            | 0/33 [00:00<?, ?it/s]\n",
      "Epoch [132/300]:   0%|                                                                           | 0/33 [00:00<?, ?it/s]\u001b[A\n",
      "Epoch [132/300]:  15%|████████▎                                              | 5/33 [00:00<00:00, 43.73it/s, loss=0.706]\u001b[A"
     ]
    },
    {
     "name": "stdout",
     "output_type": "stream",
     "text": [
      "0\n",
      "1\n",
      "2\n",
      "3\n",
      "4\n",
      "5\n",
      "6\n"
     ]
    },
    {
     "name": "stderr",
     "output_type": "stream",
     "text": [
      "Epoch [132/300]:  30%|████████████████▎                                     | 10/33 [00:00<00:00, 44.40it/s, loss=0.873]"
     ]
    },
    {
     "name": "stdout",
     "output_type": "stream",
     "text": [
      "7\n",
      "8\n",
      "9\n"
     ]
    },
    {
     "name": "stderr",
     "output_type": "stream",
     "text": [
      "Epoch [132/300]:  45%|████████████████████████▌                             | 15/33 [00:00<00:00, 45.55it/s, loss=0.647]"
     ]
    },
    {
     "name": "stdout",
     "output_type": "stream",
     "text": [
      "10\n",
      "11\n",
      "12\n",
      "13\n",
      "14\n",
      "15\n",
      "16\n"
     ]
    },
    {
     "name": "stderr",
     "output_type": "stream",
     "text": [
      "Epoch [132/300]:  64%|██████████████████████████████████▎                   | 21/33 [00:00<00:00, 49.53it/s, loss=0.864]"
     ]
    },
    {
     "name": "stdout",
     "output_type": "stream",
     "text": [
      "17\n",
      "18\n",
      "19\n",
      "20\n"
     ]
    },
    {
     "name": "stderr",
     "output_type": "stream",
     "text": [
      "Epoch [132/300]:  79%|██████████████████████████████████████████▌           | 26/33 [00:00<00:00, 47.73it/s, loss=0.833]"
     ]
    },
    {
     "name": "stdout",
     "output_type": "stream",
     "text": [
      "21\n",
      "22\n",
      "23\n",
      "24\n",
      "25\n",
      "26\n",
      "27\n"
     ]
    },
    {
     "name": "stderr",
     "output_type": "stream",
     "text": [
      "Epoch [132/300]: 100%|██████████████████████████████████████████████████████| 33/33 [00:00<00:00, 50.07it/s, loss=0.993]\n",
      "\n",
      "Epoch [132/300]:   0%|                                                                  | 0/5 [00:00<?, ?it/s, loss=1.6]"
     ]
    },
    {
     "name": "stdout",
     "output_type": "stream",
     "text": [
      "28\n",
      "29\n",
      "30\n",
      "31\n",
      "32\n",
      "0\n"
     ]
    },
    {
     "name": "stderr",
     "output_type": "stream",
     "text": [
      "\u001b[A\n",
      "Epoch [132/300]:  20%|███████████▌                                              | 1/5 [00:00<00:02,  1.49it/s, loss=1.6]\u001b[A\n",
      "Epoch [132/300]:  20%|███████████▏                                            | 1/5 [00:00<00:02,  1.49it/s, loss=0.896]\u001b[A\n",
      "Epoch [132/300]:  20%|███████████▏                                            | 1/5 [00:00<00:02,  1.49it/s, loss=0.777]\u001b[A\n",
      "Epoch [132/300]:  20%|███████████▍                                             | 1/5 [00:00<00:02,  1.49it/s, loss=1.17]\u001b[A\n",
      "Epoch [132/300]: 100%|████████████████████████████████████████████████████████| 5/5 [00:00<00:00,  6.75it/s, loss=0.133]\u001b[A\n"
     ]
    },
    {
     "name": "stdout",
     "output_type": "stream",
     "text": [
      "1\n",
      "2\n",
      "3\n",
      "4\n",
      "model improved and saved\n",
      "\n",
      "Epoch 132: train loss: 0.8337294188412753 \n",
      "Epoch 132: valid loss: 0.9151051938533783 \n"
     ]
    },
    {
     "name": "stderr",
     "output_type": "stream",
     "text": [
      "  0%|                                                                                            | 0/33 [00:00<?, ?it/s]\n",
      "Epoch [133/300]:   0%|                                                                           | 0/33 [00:00<?, ?it/s]\u001b[A\n",
      "Epoch [133/300]:   0%|                                                               | 0/33 [00:00<?, ?it/s, loss=0.983]\u001b[A"
     ]
    },
    {
     "name": "stdout",
     "output_type": "stream",
     "text": [
      "0\n",
      "1\n"
     ]
    },
    {
     "name": "stderr",
     "output_type": "stream",
     "text": [
      "Epoch [133/300]:  15%|████████▎                                              | 5/33 [00:00<00:00, 46.01it/s, loss=0.626]"
     ]
    },
    {
     "name": "stdout",
     "output_type": "stream",
     "text": [
      "2\n",
      "3\n",
      "4\n",
      "5\n"
     ]
    },
    {
     "name": "stderr",
     "output_type": "stream",
     "text": [
      "Epoch [133/300]:  30%|████████████████▎                                     | 10/33 [00:00<00:00, 43.53it/s, loss=0.699]"
     ]
    },
    {
     "name": "stdout",
     "output_type": "stream",
     "text": [
      "6\n",
      "7\n",
      "8\n",
      "9\n"
     ]
    },
    {
     "name": "stderr",
     "output_type": "stream",
     "text": [
      "\r",
      "Epoch [133/300]:  30%|████████████████▋                                      | 10/33 [00:00<00:00, 43.53it/s, loss=1.24]"
     ]
    },
    {
     "name": "stdout",
     "output_type": "stream",
     "text": [
      "10\n"
     ]
    },
    {
     "name": "stderr",
     "output_type": "stream",
     "text": [
      "Epoch [133/300]:  45%|████████████████████████▌                             | 15/33 [00:00<00:00, 43.73it/s, loss=0.722]"
     ]
    },
    {
     "name": "stdout",
     "output_type": "stream",
     "text": [
      "11\n",
      "12\n",
      "13\n",
      "14\n"
     ]
    },
    {
     "name": "stderr",
     "output_type": "stream",
     "text": [
      "Epoch [133/300]:  64%|██████████████████████████████████▎                   | 21/33 [00:00<00:00, 47.95it/s, loss=0.588]"
     ]
    },
    {
     "name": "stdout",
     "output_type": "stream",
     "text": [
      "15\n",
      "16\n",
      "17\n",
      "18\n",
      "19\n",
      "20\n"
     ]
    },
    {
     "name": "stderr",
     "output_type": "stream",
     "text": [
      "\r",
      "Epoch [133/300]:  64%|██████████████████████████████████▎                   | 21/33 [00:00<00:00, 47.95it/s, loss=0.733]"
     ]
    },
    {
     "name": "stdout",
     "output_type": "stream",
     "text": [
      "21\n"
     ]
    },
    {
     "name": "stderr",
     "output_type": "stream",
     "text": [
      "Epoch [133/300]:  85%|██████████████████████████████████████████████▋        | 28/33 [00:00<00:00, 53.17it/s, loss=1.02]"
     ]
    },
    {
     "name": "stdout",
     "output_type": "stream",
     "text": [
      "22\n",
      "23\n",
      "24\n",
      "25\n",
      "26\n",
      "27\n"
     ]
    },
    {
     "name": "stderr",
     "output_type": "stream",
     "text": [
      "Epoch [133/300]: 100%|███████████████████████████████████████████████████████| 33/33 [00:00<00:00, 51.97it/s, loss=1.15]\n",
      "\n",
      "Epoch [133/300]:   0%|                                                                  | 0/5 [00:00<?, ?it/s, loss=1.6]\u001b[A\n",
      "Epoch [133/300]:  20%|███████████▌                                              | 1/5 [00:00<00:02,  1.54it/s, loss=1.6]\u001b[A"
     ]
    },
    {
     "name": "stdout",
     "output_type": "stream",
     "text": [
      "28\n",
      "29\n",
      "30\n",
      "31\n",
      "32\n",
      "0\n"
     ]
    },
    {
     "name": "stderr",
     "output_type": "stream",
     "text": [
      "\n",
      "Epoch [133/300]:  20%|███████████▏                                            | 1/5 [00:00<00:02,  1.54it/s, loss=0.896]\u001b[A"
     ]
    },
    {
     "name": "stdout",
     "output_type": "stream",
     "text": [
      "1\n"
     ]
    },
    {
     "name": "stderr",
     "output_type": "stream",
     "text": [
      "\n",
      "Epoch [133/300]:  20%|███████████▏                                            | 1/5 [00:00<00:02,  1.54it/s, loss=0.777]\u001b[A\n",
      "Epoch [133/300]:  20%|███████████▍                                             | 1/5 [00:00<00:02,  1.54it/s, loss=1.17]\u001b[A\n",
      "Epoch [133/300]: 100%|████████████████████████████████████████████████████████| 5/5 [00:00<00:00,  6.91it/s, loss=0.133]\u001b[A\n"
     ]
    },
    {
     "name": "stdout",
     "output_type": "stream",
     "text": [
      "2\n",
      "3\n",
      "4\n",
      "model improved and saved\n",
      "\n",
      "Epoch 133: train loss: 0.8334498026154258 \n",
      "Epoch 133: valid loss: 0.9155699670314789 \n"
     ]
    },
    {
     "name": "stderr",
     "output_type": "stream",
     "text": [
      "  0%|                                                                                            | 0/33 [00:00<?, ?it/s]\n",
      "Epoch [134/300]:   0%|                                                                           | 0/33 [00:00<?, ?it/s]\u001b[A\n",
      "Epoch [134/300]:   0%|                                                               | 0/33 [00:00<?, ?it/s, loss=0.741]\u001b[A"
     ]
    },
    {
     "name": "stdout",
     "output_type": "stream",
     "text": [
      "0\n"
     ]
    },
    {
     "name": "stderr",
     "output_type": "stream",
     "text": [
      "Epoch [134/300]:  15%|████████▎                                              | 5/33 [00:00<00:00, 45.63it/s, loss=0.756]"
     ]
    },
    {
     "name": "stdout",
     "output_type": "stream",
     "text": [
      "1\n",
      "2\n",
      "3\n",
      "4\n",
      "5\n"
     ]
    },
    {
     "name": "stderr",
     "output_type": "stream",
     "text": [
      "\r",
      "Epoch [134/300]:  15%|████████▎                                              | 5/33 [00:00<00:00, 45.63it/s, loss=0.615]"
     ]
    },
    {
     "name": "stdout",
     "output_type": "stream",
     "text": [
      "6\n"
     ]
    },
    {
     "name": "stderr",
     "output_type": "stream",
     "text": [
      "Epoch [134/300]:  33%|██████████████████                                    | 11/33 [00:00<00:00, 49.95it/s, loss=0.736]"
     ]
    },
    {
     "name": "stdout",
     "output_type": "stream",
     "text": [
      "7\n",
      "8\n",
      "9\n",
      "10\n"
     ]
    },
    {
     "name": "stderr",
     "output_type": "stream",
     "text": [
      "\r",
      "Epoch [134/300]:  33%|██████████████████                                    | 11/33 [00:00<00:00, 49.95it/s, loss=0.861]"
     ]
    },
    {
     "name": "stdout",
     "output_type": "stream",
     "text": [
      "11\n"
     ]
    },
    {
     "name": "stderr",
     "output_type": "stream",
     "text": [
      "Epoch [134/300]:  52%|███████████████████████████▊                          | 17/33 [00:00<00:00, 54.09it/s, loss=0.613]"
     ]
    },
    {
     "name": "stdout",
     "output_type": "stream",
     "text": [
      "12\n",
      "13\n",
      "14\n",
      "15\n",
      "16\n",
      "17\n"
     ]
    },
    {
     "name": "stderr",
     "output_type": "stream",
     "text": [
      "\r",
      "Epoch [134/300]:  52%|███████████████████████████▊                          | 17/33 [00:00<00:00, 54.09it/s, loss=0.873]"
     ]
    },
    {
     "name": "stdout",
     "output_type": "stream",
     "text": [
      "18\n"
     ]
    },
    {
     "name": "stderr",
     "output_type": "stream",
     "text": [
      "Epoch [134/300]:  70%|██████████████████████████████████████▎                | 23/33 [00:00<00:00, 53.91it/s, loss=1.09]"
     ]
    },
    {
     "name": "stdout",
     "output_type": "stream",
     "text": [
      "19\n",
      "20\n",
      "21\n",
      "22\n"
     ]
    },
    {
     "name": "stderr",
     "output_type": "stream",
     "text": [
      "\r",
      "Epoch [134/300]:  70%|█████████████████████████████████████▋                | 23/33 [00:00<00:00, 53.91it/s, loss=0.811]"
     ]
    },
    {
     "name": "stdout",
     "output_type": "stream",
     "text": [
      "23\n"
     ]
    },
    {
     "name": "stderr",
     "output_type": "stream",
     "text": [
      "Epoch [134/300]:  88%|███████████████████████████████████████████████▍      | 29/33 [00:00<00:00, 55.68it/s, loss=0.841]"
     ]
    },
    {
     "name": "stdout",
     "output_type": "stream",
     "text": [
      "24\n",
      "25\n",
      "26\n",
      "27\n",
      "28\n",
      "29\n"
     ]
    },
    {
     "name": "stderr",
     "output_type": "stream",
     "text": [
      "Epoch [134/300]:  88%|████████████████████████████████████████████████▎      | 29/33 [00:00<00:00, 55.68it/s, loss=0.69]"
     ]
    },
    {
     "name": "stdout",
     "output_type": "stream",
     "text": [
      "30\n",
      "31\n"
     ]
    },
    {
     "name": "stderr",
     "output_type": "stream",
     "text": [
      "Epoch [134/300]: 100%|████████████████████████████████████████████████████████| 33/33 [00:00<00:00, 56.10it/s, loss=1.3]\n",
      "\n",
      "Epoch [134/300]:   0%|                                                                  | 0/5 [00:00<?, ?it/s, loss=1.6]\u001b[A\n",
      "Epoch [134/300]:  20%|███████████▌                                              | 1/5 [00:00<00:02,  1.66it/s, loss=1.6]\u001b[A\n",
      "Epoch [134/300]:  20%|███████████▏                                            | 1/5 [00:00<00:02,  1.66it/s, loss=0.896]\u001b[A\n",
      "Epoch [134/300]:  20%|███████████▏                                            | 1/5 [00:00<00:02,  1.66it/s, loss=0.777]\u001b[A"
     ]
    },
    {
     "name": "stdout",
     "output_type": "stream",
     "text": [
      "32\n",
      "0\n",
      "1\n",
      "2\n"
     ]
    },
    {
     "name": "stderr",
     "output_type": "stream",
     "text": [
      "\n",
      "Epoch [134/300]:  20%|███████████▍                                             | 1/5 [00:00<00:02,  1.66it/s, loss=1.17]\u001b[A"
     ]
    },
    {
     "name": "stdout",
     "output_type": "stream",
     "text": [
      "3\n"
     ]
    },
    {
     "name": "stderr",
     "output_type": "stream",
     "text": [
      "\n",
      "Epoch [134/300]: 100%|████████████████████████████████████████████████████████| 5/5 [00:00<00:00,  7.38it/s, loss=0.133]\u001b[A\n"
     ]
    },
    {
     "name": "stdout",
     "output_type": "stream",
     "text": [
      "4\n",
      "model improved and saved\n",
      "\n",
      "Epoch 134: train loss: 0.8351092049569795 \n",
      "Epoch 134: valid loss: 0.915704783797264 \n"
     ]
    },
    {
     "name": "stderr",
     "output_type": "stream",
     "text": [
      "  0%|                                                                                            | 0/33 [00:00<?, ?it/s]\n",
      "Epoch [135/300]:   0%|                                                                           | 0/33 [00:00<?, ?it/s]\u001b[A\n",
      "Epoch [135/300]:   0%|                                                               | 0/33 [00:00<?, ?it/s, loss=0.738]\u001b[A"
     ]
    },
    {
     "name": "stdout",
     "output_type": "stream",
     "text": [
      "0\n",
      "1\n",
      "2\n"
     ]
    },
    {
     "name": "stderr",
     "output_type": "stream",
     "text": [
      "\r",
      "Epoch [135/300]:   0%|                                                               | 0/33 [00:00<?, ?it/s, loss=0.806]"
     ]
    },
    {
     "name": "stdout",
     "output_type": "stream",
     "text": [
      "3\n"
     ]
    },
    {
     "name": "stderr",
     "output_type": "stream",
     "text": [
      "Epoch [135/300]:  15%|████████▍                                               | 5/33 [00:00<00:00, 46.35it/s, loss=1.05]"
     ]
    },
    {
     "name": "stdout",
     "output_type": "stream",
     "text": [
      "4\n",
      "5\n",
      "6\n",
      "7\n"
     ]
    },
    {
     "name": "stderr",
     "output_type": "stream",
     "text": [
      "\r",
      "Epoch [135/300]:  15%|████████▎                                              | 5/33 [00:00<00:00, 46.35it/s, loss=0.727]"
     ]
    },
    {
     "name": "stdout",
     "output_type": "stream",
     "text": [
      "8\n"
     ]
    },
    {
     "name": "stderr",
     "output_type": "stream",
     "text": [
      "Epoch [135/300]:  33%|██████████████████                                    | 11/33 [00:00<00:00, 49.24it/s, loss=0.865]"
     ]
    },
    {
     "name": "stdout",
     "output_type": "stream",
     "text": [
      "9\n",
      "10\n"
     ]
    },
    {
     "name": "stderr",
     "output_type": "stream",
     "text": [
      "Epoch [135/300]:  33%|██████████████████                                    | 11/33 [00:00<00:00, 49.24it/s, loss=0.729]"
     ]
    },
    {
     "name": "stdout",
     "output_type": "stream",
     "text": [
      "11\n",
      "12\n"
     ]
    },
    {
     "name": "stderr",
     "output_type": "stream",
     "text": [
      "Epoch [135/300]:  33%|██████████████████                                    | 11/33 [00:00<00:00, 49.24it/s, loss=0.917]"
     ]
    },
    {
     "name": "stdout",
     "output_type": "stream",
     "text": [
      "13\n",
      "14\n"
     ]
    },
    {
     "name": "stderr",
     "output_type": "stream",
     "text": [
      "Epoch [135/300]:  48%|██████████████████████████▏                           | 16/33 [00:00<00:00, 49.10it/s, loss=0.794]"
     ]
    },
    {
     "name": "stdout",
     "output_type": "stream",
     "text": [
      "15\n",
      "16\n",
      "17\n",
      "18\n"
     ]
    },
    {
     "name": "stderr",
     "output_type": "stream",
     "text": [
      "\r",
      "Epoch [135/300]:  48%|██████████████████████████▏                           | 16/33 [00:00<00:00, 49.10it/s, loss=0.515]"
     ]
    },
    {
     "name": "stdout",
     "output_type": "stream",
     "text": [
      "19\n"
     ]
    },
    {
     "name": "stderr",
     "output_type": "stream",
     "text": [
      "Epoch [135/300]:  67%|████████████████████████████████████                  | 22/33 [00:00<00:00, 50.87it/s, loss=0.701]"
     ]
    },
    {
     "name": "stdout",
     "output_type": "stream",
     "text": [
      "20\n",
      "21\n"
     ]
    },
    {
     "name": "stderr",
     "output_type": "stream",
     "text": [
      "Epoch [135/300]:  67%|████████████████████████████████████                  | 22/33 [00:00<00:00, 50.87it/s, loss=0.691]"
     ]
    },
    {
     "name": "stdout",
     "output_type": "stream",
     "text": [
      "22\n",
      "23\n"
     ]
    },
    {
     "name": "stderr",
     "output_type": "stream",
     "text": [
      "Epoch [135/300]:  67%|████████████████████████████████████                  | 22/33 [00:00<00:00, 50.87it/s, loss=0.723]"
     ]
    },
    {
     "name": "stdout",
     "output_type": "stream",
     "text": [
      "24\n",
      "25\n"
     ]
    },
    {
     "name": "stderr",
     "output_type": "stream",
     "text": [
      "Epoch [135/300]:  85%|█████████████████████████████████████████████▊        | 28/33 [00:00<00:00, 51.41it/s, loss=0.427]"
     ]
    },
    {
     "name": "stdout",
     "output_type": "stream",
     "text": [
      "26\n",
      "27\n",
      "28\n",
      "29\n"
     ]
    },
    {
     "name": "stderr",
     "output_type": "stream",
     "text": [
      "\r",
      "Epoch [135/300]:  85%|██████████████████████████████████████████████▋        | 28/33 [00:00<00:00, 51.41it/s, loss=1.21]"
     ]
    },
    {
     "name": "stdout",
     "output_type": "stream",
     "text": [
      "30\n"
     ]
    },
    {
     "name": "stderr",
     "output_type": "stream",
     "text": [
      "Epoch [135/300]: 100%|███████████████████████████████████████████████████████| 33/33 [00:00<00:00, 51.97it/s, loss=1.02]\n",
      "\n",
      "Epoch [135/300]:   0%|                                                                  | 0/5 [00:00<?, ?it/s, loss=1.6]\u001b[A\n",
      "Epoch [135/300]:  20%|███████████▌                                              | 1/5 [00:00<00:02,  1.53it/s, loss=1.6]\u001b[A"
     ]
    },
    {
     "name": "stdout",
     "output_type": "stream",
     "text": [
      "31\n",
      "32\n",
      "0\n"
     ]
    },
    {
     "name": "stderr",
     "output_type": "stream",
     "text": [
      "\n",
      "Epoch [135/300]:  20%|███████████▏                                            | 1/5 [00:00<00:02,  1.53it/s, loss=0.896]\u001b[A"
     ]
    },
    {
     "name": "stdout",
     "output_type": "stream",
     "text": [
      "1\n"
     ]
    },
    {
     "name": "stderr",
     "output_type": "stream",
     "text": [
      "\n",
      "Epoch [135/300]:  20%|███████████▏                                            | 1/5 [00:00<00:02,  1.53it/s, loss=0.777]\u001b[A\n",
      "Epoch [135/300]:  20%|███████████▍                                             | 1/5 [00:00<00:02,  1.53it/s, loss=1.18]\u001b[A\n",
      "Epoch [135/300]: 100%|████████████████████████████████████████████████████████| 5/5 [00:00<00:00,  6.88it/s, loss=0.133]\u001b[A"
     ]
    },
    {
     "name": "stdout",
     "output_type": "stream",
     "text": [
      "2\n",
      "3\n",
      "4\n",
      "model improved and saved\n",
      "\n",
      "Epoch 135: train loss: 0.8326199036656003 \n",
      "Epoch 135: valid loss: 0.9157251089811325 \n"
     ]
    },
    {
     "name": "stderr",
     "output_type": "stream",
     "text": [
      "\n",
      "  0%|                                                                                            | 0/33 [00:00<?, ?it/s]\n",
      "Epoch [136/300]:   0%|                                                                           | 0/33 [00:00<?, ?it/s]\u001b[A\n",
      "Epoch [136/300]:   0%|                                                               | 0/33 [00:00<?, ?it/s, loss=0.797]\u001b[A"
     ]
    },
    {
     "name": "stdout",
     "output_type": "stream",
     "text": [
      "0\n",
      "1\n"
     ]
    },
    {
     "name": "stderr",
     "output_type": "stream",
     "text": [
      "\r",
      "Epoch [136/300]:   0%|                                                               | 0/33 [00:00<?, ?it/s, loss=0.985]"
     ]
    },
    {
     "name": "stdout",
     "output_type": "stream",
     "text": [
      "2\n"
     ]
    },
    {
     "name": "stderr",
     "output_type": "stream",
     "text": [
      "Epoch [136/300]:  15%|████████▎                                              | 5/33 [00:00<00:00, 43.52it/s, loss=0.778]"
     ]
    },
    {
     "name": "stdout",
     "output_type": "stream",
     "text": [
      "3\n",
      "4\n",
      "5\n"
     ]
    },
    {
     "name": "stderr",
     "output_type": "stream",
     "text": [
      "\r",
      "Epoch [136/300]:  15%|████████▎                                              | 5/33 [00:00<00:00, 43.52it/s, loss=0.817]"
     ]
    },
    {
     "name": "stdout",
     "output_type": "stream",
     "text": [
      "6\n"
     ]
    },
    {
     "name": "stderr",
     "output_type": "stream",
     "text": [
      "Epoch [136/300]:  30%|████████████████▋                                      | 10/33 [00:00<00:00, 45.30it/s, loss=1.03]"
     ]
    },
    {
     "name": "stdout",
     "output_type": "stream",
     "text": [
      "7\n",
      "8\n",
      "9\n"
     ]
    },
    {
     "name": "stderr",
     "output_type": "stream",
     "text": [
      "\r",
      "Epoch [136/300]:  30%|████████████████▎                                     | 10/33 [00:00<00:00, 45.30it/s, loss=0.768]"
     ]
    },
    {
     "name": "stdout",
     "output_type": "stream",
     "text": [
      "10\n"
     ]
    },
    {
     "name": "stderr",
     "output_type": "stream",
     "text": [
      "\r",
      "Epoch [136/300]:  30%|████████████████▎                                     | 10/33 [00:00<00:00, 45.30it/s, loss=0.756]"
     ]
    },
    {
     "name": "stdout",
     "output_type": "stream",
     "text": [
      "11\n"
     ]
    },
    {
     "name": "stderr",
     "output_type": "stream",
     "text": [
      "Epoch [136/300]:  45%|█████████████████████████                              | 15/33 [00:00<00:00, 31.46it/s, loss=1.12]"
     ]
    },
    {
     "name": "stdout",
     "output_type": "stream",
     "text": [
      "12\n",
      "13\n",
      "14\n"
     ]
    },
    {
     "name": "stderr",
     "output_type": "stream",
     "text": [
      "Epoch [136/300]:  64%|██████████████████████████████████▎                   | 21/33 [00:00<00:00, 37.96it/s, loss=0.871]"
     ]
    },
    {
     "name": "stdout",
     "output_type": "stream",
     "text": [
      "15\n",
      "16\n",
      "17\n",
      "18\n",
      "19\n",
      "20\n",
      "21\n"
     ]
    },
    {
     "name": "stderr",
     "output_type": "stream",
     "text": [
      "Epoch [136/300]:  64%|███████████████████████████████████                    | 21/33 [00:00<00:00, 37.96it/s, loss=1.17]"
     ]
    },
    {
     "name": "stdout",
     "output_type": "stream",
     "text": [
      "22\n",
      "23\n",
      "24\n"
     ]
    },
    {
     "name": "stderr",
     "output_type": "stream",
     "text": [
      "Epoch [136/300]:  94%|██████████████████████████████████████████████████▋   | 31/33 [00:00<00:00, 41.65it/s, loss=0.696]"
     ]
    },
    {
     "name": "stdout",
     "output_type": "stream",
     "text": [
      "25\n",
      "26\n",
      "27\n",
      "28\n",
      "29\n",
      "30\n",
      "31\n"
     ]
    },
    {
     "name": "stderr",
     "output_type": "stream",
     "text": [
      "Epoch [136/300]: 100%|██████████████████████████████████████████████████████| 33/33 [00:00<00:00, 40.74it/s, loss=0.172]\n",
      "\n",
      "Epoch [136/300]:   0%|                                                                  | 0/5 [00:00<?, ?it/s, loss=1.6]\u001b[A\n",
      "Epoch [136/300]:  20%|███████████▌                                              | 1/5 [00:00<00:03,  1.20it/s, loss=1.6]\u001b[A\n",
      "Epoch [136/300]:  20%|███████████▏                                            | 1/5 [00:00<00:03,  1.20it/s, loss=0.896]\u001b[A"
     ]
    },
    {
     "name": "stdout",
     "output_type": "stream",
     "text": [
      "32\n",
      "0\n",
      "1\n"
     ]
    },
    {
     "name": "stderr",
     "output_type": "stream",
     "text": [
      "\n",
      "Epoch [136/300]:  20%|███████████▏                                            | 1/5 [00:00<00:03,  1.20it/s, loss=0.777]\u001b[A\n",
      "Epoch [136/300]:  20%|███████████▍                                             | 1/5 [00:00<00:03,  1.20it/s, loss=1.17]\u001b[A\n",
      "Epoch [136/300]: 100%|████████████████████████████████████████████████████████| 5/5 [00:00<00:00,  5.46it/s, loss=0.133]\u001b[A\n"
     ]
    },
    {
     "name": "stdout",
     "output_type": "stream",
     "text": [
      "2\n",
      "3\n",
      "4\n",
      "model improved and saved\n",
      "\n",
      "Epoch 136: train loss: 0.8085337786963491 \n",
      "Epoch 136: valid loss: 0.9154805988073349 \n"
     ]
    },
    {
     "name": "stderr",
     "output_type": "stream",
     "text": [
      "  0%|                                                                                            | 0/33 [00:00<?, ?it/s]\n",
      "Epoch [137/300]:   0%|                                                                           | 0/33 [00:00<?, ?it/s]\u001b[A\n",
      "Epoch [137/300]:   0%|                                                               | 0/33 [00:00<?, ?it/s, loss=0.723]\u001b[A"
     ]
    },
    {
     "name": "stdout",
     "output_type": "stream",
     "text": [
      "0\n",
      "1\n"
     ]
    },
    {
     "name": "stderr",
     "output_type": "stream",
     "text": [
      "Epoch [137/300]:  12%|██████▋                                                | 4/33 [00:00<00:00, 37.71it/s, loss=0.505]"
     ]
    },
    {
     "name": "stdout",
     "output_type": "stream",
     "text": [
      "2\n",
      "3\n",
      "4\n",
      "5\n"
     ]
    },
    {
     "name": "stderr",
     "output_type": "stream",
     "text": [
      "Epoch [137/300]:  27%|██████████████▉                                        | 9/33 [00:00<00:00, 43.49it/s, loss=0.581]"
     ]
    },
    {
     "name": "stdout",
     "output_type": "stream",
     "text": [
      "6\n",
      "7\n",
      "8\n",
      "9\n"
     ]
    },
    {
     "name": "stderr",
     "output_type": "stream",
     "text": [
      "Epoch [137/300]:  27%|███████████████▎                                        | 9/33 [00:00<00:00, 43.49it/s, loss=1.03]"
     ]
    },
    {
     "name": "stdout",
     "output_type": "stream",
     "text": [
      "10\n",
      "11\n"
     ]
    },
    {
     "name": "stderr",
     "output_type": "stream",
     "text": [
      "Epoch [137/300]:  42%|██████████████████████▉                               | 14/33 [00:00<00:00, 44.73it/s, loss=0.737]"
     ]
    },
    {
     "name": "stdout",
     "output_type": "stream",
     "text": [
      "12\n",
      "13\n",
      "14\n",
      "15\n"
     ]
    },
    {
     "name": "stderr",
     "output_type": "stream",
     "text": [
      "Epoch [137/300]:  58%|███████████████████████████████                       | 19/33 [00:00<00:00, 41.69it/s, loss=0.891]"
     ]
    },
    {
     "name": "stdout",
     "output_type": "stream",
     "text": [
      "16\n",
      "17\n",
      "18\n"
     ]
    },
    {
     "name": "stderr",
     "output_type": "stream",
     "text": [
      "\r",
      "Epoch [137/300]:  58%|███████████████████████████████                       | 19/33 [00:00<00:00, 41.69it/s, loss=0.736]"
     ]
    },
    {
     "name": "stdout",
     "output_type": "stream",
     "text": [
      "19\n"
     ]
    },
    {
     "name": "stderr",
     "output_type": "stream",
     "text": [
      "Epoch [137/300]:  73%|███████████████████████████████████████▎              | 24/33 [00:00<00:00, 42.16it/s, loss=0.797]"
     ]
    },
    {
     "name": "stdout",
     "output_type": "stream",
     "text": [
      "20\n",
      "21\n",
      "22\n",
      "23\n",
      "24\n"
     ]
    },
    {
     "name": "stderr",
     "output_type": "stream",
     "text": [
      "Epoch [137/300]:  91%|█████████████████████████████████████████████████     | 30/33 [00:00<00:00, 45.37it/s, loss=0.886]"
     ]
    },
    {
     "name": "stdout",
     "output_type": "stream",
     "text": [
      "25\n",
      "26\n",
      "27\n",
      "28\n",
      "29\n"
     ]
    },
    {
     "name": "stderr",
     "output_type": "stream",
     "text": [
      "\r",
      "Epoch [137/300]:  91%|██████████████████████████████████████████████████     | 30/33 [00:00<00:00, 45.37it/s, loss=1.23]"
     ]
    },
    {
     "name": "stdout",
     "output_type": "stream",
     "text": [
      "30\n"
     ]
    },
    {
     "name": "stderr",
     "output_type": "stream",
     "text": [
      "Epoch [137/300]: 100%|███████████████████████████████████████████████████████| 33/33 [00:00<00:00, 45.25it/s, loss=1.27]\n",
      "\n",
      "Epoch [137/300]:   0%|                                                                  | 0/5 [00:00<?, ?it/s, loss=1.6]\u001b[A\n",
      "Epoch [137/300]:  20%|███████████▌                                              | 1/5 [00:00<00:02,  1.35it/s, loss=1.6]\u001b[A\n",
      "Epoch [137/300]:  20%|███████████▏                                            | 1/5 [00:00<00:02,  1.35it/s, loss=0.896]\u001b[A\n",
      "Epoch [137/300]:  20%|███████████▏                                            | 1/5 [00:00<00:02,  1.35it/s, loss=0.777]\u001b[A\n",
      "Epoch [137/300]:  20%|███████████▍                                             | 1/5 [00:00<00:02,  1.35it/s, loss=1.18]\u001b[A\n",
      "Epoch [137/300]:  20%|███████████▏                                            | 1/5 [00:00<00:02,  1.35it/s, loss=0.133]"
     ]
    },
    {
     "name": "stdout",
     "output_type": "stream",
     "text": [
      "31\n",
      "32\n",
      "0\n",
      "1\n",
      "2\n",
      "3\n",
      "4\n"
     ]
    },
    {
     "name": "stderr",
     "output_type": "stream",
     "text": [
      "Epoch [137/300]: 100%|████████████████████████████████████████████████████████| 5/5 [00:00<00:00,  6.20it/s, loss=0.133]\n"
     ]
    },
    {
     "name": "stdout",
     "output_type": "stream",
     "text": [
      "model improved and saved\n",
      "\n",
      "Epoch 137: train loss: 0.8363644661325397 \n",
      "Epoch 137: valid loss: 0.915785813331604 \n"
     ]
    },
    {
     "name": "stderr",
     "output_type": "stream",
     "text": [
      "  0%|                                                                                            | 0/33 [00:00<?, ?it/s]\n",
      "Epoch [138/300]:   0%|                                                                           | 0/33 [00:00<?, ?it/s]\u001b[A\n",
      "Epoch [138/300]:   0%|                                                               | 0/33 [00:00<?, ?it/s, loss=0.786]\u001b[A"
     ]
    },
    {
     "name": "stdout",
     "output_type": "stream",
     "text": [
      "0\n",
      "1\n",
      "2\n"
     ]
    },
    {
     "name": "stderr",
     "output_type": "stream",
     "text": [
      "\r",
      "Epoch [138/300]:   0%|                                                               | 0/33 [00:00<?, ?it/s, loss=0.553]"
     ]
    },
    {
     "name": "stdout",
     "output_type": "stream",
     "text": [
      "3\n"
     ]
    },
    {
     "name": "stderr",
     "output_type": "stream",
     "text": [
      "Epoch [138/300]:  15%|████████▎                                              | 5/33 [00:00<00:00, 38.69it/s, loss=0.693]"
     ]
    },
    {
     "name": "stdout",
     "output_type": "stream",
     "text": [
      "4\n",
      "5\n",
      "6\n"
     ]
    },
    {
     "name": "stderr",
     "output_type": "stream",
     "text": [
      "Epoch [138/300]:  15%|████████▎                                              | 5/33 [00:00<00:00, 38.69it/s, loss=0.725]"
     ]
    },
    {
     "name": "stdout",
     "output_type": "stream",
     "text": [
      "7\n",
      "8\n"
     ]
    },
    {
     "name": "stderr",
     "output_type": "stream",
     "text": [
      "Epoch [138/300]:  30%|████████████████▎                                     | 10/33 [00:00<00:00, 41.06it/s, loss=0.494]"
     ]
    },
    {
     "name": "stdout",
     "output_type": "stream",
     "text": [
      "9\n",
      "10\n",
      "11\n"
     ]
    },
    {
     "name": "stderr",
     "output_type": "stream",
     "text": [
      "Epoch [138/300]:  30%|████████████████▎                                     | 10/33 [00:00<00:00, 41.06it/s, loss=0.569]"
     ]
    },
    {
     "name": "stdout",
     "output_type": "stream",
     "text": [
      "12\n",
      "13\n"
     ]
    },
    {
     "name": "stderr",
     "output_type": "stream",
     "text": [
      "Epoch [138/300]:  45%|████████████████████████▌                             | 15/33 [00:00<00:00, 44.25it/s, loss=0.559]"
     ]
    },
    {
     "name": "stdout",
     "output_type": "stream",
     "text": [
      "14\n",
      "15\n"
     ]
    },
    {
     "name": "stderr",
     "output_type": "stream",
     "text": [
      "Epoch [138/300]:  45%|█████████████████████████                              | 15/33 [00:00<00:00, 44.25it/s, loss=1.21]"
     ]
    },
    {
     "name": "stdout",
     "output_type": "stream",
     "text": [
      "16\n",
      "17\n"
     ]
    },
    {
     "name": "stderr",
     "output_type": "stream",
     "text": [
      "Epoch [138/300]:  61%|████████████████████████████████▋                     | 20/33 [00:00<00:00, 41.03it/s, loss=0.666]"
     ]
    },
    {
     "name": "stdout",
     "output_type": "stream",
     "text": [
      "18\n",
      "19\n",
      "20\n"
     ]
    },
    {
     "name": "stderr",
     "output_type": "stream",
     "text": [
      "\r",
      "Epoch [138/300]:  61%|█████████████████████████████████▎                     | 20/33 [00:00<00:00, 41.03it/s, loss=1.34]"
     ]
    },
    {
     "name": "stdout",
     "output_type": "stream",
     "text": [
      "21\n"
     ]
    },
    {
     "name": "stderr",
     "output_type": "stream",
     "text": [
      "Epoch [138/300]:  61%|████████████████████████████████▋                     | 20/33 [00:00<00:00, 41.03it/s, loss=0.657]"
     ]
    },
    {
     "name": "stdout",
     "output_type": "stream",
     "text": [
      "22\n",
      "23\n"
     ]
    },
    {
     "name": "stderr",
     "output_type": "stream",
     "text": [
      "Epoch [138/300]:  76%|████████████████████████████████████████▉             | 25/33 [00:00<00:00, 38.23it/s, loss=0.743]"
     ]
    },
    {
     "name": "stdout",
     "output_type": "stream",
     "text": [
      "24\n",
      "25\n"
     ]
    },
    {
     "name": "stderr",
     "output_type": "stream",
     "text": [
      "Epoch [138/300]:  76%|██████████████████████████████████████████▍             | 25/33 [00:00<00:00, 38.23it/s, loss=0.7]"
     ]
    },
    {
     "name": "stdout",
     "output_type": "stream",
     "text": [
      "26\n",
      "27\n",
      "28\n"
     ]
    },
    {
     "name": "stderr",
     "output_type": "stream",
     "text": [
      "Epoch [138/300]:  91%|██████████████████████████████████████████████████     | 30/33 [00:00<00:00, 39.83it/s, loss=1.02]"
     ]
    },
    {
     "name": "stdout",
     "output_type": "stream",
     "text": [
      "29\n",
      "30\n"
     ]
    },
    {
     "name": "stderr",
     "output_type": "stream",
     "text": [
      "Epoch [138/300]: 100%|███████████████████████████████████████████████████████| 33/33 [00:00<00:00, 41.60it/s, loss=1.19]\n",
      "\n",
      "Epoch [138/300]:   0%|                                                                  | 0/5 [00:00<?, ?it/s, loss=1.6]\u001b[A\n",
      "Epoch [138/300]:  20%|███████████▌                                              | 1/5 [00:00<00:03,  1.24it/s, loss=1.6]\u001b[A\n",
      "Epoch [138/300]:  20%|███████████▏                                            | 1/5 [00:00<00:03,  1.24it/s, loss=0.896]\u001b[A"
     ]
    },
    {
     "name": "stdout",
     "output_type": "stream",
     "text": [
      "31\n",
      "32\n",
      "0\n",
      "1\n"
     ]
    },
    {
     "name": "stderr",
     "output_type": "stream",
     "text": [
      "\n",
      "Epoch [138/300]:  20%|███████████▏                                            | 1/5 [00:00<00:03,  1.24it/s, loss=0.778]\u001b[A\n",
      "Epoch [138/300]:  20%|███████████▍                                             | 1/5 [00:00<00:03,  1.24it/s, loss=1.18]\u001b[A\n",
      "Epoch [138/300]: 100%|████████████████████████████████████████████████████████| 5/5 [00:00<00:00,  5.74it/s, loss=0.133]\u001b[A\n"
     ]
    },
    {
     "name": "stdout",
     "output_type": "stream",
     "text": [
      "2\n",
      "3\n",
      "4\n",
      "model improved and saved\n",
      "\n",
      "Epoch 138: train loss: 0.8336418334281805 \n",
      "Epoch 138: valid loss: 0.9158542513847351 \n"
     ]
    },
    {
     "name": "stderr",
     "output_type": "stream",
     "text": [
      "  0%|                                                                                            | 0/33 [00:00<?, ?it/s]\n",
      "Epoch [139/300]:   0%|                                                                           | 0/33 [00:00<?, ?it/s]\u001b[A\n",
      "Epoch [139/300]:   0%|                                                                | 0/33 [00:00<?, ?it/s, loss=1.04]\u001b[A"
     ]
    },
    {
     "name": "stdout",
     "output_type": "stream",
     "text": [
      "0\n",
      "1\n",
      "2\n"
     ]
    },
    {
     "name": "stderr",
     "output_type": "stream",
     "text": [
      "Epoch [139/300]:   0%|                                                               | 0/33 [00:00<?, ?it/s, loss=0.661]"
     ]
    },
    {
     "name": "stdout",
     "output_type": "stream",
     "text": [
      "3\n",
      "4\n"
     ]
    },
    {
     "name": "stderr",
     "output_type": "stream",
     "text": [
      "Epoch [139/300]:  18%|██████████                                             | 6/33 [00:00<00:00, 54.04it/s, loss=0.666]"
     ]
    },
    {
     "name": "stdout",
     "output_type": "stream",
     "text": [
      "5\n",
      "6\n",
      "7\n"
     ]
    },
    {
     "name": "stderr",
     "output_type": "stream",
     "text": [
      "Epoch [139/300]:  36%|███████████████████▋                                  | 12/33 [00:00<00:00, 54.69it/s, loss=0.927]"
     ]
    },
    {
     "name": "stdout",
     "output_type": "stream",
     "text": [
      "8\n",
      "9\n",
      "10\n",
      "11\n"
     ]
    },
    {
     "name": "stderr",
     "output_type": "stream",
     "text": [
      "Epoch [139/300]:  36%|███████████████████▋                                  | 12/33 [00:00<00:00, 54.69it/s, loss=0.813]"
     ]
    },
    {
     "name": "stdout",
     "output_type": "stream",
     "text": [
      "12\n",
      "13\n",
      "14\n"
     ]
    },
    {
     "name": "stderr",
     "output_type": "stream",
     "text": [
      "Epoch [139/300]:  36%|███████████████████▋                                  | 12/33 [00:00<00:00, 54.69it/s, loss=0.902]"
     ]
    },
    {
     "name": "stdout",
     "output_type": "stream",
     "text": [
      "15\n",
      "16\n"
     ]
    },
    {
     "name": "stderr",
     "output_type": "stream",
     "text": [
      "Epoch [139/300]:  58%|███████████████████████████████                       | 19/33 [00:00<00:00, 58.15it/s, loss=0.672]"
     ]
    },
    {
     "name": "stdout",
     "output_type": "stream",
     "text": [
      "17\n",
      "18\n",
      "19\n",
      "20\n"
     ]
    },
    {
     "name": "stderr",
     "output_type": "stream",
     "text": [
      "Epoch [139/300]:  79%|██████████████████████████████████████████▌           | 26/33 [00:00<00:00, 61.46it/s, loss=0.558]"
     ]
    },
    {
     "name": "stdout",
     "output_type": "stream",
     "text": [
      "21\n",
      "22\n",
      "23\n",
      "24\n",
      "25\n"
     ]
    },
    {
     "name": "stderr",
     "output_type": "stream",
     "text": [
      "Epoch [139/300]:  79%|██████████████████████████████████████████▌           | 26/33 [00:00<00:00, 61.46it/s, loss=0.796]"
     ]
    },
    {
     "name": "stdout",
     "output_type": "stream",
     "text": [
      "26\n",
      "27\n"
     ]
    },
    {
     "name": "stderr",
     "output_type": "stream",
     "text": [
      "Epoch [139/300]:  79%|███████████████████████████████████████████▎           | 26/33 [00:00<00:00, 61.46it/s, loss=0.71]"
     ]
    },
    {
     "name": "stdout",
     "output_type": "stream",
     "text": [
      "28\n",
      "29\n",
      "30\n"
     ]
    },
    {
     "name": "stderr",
     "output_type": "stream",
     "text": [
      "Epoch [139/300]: 100%|██████████████████████████████████████████████████████| 33/33 [00:00<00:00, 61.18it/s, loss=0.179]\n",
      "\n",
      "Epoch [139/300]:   0%|                                                                  | 0/5 [00:00<?, ?it/s, loss=1.6]\u001b[A\n",
      "Epoch [139/300]:  20%|███████████▌                                              | 1/5 [00:00<00:02,  1.82it/s, loss=1.6]\u001b[A\n",
      "Epoch [139/300]:  20%|███████████▏                                            | 1/5 [00:00<00:02,  1.82it/s, loss=0.897]\u001b[A"
     ]
    },
    {
     "name": "stdout",
     "output_type": "stream",
     "text": [
      "31\n",
      "32\n",
      "0\n",
      "1\n"
     ]
    },
    {
     "name": "stderr",
     "output_type": "stream",
     "text": [
      "\n",
      "Epoch [139/300]:  20%|███████████▏                                            | 1/5 [00:00<00:02,  1.82it/s, loss=0.778]\u001b[A\n",
      "Epoch [139/300]:  20%|███████████▍                                             | 1/5 [00:00<00:02,  1.82it/s, loss=1.18]\u001b[A\n",
      "Epoch [139/300]: 100%|████████████████████████████████████████████████████████| 5/5 [00:00<00:00,  8.25it/s, loss=0.133]\u001b[A\n"
     ]
    },
    {
     "name": "stdout",
     "output_type": "stream",
     "text": [
      "2\n",
      "3\n",
      "4\n",
      "model improved and saved\n",
      "\n",
      "Epoch 139: train loss: 0.8056021653341524 \n",
      "Epoch 139: valid loss: 0.9159254312515259 \n"
     ]
    },
    {
     "name": "stderr",
     "output_type": "stream",
     "text": [
      "  0%|                                                                                            | 0/33 [00:00<?, ?it/s]\n",
      "Epoch [140/300]:   0%|                                                                           | 0/33 [00:00<?, ?it/s]\u001b[A\n",
      "Epoch [140/300]:   0%|                                                               | 0/33 [00:00<?, ?it/s, loss=0.997]\u001b[A"
     ]
    },
    {
     "name": "stdout",
     "output_type": "stream",
     "text": [
      "0\n"
     ]
    },
    {
     "name": "stderr",
     "output_type": "stream",
     "text": [
      "Epoch [140/300]:   0%|                                                               | 0/33 [00:00<?, ?it/s, loss=0.776]"
     ]
    },
    {
     "name": "stdout",
     "output_type": "stream",
     "text": [
      "1\n",
      "2\n",
      "3\n"
     ]
    },
    {
     "name": "stderr",
     "output_type": "stream",
     "text": [
      "Epoch [140/300]:   0%|                                                               | 0/33 [00:00<?, ?it/s, loss=0.871]"
     ]
    },
    {
     "name": "stdout",
     "output_type": "stream",
     "text": [
      "4\n",
      "5\n",
      "6\n"
     ]
    },
    {
     "name": "stderr",
     "output_type": "stream",
     "text": [
      "Epoch [140/300]:  21%|███████████▋                                           | 7/33 [00:00<00:00, 61.55it/s, loss=0.866]"
     ]
    },
    {
     "name": "stdout",
     "output_type": "stream",
     "text": [
      "7\n",
      "8\n",
      "9\n"
     ]
    },
    {
     "name": "stderr",
     "output_type": "stream",
     "text": [
      "Epoch [140/300]:  42%|██████████████████████▉                               | 14/33 [00:00<00:00, 63.64it/s, loss=0.864]"
     ]
    },
    {
     "name": "stdout",
     "output_type": "stream",
     "text": [
      "10\n",
      "11\n",
      "12\n",
      "13\n"
     ]
    },
    {
     "name": "stderr",
     "output_type": "stream",
     "text": [
      "\r",
      "Epoch [140/300]:  42%|███████████████████████▎                               | 14/33 [00:00<00:00, 63.64it/s, loss=1.02]"
     ]
    },
    {
     "name": "stdout",
     "output_type": "stream",
     "text": [
      "14\n"
     ]
    },
    {
     "name": "stderr",
     "output_type": "stream",
     "text": [
      "Epoch [140/300]:  42%|██████████████████████▉                               | 14/33 [00:00<00:00, 63.64it/s, loss=0.769]"
     ]
    },
    {
     "name": "stdout",
     "output_type": "stream",
     "text": [
      "15\n",
      "16\n",
      "17\n"
     ]
    },
    {
     "name": "stderr",
     "output_type": "stream",
     "text": [
      "Epoch [140/300]:  64%|██████████████████████████████████▎                   | 21/33 [00:00<00:00, 64.65it/s, loss=0.565]"
     ]
    },
    {
     "name": "stdout",
     "output_type": "stream",
     "text": [
      "18\n",
      "19\n",
      "20\n"
     ]
    },
    {
     "name": "stderr",
     "output_type": "stream",
     "text": [
      "Epoch [140/300]:  64%|██████████████████████████████████▎                   | 21/33 [00:00<00:00, 64.65it/s, loss=0.793]"
     ]
    },
    {
     "name": "stdout",
     "output_type": "stream",
     "text": [
      "21\n",
      "22\n",
      "23\n"
     ]
    },
    {
     "name": "stderr",
     "output_type": "stream",
     "text": [
      "Epoch [140/300]:  85%|█████████████████████████████████████████████▊        | 28/33 [00:00<00:00, 64.93it/s, loss=0.718]"
     ]
    },
    {
     "name": "stdout",
     "output_type": "stream",
     "text": [
      "24\n",
      "25\n",
      "26\n",
      "27\n"
     ]
    },
    {
     "name": "stderr",
     "output_type": "stream",
     "text": [
      "\r",
      "Epoch [140/300]:  85%|█████████████████████████████████████████████▊        | 28/33 [00:00<00:00, 64.93it/s, loss=0.758]"
     ]
    },
    {
     "name": "stdout",
     "output_type": "stream",
     "text": [
      "28\n"
     ]
    },
    {
     "name": "stderr",
     "output_type": "stream",
     "text": [
      "Epoch [140/300]:  85%|█████████████████████████████████████████████▊        | 28/33 [00:00<00:00, 64.93it/s, loss=0.743]"
     ]
    },
    {
     "name": "stdout",
     "output_type": "stream",
     "text": [
      "29\n",
      "30\n"
     ]
    },
    {
     "name": "stderr",
     "output_type": "stream",
     "text": [
      "Epoch [140/300]: 100%|███████████████████████████████████████████████████████| 33/33 [00:00<00:00, 64.48it/s, loss=2.23]\n",
      "\n",
      "Epoch [140/300]:   0%|                                                                  | 0/5 [00:00<?, ?it/s, loss=1.6]\u001b[A\n",
      "Epoch [140/300]:  20%|███████████▌                                              | 1/5 [00:00<00:02,  1.90it/s, loss=1.6]\u001b[A\n"
     ]
    },
    {
     "name": "stdout",
     "output_type": "stream",
     "text": [
      "31\n",
      "32\n",
      "0\n",
      "1\n"
     ]
    },
    {
     "name": "stderr",
     "output_type": "stream",
     "text": [
      "Epoch [140/300]:  20%|███████████▏                                            | 1/5 [00:00<00:02,  1.90it/s, loss=0.897]\u001b[A\n",
      "Epoch [140/300]:  20%|███████████▏                                            | 1/5 [00:00<00:02,  1.90it/s, loss=0.778]\u001b[A\n",
      "Epoch [140/300]:  20%|███████████▍                                             | 1/5 [00:00<00:02,  1.90it/s, loss=1.18]\u001b[A\n",
      "Epoch [140/300]: 100%|████████████████████████████████████████████████████████| 5/5 [00:00<00:00,  8.62it/s, loss=0.133]\u001b[A"
     ]
    },
    {
     "name": "stdout",
     "output_type": "stream",
     "text": [
      "2\n",
      "3\n",
      "4\n"
     ]
    },
    {
     "name": "stderr",
     "output_type": "stream",
     "text": [
      "\n"
     ]
    },
    {
     "name": "stdout",
     "output_type": "stream",
     "text": [
      "model improved and saved\n",
      "\n",
      "Epoch 140: train loss: 0.8614373694766652 \n",
      "Epoch 140: valid loss: 0.9163745939731598 \n"
     ]
    },
    {
     "name": "stderr",
     "output_type": "stream",
     "text": [
      "  0%|                                                                                            | 0/33 [00:00<?, ?it/s]\n",
      "Epoch [141/300]:   0%|                                                                           | 0/33 [00:00<?, ?it/s]\u001b[A\n",
      "Epoch [141/300]:   0%|                                                               | 0/33 [00:00<?, ?it/s, loss=0.937]\u001b[A"
     ]
    },
    {
     "name": "stdout",
     "output_type": "stream",
     "text": [
      "0\n",
      "1\n",
      "2\n"
     ]
    },
    {
     "name": "stderr",
     "output_type": "stream",
     "text": [
      "\r",
      "Epoch [141/300]:   0%|                                                               | 0/33 [00:00<?, ?it/s, loss=0.629]"
     ]
    },
    {
     "name": "stdout",
     "output_type": "stream",
     "text": [
      "3\n"
     ]
    },
    {
     "name": "stderr",
     "output_type": "stream",
     "text": [
      "Epoch [141/300]:  18%|██████████                                             | 6/33 [00:00<00:00, 57.45it/s, loss=0.643]"
     ]
    },
    {
     "name": "stdout",
     "output_type": "stream",
     "text": [
      "4\n",
      "5\n"
     ]
    },
    {
     "name": "stderr",
     "output_type": "stream",
     "text": [
      "Epoch [141/300]:  18%|██████████                                             | 6/33 [00:00<00:00, 57.45it/s, loss=0.739]"
     ]
    },
    {
     "name": "stdout",
     "output_type": "stream",
     "text": [
      "6\n",
      "7\n",
      "8\n",
      "9\n"
     ]
    },
    {
     "name": "stderr",
     "output_type": "stream",
     "text": [
      "Epoch [141/300]:  18%|██████████                                             | 6/33 [00:00<00:00, 57.45it/s, loss=0.809]"
     ]
    },
    {
     "name": "stdout",
     "output_type": "stream",
     "text": [
      "10\n",
      "11\n"
     ]
    },
    {
     "name": "stderr",
     "output_type": "stream",
     "text": [
      "Epoch [141/300]:  39%|█████████████████████▎                                | 13/33 [00:00<00:00, 61.76it/s, loss=0.661]"
     ]
    },
    {
     "name": "stdout",
     "output_type": "stream",
     "text": [
      "12\n"
     ]
    },
    {
     "name": "stderr",
     "output_type": "stream",
     "text": [
      "Epoch [141/300]:  39%|█████████████████████▎                                | 13/33 [00:00<00:00, 61.76it/s, loss=0.892]"
     ]
    },
    {
     "name": "stdout",
     "output_type": "stream",
     "text": [
      "13\n",
      "14\n",
      "15\n",
      "16\n"
     ]
    },
    {
     "name": "stderr",
     "output_type": "stream",
     "text": [
      "\r",
      "Epoch [141/300]:  39%|█████████████████████▎                                | 13/33 [00:00<00:00, 61.76it/s, loss=0.623]"
     ]
    },
    {
     "name": "stdout",
     "output_type": "stream",
     "text": [
      "17\n"
     ]
    },
    {
     "name": "stderr",
     "output_type": "stream",
     "text": [
      "Epoch [141/300]:  39%|█████████████████████▎                                | 13/33 [00:00<00:00, 61.76it/s, loss=0.997]"
     ]
    },
    {
     "name": "stdout",
     "output_type": "stream",
     "text": [
      "18\n",
      "19\n"
     ]
    },
    {
     "name": "stderr",
     "output_type": "stream",
     "text": [
      "Epoch [141/300]:  64%|██████████████████████████████████▎                   | 21/33 [00:00<00:00, 66.16it/s, loss=0.751]"
     ]
    },
    {
     "name": "stdout",
     "output_type": "stream",
     "text": [
      "20\n",
      "21\n",
      "22\n",
      "23\n"
     ]
    },
    {
     "name": "stderr",
     "output_type": "stream",
     "text": [
      "Epoch [141/300]:  64%|██████████████████████████████████▎                   | 21/33 [00:00<00:00, 66.16it/s, loss=0.878]"
     ]
    },
    {
     "name": "stdout",
     "output_type": "stream",
     "text": [
      "24\n",
      "25\n"
     ]
    },
    {
     "name": "stderr",
     "output_type": "stream",
     "text": [
      "\r",
      "Epoch [141/300]:  64%|██████████████████████████████████▎                   | 21/33 [00:00<00:00, 66.16it/s, loss=0.652]"
     ]
    },
    {
     "name": "stdout",
     "output_type": "stream",
     "text": [
      "26\n"
     ]
    },
    {
     "name": "stderr",
     "output_type": "stream",
     "text": [
      "Epoch [141/300]:  85%|█████████████████████████████████████████████▊        | 28/33 [00:00<00:00, 63.28it/s, loss=0.946]"
     ]
    },
    {
     "name": "stdout",
     "output_type": "stream",
     "text": [
      "27\n",
      "28\n",
      "29\n"
     ]
    },
    {
     "name": "stderr",
     "output_type": "stream",
     "text": [
      "\r",
      "Epoch [141/300]:  85%|█████████████████████████████████████████████▊        | 28/33 [00:00<00:00, 63.28it/s, loss=0.989]"
     ]
    },
    {
     "name": "stdout",
     "output_type": "stream",
     "text": [
      "30\n"
     ]
    },
    {
     "name": "stderr",
     "output_type": "stream",
     "text": [
      "Epoch [141/300]: 100%|██████████████████████████████████████████████████████| 33/33 [00:00<00:00, 64.02it/s, loss=0.822]"
     ]
    },
    {
     "name": "stdout",
     "output_type": "stream",
     "text": [
      "31\n",
      "32\n"
     ]
    },
    {
     "name": "stderr",
     "output_type": "stream",
     "text": [
      "\n",
      "\n",
      "Epoch [141/300]:   0%|                                                                  | 0/5 [00:00<?, ?it/s, loss=1.6]\u001b[A\n",
      "Epoch [141/300]:  20%|███████████▌                                              | 1/5 [00:00<00:02,  1.90it/s, loss=1.6]\u001b[A\n",
      "Epoch [141/300]:  20%|███████████▏                                            | 1/5 [00:00<00:02,  1.90it/s, loss=0.897]\u001b[A\n",
      "Epoch [141/300]:  20%|███████████▏                                            | 1/5 [00:00<00:02,  1.90it/s, loss=0.778]\u001b[A\n",
      "Epoch [141/300]:  20%|███████████▍                                             | 1/5 [00:00<00:02,  1.90it/s, loss=1.18]\u001b[A\n",
      "Epoch [141/300]: 100%|████████████████████████████████████████████████████████| 5/5 [00:00<00:00,  8.63it/s, loss=0.133]\u001b[A\n"
     ]
    },
    {
     "name": "stdout",
     "output_type": "stream",
     "text": [
      "0\n",
      "1\n",
      "2\n",
      "3\n",
      "4\n",
      "model improved and saved\n",
      "\n",
      "Epoch 141: train loss: 0.823926795612682 \n",
      "Epoch 141: valid loss: 0.9162579327821732 \n"
     ]
    },
    {
     "name": "stderr",
     "output_type": "stream",
     "text": [
      "  0%|                                                                                            | 0/33 [00:00<?, ?it/s]\n",
      "Epoch [142/300]:   0%|                                                                           | 0/33 [00:00<?, ?it/s]\u001b[A\n",
      "Epoch [142/300]:   0%|                                                               | 0/33 [00:00<?, ?it/s, loss=0.866]\u001b[A"
     ]
    },
    {
     "name": "stdout",
     "output_type": "stream",
     "text": [
      "0\n"
     ]
    },
    {
     "name": "stderr",
     "output_type": "stream",
     "text": [
      "\r",
      "Epoch [142/300]:   0%|                                                               | 0/33 [00:00<?, ?it/s, loss=0.767]"
     ]
    },
    {
     "name": "stdout",
     "output_type": "stream",
     "text": [
      "1\n"
     ]
    },
    {
     "name": "stderr",
     "output_type": "stream",
     "text": [
      "Epoch [142/300]:   0%|                                                               | 0/33 [00:00<?, ?it/s, loss=0.955]"
     ]
    },
    {
     "name": "stdout",
     "output_type": "stream",
     "text": [
      "2\n",
      "3\n",
      "4\n",
      "5\n"
     ]
    },
    {
     "name": "stderr",
     "output_type": "stream",
     "text": [
      "Epoch [142/300]:  21%|███████████▋                                           | 7/33 [00:00<00:00, 61.77it/s, loss=0.886]"
     ]
    },
    {
     "name": "stdout",
     "output_type": "stream",
     "text": [
      "6\n"
     ]
    },
    {
     "name": "stderr",
     "output_type": "stream",
     "text": [
      "\r",
      "Epoch [142/300]:  21%|███████████▋                                           | 7/33 [00:00<00:00, 61.77it/s, loss=0.857]"
     ]
    },
    {
     "name": "stdout",
     "output_type": "stream",
     "text": [
      "7\n"
     ]
    },
    {
     "name": "stderr",
     "output_type": "stream",
     "text": [
      "Epoch [142/300]:  42%|███████████████████████▎                               | 14/33 [00:00<00:00, 65.40it/s, loss=1.04]"
     ]
    },
    {
     "name": "stdout",
     "output_type": "stream",
     "text": [
      "8\n",
      "9\n",
      "10\n",
      "11\n",
      "12\n",
      "13\n"
     ]
    },
    {
     "name": "stderr",
     "output_type": "stream",
     "text": [
      "Epoch [142/300]:  42%|███████████████████████▊                                | 14/33 [00:00<00:00, 65.40it/s, loss=0.8]"
     ]
    },
    {
     "name": "stdout",
     "output_type": "stream",
     "text": [
      "14\n",
      "15\n"
     ]
    },
    {
     "name": "stderr",
     "output_type": "stream",
     "text": [
      "\r",
      "Epoch [142/300]:  42%|██████████████████████▉                               | 14/33 [00:00<00:00, 65.40it/s, loss=0.807]"
     ]
    },
    {
     "name": "stdout",
     "output_type": "stream",
     "text": [
      "16\n"
     ]
    },
    {
     "name": "stderr",
     "output_type": "stream",
     "text": [
      "Epoch [142/300]:  42%|██████████████████████▉                               | 14/33 [00:00<00:00, 65.40it/s, loss=0.887]"
     ]
    },
    {
     "name": "stdout",
     "output_type": "stream",
     "text": [
      "17\n",
      "18\n",
      "19\n",
      "20\n"
     ]
    },
    {
     "name": "stderr",
     "output_type": "stream",
     "text": [
      "Epoch [142/300]:  67%|████████████████████████████████████                  | 22/33 [00:00<00:00, 68.49it/s, loss=0.825]"
     ]
    },
    {
     "name": "stdout",
     "output_type": "stream",
     "text": [
      "21\n"
     ]
    },
    {
     "name": "stderr",
     "output_type": "stream",
     "text": [
      "Epoch [142/300]:  67%|█████████████████████████████████████▎                  | 22/33 [00:00<00:00, 68.49it/s, loss=0.8]"
     ]
    },
    {
     "name": "stdout",
     "output_type": "stream",
     "text": [
      "22\n",
      "23\n",
      "24\n",
      "25\n",
      "26\n"
     ]
    },
    {
     "name": "stderr",
     "output_type": "stream",
     "text": [
      "\r",
      "Epoch [142/300]:  67%|████████████████████████████████████                  | 22/33 [00:00<00:00, 68.49it/s, loss=0.632]"
     ]
    },
    {
     "name": "stdout",
     "output_type": "stream",
     "text": [
      "27\n"
     ]
    },
    {
     "name": "stderr",
     "output_type": "stream",
     "text": [
      "Epoch [142/300]:  88%|███████████████████████████████████████████████▍      | 29/33 [00:00<00:00, 60.79it/s, loss=0.917]"
     ]
    },
    {
     "name": "stdout",
     "output_type": "stream",
     "text": [
      "28\n"
     ]
    },
    {
     "name": "stderr",
     "output_type": "stream",
     "text": [
      "Epoch [142/300]: 100%|██████████████████████████████████████████████████████| 33/33 [00:00<00:00, 63.54it/s, loss=0.886]"
     ]
    },
    {
     "name": "stdout",
     "output_type": "stream",
     "text": [
      "29\n",
      "30\n",
      "31\n",
      "32\n"
     ]
    },
    {
     "name": "stderr",
     "output_type": "stream",
     "text": [
      "\n",
      "\n",
      "Epoch [142/300]:   0%|                                                                  | 0/5 [00:00<?, ?it/s, loss=1.6]\u001b[A\n",
      "Epoch [142/300]:  20%|███████████▌                                              | 1/5 [00:00<00:02,  1.88it/s, loss=1.6]\u001b[A"
     ]
    },
    {
     "name": "stdout",
     "output_type": "stream",
     "text": [
      "0\n"
     ]
    },
    {
     "name": "stderr",
     "output_type": "stream",
     "text": [
      "\n",
      "Epoch [142/300]:  20%|███████████▏                                            | 1/5 [00:00<00:02,  1.88it/s, loss=0.897]\u001b[A\n",
      "Epoch [142/300]:  20%|███████████▏                                            | 1/5 [00:00<00:02,  1.88it/s, loss=0.778]\u001b[A\n",
      "Epoch [142/300]:  20%|███████████▍                                             | 1/5 [00:00<00:02,  1.88it/s, loss=1.18]\u001b[A\n",
      "Epoch [142/300]: 100%|████████████████████████████████████████████████████████| 5/5 [00:00<00:00,  8.50it/s, loss=0.134]\u001b[A\n"
     ]
    },
    {
     "name": "stdout",
     "output_type": "stream",
     "text": [
      "1\n",
      "2\n",
      "3\n",
      "4\n",
      "model improved and saved\n",
      "\n",
      "Epoch 142: train loss: 0.8285391529401144 \n",
      "Epoch 142: valid loss: 0.9162002146244049 \n"
     ]
    },
    {
     "name": "stderr",
     "output_type": "stream",
     "text": [
      "  0%|                                                                                            | 0/33 [00:00<?, ?it/s]\n",
      "Epoch [143/300]:   0%|                                                                           | 0/33 [00:00<?, ?it/s]\u001b[A\n",
      "Epoch [143/300]:   0%|                                                               | 0/33 [00:00<?, ?it/s, loss=0.867]\u001b[A"
     ]
    },
    {
     "name": "stdout",
     "output_type": "stream",
     "text": [
      "0\n",
      "1\n"
     ]
    },
    {
     "name": "stderr",
     "output_type": "stream",
     "text": [
      "\r",
      "Epoch [143/300]:   0%|                                                                | 0/33 [00:00<?, ?it/s, loss=1.19]"
     ]
    },
    {
     "name": "stdout",
     "output_type": "stream",
     "text": [
      "2\n"
     ]
    },
    {
     "name": "stderr",
     "output_type": "stream",
     "text": [
      "\r",
      "Epoch [143/300]:   0%|                                                               | 0/33 [00:00<?, ?it/s, loss=0.488]"
     ]
    },
    {
     "name": "stdout",
     "output_type": "stream",
     "text": [
      "3\n"
     ]
    },
    {
     "name": "stderr",
     "output_type": "stream",
     "text": [
      "Epoch [143/300]:  18%|██████████                                             | 6/33 [00:00<00:00, 59.18it/s, loss=0.948]"
     ]
    },
    {
     "name": "stdout",
     "output_type": "stream",
     "text": [
      "4\n",
      "5\n",
      "6\n",
      "7\n"
     ]
    },
    {
     "name": "stderr",
     "output_type": "stream",
     "text": [
      "\r",
      "Epoch [143/300]:  18%|██████████                                             | 6/33 [00:00<00:00, 59.18it/s, loss=0.829]"
     ]
    },
    {
     "name": "stdout",
     "output_type": "stream",
     "text": [
      "8\n"
     ]
    },
    {
     "name": "stderr",
     "output_type": "stream",
     "text": [
      "Epoch [143/300]:  42%|███████████████████████▎                               | 14/33 [00:00<00:00, 66.81it/s, loss=1.02]"
     ]
    },
    {
     "name": "stdout",
     "output_type": "stream",
     "text": [
      "9\n",
      "10\n",
      "11\n",
      "12\n",
      "13\n"
     ]
    },
    {
     "name": "stderr",
     "output_type": "stream",
     "text": [
      "Epoch [143/300]:  42%|███████████████████████▎                               | 14/33 [00:00<00:00, 66.81it/s, loss=1.01]"
     ]
    },
    {
     "name": "stdout",
     "output_type": "stream",
     "text": [
      "14\n",
      "15\n"
     ]
    },
    {
     "name": "stderr",
     "output_type": "stream",
     "text": [
      "\r",
      "Epoch [143/300]:  42%|███████████████████████▎                               | 14/33 [00:00<00:00, 66.81it/s, loss=1.02]"
     ]
    },
    {
     "name": "stdout",
     "output_type": "stream",
     "text": [
      "16\n"
     ]
    },
    {
     "name": "stderr",
     "output_type": "stream",
     "text": [
      "\r",
      "Epoch [143/300]:  42%|██████████████████████▉                               | 14/33 [00:00<00:00, 66.81it/s, loss=0.595]"
     ]
    },
    {
     "name": "stdout",
     "output_type": "stream",
     "text": [
      "17\n"
     ]
    },
    {
     "name": "stderr",
     "output_type": "stream",
     "text": [
      "Epoch [143/300]:  64%|██████████████████████████████████▎                   | 21/33 [00:00<00:00, 64.46it/s, loss=0.791]"
     ]
    },
    {
     "name": "stdout",
     "output_type": "stream",
     "text": [
      "18\n",
      "19\n",
      "20\n",
      "21\n"
     ]
    },
    {
     "name": "stderr",
     "output_type": "stream",
     "text": [
      "\r",
      "Epoch [143/300]:  64%|███████████████████████████████████                    | 21/33 [00:00<00:00, 64.46it/s, loss=1.01]"
     ]
    },
    {
     "name": "stdout",
     "output_type": "stream",
     "text": [
      "22\n"
     ]
    },
    {
     "name": "stderr",
     "output_type": "stream",
     "text": [
      "Epoch [143/300]:  64%|███████████████████████████████████                    | 21/33 [00:00<00:00, 64.46it/s, loss=0.71]"
     ]
    },
    {
     "name": "stdout",
     "output_type": "stream",
     "text": [
      "23\n",
      "24\n",
      "25\n",
      "26\n",
      "27\n"
     ]
    },
    {
     "name": "stderr",
     "output_type": "stream",
     "text": [
      "Epoch [143/300]:  85%|█████████████████████████████████████████████▊        | 28/33 [00:00<00:00, 65.51it/s, loss=0.865]"
     ]
    },
    {
     "name": "stdout",
     "output_type": "stream",
     "text": [
      "28\n",
      "29\n"
     ]
    },
    {
     "name": "stderr",
     "output_type": "stream",
     "text": [
      "\r",
      "Epoch [143/300]:  85%|██████████████████████████████████████████████▋        | 28/33 [00:00<00:00, 65.51it/s, loss=0.86]"
     ]
    },
    {
     "name": "stdout",
     "output_type": "stream",
     "text": [
      "30\n"
     ]
    },
    {
     "name": "stderr",
     "output_type": "stream",
     "text": [
      "Epoch [143/300]: 100%|██████████████████████████████████████████████████████| 33/33 [00:00<00:00, 66.56it/s, loss=0.423]"
     ]
    },
    {
     "name": "stdout",
     "output_type": "stream",
     "text": [
      "31\n",
      "32\n"
     ]
    },
    {
     "name": "stderr",
     "output_type": "stream",
     "text": [
      "\n",
      "\n",
      "Epoch [143/300]:   0%|                                                                  | 0/5 [00:00<?, ?it/s, loss=1.6]\u001b[A\n",
      "Epoch [143/300]:  20%|███████████▌                                              | 1/5 [00:00<00:02,  1.96it/s, loss=1.6]\u001b[A\n",
      "Epoch [143/300]:  20%|███████████▏                                            | 1/5 [00:00<00:02,  1.96it/s, loss=0.897]\u001b[A\n",
      "Epoch [143/300]:  20%|███████████▏                                            | 1/5 [00:00<00:02,  1.96it/s, loss=0.778]\u001b[A\n"
     ]
    },
    {
     "name": "stdout",
     "output_type": "stream",
     "text": [
      "0\n",
      "1\n",
      "2\n",
      "3\n"
     ]
    },
    {
     "name": "stderr",
     "output_type": "stream",
     "text": [
      "Epoch [143/300]:  20%|███████████▍                                             | 1/5 [00:00<00:02,  1.96it/s, loss=1.18]\u001b[A\n",
      "Epoch [143/300]: 100%|████████████████████████████████████████████████████████| 5/5 [00:00<00:00,  8.92it/s, loss=0.134]\u001b[A\n"
     ]
    },
    {
     "name": "stdout",
     "output_type": "stream",
     "text": [
      "4\n",
      "model improved and saved\n",
      "\n",
      "Epoch 143: train loss: 0.813492066932447 \n",
      "Epoch 143: valid loss: 0.9162668317556382 \n"
     ]
    },
    {
     "name": "stderr",
     "output_type": "stream",
     "text": [
      "  0%|                                                                                            | 0/33 [00:00<?, ?it/s]\n",
      "Epoch [144/300]:   0%|                                                                           | 0/33 [00:00<?, ?it/s]\u001b[A\n",
      "Epoch [144/300]:   0%|                                                                | 0/33 [00:00<?, ?it/s, loss=0.68]\u001b[A"
     ]
    },
    {
     "name": "stdout",
     "output_type": "stream",
     "text": [
      "0\n",
      "1\n",
      "2\n",
      "3\n"
     ]
    },
    {
     "name": "stderr",
     "output_type": "stream",
     "text": [
      "Epoch [144/300]:   0%|                                                               | 0/33 [00:00<?, ?it/s, loss=0.862]"
     ]
    },
    {
     "name": "stdout",
     "output_type": "stream",
     "text": [
      "4\n",
      "5\n"
     ]
    },
    {
     "name": "stderr",
     "output_type": "stream",
     "text": [
      "Epoch [144/300]:  21%|███████████▋                                           | 7/33 [00:00<00:00, 62.47it/s, loss=0.741]"
     ]
    },
    {
     "name": "stdout",
     "output_type": "stream",
     "text": [
      "6\n"
     ]
    },
    {
     "name": "stderr",
     "output_type": "stream",
     "text": [
      "\r",
      "Epoch [144/300]:  21%|███████████▋                                           | 7/33 [00:00<00:00, 62.47it/s, loss=0.854]"
     ]
    },
    {
     "name": "stdout",
     "output_type": "stream",
     "text": [
      "7\n"
     ]
    },
    {
     "name": "stderr",
     "output_type": "stream",
     "text": [
      "Epoch [144/300]:  21%|███████████▉                                            | 7/33 [00:00<00:00, 62.47it/s, loss=0.44]"
     ]
    },
    {
     "name": "stdout",
     "output_type": "stream",
     "text": [
      "8\n",
      "9\n",
      "10\n"
     ]
    },
    {
     "name": "stderr",
     "output_type": "stream",
     "text": [
      "Epoch [144/300]:  21%|███████████▋                                           | 7/33 [00:00<00:00, 62.47it/s, loss=0.955]"
     ]
    },
    {
     "name": "stdout",
     "output_type": "stream",
     "text": [
      "11\n",
      "12\n"
     ]
    },
    {
     "name": "stderr",
     "output_type": "stream",
     "text": [
      "Epoch [144/300]:  42%|████████████████████████▌                                 | 14/33 [00:00<00:00, 59.74it/s, loss=1]"
     ]
    },
    {
     "name": "stdout",
     "output_type": "stream",
     "text": [
      "13\n",
      "14\n",
      "15\n"
     ]
    },
    {
     "name": "stderr",
     "output_type": "stream",
     "text": [
      "Epoch [144/300]:  42%|██████████████████████▉                               | 14/33 [00:00<00:00, 59.74it/s, loss=0.518]"
     ]
    },
    {
     "name": "stdout",
     "output_type": "stream",
     "text": [
      "16\n",
      "17\n"
     ]
    },
    {
     "name": "stderr",
     "output_type": "stream",
     "text": [
      "Epoch [144/300]:  42%|███████████████████████▎                               | 14/33 [00:00<00:00, 59.74it/s, loss=0.74]"
     ]
    },
    {
     "name": "stdout",
     "output_type": "stream",
     "text": [
      "18\n",
      "19\n"
     ]
    },
    {
     "name": "stderr",
     "output_type": "stream",
     "text": [
      "Epoch [144/300]:  61%|████████████████████████████████▋                     | 20/33 [00:00<00:00, 59.40it/s, loss=0.772]"
     ]
    },
    {
     "name": "stdout",
     "output_type": "stream",
     "text": [
      "20\n"
     ]
    },
    {
     "name": "stderr",
     "output_type": "stream",
     "text": [
      "Epoch [144/300]:  61%|████████████████████████████████▋                     | 20/33 [00:00<00:00, 59.40it/s, loss=0.669]"
     ]
    },
    {
     "name": "stdout",
     "output_type": "stream",
     "text": [
      "21\n",
      "22\n",
      "23\n"
     ]
    },
    {
     "name": "stderr",
     "output_type": "stream",
     "text": [
      "Epoch [144/300]:  61%|█████████████████████████████████▎                     | 20/33 [00:00<00:00, 59.40it/s, loss=1.02]"
     ]
    },
    {
     "name": "stdout",
     "output_type": "stream",
     "text": [
      "24\n",
      "25\n"
     ]
    },
    {
     "name": "stderr",
     "output_type": "stream",
     "text": [
      "Epoch [144/300]:  82%|████████████████████████████████████████████▏         | 27/33 [00:00<00:00, 60.65it/s, loss=0.947]"
     ]
    },
    {
     "name": "stdout",
     "output_type": "stream",
     "text": [
      "26\n",
      "27\n",
      "28\n",
      "29\n"
     ]
    },
    {
     "name": "stderr",
     "output_type": "stream",
     "text": [
      "Epoch [144/300]:  82%|████████████████████████████████████████████▏         | 27/33 [00:00<00:00, 60.65it/s, loss=0.541]"
     ]
    },
    {
     "name": "stdout",
     "output_type": "stream",
     "text": [
      "30\n",
      "31\n"
     ]
    },
    {
     "name": "stderr",
     "output_type": "stream",
     "text": [
      "Epoch [144/300]: 100%|██████████████████████████████████████████████████████| 33/33 [00:00<00:00, 62.92it/s, loss=0.334]\n",
      "\n",
      "Epoch [144/300]:   0%|                                                                  | 0/5 [00:00<?, ?it/s, loss=1.6]\u001b[A\n",
      "Epoch [144/300]:  20%|███████████▌                                              | 1/5 [00:00<00:02,  1.85it/s, loss=1.6]\u001b[A"
     ]
    },
    {
     "name": "stdout",
     "output_type": "stream",
     "text": [
      "32\n",
      "0\n"
     ]
    },
    {
     "name": "stderr",
     "output_type": "stream",
     "text": [
      "\n",
      "Epoch [144/300]:  20%|███████████▏                                            | 1/5 [00:00<00:02,  1.85it/s, loss=0.897]\u001b[A"
     ]
    },
    {
     "name": "stdout",
     "output_type": "stream",
     "text": [
      "1\n"
     ]
    },
    {
     "name": "stderr",
     "output_type": "stream",
     "text": [
      "\n",
      "Epoch [144/300]:  20%|███████████▏                                            | 1/5 [00:00<00:02,  1.85it/s, loss=0.778]\u001b[A\n",
      "Epoch [144/300]:  20%|███████████▍                                             | 1/5 [00:00<00:02,  1.85it/s, loss=1.18]\u001b[A\n",
      "Epoch [144/300]: 100%|████████████████████████████████████████████████████████| 5/5 [00:00<00:00,  8.43it/s, loss=0.133]\u001b[A\n"
     ]
    },
    {
     "name": "stdout",
     "output_type": "stream",
     "text": [
      "2\n",
      "3\n",
      "4\n",
      "model improved and saved\n",
      "\n",
      "Epoch 144: train loss: 0.8097648557388422 \n",
      "Epoch 144: valid loss: 0.9165575295686722 \n"
     ]
    },
    {
     "name": "stderr",
     "output_type": "stream",
     "text": [
      "  0%|                                                                                            | 0/33 [00:00<?, ?it/s]\n",
      "Epoch [145/300]:   0%|                                                                           | 0/33 [00:00<?, ?it/s]\u001b[A\n",
      "Epoch [145/300]:   0%|                                                                | 0/33 [00:00<?, ?it/s, loss=1.06]\u001b[A"
     ]
    },
    {
     "name": "stdout",
     "output_type": "stream",
     "text": [
      "0\n",
      "1\n"
     ]
    },
    {
     "name": "stderr",
     "output_type": "stream",
     "text": [
      "Epoch [145/300]:   0%|                                                               | 0/33 [00:00<?, ?it/s, loss=0.809]"
     ]
    },
    {
     "name": "stdout",
     "output_type": "stream",
     "text": [
      "2\n",
      "3\n",
      "4\n",
      "5\n"
     ]
    },
    {
     "name": "stderr",
     "output_type": "stream",
     "text": [
      "Epoch [145/300]:  21%|███████████▋                                           | 7/33 [00:00<00:00, 61.82it/s, loss=0.962]"
     ]
    },
    {
     "name": "stdout",
     "output_type": "stream",
     "text": [
      "6\n"
     ]
    },
    {
     "name": "stderr",
     "output_type": "stream",
     "text": [
      "Epoch [145/300]:  21%|███████████▋                                           | 7/33 [00:00<00:00, 61.82it/s, loss=0.759]"
     ]
    },
    {
     "name": "stdout",
     "output_type": "stream",
     "text": [
      "7\n",
      "8\n"
     ]
    },
    {
     "name": "stderr",
     "output_type": "stream",
     "text": [
      "\r",
      "Epoch [145/300]:  21%|███████████▋                                           | 7/33 [00:00<00:00, 61.82it/s, loss=0.716]"
     ]
    },
    {
     "name": "stdout",
     "output_type": "stream",
     "text": [
      "9\n"
     ]
    },
    {
     "name": "stderr",
     "output_type": "stream",
     "text": [
      "Epoch [145/300]:  42%|███████████████████████▎                               | 14/33 [00:00<00:00, 62.64it/s, loss=0.66]"
     ]
    },
    {
     "name": "stdout",
     "output_type": "stream",
     "text": [
      "10\n",
      "11\n",
      "12\n",
      "13\n"
     ]
    },
    {
     "name": "stderr",
     "output_type": "stream",
     "text": [
      "\r",
      "Epoch [145/300]:  42%|██████████████████████▉                               | 14/33 [00:00<00:00, 62.64it/s, loss=0.681]"
     ]
    },
    {
     "name": "stdout",
     "output_type": "stream",
     "text": [
      "14\n"
     ]
    },
    {
     "name": "stderr",
     "output_type": "stream",
     "text": [
      "Epoch [145/300]:  42%|██████████████████████▉                               | 14/33 [00:00<00:00, 62.64it/s, loss=0.834]"
     ]
    },
    {
     "name": "stdout",
     "output_type": "stream",
     "text": [
      "15\n",
      "16\n",
      "17\n",
      "18\n"
     ]
    },
    {
     "name": "stderr",
     "output_type": "stream",
     "text": [
      "\r",
      "Epoch [145/300]:  42%|███████████████████████▎                               | 14/33 [00:00<00:00, 62.64it/s, loss=0.74]"
     ]
    },
    {
     "name": "stdout",
     "output_type": "stream",
     "text": [
      "19\n"
     ]
    },
    {
     "name": "stderr",
     "output_type": "stream",
     "text": [
      "Epoch [145/300]:  64%|██████████████████████████████████▎                   | 21/33 [00:00<00:00, 63.25it/s, loss=0.957]"
     ]
    },
    {
     "name": "stdout",
     "output_type": "stream",
     "text": [
      "20\n",
      "21\n"
     ]
    },
    {
     "name": "stderr",
     "output_type": "stream",
     "text": [
      "\r",
      "Epoch [145/300]:  64%|██████████████████████████████████▎                   | 21/33 [00:00<00:00, 63.25it/s, loss=0.621]"
     ]
    },
    {
     "name": "stdout",
     "output_type": "stream",
     "text": [
      "22\n"
     ]
    },
    {
     "name": "stderr",
     "output_type": "stream",
     "text": [
      "Epoch [145/300]:  64%|██████████████████████████████████▎                   | 21/33 [00:00<00:00, 63.25it/s, loss=0.641]"
     ]
    },
    {
     "name": "stdout",
     "output_type": "stream",
     "text": [
      "23\n",
      "24\n",
      "25\n"
     ]
    },
    {
     "name": "stderr",
     "output_type": "stream",
     "text": [
      "Epoch [145/300]:  64%|██████████████████████████████████▎                   | 21/33 [00:00<00:00, 63.25it/s, loss=0.845]"
     ]
    },
    {
     "name": "stdout",
     "output_type": "stream",
     "text": [
      "26\n",
      "27\n"
     ]
    },
    {
     "name": "stderr",
     "output_type": "stream",
     "text": [
      "Epoch [145/300]:  85%|█████████████████████████████████████████████▊        | 28/33 [00:00<00:00, 59.94it/s, loss=0.746]"
     ]
    },
    {
     "name": "stdout",
     "output_type": "stream",
     "text": [
      "28\n",
      "29\n",
      "30\n"
     ]
    },
    {
     "name": "stderr",
     "output_type": "stream",
     "text": [
      "\r",
      "Epoch [145/300]:  85%|█████████████████████████████████████████████▊        | 28/33 [00:00<00:00, 59.94it/s, loss=0.663]"
     ]
    },
    {
     "name": "stdout",
     "output_type": "stream",
     "text": [
      "31\n"
     ]
    },
    {
     "name": "stderr",
     "output_type": "stream",
     "text": [
      "Epoch [145/300]: 100%|██████████████████████████████████████████████████████| 33/33 [00:00<00:00, 61.19it/s, loss=0.727]\n",
      "\n",
      "Epoch [145/300]:   0%|                                                                  | 0/5 [00:00<?, ?it/s, loss=1.6]\u001b[A\n",
      "Epoch [145/300]:  20%|███████████▌                                              | 1/5 [00:00<00:02,  1.82it/s, loss=1.6]\u001b[A"
     ]
    },
    {
     "name": "stdout",
     "output_type": "stream",
     "text": [
      "32\n",
      "0\n"
     ]
    },
    {
     "name": "stderr",
     "output_type": "stream",
     "text": [
      "\n",
      "Epoch [145/300]:  20%|███████████▏                                            | 1/5 [00:00<00:02,  1.82it/s, loss=0.898]\u001b[A\n"
     ]
    },
    {
     "name": "stdout",
     "output_type": "stream",
     "text": [
      "1\n",
      "2\n"
     ]
    },
    {
     "name": "stderr",
     "output_type": "stream",
     "text": [
      "Epoch [145/300]:  20%|███████████▏                                            | 1/5 [00:00<00:02,  1.82it/s, loss=0.779]\u001b[A\n",
      "Epoch [145/300]:  20%|███████████▍                                             | 1/5 [00:00<00:02,  1.82it/s, loss=1.18]\u001b[A\n",
      "Epoch [145/300]: 100%|████████████████████████████████████████████████████████| 5/5 [00:00<00:00,  8.18it/s, loss=0.133]\u001b[A\n"
     ]
    },
    {
     "name": "stdout",
     "output_type": "stream",
     "text": [
      "3\n",
      "4\n",
      "model improved and saved\n",
      "\n",
      "Epoch 145: train loss: 0.8195246078751304 \n",
      "Epoch 145: valid loss: 0.9171191364526748 \n"
     ]
    },
    {
     "name": "stderr",
     "output_type": "stream",
     "text": [
      "  0%|                                                                                            | 0/33 [00:00<?, ?it/s]\n",
      "Epoch [146/300]:   0%|                                                                           | 0/33 [00:00<?, ?it/s]\u001b[A\n",
      "Epoch [146/300]:   0%|                                                               | 0/33 [00:00<?, ?it/s, loss=0.592]\u001b[A"
     ]
    },
    {
     "name": "stdout",
     "output_type": "stream",
     "text": [
      "0\n",
      "1\n"
     ]
    },
    {
     "name": "stderr",
     "output_type": "stream",
     "text": [
      "Epoch [146/300]:  15%|████████▍                                               | 5/33 [00:00<00:00, 47.46it/s, loss=1.04]"
     ]
    },
    {
     "name": "stdout",
     "output_type": "stream",
     "text": [
      "2\n",
      "3\n",
      "4\n"
     ]
    },
    {
     "name": "stderr",
     "output_type": "stream",
     "text": [
      "Epoch [146/300]:  15%|████████▎                                              | 5/33 [00:00<00:00, 47.46it/s, loss=0.751]"
     ]
    },
    {
     "name": "stdout",
     "output_type": "stream",
     "text": [
      "5\n",
      "6\n"
     ]
    },
    {
     "name": "stderr",
     "output_type": "stream",
     "text": [
      "\r",
      "Epoch [146/300]:  15%|████████▎                                              | 5/33 [00:00<00:00, 47.46it/s, loss=0.734]"
     ]
    },
    {
     "name": "stdout",
     "output_type": "stream",
     "text": [
      "7\n"
     ]
    },
    {
     "name": "stderr",
     "output_type": "stream",
     "text": [
      "Epoch [146/300]:  30%|████████████████▎                                     | 10/33 [00:00<00:00, 48.43it/s, loss=0.588]"
     ]
    },
    {
     "name": "stdout",
     "output_type": "stream",
     "text": [
      "8\n",
      "9\n",
      "10\n"
     ]
    },
    {
     "name": "stderr",
     "output_type": "stream",
     "text": [
      "Epoch [146/300]:  30%|████████████████▎                                     | 10/33 [00:00<00:00, 48.43it/s, loss=0.842]"
     ]
    },
    {
     "name": "stdout",
     "output_type": "stream",
     "text": [
      "11\n",
      "12\n"
     ]
    },
    {
     "name": "stderr",
     "output_type": "stream",
     "text": [
      "Epoch [146/300]:  52%|███████████████████████████▊                          | 17/33 [00:00<00:00, 57.45it/s, loss=0.645]"
     ]
    },
    {
     "name": "stdout",
     "output_type": "stream",
     "text": [
      "13\n",
      "14\n",
      "15\n",
      "16\n",
      "17\n"
     ]
    },
    {
     "name": "stderr",
     "output_type": "stream",
     "text": [
      "Epoch [146/300]:  52%|███████████████████████████▊                          | 17/33 [00:00<00:00, 57.45it/s, loss=0.883]"
     ]
    },
    {
     "name": "stdout",
     "output_type": "stream",
     "text": [
      "18\n",
      "19\n"
     ]
    },
    {
     "name": "stderr",
     "output_type": "stream",
     "text": [
      "Epoch [146/300]:  52%|███████████████████████████▊                          | 17/33 [00:00<00:00, 57.45it/s, loss=0.774]"
     ]
    },
    {
     "name": "stdout",
     "output_type": "stream",
     "text": [
      "20\n",
      "21\n"
     ]
    },
    {
     "name": "stderr",
     "output_type": "stream",
     "text": [
      "\r",
      "Epoch [146/300]:  52%|████████████████████████████▎                          | 17/33 [00:00<00:00, 57.45it/s, loss=1.18]"
     ]
    },
    {
     "name": "stdout",
     "output_type": "stream",
     "text": [
      "22\n"
     ]
    },
    {
     "name": "stderr",
     "output_type": "stream",
     "text": [
      "Epoch [146/300]:  73%|███████████████████████████████████████▎              | 24/33 [00:00<00:00, 47.10it/s, loss=0.948]"
     ]
    },
    {
     "name": "stdout",
     "output_type": "stream",
     "text": [
      "23\n",
      "24\n",
      "25\n",
      "26\n"
     ]
    },
    {
     "name": "stderr",
     "output_type": "stream",
     "text": [
      "\r",
      "Epoch [146/300]:  73%|███████████████████████████████████████▎              | 24/33 [00:00<00:00, 47.10it/s, loss=0.629]"
     ]
    },
    {
     "name": "stdout",
     "output_type": "stream",
     "text": [
      "27\n",
      "28\n"
     ]
    },
    {
     "name": "stderr",
     "output_type": "stream",
     "text": [
      "Epoch [146/300]:  73%|████████████████████████████████████████               | 24/33 [00:00<00:00, 47.10it/s, loss=0.73]"
     ]
    },
    {
     "name": "stdout",
     "output_type": "stream",
     "text": [
      "29\n",
      "30\n"
     ]
    },
    {
     "name": "stderr",
     "output_type": "stream",
     "text": [
      "Epoch [146/300]: 100%|████████████████████████████████████████████████████████| 33/33 [00:00<00:00, 53.16it/s, loss=1.6]\n",
      "\n",
      "Epoch [146/300]:   0%|                                                                  | 0/5 [00:00<?, ?it/s, loss=1.6]\u001b[A\n",
      "Epoch [146/300]:  20%|███████████▌                                              | 1/5 [00:00<00:02,  1.59it/s, loss=1.6]\u001b[A\n",
      "Epoch [146/300]:  20%|███████████▏                                            | 1/5 [00:00<00:02,  1.59it/s, loss=0.898]\u001b[A\n",
      "Epoch [146/300]:  20%|███████████▏                                            | 1/5 [00:00<00:02,  1.59it/s, loss=0.779]\u001b[A\n",
      "Epoch [146/300]:  20%|███████████▍                                             | 1/5 [00:00<00:02,  1.59it/s, loss=1.18]\u001b[A\n",
      "Epoch [146/300]: 100%|████████████████████████████████████████████████████████| 5/5 [00:00<00:00,  7.33it/s, loss=0.133]\u001b[A\n"
     ]
    },
    {
     "name": "stdout",
     "output_type": "stream",
     "text": [
      "31\n",
      "32\n",
      "0\n",
      "1\n",
      "2\n",
      "3\n",
      "4\n",
      "model improved and saved\n",
      "\n",
      "Epoch 146: train loss: 0.8452583154042562 \n",
      "Epoch 146: valid loss: 0.9172340124845505 \n"
     ]
    },
    {
     "name": "stderr",
     "output_type": "stream",
     "text": [
      "  0%|                                                                                            | 0/33 [00:00<?, ?it/s]\n",
      "Epoch [147/300]:   0%|                                                                           | 0/33 [00:00<?, ?it/s]\u001b[A\n",
      "Epoch [147/300]:   0%|                                                                | 0/33 [00:00<?, ?it/s, loss=0.84]\u001b[A"
     ]
    },
    {
     "name": "stdout",
     "output_type": "stream",
     "text": [
      "0\n",
      "1\n",
      "2\n"
     ]
    },
    {
     "name": "stderr",
     "output_type": "stream",
     "text": [
      "Epoch [147/300]:   0%|                                                               | 0/33 [00:00<?, ?it/s, loss=0.813]"
     ]
    },
    {
     "name": "stdout",
     "output_type": "stream",
     "text": [
      "3\n",
      "4\n"
     ]
    },
    {
     "name": "stderr",
     "output_type": "stream",
     "text": [
      "Epoch [147/300]:  21%|███████████▋                                           | 7/33 [00:00<00:00, 61.09it/s, loss=0.798]"
     ]
    },
    {
     "name": "stdout",
     "output_type": "stream",
     "text": [
      "5\n",
      "6\n"
     ]
    },
    {
     "name": "stderr",
     "output_type": "stream",
     "text": [
      "Epoch [147/300]:  21%|███████████▋                                           | 7/33 [00:00<00:00, 61.09it/s, loss=0.958]"
     ]
    },
    {
     "name": "stdout",
     "output_type": "stream",
     "text": [
      "7\n",
      "8\n",
      "9\n",
      "10\n",
      "11\n",
      "12\n",
      "13\n"
     ]
    },
    {
     "name": "stderr",
     "output_type": "stream",
     "text": [
      "Epoch [147/300]:  42%|██████████████████████▉                               | 14/33 [00:00<00:00, 61.87it/s, loss=0.999]"
     ]
    },
    {
     "name": "stdout",
     "output_type": "stream",
     "text": [
      "14\n",
      "15\n"
     ]
    },
    {
     "name": "stderr",
     "output_type": "stream",
     "text": [
      "Epoch [147/300]:  42%|██████████████████████▉                               | 14/33 [00:00<00:00, 61.87it/s, loss=0.748]"
     ]
    },
    {
     "name": "stdout",
     "output_type": "stream",
     "text": [
      "16\n",
      "17\n"
     ]
    },
    {
     "name": "stderr",
     "output_type": "stream",
     "text": [
      "Epoch [147/300]:  42%|██████████████████████▉                               | 14/33 [00:00<00:00, 61.87it/s, loss=0.686]"
     ]
    },
    {
     "name": "stdout",
     "output_type": "stream",
     "text": [
      "18\n",
      "19\n"
     ]
    },
    {
     "name": "stderr",
     "output_type": "stream",
     "text": [
      "Epoch [147/300]:  85%|█████████████████████████████████████████████▊        | 28/33 [00:00<00:00, 65.28it/s, loss=0.983]"
     ]
    },
    {
     "name": "stdout",
     "output_type": "stream",
     "text": [
      "20\n",
      "21\n",
      "22\n",
      "23\n",
      "24\n",
      "25\n",
      "26\n",
      "27\n"
     ]
    },
    {
     "name": "stderr",
     "output_type": "stream",
     "text": [
      "Epoch [147/300]:  85%|█████████████████████████████████████████████▊        | 28/33 [00:00<00:00, 65.28it/s, loss=0.941]"
     ]
    },
    {
     "name": "stdout",
     "output_type": "stream",
     "text": [
      "28\n",
      "29\n",
      "30\n"
     ]
    },
    {
     "name": "stderr",
     "output_type": "stream",
     "text": [
      "Epoch [147/300]: 100%|██████████████████████████████████████████████████████| 33/33 [00:00<00:00, 65.71it/s, loss=0.267]"
     ]
    },
    {
     "name": "stdout",
     "output_type": "stream",
     "text": [
      "31\n",
      "32\n"
     ]
    },
    {
     "name": "stderr",
     "output_type": "stream",
     "text": [
      "\n",
      "\n",
      "Epoch [147/300]:   0%|                                                                  | 0/5 [00:00<?, ?it/s, loss=1.6]\u001b[A\n",
      "Epoch [147/300]:  20%|███████████▌                                              | 1/5 [00:00<00:02,  1.94it/s, loss=1.6]\u001b[A\n"
     ]
    },
    {
     "name": "stdout",
     "output_type": "stream",
     "text": [
      "0\n",
      "1\n"
     ]
    },
    {
     "name": "stderr",
     "output_type": "stream",
     "text": [
      "Epoch [147/300]:  20%|███████████▏                                            | 1/5 [00:00<00:02,  1.94it/s, loss=0.898]\u001b[A\n",
      "Epoch [147/300]:  20%|███████████▏                                            | 1/5 [00:00<00:02,  1.94it/s, loss=0.779]\u001b[A\n",
      "Epoch [147/300]:  20%|███████████▍                                             | 1/5 [00:00<00:02,  1.94it/s, loss=1.18]\u001b[A\n",
      "Epoch [147/300]: 100%|████████████████████████████████████████████████████████| 5/5 [00:00<00:00,  8.76it/s, loss=0.133]\u001b[A\n"
     ]
    },
    {
     "name": "stdout",
     "output_type": "stream",
     "text": [
      "2\n",
      "3\n",
      "4\n",
      "model improved and saved\n",
      "\n",
      "Epoch 147: train loss: 0.8067896655111602 \n",
      "Epoch 147: valid loss: 0.9171963095664978 \n"
     ]
    },
    {
     "name": "stderr",
     "output_type": "stream",
     "text": [
      "  0%|                                                                                            | 0/33 [00:00<?, ?it/s]\n",
      "Epoch [148/300]:   0%|                                                                           | 0/33 [00:00<?, ?it/s]\u001b[A\n",
      "Epoch [148/300]:   0%|                                                               | 0/33 [00:00<?, ?it/s, loss=0.835]\u001b[A"
     ]
    },
    {
     "name": "stdout",
     "output_type": "stream",
     "text": [
      "0\n",
      "1\n",
      "2\n",
      "3\n"
     ]
    },
    {
     "name": "stderr",
     "output_type": "stream",
     "text": [
      "Epoch [148/300]:  21%|███████████▉                                            | 7/33 [00:00<00:00, 62.39it/s, loss=0.89]"
     ]
    },
    {
     "name": "stdout",
     "output_type": "stream",
     "text": [
      "4\n",
      "5\n",
      "6\n"
     ]
    },
    {
     "name": "stderr",
     "output_type": "stream",
     "text": [
      "\r",
      "Epoch [148/300]:  21%|███████████▋                                           | 7/33 [00:00<00:00, 62.39it/s, loss=0.526]"
     ]
    },
    {
     "name": "stdout",
     "output_type": "stream",
     "text": [
      "7\n"
     ]
    },
    {
     "name": "stderr",
     "output_type": "stream",
     "text": [
      "Epoch [148/300]:  21%|███████████▉                                            | 7/33 [00:00<00:00, 62.39it/s, loss=1.15]"
     ]
    },
    {
     "name": "stdout",
     "output_type": "stream",
     "text": [
      "8\n",
      "9\n"
     ]
    },
    {
     "name": "stderr",
     "output_type": "stream",
     "text": [
      "Epoch [148/300]:  42%|██████████████████████▉                               | 14/33 [00:00<00:00, 63.77it/s, loss=0.666]"
     ]
    },
    {
     "name": "stdout",
     "output_type": "stream",
     "text": [
      "10\n",
      "11\n",
      "12\n",
      "13\n"
     ]
    },
    {
     "name": "stderr",
     "output_type": "stream",
     "text": [
      "Epoch [148/300]:  42%|███████████████████████▎                               | 14/33 [00:00<00:00, 63.77it/s, loss=0.85]"
     ]
    },
    {
     "name": "stdout",
     "output_type": "stream",
     "text": [
      "14\n",
      "15\n",
      "16\n",
      "17\n"
     ]
    },
    {
     "name": "stderr",
     "output_type": "stream",
     "text": [
      "Epoch [148/300]:  64%|██████████████████████████████████▎                   | 21/33 [00:00<00:00, 65.14it/s, loss=0.623]"
     ]
    },
    {
     "name": "stdout",
     "output_type": "stream",
     "text": [
      "18\n",
      "19\n",
      "20\n"
     ]
    },
    {
     "name": "stderr",
     "output_type": "stream",
     "text": [
      "\r",
      "Epoch [148/300]:  64%|███████████████████████████████████                    | 21/33 [00:00<00:00, 65.14it/s, loss=1.15]"
     ]
    },
    {
     "name": "stdout",
     "output_type": "stream",
     "text": [
      "21\n"
     ]
    },
    {
     "name": "stderr",
     "output_type": "stream",
     "text": [
      "Epoch [148/300]:  64%|██████████████████████████████████▎                   | 21/33 [00:00<00:00, 65.14it/s, loss=0.918]"
     ]
    },
    {
     "name": "stdout",
     "output_type": "stream",
     "text": [
      "22\n",
      "23\n"
     ]
    },
    {
     "name": "stderr",
     "output_type": "stream",
     "text": [
      "Epoch [148/300]:  85%|██████████████████████████████████████████████▋        | 28/33 [00:00<00:00, 65.69it/s, loss=1.11]"
     ]
    },
    {
     "name": "stdout",
     "output_type": "stream",
     "text": [
      "24\n",
      "25\n",
      "26\n",
      "27\n"
     ]
    },
    {
     "name": "stderr",
     "output_type": "stream",
     "text": [
      "Epoch [148/300]:  85%|█████████████████████████████████████████████▊        | 28/33 [00:00<00:00, 65.69it/s, loss=0.893]"
     ]
    },
    {
     "name": "stdout",
     "output_type": "stream",
     "text": [
      "28\n",
      "29\n",
      "30\n",
      "31\n"
     ]
    },
    {
     "name": "stderr",
     "output_type": "stream",
     "text": [
      "Epoch [148/300]: 100%|██████████████████████████████████████████████████████| 33/33 [00:00<00:00, 66.05it/s, loss=0.318]\n",
      "\n",
      "Epoch [148/300]:   0%|                                                                  | 0/5 [00:00<?, ?it/s, loss=1.6]\u001b[A\n",
      "Epoch [148/300]:  20%|███████████▌                                              | 1/5 [00:00<00:02,  1.96it/s, loss=1.6]\u001b[A\n",
      "Epoch [148/300]:  20%|███████████▏                                            | 1/5 [00:00<00:02,  1.96it/s, loss=0.898]\u001b[A"
     ]
    },
    {
     "name": "stdout",
     "output_type": "stream",
     "text": [
      "32\n",
      "0\n",
      "1\n"
     ]
    },
    {
     "name": "stderr",
     "output_type": "stream",
     "text": [
      "\n",
      "Epoch [148/300]:  20%|███████████▏                                            | 1/5 [00:00<00:02,  1.96it/s, loss=0.779]\u001b[A"
     ]
    },
    {
     "name": "stdout",
     "output_type": "stream",
     "text": [
      "2\n"
     ]
    },
    {
     "name": "stderr",
     "output_type": "stream",
     "text": [
      "\n",
      "Epoch [148/300]:  20%|███████████▍                                             | 1/5 [00:00<00:02,  1.96it/s, loss=1.18]\u001b[A\n",
      "Epoch [148/300]:  20%|███████████▏                                            | 1/5 [00:00<00:02,  1.96it/s, loss=0.133]\u001b[A"
     ]
    },
    {
     "name": "stdout",
     "output_type": "stream",
     "text": [
      "3\n",
      "4\n"
     ]
    },
    {
     "name": "stderr",
     "output_type": "stream",
     "text": [
      "Epoch [148/300]: 100%|████████████████████████████████████████████████████████| 5/5 [00:00<00:00,  8.57it/s, loss=0.133]\n"
     ]
    },
    {
     "name": "stdout",
     "output_type": "stream",
     "text": [
      "model improved and saved\n",
      "\n",
      "Epoch 148: train loss: 0.810006854209033 \n",
      "Epoch 148: valid loss: 0.9171054929494857 \n"
     ]
    },
    {
     "name": "stderr",
     "output_type": "stream",
     "text": [
      "  0%|                                                                                            | 0/33 [00:00<?, ?it/s]\n",
      "Epoch [149/300]:   0%|                                                                           | 0/33 [00:00<?, ?it/s]\u001b[A\n",
      "Epoch [149/300]:   0%|                                                                | 0/33 [00:00<?, ?it/s, loss=1.28]\u001b[A"
     ]
    },
    {
     "name": "stdout",
     "output_type": "stream",
     "text": [
      "0\n",
      "1\n"
     ]
    },
    {
     "name": "stderr",
     "output_type": "stream",
     "text": [
      "Epoch [149/300]:  18%|██████████                                             | 6/33 [00:00<00:00, 59.44it/s, loss=0.753]"
     ]
    },
    {
     "name": "stdout",
     "output_type": "stream",
     "text": [
      "2\n",
      "3\n",
      "4\n",
      "5\n"
     ]
    },
    {
     "name": "stderr",
     "output_type": "stream",
     "text": [
      "Epoch [149/300]:  18%|██████████▏                                             | 6/33 [00:00<00:00, 59.44it/s, loss=1.06]"
     ]
    },
    {
     "name": "stdout",
     "output_type": "stream",
     "text": [
      "6\n",
      "7\n",
      "8\n"
     ]
    },
    {
     "name": "stderr",
     "output_type": "stream",
     "text": [
      "Epoch [149/300]:  18%|██████████                                             | 6/33 [00:00<00:00, 59.44it/s, loss=0.842]"
     ]
    },
    {
     "name": "stdout",
     "output_type": "stream",
     "text": [
      "9\n",
      "10\n"
     ]
    },
    {
     "name": "stderr",
     "output_type": "stream",
     "text": [
      "Epoch [149/300]:  36%|███████████████████▋                                  | 12/33 [00:00<00:00, 55.02it/s, loss=0.811]"
     ]
    },
    {
     "name": "stdout",
     "output_type": "stream",
     "text": [
      "11\n"
     ]
    },
    {
     "name": "stderr",
     "output_type": "stream",
     "text": [
      "Epoch [149/300]:  36%|████████████████████▎                                   | 12/33 [00:00<00:00, 55.02it/s, loss=1.1]"
     ]
    },
    {
     "name": "stdout",
     "output_type": "stream",
     "text": [
      "12\n",
      "13\n"
     ]
    },
    {
     "name": "stderr",
     "output_type": "stream",
     "text": [
      "Epoch [149/300]:  36%|███████████████████▋                                  | 12/33 [00:00<00:00, 55.02it/s, loss=0.772]"
     ]
    },
    {
     "name": "stdout",
     "output_type": "stream",
     "text": [
      "14\n",
      "15\n",
      "16\n"
     ]
    },
    {
     "name": "stderr",
     "output_type": "stream",
     "text": [
      "Epoch [149/300]:  55%|█████████████████████████████▍                        | 18/33 [00:00<00:00, 54.68it/s, loss=0.842]"
     ]
    },
    {
     "name": "stdout",
     "output_type": "stream",
     "text": [
      "17\n",
      "18\n",
      "19\n"
     ]
    },
    {
     "name": "stderr",
     "output_type": "stream",
     "text": [
      "Epoch [149/300]:  55%|█████████████████████████████▍                        | 18/33 [00:00<00:00, 54.68it/s, loss=0.655]"
     ]
    },
    {
     "name": "stdout",
     "output_type": "stream",
     "text": [
      "20\n",
      "21\n"
     ]
    },
    {
     "name": "stderr",
     "output_type": "stream",
     "text": [
      "Epoch [149/300]:  73%|████████████████████████████████████████               | 24/33 [00:00<00:00, 54.57it/s, loss=1.15]"
     ]
    },
    {
     "name": "stdout",
     "output_type": "stream",
     "text": [
      "22\n",
      "23\n"
     ]
    },
    {
     "name": "stderr",
     "output_type": "stream",
     "text": [
      "Epoch [149/300]:  73%|███████████████████████████████████████▎              | 24/33 [00:00<00:00, 54.57it/s, loss=0.674]"
     ]
    },
    {
     "name": "stdout",
     "output_type": "stream",
     "text": [
      "24\n",
      "25\n"
     ]
    },
    {
     "name": "stderr",
     "output_type": "stream",
     "text": [
      "Epoch [149/300]:  73%|███████████████████████████████████████▎              | 24/33 [00:00<00:00, 54.57it/s, loss=0.638]"
     ]
    },
    {
     "name": "stdout",
     "output_type": "stream",
     "text": [
      "26\n",
      "27\n",
      "28\n"
     ]
    },
    {
     "name": "stderr",
     "output_type": "stream",
     "text": [
      "Epoch [149/300]: 100%|██████████████████████████████████████████████████████| 33/33 [00:00<00:00, 57.36it/s, loss=0.397]"
     ]
    },
    {
     "name": "stdout",
     "output_type": "stream",
     "text": [
      "29\n",
      "30\n",
      "31\n",
      "32\n"
     ]
    },
    {
     "name": "stderr",
     "output_type": "stream",
     "text": [
      "\n",
      "\n",
      "Epoch [149/300]:   0%|                                                                  | 0/5 [00:00<?, ?it/s, loss=1.6]\u001b[A\n",
      "Epoch [149/300]:  20%|███████████▌                                              | 1/5 [00:00<00:02,  1.70it/s, loss=1.6]\u001b[A\n",
      "Epoch [149/300]:  20%|███████████▏                                            | 1/5 [00:00<00:02,  1.70it/s, loss=0.898]\u001b[A"
     ]
    },
    {
     "name": "stdout",
     "output_type": "stream",
     "text": [
      "0\n",
      "1\n"
     ]
    },
    {
     "name": "stderr",
     "output_type": "stream",
     "text": [
      "\n",
      "Epoch [149/300]:  20%|███████████▏                                            | 1/5 [00:00<00:02,  1.70it/s, loss=0.779]\u001b[A\n",
      "Epoch [149/300]:  20%|███████████▍                                             | 1/5 [00:00<00:02,  1.70it/s, loss=1.18]\u001b[A\n",
      "Epoch [149/300]: 100%|████████████████████████████████████████████████████████| 5/5 [00:00<00:00,  7.76it/s, loss=0.133]\u001b[A"
     ]
    },
    {
     "name": "stdout",
     "output_type": "stream",
     "text": [
      "2\n",
      "3\n",
      "4\n",
      "model improved and saved\n",
      "\n",
      "Epoch 149: train loss: 0.8100313155940084 \n",
      "Epoch 149: valid loss: 0.9173432111740112 \n"
     ]
    },
    {
     "name": "stderr",
     "output_type": "stream",
     "text": [
      "\n",
      "  0%|                                                                                            | 0/33 [00:00<?, ?it/s]\n",
      "Epoch [150/300]:   0%|                                                                           | 0/33 [00:00<?, ?it/s]\u001b[A\n",
      "Epoch [150/300]:   0%|                                                               | 0/33 [00:00<?, ?it/s, loss=0.869]\u001b[A"
     ]
    },
    {
     "name": "stdout",
     "output_type": "stream",
     "text": [
      "0\n"
     ]
    },
    {
     "name": "stderr",
     "output_type": "stream",
     "text": [
      "Epoch [150/300]:   0%|                                                               | 0/33 [00:00<?, ?it/s, loss=0.823]"
     ]
    },
    {
     "name": "stdout",
     "output_type": "stream",
     "text": [
      "1\n",
      "2\n",
      "3\n"
     ]
    },
    {
     "name": "stderr",
     "output_type": "stream",
     "text": [
      "Epoch [150/300]:  18%|██████████                                             | 6/33 [00:00<00:00, 56.14it/s, loss=0.692]"
     ]
    },
    {
     "name": "stdout",
     "output_type": "stream",
     "text": [
      "4\n",
      "5\n",
      "6\n"
     ]
    },
    {
     "name": "stderr",
     "output_type": "stream",
     "text": [
      "Epoch [150/300]:  18%|██████████▏                                             | 6/33 [00:00<00:00, 56.14it/s, loss=1.05]"
     ]
    },
    {
     "name": "stdout",
     "output_type": "stream",
     "text": [
      "7\n",
      "8\n"
     ]
    },
    {
     "name": "stderr",
     "output_type": "stream",
     "text": [
      "Epoch [150/300]:  39%|█████████████████████▎                                | 13/33 [00:00<00:00, 60.34it/s, loss=0.872]"
     ]
    },
    {
     "name": "stdout",
     "output_type": "stream",
     "text": [
      "9\n",
      "10\n",
      "11\n",
      "12\n"
     ]
    },
    {
     "name": "stderr",
     "output_type": "stream",
     "text": [
      "\r",
      "Epoch [150/300]:  39%|█████████████████████▋                                 | 13/33 [00:00<00:00, 60.34it/s, loss=0.64]"
     ]
    },
    {
     "name": "stdout",
     "output_type": "stream",
     "text": [
      "13\n"
     ]
    },
    {
     "name": "stderr",
     "output_type": "stream",
     "text": [
      "Epoch [150/300]:  39%|█████████████████████▎                                | 13/33 [00:00<00:00, 60.34it/s, loss=0.794]"
     ]
    },
    {
     "name": "stdout",
     "output_type": "stream",
     "text": [
      "14\n",
      "15\n",
      "16\n"
     ]
    },
    {
     "name": "stderr",
     "output_type": "stream",
     "text": [
      "Epoch [150/300]:  61%|████████████████████████████████▋                     | 20/33 [00:00<00:00, 60.98it/s, loss=0.512]"
     ]
    },
    {
     "name": "stdout",
     "output_type": "stream",
     "text": [
      "17\n",
      "18\n",
      "19\n"
     ]
    },
    {
     "name": "stderr",
     "output_type": "stream",
     "text": [
      "Epoch [150/300]:  61%|████████████████████████████████▋                     | 20/33 [00:00<00:00, 60.98it/s, loss=0.715]"
     ]
    },
    {
     "name": "stdout",
     "output_type": "stream",
     "text": [
      "20\n",
      "21\n"
     ]
    },
    {
     "name": "stderr",
     "output_type": "stream",
     "text": [
      "Epoch [150/300]:  61%|████████████████████████████████▋                     | 20/33 [00:00<00:00, 60.98it/s, loss=0.903]"
     ]
    },
    {
     "name": "stdout",
     "output_type": "stream",
     "text": [
      "22\n",
      "23\n",
      "24\n",
      "25\n"
     ]
    },
    {
     "name": "stderr",
     "output_type": "stream",
     "text": [
      "Epoch [150/300]:  82%|████████████████████████████████████████████▏         | 27/33 [00:00<00:00, 62.47it/s, loss=0.836]"
     ]
    },
    {
     "name": "stdout",
     "output_type": "stream",
     "text": [
      "26\n"
     ]
    },
    {
     "name": "stderr",
     "output_type": "stream",
     "text": [
      "Epoch [150/300]:  82%|█████████████████████████████████████████████          | 27/33 [00:00<00:00, 62.47it/s, loss=1.03]"
     ]
    },
    {
     "name": "stdout",
     "output_type": "stream",
     "text": [
      "27\n",
      "28\n",
      "29\n",
      "30\n"
     ]
    },
    {
     "name": "stderr",
     "output_type": "stream",
     "text": [
      "Epoch [150/300]: 100%|███████████████████████████████████████████████████████| 33/33 [00:00<00:00, 63.22it/s, loss=0.27]\n",
      "\n",
      "Epoch [150/300]:   0%|                                                                  | 0/5 [00:00<?, ?it/s, loss=1.6]\u001b[A\n",
      "Epoch [150/300]:  20%|███████████▌                                              | 1/5 [00:00<00:02,  1.87it/s, loss=1.6]\u001b[A"
     ]
    },
    {
     "name": "stdout",
     "output_type": "stream",
     "text": [
      "31\n",
      "32\n",
      "0\n"
     ]
    },
    {
     "name": "stderr",
     "output_type": "stream",
     "text": [
      "\n",
      "Epoch [150/300]:  20%|███████████▏                                            | 1/5 [00:00<00:02,  1.87it/s, loss=0.898]\u001b[A\n",
      "Epoch [150/300]:  20%|███████████▏                                            | 1/5 [00:00<00:02,  1.87it/s, loss=0.779]\u001b[A"
     ]
    },
    {
     "name": "stdout",
     "output_type": "stream",
     "text": [
      "1\n",
      "2\n"
     ]
    },
    {
     "name": "stderr",
     "output_type": "stream",
     "text": [
      "\n",
      "Epoch [150/300]:  20%|███████████▍                                             | 1/5 [00:00<00:02,  1.87it/s, loss=1.18]\u001b[A\n",
      "Epoch [150/300]: 100%|████████████████████████████████████████████████████████| 5/5 [00:00<00:00,  8.50it/s, loss=0.133]\u001b[A\n"
     ]
    },
    {
     "name": "stdout",
     "output_type": "stream",
     "text": [
      "3\n",
      "4\n",
      "model improved and saved\n",
      "\n",
      "Epoch 150: train loss: 0.811759481827418 \n",
      "Epoch 150: valid loss: 0.9173475295305252 \n"
     ]
    },
    {
     "name": "stderr",
     "output_type": "stream",
     "text": [
      "  0%|                                                                                            | 0/33 [00:00<?, ?it/s]\n",
      "Epoch [151/300]:   0%|                                                                           | 0/33 [00:00<?, ?it/s]\u001b[A\n",
      "Epoch [151/300]:   0%|                                                               | 0/33 [00:00<?, ?it/s, loss=0.563]\u001b[A"
     ]
    },
    {
     "name": "stdout",
     "output_type": "stream",
     "text": [
      "0\n"
     ]
    },
    {
     "name": "stderr",
     "output_type": "stream",
     "text": [
      "\r",
      "Epoch [151/300]:   0%|                                                               | 0/33 [00:00<?, ?it/s, loss=0.921]"
     ]
    },
    {
     "name": "stdout",
     "output_type": "stream",
     "text": [
      "1\n"
     ]
    },
    {
     "name": "stderr",
     "output_type": "stream",
     "text": [
      "Epoch [151/300]:  18%|██████████                                             | 6/33 [00:00<00:00, 58.07it/s, loss=0.744]"
     ]
    },
    {
     "name": "stdout",
     "output_type": "stream",
     "text": [
      "2\n",
      "3\n",
      "4\n",
      "5\n"
     ]
    },
    {
     "name": "stderr",
     "output_type": "stream",
     "text": [
      "Epoch [151/300]:  18%|██████████▏                                             | 6/33 [00:00<00:00, 58.07it/s, loss=1.02]"
     ]
    },
    {
     "name": "stdout",
     "output_type": "stream",
     "text": [
      "6\n",
      "7\n",
      "8\n"
     ]
    },
    {
     "name": "stderr",
     "output_type": "stream",
     "text": [
      "Epoch [151/300]:  18%|██████████▏                                             | 6/33 [00:00<00:00, 58.07it/s, loss=1.03]"
     ]
    },
    {
     "name": "stdout",
     "output_type": "stream",
     "text": [
      "9\n",
      "10\n"
     ]
    },
    {
     "name": "stderr",
     "output_type": "stream",
     "text": [
      "Epoch [151/300]:  39%|█████████████████████▎                                | 13/33 [00:00<00:00, 59.42it/s, loss=0.724]"
     ]
    },
    {
     "name": "stdout",
     "output_type": "stream",
     "text": [
      "11\n",
      "12\n"
     ]
    },
    {
     "name": "stderr",
     "output_type": "stream",
     "text": [
      "\r",
      "Epoch [151/300]:  39%|█████████████████████▎                                | 13/33 [00:00<00:00, 59.42it/s, loss=0.719]"
     ]
    },
    {
     "name": "stdout",
     "output_type": "stream",
     "text": [
      "13\n"
     ]
    },
    {
     "name": "stderr",
     "output_type": "stream",
     "text": [
      "\r",
      "Epoch [151/300]:  39%|█████████████████████▎                                | 13/33 [00:00<00:00, 59.42it/s, loss=0.759]"
     ]
    },
    {
     "name": "stdout",
     "output_type": "stream",
     "text": [
      "14\n"
     ]
    },
    {
     "name": "stderr",
     "output_type": "stream",
     "text": [
      "Epoch [151/300]:  39%|█████████████████████▎                                | 13/33 [00:00<00:00, 59.42it/s, loss=0.958]"
     ]
    },
    {
     "name": "stdout",
     "output_type": "stream",
     "text": [
      "15\n",
      "16\n",
      "17\n"
     ]
    },
    {
     "name": "stderr",
     "output_type": "stream",
     "text": [
      "Epoch [151/300]:  58%|███████████████████████████████▋                       | 19/33 [00:00<00:00, 55.62it/s, loss=1.02]"
     ]
    },
    {
     "name": "stdout",
     "output_type": "stream",
     "text": [
      "18\n",
      "19\n"
     ]
    },
    {
     "name": "stderr",
     "output_type": "stream",
     "text": [
      "Epoch [151/300]:  58%|███████████████████████████████                       | 19/33 [00:00<00:00, 55.62it/s, loss=0.859]"
     ]
    },
    {
     "name": "stdout",
     "output_type": "stream",
     "text": [
      "20\n",
      "21\n"
     ]
    },
    {
     "name": "stderr",
     "output_type": "stream",
     "text": [
      "Epoch [151/300]:  58%|███████████████████████████████                       | 19/33 [00:00<00:00, 55.62it/s, loss=0.691]"
     ]
    },
    {
     "name": "stdout",
     "output_type": "stream",
     "text": [
      "22\n",
      "23\n",
      "24\n"
     ]
    },
    {
     "name": "stderr",
     "output_type": "stream",
     "text": [
      "Epoch [151/300]:  76%|█████████████████████████████████████████▋             | 25/33 [00:00<00:00, 56.14it/s, loss=1.05]"
     ]
    },
    {
     "name": "stdout",
     "output_type": "stream",
     "text": [
      "25\n"
     ]
    },
    {
     "name": "stderr",
     "output_type": "stream",
     "text": [
      "\r",
      "Epoch [151/300]:  76%|████████████████████████████████████████▉             | 25/33 [00:00<00:00, 56.14it/s, loss=0.666]"
     ]
    },
    {
     "name": "stdout",
     "output_type": "stream",
     "text": [
      "26\n"
     ]
    },
    {
     "name": "stderr",
     "output_type": "stream",
     "text": [
      "Epoch [151/300]:  76%|█████████████████████████████████████████▋             | 25/33 [00:00<00:00, 56.14it/s, loss=1.04]"
     ]
    },
    {
     "name": "stdout",
     "output_type": "stream",
     "text": [
      "27\n",
      "28\n",
      "29\n",
      "30\n"
     ]
    },
    {
     "name": "stderr",
     "output_type": "stream",
     "text": [
      "Epoch [151/300]: 100%|██████████████████████████████████████████████████████| 33/33 [00:00<00:00, 57.87it/s, loss=0.427]"
     ]
    },
    {
     "name": "stdout",
     "output_type": "stream",
     "text": [
      "31\n",
      "32\n"
     ]
    },
    {
     "name": "stderr",
     "output_type": "stream",
     "text": [
      "\n",
      "\n",
      "Epoch [151/300]:   0%|                                                                  | 0/5 [00:00<?, ?it/s, loss=1.6]\u001b[A\n",
      "Epoch [151/300]:  20%|███████████▌                                              | 1/5 [00:00<00:02,  1.71it/s, loss=1.6]\u001b[A"
     ]
    },
    {
     "name": "stdout",
     "output_type": "stream",
     "text": [
      "0\n"
     ]
    },
    {
     "name": "stderr",
     "output_type": "stream",
     "text": [
      "\n",
      "Epoch [151/300]:  20%|███████████▏                                            | 1/5 [00:00<00:02,  1.71it/s, loss=0.898]\u001b[A\n",
      "Epoch [151/300]:  20%|███████████▏                                            | 1/5 [00:00<00:02,  1.71it/s, loss=0.779]\u001b[A\n",
      "Epoch [151/300]:  20%|███████████▍                                             | 1/5 [00:00<00:02,  1.71it/s, loss=1.18]\u001b[A\n",
      "Epoch [151/300]: 100%|████████████████████████████████████████████████████████| 5/5 [00:00<00:00,  7.78it/s, loss=0.133]\u001b[A\n"
     ]
    },
    {
     "name": "stdout",
     "output_type": "stream",
     "text": [
      "1\n",
      "2\n",
      "3\n",
      "4\n",
      "model improved and saved\n",
      "\n",
      "Epoch 151: train loss: 0.8147067274108077 \n",
      "Epoch 151: valid loss: 0.9172304213047028 \n"
     ]
    },
    {
     "name": "stderr",
     "output_type": "stream",
     "text": [
      "  0%|                                                                                            | 0/33 [00:00<?, ?it/s]\n",
      "Epoch [152/300]:   0%|                                                                           | 0/33 [00:00<?, ?it/s]\u001b[A\n",
      "Epoch [152/300]:   0%|                                                               | 0/33 [00:00<?, ?it/s, loss=0.704]\u001b[A"
     ]
    },
    {
     "name": "stdout",
     "output_type": "stream",
     "text": [
      "0\n"
     ]
    },
    {
     "name": "stderr",
     "output_type": "stream",
     "text": [
      "Epoch [152/300]:   0%|                                                               | 0/33 [00:00<?, ?it/s, loss=0.733]"
     ]
    },
    {
     "name": "stdout",
     "output_type": "stream",
     "text": [
      "1\n",
      "2\n",
      "3\n",
      "4\n"
     ]
    },
    {
     "name": "stderr",
     "output_type": "stream",
     "text": [
      "Epoch [152/300]:  18%|██████████                                             | 6/33 [00:00<00:00, 56.27it/s, loss=0.635]"
     ]
    },
    {
     "name": "stdout",
     "output_type": "stream",
     "text": [
      "5\n",
      "6\n"
     ]
    },
    {
     "name": "stderr",
     "output_type": "stream",
     "text": [
      "\r",
      "Epoch [152/300]:  18%|██████████                                             | 6/33 [00:00<00:00, 56.27it/s, loss=0.843]"
     ]
    },
    {
     "name": "stdout",
     "output_type": "stream",
     "text": [
      "7\n"
     ]
    },
    {
     "name": "stderr",
     "output_type": "stream",
     "text": [
      "Epoch [152/300]:  36%|███████████████████▋                                  | 12/33 [00:00<00:00, 57.75it/s, loss=0.832]"
     ]
    },
    {
     "name": "stdout",
     "output_type": "stream",
     "text": [
      "8\n",
      "9\n",
      "10\n",
      "11\n",
      "12\n"
     ]
    },
    {
     "name": "stderr",
     "output_type": "stream",
     "text": [
      "Epoch [152/300]:  36%|███████████████████▋                                  | 12/33 [00:00<00:00, 57.75it/s, loss=0.862]"
     ]
    },
    {
     "name": "stdout",
     "output_type": "stream",
     "text": [
      "13\n"
     ]
    },
    {
     "name": "stderr",
     "output_type": "stream",
     "text": [
      "Epoch [152/300]:  36%|███████████████████▋                                  | 12/33 [00:00<00:00, 57.75it/s, loss=0.973]"
     ]
    },
    {
     "name": "stdout",
     "output_type": "stream",
     "text": [
      "14\n",
      "15\n",
      "16\n",
      "17\n"
     ]
    },
    {
     "name": "stderr",
     "output_type": "stream",
     "text": [
      "Epoch [152/300]:  58%|███████████████████████████████▋                       | 19/33 [00:00<00:00, 58.82it/s, loss=1.03]"
     ]
    },
    {
     "name": "stdout",
     "output_type": "stream",
     "text": [
      "18\n",
      "19\n"
     ]
    },
    {
     "name": "stderr",
     "output_type": "stream",
     "text": [
      "\r",
      "Epoch [152/300]:  58%|███████████████████████████████▋                       | 19/33 [00:00<00:00, 58.82it/s, loss=1.15]"
     ]
    },
    {
     "name": "stdout",
     "output_type": "stream",
     "text": [
      "20\n"
     ]
    },
    {
     "name": "stderr",
     "output_type": "stream",
     "text": [
      "Epoch [152/300]:  58%|███████████████████████████████                       | 19/33 [00:00<00:00, 58.82it/s, loss=0.949]"
     ]
    },
    {
     "name": "stdout",
     "output_type": "stream",
     "text": [
      "21\n",
      "22\n",
      "23\n"
     ]
    },
    {
     "name": "stderr",
     "output_type": "stream",
     "text": [
      "Epoch [152/300]:  76%|████████████████████████████████████████▉             | 25/33 [00:00<00:00, 45.60it/s, loss=0.723]"
     ]
    },
    {
     "name": "stdout",
     "output_type": "stream",
     "text": [
      "24\n",
      "25\n"
     ]
    },
    {
     "name": "stderr",
     "output_type": "stream",
     "text": [
      "Epoch [152/300]:  76%|████████████████████████████████████████▉             | 25/33 [00:00<00:00, 45.60it/s, loss=0.846]"
     ]
    },
    {
     "name": "stdout",
     "output_type": "stream",
     "text": [
      "26\n",
      "27\n"
     ]
    },
    {
     "name": "stderr",
     "output_type": "stream",
     "text": [
      "\r",
      "Epoch [152/300]:  76%|████████████████████████████████████████▉             | 25/33 [00:00<00:00, 45.60it/s, loss=0.623]"
     ]
    },
    {
     "name": "stdout",
     "output_type": "stream",
     "text": [
      "28\n"
     ]
    },
    {
     "name": "stderr",
     "output_type": "stream",
     "text": [
      "Epoch [152/300]: 100%|████████████████████████████████████████████████████████| 33/33 [00:00<00:00, 53.35it/s, loss=1.7]\n",
      "\n",
      "Epoch [152/300]:   0%|                                                                  | 0/5 [00:00<?, ?it/s, loss=1.6]\u001b[A\n",
      "Epoch [152/300]:  20%|███████████▌                                              | 1/5 [00:00<00:02,  1.59it/s, loss=1.6]\u001b[A\n",
      "Epoch [152/300]:  20%|███████████▏                                            | 1/5 [00:00<00:02,  1.59it/s, loss=0.899]\u001b[A\n",
      "Epoch [152/300]:  20%|███████████▍                                             | 1/5 [00:00<00:02,  1.59it/s, loss=0.78]\u001b[A\n",
      "Epoch [152/300]:  20%|███████████▍                                             | 1/5 [00:00<00:02,  1.59it/s, loss=1.18]\u001b[A\n",
      "Epoch [152/300]: 100%|████████████████████████████████████████████████████████| 5/5 [00:00<00:00,  7.29it/s, loss=0.133]\u001b[A\n"
     ]
    },
    {
     "name": "stdout",
     "output_type": "stream",
     "text": [
      "29\n",
      "30\n",
      "31\n",
      "32\n",
      "0\n",
      "1\n",
      "2\n",
      "3\n",
      "4\n",
      "model improved and saved\n",
      "\n",
      "Epoch 152: train loss: 0.8449071266434409 \n",
      "Epoch 152: valid loss: 0.9176307648420334 \n"
     ]
    },
    {
     "name": "stderr",
     "output_type": "stream",
     "text": [
      "  0%|                                                                                            | 0/33 [00:00<?, ?it/s]\n",
      "Epoch [153/300]:   0%|                                                                           | 0/33 [00:00<?, ?it/s]\u001b[A\n",
      "Epoch [153/300]:   0%|                                                               | 0/33 [00:00<?, ?it/s, loss=0.755]\u001b[A"
     ]
    },
    {
     "name": "stdout",
     "output_type": "stream",
     "text": [
      "0\n"
     ]
    },
    {
     "name": "stderr",
     "output_type": "stream",
     "text": [
      "Epoch [153/300]:   0%|                                                                | 0/33 [00:00<?, ?it/s, loss=1.25]"
     ]
    },
    {
     "name": "stdout",
     "output_type": "stream",
     "text": [
      "1\n",
      "2\n"
     ]
    },
    {
     "name": "stderr",
     "output_type": "stream",
     "text": [
      "\r",
      "Epoch [153/300]:   0%|                                                               | 0/33 [00:00<?, ?it/s, loss=0.711]"
     ]
    },
    {
     "name": "stdout",
     "output_type": "stream",
     "text": [
      "3\n"
     ]
    },
    {
     "name": "stderr",
     "output_type": "stream",
     "text": [
      "Epoch [153/300]:  39%|█████████████████████▎                                | 13/33 [00:00<00:00, 62.46it/s, loss=0.995]"
     ]
    },
    {
     "name": "stdout",
     "output_type": "stream",
     "text": [
      "4\n",
      "5\n",
      "6\n",
      "7\n",
      "8\n",
      "9\n",
      "10\n",
      "11\n",
      "12\n",
      "13\n"
     ]
    },
    {
     "name": "stderr",
     "output_type": "stream",
     "text": [
      "\r",
      "Epoch [153/300]:  39%|█████████████████████▎                                | 13/33 [00:00<00:00, 62.46it/s, loss=0.987]"
     ]
    },
    {
     "name": "stdout",
     "output_type": "stream",
     "text": [
      "14\n"
     ]
    },
    {
     "name": "stderr",
     "output_type": "stream",
     "text": [
      "Epoch [153/300]:  39%|█████████████████████▎                                | 13/33 [00:00<00:00, 62.46it/s, loss=0.566]"
     ]
    },
    {
     "name": "stdout",
     "output_type": "stream",
     "text": [
      "15\n",
      "16\n"
     ]
    },
    {
     "name": "stderr",
     "output_type": "stream",
     "text": [
      "\r",
      "Epoch [153/300]:  39%|█████████████████████▋                                 | 13/33 [00:00<00:00, 62.46it/s, loss=1.15]"
     ]
    },
    {
     "name": "stdout",
     "output_type": "stream",
     "text": [
      "17\n"
     ]
    },
    {
     "name": "stderr",
     "output_type": "stream",
     "text": [
      "Epoch [153/300]:  82%|████████████████████████████████████████████▏         | 27/33 [00:00<00:00, 64.58it/s, loss=0.883]"
     ]
    },
    {
     "name": "stdout",
     "output_type": "stream",
     "text": [
      "18\n",
      "19\n",
      "20\n",
      "21\n",
      "22\n",
      "23\n",
      "24\n",
      "25\n",
      "26\n",
      "27\n"
     ]
    },
    {
     "name": "stderr",
     "output_type": "stream",
     "text": [
      "\r",
      "Epoch [153/300]:  82%|████████████████████████████████████████████▏         | 27/33 [00:00<00:00, 64.58it/s, loss=0.621]"
     ]
    },
    {
     "name": "stdout",
     "output_type": "stream",
     "text": [
      "28\n"
     ]
    },
    {
     "name": "stderr",
     "output_type": "stream",
     "text": [
      "\r",
      "Epoch [153/300]:  82%|█████████████████████████████████████████████          | 27/33 [00:00<00:00, 64.58it/s, loss=1.02]"
     ]
    },
    {
     "name": "stdout",
     "output_type": "stream",
     "text": [
      "29\n"
     ]
    },
    {
     "name": "stderr",
     "output_type": "stream",
     "text": [
      "Epoch [153/300]:  82%|████████████████████████████████████████████▏         | 27/33 [00:00<00:00, 64.58it/s, loss=0.976]"
     ]
    },
    {
     "name": "stdout",
     "output_type": "stream",
     "text": [
      "30\n",
      "31\n"
     ]
    },
    {
     "name": "stderr",
     "output_type": "stream",
     "text": [
      "Epoch [153/300]: 100%|██████████████████████████████████████████████████████| 33/33 [00:00<00:00, 64.34it/s, loss=0.251]\n",
      "\n",
      "Epoch [153/300]:   0%|                                                                  | 0/5 [00:00<?, ?it/s, loss=1.6]\u001b[A\n",
      "Epoch [153/300]:  20%|███████████▌                                              | 1/5 [00:00<00:02,  1.90it/s, loss=1.6]\u001b[A\n",
      "Epoch [153/300]:  20%|███████████▏                                            | 1/5 [00:00<00:02,  1.90it/s, loss=0.898]\u001b[A\n",
      "Epoch [153/300]:  20%|███████████▏                                            | 1/5 [00:00<00:02,  1.90it/s, loss=0.779]\u001b[A\n",
      "Epoch [153/300]:  20%|███████████▍                                             | 1/5 [00:00<00:02,  1.90it/s, loss=1.18]\u001b[A\n",
      "Epoch [153/300]: 100%|████████████████████████████████████████████████████████| 5/5 [00:00<00:00,  8.53it/s, loss=0.133]\u001b[A\n"
     ]
    },
    {
     "name": "stdout",
     "output_type": "stream",
     "text": [
      "32\n",
      "0\n",
      "1\n",
      "2\n",
      "3\n",
      "4\n",
      "model improved and saved\n",
      "\n",
      "Epoch 153: train loss: 0.8118687416567947 \n",
      "Epoch 153: valid loss: 0.9172757089138031 \n"
     ]
    },
    {
     "name": "stderr",
     "output_type": "stream",
     "text": [
      "  0%|                                                                                            | 0/33 [00:00<?, ?it/s]\n",
      "Epoch [154/300]:   0%|                                                                           | 0/33 [00:00<?, ?it/s]\u001b[A\n",
      "Epoch [154/300]:   0%|                                                               | 0/33 [00:00<?, ?it/s, loss=0.646]\u001b[A"
     ]
    },
    {
     "name": "stdout",
     "output_type": "stream",
     "text": [
      "0\n",
      "1\n"
     ]
    },
    {
     "name": "stderr",
     "output_type": "stream",
     "text": [
      "\r",
      "Epoch [154/300]:   0%|                                                               | 0/33 [00:00<?, ?it/s, loss=0.659]"
     ]
    },
    {
     "name": "stdout",
     "output_type": "stream",
     "text": [
      "2\n"
     ]
    },
    {
     "name": "stderr",
     "output_type": "stream",
     "text": [
      "\r",
      "Epoch [154/300]:   0%|                                                                 | 0/33 [00:00<?, ?it/s, loss=1.1]"
     ]
    },
    {
     "name": "stdout",
     "output_type": "stream",
     "text": [
      "3\n"
     ]
    },
    {
     "name": "stderr",
     "output_type": "stream",
     "text": [
      "Epoch [154/300]:  15%|████████▎                                              | 5/33 [00:00<00:00, 40.64it/s, loss=0.927]"
     ]
    },
    {
     "name": "stdout",
     "output_type": "stream",
     "text": [
      "4\n",
      "5\n",
      "6\n",
      "7\n",
      "8\n",
      "9\n",
      "10\n"
     ]
    },
    {
     "name": "stderr",
     "output_type": "stream",
     "text": [
      "Epoch [154/300]:  36%|███████████████████▋                                  | 12/33 [00:00<00:00, 52.12it/s, loss=0.807]"
     ]
    },
    {
     "name": "stdout",
     "output_type": "stream",
     "text": [
      "11\n",
      "12\n",
      "13\n"
     ]
    },
    {
     "name": "stderr",
     "output_type": "stream",
     "text": [
      "\r",
      "Epoch [154/300]:  36%|████████████████████                                   | 12/33 [00:00<00:00, 52.12it/s, loss=0.52]"
     ]
    },
    {
     "name": "stdout",
     "output_type": "stream",
     "text": [
      "14\n"
     ]
    },
    {
     "name": "stderr",
     "output_type": "stream",
     "text": [
      "Epoch [154/300]:  36%|███████████████████▋                                  | 12/33 [00:00<00:00, 52.12it/s, loss=0.822]"
     ]
    },
    {
     "name": "stdout",
     "output_type": "stream",
     "text": [
      "15\n",
      "16\n"
     ]
    },
    {
     "name": "stderr",
     "output_type": "stream",
     "text": [
      "Epoch [154/300]:  58%|███████████████████████████████                       | 19/33 [00:00<00:00, 57.48it/s, loss=0.816]"
     ]
    },
    {
     "name": "stdout",
     "output_type": "stream",
     "text": [
      "17\n",
      "18\n",
      "19\n",
      "20\n",
      "21\n",
      "22\n",
      "23\n"
     ]
    },
    {
     "name": "stderr",
     "output_type": "stream",
     "text": [
      "Epoch [154/300]:  79%|███████████████████████████████████████████▎           | 26/33 [00:00<00:00, 60.02it/s, loss=1.07]"
     ]
    },
    {
     "name": "stdout",
     "output_type": "stream",
     "text": [
      "24\n",
      "25\n",
      "26\n"
     ]
    },
    {
     "name": "stderr",
     "output_type": "stream",
     "text": [
      "\r",
      "Epoch [154/300]:  79%|██████████████████████████████████████████▌           | 26/33 [00:00<00:00, 60.02it/s, loss=0.692]"
     ]
    },
    {
     "name": "stdout",
     "output_type": "stream",
     "text": [
      "27\n"
     ]
    },
    {
     "name": "stderr",
     "output_type": "stream",
     "text": [
      "Epoch [154/300]:  79%|██████████████████████████████████████████▌           | 26/33 [00:00<00:00, 60.02it/s, loss=0.563]"
     ]
    },
    {
     "name": "stdout",
     "output_type": "stream",
     "text": [
      "28\n",
      "29\n"
     ]
    },
    {
     "name": "stderr",
     "output_type": "stream",
     "text": [
      "Epoch [154/300]: 100%|███████████████████████████████████████████████████████| 33/33 [00:00<00:00, 58.76it/s, loss=2.13]\n",
      "\n",
      "Epoch [154/300]:   0%|                                                                  | 0/5 [00:00<?, ?it/s, loss=1.6]\u001b[A\n",
      "Epoch [154/300]:  20%|███████████▌                                              | 1/5 [00:00<00:02,  1.74it/s, loss=1.6]\u001b[A\n",
      "Epoch [154/300]:  20%|███████████▏                                            | 1/5 [00:00<00:02,  1.74it/s, loss=0.898]\u001b[A\n",
      "Epoch [154/300]:  20%|███████████▏                                            | 1/5 [00:00<00:02,  1.74it/s, loss=0.779]\u001b[A\n",
      "Epoch [154/300]:  20%|███████████▍                                             | 1/5 [00:00<00:02,  1.74it/s, loss=1.18]\u001b[A\n",
      "Epoch [154/300]:  20%|███████████▏                                            | 1/5 [00:00<00:02,  1.74it/s, loss=0.134]\u001b[A"
     ]
    },
    {
     "name": "stdout",
     "output_type": "stream",
     "text": [
      "30\n",
      "31\n",
      "32\n",
      "0\n",
      "1\n",
      "2\n",
      "3\n",
      "4\n"
     ]
    },
    {
     "name": "stderr",
     "output_type": "stream",
     "text": [
      "Epoch [154/300]: 100%|████████████████████████████████████████████████████████| 5/5 [00:00<00:00,  7.82it/s, loss=0.134]\n"
     ]
    },
    {
     "name": "stdout",
     "output_type": "stream",
     "text": [
      "model improved and saved\n",
      "\n",
      "Epoch 154: train loss: 0.8619784730853457 \n",
      "Epoch 154: valid loss: 0.9169098794460296 \n"
     ]
    },
    {
     "name": "stderr",
     "output_type": "stream",
     "text": [
      "  0%|                                                                                            | 0/33 [00:00<?, ?it/s]\n",
      "Epoch [155/300]:   0%|                                                                           | 0/33 [00:00<?, ?it/s]\u001b[A\n",
      "Epoch [155/300]:   0%|                                                               | 0/33 [00:00<?, ?it/s, loss=0.883]\u001b[A"
     ]
    },
    {
     "name": "stdout",
     "output_type": "stream",
     "text": [
      "0\n"
     ]
    },
    {
     "name": "stderr",
     "output_type": "stream",
     "text": [
      "\r",
      "Epoch [155/300]:   0%|                                                               | 0/33 [00:00<?, ?it/s, loss=0.818]"
     ]
    },
    {
     "name": "stdout",
     "output_type": "stream",
     "text": [
      "1\n"
     ]
    },
    {
     "name": "stderr",
     "output_type": "stream",
     "text": [
      "Epoch [155/300]:   0%|                                                               | 0/33 [00:00<?, ?it/s, loss=0.972]"
     ]
    },
    {
     "name": "stdout",
     "output_type": "stream",
     "text": [
      "2\n",
      "3\n"
     ]
    },
    {
     "name": "stderr",
     "output_type": "stream",
     "text": [
      "Epoch [155/300]:  18%|██████████                                             | 6/33 [00:00<00:00, 52.60it/s, loss=0.582]"
     ]
    },
    {
     "name": "stdout",
     "output_type": "stream",
     "text": [
      "4\n",
      "5\n",
      "6\n",
      "7\n",
      "8\n",
      "9\n",
      "10\n"
     ]
    },
    {
     "name": "stderr",
     "output_type": "stream",
     "text": [
      "Epoch [155/300]:  36%|███████████████████▋                                  | 12/33 [00:00<00:00, 54.23it/s, loss=0.681]"
     ]
    },
    {
     "name": "stdout",
     "output_type": "stream",
     "text": [
      "11\n"
     ]
    },
    {
     "name": "stderr",
     "output_type": "stream",
     "text": [
      "\r",
      "Epoch [155/300]:  36%|███████████████████▋                                  | 12/33 [00:00<00:00, 54.23it/s, loss=0.737]"
     ]
    },
    {
     "name": "stdout",
     "output_type": "stream",
     "text": [
      "12\n"
     ]
    },
    {
     "name": "stderr",
     "output_type": "stream",
     "text": [
      "\r",
      "Epoch [155/300]:  36%|███████████████████▋                                  | 12/33 [00:00<00:00, 54.23it/s, loss=0.894]"
     ]
    },
    {
     "name": "stdout",
     "output_type": "stream",
     "text": [
      "13\n"
     ]
    },
    {
     "name": "stderr",
     "output_type": "stream",
     "text": [
      "Epoch [155/300]:  55%|█████████████████████████████▍                        | 18/33 [00:00<00:00, 47.02it/s, loss=0.692]"
     ]
    },
    {
     "name": "stdout",
     "output_type": "stream",
     "text": [
      "14\n",
      "15\n",
      "16\n",
      "17\n",
      "18\n"
     ]
    },
    {
     "name": "stderr",
     "output_type": "stream",
     "text": [
      "Epoch [155/300]:  55%|█████████████████████████████▍                        | 18/33 [00:00<00:00, 47.02it/s, loss=0.975]"
     ]
    },
    {
     "name": "stdout",
     "output_type": "stream",
     "text": [
      "19\n",
      "20\n"
     ]
    },
    {
     "name": "stderr",
     "output_type": "stream",
     "text": [
      "Epoch [155/300]:  70%|█████████████████████████████████████▋                | 23/33 [00:00<00:00, 47.51it/s, loss=0.921]"
     ]
    },
    {
     "name": "stdout",
     "output_type": "stream",
     "text": [
      "21\n",
      "22\n"
     ]
    },
    {
     "name": "stderr",
     "output_type": "stream",
     "text": [
      "Epoch [155/300]:  70%|█████████████████████████████████████▋                | 23/33 [00:00<00:00, 47.51it/s, loss=0.876]"
     ]
    },
    {
     "name": "stdout",
     "output_type": "stream",
     "text": [
      "23\n",
      "24\n"
     ]
    },
    {
     "name": "stderr",
     "output_type": "stream",
     "text": [
      "Epoch [155/300]:  91%|█████████████████████████████████████████████████     | 30/33 [00:00<00:00, 52.45it/s, loss=0.858]"
     ]
    },
    {
     "name": "stdout",
     "output_type": "stream",
     "text": [
      "25\n",
      "26\n",
      "27\n",
      "28\n",
      "29\n",
      "30\n",
      "31\n"
     ]
    },
    {
     "name": "stderr",
     "output_type": "stream",
     "text": [
      "Epoch [155/300]: 100%|██████████████████████████████████████████████████████| 33/33 [00:00<00:00, 52.55it/s, loss=0.812]\n",
      "\n",
      "Epoch [155/300]:   0%|                                                                  | 0/5 [00:00<?, ?it/s, loss=1.6]\u001b[A\n",
      "Epoch [155/300]:  20%|███████████▌                                              | 1/5 [00:00<00:02,  1.56it/s, loss=1.6]\u001b[A"
     ]
    },
    {
     "name": "stdout",
     "output_type": "stream",
     "text": [
      "32\n",
      "0\n"
     ]
    },
    {
     "name": "stderr",
     "output_type": "stream",
     "text": [
      "\n",
      "Epoch [155/300]:  20%|███████████▏                                            | 1/5 [00:00<00:02,  1.56it/s, loss=0.898]\u001b[A\n",
      "Epoch [155/300]:  20%|███████████▏                                            | 1/5 [00:00<00:02,  1.56it/s, loss=0.779]\u001b[A"
     ]
    },
    {
     "name": "stdout",
     "output_type": "stream",
     "text": [
      "1\n",
      "2\n"
     ]
    },
    {
     "name": "stderr",
     "output_type": "stream",
     "text": [
      "\n",
      "Epoch [155/300]:  20%|███████████▍                                             | 1/5 [00:00<00:02,  1.56it/s, loss=1.18]\u001b[A\n",
      "Epoch [155/300]: 100%|████████████████████████████████████████████████████████| 5/5 [00:00<00:00,  7.06it/s, loss=0.134]\u001b[A\n"
     ]
    },
    {
     "name": "stdout",
     "output_type": "stream",
     "text": [
      "3\n",
      "4\n",
      "model improved and saved\n",
      "\n",
      "Epoch 155: train loss: 0.826424959934119 \n",
      "Epoch 155: valid loss: 0.9169541329145432 \n"
     ]
    },
    {
     "name": "stderr",
     "output_type": "stream",
     "text": [
      "  0%|                                                                                            | 0/33 [00:00<?, ?it/s]\n",
      "Epoch [156/300]:   0%|                                                                           | 0/33 [00:00<?, ?it/s]\u001b[A\n",
      "Epoch [156/300]:   0%|                                                               | 0/33 [00:00<?, ?it/s, loss=0.637]\u001b[A"
     ]
    },
    {
     "name": "stdout",
     "output_type": "stream",
     "text": [
      "0\n",
      "1\n",
      "2\n",
      "3\n",
      "4\n",
      "5\n"
     ]
    },
    {
     "name": "stderr",
     "output_type": "stream",
     "text": [
      "Epoch [156/300]:  18%|██████████                                             | 6/33 [00:00<00:00, 55.55it/s, loss=0.952]"
     ]
    },
    {
     "name": "stdout",
     "output_type": "stream",
     "text": [
      "6\n"
     ]
    },
    {
     "name": "stderr",
     "output_type": "stream",
     "text": [
      "Epoch [156/300]:  18%|██████████                                             | 6/33 [00:00<00:00, 55.55it/s, loss=0.774]"
     ]
    },
    {
     "name": "stdout",
     "output_type": "stream",
     "text": [
      "7\n",
      "8\n"
     ]
    },
    {
     "name": "stderr",
     "output_type": "stream",
     "text": [
      "Epoch [156/300]:  18%|██████████                                             | 6/33 [00:00<00:00, 55.55it/s, loss=0.758]"
     ]
    },
    {
     "name": "stdout",
     "output_type": "stream",
     "text": [
      "9\n",
      "10\n"
     ]
    },
    {
     "name": "stderr",
     "output_type": "stream",
     "text": [
      "Epoch [156/300]:  36%|███████████████████▋                                  | 12/33 [00:00<00:00, 51.61it/s, loss=0.651]"
     ]
    },
    {
     "name": "stdout",
     "output_type": "stream",
     "text": [
      "11\n",
      "12\n",
      "13\n",
      "14\n",
      "15\n",
      "16\n",
      "17\n"
     ]
    },
    {
     "name": "stderr",
     "output_type": "stream",
     "text": [
      "Epoch [156/300]:  58%|███████████████████████████████                       | 19/33 [00:00<00:00, 57.68it/s, loss=0.722]"
     ]
    },
    {
     "name": "stdout",
     "output_type": "stream",
     "text": [
      "18\n",
      "19\n"
     ]
    },
    {
     "name": "stderr",
     "output_type": "stream",
     "text": [
      "Epoch [156/300]:  58%|███████████████████████████████                       | 19/33 [00:00<00:00, 57.68it/s, loss=0.817]"
     ]
    },
    {
     "name": "stdout",
     "output_type": "stream",
     "text": [
      "20\n",
      "21\n"
     ]
    },
    {
     "name": "stderr",
     "output_type": "stream",
     "text": [
      "Epoch [156/300]:  58%|████████████████████████████████▏                       | 19/33 [00:00<00:00, 57.68it/s, loss=1.1]"
     ]
    },
    {
     "name": "stdout",
     "output_type": "stream",
     "text": [
      "22\n",
      "23\n"
     ]
    },
    {
     "name": "stderr",
     "output_type": "stream",
     "text": [
      "Epoch [156/300]:  79%|██████████████████████████████████████████▌           | 26/33 [00:00<00:00, 59.35it/s, loss=0.953]"
     ]
    },
    {
     "name": "stdout",
     "output_type": "stream",
     "text": [
      "24\n",
      "25\n",
      "26\n",
      "27\n",
      "28\n",
      "29\n",
      "30\n"
     ]
    },
    {
     "name": "stderr",
     "output_type": "stream",
     "text": [
      "Epoch [156/300]: 100%|██████████████████████████████████████████████████████| 33/33 [00:00<00:00, 59.27it/s, loss=0.224]\n",
      "\n",
      "Epoch [156/300]:   0%|                                                                  | 0/5 [00:00<?, ?it/s, loss=1.6]"
     ]
    },
    {
     "name": "stdout",
     "output_type": "stream",
     "text": [
      "31\n",
      "32\n",
      "0\n"
     ]
    },
    {
     "name": "stderr",
     "output_type": "stream",
     "text": [
      "\u001b[A\n",
      "Epoch [156/300]:  20%|███████████▌                                              | 1/5 [00:00<00:02,  1.76it/s, loss=1.6]\u001b[A\n",
      "Epoch [156/300]:  20%|███████████▏                                            | 1/5 [00:00<00:02,  1.76it/s, loss=0.898]\u001b[A"
     ]
    },
    {
     "name": "stdout",
     "output_type": "stream",
     "text": [
      "1\n"
     ]
    },
    {
     "name": "stderr",
     "output_type": "stream",
     "text": [
      "\n",
      "Epoch [156/300]:  20%|███████████▏                                            | 1/5 [00:00<00:02,  1.76it/s, loss=0.779]\u001b[A\n",
      "Epoch [156/300]:  20%|███████████▍                                             | 1/5 [00:00<00:02,  1.76it/s, loss=1.18]\u001b[A\n",
      "Epoch [156/300]: 100%|████████████████████████████████████████████████████████| 5/5 [00:00<00:00,  8.04it/s, loss=0.134]\u001b[A\n"
     ]
    },
    {
     "name": "stdout",
     "output_type": "stream",
     "text": [
      "2\n",
      "3\n",
      "4\n",
      "model improved and saved\n",
      "\n",
      "Epoch 156: train loss: 0.806434511235266 \n",
      "Epoch 156: valid loss: 0.9169883757829667 \n"
     ]
    },
    {
     "name": "stderr",
     "output_type": "stream",
     "text": [
      "  0%|                                                                                            | 0/33 [00:00<?, ?it/s]\n",
      "Epoch [157/300]:   0%|                                                                           | 0/33 [00:00<?, ?it/s]\u001b[A\n",
      "Epoch [157/300]:   0%|                                                               | 0/33 [00:00<?, ?it/s, loss=0.977]\u001b[A"
     ]
    },
    {
     "name": "stdout",
     "output_type": "stream",
     "text": [
      "0\n",
      "1\n",
      "2\n",
      "3\n",
      "4\n",
      "5\n"
     ]
    },
    {
     "name": "stderr",
     "output_type": "stream",
     "text": [
      "Epoch [157/300]:  18%|██████████                                             | 6/33 [00:00<00:00, 52.52it/s, loss=0.649]"
     ]
    },
    {
     "name": "stdout",
     "output_type": "stream",
     "text": [
      "6\n",
      "7\n"
     ]
    },
    {
     "name": "stderr",
     "output_type": "stream",
     "text": [
      "\r",
      "Epoch [157/300]:  18%|██████████                                             | 6/33 [00:00<00:00, 52.52it/s, loss=0.757]"
     ]
    },
    {
     "name": "stdout",
     "output_type": "stream",
     "text": [
      "8\n"
     ]
    },
    {
     "name": "stderr",
     "output_type": "stream",
     "text": [
      "Epoch [157/300]:  39%|█████████████████████▎                                | 13/33 [00:00<00:00, 59.84it/s, loss=0.719]"
     ]
    },
    {
     "name": "stdout",
     "output_type": "stream",
     "text": [
      "9\n",
      "10\n",
      "11\n",
      "12\n"
     ]
    },
    {
     "name": "stderr",
     "output_type": "stream",
     "text": [
      "Epoch [157/300]:  61%|████████████████████████████████▋                     | 20/33 [00:00<00:00, 62.78it/s, loss=0.832]"
     ]
    },
    {
     "name": "stdout",
     "output_type": "stream",
     "text": [
      "13\n",
      "14\n",
      "15\n",
      "16\n",
      "17\n",
      "18\n",
      "19\n"
     ]
    },
    {
     "name": "stderr",
     "output_type": "stream",
     "text": [
      "\r",
      "Epoch [157/300]:  61%|████████████████████████████████▋                     | 20/33 [00:00<00:00, 62.78it/s, loss=0.628]"
     ]
    },
    {
     "name": "stdout",
     "output_type": "stream",
     "text": [
      "20\n"
     ]
    },
    {
     "name": "stderr",
     "output_type": "stream",
     "text": [
      "\r",
      "Epoch [157/300]:  61%|█████████████████████████████████▎                     | 20/33 [00:00<00:00, 62.78it/s, loss=0.87]"
     ]
    },
    {
     "name": "stdout",
     "output_type": "stream",
     "text": [
      "21\n"
     ]
    },
    {
     "name": "stderr",
     "output_type": "stream",
     "text": [
      "Epoch [157/300]:  61%|████████████████████████████████▋                     | 20/33 [00:00<00:00, 62.78it/s, loss=0.884]"
     ]
    },
    {
     "name": "stdout",
     "output_type": "stream",
     "text": [
      "22\n",
      "23\n",
      "24\n",
      "25\n"
     ]
    },
    {
     "name": "stderr",
     "output_type": "stream",
     "text": [
      "Epoch [157/300]: 100%|██████████████████████████████████████████████████████| 33/33 [00:00<00:00, 62.55it/s, loss=0.381]\n",
      "\n",
      "Epoch [157/300]:   0%|                                                                  | 0/5 [00:00<?, ?it/s, loss=1.6]\u001b[A\n"
     ]
    },
    {
     "name": "stdout",
     "output_type": "stream",
     "text": [
      "26\n",
      "27\n",
      "28\n",
      "29\n",
      "30\n",
      "31\n",
      "32\n",
      "0\n"
     ]
    },
    {
     "name": "stderr",
     "output_type": "stream",
     "text": [
      "Epoch [157/300]:  20%|███████████▌                                              | 1/5 [00:00<00:02,  1.85it/s, loss=1.6]\u001b[A\n",
      "Epoch [157/300]:  20%|███████████▏                                            | 1/5 [00:00<00:02,  1.85it/s, loss=0.898]\u001b[A"
     ]
    },
    {
     "name": "stdout",
     "output_type": "stream",
     "text": [
      "1\n"
     ]
    },
    {
     "name": "stderr",
     "output_type": "stream",
     "text": [
      "\n",
      "Epoch [157/300]:  20%|███████████▏                                            | 1/5 [00:00<00:02,  1.85it/s, loss=0.779]\u001b[A"
     ]
    },
    {
     "name": "stdout",
     "output_type": "stream",
     "text": [
      "2\n"
     ]
    },
    {
     "name": "stderr",
     "output_type": "stream",
     "text": [
      "\n",
      "Epoch [157/300]:  20%|███████████▍                                             | 1/5 [00:00<00:02,  1.85it/s, loss=1.18]\u001b[A\n",
      "Epoch [157/300]: 100%|████████████████████████████████████████████████████████| 5/5 [00:00<00:00,  8.31it/s, loss=0.134]\u001b[A\n"
     ]
    },
    {
     "name": "stdout",
     "output_type": "stream",
     "text": [
      "3\n",
      "4\n",
      "model improved and saved\n",
      "\n",
      "Epoch 157: train loss: 0.8078577690052263 \n",
      "Epoch 157: valid loss: 0.9171992003917694 \n"
     ]
    },
    {
     "name": "stderr",
     "output_type": "stream",
     "text": [
      "  0%|                                                                                            | 0/33 [00:00<?, ?it/s]\n",
      "Epoch [158/300]:   0%|                                                                           | 0/33 [00:00<?, ?it/s]\u001b[A\n",
      "Epoch [158/300]:   0%|                                                               | 0/33 [00:00<?, ?it/s, loss=0.697]\u001b[A"
     ]
    },
    {
     "name": "stdout",
     "output_type": "stream",
     "text": [
      "0\n"
     ]
    },
    {
     "name": "stderr",
     "output_type": "stream",
     "text": [
      "Epoch [158/300]:  18%|██████████▏                                             | 6/33 [00:00<00:00, 58.71it/s, loss=0.84]"
     ]
    },
    {
     "name": "stdout",
     "output_type": "stream",
     "text": [
      "1\n",
      "2\n",
      "3\n",
      "4\n",
      "5\n",
      "6\n",
      "7\n"
     ]
    },
    {
     "name": "stderr",
     "output_type": "stream",
     "text": [
      "\r",
      "Epoch [158/300]:  18%|██████████                                             | 6/33 [00:00<00:00, 58.71it/s, loss=0.702]"
     ]
    },
    {
     "name": "stdout",
     "output_type": "stream",
     "text": [
      "8\n"
     ]
    },
    {
     "name": "stderr",
     "output_type": "stream",
     "text": [
      "\r",
      "Epoch [158/300]:  18%|██████████▏                                             | 6/33 [00:00<00:00, 58.71it/s, loss=0.84]"
     ]
    },
    {
     "name": "stdout",
     "output_type": "stream",
     "text": [
      "9\n"
     ]
    },
    {
     "name": "stderr",
     "output_type": "stream",
     "text": [
      "Epoch [158/300]:  36%|████████████████████                                   | 12/33 [00:00<00:00, 56.48it/s, loss=0.91]"
     ]
    },
    {
     "name": "stdout",
     "output_type": "stream",
     "text": [
      "10\n",
      "11\n"
     ]
    },
    {
     "name": "stderr",
     "output_type": "stream",
     "text": [
      "\r",
      "Epoch [158/300]:  36%|████████████████████                                   | 12/33 [00:00<00:00, 56.48it/s, loss=1.09]"
     ]
    },
    {
     "name": "stdout",
     "output_type": "stream",
     "text": [
      "12\n"
     ]
    },
    {
     "name": "stderr",
     "output_type": "stream",
     "text": [
      "Epoch [158/300]:  55%|█████████████████████████████▉                         | 18/33 [00:00<00:00, 52.91it/s, loss=1.24]"
     ]
    },
    {
     "name": "stdout",
     "output_type": "stream",
     "text": [
      "13\n",
      "14\n",
      "15\n",
      "16\n",
      "17\n"
     ]
    },
    {
     "name": "stderr",
     "output_type": "stream",
     "text": [
      "\r",
      "Epoch [158/300]:  55%|█████████████████████████████▍                        | 18/33 [00:00<00:00, 52.91it/s, loss=0.972]"
     ]
    },
    {
     "name": "stdout",
     "output_type": "stream",
     "text": [
      "18\n"
     ]
    },
    {
     "name": "stderr",
     "output_type": "stream",
     "text": [
      "Epoch [158/300]:  55%|█████████████████████████████▍                        | 18/33 [00:00<00:00, 52.91it/s, loss=0.942]"
     ]
    },
    {
     "name": "stdout",
     "output_type": "stream",
     "text": [
      "19\n",
      "20\n"
     ]
    },
    {
     "name": "stderr",
     "output_type": "stream",
     "text": [
      "Epoch [158/300]:  55%|█████████████████████████████▍                        | 18/33 [00:00<00:00, 52.91it/s, loss=0.871]"
     ]
    },
    {
     "name": "stdout",
     "output_type": "stream",
     "text": [
      "21\n",
      "22\n",
      "23\n"
     ]
    },
    {
     "name": "stderr",
     "output_type": "stream",
     "text": [
      "Epoch [158/300]:  76%|████████████████████████████████████████▉             | 25/33 [00:00<00:00, 56.11it/s, loss=0.461]"
     ]
    },
    {
     "name": "stdout",
     "output_type": "stream",
     "text": [
      "24\n"
     ]
    },
    {
     "name": "stderr",
     "output_type": "stream",
     "text": [
      "Epoch [158/300]:  76%|████████████████████████████████████████▉             | 25/33 [00:00<00:00, 56.11it/s, loss=0.902]"
     ]
    },
    {
     "name": "stdout",
     "output_type": "stream",
     "text": [
      "25\n",
      "26\n",
      "27\n",
      "28\n",
      "29\n"
     ]
    },
    {
     "name": "stderr",
     "output_type": "stream",
     "text": [
      "Epoch [158/300]:  94%|██████████████████████████████████████████████████▋   | 31/33 [00:00<00:00, 55.00it/s, loss=0.591]"
     ]
    },
    {
     "name": "stdout",
     "output_type": "stream",
     "text": [
      "30\n"
     ]
    },
    {
     "name": "stderr",
     "output_type": "stream",
     "text": [
      "Epoch [158/300]: 100%|██████████████████████████████████████████████████████| 33/33 [00:00<00:00, 56.36it/s, loss=0.838]\n",
      "\n",
      "Epoch [158/300]:   0%|                                                                  | 0/5 [00:00<?, ?it/s, loss=1.6]\u001b[A\n"
     ]
    },
    {
     "name": "stdout",
     "output_type": "stream",
     "text": [
      "31\n",
      "32\n",
      "0\n"
     ]
    },
    {
     "name": "stderr",
     "output_type": "stream",
     "text": [
      "Epoch [158/300]:  20%|███████████▌                                              | 1/5 [00:00<00:02,  1.68it/s, loss=1.6]\u001b[A\n",
      "Epoch [158/300]:  20%|███████████▏                                            | 1/5 [00:00<00:02,  1.68it/s, loss=0.898]\u001b[A\n",
      "Epoch [158/300]:  20%|███████████▏                                            | 1/5 [00:00<00:02,  1.68it/s, loss=0.779]\u001b[A"
     ]
    },
    {
     "name": "stdout",
     "output_type": "stream",
     "text": [
      "1\n",
      "2\n"
     ]
    },
    {
     "name": "stderr",
     "output_type": "stream",
     "text": [
      "\n",
      "Epoch [158/300]:  20%|███████████▍                                             | 1/5 [00:00<00:02,  1.68it/s, loss=1.18]\u001b[A\n",
      "Epoch [158/300]: 100%|████████████████████████████████████████████████████████| 5/5 [00:00<00:00,  7.56it/s, loss=0.134]\u001b[A"
     ]
    },
    {
     "name": "stdout",
     "output_type": "stream",
     "text": [
      "3\n",
      "4\n",
      "model improved and saved\n",
      "\n",
      "Epoch 158: train loss: 0.8196939645391522 \n",
      "Epoch 158: valid loss: 0.9174252867698669 \n"
     ]
    },
    {
     "name": "stderr",
     "output_type": "stream",
     "text": [
      "\n",
      "  0%|                                                                                            | 0/33 [00:00<?, ?it/s]\n",
      "Epoch [159/300]:   0%|                                                                           | 0/33 [00:00<?, ?it/s]\u001b[A\n",
      "Epoch [159/300]:   0%|                                                               | 0/33 [00:00<?, ?it/s, loss=0.976]\u001b[A"
     ]
    },
    {
     "name": "stdout",
     "output_type": "stream",
     "text": [
      "0\n",
      "1\n",
      "2\n",
      "3\n"
     ]
    },
    {
     "name": "stderr",
     "output_type": "stream",
     "text": [
      "\r",
      "Epoch [159/300]:   0%|                                                               | 0/33 [00:00<?, ?it/s, loss=0.851]"
     ]
    },
    {
     "name": "stdout",
     "output_type": "stream",
     "text": [
      "4\n"
     ]
    },
    {
     "name": "stderr",
     "output_type": "stream",
     "text": [
      "Epoch [159/300]:  18%|██████████▏                                             | 6/33 [00:00<00:00, 54.99it/s, loss=1.11]"
     ]
    },
    {
     "name": "stdout",
     "output_type": "stream",
     "text": [
      "5\n",
      "6\n",
      "7\n"
     ]
    },
    {
     "name": "stderr",
     "output_type": "stream",
     "text": [
      "Epoch [159/300]:  18%|██████████                                             | 6/33 [00:00<00:00, 54.99it/s, loss=0.759]"
     ]
    },
    {
     "name": "stdout",
     "output_type": "stream",
     "text": [
      "8\n",
      "9\n"
     ]
    },
    {
     "name": "stderr",
     "output_type": "stream",
     "text": [
      "Epoch [159/300]:  39%|█████████████████████▋                                 | 13/33 [00:00<00:00, 60.92it/s, loss=1.46]"
     ]
    },
    {
     "name": "stdout",
     "output_type": "stream",
     "text": [
      "10\n",
      "11\n",
      "12\n"
     ]
    },
    {
     "name": "stderr",
     "output_type": "stream",
     "text": [
      "Epoch [159/300]:  39%|█████████████████████▎                                | 13/33 [00:00<00:00, 60.92it/s, loss=0.804]"
     ]
    },
    {
     "name": "stdout",
     "output_type": "stream",
     "text": [
      "13\n",
      "14\n",
      "15\n",
      "16\n",
      "17\n"
     ]
    },
    {
     "name": "stderr",
     "output_type": "stream",
     "text": [
      "Epoch [159/300]:  39%|█████████████████████▎                                | 13/33 [00:00<00:00, 60.92it/s, loss=0.925]"
     ]
    },
    {
     "name": "stdout",
     "output_type": "stream",
     "text": [
      "18\n"
     ]
    },
    {
     "name": "stderr",
     "output_type": "stream",
     "text": [
      "Epoch [159/300]:  61%|█████████████████████████████████▎                     | 20/33 [00:00<00:00, 62.14it/s, loss=0.61]"
     ]
    },
    {
     "name": "stdout",
     "output_type": "stream",
     "text": [
      "19\n",
      "20\n",
      "21\n"
     ]
    },
    {
     "name": "stderr",
     "output_type": "stream",
     "text": [
      "Epoch [159/300]:  61%|█████████████████████████████████▎                     | 20/33 [00:00<00:00, 62.14it/s, loss=1.01]"
     ]
    },
    {
     "name": "stdout",
     "output_type": "stream",
     "text": [
      "22\n",
      "23\n"
     ]
    },
    {
     "name": "stderr",
     "output_type": "stream",
     "text": [
      "Epoch [159/300]:  82%|████████████████████████████████████████████▏         | 27/33 [00:00<00:00, 64.36it/s, loss=0.564]"
     ]
    },
    {
     "name": "stdout",
     "output_type": "stream",
     "text": [
      "24\n",
      "25\n",
      "26\n"
     ]
    },
    {
     "name": "stderr",
     "output_type": "stream",
     "text": [
      "Epoch [159/300]:  82%|████████████████████████████████████████████▏         | 27/33 [00:00<00:00, 64.36it/s, loss=0.656]"
     ]
    },
    {
     "name": "stdout",
     "output_type": "stream",
     "text": [
      "27\n",
      "28\n",
      "29\n",
      "30\n"
     ]
    },
    {
     "name": "stderr",
     "output_type": "stream",
     "text": [
      "Epoch [159/300]: 100%|██████████████████████████████████████████████████████| 33/33 [00:00<00:00, 63.56it/s, loss=0.596]"
     ]
    },
    {
     "name": "stdout",
     "output_type": "stream",
     "text": [
      "31\n",
      "32\n"
     ]
    },
    {
     "name": "stderr",
     "output_type": "stream",
     "text": [
      "\n",
      "\n",
      "Epoch [159/300]:   0%|                                                                  | 0/5 [00:00<?, ?it/s, loss=1.6]\u001b[A\n",
      "Epoch [159/300]:  20%|███████████▌                                              | 1/5 [00:00<00:02,  1.88it/s, loss=1.6]\u001b[A\n",
      "Epoch [159/300]:  20%|███████████▏                                            | 1/5 [00:00<00:02,  1.88it/s, loss=0.899]\u001b[A\n"
     ]
    },
    {
     "name": "stdout",
     "output_type": "stream",
     "text": [
      "0\n",
      "1\n",
      "2\n"
     ]
    },
    {
     "name": "stderr",
     "output_type": "stream",
     "text": [
      "Epoch [159/300]:  20%|███████████▍                                             | 1/5 [00:00<00:02,  1.88it/s, loss=0.78]\u001b[A\n",
      "Epoch [159/300]:  20%|███████████▍                                             | 1/5 [00:00<00:02,  1.88it/s, loss=1.18]\u001b[A\n",
      "Epoch [159/300]: 100%|████████████████████████████████████████████████████████| 5/5 [00:00<00:00,  8.53it/s, loss=0.134]\u001b[A\n"
     ]
    },
    {
     "name": "stdout",
     "output_type": "stream",
     "text": [
      "3\n",
      "4\n",
      "model improved and saved\n",
      "\n",
      "Epoch 159: train loss: 0.8163478753783486 \n",
      "Epoch 159: valid loss: 0.9175898671150208 \n"
     ]
    },
    {
     "name": "stderr",
     "output_type": "stream",
     "text": [
      "  0%|                                                                                            | 0/33 [00:00<?, ?it/s]\n",
      "Epoch [160/300]:   0%|                                                                           | 0/33 [00:00<?, ?it/s]\u001b[A\n",
      "Epoch [160/300]:   0%|                                                               | 0/33 [00:00<?, ?it/s, loss=0.835]\u001b[A"
     ]
    },
    {
     "name": "stdout",
     "output_type": "stream",
     "text": [
      "0\n",
      "1\n"
     ]
    },
    {
     "name": "stderr",
     "output_type": "stream",
     "text": [
      "Epoch [160/300]:  18%|██████████                                             | 6/33 [00:00<00:00, 57.85it/s, loss=0.861]"
     ]
    },
    {
     "name": "stdout",
     "output_type": "stream",
     "text": [
      "2\n",
      "3\n",
      "4\n",
      "5\n"
     ]
    },
    {
     "name": "stderr",
     "output_type": "stream",
     "text": [
      "\r",
      "Epoch [160/300]:  18%|██████████                                             | 6/33 [00:00<00:00, 57.85it/s, loss=0.664]"
     ]
    },
    {
     "name": "stdout",
     "output_type": "stream",
     "text": [
      "6\n"
     ]
    },
    {
     "name": "stderr",
     "output_type": "stream",
     "text": [
      "Epoch [160/300]:  18%|██████████                                             | 6/33 [00:00<00:00, 57.85it/s, loss=0.714]"
     ]
    },
    {
     "name": "stdout",
     "output_type": "stream",
     "text": [
      "7\n",
      "8\n",
      "9\n"
     ]
    },
    {
     "name": "stderr",
     "output_type": "stream",
     "text": [
      "Epoch [160/300]:  36%|███████████████████▋                                  | 12/33 [00:00<00:00, 56.68it/s, loss=0.544]"
     ]
    },
    {
     "name": "stdout",
     "output_type": "stream",
     "text": [
      "10\n",
      "11\n"
     ]
    },
    {
     "name": "stderr",
     "output_type": "stream",
     "text": [
      "Epoch [160/300]:  36%|█████████████████████                                     | 12/33 [00:00<00:00, 56.68it/s, loss=1]"
     ]
    },
    {
     "name": "stdout",
     "output_type": "stream",
     "text": [
      "12\n",
      "13\n"
     ]
    },
    {
     "name": "stderr",
     "output_type": "stream",
     "text": [
      "Epoch [160/300]:  36%|███████████████████▋                                  | 12/33 [00:00<00:00, 56.68it/s, loss=0.954]"
     ]
    },
    {
     "name": "stdout",
     "output_type": "stream",
     "text": [
      "14\n",
      "15\n",
      "16\n",
      "17\n"
     ]
    },
    {
     "name": "stderr",
     "output_type": "stream",
     "text": [
      "Epoch [160/300]:  58%|███████████████████████████████▋                       | 19/33 [00:00<00:00, 58.78it/s, loss=1.13]"
     ]
    },
    {
     "name": "stdout",
     "output_type": "stream",
     "text": [
      "18\n",
      "19\n"
     ]
    },
    {
     "name": "stderr",
     "output_type": "stream",
     "text": [
      "Epoch [160/300]:  58%|███████████████████████████████                       | 19/33 [00:00<00:00, 58.78it/s, loss=0.677]"
     ]
    },
    {
     "name": "stdout",
     "output_type": "stream",
     "text": [
      "20\n",
      "21\n",
      "22\n"
     ]
    },
    {
     "name": "stderr",
     "output_type": "stream",
     "text": [
      "Epoch [160/300]:  58%|███████████████████████████████                       | 19/33 [00:00<00:00, 58.78it/s, loss=0.926]"
     ]
    },
    {
     "name": "stdout",
     "output_type": "stream",
     "text": [
      "23\n",
      "24\n"
     ]
    },
    {
     "name": "stderr",
     "output_type": "stream",
     "text": [
      "Epoch [160/300]:  79%|██████████████████████████████████████████▌           | 26/33 [00:00<00:00, 60.64it/s, loss=0.985]"
     ]
    },
    {
     "name": "stdout",
     "output_type": "stream",
     "text": [
      "25\n",
      "26\n"
     ]
    },
    {
     "name": "stderr",
     "output_type": "stream",
     "text": [
      "Epoch [160/300]:  79%|███████████████████████████████████████████▎           | 26/33 [00:00<00:00, 60.64it/s, loss=1.04]"
     ]
    },
    {
     "name": "stdout",
     "output_type": "stream",
     "text": [
      "27\n",
      "28\n",
      "29\n",
      "30\n",
      "31\n"
     ]
    },
    {
     "name": "stderr",
     "output_type": "stream",
     "text": [
      "Epoch [160/300]: 100%|███████████████████████████████████████████████████████| 33/33 [00:00<00:00, 61.97it/s, loss=2.14]\n",
      "\n",
      "Epoch [160/300]:   0%|                                                                  | 0/5 [00:00<?, ?it/s, loss=1.6]\u001b[A\n",
      "Epoch [160/300]:  20%|███████████▌                                              | 1/5 [00:00<00:02,  1.83it/s, loss=1.6]\u001b[A"
     ]
    },
    {
     "name": "stdout",
     "output_type": "stream",
     "text": [
      "32\n",
      "0\n"
     ]
    },
    {
     "name": "stderr",
     "output_type": "stream",
     "text": [
      "\n",
      "Epoch [160/300]:  20%|███████████▏                                            | 1/5 [00:00<00:02,  1.83it/s, loss=0.899]\u001b[A\n",
      "Epoch [160/300]:  20%|███████████▍                                             | 1/5 [00:00<00:02,  1.83it/s, loss=0.78]\u001b[A\n",
      "Epoch [160/300]:  20%|███████████▍                                             | 1/5 [00:00<00:02,  1.83it/s, loss=1.18]\u001b[A\n",
      "Epoch [160/300]: 100%|████████████████████████████████████████████████████████| 5/5 [00:00<00:00,  8.33it/s, loss=0.134]\u001b[A"
     ]
    },
    {
     "name": "stdout",
     "output_type": "stream",
     "text": [
      "1\n",
      "2\n",
      "3\n",
      "4\n"
     ]
    },
    {
     "name": "stderr",
     "output_type": "stream",
     "text": [
      "\n"
     ]
    },
    {
     "name": "stdout",
     "output_type": "stream",
     "text": [
      "model improved and saved\n",
      "\n",
      "Epoch 160: train loss: 0.8610261660633665 \n",
      "Epoch 160: valid loss: 0.9177821636199951 \n"
     ]
    },
    {
     "name": "stderr",
     "output_type": "stream",
     "text": [
      "  0%|                                                                                            | 0/33 [00:00<?, ?it/s]\n",
      "Epoch [161/300]:   0%|                                                                           | 0/33 [00:00<?, ?it/s]\u001b[A\n",
      "Epoch [161/300]:   0%|                                                                | 0/33 [00:00<?, ?it/s, loss=1.12]\u001b[A"
     ]
    },
    {
     "name": "stdout",
     "output_type": "stream",
     "text": [
      "0\n"
     ]
    },
    {
     "name": "stderr",
     "output_type": "stream",
     "text": [
      "Epoch [161/300]:   0%|                                                               | 0/33 [00:00<?, ?it/s, loss=0.867]"
     ]
    },
    {
     "name": "stdout",
     "output_type": "stream",
     "text": [
      "1\n",
      "2\n"
     ]
    },
    {
     "name": "stderr",
     "output_type": "stream",
     "text": [
      "Epoch [161/300]:  21%|███████████▋                                           | 7/33 [00:00<00:00, 62.85it/s, loss=0.795]"
     ]
    },
    {
     "name": "stdout",
     "output_type": "stream",
     "text": [
      "3\n",
      "4\n",
      "5\n",
      "6\n"
     ]
    },
    {
     "name": "stderr",
     "output_type": "stream",
     "text": [
      "Epoch [161/300]:  21%|███████████▋                                           | 7/33 [00:00<00:00, 62.85it/s, loss=0.981]"
     ]
    },
    {
     "name": "stdout",
     "output_type": "stream",
     "text": [
      "7\n",
      "8\n"
     ]
    },
    {
     "name": "stderr",
     "output_type": "stream",
     "text": [
      "Epoch [161/300]:  21%|███████████▋                                           | 7/33 [00:00<00:00, 62.85it/s, loss=0.626]"
     ]
    },
    {
     "name": "stdout",
     "output_type": "stream",
     "text": [
      "9\n",
      "10\n",
      "11\n"
     ]
    },
    {
     "name": "stderr",
     "output_type": "stream",
     "text": [
      "Epoch [161/300]:  42%|██████████████████████▉                               | 14/33 [00:00<00:00, 65.03it/s, loss=0.736]"
     ]
    },
    {
     "name": "stdout",
     "output_type": "stream",
     "text": [
      "12\n",
      "13\n"
     ]
    },
    {
     "name": "stderr",
     "output_type": "stream",
     "text": [
      "\r",
      "Epoch [161/300]:  42%|██████████████████████▉                               | 14/33 [00:00<00:00, 65.03it/s, loss=0.554]"
     ]
    },
    {
     "name": "stdout",
     "output_type": "stream",
     "text": [
      "14\n"
     ]
    },
    {
     "name": "stderr",
     "output_type": "stream",
     "text": [
      "\r",
      "Epoch [161/300]:  42%|██████████████████████▉                               | 14/33 [00:00<00:00, 65.03it/s, loss=0.984]"
     ]
    },
    {
     "name": "stdout",
     "output_type": "stream",
     "text": [
      "15\n"
     ]
    },
    {
     "name": "stderr",
     "output_type": "stream",
     "text": [
      "Epoch [161/300]:  64%|██████████████████████████████████▎                   | 21/33 [00:00<00:00, 64.09it/s, loss=0.855]"
     ]
    },
    {
     "name": "stdout",
     "output_type": "stream",
     "text": [
      "16\n",
      "17\n",
      "18\n",
      "19\n",
      "20\n"
     ]
    },
    {
     "name": "stderr",
     "output_type": "stream",
     "text": [
      "\r",
      "Epoch [161/300]:  64%|██████████████████████████████████▎                   | 21/33 [00:00<00:00, 64.09it/s, loss=0.784]"
     ]
    },
    {
     "name": "stdout",
     "output_type": "stream",
     "text": [
      "21\n"
     ]
    },
    {
     "name": "stderr",
     "output_type": "stream",
     "text": [
      "Epoch [161/300]:  64%|██████████████████████████████████▎                   | 21/33 [00:00<00:00, 64.09it/s, loss=0.905]"
     ]
    },
    {
     "name": "stdout",
     "output_type": "stream",
     "text": [
      "22\n",
      "23\n",
      "24\n"
     ]
    },
    {
     "name": "stderr",
     "output_type": "stream",
     "text": [
      "Epoch [161/300]:  64%|██████████████████████████████████▎                   | 21/33 [00:00<00:00, 64.09it/s, loss=0.779]"
     ]
    },
    {
     "name": "stdout",
     "output_type": "stream",
     "text": [
      "25\n",
      "26\n"
     ]
    },
    {
     "name": "stderr",
     "output_type": "stream",
     "text": [
      "Epoch [161/300]:  85%|█████████████████████████████████████████████▊        | 28/33 [00:00<00:00, 63.71it/s, loss=0.685]"
     ]
    },
    {
     "name": "stdout",
     "output_type": "stream",
     "text": [
      "27\n"
     ]
    },
    {
     "name": "stderr",
     "output_type": "stream",
     "text": [
      "Epoch [161/300]:  85%|█████████████████████████████████████████████▊        | 28/33 [00:00<00:00, 63.71it/s, loss=0.838]"
     ]
    },
    {
     "name": "stdout",
     "output_type": "stream",
     "text": [
      "28\n",
      "29\n"
     ]
    },
    {
     "name": "stderr",
     "output_type": "stream",
     "text": [
      "Epoch [161/300]: 100%|███████████████████████████████████████████████████████| 33/33 [00:00<00:00, 65.50it/s, loss=1.03]\n",
      "\n",
      "Epoch [161/300]:   0%|                                                                  | 0/5 [00:00<?, ?it/s, loss=1.6]\u001b[A\n",
      "Epoch [161/300]:  20%|███████████▌                                              | 1/5 [00:00<00:02,  1.93it/s, loss=1.6]\u001b[A\n",
      "Epoch [161/300]:  20%|███████████▏                                            | 1/5 [00:00<00:02,  1.93it/s, loss=0.899]\u001b[A"
     ]
    },
    {
     "name": "stdout",
     "output_type": "stream",
     "text": [
      "30\n",
      "31\n",
      "32\n",
      "0\n",
      "1\n"
     ]
    },
    {
     "name": "stderr",
     "output_type": "stream",
     "text": [
      "\n",
      "Epoch [161/300]:  20%|███████████▏                                            | 1/5 [00:00<00:02,  1.93it/s, loss=0.779]\u001b[A"
     ]
    },
    {
     "name": "stdout",
     "output_type": "stream",
     "text": [
      "2\n"
     ]
    },
    {
     "name": "stderr",
     "output_type": "stream",
     "text": [
      "\n",
      "Epoch [161/300]:  20%|███████████▍                                             | 1/5 [00:00<00:02,  1.93it/s, loss=1.18]\u001b[A\n",
      "Epoch [161/300]: 100%|████████████████████████████████████████████████████████| 5/5 [00:00<00:00,  8.60it/s, loss=0.134]\u001b[A\n"
     ]
    },
    {
     "name": "stdout",
     "output_type": "stream",
     "text": [
      "3\n",
      "4\n",
      "model improved and saved\n",
      "\n",
      "Epoch 161: train loss: 0.8255420914202025 \n",
      "Epoch 161: valid loss: 0.9175249665975571 \n"
     ]
    },
    {
     "name": "stderr",
     "output_type": "stream",
     "text": [
      "  0%|                                                                                            | 0/33 [00:00<?, ?it/s]\n",
      "Epoch [162/300]:   0%|                                                                           | 0/33 [00:00<?, ?it/s]\u001b[A\n",
      "Epoch [162/300]:   0%|                                                               | 0/33 [00:00<?, ?it/s, loss=0.886]\u001b[A"
     ]
    },
    {
     "name": "stdout",
     "output_type": "stream",
     "text": [
      "0\n"
     ]
    },
    {
     "name": "stderr",
     "output_type": "stream",
     "text": [
      "\r",
      "Epoch [162/300]:   0%|                                                               | 0/33 [00:00<?, ?it/s, loss=0.817]"
     ]
    },
    {
     "name": "stdout",
     "output_type": "stream",
     "text": [
      "1\n"
     ]
    },
    {
     "name": "stderr",
     "output_type": "stream",
     "text": [
      "Epoch [162/300]:   0%|                                                               | 0/33 [00:00<?, ?it/s, loss=0.554]"
     ]
    },
    {
     "name": "stdout",
     "output_type": "stream",
     "text": [
      "2\n",
      "3\n"
     ]
    },
    {
     "name": "stderr",
     "output_type": "stream",
     "text": [
      "Epoch [162/300]:  15%|████████▎                                              | 5/33 [00:00<00:00, 41.35it/s, loss=0.656]"
     ]
    },
    {
     "name": "stdout",
     "output_type": "stream",
     "text": [
      "4\n",
      "5\n",
      "6\n",
      "7\n"
     ]
    },
    {
     "name": "stderr",
     "output_type": "stream",
     "text": [
      "\r",
      "Epoch [162/300]:  15%|████████▍                                               | 5/33 [00:00<00:00, 41.35it/s, loss=1.05]"
     ]
    },
    {
     "name": "stdout",
     "output_type": "stream",
     "text": [
      "8\n"
     ]
    },
    {
     "name": "stderr",
     "output_type": "stream",
     "text": [
      "Epoch [162/300]:  15%|████████▍                                               | 5/33 [00:00<00:00, 41.35it/s, loss=1.02]"
     ]
    },
    {
     "name": "stdout",
     "output_type": "stream",
     "text": [
      "9\n",
      "10\n",
      "11\n"
     ]
    },
    {
     "name": "stderr",
     "output_type": "stream",
     "text": [
      "\r",
      "Epoch [162/300]:  36%|████████████████████                                   | 12/33 [00:00<00:00, 51.57it/s, loss=1.02]"
     ]
    },
    {
     "name": "stdout",
     "output_type": "stream",
     "text": [
      "12"
     ]
    },
    {
     "name": "stderr",
     "output_type": "stream",
     "text": [
      "\r",
      "Epoch [162/300]:  36%|███████████████████▋                                  | 12/33 [00:00<00:00, 51.57it/s, loss=0.687]"
     ]
    },
    {
     "name": "stdout",
     "output_type": "stream",
     "text": [
      "\n"
     ]
    },
    {
     "name": "stderr",
     "output_type": "stream",
     "text": [
      "Epoch [162/300]:  36%|███████████████████▋                                  | 12/33 [00:00<00:00, 51.57it/s, loss=0.873]"
     ]
    },
    {
     "name": "stdout",
     "output_type": "stream",
     "text": [
      "13\n",
      "14\n",
      "15\n"
     ]
    },
    {
     "name": "stderr",
     "output_type": "stream",
     "text": [
      "Epoch [162/300]:  55%|█████████████████████████████▍                        | 18/33 [00:00<00:00, 54.77it/s, loss=0.777]"
     ]
    },
    {
     "name": "stdout",
     "output_type": "stream",
     "text": [
      "16\n",
      "17\n",
      "18\n",
      "19\n"
     ]
    },
    {
     "name": "stderr",
     "output_type": "stream",
     "text": [
      "\r",
      "Epoch [162/300]:  55%|█████████████████████████████▉                         | 18/33 [00:00<00:00, 54.77it/s, loss=0.72]"
     ]
    },
    {
     "name": "stdout",
     "output_type": "stream",
     "text": [
      "20\n",
      "21\n"
     ]
    },
    {
     "name": "stderr",
     "output_type": "stream",
     "text": [
      "Epoch [162/300]:  76%|█████████████████████████████████████████▋             | 25/33 [00:00<00:00, 58.92it/s, loss=0.91]"
     ]
    },
    {
     "name": "stdout",
     "output_type": "stream",
     "text": [
      "22\n",
      "23\n",
      "24\n"
     ]
    },
    {
     "name": "stderr",
     "output_type": "stream",
     "text": [
      "Epoch [162/300]:  76%|████████████████████████████████████████▉             | 25/33 [00:00<00:00, 58.92it/s, loss=0.885]"
     ]
    },
    {
     "name": "stdout",
     "output_type": "stream",
     "text": [
      "25\n",
      "26\n"
     ]
    },
    {
     "name": "stderr",
     "output_type": "stream",
     "text": [
      "Epoch [162/300]:  76%|████████████████████████████████████████▉             | 25/33 [00:00<00:00, 58.92it/s, loss=0.834]"
     ]
    },
    {
     "name": "stdout",
     "output_type": "stream",
     "text": [
      "27\n",
      "28\n"
     ]
    },
    {
     "name": "stderr",
     "output_type": "stream",
     "text": [
      "Epoch [162/300]: 100%|██████████████████████████████████████████████████████| 33/33 [00:00<00:00, 58.23it/s, loss=0.819]\n",
      "\n",
      "Epoch [162/300]:   0%|                                                                  | 0/5 [00:00<?, ?it/s, loss=1.6]\u001b[A\n",
      "Epoch [162/300]:  20%|███████████▌                                              | 1/5 [00:00<00:02,  1.73it/s, loss=1.6]\u001b[A"
     ]
    },
    {
     "name": "stdout",
     "output_type": "stream",
     "text": [
      "29\n",
      "30\n",
      "31\n",
      "32\n",
      "0\n"
     ]
    },
    {
     "name": "stderr",
     "output_type": "stream",
     "text": [
      "\n",
      "Epoch [162/300]:  20%|███████████▏                                            | 1/5 [00:00<00:02,  1.73it/s, loss=0.899]\u001b[A\n"
     ]
    },
    {
     "name": "stdout",
     "output_type": "stream",
     "text": [
      "1\n",
      "2\n"
     ]
    },
    {
     "name": "stderr",
     "output_type": "stream",
     "text": [
      "Epoch [162/300]:  20%|███████████▍                                             | 1/5 [00:00<00:02,  1.73it/s, loss=0.78]\u001b[A\n",
      "Epoch [162/300]:  20%|███████████▍                                             | 1/5 [00:00<00:02,  1.73it/s, loss=1.18]\u001b[A\n",
      "Epoch [162/300]: 100%|████████████████████████████████████████████████████████| 5/5 [00:00<00:00,  7.88it/s, loss=0.134]\u001b[A\n"
     ]
    },
    {
     "name": "stdout",
     "output_type": "stream",
     "text": [
      "3\n",
      "4\n",
      "model improved and saved\n",
      "\n",
      "Epoch 162: train loss: 0.8239506121837732 \n",
      "Epoch 162: valid loss: 0.9177068263292313 \n"
     ]
    },
    {
     "name": "stderr",
     "output_type": "stream",
     "text": [
      "  0%|                                                                                            | 0/33 [00:00<?, ?it/s]\n",
      "Epoch [163/300]:   0%|                                                                           | 0/33 [00:00<?, ?it/s]\u001b[A\n",
      "Epoch [163/300]:   0%|                                                               | 0/33 [00:00<?, ?it/s, loss=0.751]\u001b[A"
     ]
    },
    {
     "name": "stdout",
     "output_type": "stream",
     "text": [
      "0\n",
      "1\n"
     ]
    },
    {
     "name": "stderr",
     "output_type": "stream",
     "text": [
      "Epoch [163/300]:   0%|                                                               | 0/33 [00:00<?, ?it/s, loss=0.811]"
     ]
    },
    {
     "name": "stdout",
     "output_type": "stream",
     "text": [
      "2\n",
      "3\n"
     ]
    },
    {
     "name": "stderr",
     "output_type": "stream",
     "text": [
      "Epoch [163/300]:  18%|██████████                                             | 6/33 [00:00<00:00, 53.75it/s, loss=0.555]"
     ]
    },
    {
     "name": "stdout",
     "output_type": "stream",
     "text": [
      "4\n",
      "5\n"
     ]
    },
    {
     "name": "stderr",
     "output_type": "stream",
     "text": [
      "\r",
      "Epoch [163/300]:  18%|██████████                                             | 6/33 [00:00<00:00, 53.75it/s, loss=0.853]"
     ]
    },
    {
     "name": "stdout",
     "output_type": "stream",
     "text": [
      "6\n"
     ]
    },
    {
     "name": "stderr",
     "output_type": "stream",
     "text": [
      "Epoch [163/300]:  18%|██████████                                             | 6/33 [00:00<00:00, 53.75it/s, loss=0.788]"
     ]
    },
    {
     "name": "stdout",
     "output_type": "stream",
     "text": [
      "7\n",
      "8\n"
     ]
    },
    {
     "name": "stderr",
     "output_type": "stream",
     "text": [
      "Epoch [163/300]:  18%|██████████                                             | 6/33 [00:00<00:00, 53.75it/s, loss=0.749]"
     ]
    },
    {
     "name": "stdout",
     "output_type": "stream",
     "text": [
      "9\n",
      "10\n",
      "11\n"
     ]
    },
    {
     "name": "stderr",
     "output_type": "stream",
     "text": [
      "Epoch [163/300]:  58%|███████████████████████████████▋                       | 19/33 [00:00<00:00, 49.21it/s, loss=1.15]"
     ]
    },
    {
     "name": "stdout",
     "output_type": "stream",
     "text": [
      "12\n",
      "13\n",
      "14\n",
      "15\n",
      "16\n",
      "17\n",
      "18\n",
      "19\n"
     ]
    },
    {
     "name": "stderr",
     "output_type": "stream",
     "text": [
      "\r",
      "Epoch [163/300]:  58%|███████████████████████████████                       | 19/33 [00:00<00:00, 49.21it/s, loss=0.883]"
     ]
    },
    {
     "name": "stdout",
     "output_type": "stream",
     "text": [
      "20\n"
     ]
    },
    {
     "name": "stderr",
     "output_type": "stream",
     "text": [
      "Epoch [163/300]:  58%|███████████████████████████████                       | 19/33 [00:00<00:00, 49.21it/s, loss=0.737]"
     ]
    },
    {
     "name": "stdout",
     "output_type": "stream",
     "text": [
      "21\n",
      "22\n"
     ]
    },
    {
     "name": "stderr",
     "output_type": "stream",
     "text": [
      "Epoch [163/300]:  79%|███████████████████████████████████████████▎           | 26/33 [00:00<00:00, 54.81it/s, loss=1.09]"
     ]
    },
    {
     "name": "stdout",
     "output_type": "stream",
     "text": [
      "23\n",
      "24\n",
      "25\n"
     ]
    },
    {
     "name": "stderr",
     "output_type": "stream",
     "text": [
      "Epoch [163/300]: 100%|██████████████████████████████████████████████████████| 33/33 [00:00<00:00, 54.94it/s, loss=0.786]\n",
      "\n",
      "Epoch [163/300]:   0%|                                                                  | 0/5 [00:00<?, ?it/s, loss=1.6]\u001b[A\n",
      "Epoch [163/300]:  20%|███████████▌                                              | 1/5 [00:00<00:02,  1.63it/s, loss=1.6]\u001b[A"
     ]
    },
    {
     "name": "stdout",
     "output_type": "stream",
     "text": [
      "26\n",
      "27\n",
      "28\n",
      "29\n",
      "30\n",
      "31\n",
      "32\n",
      "0\n"
     ]
    },
    {
     "name": "stderr",
     "output_type": "stream",
     "text": [
      "\n",
      "Epoch [163/300]:  20%|███████████▏                                            | 1/5 [00:00<00:02,  1.63it/s, loss=0.899]\u001b[A"
     ]
    },
    {
     "name": "stdout",
     "output_type": "stream",
     "text": [
      "1\n"
     ]
    },
    {
     "name": "stderr",
     "output_type": "stream",
     "text": [
      "\n",
      "Epoch [163/300]:  20%|███████████▍                                             | 1/5 [00:00<00:02,  1.63it/s, loss=0.78]\u001b[A\n",
      "Epoch [163/300]:  20%|███████████▍                                             | 1/5 [00:00<00:02,  1.63it/s, loss=1.18]\u001b[A\n",
      "Epoch [163/300]:  20%|███████████▏                                            | 1/5 [00:00<00:02,  1.63it/s, loss=0.134]\u001b[A"
     ]
    },
    {
     "name": "stdout",
     "output_type": "stream",
     "text": [
      "2\n",
      "3\n",
      "4\n"
     ]
    },
    {
     "name": "stderr",
     "output_type": "stream",
     "text": [
      "Epoch [163/300]: 100%|████████████████████████████████████████████████████████| 5/5 [00:00<00:00,  7.43it/s, loss=0.134]\n"
     ]
    },
    {
     "name": "stdout",
     "output_type": "stream",
     "text": [
      "model improved and saved\n",
      "\n",
      "Epoch 163: train loss: 0.8202788432439169 \n",
      "Epoch 163: valid loss: 0.9179070264101028 \n"
     ]
    },
    {
     "name": "stderr",
     "output_type": "stream",
     "text": [
      "  0%|                                                                                            | 0/33 [00:00<?, ?it/s]\n",
      "Epoch [164/300]:   0%|                                                                           | 0/33 [00:00<?, ?it/s]\u001b[A\n",
      "Epoch [164/300]:   0%|                                                               | 0/33 [00:00<?, ?it/s, loss=0.835]\u001b[A"
     ]
    },
    {
     "name": "stdout",
     "output_type": "stream",
     "text": [
      "0\n",
      "1\n"
     ]
    },
    {
     "name": "stderr",
     "output_type": "stream",
     "text": [
      "Epoch [164/300]:  18%|██████████                                             | 6/33 [00:00<00:00, 58.00it/s, loss=0.791]"
     ]
    },
    {
     "name": "stdout",
     "output_type": "stream",
     "text": [
      "2\n",
      "3\n",
      "4\n",
      "5\n",
      "6\n",
      "7\n",
      "8\n"
     ]
    },
    {
     "name": "stderr",
     "output_type": "stream",
     "text": [
      "\r",
      "Epoch [164/300]:  18%|██████████                                             | 6/33 [00:00<00:00, 58.00it/s, loss=0.844]"
     ]
    },
    {
     "name": "stdout",
     "output_type": "stream",
     "text": [
      "9\n"
     ]
    },
    {
     "name": "stderr",
     "output_type": "stream",
     "text": [
      "\r",
      "Epoch [164/300]:  18%|██████████                                             | 6/33 [00:00<00:00, 58.00it/s, loss=0.823]"
     ]
    },
    {
     "name": "stdout",
     "output_type": "stream",
     "text": [
      "10\n"
     ]
    },
    {
     "name": "stderr",
     "output_type": "stream",
     "text": [
      "Epoch [164/300]:  36%|████████████████████                                   | 12/33 [00:00<00:00, 58.98it/s, loss=1.05]"
     ]
    },
    {
     "name": "stdout",
     "output_type": "stream",
     "text": [
      "11\n",
      "12\n"
     ]
    },
    {
     "name": "stderr",
     "output_type": "stream",
     "text": [
      "Epoch [164/300]:  36%|███████████████████▋                                  | 12/33 [00:00<00:00, 58.98it/s, loss=0.961]"
     ]
    },
    {
     "name": "stdout",
     "output_type": "stream",
     "text": [
      "13\n",
      "14\n"
     ]
    },
    {
     "name": "stderr",
     "output_type": "stream",
     "text": [
      "Epoch [164/300]:  58%|███████████████████████████████                       | 19/33 [00:00<00:00, 61.96it/s, loss=0.805]"
     ]
    },
    {
     "name": "stdout",
     "output_type": "stream",
     "text": [
      "15\n",
      "16\n",
      "17\n",
      "18\n",
      "19\n",
      "20\n",
      "21\n"
     ]
    },
    {
     "name": "stderr",
     "output_type": "stream",
     "text": [
      "Epoch [164/300]:  58%|███████████████████████████████                       | 19/33 [00:00<00:00, 61.96it/s, loss=0.853]"
     ]
    },
    {
     "name": "stdout",
     "output_type": "stream",
     "text": [
      "22\n",
      "23\n"
     ]
    },
    {
     "name": "stderr",
     "output_type": "stream",
     "text": [
      "\r",
      "Epoch [164/300]:  58%|███████████████████████████████                       | 19/33 [00:00<00:00, 61.96it/s, loss=0.837]"
     ]
    },
    {
     "name": "stdout",
     "output_type": "stream",
     "text": [
      "24\n"
     ]
    },
    {
     "name": "stderr",
     "output_type": "stream",
     "text": [
      "Epoch [164/300]:  79%|███████████████████████████████████████████▎           | 26/33 [00:00<00:00, 63.68it/s, loss=1.07]"
     ]
    },
    {
     "name": "stdout",
     "output_type": "stream",
     "text": [
      "25\n"
     ]
    },
    {
     "name": "stderr",
     "output_type": "stream",
     "text": [
      "Epoch [164/300]:  79%|██████████████████████████████████████████▌           | 26/33 [00:00<00:00, 63.68it/s, loss=0.677]"
     ]
    },
    {
     "name": "stdout",
     "output_type": "stream",
     "text": [
      "26\n",
      "27\n"
     ]
    },
    {
     "name": "stderr",
     "output_type": "stream",
     "text": [
      "Epoch [164/300]: 100%|██████████████████████████████████████████████████████| 33/33 [00:00<00:00, 63.85it/s, loss=0.742]\n",
      "\n",
      "Epoch [164/300]:   0%|                                                                  | 0/5 [00:00<?, ?it/s, loss=1.6]\u001b[A\n",
      "Epoch [164/300]:  20%|███████████▌                                              | 1/5 [00:00<00:02,  1.88it/s, loss=1.6]\u001b[A\n",
      "Epoch [164/300]:  20%|███████████▌                                              | 1/5 [00:00<00:02,  1.88it/s, loss=0.9]\u001b[A"
     ]
    },
    {
     "name": "stdout",
     "output_type": "stream",
     "text": [
      "28\n",
      "29\n",
      "30\n",
      "31\n",
      "32\n",
      "0\n",
      "1\n"
     ]
    },
    {
     "name": "stderr",
     "output_type": "stream",
     "text": [
      "\n",
      "Epoch [164/300]:  20%|███████████▏                                            | 1/5 [00:00<00:02,  1.88it/s, loss=0.781]\u001b[A\n",
      "Epoch [164/300]:  20%|███████████▍                                             | 1/5 [00:00<00:02,  1.88it/s, loss=1.18]\u001b[A\n",
      "Epoch [164/300]: 100%|████████████████████████████████████████████████████████| 5/5 [00:00<00:00,  8.48it/s, loss=0.133]\u001b[A\n"
     ]
    },
    {
     "name": "stdout",
     "output_type": "stream",
     "text": [
      "2\n",
      "3\n",
      "4\n",
      "model improved and saved\n",
      "\n",
      "Epoch 164: train loss: 0.8169487479961279 \n",
      "Epoch 164: valid loss: 0.9183983564376831 \n"
     ]
    },
    {
     "name": "stderr",
     "output_type": "stream",
     "text": [
      "  0%|                                                                                            | 0/33 [00:00<?, ?it/s]\n",
      "Epoch [165/300]:   0%|                                                                           | 0/33 [00:00<?, ?it/s]\u001b[A\n",
      "Epoch [165/300]:   0%|                                                               | 0/33 [00:00<?, ?it/s, loss=0.697]\u001b[A"
     ]
    },
    {
     "name": "stdout",
     "output_type": "stream",
     "text": [
      "0\n"
     ]
    },
    {
     "name": "stderr",
     "output_type": "stream",
     "text": [
      "Epoch [165/300]:   0%|                                                               | 0/33 [00:00<?, ?it/s, loss=0.718]"
     ]
    },
    {
     "name": "stdout",
     "output_type": "stream",
     "text": [
      "1\n",
      "2\n",
      "3\n"
     ]
    },
    {
     "name": "stderr",
     "output_type": "stream",
     "text": [
      "Epoch [165/300]:  18%|██████████▏                                             | 6/33 [00:00<00:00, 58.23it/s, loss=1.01]"
     ]
    },
    {
     "name": "stdout",
     "output_type": "stream",
     "text": [
      "4\n",
      "5\n",
      "6\n",
      "7\n",
      "8\n"
     ]
    },
    {
     "name": "stderr",
     "output_type": "stream",
     "text": [
      "Epoch [165/300]:  36%|███████████████████▋                                  | 12/33 [00:00<00:00, 58.61it/s, loss=0.757]"
     ]
    },
    {
     "name": "stdout",
     "output_type": "stream",
     "text": [
      "9\n",
      "10\n",
      "11\n",
      "12\n"
     ]
    },
    {
     "name": "stderr",
     "output_type": "stream",
     "text": [
      "\r",
      "Epoch [165/300]:  36%|███████████████████▋                                  | 12/33 [00:00<00:00, 58.61it/s, loss=0.742]"
     ]
    },
    {
     "name": "stdout",
     "output_type": "stream",
     "text": [
      "13\n"
     ]
    },
    {
     "name": "stderr",
     "output_type": "stream",
     "text": [
      "Epoch [165/300]:  36%|███████████████████▋                                  | 12/33 [00:00<00:00, 58.61it/s, loss=0.896]"
     ]
    },
    {
     "name": "stdout",
     "output_type": "stream",
     "text": [
      "14\n",
      "15\n",
      "16\n"
     ]
    },
    {
     "name": "stderr",
     "output_type": "stream",
     "text": [
      "Epoch [165/300]:  55%|█████████████████████████████▍                        | 18/33 [00:00<00:00, 59.02it/s, loss=0.996]"
     ]
    },
    {
     "name": "stdout",
     "output_type": "stream",
     "text": [
      "17\n",
      "18\n",
      "19\n",
      "20\n"
     ]
    },
    {
     "name": "stderr",
     "output_type": "stream",
     "text": [
      "Epoch [165/300]:  73%|███████████████████████████████████████▎              | 24/33 [00:00<00:00, 53.47it/s, loss=0.528]"
     ]
    },
    {
     "name": "stdout",
     "output_type": "stream",
     "text": [
      "21\n",
      "22\n",
      "23\n"
     ]
    },
    {
     "name": "stderr",
     "output_type": "stream",
     "text": [
      "Epoch [165/300]:  73%|███████████████████████████████████████▎              | 24/33 [00:00<00:00, 53.47it/s, loss=0.609]"
     ]
    },
    {
     "name": "stdout",
     "output_type": "stream",
     "text": [
      "24\n",
      "25\n",
      "26\n",
      "27\n"
     ]
    },
    {
     "name": "stderr",
     "output_type": "stream",
     "text": [
      "Epoch [165/300]: 100%|██████████████████████████████████████████████████████| 33/33 [00:00<00:00, 55.84it/s, loss=0.705]"
     ]
    },
    {
     "name": "stdout",
     "output_type": "stream",
     "text": [
      "28\n",
      "29\n",
      "30\n",
      "31\n",
      "32\n"
     ]
    },
    {
     "name": "stderr",
     "output_type": "stream",
     "text": [
      "\n",
      "\n",
      "Epoch [165/300]:   0%|                                                                  | 0/5 [00:00<?, ?it/s, loss=1.6]\u001b[A\n",
      "Epoch [165/300]:  20%|███████████▌                                              | 1/5 [00:00<00:02,  1.64it/s, loss=1.6]\u001b[A\n",
      "Epoch [165/300]:  20%|███████████▌                                              | 1/5 [00:00<00:02,  1.64it/s, loss=0.9]\u001b[A\n",
      "Epoch [165/300]:  20%|███████████▏                                            | 1/5 [00:00<00:02,  1.64it/s, loss=0.781]\u001b[A"
     ]
    },
    {
     "name": "stdout",
     "output_type": "stream",
     "text": [
      "0\n",
      "1\n",
      "2\n"
     ]
    },
    {
     "name": "stderr",
     "output_type": "stream",
     "text": [
      "\n",
      "Epoch [165/300]:  20%|███████████▍                                             | 1/5 [00:00<00:02,  1.64it/s, loss=1.18]\u001b[A\n",
      "Epoch [165/300]: 100%|████████████████████████████████████████████████████████| 5/5 [00:00<00:00,  7.35it/s, loss=0.134]\u001b[A\n"
     ]
    },
    {
     "name": "stdout",
     "output_type": "stream",
     "text": [
      "3\n",
      "4\n",
      "model improved and saved\n",
      "\n",
      "Epoch 165: train loss: 0.8171514760364186 \n",
      "Epoch 165: valid loss: 0.9183894276618958 \n"
     ]
    },
    {
     "name": "stderr",
     "output_type": "stream",
     "text": [
      "  0%|                                                                                            | 0/33 [00:00<?, ?it/s]\n",
      "Epoch [166/300]:   0%|                                                                           | 0/33 [00:00<?, ?it/s]\u001b[A\n",
      "Epoch [166/300]:  18%|██████████                                             | 6/33 [00:00<00:00, 53.24it/s, loss=0.792]\u001b[A"
     ]
    },
    {
     "name": "stdout",
     "output_type": "stream",
     "text": [
      "0\n",
      "1\n",
      "2\n",
      "3\n",
      "4\n",
      "5\n"
     ]
    },
    {
     "name": "stderr",
     "output_type": "stream",
     "text": [
      "Epoch [166/300]:  18%|██████████                                             | 6/33 [00:00<00:00, 53.24it/s, loss=0.805]"
     ]
    },
    {
     "name": "stdout",
     "output_type": "stream",
     "text": [
      "6\n",
      "7\n",
      "8\n"
     ]
    },
    {
     "name": "stderr",
     "output_type": "stream",
     "text": [
      "Epoch [166/300]:  36%|███████████████████▋                                  | 12/33 [00:00<00:00, 55.23it/s, loss=0.845]"
     ]
    },
    {
     "name": "stdout",
     "output_type": "stream",
     "text": [
      "9\n",
      "10\n",
      "11\n",
      "12\n"
     ]
    },
    {
     "name": "stderr",
     "output_type": "stream",
     "text": [
      "Epoch [166/300]:  58%|███████████████████████████████                       | 19/33 [00:00<00:00, 59.57it/s, loss=0.771]"
     ]
    },
    {
     "name": "stdout",
     "output_type": "stream",
     "text": [
      "13\n",
      "14\n",
      "15\n",
      "16\n",
      "17\n",
      "18\n"
     ]
    },
    {
     "name": "stderr",
     "output_type": "stream",
     "text": [
      "Epoch [166/300]:  58%|███████████████████████████████                       | 19/33 [00:00<00:00, 59.57it/s, loss=0.968]"
     ]
    },
    {
     "name": "stdout",
     "output_type": "stream",
     "text": [
      "19\n",
      "20\n",
      "21\n"
     ]
    },
    {
     "name": "stderr",
     "output_type": "stream",
     "text": [
      "Epoch [166/300]:  79%|███████████████████████████████████████████▎           | 26/33 [00:00<00:00, 62.15it/s, loss=0.78]"
     ]
    },
    {
     "name": "stdout",
     "output_type": "stream",
     "text": [
      "22\n",
      "23\n",
      "24\n",
      "25\n",
      "26\n"
     ]
    },
    {
     "name": "stderr",
     "output_type": "stream",
     "text": [
      "Epoch [166/300]: 100%|███████████████████████████████████████████████████████| 33/33 [00:00<00:00, 62.79it/s, loss=1.59]\n",
      "\n",
      "Epoch [166/300]:   0%|                                                                  | 0/5 [00:00<?, ?it/s, loss=1.6]\u001b[A\n"
     ]
    },
    {
     "name": "stdout",
     "output_type": "stream",
     "text": [
      "27\n",
      "28\n",
      "29\n",
      "30\n",
      "31\n",
      "32\n",
      "0\n"
     ]
    },
    {
     "name": "stderr",
     "output_type": "stream",
     "text": [
      "Epoch [166/300]:  20%|███████████▌                                              | 1/5 [00:00<00:02,  1.86it/s, loss=1.6]\u001b[A\n",
      "Epoch [166/300]:  20%|███████████▌                                              | 1/5 [00:00<00:02,  1.86it/s, loss=0.9]\u001b[A\n",
      "Epoch [166/300]:  20%|███████████▏                                            | 1/5 [00:00<00:02,  1.86it/s, loss=0.781]\u001b[A\n",
      "Epoch [166/300]:  20%|███████████▍                                             | 1/5 [00:00<00:02,  1.86it/s, loss=1.18]\u001b[A\n"
     ]
    },
    {
     "name": "stdout",
     "output_type": "stream",
     "text": [
      "1\n",
      "2\n",
      "3\n",
      "4\n"
     ]
    },
    {
     "name": "stderr",
     "output_type": "stream",
     "text": [
      "Epoch [166/300]: 100%|████████████████████████████████████████████████████████| 5/5 [00:00<00:00,  8.47it/s, loss=0.134]\u001b[A\n"
     ]
    },
    {
     "name": "stdout",
     "output_type": "stream",
     "text": [
      "model improved and saved\n",
      "\n",
      "Epoch 166: train loss: 0.8387197292212284 \n",
      "Epoch 166: valid loss: 0.9188337028026581 \n"
     ]
    },
    {
     "name": "stderr",
     "output_type": "stream",
     "text": [
      "  0%|                                                                                            | 0/33 [00:00<?, ?it/s]\n",
      "Epoch [167/300]:   0%|                                                                           | 0/33 [00:00<?, ?it/s]\u001b[A\n",
      "Epoch [167/300]:   0%|                                                               | 0/33 [00:00<?, ?it/s, loss=0.896]\u001b[A"
     ]
    },
    {
     "name": "stdout",
     "output_type": "stream",
     "text": [
      "0\n",
      "1\n",
      "2\n"
     ]
    },
    {
     "name": "stderr",
     "output_type": "stream",
     "text": [
      "Epoch [167/300]:  18%|██████████▏                                             | 6/33 [00:00<00:00, 56.80it/s, loss=1.06]"
     ]
    },
    {
     "name": "stdout",
     "output_type": "stream",
     "text": [
      "3\n",
      "4\n",
      "5\n",
      "6\n",
      "7\n",
      "8\n"
     ]
    },
    {
     "name": "stderr",
     "output_type": "stream",
     "text": [
      "Epoch [167/300]:  18%|██████████                                             | 6/33 [00:00<00:00, 56.80it/s, loss=0.801]"
     ]
    },
    {
     "name": "stdout",
     "output_type": "stream",
     "text": [
      "9\n",
      "10\n",
      "11\n"
     ]
    },
    {
     "name": "stderr",
     "output_type": "stream",
     "text": [
      "Epoch [167/300]:  39%|█████████████████████▎                                | 13/33 [00:00<00:00, 61.56it/s, loss=0.914]"
     ]
    },
    {
     "name": "stdout",
     "output_type": "stream",
     "text": [
      "12\n"
     ]
    },
    {
     "name": "stderr",
     "output_type": "stream",
     "text": [
      "Epoch [167/300]:  39%|█████████████████████▎                                | 13/33 [00:00<00:00, 61.56it/s, loss=0.713]"
     ]
    },
    {
     "name": "stdout",
     "output_type": "stream",
     "text": [
      "13\n",
      "14\n",
      "15\n",
      "16\n"
     ]
    },
    {
     "name": "stderr",
     "output_type": "stream",
     "text": [
      "Epoch [167/300]:  61%|████████████████████████████████▋                     | 20/33 [00:00<00:00, 61.18it/s, loss=0.695]"
     ]
    },
    {
     "name": "stdout",
     "output_type": "stream",
     "text": [
      "17\n",
      "18\n",
      "19\n",
      "20\n",
      "21\n"
     ]
    },
    {
     "name": "stderr",
     "output_type": "stream",
     "text": [
      "Epoch [167/300]:  61%|█████████████████████████████████▎                     | 20/33 [00:00<00:00, 61.18it/s, loss=1.04]"
     ]
    },
    {
     "name": "stdout",
     "output_type": "stream",
     "text": [
      "22\n",
      "23\n",
      "24\n"
     ]
    },
    {
     "name": "stderr",
     "output_type": "stream",
     "text": [
      "\r",
      "Epoch [167/300]:  61%|████████████████████████████████▋                     | 20/33 [00:00<00:00, 61.18it/s, loss=0.992]"
     ]
    },
    {
     "name": "stdout",
     "output_type": "stream",
     "text": [
      "25\n"
     ]
    },
    {
     "name": "stderr",
     "output_type": "stream",
     "text": [
      "Epoch [167/300]:  82%|████████████████████████████████████████████▏         | 27/33 [00:00<00:00, 60.85it/s, loss=0.753]"
     ]
    },
    {
     "name": "stdout",
     "output_type": "stream",
     "text": [
      "26\n",
      "27\n",
      "28\n",
      "29\n"
     ]
    },
    {
     "name": "stderr",
     "output_type": "stream",
     "text": [
      "Epoch [167/300]: 100%|██████████████████████████████████████████████████████| 33/33 [00:00<00:00, 61.57it/s, loss=0.404]\n",
      "\n",
      "Epoch [167/300]:   0%|                                                                  | 0/5 [00:00<?, ?it/s, loss=1.6]\u001b[A\n",
      "Epoch [167/300]:  20%|███████████▌                                              | 1/5 [00:00<00:02,  1.82it/s, loss=1.6]\u001b[A\n",
      "Epoch [167/300]:  20%|███████████▌                                              | 1/5 [00:00<00:02,  1.82it/s, loss=0.9]\u001b[A"
     ]
    },
    {
     "name": "stdout",
     "output_type": "stream",
     "text": [
      "30\n",
      "31\n",
      "32\n",
      "0\n",
      "1\n"
     ]
    },
    {
     "name": "stderr",
     "output_type": "stream",
     "text": [
      "\n",
      "Epoch [167/300]:  20%|███████████▏                                            | 1/5 [00:00<00:02,  1.82it/s, loss=0.781]\u001b[A\n",
      "Epoch [167/300]:  20%|███████████▍                                             | 1/5 [00:00<00:02,  1.82it/s, loss=1.18]\u001b[A\n",
      "Epoch [167/300]: 100%|████████████████████████████████████████████████████████| 5/5 [00:00<00:00,  8.22it/s, loss=0.134]\u001b[A\n"
     ]
    },
    {
     "name": "stdout",
     "output_type": "stream",
     "text": [
      "2\n",
      "3\n",
      "4\n",
      "model improved and saved\n",
      "\n",
      "Epoch 167: train loss: 0.8069344081661918 \n",
      "Epoch 167: valid loss: 0.9189502209424972 \n"
     ]
    },
    {
     "name": "stderr",
     "output_type": "stream",
     "text": [
      "  0%|                                                                                            | 0/33 [00:00<?, ?it/s]\n",
      "Epoch [168/300]:   0%|                                                                           | 0/33 [00:00<?, ?it/s]\u001b[A\n",
      "Epoch [168/300]:   0%|                                                               | 0/33 [00:00<?, ?it/s, loss=0.805]\u001b[A"
     ]
    },
    {
     "name": "stdout",
     "output_type": "stream",
     "text": [
      "0\n",
      "1\n",
      "2\n",
      "3\n",
      "4\n"
     ]
    },
    {
     "name": "stderr",
     "output_type": "stream",
     "text": [
      "Epoch [168/300]:  18%|██████████                                             | 6/33 [00:00<00:00, 56.35it/s, loss=0.806]"
     ]
    },
    {
     "name": "stdout",
     "output_type": "stream",
     "text": [
      "5\n",
      "6\n",
      "7\n",
      "8\n"
     ]
    },
    {
     "name": "stderr",
     "output_type": "stream",
     "text": [
      "Epoch [168/300]:  36%|███████████████████▋                                  | 12/33 [00:00<00:00, 57.43it/s, loss=0.862]"
     ]
    },
    {
     "name": "stdout",
     "output_type": "stream",
     "text": [
      "9\n",
      "10\n",
      "11\n",
      "12\n"
     ]
    },
    {
     "name": "stderr",
     "output_type": "stream",
     "text": [
      "Epoch [168/300]:  36%|███████████████████▋                                  | 12/33 [00:00<00:00, 57.43it/s, loss=0.999]"
     ]
    },
    {
     "name": "stdout",
     "output_type": "stream",
     "text": [
      "13\n",
      "14\n",
      "15\n",
      "16\n"
     ]
    },
    {
     "name": "stderr",
     "output_type": "stream",
     "text": [
      "Epoch [168/300]:  55%|█████████████████████████████▍                        | 18/33 [00:00<00:00, 56.44it/s, loss=0.783]"
     ]
    },
    {
     "name": "stdout",
     "output_type": "stream",
     "text": [
      "17\n",
      "18\n",
      "19\n",
      "20\n"
     ]
    },
    {
     "name": "stderr",
     "output_type": "stream",
     "text": [
      "Epoch [168/300]:  76%|████████████████████████████████████████▉             | 25/33 [00:00<00:00, 59.48it/s, loss=0.688]"
     ]
    },
    {
     "name": "stdout",
     "output_type": "stream",
     "text": [
      "21\n",
      "22\n",
      "23\n",
      "24\n",
      "25\n"
     ]
    },
    {
     "name": "stderr",
     "output_type": "stream",
     "text": [
      "Epoch [168/300]:  76%|████████████████████████████████████████▉             | 25/33 [00:00<00:00, 59.48it/s, loss=0.708]"
     ]
    },
    {
     "name": "stdout",
     "output_type": "stream",
     "text": [
      "26\n",
      "27\n",
      "28\n",
      "29\n",
      "30\n"
     ]
    },
    {
     "name": "stderr",
     "output_type": "stream",
     "text": [
      "Epoch [168/300]: 100%|██████████████████████████████████████████████████████| 33/33 [00:00<00:00, 60.76it/s, loss=0.968]\n",
      "\n",
      "Epoch [168/300]:   0%|                                                                  | 0/5 [00:00<?, ?it/s, loss=1.6]\u001b[A\n",
      "Epoch [168/300]:  20%|███████████▌                                              | 1/5 [00:00<00:02,  1.80it/s, loss=1.6]\u001b[A\n",
      "Epoch [168/300]:  20%|███████████▌                                              | 1/5 [00:00<00:02,  1.80it/s, loss=0.9]\u001b[A"
     ]
    },
    {
     "name": "stdout",
     "output_type": "stream",
     "text": [
      "31\n",
      "32\n",
      "0\n",
      "1\n"
     ]
    },
    {
     "name": "stderr",
     "output_type": "stream",
     "text": [
      "\n",
      "Epoch [168/300]:  20%|███████████▏                                            | 1/5 [00:00<00:02,  1.80it/s, loss=0.781]\u001b[A\n",
      "Epoch [168/300]:  20%|███████████▍                                             | 1/5 [00:00<00:02,  1.80it/s, loss=1.18]\u001b[A\n",
      "Epoch [168/300]: 100%|████████████████████████████████████████████████████████| 5/5 [00:00<00:00,  8.16it/s, loss=0.134]\u001b[A\n"
     ]
    },
    {
     "name": "stdout",
     "output_type": "stream",
     "text": [
      "2\n",
      "3\n",
      "4\n",
      "model improved and saved\n",
      "\n",
      "Epoch 168: train loss: 0.8243206522681497 \n",
      "Epoch 168: valid loss: 0.9189300507307052 \n"
     ]
    },
    {
     "name": "stderr",
     "output_type": "stream",
     "text": [
      "  0%|                                                                                            | 0/33 [00:00<?, ?it/s]\n",
      "Epoch [169/300]:   0%|                                                                           | 0/33 [00:00<?, ?it/s]\u001b[A\n",
      "Epoch [169/300]:   0%|                                                                | 0/33 [00:00<?, ?it/s, loss=1.03]\u001b[A"
     ]
    },
    {
     "name": "stdout",
     "output_type": "stream",
     "text": [
      "0\n"
     ]
    },
    {
     "name": "stderr",
     "output_type": "stream",
     "text": [
      "Epoch [169/300]:   0%|                                                               | 0/33 [00:00<?, ?it/s, loss=0.592]"
     ]
    },
    {
     "name": "stdout",
     "output_type": "stream",
     "text": [
      "1\n",
      "2\n",
      "3\n"
     ]
    },
    {
     "name": "stderr",
     "output_type": "stream",
     "text": [
      "Epoch [169/300]:  15%|████████▎                                              | 5/33 [00:00<00:00, 43.81it/s, loss=0.887]"
     ]
    },
    {
     "name": "stdout",
     "output_type": "stream",
     "text": [
      "4\n",
      "5\n",
      "6\n"
     ]
    },
    {
     "name": "stderr",
     "output_type": "stream",
     "text": [
      "\r",
      "Epoch [169/300]:  15%|████████▎                                              | 5/33 [00:00<00:00, 43.81it/s, loss=0.983]"
     ]
    },
    {
     "name": "stdout",
     "output_type": "stream",
     "text": [
      "7\n"
     ]
    },
    {
     "name": "stderr",
     "output_type": "stream",
     "text": [
      "Epoch [169/300]:  30%|████████████████▎                                     | 10/33 [00:00<00:00, 35.71it/s, loss=0.829]"
     ]
    },
    {
     "name": "stdout",
     "output_type": "stream",
     "text": [
      "8\n",
      "9\n",
      "10\n",
      "11\n"
     ]
    },
    {
     "name": "stderr",
     "output_type": "stream",
     "text": [
      "Epoch [169/300]:  52%|███████████████████████████▊                          | 17/33 [00:00<00:00, 46.19it/s, loss=0.819]"
     ]
    },
    {
     "name": "stdout",
     "output_type": "stream",
     "text": [
      "12\n",
      "13\n",
      "14\n",
      "15\n",
      "16\n",
      "17\n",
      "18\n",
      "19\n"
     ]
    },
    {
     "name": "stderr",
     "output_type": "stream",
     "text": [
      "\r",
      "Epoch [169/300]:  52%|████████████████████████████▎                          | 17/33 [00:00<00:00, 46.19it/s, loss=0.78]"
     ]
    },
    {
     "name": "stdout",
     "output_type": "stream",
     "text": [
      "20\n"
     ]
    },
    {
     "name": "stderr",
     "output_type": "stream",
     "text": [
      "Epoch [169/300]:  73%|███████████████████████████████████████▎              | 24/33 [00:00<00:00, 52.55it/s, loss=0.841]"
     ]
    },
    {
     "name": "stdout",
     "output_type": "stream",
     "text": [
      "21\n",
      "22\n",
      "23\n",
      "24\n"
     ]
    },
    {
     "name": "stderr",
     "output_type": "stream",
     "text": [
      "Epoch [169/300]: 100%|██████████████████████████████████████████████████████| 33/33 [00:00<00:00, 52.28it/s, loss=0.767]\n",
      "\n",
      "Epoch [169/300]:   0%|                                                                  | 0/5 [00:00<?, ?it/s, loss=1.6]"
     ]
    },
    {
     "name": "stdout",
     "output_type": "stream",
     "text": [
      "25\n",
      "26\n",
      "27\n",
      "28\n",
      "29\n",
      "30\n",
      "31\n",
      "32\n",
      "0\n"
     ]
    },
    {
     "name": "stderr",
     "output_type": "stream",
     "text": [
      "\u001b[A\n",
      "Epoch [169/300]:  20%|███████████▌                                              | 1/5 [00:00<00:02,  1.56it/s, loss=1.6]\u001b[A\n",
      "Epoch [169/300]:  20%|███████████▌                                              | 1/5 [00:00<00:02,  1.56it/s, loss=0.9]\u001b[A\n",
      "Epoch [169/300]:  20%|███████████▏                                            | 1/5 [00:00<00:02,  1.56it/s, loss=0.781]\u001b[A\n",
      "Epoch [169/300]:  20%|███████████▍                                             | 1/5 [00:00<00:02,  1.56it/s, loss=1.18]\u001b[A\n",
      "Epoch [169/300]: 100%|████████████████████████████████████████████████████████| 5/5 [00:00<00:00,  7.15it/s, loss=0.134]\u001b[A\n"
     ]
    },
    {
     "name": "stdout",
     "output_type": "stream",
     "text": [
      "1\n",
      "2\n",
      "3\n",
      "4\n",
      "model improved and saved\n",
      "\n",
      "Epoch 169: train loss: 0.8204304630106146 \n",
      "Epoch 169: valid loss: 0.9189653307199478 \n"
     ]
    },
    {
     "name": "stderr",
     "output_type": "stream",
     "text": [
      "  0%|                                                                                            | 0/33 [00:00<?, ?it/s]\n",
      "Epoch [170/300]:   0%|                                                                           | 0/33 [00:00<?, ?it/s]\u001b[A\n",
      "Epoch [170/300]:  18%|██████████                                             | 6/33 [00:00<00:00, 58.70it/s, loss=0.705]\u001b[A"
     ]
    },
    {
     "name": "stdout",
     "output_type": "stream",
     "text": [
      "0\n",
      "1\n",
      "2\n",
      "3\n",
      "4\n",
      "5\n",
      "6\n",
      "7\n",
      "8\n"
     ]
    },
    {
     "name": "stderr",
     "output_type": "stream",
     "text": [
      "Epoch [170/300]:  39%|█████████████████████▎                                | 13/33 [00:00<00:00, 64.32it/s, loss=0.512]"
     ]
    },
    {
     "name": "stdout",
     "output_type": "stream",
     "text": [
      "9\n",
      "10\n",
      "11\n",
      "12\n",
      "13\n"
     ]
    },
    {
     "name": "stderr",
     "output_type": "stream",
     "text": [
      "Epoch [170/300]:  61%|████████████████████████████████▋                     | 20/33 [00:00<00:00, 64.76it/s, loss=0.734]"
     ]
    },
    {
     "name": "stdout",
     "output_type": "stream",
     "text": [
      "14\n",
      "15\n",
      "16\n",
      "17\n",
      "18\n",
      "19\n",
      "20\n",
      "21\n",
      "22\n"
     ]
    },
    {
     "name": "stderr",
     "output_type": "stream",
     "text": [
      "Epoch [170/300]:  82%|████████████████████████████████████████████▏         | 27/33 [00:00<00:00, 64.18it/s, loss=0.841]"
     ]
    },
    {
     "name": "stdout",
     "output_type": "stream",
     "text": [
      "23\n",
      "24\n",
      "25\n",
      "26\n",
      "27\n"
     ]
    },
    {
     "name": "stderr",
     "output_type": "stream",
     "text": [
      "Epoch [170/300]: 100%|██████████████████████████████████████████████████████| 33/33 [00:00<00:00, 65.47it/s, loss=0.544]\n",
      "\n",
      "Epoch [170/300]:   0%|                                                                  | 0/5 [00:00<?, ?it/s, loss=1.6]\u001b[A\n",
      "Epoch [170/300]:  20%|███████████▌                                              | 1/5 [00:00<00:02,  1.94it/s, loss=1.6]\u001b[A\n",
      "Epoch [170/300]:  20%|███████████▌                                              | 1/5 [00:00<00:02,  1.94it/s, loss=0.9]\u001b[A\n",
      "Epoch [170/300]:  20%|███████████▏                                            | 1/5 [00:00<00:02,  1.94it/s, loss=0.781]\u001b[A\n",
      "Epoch [170/300]:  20%|███████████▍                                             | 1/5 [00:00<00:02,  1.94it/s, loss=1.18]\u001b[A\n",
      "Epoch [170/300]: 100%|████████████████████████████████████████████████████████| 5/5 [00:00<00:00,  8.78it/s, loss=0.134]\u001b[A"
     ]
    },
    {
     "name": "stdout",
     "output_type": "stream",
     "text": [
      "28\n",
      "29\n",
      "30\n",
      "31\n",
      "32\n",
      "0\n",
      "1\n",
      "2\n",
      "3\n",
      "4\n",
      "model improved and saved\n",
      "\n",
      "Epoch 170: train loss: 0.8120902993462302 \n",
      "Epoch 170: valid loss: 0.9188227415084839 \n"
     ]
    },
    {
     "name": "stderr",
     "output_type": "stream",
     "text": [
      "\n",
      "  0%|                                                                                            | 0/33 [00:00<?, ?it/s]\n",
      "Epoch [171/300]:   0%|                                                                           | 0/33 [00:00<?, ?it/s]\u001b[A\n",
      "Epoch [171/300]:   0%|                                                               | 0/33 [00:00<?, ?it/s, loss=0.828]\u001b[A"
     ]
    },
    {
     "name": "stdout",
     "output_type": "stream",
     "text": [
      "0\n",
      "1\n",
      "2\n",
      "3\n"
     ]
    },
    {
     "name": "stderr",
     "output_type": "stream",
     "text": [
      "Epoch [171/300]:  42%|██████████████████████▉                               | 14/33 [00:00<00:00, 64.75it/s, loss=0.971]"
     ]
    },
    {
     "name": "stdout",
     "output_type": "stream",
     "text": [
      "4\n",
      "5\n",
      "6\n",
      "7\n",
      "8\n",
      "9\n",
      "10\n",
      "11\n",
      "12\n",
      "13\n"
     ]
    },
    {
     "name": "stderr",
     "output_type": "stream",
     "text": [
      "Epoch [171/300]:  42%|███████████████████████▎                               | 14/33 [00:00<00:00, 64.75it/s, loss=1.11]"
     ]
    },
    {
     "name": "stdout",
     "output_type": "stream",
     "text": [
      "14\n",
      "15\n",
      "16\n",
      "17\n"
     ]
    },
    {
     "name": "stderr",
     "output_type": "stream",
     "text": [
      "Epoch [171/300]:  64%|██████████████████████████████████▎                   | 21/33 [00:00<00:00, 64.94it/s, loss=0.966]"
     ]
    },
    {
     "name": "stdout",
     "output_type": "stream",
     "text": [
      "18\n",
      "19\n",
      "20\n",
      "21\n",
      "22\n",
      "23\n",
      "24\n",
      "25\n",
      "26\n",
      "27\n"
     ]
    },
    {
     "name": "stderr",
     "output_type": "stream",
     "text": [
      "Epoch [171/300]:  88%|███████████████████████████████████████████████▍      | 29/33 [00:00<00:00, 66.41it/s, loss=0.516]"
     ]
    },
    {
     "name": "stdout",
     "output_type": "stream",
     "text": [
      "28\n",
      "29\n",
      "30\n",
      "31\n",
      "32\n"
     ]
    },
    {
     "name": "stderr",
     "output_type": "stream",
     "text": [
      "Epoch [171/300]: 100%|██████████████████████████████████████████████████████| 33/33 [00:00<00:00, 66.49it/s, loss=0.516]\n",
      "\n",
      "Epoch [171/300]:   0%|                                                                  | 0/5 [00:00<?, ?it/s, loss=1.6]\u001b[A\n",
      "Epoch [171/300]:  20%|███████████▌                                              | 1/5 [00:00<00:02,  1.96it/s, loss=1.6]\u001b[A\n",
      "Epoch [171/300]:  20%|███████████▌                                              | 1/5 [00:00<00:02,  1.96it/s, loss=0.9]\u001b[A\n",
      "Epoch [171/300]:  20%|███████████▏                                            | 1/5 [00:00<00:02,  1.96it/s, loss=0.781]\u001b[A\n",
      "Epoch [171/300]:  20%|███████████▍                                             | 1/5 [00:00<00:02,  1.96it/s, loss=1.18]\u001b[A\n",
      "Epoch [171/300]: 100%|████████████████████████████████████████████████████████| 5/5 [00:00<00:00,  8.89it/s, loss=0.134]\u001b[A\n"
     ]
    },
    {
     "name": "stdout",
     "output_type": "stream",
     "text": [
      "0\n",
      "1\n",
      "2\n",
      "3\n",
      "4\n",
      "model improved and saved\n",
      "\n",
      "Epoch 171: train loss: 0.8118203932588751 \n",
      "Epoch 171: valid loss: 0.9189865678548813 \n"
     ]
    },
    {
     "name": "stderr",
     "output_type": "stream",
     "text": [
      "  0%|                                                                                            | 0/33 [00:00<?, ?it/s]\n",
      "Epoch [172/300]:   0%|                                                                           | 0/33 [00:00<?, ?it/s]\u001b[A\n",
      "Epoch [172/300]:   0%|                                                               | 0/33 [00:00<?, ?it/s, loss=0.981]\u001b[A"
     ]
    },
    {
     "name": "stdout",
     "output_type": "stream",
     "text": [
      "0\n",
      "1\n",
      "2\n"
     ]
    },
    {
     "name": "stderr",
     "output_type": "stream",
     "text": [
      "Epoch [172/300]:  18%|██████████                                             | 6/33 [00:00<00:00, 56.44it/s, loss=0.995]"
     ]
    },
    {
     "name": "stdout",
     "output_type": "stream",
     "text": [
      "3\n",
      "4\n",
      "5\n",
      "6\n",
      "7\n"
     ]
    },
    {
     "name": "stderr",
     "output_type": "stream",
     "text": [
      "Epoch [172/300]:  39%|█████████████████████▎                                | 13/33 [00:00<00:00, 61.45it/s, loss=0.538]"
     ]
    },
    {
     "name": "stdout",
     "output_type": "stream",
     "text": [
      "8\n",
      "9\n",
      "10\n",
      "11\n",
      "12\n"
     ]
    },
    {
     "name": "stderr",
     "output_type": "stream",
     "text": [
      "Epoch [172/300]:  39%|█████████████████████▋                                 | 13/33 [00:00<00:00, 61.45it/s, loss=1.04]"
     ]
    },
    {
     "name": "stdout",
     "output_type": "stream",
     "text": [
      "13\n",
      "14\n",
      "15\n",
      "16\n"
     ]
    },
    {
     "name": "stderr",
     "output_type": "stream",
     "text": [
      "Epoch [172/300]:  61%|████████████████████████████████▋                     | 20/33 [00:00<00:00, 63.16it/s, loss=0.914]"
     ]
    },
    {
     "name": "stdout",
     "output_type": "stream",
     "text": [
      "17\n",
      "18\n",
      "19\n",
      "20\n",
      "21\n"
     ]
    },
    {
     "name": "stderr",
     "output_type": "stream",
     "text": [
      "Epoch [172/300]:  61%|█████████████████████████████████▎                     | 20/33 [00:00<00:00, 63.16it/s, loss=0.99]"
     ]
    },
    {
     "name": "stdout",
     "output_type": "stream",
     "text": [
      "22\n",
      "23\n",
      "24\n",
      "25\n",
      "26\n"
     ]
    },
    {
     "name": "stderr",
     "output_type": "stream",
     "text": [
      "Epoch [172/300]:  82%|████████████████████████████████████████████▏         | 27/33 [00:00<00:00, 63.35it/s, loss=0.861]"
     ]
    },
    {
     "name": "stdout",
     "output_type": "stream",
     "text": [
      "27\n",
      "28\n",
      "29\n",
      "30\n"
     ]
    },
    {
     "name": "stderr",
     "output_type": "stream",
     "text": [
      "Epoch [172/300]: 100%|██████████████████████████████████████████████████████| 33/33 [00:00<00:00, 64.15it/s, loss=0.303]\n",
      "\n",
      "Epoch [172/300]:   0%|                                                                  | 0/5 [00:00<?, ?it/s, loss=1.6]\u001b[A\n",
      "Epoch [172/300]:  20%|███████████▌                                              | 1/5 [00:00<00:02,  1.90it/s, loss=1.6]\u001b[A\n",
      "Epoch [172/300]:  20%|███████████▌                                              | 1/5 [00:00<00:02,  1.90it/s, loss=0.9]\u001b[A\n",
      "Epoch [172/300]:  20%|███████████▏                                            | 1/5 [00:00<00:02,  1.90it/s, loss=0.781]\u001b[A"
     ]
    },
    {
     "name": "stdout",
     "output_type": "stream",
     "text": [
      "31\n",
      "32\n",
      "0\n",
      "1\n",
      "2\n"
     ]
    },
    {
     "name": "stderr",
     "output_type": "stream",
     "text": [
      "\n",
      "Epoch [172/300]:  20%|███████████▍                                             | 1/5 [00:00<00:02,  1.90it/s, loss=1.18]\u001b[A\n",
      "Epoch [172/300]: 100%|████████████████████████████████████████████████████████| 5/5 [00:00<00:00,  8.68it/s, loss=0.134]\u001b[A\n"
     ]
    },
    {
     "name": "stdout",
     "output_type": "stream",
     "text": [
      "3\n",
      "4\n",
      "model improved and saved\n",
      "\n",
      "Epoch 172: train loss: 0.8060286027012449 \n",
      "Epoch 172: valid loss: 0.9186283051967621 \n"
     ]
    },
    {
     "name": "stderr",
     "output_type": "stream",
     "text": [
      "  0%|                                                                                            | 0/33 [00:00<?, ?it/s]\n",
      "Epoch [173/300]:   0%|                                                                           | 0/33 [00:00<?, ?it/s]\u001b[A\n",
      "Epoch [173/300]:   0%|                                                               | 0/33 [00:00<?, ?it/s, loss=0.658]\u001b[A"
     ]
    },
    {
     "name": "stdout",
     "output_type": "stream",
     "text": [
      "0\n",
      "1\n",
      "2\n"
     ]
    },
    {
     "name": "stderr",
     "output_type": "stream",
     "text": [
      "Epoch [173/300]:  18%|██████████                                             | 6/33 [00:00<00:00, 58.82it/s, loss=0.864]"
     ]
    },
    {
     "name": "stdout",
     "output_type": "stream",
     "text": [
      "3\n",
      "4\n",
      "5\n"
     ]
    },
    {
     "name": "stderr",
     "output_type": "stream",
     "text": [
      "Epoch [173/300]:  18%|██████████                                             | 6/33 [00:00<00:00, 58.82it/s, loss=0.842]"
     ]
    },
    {
     "name": "stdout",
     "output_type": "stream",
     "text": [
      "6\n",
      "7\n",
      "8\n",
      "9\n",
      "10\n"
     ]
    },
    {
     "name": "stderr",
     "output_type": "stream",
     "text": [
      "Epoch [173/300]:  39%|█████████████████████▎                                | 13/33 [00:00<00:00, 61.90it/s, loss=0.464]"
     ]
    },
    {
     "name": "stdout",
     "output_type": "stream",
     "text": [
      "11\n",
      "12\n",
      "13\n"
     ]
    },
    {
     "name": "stderr",
     "output_type": "stream",
     "text": [
      "Epoch [173/300]:  39%|█████████████████████▎                                | 13/33 [00:00<00:00, 61.90it/s, loss=0.557]"
     ]
    },
    {
     "name": "stdout",
     "output_type": "stream",
     "text": [
      "14\n",
      "15\n"
     ]
    },
    {
     "name": "stderr",
     "output_type": "stream",
     "text": [
      "Epoch [173/300]:  61%|████████████████████████████████▋                     | 20/33 [00:00<00:00, 63.25it/s, loss=0.621]"
     ]
    },
    {
     "name": "stdout",
     "output_type": "stream",
     "text": [
      "16\n",
      "17\n",
      "18\n",
      "19\n"
     ]
    },
    {
     "name": "stderr",
     "output_type": "stream",
     "text": [
      "Epoch [173/300]:  61%|████████████████████████████████▋                     | 20/33 [00:00<00:00, 63.25it/s, loss=0.734]"
     ]
    },
    {
     "name": "stdout",
     "output_type": "stream",
     "text": [
      "20\n",
      "21\n",
      "22\n",
      "23\n"
     ]
    },
    {
     "name": "stderr",
     "output_type": "stream",
     "text": [
      "Epoch [173/300]:  82%|████████████████████████████████████████████▏         | 27/33 [00:00<00:00, 63.20it/s, loss=0.666]"
     ]
    },
    {
     "name": "stdout",
     "output_type": "stream",
     "text": [
      "24\n",
      "25\n",
      "26\n"
     ]
    },
    {
     "name": "stderr",
     "output_type": "stream",
     "text": [
      "Epoch [173/300]:  82%|████████████████████████████████████████████▏         | 27/33 [00:00<00:00, 63.20it/s, loss=0.686]"
     ]
    },
    {
     "name": "stdout",
     "output_type": "stream",
     "text": [
      "27\n",
      "28\n",
      "29\n"
     ]
    },
    {
     "name": "stderr",
     "output_type": "stream",
     "text": [
      "Epoch [173/300]: 100%|███████████████████████████████████████████████████████| 33/33 [00:00<00:00, 64.37it/s, loss=1.27]\n",
      "\n",
      "Epoch [173/300]:   0%|                                                                  | 0/5 [00:00<?, ?it/s, loss=1.6]\u001b[A\n",
      "Epoch [173/300]:  20%|███████████▌                                              | 1/5 [00:00<00:02,  1.90it/s, loss=1.6]\u001b[A"
     ]
    },
    {
     "name": "stdout",
     "output_type": "stream",
     "text": [
      "30\n",
      "31\n",
      "32\n",
      "0\n"
     ]
    },
    {
     "name": "stderr",
     "output_type": "stream",
     "text": [
      "\n",
      "Epoch [173/300]:  20%|███████████▌                                              | 1/5 [00:00<00:02,  1.90it/s, loss=0.9]\u001b[A\n",
      "Epoch [173/300]:  20%|███████████▏                                            | 1/5 [00:00<00:02,  1.90it/s, loss=0.781]\u001b[A\n",
      "Epoch [173/300]:  20%|███████████▍                                             | 1/5 [00:00<00:02,  1.90it/s, loss=1.18]\u001b[A\n",
      "Epoch [173/300]: 100%|████████████████████████████████████████████████████████| 5/5 [00:00<00:00,  8.62it/s, loss=0.134]\u001b[A\n"
     ]
    },
    {
     "name": "stdout",
     "output_type": "stream",
     "text": [
      "1\n",
      "2\n",
      "3\n",
      "4\n",
      "model improved and saved\n",
      "\n",
      "Epoch 173: train loss: 0.831183438951319 \n",
      "Epoch 173: valid loss: 0.9190639287233353 \n"
     ]
    },
    {
     "name": "stderr",
     "output_type": "stream",
     "text": [
      "  0%|                                                                                            | 0/33 [00:00<?, ?it/s]\n",
      "Epoch [174/300]:   0%|                                                                           | 0/33 [00:00<?, ?it/s]\u001b[A\n",
      "Epoch [174/300]:   0%|                                                               | 0/33 [00:00<?, ?it/s, loss=0.844]\u001b[A"
     ]
    },
    {
     "name": "stdout",
     "output_type": "stream",
     "text": [
      "0\n",
      "1\n"
     ]
    },
    {
     "name": "stderr",
     "output_type": "stream",
     "text": [
      "Epoch [174/300]:   0%|                                                               | 0/33 [00:00<?, ?it/s, loss=0.605]"
     ]
    },
    {
     "name": "stdout",
     "output_type": "stream",
     "text": [
      "2\n",
      "3\n",
      "4\n"
     ]
    },
    {
     "name": "stderr",
     "output_type": "stream",
     "text": [
      "Epoch [174/300]:  18%|██████████▏                                             | 6/33 [00:00<00:00, 54.26it/s, loss=1.12]"
     ]
    },
    {
     "name": "stdout",
     "output_type": "stream",
     "text": [
      "5\n",
      "6\n",
      "7\n"
     ]
    },
    {
     "name": "stderr",
     "output_type": "stream",
     "text": [
      "Epoch [174/300]:  39%|█████████████████████▎                                | 13/33 [00:00<00:00, 60.70it/s, loss=0.842]"
     ]
    },
    {
     "name": "stdout",
     "output_type": "stream",
     "text": [
      "8\n",
      "9\n",
      "10\n",
      "11\n",
      "12\n"
     ]
    },
    {
     "name": "stderr",
     "output_type": "stream",
     "text": [
      "Epoch [174/300]:  39%|█████████████████████▎                                | 13/33 [00:00<00:00, 60.70it/s, loss=0.821]"
     ]
    },
    {
     "name": "stdout",
     "output_type": "stream",
     "text": [
      "13\n",
      "14\n"
     ]
    },
    {
     "name": "stderr",
     "output_type": "stream",
     "text": [
      "Epoch [174/300]:  39%|█████████████████████▎                                | 13/33 [00:00<00:00, 60.70it/s, loss=0.651]"
     ]
    },
    {
     "name": "stdout",
     "output_type": "stream",
     "text": [
      "15\n",
      "16\n",
      "17\n"
     ]
    },
    {
     "name": "stderr",
     "output_type": "stream",
     "text": [
      "Epoch [174/300]:  61%|████████████████████████████████▋                     | 20/33 [00:00<00:00, 60.80it/s, loss=0.953]"
     ]
    },
    {
     "name": "stdout",
     "output_type": "stream",
     "text": [
      "18\n",
      "19\n",
      "20\n"
     ]
    },
    {
     "name": "stderr",
     "output_type": "stream",
     "text": [
      "Epoch [174/300]:  82%|████████████████████████████████████████████▏         | 27/33 [00:00<00:00, 63.89it/s, loss=0.794]"
     ]
    },
    {
     "name": "stdout",
     "output_type": "stream",
     "text": [
      "21\n",
      "22\n",
      "23\n",
      "24\n",
      "25\n",
      "26\n"
     ]
    },
    {
     "name": "stderr",
     "output_type": "stream",
     "text": [
      "Epoch [174/300]:  82%|████████████████████████████████████████████▏         | 27/33 [00:00<00:00, 63.89it/s, loss=0.683]"
     ]
    },
    {
     "name": "stdout",
     "output_type": "stream",
     "text": [
      "27\n",
      "28\n"
     ]
    },
    {
     "name": "stderr",
     "output_type": "stream",
     "text": [
      "Epoch [174/300]:  82%|████████████████████████████████████████████▏         | 27/33 [00:00<00:00, 63.89it/s, loss=0.809]"
     ]
    },
    {
     "name": "stdout",
     "output_type": "stream",
     "text": [
      "29\n",
      "30\n",
      "31\n"
     ]
    },
    {
     "name": "stderr",
     "output_type": "stream",
     "text": [
      "Epoch [174/300]: 100%|████████████████████████████████████████████████████████| 33/33 [00:00<00:00, 62.87it/s, loss=1.3]\n",
      "\n",
      "Epoch [174/300]:   0%|                                                                  | 0/5 [00:00<?, ?it/s, loss=1.6]\u001b[A\n",
      "Epoch [174/300]:  20%|███████████▌                                              | 1/5 [00:00<00:02,  1.86it/s, loss=1.6]\u001b[A\n",
      "Epoch [174/300]:  20%|███████████▏                                            | 1/5 [00:00<00:02,  1.86it/s, loss=0.901]\u001b[A"
     ]
    },
    {
     "name": "stdout",
     "output_type": "stream",
     "text": [
      "32\n",
      "0\n",
      "1\n"
     ]
    },
    {
     "name": "stderr",
     "output_type": "stream",
     "text": [
      "\n",
      "Epoch [174/300]:  20%|███████████▏                                            | 1/5 [00:00<00:02,  1.86it/s, loss=0.782]\u001b[A\n",
      "Epoch [174/300]:  20%|███████████▍                                             | 1/5 [00:00<00:02,  1.86it/s, loss=1.18]\u001b[A\n",
      "Epoch [174/300]: 100%|████████████████████████████████████████████████████████| 5/5 [00:00<00:00,  8.40it/s, loss=0.134]\u001b[A\n"
     ]
    },
    {
     "name": "stdout",
     "output_type": "stream",
     "text": [
      "2\n",
      "3\n",
      "4\n",
      "model improved and saved\n",
      "\n",
      "Epoch 174: train loss: 0.834059659278754 \n",
      "Epoch 174: valid loss: 0.919225811958313 \n"
     ]
    },
    {
     "name": "stderr",
     "output_type": "stream",
     "text": [
      "  0%|                                                                                            | 0/33 [00:00<?, ?it/s]\n",
      "Epoch [175/300]:   0%|                                                                           | 0/33 [00:00<?, ?it/s]\u001b[A\n",
      "Epoch [175/300]:   0%|                                                               | 0/33 [00:00<?, ?it/s, loss=0.963]\u001b[A"
     ]
    },
    {
     "name": "stdout",
     "output_type": "stream",
     "text": [
      "0\n",
      "1\n"
     ]
    },
    {
     "name": "stderr",
     "output_type": "stream",
     "text": [
      "Epoch [175/300]:   0%|                                                                | 0/33 [00:00<?, ?it/s, loss=0.87]"
     ]
    },
    {
     "name": "stdout",
     "output_type": "stream",
     "text": [
      "2\n"
     ]
    },
    {
     "name": "stderr",
     "output_type": "stream",
     "text": [
      "Epoch [175/300]:  18%|██████████▏                                             | 6/33 [00:00<00:00, 54.79it/s, loss=0.83]"
     ]
    },
    {
     "name": "stdout",
     "output_type": "stream",
     "text": [
      "3\n",
      "4\n",
      "5\n"
     ]
    },
    {
     "name": "stderr",
     "output_type": "stream",
     "text": [
      "Epoch [175/300]:  18%|██████████▏                                             | 6/33 [00:00<00:00, 54.79it/s, loss=0.63]"
     ]
    },
    {
     "name": "stdout",
     "output_type": "stream",
     "text": [
      "6\n",
      "7\n",
      "8\n",
      "9\n"
     ]
    },
    {
     "name": "stderr",
     "output_type": "stream",
     "text": [
      "Epoch [175/300]:  39%|█████████████████████▋                                 | 13/33 [00:00<00:00, 62.18it/s, loss=1.01]"
     ]
    },
    {
     "name": "stdout",
     "output_type": "stream",
     "text": [
      "10\n",
      "11\n",
      "12\n",
      "13\n"
     ]
    },
    {
     "name": "stderr",
     "output_type": "stream",
     "text": [
      "Epoch [175/300]:  39%|█████████████████████▎                                | 13/33 [00:00<00:00, 62.18it/s, loss=0.744]"
     ]
    },
    {
     "name": "stdout",
     "output_type": "stream",
     "text": [
      "14\n"
     ]
    },
    {
     "name": "stderr",
     "output_type": "stream",
     "text": [
      "\r",
      "Epoch [175/300]:  39%|█████████████████████▎                                | 13/33 [00:00<00:00, 62.18it/s, loss=0.957]"
     ]
    },
    {
     "name": "stdout",
     "output_type": "stream",
     "text": [
      "15\n"
     ]
    },
    {
     "name": "stderr",
     "output_type": "stream",
     "text": [
      "Epoch [175/300]:  39%|█████████████████████▎                                | 13/33 [00:00<00:00, 62.18it/s, loss=0.942]"
     ]
    },
    {
     "name": "stdout",
     "output_type": "stream",
     "text": [
      "16\n",
      "17\n",
      "18\n",
      "19\n"
     ]
    },
    {
     "name": "stderr",
     "output_type": "stream",
     "text": [
      "Epoch [175/300]:  61%|████████████████████████████████▋                     | 20/33 [00:00<00:00, 62.27it/s, loss=0.812]"
     ]
    },
    {
     "name": "stdout",
     "output_type": "stream",
     "text": [
      "20\n",
      "21\n",
      "22\n"
     ]
    },
    {
     "name": "stderr",
     "output_type": "stream",
     "text": [
      "Epoch [175/300]:  82%|████████████████████████████████████████████▏         | 27/33 [00:00<00:00, 63.85it/s, loss=0.852]"
     ]
    },
    {
     "name": "stdout",
     "output_type": "stream",
     "text": [
      "23\n",
      "24\n",
      "25\n",
      "26\n",
      "27\n"
     ]
    },
    {
     "name": "stderr",
     "output_type": "stream",
     "text": [
      "\r",
      "Epoch [175/300]:  82%|████████████████████████████████████████████▏         | 27/33 [00:00<00:00, 63.85it/s, loss=0.799]"
     ]
    },
    {
     "name": "stdout",
     "output_type": "stream",
     "text": [
      "28\n"
     ]
    },
    {
     "name": "stderr",
     "output_type": "stream",
     "text": [
      "\r",
      "Epoch [175/300]:  82%|████████████████████████████████████████████▏         | 27/33 [00:00<00:00, 63.85it/s, loss=0.922]"
     ]
    },
    {
     "name": "stdout",
     "output_type": "stream",
     "text": [
      "29\n"
     ]
    },
    {
     "name": "stderr",
     "output_type": "stream",
     "text": [
      "Epoch [175/300]: 100%|██████████████████████████████████████████████████████| 33/33 [00:00<00:00, 64.47it/s, loss=0.973]\n",
      "\n",
      "Epoch [175/300]:   0%|                                                                  | 0/5 [00:00<?, ?it/s, loss=1.6]\u001b[A\n",
      "Epoch [175/300]:  20%|███████████▌                                              | 1/5 [00:00<00:02,  1.92it/s, loss=1.6]\u001b[A"
     ]
    },
    {
     "name": "stdout",
     "output_type": "stream",
     "text": [
      "30\n",
      "31\n",
      "32\n",
      "0\n"
     ]
    },
    {
     "name": "stderr",
     "output_type": "stream",
     "text": [
      "\n",
      "Epoch [175/300]:  20%|███████████▏                                            | 1/5 [00:00<00:02,  1.92it/s, loss=0.901]\u001b[A\n",
      "Epoch [175/300]:  20%|███████████▏                                            | 1/5 [00:00<00:02,  1.92it/s, loss=0.782]\u001b[A\n",
      "Epoch [175/300]:  20%|███████████▍                                             | 1/5 [00:00<00:02,  1.92it/s, loss=1.18]\u001b[A\n",
      "Epoch [175/300]: 100%|████████████████████████████████████████████████████████| 5/5 [00:00<00:00,  8.69it/s, loss=0.134]\u001b[A"
     ]
    },
    {
     "name": "stdout",
     "output_type": "stream",
     "text": [
      "1\n",
      "2\n",
      "3\n",
      "4\n",
      "model improved and saved\n",
      "\n",
      "Epoch 175: train loss: 0.8221083744005724 \n",
      "Epoch 175: valid loss: 0.9195716708898545 \n"
     ]
    },
    {
     "name": "stderr",
     "output_type": "stream",
     "text": [
      "\n",
      "  0%|                                                                                            | 0/33 [00:00<?, ?it/s]\n",
      "Epoch [176/300]:   0%|                                                                           | 0/33 [00:00<?, ?it/s]\u001b[A\n",
      "Epoch [176/300]:   0%|                                                               | 0/33 [00:00<?, ?it/s, loss=0.777]\u001b[A"
     ]
    },
    {
     "name": "stdout",
     "output_type": "stream",
     "text": [
      "0\n",
      "1\n",
      "2\n",
      "3\n"
     ]
    },
    {
     "name": "stderr",
     "output_type": "stream",
     "text": [
      "\r",
      "Epoch [176/300]:   0%|                                                               | 0/33 [00:00<?, ?it/s, loss=0.788]"
     ]
    },
    {
     "name": "stdout",
     "output_type": "stream",
     "text": [
      "4\n"
     ]
    },
    {
     "name": "stderr",
     "output_type": "stream",
     "text": [
      "\r",
      "Epoch [176/300]:   0%|                                                               | 0/33 [00:00<?, ?it/s, loss=0.621]"
     ]
    },
    {
     "name": "stdout",
     "output_type": "stream",
     "text": [
      "5\n"
     ]
    },
    {
     "name": "stderr",
     "output_type": "stream",
     "text": [
      "Epoch [176/300]:  21%|███████████▋                                           | 7/33 [00:00<00:00, 61.24it/s, loss=0.793]"
     ]
    },
    {
     "name": "stdout",
     "output_type": "stream",
     "text": [
      "6\n",
      "7\n",
      "8\n",
      "9\n"
     ]
    },
    {
     "name": "stderr",
     "output_type": "stream",
     "text": [
      "Epoch [176/300]:  21%|███████████▋                                           | 7/33 [00:00<00:00, 61.24it/s, loss=0.994]"
     ]
    },
    {
     "name": "stdout",
     "output_type": "stream",
     "text": [
      "10\n",
      "11\n",
      "12\n"
     ]
    },
    {
     "name": "stderr",
     "output_type": "stream",
     "text": [
      "Epoch [176/300]:  42%|██████████████████████▉                               | 14/33 [00:00<00:00, 61.87it/s, loss=0.667]"
     ]
    },
    {
     "name": "stdout",
     "output_type": "stream",
     "text": [
      "13\n",
      "14\n",
      "15\n",
      "16\n",
      "17\n"
     ]
    },
    {
     "name": "stderr",
     "output_type": "stream",
     "text": [
      "\r",
      "Epoch [176/300]:  42%|██████████████████████▉                               | 14/33 [00:00<00:00, 61.87it/s, loss=0.753]"
     ]
    },
    {
     "name": "stdout",
     "output_type": "stream",
     "text": [
      "18\n"
     ]
    },
    {
     "name": "stderr",
     "output_type": "stream",
     "text": [
      "Epoch [176/300]:  64%|███████████████████████████████████                    | 21/33 [00:00<00:00, 57.98it/s, loss=1.51]"
     ]
    },
    {
     "name": "stdout",
     "output_type": "stream",
     "text": [
      "19\n",
      "20\n",
      "21\n"
     ]
    },
    {
     "name": "stderr",
     "output_type": "stream",
     "text": [
      "Epoch [176/300]:  64%|██████████████████████████████████▎                   | 21/33 [00:00<00:00, 57.98it/s, loss=0.497]"
     ]
    },
    {
     "name": "stdout",
     "output_type": "stream",
     "text": [
      "22\n",
      "23\n",
      "24\n"
     ]
    },
    {
     "name": "stderr",
     "output_type": "stream",
     "text": [
      "Epoch [176/300]:  82%|████████████████████████████████████████████▏         | 27/33 [00:00<00:00, 58.57it/s, loss=0.879]"
     ]
    },
    {
     "name": "stdout",
     "output_type": "stream",
     "text": [
      "25\n",
      "26\n",
      "27\n",
      "28\n",
      "29\n",
      "30\n"
     ]
    },
    {
     "name": "stderr",
     "output_type": "stream",
     "text": [
      "\r",
      "Epoch [176/300]:  82%|█████████████████████████████████████████████          | 27/33 [00:00<00:00, 58.57it/s, loss=0.88]"
     ]
    },
    {
     "name": "stdout",
     "output_type": "stream",
     "text": [
      "31\n"
     ]
    },
    {
     "name": "stderr",
     "output_type": "stream",
     "text": [
      "Epoch [176/300]: 100%|███████████████████████████████████████████████████████| 33/33 [00:00<00:00, 60.93it/s, loss=1.36]\n",
      "\n",
      "Epoch [176/300]:   0%|                                                                  | 0/5 [00:00<?, ?it/s, loss=1.6]\u001b[A\n",
      "Epoch [176/300]:  20%|███████████▌                                              | 1/5 [00:00<00:02,  1.80it/s, loss=1.6]\u001b[A\n",
      "Epoch [176/300]:  20%|███████████▏                                            | 1/5 [00:00<00:02,  1.80it/s, loss=0.902]\u001b[A\n",
      "Epoch [176/300]:  20%|███████████▏                                            | 1/5 [00:00<00:02,  1.80it/s, loss=0.783]\u001b[A"
     ]
    },
    {
     "name": "stdout",
     "output_type": "stream",
     "text": [
      "32\n",
      "0\n",
      "1\n",
      "2\n"
     ]
    },
    {
     "name": "stderr",
     "output_type": "stream",
     "text": [
      "\n",
      "Epoch [176/300]:  20%|███████████▍                                             | 1/5 [00:00<00:02,  1.80it/s, loss=1.18]\u001b[A\n",
      "Epoch [176/300]: 100%|████████████████████████████████████████████████████████| 5/5 [00:00<00:00,  8.24it/s, loss=0.134]\u001b[A\n"
     ]
    },
    {
     "name": "stdout",
     "output_type": "stream",
     "text": [
      "3\n",
      "4\n",
      "model improved and saved\n",
      "\n",
      "Epoch 176: train loss: 0.8314835971051996 \n",
      "Epoch 176: valid loss: 0.9201120436191559 \n"
     ]
    },
    {
     "name": "stderr",
     "output_type": "stream",
     "text": [
      "  0%|                                                                                            | 0/33 [00:00<?, ?it/s]\n",
      "Epoch [177/300]:   0%|                                                                           | 0/33 [00:00<?, ?it/s]\u001b[A\n",
      "Epoch [177/300]:  15%|████████▎                                              | 5/33 [00:00<00:00, 48.27it/s, loss=0.863]\u001b[A"
     ]
    },
    {
     "name": "stdout",
     "output_type": "stream",
     "text": [
      "0\n",
      "1\n",
      "2\n",
      "3\n",
      "4\n"
     ]
    },
    {
     "name": "stderr",
     "output_type": "stream",
     "text": [
      "\r",
      "Epoch [177/300]:  15%|████████▎                                              | 5/33 [00:00<00:00, 48.27it/s, loss=0.867]"
     ]
    },
    {
     "name": "stdout",
     "output_type": "stream",
     "text": [
      "5\n"
     ]
    },
    {
     "name": "stderr",
     "output_type": "stream",
     "text": [
      "Epoch [177/300]:  15%|████████▎                                              | 5/33 [00:00<00:00, 48.27it/s, loss=0.865]"
     ]
    },
    {
     "name": "stdout",
     "output_type": "stream",
     "text": [
      "6\n",
      "7\n",
      "8\n"
     ]
    },
    {
     "name": "stderr",
     "output_type": "stream",
     "text": [
      "\r",
      "Epoch [177/300]:  15%|████████▎                                              | 5/33 [00:00<00:00, 48.27it/s, loss=0.795]"
     ]
    }
   ],
   "source": [
    "main()"
   ]
  }
 ],
 "metadata": {
  "kernelspec": {
   "display_name": "Python 3 (ipykernel)",
   "language": "python",
   "name": "python3"
  },
  "language_info": {
   "codemirror_mode": {
    "name": "ipython",
    "version": 3
   },
   "file_extension": ".py",
   "mimetype": "text/x-python",
   "name": "python",
   "nbconvert_exporter": "python",
   "pygments_lexer": "ipython3",
   "version": "3.10.8"
  }
 },
 "nbformat": 4,
 "nbformat_minor": 5
}
