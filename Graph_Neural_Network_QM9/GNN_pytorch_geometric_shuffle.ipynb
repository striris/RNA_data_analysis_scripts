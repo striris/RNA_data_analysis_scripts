{
 "cells": [
  {
   "cell_type": "code",
   "execution_count": 2,
   "id": "42f9de49",
   "metadata": {
    "collapsed": true
   },
   "outputs": [
    {
     "name": "stdout",
     "output_type": "stream",
     "text": [
      "Collecting torch_geometric\n",
      "  Downloading torch_geometric-2.3.1.tar.gz (661 kB)\n",
      "\u001b[2K     \u001b[90m━━━━━━━━━━━━━━━━━━━━━━━━━━━━━━━━━━━━━━\u001b[0m \u001b[32m661.6/661.6 kB\u001b[0m \u001b[31m33.4 MB/s\u001b[0m eta \u001b[36m0:00:00\u001b[0m\n",
      "\u001b[?25h  Installing build dependencies ... \u001b[?25ldone\n",
      "\u001b[?25h  Getting requirements to build wheel ... \u001b[?25ldone\n",
      "\u001b[?25h  Preparing metadata (pyproject.toml) ... \u001b[?25ldone\n",
      "\u001b[?25hRequirement already satisfied: scipy in /raid/scratch/liuxr/miniconda3/lib/python3.10/site-packages (from torch_geometric) (1.10.1)\n",
      "Requirement already satisfied: pyparsing in /raid/scratch/liuxr/miniconda3/lib/python3.10/site-packages (from torch_geometric) (3.0.9)\n",
      "Requirement already satisfied: requests in /raid/scratch/liuxr/miniconda3/lib/python3.10/site-packages (from torch_geometric) (2.28.1)\n",
      "Requirement already satisfied: psutil>=5.8.0 in /raid/scratch/liuxr/miniconda3/lib/python3.10/site-packages (from torch_geometric) (5.9.0)\n",
      "Requirement already satisfied: jinja2 in /raid/scratch/liuxr/miniconda3/lib/python3.10/site-packages (from torch_geometric) (3.1.2)\n",
      "Requirement already satisfied: scikit-learn in /raid/scratch/liuxr/miniconda3/lib/python3.10/site-packages (from torch_geometric) (1.2.2)\n",
      "Requirement already satisfied: tqdm in /raid/scratch/liuxr/miniconda3/lib/python3.10/site-packages (from torch_geometric) (4.64.1)\n",
      "Requirement already satisfied: numpy in /raid/scratch/liuxr/miniconda3/lib/python3.10/site-packages (from torch_geometric) (1.23.5)\n",
      "Requirement already satisfied: MarkupSafe>=2.0 in /raid/scratch/liuxr/miniconda3/lib/python3.10/site-packages (from jinja2->torch_geometric) (2.1.1)\n",
      "Requirement already satisfied: idna<4,>=2.5 in /raid/scratch/liuxr/miniconda3/lib/python3.10/site-packages (from requests->torch_geometric) (3.4)\n",
      "Requirement already satisfied: charset-normalizer<3,>=2 in /raid/scratch/liuxr/miniconda3/lib/python3.10/site-packages (from requests->torch_geometric) (2.0.4)\n",
      "Requirement already satisfied: urllib3<1.27,>=1.21.1 in /raid/scratch/liuxr/miniconda3/lib/python3.10/site-packages (from requests->torch_geometric) (1.26.14)\n",
      "Requirement already satisfied: certifi>=2017.4.17 in /raid/scratch/liuxr/miniconda3/lib/python3.10/site-packages (from requests->torch_geometric) (2022.12.7)\n",
      "Requirement already satisfied: joblib>=1.1.1 in /raid/scratch/liuxr/miniconda3/lib/python3.10/site-packages (from scikit-learn->torch_geometric) (1.2.0)\n",
      "Requirement already satisfied: threadpoolctl>=2.0.0 in /raid/scratch/liuxr/miniconda3/lib/python3.10/site-packages (from scikit-learn->torch_geometric) (3.1.0)\n",
      "Building wheels for collected packages: torch_geometric\n",
      "  Building wheel for torch_geometric (pyproject.toml) ... \u001b[?25ldone\n",
      "\u001b[?25h  Created wheel for torch_geometric: filename=torch_geometric-2.3.1-py3-none-any.whl size=910459 sha256=0e3805076b60212411587bad011eb5e405e827e8baece67fb82e9261a36c6e4a\n",
      "  Stored in directory: /home/liuxr/.cache/pip/wheels/aa/16/a8/fd7737d723cc1eb8df023c016c262ff4520091e1b022f8c164\n",
      "Successfully built torch_geometric\n",
      "Installing collected packages: torch_geometric\n",
      "Successfully installed torch_geometric-2.3.1\n"
     ]
    }
   ],
   "source": [
    "!pip install torch_geometric"
   ]
  },
  {
   "cell_type": "code",
   "execution_count": 20,
   "id": "f82758c0",
   "metadata": {},
   "outputs": [],
   "source": [
    "!export OMP_NUM_THREADS=8"
   ]
  },
  {
   "cell_type": "code",
   "execution_count": 1,
   "id": "ec40bb7c",
   "metadata": {},
   "outputs": [
    {
     "name": "stderr",
     "output_type": "stream",
     "text": [
      "C:\\Users\\liuxr\\AppData\\Local\\Packages\\PythonSoftwareFoundation.Python.3.10_qbz5n2kfra8p0\\LocalCache\\local-packages\\Python310\\site-packages\\tqdm\\auto.py:22: TqdmWarning: IProgress not found. Please update jupyter and ipywidgets. See https://ipywidgets.readthedocs.io/en/stable/user_install.html\n",
      "  from .autonotebook import tqdm as notebook_tqdm\n"
     ]
    }
   ],
   "source": [
    "from torch_geometric.datasets import QM9\n",
    "# Helper function for visualization.\n",
    "%matplotlib inline\n",
    "import networkx as nx\n",
    "import matplotlib.pyplot as plt\n",
    "import numpy as np\n",
    "from collections import Counter\n",
    "import logging\n",
    "import time\n",
    "\n",
    "import os.path as osp\n",
    "\n",
    "import torch\n",
    "import torch.nn.functional as F\n",
    "import torch.nn as nn\n",
    "from torch.nn import GRU, Linear, ReLU, Sequential\n",
    "import torch.optim as optim\n",
    "\n",
    "import torch_geometric.transforms as T\n",
    "from torch_geometric.datasets import QM9\n",
    "from torch_geometric.loader import DataLoader\n",
    "from torch_geometric.nn import NNConv, Set2Set, MessagePassing, global_mean_pool, aggr\n",
    "from torch_geometric.utils import remove_self_loops\n",
    "\n",
    "def visualize_graph(G, color):\n",
    "    plt.figure(figsize=(7,7))\n",
    "    plt.xticks([])\n",
    "    plt.yticks([])\n",
    "    nx.draw_networkx(G, pos=nx.spring_layout(G, seed=42), with_labels=False,\n",
    "                     node_color=color, cmap=\"Set2\")\n",
    "    plt.show()\n",
    "\n",
    "\n",
    "def visualize_embedding(h, color, epoch=None, loss=None):\n",
    "    plt.figure(figsize=(7,7))\n",
    "    plt.xticks([])\n",
    "    plt.yticks([])\n",
    "    h = h.detach().cpu().numpy()\n",
    "    plt.scatter(h[:, 0], h[:, 1], s=140, c=color, cmap=\"Set2\")\n",
    "    if epoch is not None and loss is not None:\n",
    "        plt.xlabel(f'Epoch: {epoch}, Loss: {loss.item():.4f}', fontsize=16)\n",
    "    plt.show()"
   ]
  },
  {
   "cell_type": "markdown",
   "id": "df292bf5",
   "metadata": {},
   "source": [
    "Each model and target combination was trained using a uniform random hyper parameter search with 50 trials. \n",
    "\n",
    "T was costrained to be in the range 3 ≤ T ≤ 8 (in practice, any T ≥ 3 works). \n",
    "\n",
    "The number of set2set computations M was chosen from the range 1 ≤ M ≤ 12. \n",
    "\n",
    "All models were trained using SGD with the ADAM optimizer (Kingma &Ba (2014)), with batch size 20 for 3 million steps ( 540 epochs). \n",
    "\n",
    "The initial learning rate was chosen uniformly between 1e−5 and 5e−4. We used a linear learning rate decay that began between 10% and 90% of the way through training and the initial learning rate l decayed to a final learning ate l ∗ F, using a decay factor F in the range [.01, 1].\n",
    "\n",
    "The QM-9 dataset has 130462 molecules in it. We randomly chose 10000 samples for validation, 10000 samples or testing, and used the rest for training. We use the validation set to do early stopping and model selection and we eport scores on the test set. \n",
    "\n",
    "All targets were normalized o have mean 0 and variance 1. We minimize the mean quared error between the model output and the target, although we evaluate mean absolute error."
   ]
  },
  {
   "cell_type": "code",
   "execution_count": 2,
   "id": "096b40c9",
   "metadata": {},
   "outputs": [
    {
     "name": "stderr",
     "output_type": "stream",
     "text": [
      "Downloading https://data.pyg.org/datasets/qm9_v3.zip\n",
      "Extracting datasets\\QM9\\raw\\qm9_v3.zip\n",
      "Processing...\n",
      "Using a pre-processed version of the dataset. Please install 'rdkit' to alternatively process the raw data.\n",
      "Done!\n"
     ]
    }
   ],
   "source": [
    "qm9 = QM9('./datasets/QM9')"
   ]
  },
  {
   "cell_type": "code",
   "execution_count": 3,
   "id": "62623a89",
   "metadata": {},
   "outputs": [
    {
     "data": {
      "text/plain": [
       "QM9(130831)"
      ]
     },
     "execution_count": 3,
     "metadata": {},
     "output_type": "execute_result"
    }
   ],
   "source": [
    "qm9"
   ]
  },
  {
   "cell_type": "code",
   "execution_count": 4,
   "id": "75565f4a",
   "metadata": {},
   "outputs": [
    {
     "data": {
      "text/plain": [
       "Data(x=[5, 11], edge_index=[2, 8], edge_attr=[8, 4], y=[1, 19], pos=[5, 3], idx=[1], name='gdb_1', z=[5])"
      ]
     },
     "execution_count": 4,
     "metadata": {},
     "output_type": "execute_result"
    }
   ],
   "source": [
    "qm9[0]"
   ]
  },
  {
   "cell_type": "code",
   "execution_count": 5,
   "id": "87a189ec",
   "metadata": {},
   "outputs": [
    {
     "data": {
      "text/plain": [
       "Data(x=[4, 11], edge_index=[2, 6], edge_attr=[6, 4], y=[1, 19], pos=[4, 3], idx=[1], name='gdb_2', z=[4])"
      ]
     },
     "execution_count": 5,
     "metadata": {},
     "output_type": "execute_result"
    }
   ],
   "source": [
    "qm9[1]"
   ]
  },
  {
   "cell_type": "code",
   "execution_count": 6,
   "id": "9cc75bd0",
   "metadata": {},
   "outputs": [
    {
     "name": "stdout",
     "output_type": "stream",
     "text": [
      "Dataset: QM9(130831):\n",
      "======================\n",
      "Number of graphs: 130831\n",
      "Number of node features: 11\n",
      "Number of classes aka. molecule properties: 19\n"
     ]
    }
   ],
   "source": [
    "dataset = qm9\n",
    "print(f'Dataset: {dataset}:')\n",
    "print('======================')\n",
    "print(f'Number of graphs: {len(dataset)}')\n",
    "print(f'Number of node features: {dataset.num_features}')\n",
    "print(f'Number of classes aka. molecule properties: {dataset.num_classes}')"
   ]
  },
  {
   "cell_type": "code",
   "execution_count": 7,
   "id": "c21aa1a1",
   "metadata": {},
   "outputs": [
    {
     "data": {
      "text/plain": [
       "tensor([[0., 1., 0., 0., 0., 6., 0., 0., 0., 0., 4.],\n",
       "        [1., 0., 0., 0., 0., 1., 0., 0., 0., 0., 0.],\n",
       "        [1., 0., 0., 0., 0., 1., 0., 0., 0., 0., 0.],\n",
       "        [1., 0., 0., 0., 0., 1., 0., 0., 0., 0., 0.],\n",
       "        [1., 0., 0., 0., 0., 1., 0., 0., 0., 0., 0.]])"
      ]
     },
     "execution_count": 7,
     "metadata": {},
     "output_type": "execute_result"
    }
   ],
   "source": [
    "data = dataset[0]\n",
    "# 11 node features\n",
    "data.x"
   ]
  },
  {
   "cell_type": "code",
   "execution_count": 8,
   "id": "18fc63d1",
   "metadata": {},
   "outputs": [
    {
     "data": {
      "text/plain": [
       "tensor([[    0.0000,    13.2100,   -10.5499,     3.1865,    13.7363,    35.3641,\n",
       "             1.2177, -1101.4878, -1101.4098, -1101.3840, -1102.0229,     6.4690,\n",
       "           -17.1722,   -17.2868,   -17.3897,   -16.1519,   157.7118,   157.7100,\n",
       "           157.7070]])"
      ]
     },
     "execution_count": 8,
     "metadata": {},
     "output_type": "execute_result"
    }
   ],
   "source": [
    "# 19 classes aka molecule properties\n",
    "data.y"
   ]
  },
  {
   "cell_type": "code",
   "execution_count": 9,
   "id": "b7968599",
   "metadata": {},
   "outputs": [
    {
     "name": "stdout",
     "output_type": "stream",
     "text": [
      "Data(x=[5, 11], edge_index=[2, 8], edge_attr=[8, 4], y=[1, 19], pos=[5, 3], idx=[1], name='gdb_1', z=[5])\n",
      "tensor([[0, 0, 0, 0, 1, 2, 3, 4],\n",
      "        [1, 2, 3, 4, 0, 0, 0, 0]])\n",
      "Number of nodes: 5\n",
      "Number of edges: 8\n",
      "Average node degree: 1.60\n",
      "Has isolated nodes: False\n",
      "Has self-loops: False\n",
      "Is undirected: True\n"
     ]
    }
   ],
   "source": [
    "print(data)\n",
    "print(data.edge_index)\n",
    "# Gather some statistics about the first graph.\n",
    "print(f'Number of nodes: {data.num_nodes}')\n",
    "print(f'Number of edges: {data.num_edges}')\n",
    "print(f'Average node degree: {data.num_edges / data.num_nodes:.2f}')\n",
    "print(f'Has isolated nodes: {data.has_isolated_nodes()}')\n",
    "print(f'Has self-loops: {data.has_self_loops()}')\n",
    "print(f'Is undirected: {data.is_undirected()}')"
   ]
  },
  {
   "cell_type": "code",
   "execution_count": 10,
   "id": "fdb8cc54",
   "metadata": {},
   "outputs": [
    {
     "data": {
      "text/plain": [
       "tensor([-10.5499])"
      ]
     },
     "execution_count": 10,
     "metadata": {},
     "output_type": "execute_result"
    }
   ],
   "source": [
    "data.y[:, 2]"
   ]
  },
  {
   "cell_type": "code",
   "execution_count": 11,
   "id": "c927cc95",
   "metadata": {},
   "outputs": [
    {
     "data": {
      "image/png": "[encoded data removed]",
      "text/plain": [
       "<Figure size 700x700 with 1 Axes>"
      ]
     },
     "metadata": {},
     "output_type": "display_data"
    }
   ],
   "source": [
    "from torch_geometric.utils import to_networkx\n",
    "\n",
    "G = to_networkx(data, to_undirected=True)\n",
    "visualize_graph(G, color=[1,2,3,4,5])"
   ]
  },
  {
   "cell_type": "code",
   "execution_count": 2,
   "id": "30fbbb52",
   "metadata": {},
   "outputs": [],
   "source": [
    "target = 0 # the first property is the one to be predicted\n",
    "\n",
    "class TargetTransform:\n",
    "    def __call__(self, data):\n",
    "        # Specify target.\n",
    "        data.y = data.y[:, target]\n",
    "        return data\n",
    "\n",
    "path = './datasets/QM9'\n",
    "transform = T.Compose([TargetTransform(), T.Distance(norm=False)]) # add the distance into edge attributes\n",
    "dataset = QM9(path, transform=transform)"
   ]
  },
  {
   "cell_type": "code",
   "execution_count": 20,
   "id": "61d540ae",
   "metadata": {},
   "outputs": [
    {
     "name": "stdout",
     "output_type": "stream",
     "text": [
      "After transformation:\n",
      "Data(x=[5, 11], edge_index=[2, 8], edge_attr=[8, 5], y=[1], pos=[5, 3], idx=[1], name='gdb_1', z=[5])\n",
      "tensor([[0, 0, 0, 0, 1, 2, 3, 4],\n",
      "        [1, 2, 3, 4, 0, 0, 0, 0]])\n",
      "tensor([[1.0000, 0.0000, 0.0000, 0.0000, 1.0919],\n",
      "        [1.0000, 0.0000, 0.0000, 0.0000, 1.0919],\n",
      "        [1.0000, 0.0000, 0.0000, 0.0000, 1.0919],\n",
      "        [1.0000, 0.0000, 0.0000, 0.0000, 1.0919],\n",
      "        [1.0000, 0.0000, 0.0000, 0.0000, 1.0919],\n",
      "        [1.0000, 0.0000, 0.0000, 0.0000, 1.0919],\n",
      "        [1.0000, 0.0000, 0.0000, 0.0000, 1.0919],\n",
      "        [1.0000, 0.0000, 0.0000, 0.0000, 1.0919]])\n",
      "Number of nodes: 5\n",
      "Number of edges: 8\n",
      "Average node degree: 1.60\n",
      "Has isolated nodes: False\n",
      "Has self-loops: False\n",
      "Is undirected: True\n"
     ]
    }
   ],
   "source": [
    "data = dataset[0]\n",
    "print('After transformation:')\n",
    "print(data)\n",
    "print(data.edge_index)\n",
    "print(data.edge_attr)\n",
    "# Gather some statistics about the graph.\n",
    "print(f'Number of nodes: {data.num_nodes}')\n",
    "print(f'Number of edges: {data.num_edges}')\n",
    "print(f'Average node degree: {data.num_edges / data.num_nodes:.2f}')\n",
    "print(f'Has isolated nodes: {data.has_isolated_nodes()}')\n",
    "print(f'Has self-loops: {data.has_self_loops()}')\n",
    "print(f'Is undirected: {data.is_undirected()}')"
   ]
  },
  {
   "cell_type": "markdown",
   "id": "d39d990a",
   "metadata": {},
   "source": [
    "### General statistics analysis"
   ]
  },
  {
   "cell_type": "markdown",
   "id": "461f9642",
   "metadata": {},
   "source": [
    "check what undirected means in their method"
   ]
  },
  {
   "cell_type": "markdown",
   "id": "e01d570e",
   "metadata": {},
   "source": [
    "Node features:\n",
    "\n",
    "Atom type H, C, N, O, F (one-hot)\n",
    "\n",
    "Atomic number Number of protons (integer)\n",
    "\n",
    "Acceptor Accepts electrons (binary)\n",
    "\n",
    "Donor Donates electrons (binary)\n",
    "\n",
    "Aromatic In an aromatic system (binary)\n",
    "\n",
    "Hybridization sp, sp2, sp3 (one-hot or null)\n",
    "\n",
    "Number of Hydrogens (integer)"
   ]
  },
  {
   "cell_type": "code",
   "execution_count": 14,
   "id": "e65f90e4",
   "metadata": {},
   "outputs": [
    {
     "name": "stdout",
     "output_type": "stream",
     "text": [
      "Average size of a molecule graph: 18.03 nodes\n",
      "Minimum number of nodes in one graph: 3 nodes\n",
      "Maximum number of nodes in one graph: 29 nodes\n"
     ]
    }
   ],
   "source": [
    "# Calculate the average size of a molecule graph\n",
    "total_nodes = 0\n",
    "total_graphs = len(dataset)\n",
    "\n",
    "for data in dataset:\n",
    "    total_nodes += data.num_nodes\n",
    "\n",
    "average_size = total_nodes / total_graphs\n",
    "\n",
    "# Find the minimum and maximum number of nodes in one graph\n",
    "min_nodes = float('inf')\n",
    "max_nodes = 0\n",
    "\n",
    "for data in dataset:\n",
    "    num_nodes = data.num_nodes\n",
    "    min_nodes = min(min_nodes, num_nodes)\n",
    "    max_nodes = max(max_nodes, num_nodes)\n",
    "\n",
    "# Print the results\n",
    "print(f\"Average size of a molecule graph: {average_size:.2f} nodes\")\n",
    "print(f\"Minimum number of nodes in one graph: {min_nodes} nodes\")\n",
    "print(f\"Maximum number of nodes in one graph: {max_nodes} nodes\")"
   ]
  },
  {
   "cell_type": "code",
   "execution_count": 18,
   "id": "2c47805c",
   "metadata": {},
   "outputs": [
    {
     "name": "stdout",
     "output_type": "stream",
     "text": [
      "Number of occurrences for each atom:\n",
      "C: 831925 occurrences\n",
      "H: 1208486 occurrences\n",
      "O: 132498 occurrences\n",
      "N: 183265 occurrences\n",
      "F: 3036 occurrences\n"
     ]
    }
   ],
   "source": [
    "# Count the occurrences of each atom type\n",
    "atom_counts = Counter()\n",
    "\n",
    "for data in dataset:\n",
    "    atom_types = data.x[:, :5].argmax(dim=1).tolist()\n",
    "    atom_counts.update(atom_types)\n",
    "\n",
    "# Define the atom labels\n",
    "atom_labels = {0: 'H', 1: 'C', 2: 'O', 3: 'N', 4: 'F'}\n",
    "\n",
    "# Print the results\n",
    "print(\"Number of occurrences for each atom:\")\n",
    "for atom_type, count in atom_counts.items():\n",
    "    atom_label = atom_labels[atom_type]\n",
    "    print(f\"{atom_label}: {count} occurrences\")"
   ]
  },
  {
   "cell_type": "code",
   "execution_count": 19,
   "id": "2bc5f945",
   "metadata": {},
   "outputs": [
    {
     "name": "stdout",
     "output_type": "stream",
     "text": [
      "Average edge distance: 1.27 Angstrom\n",
      "Average number of edges: 37.33\n",
      "Distribution of different bond types:\n",
      "Bond Type (1.0, 0.0, 0.0, 0.0): 54.71%\n",
      "Bond Type (0.0, 0.0, 1.0, 0.0): 13.41%\n",
      "Bond Type (0.0, 1.0, 0.0, 0.0): 31.88%\n"
     ]
    }
   ],
   "source": [
    "# Calculate average edge distance and average edge number\n",
    "total_distance = 0\n",
    "total_edges = 0\n",
    "\n",
    "# Calculate the distribution of different bond types\n",
    "bond_counts = Counter()\n",
    "\n",
    "for data in dataset:\n",
    "    total_distance += data.edge_attr[:, 4].sum()\n",
    "    total_edges += data.edge_index.size(1)\n",
    "\n",
    "    bond_types = np.unique(data.edge_attr[:, :4], axis=0)\n",
    "    bond_counts.update([tuple(bond) for bond in bond_types])\n",
    "\n",
    "average_distance = total_distance / total_edges\n",
    "average_edges = total_edges / len(dataset)\n",
    "\n",
    "total_bonds = sum(bond_counts.values())\n",
    "bond_distribution = {bond_type: count / total_bonds for bond_type, count in bond_counts.items()}\n",
    "\n",
    "# Print the results\n",
    "print(f\"Average edge distance: {average_distance:.2f} Angstrom\")\n",
    "print(f\"Average number of edges: {average_edges:.2f}\")\n",
    "print(\"Distribution of different bond types:\")\n",
    "for bond_type, percentage in bond_distribution.items():\n",
    "    print(f\"Bond Type {bond_type}: {percentage * 100:.2f}%\")"
   ]
  },
  {
   "cell_type": "code",
   "execution_count": null,
   "id": "f922fd27",
   "metadata": {},
   "outputs": [],
   "source": []
  },
  {
   "cell_type": "code",
   "execution_count": 3,
   "id": "2de953ce",
   "metadata": {},
   "outputs": [],
   "source": [
    "model_name = 'b20_e100_r001_adam_mse_nnconvMean_poolMaxAggr_2fc'\n",
    "config = {\n",
    "    \"in_channels\": dataset.num_features,\n",
    "    \"out_channels\": 1,\n",
    "    \"hidden_dim_1\": 64,\n",
    "    \"hidden_dim_2\": 128,\n",
    "    \"hidden_dim_3\": 32,\n",
    "    \"lr\": 0.001,\n",
    "    \"batch_size\": 20,\n",
    "    \"num_epochs\": 100,\n",
    "    \"processing_steps\": 10, #for set2set\n",
    "    \"criterion\": nn.MSELoss(),\n",
    "    \"nnconv_aggr\": 'mean',\n",
    "    }"
   ]
  },
  {
   "cell_type": "code",
   "execution_count": 4,
   "id": "10c96498",
   "metadata": {},
   "outputs": [],
   "source": [
    "logging.basicConfig(filename = model_name+'.log',\n",
    "                    level = logging.INFO,\n",
    "                    format = '%(asctime)s:%(levelname)s:%(name)s:%(message)s')\n",
    " \n",
    "logging.info(config)"
   ]
  },
  {
   "cell_type": "code",
   "execution_count": 5,
   "id": "b885d19d",
   "metadata": {},
   "outputs": [],
   "source": [
    "# Split datasets.\n",
    "torch.manual_seed(12345)\n",
    "dataset = dataset.shuffle()\n",
    "test_dataset = dataset[:10000]\n",
    "val_dataset = dataset[10000:20000]\n",
    "train_dataset = dataset[20000:]\n",
    "test_loader = DataLoader(test_dataset, batch_size=config[\"batch_size\"], shuffle=False) #10000\n",
    "val_loader = DataLoader(val_dataset, batch_size=config[\"batch_size\"], shuffle=False) #10000\n",
    "train_loader = DataLoader(train_dataset, batch_size=config[\"batch_size\"], shuffle=True) #110831"
   ]
  },
  {
   "cell_type": "code",
   "execution_count": 6,
   "id": "d1402f9a",
   "metadata": {},
   "outputs": [
    {
     "data": {
      "text/plain": [
       "Data(x=[13, 11], edge_index=[2, 28], edge_attr=[28, 5], y=[1], pos=[13, 3], idx=[1], name='gdb_49057', z=[13])"
      ]
     },
     "execution_count": 6,
     "metadata": {},
     "output_type": "execute_result"
    }
   ],
   "source": [
    "train_dataset[0]"
   ]
  },
  {
   "cell_type": "markdown",
   "id": "9c710901",
   "metadata": {},
   "source": [
    "By defining the message() and update() functions, you control how information is propagated through the graph and how nodes update their representations based on the received messages. These functions enable the GNN to learn from the graph structure and capture useful information for the prediction task.\n",
    "\n",
    "During the forward() pass, the GNN iteratively performs message passing and aggregation steps across the graph, combining information from neighboring nodes to update each node's representation. The output of the forward() function provides the final representations that can be further processed or used for downstream tasks."
   ]
  },
  {
   "cell_type": "code",
   "execution_count": 29,
   "id": "37012e32",
   "metadata": {},
   "outputs": [],
   "source": [
    "# Define the GNN model with customized message passing layer\n",
    "class GNN(MessagePassing):\n",
    "    def __init__(self, in_channels, out_channels):\n",
    "        super(GNN, self).__init__(aggr='mean')\n",
    "        #super(GNN, self).__init__(aggr=aggr.SoftmaxAggregation(learn=True))\n",
    "        self.lin = nn.Linear(in_channels, out_channels)\n",
    "\n",
    "    def forward(self, x, edge_index, edge_attr):\n",
    "        return self.propagate(edge_index,edge_attr, x=x)\n",
    "\n",
    "    def message(self, x_j, edge_attr):\n",
    "        #print(x_j)\n",
    "        #print(x_j.shape)\n",
    "        return self.lin(x_j)\n",
    "    # It takes x_j as input, which represents the feature representations of the neighboring nodes.\n",
    "    # num_edges * node_features\n",
    "\n",
    "    def update(self, aggr_out):\n",
    "        return aggr_out\n",
    "\n",
    "\n",
    "# Define the GNN-based model\n",
    "class GNNModel(nn.Module):\n",
    "    def __init__(self, in_channels, hidden_dim_1, hidden_dim_2, hidden_dim_3, out_channels):\n",
    "        super(GNNModel, self).__init__()\n",
    "        self.gnn = GNN(in_channels, hidden_dim_1)\n",
    "        # Use a global sort aggregation:\n",
    "        self.global_pool = aggr.MeanAggregation()\n",
    "        #self.global_pool = aggr.Set2Set(hidden_dim_1, processing_steps) # output of this layer is 2*dimensionality of input\n",
    "        self.fc1 = nn.Linear(hidden_dim_1, hidden_dim_3)\n",
    "        self.fc2 = nn.Linear(hidden_dim_3, out_channels)\n",
    "\n",
    "    def forward(self, data):\n",
    "        x, edge_index, edge_attr, batch = data.x, data.edge_index, data.edge_attr, data.batch\n",
    "        x = self.gnn(x, edge_index, edge_attr).relu()\n",
    "        #x = global_mean_pool(x, batch)  # [batch_size, hidden_channels]\n",
    "        x = self.global_pool(x,batch)\n",
    "        x = self.fc1(x).relu()\n",
    "        x = self.fc2(x)\n",
    "        return x"
   ]
  },
  {
   "cell_type": "code",
   "execution_count": 7,
   "id": "75ebc3b1",
   "metadata": {},
   "outputs": [],
   "source": [
    "# Define the GNN model\n",
    "class GNNModel(nn.Module):\n",
    "    def __init__(self, in_channels, hidden_dim_1, hidden_dim_2, hidden_dim_3, out_channels):\n",
    "        super(GNNModel, self).__init__()\n",
    "        #nn – A neural network that maps edge features edge_attr of shape [-1, num_edge_features] to shape [-1, in_channels * out_channels], e.g., defined by torch.nn.Sequential.\n",
    "        nn1 = nn.Sequential(nn.Linear(5, 128), ReLU(), nn.Linear(128, in_channels * hidden_dim_1)) # maps to in_channels * out_channels\n",
    "        self.conv1 = NNConv(in_channels, hidden_dim_1, nn1, aggr=config[\"nnconv_aggr\"]) #11*64\n",
    "        self.global_pool = aggr.MaxAggregation()\n",
    "        self.fc1 = nn.Linear(hidden_dim_1, hidden_dim_3)\n",
    "        self.fc2 = nn.Linear(hidden_dim_3, out_channels)\n",
    "\n",
    "    def forward(self, data):\n",
    "        x, edge_index, edge_attr, batch = data.x, data.edge_index, data.edge_attr, data.batch\n",
    "        x = self.conv1(x, edge_index, edge_attr).relu()\n",
    "        #x = global_mean_pool(x, batch)  # size = [batch_size, hidden_channels]\n",
    "        x = self.global_pool(x,batch)\n",
    "        x = self.fc1(x).relu()\n",
    "        x = self.fc2(x)\n",
    "        return x"
   ]
  },
  {
   "cell_type": "code",
   "execution_count": 8,
   "id": "9f21c023",
   "metadata": {},
   "outputs": [
    {
     "name": "stdout",
     "output_type": "stream",
     "text": [
      "GNNModel(\n",
      "  (conv1): NNConv(11, 64, aggr=mean, nn=Sequential(\n",
      "    (0): Linear(in_features=5, out_features=128, bias=True)\n",
      "    (1): ReLU()\n",
      "    (2): Linear(in_features=128, out_features=704, bias=True)\n",
      "  ))\n",
      "  (global_pool): MaxAggregation()\n",
      "  (fc1): Linear(in_features=64, out_features=32, bias=True)\n",
      "  (fc2): Linear(in_features=32, out_features=1, bias=True)\n",
      ")\n"
     ]
    }
   ],
   "source": [
    "# Initialize the model, optimizer, and loss function\n",
    "model = GNNModel(config[\"in_channels\"], config[\"hidden_dim_1\"], config[\"hidden_dim_2\"], config[\"hidden_dim_3\"], config[\"out_channels\"])\n",
    "optimizer = optim.Adam(model.parameters(), lr=config[\"lr\"])\n",
    "print(model)\n",
    "logging.info(model)"
   ]
  },
  {
   "cell_type": "code",
   "execution_count": 9,
   "id": "b8283341",
   "metadata": {},
   "outputs": [
    {
     "name": "stdout",
     "output_type": "stream",
     "text": [
      "Test Loss before training: 8.4049\n",
      "Epoch: 0, Training Loss: 1.2380\n",
      "Epoch: 0, Validation Loss: 1.1916\n",
      "Validation Loss Decreased(inf ---> 1.1916) \t Saving The Model\n",
      "Epoch: 1, Training Loss: 1.1136\n",
      "Epoch: 1, Validation Loss: 1.0425\n",
      "Validation Loss Decreased(1.1916 ---> 1.0425) \t Saving The Model\n",
      "Epoch: 2, Training Loss: 0.9909\n",
      "Epoch: 2, Validation Loss: 0.9971\n",
      "Validation Loss Decreased(1.0425 ---> 0.9971) \t Saving The Model\n",
      "Epoch: 3, Training Loss: 0.9532\n",
      "Epoch: 3, Validation Loss: 0.9106\n",
      "Validation Loss Decreased(0.9971 ---> 0.9106) \t Saving The Model\n",
      "Epoch: 4, Training Loss: 0.9259\n",
      "Epoch: 4, Validation Loss: 0.9253\n",
      "Epoch: 5, Training Loss: 0.9058\n",
      "Epoch: 5, Validation Loss: 0.8836\n",
      "Validation Loss Decreased(0.9106 ---> 0.8836) \t Saving The Model\n",
      "Epoch: 6, Training Loss: 0.8856\n",
      "Epoch: 6, Validation Loss: 0.9133\n",
      "Epoch: 7, Training Loss: 0.8730\n",
      "Epoch: 7, Validation Loss: 0.8624\n",
      "Validation Loss Decreased(0.8836 ---> 0.8624) \t Saving The Model\n",
      "Epoch: 8, Training Loss: 0.8628\n",
      "Epoch: 8, Validation Loss: 0.8714\n",
      "Epoch: 9, Training Loss: 0.8587\n",
      "Epoch: 9, Validation Loss: 0.8413\n",
      "Validation Loss Decreased(0.8624 ---> 0.8413) \t Saving The Model\n",
      "Epoch: 10, Training Loss: 0.8437\n",
      "Epoch: 10, Validation Loss: 0.8166\n",
      "Validation Loss Decreased(0.8413 ---> 0.8166) \t Saving The Model\n",
      "Epoch: 11, Training Loss: 0.8372\n",
      "Epoch: 11, Validation Loss: 0.8243\n",
      "Epoch: 12, Training Loss: 0.8340\n",
      "Epoch: 12, Validation Loss: 0.8111\n",
      "Validation Loss Decreased(0.8166 ---> 0.8111) \t Saving The Model\n",
      "Epoch: 13, Training Loss: 0.8288\n",
      "Epoch: 13, Validation Loss: 0.8203\n",
      "Epoch: 14, Training Loss: 0.8232\n",
      "Epoch: 14, Validation Loss: 0.8579\n",
      "Epoch: 15, Training Loss: 0.8139\n",
      "Epoch: 15, Validation Loss: 0.8376\n",
      "Epoch: 16, Training Loss: 0.8085\n",
      "Epoch: 16, Validation Loss: 0.8038\n",
      "Validation Loss Decreased(0.8111 ---> 0.8038) \t Saving The Model\n",
      "Epoch: 17, Training Loss: 0.8015\n",
      "Epoch: 17, Validation Loss: 0.7685\n",
      "Validation Loss Decreased(0.8038 ---> 0.7685) \t Saving The Model\n",
      "Epoch: 18, Training Loss: 0.7984\n",
      "Epoch: 18, Validation Loss: 0.7987\n",
      "Epoch: 19, Training Loss: 0.7915\n",
      "Epoch: 19, Validation Loss: 0.7970\n",
      "Epoch: 20, Training Loss: 0.7915\n",
      "Epoch: 20, Validation Loss: 0.7737\n",
      "Epoch: 21, Training Loss: 0.7885\n",
      "Epoch: 21, Validation Loss: 0.7906\n",
      "Epoch: 22, Training Loss: 0.7828\n",
      "Epoch: 22, Validation Loss: 0.7875\n",
      "Epoch: 23, Training Loss: 0.7795\n",
      "Epoch: 23, Validation Loss: 0.7752\n",
      "Epoch: 24, Training Loss: 0.7780\n",
      "Epoch: 24, Validation Loss: 0.7653\n",
      "Validation Loss Decreased(0.7685 ---> 0.7653) \t Saving The Model\n",
      "Epoch: 25, Training Loss: 0.7741\n",
      "Epoch: 25, Validation Loss: 0.8055\n",
      "Epoch: 26, Training Loss: 0.7700\n",
      "Epoch: 26, Validation Loss: 0.7534\n",
      "Validation Loss Decreased(0.7653 ---> 0.7534) \t Saving The Model\n",
      "Epoch: 27, Training Loss: 0.7717\n",
      "Epoch: 27, Validation Loss: 0.8222\n",
      "Epoch: 28, Training Loss: 0.7630\n",
      "Epoch: 28, Validation Loss: 0.7590\n",
      "Epoch: 29, Training Loss: 0.7621\n",
      "Epoch: 29, Validation Loss: 0.7811\n",
      "Epoch: 30, Training Loss: 0.7579\n",
      "Epoch: 30, Validation Loss: 0.7981\n",
      "Epoch: 31, Training Loss: 0.7581\n",
      "Epoch: 31, Validation Loss: 0.7394\n",
      "Validation Loss Decreased(0.7534 ---> 0.7394) \t Saving The Model\n",
      "Epoch: 32, Training Loss: 0.7547\n",
      "Epoch: 32, Validation Loss: 0.7640\n",
      "Epoch: 33, Training Loss: 0.7512\n",
      "Epoch: 33, Validation Loss: 0.7764\n",
      "Epoch: 34, Training Loss: 0.7494\n",
      "Epoch: 34, Validation Loss: 0.7648\n",
      "Epoch: 35, Training Loss: 0.7495\n",
      "Epoch: 35, Validation Loss: 0.7453\n",
      "Epoch: 36, Training Loss: 0.7472\n",
      "Epoch: 36, Validation Loss: 0.7457\n",
      "Epoch: 37, Training Loss: 0.7449\n",
      "Epoch: 37, Validation Loss: 0.7475\n",
      "Epoch: 38, Training Loss: 0.7425\n",
      "Epoch: 38, Validation Loss: 0.7415\n",
      "Epoch: 39, Training Loss: 0.7418\n",
      "Epoch: 39, Validation Loss: 0.7523\n",
      "Epoch: 40, Training Loss: 0.7405\n",
      "Epoch: 40, Validation Loss: 0.7529\n",
      "Epoch: 41, Training Loss: 0.7375\n",
      "Epoch: 41, Validation Loss: 0.7486\n",
      "Epoch: 42, Training Loss: 0.7367\n",
      "Epoch: 42, Validation Loss: 0.7334\n",
      "Validation Loss Decreased(0.7394 ---> 0.7334) \t Saving The Model\n",
      "Epoch: 43, Training Loss: 0.7348\n",
      "Epoch: 43, Validation Loss: 0.7307\n",
      "Validation Loss Decreased(0.7334 ---> 0.7307) \t Saving The Model\n",
      "Epoch: 44, Training Loss: 0.7337\n",
      "Epoch: 44, Validation Loss: 0.7641\n",
      "Epoch: 45, Training Loss: 0.7329\n",
      "Epoch: 45, Validation Loss: 0.7462\n",
      "Epoch: 46, Training Loss: 0.7304\n",
      "Epoch: 46, Validation Loss: 0.7385\n",
      "Epoch: 47, Training Loss: 0.7319\n",
      "Epoch: 47, Validation Loss: 0.7404\n",
      "Epoch: 48, Training Loss: 0.7325\n",
      "Epoch: 48, Validation Loss: 0.7270\n",
      "Validation Loss Decreased(0.7307 ---> 0.7270) \t Saving The Model\n",
      "Epoch: 49, Training Loss: 0.7273\n",
      "Epoch: 49, Validation Loss: 0.7226\n",
      "Validation Loss Decreased(0.7270 ---> 0.7226) \t Saving The Model\n",
      "Epoch: 50, Training Loss: 0.7273\n",
      "Epoch: 50, Validation Loss: 0.7250\n",
      "Epoch: 51, Training Loss: 0.7262\n",
      "Epoch: 51, Validation Loss: 0.7234\n",
      "Epoch: 52, Training Loss: 0.7245\n",
      "Epoch: 52, Validation Loss: 0.7220\n",
      "Validation Loss Decreased(0.7226 ---> 0.7220) \t Saving The Model\n",
      "Epoch: 53, Training Loss: 0.7251\n",
      "Epoch: 53, Validation Loss: 0.7475\n",
      "Epoch: 54, Training Loss: 0.7216\n",
      "Epoch: 54, Validation Loss: 0.7426\n",
      "Epoch: 55, Training Loss: 0.7198\n",
      "Epoch: 55, Validation Loss: 0.7489\n",
      "Epoch: 56, Training Loss: 0.7185\n",
      "Epoch: 56, Validation Loss: 0.7359\n",
      "Epoch: 57, Training Loss: 0.7189\n",
      "Epoch: 57, Validation Loss: 0.7566\n",
      "Epoch: 58, Training Loss: 0.7183\n",
      "Epoch: 58, Validation Loss: 0.7456\n",
      "Epoch: 59, Training Loss: 0.7193\n",
      "Epoch: 59, Validation Loss: 0.7411\n",
      "Epoch: 60, Training Loss: 0.7170\n",
      "Epoch: 60, Validation Loss: 0.7339\n",
      "Epoch: 61, Training Loss: 0.7169\n",
      "Epoch: 61, Validation Loss: 0.7412\n",
      "Epoch: 62, Training Loss: 0.7152\n",
      "Epoch: 62, Validation Loss: 0.7552\n",
      "Epoch: 63, Training Loss: 0.7117\n",
      "Epoch: 63, Validation Loss: 0.7251\n",
      "Epoch: 64, Training Loss: 0.7115\n",
      "Epoch: 64, Validation Loss: 0.7192\n",
      "Validation Loss Decreased(0.7220 ---> 0.7192) \t Saving The Model\n",
      "Epoch: 65, Training Loss: 0.7115\n",
      "Epoch: 65, Validation Loss: 0.7123\n",
      "Validation Loss Decreased(0.7192 ---> 0.7123) \t Saving The Model\n",
      "Epoch: 66, Training Loss: 0.7100\n",
      "Epoch: 66, Validation Loss: 0.7121\n",
      "Validation Loss Decreased(0.7123 ---> 0.7121) \t Saving The Model\n",
      "Epoch: 67, Training Loss: 0.7097\n",
      "Epoch: 67, Validation Loss: 0.7246\n",
      "Epoch: 68, Training Loss: 0.7076\n",
      "Epoch: 68, Validation Loss: 0.7416\n",
      "Epoch: 69, Training Loss: 0.7085\n",
      "Epoch: 69, Validation Loss: 0.7355\n",
      "Epoch: 70, Training Loss: 0.7069\n",
      "Epoch: 70, Validation Loss: 0.7214\n",
      "Epoch: 71, Training Loss: 0.7066\n",
      "Epoch: 71, Validation Loss: 0.7149\n",
      "Epoch: 72, Training Loss: 0.7033\n",
      "Epoch: 72, Validation Loss: 0.7189\n",
      "Epoch: 73, Training Loss: 0.7056\n",
      "Epoch: 73, Validation Loss: 0.7259\n",
      "Epoch: 74, Training Loss: 0.7038\n",
      "Epoch: 74, Validation Loss: 0.7200\n",
      "Epoch: 75, Training Loss: 0.7005\n",
      "Epoch: 75, Validation Loss: 0.7234\n",
      "Epoch: 76, Training Loss: 0.6995\n",
      "Epoch: 76, Validation Loss: 0.7261\n",
      "Epoch: 77, Training Loss: 0.7013\n",
      "Epoch: 77, Validation Loss: 0.7137\n",
      "Epoch: 78, Training Loss: 0.7025\n",
      "Epoch: 78, Validation Loss: 0.7331\n",
      "Epoch: 79, Training Loss: 0.7012\n",
      "Epoch: 79, Validation Loss: 0.7075\n",
      "Validation Loss Decreased(0.7121 ---> 0.7075) \t Saving The Model\n",
      "Epoch: 80, Training Loss: 0.6995\n",
      "Epoch: 80, Validation Loss: 0.7389\n",
      "Epoch: 81, Training Loss: 0.6991\n",
      "Epoch: 81, Validation Loss: 0.7189\n",
      "Epoch: 82, Training Loss: 0.6984\n",
      "Epoch: 82, Validation Loss: 0.7770\n",
      "Epoch: 83, Training Loss: 0.6990\n",
      "Epoch: 83, Validation Loss: 0.7233\n",
      "Epoch: 84, Training Loss: 0.6994\n",
      "Epoch: 84, Validation Loss: 0.7227\n",
      "Epoch: 85, Training Loss: 0.6955\n",
      "Epoch: 85, Validation Loss: 0.7213\n",
      "Epoch: 86, Training Loss: 0.6953\n",
      "Epoch: 86, Validation Loss: 0.7390\n",
      "Epoch: 87, Training Loss: 0.6962\n",
      "Epoch: 87, Validation Loss: 0.7269\n",
      "Epoch: 88, Training Loss: 0.6948\n",
      "Epoch: 88, Validation Loss: 0.7024\n",
      "Validation Loss Decreased(0.7075 ---> 0.7024) \t Saving The Model\n",
      "Epoch: 89, Training Loss: 0.6946\n",
      "Epoch: 89, Validation Loss: 0.7214\n",
      "Epoch: 90, Training Loss: 0.6937\n",
      "Epoch: 90, Validation Loss: 0.7219\n",
      "Epoch: 91, Training Loss: 0.6934\n",
      "Epoch: 91, Validation Loss: 0.7316\n",
      "Epoch: 92, Training Loss: 0.6944\n",
      "Epoch: 92, Validation Loss: 0.7214\n",
      "Epoch: 93, Training Loss: 0.6938\n",
      "Epoch: 93, Validation Loss: 0.7107\n",
      "Epoch: 94, Training Loss: 0.6924\n",
      "Epoch: 94, Validation Loss: 0.7576\n",
      "Epoch: 95, Training Loss: 0.6930\n",
      "Epoch: 95, Validation Loss: 0.7200\n",
      "Epoch: 96, Training Loss: 0.6927\n",
      "Epoch: 96, Validation Loss: 0.7177\n",
      "Epoch: 97, Training Loss: 0.6901\n"
     ]
    },
    {
     "name": "stdout",
     "output_type": "stream",
     "text": [
      "Epoch: 97, Validation Loss: 0.7179\n",
      "Epoch: 98, Training Loss: 0.6923\n",
      "Epoch: 98, Validation Loss: 0.7067\n",
      "Epoch: 99, Training Loss: 0.6915\n",
      "Epoch: 99, Validation Loss: 0.7082\n",
      "Training time: 10378.600487232208\n"
     ]
    }
   ],
   "source": [
    "device = torch.device('cuda' if torch.cuda.is_available() else 'cpu')\n",
    "\n",
    "# Test before training\n",
    "model.eval()\n",
    "total_test_loss = 0\n",
    "\n",
    "with torch.no_grad():\n",
    "    for data in test_loader:\n",
    "        data = data.to(device)\n",
    "        output = model(data).flatten()\n",
    "        test_loss = config[\"criterion\"](output, data.y)\n",
    "        total_test_loss += test_loss.item() * data.num_graphs\n",
    "\n",
    "average_test_loss_before = total_test_loss / len(test_loader.dataset)\n",
    "print(f'Test Loss before training: {average_test_loss_before:.4f}')\n",
    "logging.info(f'Test Loss before training: {average_test_loss_before:.4f}')\n",
    "\n",
    "t0 = time.time()\n",
    "# Training loop\n",
    "model.to(device)\n",
    "model.train()\n",
    "\n",
    "min_valid_loss = np.inf\n",
    "loss_values = []\n",
    "val_loss_values = []\n",
    "\n",
    "for epoch in range(config[\"num_epochs\"]):\n",
    "    total_loss = 0\n",
    "    for batch in train_loader:\n",
    "        batch = batch.to(device)\n",
    "        optimizer.zero_grad()\n",
    "        output = model(batch).flatten()\n",
    "        loss = config[\"criterion\"](output, batch.y)\n",
    "        loss.backward()\n",
    "        optimizer.step()\n",
    "        total_loss += loss.item() * batch.num_graphs\n",
    "\n",
    "    average_loss = total_loss  / len(train_loader.dataset)\n",
    "    loss_values.append(average_loss)\n",
    "    print(f'Epoch: {epoch}, Training Loss: {average_loss:.4f}')\n",
    "    logging.info(f'Epoch: {epoch}, Training Loss: {average_loss:.4f}')\n",
    "    \n",
    "    # Validation step\n",
    "    model.eval()\n",
    "    total_val_loss = 0\n",
    "\n",
    "    with torch.no_grad():\n",
    "        for data in val_loader:\n",
    "            data = data.to(device)\n",
    "            output = model(data).flatten()\n",
    "            val_loss = config[\"criterion\"](output, data.y)\n",
    "            total_val_loss += val_loss.item() * data.num_graphs\n",
    "\n",
    "    average_val_loss = total_val_loss / len(val_loader.dataset)\n",
    "    val_loss_values.append(average_val_loss)\n",
    "    print(f'Epoch: {epoch}, Validation Loss: {average_val_loss:.4f}')\n",
    "    logging.info(f'Epoch: {epoch}, Validation Loss: {average_val_loss:.4f}')\n",
    "    \n",
    "    # Update model if validation improved\n",
    "    if min_valid_loss > average_val_loss:\n",
    "        print(f'Validation Loss Decreased({min_valid_loss:.4f} ---> {average_val_loss:.4f}) \\t Saving The Model')\n",
    "        min_valid_loss = average_val_loss\n",
    "        # Saving State Dict\n",
    "        config[\"model_state\"] = model.state_dict()\n",
    "        FILE_path = \"model_\"+model_name+\".pth\"\n",
    "        torch.save(config, FILE_path)\n",
    "\n",
    "print(f'Training time: {time.time()-t0}')\n",
    "logging.info(f'Training time: {time.time()-t0}')"
   ]
  },
  {
   "cell_type": "code",
   "execution_count": 10,
   "id": "a34b1599",
   "metadata": {},
   "outputs": [
    {
     "name": "stdout",
     "output_type": "stream",
     "text": [
      "Test Loss before training: 8.4049\n",
      "Test Loss after training: 0.6803\n"
     ]
    }
   ],
   "source": [
    "# Test after training\n",
    "model.eval()\n",
    "total_test_loss = 0\n",
    "\n",
    "with torch.no_grad():\n",
    "    for data in test_loader:\n",
    "        data = data.to(device)\n",
    "        output = model(data).flatten()\n",
    "        test_loss = config[\"criterion\"](output, data.y)\n",
    "        total_test_loss += test_loss.item() * data.num_graphs\n",
    "\n",
    "average_test_loss = total_test_loss / len(test_loader.dataset)\n",
    "print(f'Test Loss before training: {average_test_loss_before:.4f}')\n",
    "print(f'Test Loss after training: {average_test_loss:.4f}')\n",
    "logging.info(f'Test Loss before training: {average_test_loss_before:.4f}')\n",
    "logging.info(f'Test Loss after training: {average_test_loss:.4f}')"
   ]
  },
  {
   "cell_type": "code",
   "execution_count": 11,
   "id": "e0f12812",
   "metadata": {},
   "outputs": [],
   "source": [
    "np.savetxt('./loss_values/loss_values_'+model_name+'.txt',loss_values)\n",
    "np.savetxt('./loss_values/val_loss_values_'+model_name+'.txt',val_loss_values)"
   ]
  },
  {
   "cell_type": "code",
   "execution_count": null,
   "id": "f619f198",
   "metadata": {},
   "outputs": [],
   "source": [
    "np.savetxt('./loss_values/loss_values_b20_e100_r001_adam_CE_nnconvMean_poolMeanAggr_2fc.txt',loss_values)\n",
    "np.savetxt('./loss_values/val_loss_values_b20_e100_r001_adam_CE_nnconvMean_poolMeanAggr_2fc.txt',val_loss_values)"
   ]
  },
  {
   "cell_type": "code",
   "execution_count": 12,
   "id": "955b026f",
   "metadata": {},
   "outputs": [],
   "source": [
    "loss_values = np.loadtxt(\"./loss_values/loss_values_\"+model_name+\".txt\")\n",
    "valid_loss_values = np.loadtxt(\"./loss_values/val_loss_values_\"+model_name+\".txt\")"
   ]
  },
  {
   "cell_type": "code",
   "execution_count": 13,
   "id": "22a50284",
   "metadata": {},
   "outputs": [
    {
     "data": {
      "image/png": "[encoded data removed]",
      "text/plain": [
       "<Figure size 640x480 with 1 Axes>"
      ]
     },
     "metadata": {},
     "output_type": "display_data"
    }
   ],
   "source": [
    "plt.plot(loss_values, label='train loss:batch_size=20,lr=0.001,nnconvMean,poolMax,2fc,adam', ls='-', ms=20, markevery=100, alpha=0.5)\n",
    "plt.plot(valid_loss_values,'y', label='validation loss:batch_size=20,lr=0.001,nnconvMean,poolMax,2fc,adam', ls='-', ms=20, markevery=100, alpha=0.8)\n",
    "\n",
    "#don't know why the markevery doesn't work\n",
    "plt.xlabel('epoch') \n",
    "plt.ylabel('loss') \n",
    "plt.title(\"Loss\")\n",
    "plt.legend()\n",
    "plt.show()"
   ]
  },
  {
   "cell_type": "code",
   "execution_count": 29,
   "id": "6cb9b0ae",
   "metadata": {},
   "outputs": [
    {
     "name": "stdout",
     "output_type": "stream",
     "text": [
      "GCN(\n",
      "  (conv1): GCNConv(11, 64)\n",
      "  (conv2): GCNConv(64, 64)\n",
      "  (conv3): GCNConv(64, 64)\n",
      "  (lin): Linear(in_features=64, out_features=1, bias=True)\n",
      ")\n"
     ]
    }
   ],
   "source": [
    "from torch.nn import Linear\n",
    "import torch.nn.functional as F\n",
    "from torch_geometric.nn import GCNConv\n",
    "from torch_geometric.nn import global_mean_pool\n",
    "\n",
    "\n",
    "class GCN(torch.nn.Module):\n",
    "    def __init__(self, hidden_channels):\n",
    "        super(GCN, self).__init__()\n",
    "        torch.manual_seed(12345)\n",
    "        self.conv1 = GCNConv(dataset.num_node_features, hidden_channels)\n",
    "        self.conv2 = GCNConv(hidden_channels, hidden_channels)\n",
    "        self.conv3 = GCNConv(hidden_channels, hidden_channels)\n",
    "        self.lin = Linear(hidden_channels, 1)\n",
    "\n",
    "    def forward(self, x, edge_index, batch):\n",
    "        # 1. Obtain node embeddings \n",
    "        x = self.conv1(x, edge_index)\n",
    "        x = x.relu()\n",
    "        x = self.conv2(x, edge_index)\n",
    "        x = x.relu()\n",
    "        x = self.conv3(x, edge_index)\n",
    "\n",
    "        # 2. Readout layer\n",
    "        x = global_mean_pool(x, batch)  # [batch_size, hidden_channels]\n",
    "\n",
    "        # 3. Apply a final classifier\n",
    "        x = F.dropout(x, p=0.5, training=self.training)\n",
    "        x = self.lin(x)\n",
    "        \n",
    "        return x\n",
    "\n",
    "model = GCN(hidden_channels=64)\n",
    "print(model)"
   ]
  }
 ],
 "metadata": {
  "kernelspec": {
   "display_name": "Python 3 (ipykernel)",
   "language": "python",
   "name": "python3"
  },
  "language_info": {
   "codemirror_mode": {
    "name": "ipython",
    "version": 3
   },
   "file_extension": ".py",
   "mimetype": "text/x-python",
   "name": "python",
   "nbconvert_exporter": "python",
   "pygments_lexer": "ipython3",
   "version": "3.10.8"
  }
 },
 "nbformat": 4,
 "nbformat_minor": 5
}
