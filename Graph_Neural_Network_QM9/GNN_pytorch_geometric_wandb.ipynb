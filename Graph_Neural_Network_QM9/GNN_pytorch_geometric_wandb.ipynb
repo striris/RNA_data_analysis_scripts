{
 "cells": [
  {
   "cell_type": "code",
   "execution_count": 1,
   "id": "ec40bb7c",
   "metadata": {},
   "outputs": [
    {
     "name": "stderr",
     "output_type": "stream",
     "text": [
      "\u001b[34m\u001b[1mwandb\u001b[0m: Network error (ConnectionError), entering retry loop.\n",
      "\u001b[34m\u001b[1mwandb\u001b[0m: W&B API key is configured. Use \u001b[1m`wandb login --relogin`\u001b[0m to force relogin\n"
     ]
    }
   ],
   "source": [
    "from torch_geometric.datasets import QM9\n",
    "# Helper function for visualization.\n",
    "%matplotlib inline\n",
    "import matplotlib.pyplot as plt\n",
    "import numpy as np\n",
    "from collections import Counter\n",
    "import logging\n",
    "import time\n",
    "import wandb\n",
    "wandb.login()\n",
    "import random\n",
    "\n",
    "import os.path as osp\n",
    "\n",
    "import torch\n",
    "import torch.nn.functional as F\n",
    "import torch.nn as nn\n",
    "from torch.nn import GRU, Linear, ReLU, Sequential\n",
    "import torch.optim as optim\n",
    "\n",
    "import torch_geometric.transforms as T\n",
    "from torch_geometric.datasets import QM9\n",
    "from torch_geometric.loader import DataLoader\n",
    "from torch_geometric.nn import NNConv, Set2Set, MessagePassing, global_mean_pool, aggr, GATConv\n",
    "from torch_geometric.utils import remove_self_loops"
   ]
  },
  {
   "attachments": {},
   "cell_type": "markdown",
   "id": "df292bf5",
   "metadata": {},
   "source": [
    "Each model and target combination was trained using a uniform random hyper parameter search with 50 trials. \n",
    "\n",
    "T was costrained to be in the range 3 ≤ T ≤ 8 (in practice, any T ≥ 3 works). \n",
    "\n",
    "The number of set2set computations M was chosen from the range 1 ≤ M ≤ 12. \n",
    "\n",
    "All models were trained using SGD with the ADAM optimizer (Kingma &Ba (2014)), with batch size 20 for 3 million steps ( 540 epochs). \n",
    "\n",
    "The initial learning rate was chosen uniformly between 1e−5 and 5e−4. We used a linear learning rate decay that began between 10% and 90% of the way through training and the initial learning rate l decayed to a final learning ate l ∗ F, using a decay factor F in the range [.01, 1].\n",
    "\n",
    "The QM-9 dataset has 130462 molecules in it. We randomly chose 10000 samples for validation, 10000 samples or testing, and used the rest for training. We use the validation set to do early stopping and model selection and we eport scores on the test set. \n",
    "\n",
    "All targets were normalized o have mean 0 and variance 1. We minimize the mean quared error between the model output and the target, although we evaluate mean absolute error."
   ]
  },
  {
   "cell_type": "code",
   "execution_count": 2,
   "id": "30fbbb52",
   "metadata": {},
   "outputs": [],
   "source": [
    "target = 0 # the first property is the one to be predicted\n",
    "\n",
    "class TargetTransform:\n",
    "    def __call__(self, data):\n",
    "        # Specify target.\n",
    "        data.y = data.y[:, target]\n",
    "        return data\n",
    "\n",
    "path = './datasets/QM9'\n",
    "transform = T.Compose([TargetTransform(), T.Distance(norm=False)]) # add the distance into edge attributes\n",
    "dataset = QM9(path, transform=transform)"
   ]
  },
  {
   "cell_type": "code",
   "execution_count": 3,
   "id": "61d540ae",
   "metadata": {},
   "outputs": [
    {
     "name": "stdout",
     "output_type": "stream",
     "text": [
      "After transformation:\n",
      "Data(x=[5, 11], edge_index=[2, 8], edge_attr=[8, 5], y=[1], pos=[5, 3], idx=[1], name='gdb_1', z=[5])\n",
      "tensor([[0, 0, 0, 0, 1, 2, 3, 4],\n",
      "        [1, 2, 3, 4, 0, 0, 0, 0]])\n",
      "tensor([[1.0000, 0.0000, 0.0000, 0.0000, 1.0919],\n",
      "        [1.0000, 0.0000, 0.0000, 0.0000, 1.0919],\n",
      "        [1.0000, 0.0000, 0.0000, 0.0000, 1.0919],\n",
      "        [1.0000, 0.0000, 0.0000, 0.0000, 1.0919],\n",
      "        [1.0000, 0.0000, 0.0000, 0.0000, 1.0919],\n",
      "        [1.0000, 0.0000, 0.0000, 0.0000, 1.0919],\n",
      "        [1.0000, 0.0000, 0.0000, 0.0000, 1.0919],\n",
      "        [1.0000, 0.0000, 0.0000, 0.0000, 1.0919]])\n",
      "Number of nodes: 5\n",
      "Number of edges: 8\n",
      "Average node degree: 1.60\n",
      "Has isolated nodes: False\n",
      "Has self-loops: False\n",
      "Is undirected: True\n"
     ]
    }
   ],
   "source": [
    "data = dataset[0]\n",
    "print('After transformation:')\n",
    "print(data)\n",
    "print(data.edge_index)\n",
    "print(data.edge_attr)\n",
    "# Gather some statistics about the graph.\n",
    "print(f'Number of nodes: {data.num_nodes}')\n",
    "print(f'Number of edges: {data.num_edges}')\n",
    "print(f'Average node degree: {data.num_edges / data.num_nodes:.2f}')\n",
    "print(f'Has isolated nodes: {data.has_isolated_nodes()}')\n",
    "print(f'Has self-loops: {data.has_self_loops()}')\n",
    "print(f'Is undirected: {data.is_undirected()}')"
   ]
  },
  {
   "cell_type": "code",
   "execution_count": 4,
   "id": "a84f4827",
   "metadata": {},
   "outputs": [],
   "source": [
    "model_name = \"b128_e100_r001_adam_mse_msgMean_edgeAttr_poolMaxAggr_2fc_wandb\""
   ]
  },
  {
   "cell_type": "code",
   "execution_count": 8,
   "id": "2de953ce",
   "metadata": {},
   "outputs": [
    {
     "data": {
      "text/html": [
       "Finishing last run (ID:er9zdrs8) before initializing another..."
      ],
      "text/plain": [
       "<IPython.core.display.HTML object>"
      ]
     },
     "metadata": {},
     "output_type": "display_data"
    },
    {
     "data": {
      "text/html": [
       "Waiting for W&B process to finish... <strong style=\"color:green\">(success).</strong>"
      ],
      "text/plain": [
       "<IPython.core.display.HTML object>"
      ]
     },
     "metadata": {},
     "output_type": "display_data"
    },
    {
     "data": {
      "application/vnd.jupyter.widget-view+json": {
       "model_id": "c7020bb255f744a99fdc311ec50d6ecc",
       "version_major": 2,
       "version_minor": 0
      },
      "text/plain": [
       "VBox(children=(Label(value='0.001 MB of 0.013 MB uploaded (0.000 MB deduped)\\r'), FloatProgress(value=0.049554…"
      ]
     },
     "metadata": {},
     "output_type": "display_data"
    },
    {
     "data": {
      "text/html": [
       " View run <strong style=\"color:#cdcd00\">upbeat-oath-2</strong> at: <a href=\"https://wandb.ai/ntuwb/b128_e100_r001_adam_mse_msgMean_edgeAttr_poolMaxAggr_2fc_wandb/runs/er9zdrs8\" target=\"_blank\">https://wandb.ai/ntuwb/b128_e100_r001_adam_mse_msgMean_edgeAttr_poolMaxAggr_2fc_wandb/runs/er9zdrs8</a><br/>Synced 5 W&B file(s), 0 media file(s), 0 artifact file(s) and 0 other file(s)"
      ],
      "text/plain": [
       "<IPython.core.display.HTML object>"
      ]
     },
     "metadata": {},
     "output_type": "display_data"
    },
    {
     "data": {
      "text/html": [
       "Find logs at: <code>./wandb/run-20230519_104312-er9zdrs8/logs</code>"
      ],
      "text/plain": [
       "<IPython.core.display.HTML object>"
      ]
     },
     "metadata": {},
     "output_type": "display_data"
    },
    {
     "data": {
      "text/html": [
       "Successfully finished last run (ID:er9zdrs8). Initializing new run:<br/>"
      ],
      "text/plain": [
       "<IPython.core.display.HTML object>"
      ]
     },
     "metadata": {},
     "output_type": "display_data"
    },
    {
     "data": {
      "text/html": [
       "wandb version 0.15.3 is available!  To upgrade, please run:\n",
       " $ pip install wandb --upgrade"
      ],
      "text/plain": [
       "<IPython.core.display.HTML object>"
      ]
     },
     "metadata": {},
     "output_type": "display_data"
    },
    {
     "data": {
      "text/html": [
       "Tracking run with wandb version 0.13.9"
      ],
      "text/plain": [
       "<IPython.core.display.HTML object>"
      ]
     },
     "metadata": {},
     "output_type": "display_data"
    },
    {
     "data": {
      "text/html": [
       "Run data is saved locally in <code>/mnt/c/Users/liuxr/Desktop/gnn/wandb/run-20230519_104555-1u6wo7vj</code>"
      ],
      "text/plain": [
       "<IPython.core.display.HTML object>"
      ]
     },
     "metadata": {},
     "output_type": "display_data"
    },
    {
     "data": {
      "text/html": [
       "Syncing run <strong><a href=\"https://wandb.ai/ntuwb/b128_e100_r001_adam_mse_msgMean_edgeAttr_poolMaxAggr_2fc_wandb/runs/1u6wo7vj\" target=\"_blank\">eternal-snow-3</a></strong> to <a href=\"https://wandb.ai/ntuwb/b128_e100_r001_adam_mse_msgMean_edgeAttr_poolMaxAggr_2fc_wandb\" target=\"_blank\">Weights & Biases</a> (<a href=\"https://wandb.me/run\" target=\"_blank\">docs</a>)<br/>"
      ],
      "text/plain": [
       "<IPython.core.display.HTML object>"
      ]
     },
     "metadata": {},
     "output_type": "display_data"
    },
    {
     "data": {
      "text/html": [
       " View project at <a href=\"https://wandb.ai/ntuwb/b128_e100_r001_adam_mse_msgMean_edgeAttr_poolMaxAggr_2fc_wandb\" target=\"_blank\">https://wandb.ai/ntuwb/b128_e100_r001_adam_mse_msgMean_edgeAttr_poolMaxAggr_2fc_wandb</a>"
      ],
      "text/plain": [
       "<IPython.core.display.HTML object>"
      ]
     },
     "metadata": {},
     "output_type": "display_data"
    },
    {
     "data": {
      "text/html": [
       " View run at <a href=\"https://wandb.ai/ntuwb/b128_e100_r001_adam_mse_msgMean_edgeAttr_poolMaxAggr_2fc_wandb/runs/1u6wo7vj\" target=\"_blank\">https://wandb.ai/ntuwb/b128_e100_r001_adam_mse_msgMean_edgeAttr_poolMaxAggr_2fc_wandb/runs/1u6wo7vj</a>"
      ],
      "text/plain": [
       "<IPython.core.display.HTML object>"
      ]
     },
     "metadata": {},
     "output_type": "display_data"
    },
    {
     "data": {
      "text/html": [
       "<button onClick=\"this.nextSibling.style.display='block';this.style.display='none';\">Display W&B run</button><iframe src=\"https://wandb.ai/ntuwb/b128_e100_r001_adam_mse_msgMean_edgeAttr_poolMaxAggr_2fc_wandb/runs/1u6wo7vj?jupyter=true\" style=\"border:none;width:100%;height:420px;display:none;\"></iframe>"
      ],
      "text/plain": [
       "<wandb.sdk.wandb_run.Run at 0x7f6278344fd0>"
      ]
     },
     "execution_count": 8,
     "metadata": {},
     "output_type": "execute_result"
    }
   ],
   "source": [
    "config = {\n",
    "    \"in_channels\": dataset.num_features,\n",
    "    \"out_channels\": 1,\n",
    "    \"hidden_dim_1\": 64,\n",
    "    \"hidden_dim_2\": 128,\n",
    "    \"hidden_dim_3\": 32,\n",
    "    \"lr\": 0.001,\n",
    "    \"batch_size\": 128,\n",
    "    \"num_epochs\": 100,\n",
    "    \"criterion\": nn.MSELoss(),\n",
    "    #\"nnconv_aggr\": 'mean',\n",
    "    }\n",
    "\n",
    "wandb.init(\n",
    "    # set the wandb project where this run will be logged\n",
    "    project=model_name,\n",
    "    \n",
    "    # track hyperparameters and run metadata\n",
    "    config=config\n",
    ")"
   ]
  },
  {
   "cell_type": "code",
   "execution_count": 9,
   "id": "10c96498",
   "metadata": {},
   "outputs": [],
   "source": [
    "logging.basicConfig(filename = model_name+'.log',\n",
    "                    level = logging.INFO,\n",
    "                    format = '%(asctime)s:%(levelname)s:%(message)s')\n",
    " \n",
    "logging.info(config)"
   ]
  },
  {
   "cell_type": "code",
   "execution_count": 10,
   "id": "b885d19d",
   "metadata": {},
   "outputs": [],
   "source": [
    "# Split datasets.\n",
    "torch.manual_seed(12345)\n",
    "dataset = dataset.shuffle()\n",
    "test_dataset = dataset[:10000]\n",
    "val_dataset = dataset[10000:20000]\n",
    "train_dataset = dataset[20000:]\n",
    "test_loader = DataLoader(test_dataset, batch_size=config[\"batch_size\"], shuffle=False) #10000\n",
    "val_loader = DataLoader(val_dataset, batch_size=config[\"batch_size\"], shuffle=False) #10000\n",
    "train_loader = DataLoader(train_dataset, batch_size=config[\"batch_size\"], shuffle=True) #110831"
   ]
  },
  {
   "cell_type": "code",
   "execution_count": 11,
   "id": "d1402f9a",
   "metadata": {},
   "outputs": [
    {
     "data": {
      "text/plain": [
       "Data(x=[13, 11], edge_index=[2, 28], edge_attr=[28, 5], y=[1], pos=[13, 3], idx=[1], name='gdb_49057', z=[13])"
      ]
     },
     "execution_count": 11,
     "metadata": {},
     "output_type": "execute_result"
    }
   ],
   "source": [
    "train_dataset[0]"
   ]
  },
  {
   "attachments": {},
   "cell_type": "markdown",
   "id": "9c710901",
   "metadata": {},
   "source": [
    "By defining the message() and update() functions, you control how information is propagated through the graph and how nodes update their representations based on the received messages. These functions enable the GNN to learn from the graph structure and capture useful information for the prediction task.\n",
    "\n",
    "During the forward() pass, the GNN iteratively performs message passing and aggregation steps across the graph, combining information from neighboring nodes to update each node's representation. The output of the forward() function provides the final representations that can be further processed or used for downstream tasks."
   ]
  },
  {
   "cell_type": "code",
   "execution_count": 12,
   "id": "37012e32",
   "metadata": {},
   "outputs": [],
   "source": [
    "# Define the customized message passing layer\n",
    "class GNN(MessagePassing):\n",
    "    def __init__(self, in_channels, out_channels):\n",
    "        super(GNN, self).__init__(aggr='mean')\n",
    "        self.lin = nn.Linear(in_channels, out_channels)\n",
    "        self.lin2 = nn.Linear(5, out_channels)\n",
    "\n",
    "    def forward(self, x, edge_index, edge_attr):\n",
    "        return self.propagate(edge_index, edge_attr=edge_attr,x=x)\n",
    "\n",
    "    def message(self, x_j, edge_attr):\n",
    "        return self.lin(x_j)+self.lin2(edge_attr) # can use different operators and assign them different weights\n",
    "        #represents the feature representations of the neighboring nodes.\n",
    "    \n",
    "    def update(self, aggr_out):\n",
    "        return aggr_out\n",
    "\n",
    "# Define the GNN-based model\n",
    "class GNNModel(nn.Module):\n",
    "    def __init__(self, in_channels, hidden_dim_1, hidden_dim_2, hidden_dim_3, out_channels):\n",
    "        super(GNNModel, self).__init__()\n",
    "        self.gnn = GNN(in_channels, hidden_dim_1)\n",
    "        self.global_pool = aggr.MaxAggregation()\n",
    "        self.fc1 = nn.Linear(hidden_dim_1, hidden_dim_3)\n",
    "        self.fc2 = nn.Linear(hidden_dim_3, out_channels)\n",
    "\n",
    "    def forward(self, data):\n",
    "        x, edge_index, edge_attr, batch = data.x, data.edge_index, data.edge_attr, data.batch\n",
    "        x = self.gnn(x, edge_index, edge_attr).relu()\n",
    "        x = self.global_pool(x,batch)\n",
    "        x = self.fc1(x).relu()\n",
    "        x = self.fc2(x)\n",
    "        return x"
   ]
  },
  {
   "cell_type": "code",
   "execution_count": 16,
   "id": "75ebc3b1",
   "metadata": {},
   "outputs": [],
   "source": [
    "# Define the GNN model\n",
    "class GNNModel(nn.Module):\n",
    "    def __init__(self, in_channels, hidden_dim_1, hidden_dim_2, hidden_dim_3, out_channels):\n",
    "        super(GNNModel, self).__init__()\n",
    "        #nn – A neural network that maps edge features edge_attr of shape [-1, num_edge_features] to shape [-1, in_channels * out_channels], e.g., defined by torch.nn.Sequential.\n",
    "        nn1 = nn.Sequential(nn.Linear(5, 128), ReLU(), nn.Linear(128, in_channels * hidden_dim_1)) # maps to in_channels * out_channels\n",
    "        self.conv1 = NNConv(in_channels, hidden_dim_1, nn1, aggr=config[\"nnconv_aggr\"]) #11*64\n",
    "        self.global_pool = aggr.MaxAggregation()\n",
    "        self.fc1 = nn.Linear(hidden_dim_1, hidden_dim_3)\n",
    "        self.fc2 = nn.Linear(hidden_dim_3, out_channels)\n",
    "\n",
    "    def forward(self, data):\n",
    "        x, edge_index, edge_attr, batch = data.x, data.edge_index, data.edge_attr, data.batch\n",
    "        x = self.conv1(x, edge_index, edge_attr).relu()\n",
    "        #x = global_mean_pool(x, batch)  # size = [batch_size, hidden_channels]\n",
    "        x = self.global_pool(x,batch)\n",
    "        x = self.fc1(x).relu()\n",
    "        x = self.fc2(x)\n",
    "        return x"
   ]
  },
  {
   "cell_type": "code",
   "execution_count": 13,
   "id": "9f21c023",
   "metadata": {},
   "outputs": [
    {
     "name": "stdout",
     "output_type": "stream",
     "text": [
      "GNNModel(\n",
      "  (gnn): GNN()\n",
      "  (global_pool): MaxAggregation()\n",
      "  (fc1): Linear(in_features=64, out_features=32, bias=True)\n",
      "  (fc2): Linear(in_features=32, out_features=1, bias=True)\n",
      ")\n"
     ]
    }
   ],
   "source": [
    "# Initialize the model, optimizer, and loss function\n",
    "model = GNNModel(config[\"in_channels\"], config[\"hidden_dim_1\"], config[\"hidden_dim_2\"], config[\"hidden_dim_3\"], config[\"out_channels\"])\n",
    "optimizer = optim.Adam(model.parameters(), lr=config[\"lr\"])\n",
    "print(model)\n",
    "logging.info(model)"
   ]
  },
  {
   "cell_type": "code",
   "execution_count": 14,
   "id": "b8283341",
   "metadata": {
    "collapsed": true
   },
   "outputs": [
    {
     "name": "stdout",
     "output_type": "stream",
     "text": [
      "Test Loss before training: 12.2103\n",
      "Epoch: 0, Training Loss: 1.7040\n",
      "Epoch: 0, Validation Loss: 1.3203\n",
      "Validation Loss Decreased(inf ---> 1.3203) \t Saving The Model\n",
      "Epoch: 1, Training Loss: 1.2605\n",
      "Epoch: 1, Validation Loss: 1.2706\n",
      "Validation Loss Decreased(1.3203 ---> 1.2706) \t Saving The Model\n",
      "Epoch: 2, Training Loss: 1.2281\n",
      "Epoch: 2, Validation Loss: 1.2351\n",
      "Validation Loss Decreased(1.2706 ---> 1.2351) \t Saving The Model\n",
      "Epoch: 3, Training Loss: 1.2170\n",
      "Epoch: 3, Validation Loss: 1.2218\n",
      "Validation Loss Decreased(1.2351 ---> 1.2218) \t Saving The Model\n",
      "Epoch: 4, Training Loss: 1.2111\n",
      "Epoch: 4, Validation Loss: 1.2230\n",
      "Epoch: 5, Training Loss: 1.1998\n",
      "Epoch: 5, Validation Loss: 1.2167\n",
      "Validation Loss Decreased(1.2218 ---> 1.2167) \t Saving The Model\n",
      "Epoch: 6, Training Loss: 1.1895\n",
      "Epoch: 6, Validation Loss: 1.2433\n",
      "Epoch: 7, Training Loss: 1.1803\n",
      "Epoch: 7, Validation Loss: 1.2080\n",
      "Validation Loss Decreased(1.2167 ---> 1.2080) \t Saving The Model\n",
      "Epoch: 8, Training Loss: 1.1726\n",
      "Epoch: 8, Validation Loss: 1.1798\n",
      "Validation Loss Decreased(1.2080 ---> 1.1798) \t Saving The Model\n",
      "Epoch: 9, Training Loss: 1.1637\n",
      "Epoch: 9, Validation Loss: 1.1756\n",
      "Validation Loss Decreased(1.1798 ---> 1.1756) \t Saving The Model\n",
      "Epoch: 10, Training Loss: 1.1605\n",
      "Epoch: 10, Validation Loss: 1.1761\n",
      "Epoch: 11, Training Loss: 1.1570\n",
      "Epoch: 11, Validation Loss: 1.1639\n",
      "Validation Loss Decreased(1.1756 ---> 1.1639) \t Saving The Model\n",
      "Epoch: 12, Training Loss: 1.1517\n",
      "Epoch: 12, Validation Loss: 1.1561\n",
      "Validation Loss Decreased(1.1639 ---> 1.1561) \t Saving The Model\n",
      "Epoch: 13, Training Loss: 1.1483\n",
      "Epoch: 13, Validation Loss: 1.1680\n",
      "Epoch: 14, Training Loss: 1.1425\n",
      "Epoch: 14, Validation Loss: 1.1563\n",
      "Epoch: 15, Training Loss: 1.1398\n",
      "Epoch: 15, Validation Loss: 1.1602\n",
      "Epoch: 16, Training Loss: 1.1343\n",
      "Epoch: 16, Validation Loss: 1.1411\n",
      "Validation Loss Decreased(1.1561 ---> 1.1411) \t Saving The Model\n",
      "Epoch: 17, Training Loss: 1.1294\n",
      "Epoch: 17, Validation Loss: 1.1254\n",
      "Validation Loss Decreased(1.1411 ---> 1.1254) \t Saving The Model\n",
      "Epoch: 18, Training Loss: 1.1232\n",
      "Epoch: 18, Validation Loss: 1.1341\n",
      "Epoch: 19, Training Loss: 1.1128\n",
      "Epoch: 19, Validation Loss: 1.1003\n",
      "Validation Loss Decreased(1.1254 ---> 1.1003) \t Saving The Model\n",
      "Epoch: 20, Training Loss: 1.1056\n",
      "Epoch: 20, Validation Loss: 1.0962\n",
      "Validation Loss Decreased(1.1003 ---> 1.0962) \t Saving The Model\n",
      "Epoch: 21, Training Loss: 1.0982\n",
      "Epoch: 21, Validation Loss: 1.1127\n",
      "Epoch: 22, Training Loss: 1.0942\n",
      "Epoch: 22, Validation Loss: 1.1183\n",
      "Epoch: 23, Training Loss: 1.0851\n",
      "Epoch: 23, Validation Loss: 1.0752\n",
      "Validation Loss Decreased(1.0962 ---> 1.0752) \t Saving The Model\n",
      "Epoch: 24, Training Loss: 1.0821\n",
      "Epoch: 24, Validation Loss: 1.0959\n",
      "Epoch: 25, Training Loss: 1.0774\n",
      "Epoch: 25, Validation Loss: 1.0860\n",
      "Epoch: 26, Training Loss: 1.0734\n",
      "Epoch: 26, Validation Loss: 1.0924\n",
      "Epoch: 27, Training Loss: 1.0714\n",
      "Epoch: 27, Validation Loss: 1.0579\n",
      "Validation Loss Decreased(1.0752 ---> 1.0579) \t Saving The Model\n",
      "Epoch: 28, Training Loss: 1.0663\n",
      "Epoch: 28, Validation Loss: 1.0562\n",
      "Validation Loss Decreased(1.0579 ---> 1.0562) \t Saving The Model\n",
      "Epoch: 29, Training Loss: 1.0679\n",
      "Epoch: 29, Validation Loss: 1.0676\n",
      "Epoch: 30, Training Loss: 1.0627\n",
      "Epoch: 30, Validation Loss: 1.0729\n",
      "Epoch: 31, Training Loss: 1.0670\n",
      "Epoch: 31, Validation Loss: 1.0570\n",
      "Epoch: 32, Training Loss: 1.0626\n",
      "Epoch: 32, Validation Loss: 1.0665\n",
      "Epoch: 33, Training Loss: 1.0592\n",
      "Epoch: 33, Validation Loss: 1.0733\n",
      "Epoch: 34, Training Loss: 1.0616\n",
      "Epoch: 34, Validation Loss: 1.0528\n",
      "Validation Loss Decreased(1.0562 ---> 1.0528) \t Saving The Model\n",
      "Epoch: 35, Training Loss: 1.0582\n",
      "Epoch: 35, Validation Loss: 1.0496\n",
      "Validation Loss Decreased(1.0528 ---> 1.0496) \t Saving The Model\n",
      "Epoch: 36, Training Loss: 1.0594\n",
      "Epoch: 36, Validation Loss: 1.0795\n",
      "Epoch: 37, Training Loss: 1.0566\n",
      "Epoch: 37, Validation Loss: 1.0518\n",
      "Epoch: 38, Training Loss: 1.0567\n",
      "Epoch: 38, Validation Loss: 1.0534\n",
      "Epoch: 39, Training Loss: 1.0553\n",
      "Epoch: 39, Validation Loss: 1.0798\n",
      "Epoch: 40, Training Loss: 1.0537\n",
      "Epoch: 40, Validation Loss: 1.0526\n",
      "Epoch: 41, Training Loss: 1.0521\n",
      "Epoch: 41, Validation Loss: 1.0488\n",
      "Validation Loss Decreased(1.0496 ---> 1.0488) \t Saving The Model\n",
      "Epoch: 42, Training Loss: 1.0482\n",
      "Epoch: 42, Validation Loss: 1.0547\n",
      "Epoch: 43, Training Loss: 1.0484\n",
      "Epoch: 43, Validation Loss: 1.0560\n",
      "Epoch: 44, Training Loss: 1.0466\n",
      "Epoch: 44, Validation Loss: 1.0775\n",
      "Epoch: 45, Training Loss: 1.0489\n",
      "Epoch: 45, Validation Loss: 1.0506\n",
      "Epoch: 46, Training Loss: 1.0480\n",
      "Epoch: 46, Validation Loss: 1.0482\n",
      "Validation Loss Decreased(1.0488 ---> 1.0482) \t Saving The Model\n",
      "Epoch: 47, Training Loss: 1.0468\n",
      "Epoch: 47, Validation Loss: 1.0437\n",
      "Validation Loss Decreased(1.0482 ---> 1.0437) \t Saving The Model\n",
      "Epoch: 48, Training Loss: 1.0451\n",
      "Epoch: 48, Validation Loss: 1.0565\n",
      "Epoch: 49, Training Loss: 1.0460\n",
      "Epoch: 49, Validation Loss: 1.0448\n",
      "Epoch: 50, Training Loss: 1.0455\n",
      "Epoch: 50, Validation Loss: 1.0604\n",
      "Epoch: 51, Training Loss: 1.0418\n",
      "Epoch: 51, Validation Loss: 1.0568\n",
      "Epoch: 52, Training Loss: 1.0414\n",
      "Epoch: 52, Validation Loss: 1.0374\n",
      "Validation Loss Decreased(1.0437 ---> 1.0374) \t Saving The Model\n",
      "Epoch: 53, Training Loss: 1.0408\n",
      "Epoch: 53, Validation Loss: 1.1339\n",
      "Epoch: 54, Training Loss: 1.0442\n",
      "Epoch: 54, Validation Loss: 1.0449\n",
      "Epoch: 55, Training Loss: 1.0428\n",
      "Epoch: 55, Validation Loss: 1.0441\n",
      "Epoch: 56, Training Loss: 1.0367\n",
      "Epoch: 56, Validation Loss: 1.0446\n",
      "Epoch: 57, Training Loss: 1.0405\n",
      "Epoch: 57, Validation Loss: 1.0375\n",
      "Epoch: 58, Training Loss: 1.0359\n",
      "Epoch: 58, Validation Loss: 1.0522\n",
      "Epoch: 59, Training Loss: 1.0352\n",
      "Epoch: 59, Validation Loss: 1.0630\n",
      "Epoch: 60, Training Loss: 1.0348\n",
      "Epoch: 60, Validation Loss: 1.0775\n",
      "Epoch: 61, Training Loss: 1.0373\n",
      "Epoch: 61, Validation Loss: 1.1169\n",
      "Epoch: 62, Training Loss: 1.0314\n",
      "Epoch: 62, Validation Loss: 1.0321\n",
      "Validation Loss Decreased(1.0374 ---> 1.0321) \t Saving The Model\n",
      "Epoch: 63, Training Loss: 1.0325\n",
      "Epoch: 63, Validation Loss: 1.0605\n",
      "Epoch: 64, Training Loss: 1.0310\n",
      "Epoch: 64, Validation Loss: 1.0683\n",
      "Epoch: 65, Training Loss: 1.0318\n",
      "Epoch: 65, Validation Loss: 1.0366\n",
      "Epoch: 66, Training Loss: 1.0293\n",
      "Epoch: 66, Validation Loss: 1.0382\n",
      "Epoch: 67, Training Loss: 1.0283\n",
      "Epoch: 67, Validation Loss: 1.0312\n",
      "Validation Loss Decreased(1.0321 ---> 1.0312) \t Saving The Model\n",
      "Epoch: 68, Training Loss: 1.0317\n",
      "Epoch: 68, Validation Loss: 1.0494\n",
      "Epoch: 69, Training Loss: 1.0272\n",
      "Epoch: 69, Validation Loss: 1.0381\n",
      "Epoch: 70, Training Loss: 1.0271\n",
      "Epoch: 70, Validation Loss: 1.0423\n",
      "Epoch: 71, Training Loss: 1.0271\n",
      "Epoch: 71, Validation Loss: 1.0287\n",
      "Validation Loss Decreased(1.0312 ---> 1.0287) \t Saving The Model\n",
      "Epoch: 72, Training Loss: 1.0287\n",
      "Epoch: 72, Validation Loss: 1.0951\n",
      "Epoch: 73, Training Loss: 1.0239\n",
      "Epoch: 73, Validation Loss: 1.0238\n",
      "Validation Loss Decreased(1.0287 ---> 1.0238) \t Saving The Model\n",
      "Epoch: 74, Training Loss: 1.0237\n",
      "Epoch: 74, Validation Loss: 1.0364\n",
      "Epoch: 75, Training Loss: 1.0256\n",
      "Epoch: 75, Validation Loss: 1.0311\n",
      "Epoch: 76, Training Loss: 1.0239\n",
      "Epoch: 76, Validation Loss: 1.0292\n",
      "Epoch: 77, Training Loss: 1.0229\n",
      "Epoch: 77, Validation Loss: 1.0273\n",
      "Epoch: 78, Training Loss: 1.0202\n",
      "Epoch: 78, Validation Loss: 1.0193\n",
      "Validation Loss Decreased(1.0238 ---> 1.0193) \t Saving The Model\n",
      "Epoch: 79, Training Loss: 1.0246\n",
      "Epoch: 79, Validation Loss: 1.0304\n",
      "Epoch: 80, Training Loss: 1.0180\n",
      "Epoch: 80, Validation Loss: 1.0309\n",
      "Epoch: 81, Training Loss: 1.0199\n",
      "Epoch: 81, Validation Loss: 1.0267\n",
      "Epoch: 82, Training Loss: 1.0196\n",
      "Epoch: 82, Validation Loss: 1.0199\n",
      "Epoch: 83, Training Loss: 1.0183\n",
      "Epoch: 83, Validation Loss: 1.0235\n",
      "Epoch: 84, Training Loss: 1.0195\n",
      "Epoch: 84, Validation Loss: 1.0245\n",
      "Epoch: 85, Training Loss: 1.0202\n",
      "Epoch: 85, Validation Loss: 1.0309\n",
      "Epoch: 86, Training Loss: 1.0146\n",
      "Epoch: 86, Validation Loss: 1.0165\n",
      "Validation Loss Decreased(1.0193 ---> 1.0165) \t Saving The Model\n",
      "Epoch: 87, Training Loss: 1.0129\n",
      "Epoch: 87, Validation Loss: 1.0161\n",
      "Validation Loss Decreased(1.0165 ---> 1.0161) \t Saving The Model\n",
      "Epoch: 88, Training Loss: 1.0101\n",
      "Epoch: 88, Validation Loss: 1.0144\n",
      "Validation Loss Decreased(1.0161 ---> 1.0144) \t Saving The Model\n",
      "Epoch: 89, Training Loss: 1.0104\n",
      "Epoch: 89, Validation Loss: 1.0216\n",
      "Epoch: 90, Training Loss: 1.0101\n",
      "Epoch: 90, Validation Loss: 1.0179\n"
     ]
    },
    {
     "name": "stdout",
     "output_type": "stream",
     "text": [
      "Epoch: 91, Training Loss: 1.0075\n",
      "Epoch: 91, Validation Loss: 1.0186\n",
      "Epoch: 92, Training Loss: 1.0086\n",
      "Epoch: 92, Validation Loss: 1.0179\n",
      "Epoch: 93, Training Loss: 1.0069\n",
      "Epoch: 93, Validation Loss: 1.0080\n",
      "Validation Loss Decreased(1.0144 ---> 1.0080) \t Saving The Model\n",
      "Epoch: 94, Training Loss: 1.0086\n",
      "Epoch: 94, Validation Loss: 1.0182\n",
      "Epoch: 95, Training Loss: 1.0036\n",
      "Epoch: 95, Validation Loss: 1.0123\n",
      "Epoch: 96, Training Loss: 1.0022\n",
      "Epoch: 96, Validation Loss: 1.0097\n",
      "Epoch: 97, Training Loss: 1.0046\n",
      "Epoch: 97, Validation Loss: 1.0163\n",
      "Epoch: 98, Training Loss: 1.0019\n",
      "Epoch: 98, Validation Loss: 1.0194\n",
      "Epoch: 99, Training Loss: 1.0013\n",
      "Epoch: 99, Validation Loss: 1.0633\n"
     ]
    },
    {
     "data": {
      "text/html": [
       "Waiting for W&B process to finish... <strong style=\"color:green\">(success).</strong>"
      ],
      "text/plain": [
       "<IPython.core.display.HTML object>"
      ]
     },
     "metadata": {},
     "output_type": "display_data"
    },
    {
     "name": "stderr",
     "output_type": "stream",
     "text": [
      "wandb: Network error (ConnectionError), entering retry loop.\n"
     ]
    },
    {
     "data": {
      "text/html": [
       "<style>\n",
       "    table.wandb td:nth-child(1) { padding: 0 10px; text-align: left ; width: auto;} td:nth-child(2) {text-align: left ; width: 100%}\n",
       "    .wandb-row { display: flex; flex-direction: row; flex-wrap: wrap; justify-content: flex-start; width: 100% }\n",
       "    .wandb-col { display: flex; flex-direction: column; flex-basis: 100%; flex: 1; padding: 10px; }\n",
       "    </style>\n",
       "<div class=\"wandb-row\"><div class=\"wandb-col\"><h3>Run history:</h3><br/><table class=\"wandb\"><tr><td>epoch</td><td>▁▁▁▁▂▂▂▂▂▃▃▃▃▃▃▄▄▄▄▄▅▅▅▅▅▅▆▆▆▆▆▇▇▇▇▇▇███</td></tr><tr><td>train_loss</td><td>█▃▃▃▃▂▂▂▂▂▂▂▂▂▂▂▂▁▁▁▁▁▁▁▁▁▁▁▁▁▁▁▁▁▁▁▁▁▁▁</td></tr><tr><td>validation_loss</td><td>█▆▆▅▅▄▄▄▃▃▃▂▂▂▂▂▂▂▂▂▂▄▂▂▃▂▂▂▁▁▁▁▁▁▁▁▁▁▁▂</td></tr></table><br/></div><div class=\"wandb-col\"><h3>Run summary:</h3><br/><table class=\"wandb\"><tr><td>epoch</td><td>99</td></tr><tr><td>train_loss</td><td>1.00132</td></tr><tr><td>validation_loss</td><td>1.06327</td></tr></table><br/></div></div>"
      ],
      "text/plain": [
       "<IPython.core.display.HTML object>"
      ]
     },
     "metadata": {},
     "output_type": "display_data"
    },
    {
     "data": {
      "text/html": [
       " View run <strong style=\"color:#cdcd00\">eternal-snow-3</strong> at: <a href=\"https://wandb.ai/ntuwb/b128_e100_r001_adam_mse_msgMean_edgeAttr_poolMaxAggr_2fc_wandb/runs/1u6wo7vj\" target=\"_blank\">https://wandb.ai/ntuwb/b128_e100_r001_adam_mse_msgMean_edgeAttr_poolMaxAggr_2fc_wandb/runs/1u6wo7vj</a><br/>Synced 6 W&B file(s), 0 media file(s), 0 artifact file(s) and 0 other file(s)"
      ],
      "text/plain": [
       "<IPython.core.display.HTML object>"
      ]
     },
     "metadata": {},
     "output_type": "display_data"
    },
    {
     "data": {
      "text/html": [
       "Find logs at: <code>./wandb/run-20230519_104555-1u6wo7vj/logs</code>"
      ],
      "text/plain": [
       "<IPython.core.display.HTML object>"
      ]
     },
     "metadata": {},
     "output_type": "display_data"
    },
    {
     "name": "stdout",
     "output_type": "stream",
     "text": [
      "Training time: 3191.134992837906\n"
     ]
    }
   ],
   "source": [
    "device = torch.device('cuda' if torch.cuda.is_available() else 'cpu')\n",
    "\n",
    "# Test before training\n",
    "model.eval()\n",
    "total_test_loss = 0\n",
    "\n",
    "with torch.no_grad():\n",
    "    for data in test_loader:\n",
    "        data = data.to(device)\n",
    "        output = model(data).flatten()\n",
    "        test_loss = config[\"criterion\"](output, data.y)\n",
    "        total_test_loss += test_loss.item() * data.num_graphs\n",
    "\n",
    "average_test_loss_before = total_test_loss / len(test_loader.dataset)\n",
    "print(f'Test Loss before training: {average_test_loss_before:.4f}')\n",
    "logging.info(f'Test Loss before training: {average_test_loss_before:.4f}')\n",
    "\n",
    "t0 = time.time()\n",
    "# Training loop\n",
    "model.to(device)\n",
    "model.train()\n",
    "\n",
    "min_valid_loss = np.inf\n",
    "loss_values = []\n",
    "val_loss_values = []\n",
    "\n",
    "for epoch in range(config[\"num_epochs\"]):\n",
    "    total_loss = 0\n",
    "    for batch in train_loader:\n",
    "        batch = batch.to(device)\n",
    "        optimizer.zero_grad()\n",
    "        output = model(batch).flatten()\n",
    "        loss = config[\"criterion\"](output, batch.y)\n",
    "        loss.backward()\n",
    "        optimizer.step()\n",
    "        total_loss += loss.item() * batch.num_graphs\n",
    "\n",
    "    average_loss = total_loss  / len(train_loader.dataset)\n",
    "    loss_values.append(average_loss)\n",
    "    print(f'Epoch: {epoch}, Training Loss: {average_loss:.4f}')\n",
    "    logging.info(f'Epoch: {epoch}, Training Loss: {average_loss:.4f}')\n",
    "    \n",
    "    # Validation step\n",
    "    model.eval()\n",
    "    total_val_loss = 0\n",
    "\n",
    "    with torch.no_grad():\n",
    "        for data in val_loader:\n",
    "            data = data.to(device)\n",
    "            output = model(data).flatten()\n",
    "            val_loss = config[\"criterion\"](output, data.y)\n",
    "            total_val_loss += val_loss.item() * data.num_graphs\n",
    "\n",
    "    average_val_loss = total_val_loss / len(val_loader.dataset)\n",
    "    val_loss_values.append(average_val_loss)\n",
    "    print(f'Epoch: {epoch}, Validation Loss: {average_val_loss:.4f}')\n",
    "    logging.info(f'Epoch: {epoch}, Validation Loss: {average_val_loss:.4f}')\n",
    "    # log metrics to wandb\n",
    "    wandb.log({\"epoch\":epoch, \"train_loss\": average_loss, \"validation_loss\": average_val_loss})\n",
    "    \n",
    "    # Update model if validation improved\n",
    "    if min_valid_loss > average_val_loss:\n",
    "        print(f'Validation Loss Decreased({min_valid_loss:.4f} ---> {average_val_loss:.4f}) \\t Saving The Model')\n",
    "        min_valid_loss = average_val_loss\n",
    "        # Saving State Dict\n",
    "        config[\"model_state\"] = model.state_dict()\n",
    "        FILE_path = \"model_\"+model_name+\".pth\"\n",
    "        torch.save(config, FILE_path)\n",
    "\n",
    "# [optional] finish the wandb run, necessary in notebooks\n",
    "wandb.finish()\n",
    "\n",
    "print(f'Training time: {time.time()-t0}')\n",
    "logging.info(f'Training time: {time.time()-t0}')"
   ]
  },
  {
   "cell_type": "code",
   "execution_count": null,
   "id": "e64dfbfa",
   "metadata": {},
   "outputs": [],
   "source": []
  },
  {
   "cell_type": "code",
   "execution_count": 20,
   "id": "e0f12812",
   "metadata": {},
   "outputs": [],
   "source": [
    "np.savetxt('./loss_values/loss_values_'+model_name+'.txt',loss_values)\n",
    "np.savetxt('./loss_values/val_loss_values_'+model_name+'.txt',val_loss_values)"
   ]
  },
  {
   "cell_type": "code",
   "execution_count": 21,
   "id": "955b026f",
   "metadata": {},
   "outputs": [],
   "source": [
    "loss_values = np.loadtxt(\"./loss_values/loss_values_\"+model_name+\".txt\")\n",
    "valid_loss_values = np.loadtxt(\"./loss_values/val_loss_values_\"+model_name+\".txt\")"
   ]
  },
  {
   "cell_type": "code",
   "execution_count": 22,
   "id": "22a50284",
   "metadata": {},
   "outputs": [
    {
     "data": {
      "image/png": "[encoded data removed]",
      "text/plain": [
       "<Figure size 640x480 with 1 Axes>"
      ]
     },
     "metadata": {},
     "output_type": "display_data"
    }
   ],
   "source": [
    "plt.plot(loss_values, label='train loss:'+model_name, ls='-', ms=20, markevery=100, alpha=0.5)\n",
    "plt.plot(valid_loss_values,'y', label='validation loss:'+model_name, ls='-', ms=20, markevery=100, alpha=0.8)\n",
    "\n",
    "#don't know why the markevery doesn't work\n",
    "plt.xlabel('epoch') \n",
    "plt.ylabel('loss') \n",
    "plt.title(\"Loss\")\n",
    "plt.legend()\n",
    "plt.show()"
   ]
  }
 ],
 "metadata": {
  "kernelspec": {
   "display_name": "Python 3 (ipykernel)",
   "language": "python",
   "name": "python3"
  },
  "language_info": {
   "codemirror_mode": {
    "name": "ipython",
    "version": 3
   },
   "file_extension": ".py",
   "mimetype": "text/x-python",
   "name": "python",
   "nbconvert_exporter": "python",
   "pygments_lexer": "ipython3",
   "version": "3.10.8"
  }
 },
 "nbformat": 4,
 "nbformat_minor": 5
}
